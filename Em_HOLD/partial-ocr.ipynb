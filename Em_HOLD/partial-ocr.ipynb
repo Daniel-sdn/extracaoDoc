{
 "cells": [
  {
   "cell_type": "markdown",
   "metadata": {},
   "source": [
    "# OCR Demo: Full vs. Partial OCR of Pages\n",
    "In v1.19.1 of PyMuPDF there are two choices of OCRing a document page: **_full_** or **_partial_**. In both cases, a `TextPage` object will be created - available for text extractions and text searches as usual. All these text processing methods have been extended with the new parameter `textpage` to allow referencing the OCR result.\n",
    "* A **_full OCR_** makes a photo of the page with the desired resolution and interprets it.\n",
    "   - All **_visible text_** on the page will be OCRed.\n",
    "   - All text will have Tesseract's \"GlyphlessFont\".\n",
    "   - May take around 2 seonds - depending on text amount and DPI.\n",
    "* A **_partial OCR_** interprets only the images displayed by the page.\n",
    "   - The DPI parameter is not needed, because the original images are OCRed.\n",
    "   - Text will be a **_mixture of normal and OCR text_**. Normal text retains its properties.\n",
    "   - Can be much faster than a full OCR."
   ]
  },
  {
   "cell_type": "code",
   "execution_count": 41,
   "metadata": {},
   "outputs": [],
   "source": [
    "import fitz\n",
    "\n",
    "if tuple(map(int, fitz.VersionBind.split(\".\"))) < (1, 19, 1):\n",
    "    raise ValueError(\"Need at least v1.19.1 of PyMuPDF\")\n",
    "\n",
    "# eample PDF contains normal text and two overlapping images\n",
    "doc = fitz.open(\"pipeline_extracao_documentos/2_documentos_para_extracao/01_testes/2023143.pdf\")\n",
    "page = doc[0]"
   ]
  },
  {
   "cell_type": "markdown",
   "metadata": {},
   "source": [
    "## Full Page OCR\n",
    "First make a **_full page OCR_**. Please take a look at the PDF and note the two little text lines. They are contained in a separate, non-transparent image, which covers some text of the larger image underneath it."
   ]
  },
  {
   "cell_type": "code",
   "execution_count": 60,
   "metadata": {},
   "outputs": [
    {
     "name": "stdout",
     "output_type": "stream",
     "text": [
      "Número da Nota:\n",
      "COLERAO INICIAL\n",
      "2023142\n",
      "ii\n",
      "ma\n",
      "PREFEITURA MUNICIPAL DE SAO PEDRO DA ALDEIA\n",
      "Competência:\n",
      "w |Pao\n",
      "SECRETARIA MUNICIPAL DA FAZENDA\n",
      "Julho/2023\n",
      "VOU\n",
      "UU\n",
      "UU\n",
      "NOTA FISCAL DE SERVIÇOS ELETRÔNICA - NFS-e\n",
      "HIOTIZODS 143.00\n",
      "QUALIDADE\n",
      "DE VIDA PARA TODOS\n",
      "Código Verificação:\n",
      "48D30FBCA\n",
      "PRESTADOR DE SERVIÇOS\n",
      "CPF/CNPJ:\n",
      "Inscrição Municipal:\n",
      "12.852.627/0001-50\n",
      "710407\n",
      "Telefone:\n",
      "Inscrição Estadual:\n",
      "2226274424..\n",
      "79.562.319\n",
      "Nome/Razão Social:\n",
      "D. VITORIANO PEREIRA\n",
      "Nome de Fantasia:\n",
      "dk\n",
      "Endereço:\n",
      "EST PAU FERRO ,SN LT 55\n",
      "A,CAMPO REDONDO- São Pedro da Aldeia-RJ\n",
      "E-mail:\n",
      "D.VITORIANOQOLIVE.COM\n",
      "TOMADOR DE SERVIÇOS\n",
      "CPF/CNPJ:\n",
      "RG:\n",
      "04.968.448/0001-54\n",
      "|\n",
      "'\n",
      "INSC:MUNICIPAL:\n",
      "Telefone:\n",
      "Inscrição Estadual:\n",
      "Nome/Razão Social:\n",
      "RECICLAR - RECICLAGEM ARARUAMA LTDA\n",
      "Endereço:\n",
      "CAJAZEIROS Nº 0 LT 8 QD B BAIRRO: PARQUE HOTEL CIDADE: ARARUAMA - RJ CEP: 28981382\n",
      "E-mail:\n",
      "Não Informado\n",
      "DISCRIMINAÇÃO DOS SERVIÇOS\n",
      "SERVIÇO DE SOLDA NO PISTÃO HIDRAULICO . OS 12497\n",
      "VALOR TOTAL DA NOTA: R$ 250,00\n",
      "CNAE - 2539-0/01 - SERVIÇOS DE USINAGEM, TORNEARIA E SOLDA\n",
      "Item da Lista de Serviços - 14.05 - RESTAURAÇÃO, RECONDICIONAMENTO, ACONDICIONAMENTO, PINTURA, BENEFICIAMENTO, LAVAGEM, SECAGEM,\n",
      "TINGIMENTO, GALVANOPLASTIA, ANODIZAÇÃO, CORTE, RECORTE, POLIMENTO, PLASTIFICAÇÃO E CONGENERES, DE OBJETOS Q\n",
      "VALOR SERVIÇOS:\n",
      "VALOR\n",
      "|\n",
      "DESC. INCOND: BASE DE\n",
      "ALÍQUOTA:\n",
      "VALOR ISS:\n",
      "VALOR ISS\n",
      "DESC. COND:\n",
      "R$\n",
      "250,00\n",
      "DEDUÇÃO:\n",
      "R$ 0,00\n",
      "CALCULO:\n",
      "2%\n",
      "R$ 5,00\n",
      "RETIDO:\n",
      "R$ 0,00\n",
      "[=]3\n",
      "ek = [=]\n",
      "R$ 0,00\n",
      "R$ 250,00\n",
      "R$ 0,00\n",
      "Ea a\n",
      "a\n",
      "gd\n",
      "pa\n",
      "'\n",
      ".\n",
      "ts\n",
      "A0\n",
      "VALOR PIS:\n",
      "VALOR COFINS: VALOR IR:\n",
      "VALOR INSS:\n",
      "VALOR CSLL:\n",
      "OUTRAS RETENÇÕES:\n",
      "VALOR LÍQUIDO:\n",
      "a\n",
      "adia\n",
      "dia\n",
      "R$ 0,00\n",
      "R$ 0,00\n",
      "R$ 0,00\n",
      "R$ 0,00\n",
      "R$ 0,00\n",
      "R$ 0,00\n",
      "R$ 250,00\n",
      "DADOS COMPLEMENTARES\n",
      "NÃO AUTORIZADO PAGAMENTO VIA DEPOSITO - TED/DOC ENCARGOS FINANCEIROS CALCULADOS POR DIA DE ATRASO AO PAGADOR: APOS 10 DIAS DO\n",
      "VENCIMENTO SUJEITOA INCLUSÃO SERASA OU PROTESTO POR NÃO PAGAMENTO SOLICITE A 2º VIA DO BOLETO: d.vitorianoQlive.com\n",
      "OUTRAS INFORMAÇÕES / CRITICAS\n",
      "EXIGIBILIDADE ISS\n",
      "REGIME TRIBUTAÇÃO\n",
      "SIMPLES NACIONAL\n",
      "ISSQN RETIDO\n",
      "LOCAL. PRESTAÇÃO\n",
      "LOCAL INCIDÊNCIA\n",
      "Exigivel\n",
      "Microempresário e Empresa\n",
      "Sim (2% )\n",
      "Não\n",
      "SERVIÇO\n",
      "São Pedro da Aldeia - RJ\n",
      "de PequenoPorte (ME EPP)\n",
      "São Pedro da Aldeia - RJ\n",
      "Observação: Valor Aproximado dos Tributos Federais R$ 33,62 (Alíq 13,45), Tributos Estaduais R$ 0,00 (Alíq 0,00 IBPT) e Municipal de R$ 11,83 (Alíq IBPT\n",
      "4,73 IBPT)\n",
      "Sistema desenvolvido pela Modernização Pública\n",
      "\n"
     ]
    }
   ],
   "source": [
    "# make the TextPage object. It does all the OCR.\n",
    "full_tp = page.get_textpage_ocr(flags=1, dpi=300, full=True, language='por')\n",
    "\n",
    "# now look at what we have got\n",
    "print(page.get_text(textpage=full_tp))"
   ]
  },
  {
   "cell_type": "markdown",
   "metadata": {},
   "source": [
    "Or blockwise output, getting rid of some of the unwanted linebreaks:"
   ]
  },
  {
   "cell_type": "code",
   "execution_count": 61,
   "metadata": {},
   "outputs": [
    {
     "name": "stdout",
     "output_type": "stream",
     "text": [
      "Número da Nota: \n",
      "COLERAO INICIAL 2023142 ii ma PREFEITURA MUNICIPAL DE SAO PEDRO DA ALDEIA Competência: w |Pao SECRETARIA MUNICIPAL DA FAZENDA Julho/2023 VOU UU UU NOTA FISCAL DE SERVIÇOS ELETRÔNICA - NFS-e HIOTIZODS 143.00 QUALIDADE DE VIDA PARA TODOS Código Verificação: 48D30FBCA \n",
      "PRESTADOR DE SERVIÇOS \n",
      "CPF/CNPJ: Inscrição Municipal: 12.852.627/0001-50 710407 \n",
      "Telefone: Inscrição Estadual: 2226274424.. 79.562.319 Nome/Razão Social: \n",
      "D. VITORIANO PEREIRA Nome de Fantasia: dk \n",
      "Endereço: EST PAU FERRO ,SN LT 55 A,CAMPO REDONDO- São Pedro da Aldeia-RJ E-mail: D.VITORIANOQOLIVE.COM \n",
      "TOMADOR DE SERVIÇOS \n",
      "CPF/CNPJ: RG: 04.968.448/0001-54 | ' INSC:MUNICIPAL: \n",
      "Telefone: Inscrição Estadual: \n",
      "Nome/Razão Social: RECICLAR - RECICLAGEM ARARUAMA LTDA Endereço: CAJAZEIROS Nº 0 LT 8 QD B BAIRRO: PARQUE HOTEL CIDADE: ARARUAMA - RJ CEP: 28981382 E-mail: Não Informado \n",
      "DISCRIMINAÇÃO DOS SERVIÇOS \n",
      "SERVIÇO DE SOLDA NO PISTÃO HIDRAULICO . OS 12497 \n",
      "VALOR TOTAL DA NOTA: R$ 250,00 \n",
      "CNAE - 2539-0/01 - SERVIÇOS DE USINAGEM, TORNEARIA E SOLDA Item da Lista de Serviços - 14.05 - RESTAURAÇÃO, RECONDICIONAMENTO, ACONDICIONAMENTO, PINTURA, BENEFICIAMENTO, LAVAGEM, SECAGEM, TINGIMENTO, GALVANOPLASTIA, ANODIZAÇÃO, CORTE, RECORTE, POLIMENTO, PLASTIFICAÇÃO E CONGENERES, DE OBJETOS Q \n",
      "VALOR SERVIÇOS: VALOR | DESC. INCOND: BASE DE ALÍQUOTA: VALOR ISS: VALOR ISS DESC. COND: R$ 250,00 DEDUÇÃO: R$ 0,00 CALCULO: 2% R$ 5,00 RETIDO: R$ 0,00 [=]3 ek = [=] R$ 0,00 R$ 250,00 R$ 0,00 \n",
      "Ea a a gd pa ' . ts A0 VALOR PIS: VALOR COFINS: VALOR IR: VALOR INSS: VALOR CSLL: OUTRAS RETENÇÕES: VALOR LÍQUIDO: a adia dia R$ 0,00 R$ 0,00 R$ 0,00 R$ 0,00 R$ 0,00 R$ 0,00 R$ 250,00 \n",
      "DADOS COMPLEMENTARES \n",
      "NÃO AUTORIZADO PAGAMENTO VIA DEPOSITO - TED/DOC ENCARGOS FINANCEIROS CALCULADOS POR DIA DE ATRASO AO PAGADOR: APOS 10 DIAS DO VENCIMENTO SUJEITOA INCLUSÃO SERASA OU PROTESTO POR NÃO PAGAMENTO SOLICITE A 2º VIA DO BOLETO: d.vitorianoQlive.com \n",
      "OUTRAS INFORMAÇÕES / CRITICAS \n",
      "EXIGIBILIDADE ISS REGIME TRIBUTAÇÃO SIMPLES NACIONAL ISSQN RETIDO LOCAL. PRESTAÇÃO LOCAL INCIDÊNCIA Exigivel Microempresário e Empresa Sim (2% ) Não SERVIÇO São Pedro da Aldeia - RJ de PequenoPorte (ME EPP) São Pedro da Aldeia - RJ \n",
      "Observação: Valor Aproximado dos Tributos Federais R$ 33,62 (Alíq 13,45), Tributos Estaduais R$ 0,00 (Alíq 0,00 IBPT) e Municipal de R$ 11,83 (Alíq IBPT 4,73 IBPT) \n",
      "Sistema desenvolvido pela Modernização Pública \n"
     ]
    }
   ],
   "source": [
    "blocks = page.get_text(\"blocks\", textpage=full_tp)\n",
    "for b in blocks:\n",
    "    print(b[4].replace(\"\\n\", \" \"))"
   ]
  },
  {
   "cell_type": "code",
   "execution_count": 68,
   "metadata": {},
   "outputs": [],
   "source": [
    "words = page.get_text(\"words\", textpage=full_tp)\n"
   ]
  },
  {
   "cell_type": "code",
   "execution_count": 111,
   "metadata": {},
   "outputs": [
    {
     "name": "stdout",
     "output_type": "stream",
     "text": [
      "(537.251708984375, 37.91236877441406, 552.3685913085938, 42.95381546020508, 'Nota:', 0, 0, 2)\n",
      "537.251708984375\n",
      "37.91236877441406\n",
      "552.3685913085938\n",
      "42.95381546020508\n",
      "Nota:\n",
      "0\n",
      "0\n",
      "2\n"
     ]
    }
   ],
   "source": [
    "string = \"Nota:\"\n",
    "for word in words:\n",
    "    if string in word:\n",
    "        print(word)\n",
    "        print(word[0])\n",
    "        print(word[1])\n",
    "        print(word[2])\n",
    "        print(word[3])\n",
    "        print(word[4])\n",
    "        print(word[5])\n",
    "        print(word[6])\n",
    "        print(word[7])"
   ]
  },
  {
   "cell_type": "code",
   "execution_count": 117,
   "metadata": {},
   "outputs": [
    {
     "name": "stdout",
     "output_type": "stream",
     "text": [
      "(125.25474548339844, 47.9903450012207, 210.37762451171875, 61.19412612915039, 'PREFEITURA', 1, 4, 0)\n"
     ]
    }
   ],
   "source": [
    "string = \"PREFEITURA\"\n",
    "for word in words:\n",
    "    if string in word:\n",
    "        print(word)\n",
    "       \n",
    "# (x0, y0, x1, y1, \"word\", block_no, line_no, word_no)        "
   ]
  },
  {
   "cell_type": "code",
   "execution_count": 118,
   "metadata": {},
   "outputs": [
    {
     "name": "stdout",
     "output_type": "stream",
     "text": [
      "(254.1087646484375, 113.01724243164062, 295.37811279296875, 119.25902557373047, 'PRESTADOR', 2, 0, 0)\n"
     ]
    }
   ],
   "source": [
    "string = \"PRESTADOR\"\n",
    "for word in words:\n",
    "    if string in word:\n",
    "        print(word)\n"
   ]
  },
  {
   "cell_type": "code",
   "execution_count": 119,
   "metadata": {},
   "outputs": [
    {
     "name": "stdout",
     "output_type": "stream",
     "text": [
      "(197.48019409179688, 242.35116577148438, 208.1700439453125, 253.15426635742188, 'RG:', 8, 1, 0)\n"
     ]
    }
   ],
   "source": [
    "string = \"RG:\"\n",
    "for word in words:\n",
    "    if string in word:\n",
    "        print(word)\n"
   ]
  },
  {
   "cell_type": "code",
   "execution_count": null,
   "metadata": {},
   "outputs": [],
   "source": [
    "def extract_text_from_coordinates(image, coordinates, config):\n",
    "    x0, y0, x1, y1 = coordinates\n",
    "    frame_image = image.crop((x0, y0, x1, y1))\n",
    "    extracted_text = pytesseract.image_to_string(frame_image, lang='por', config=config).strip()\n",
    "    return extracted_text  "
   ]
  },
  {
   "cell_type": "code",
   "execution_count": 120,
   "metadata": {},
   "outputs": [
    {
     "name": "stdout",
     "output_type": "stream",
     "text": [
      "(44.151100158691406, 144.21090698242188, 70.95127868652344, 152.3732452392578, 'Telefone:', 4, 0, 0)\n",
      "(44.151100158691406, 267.54608154296875, 70.98370361328125, 275.948486328125, 'Telefone:', 9, 0, 0)\n"
     ]
    }
   ],
   "source": [
    "string = \"Telefone:\"\n",
    "for word in words:\n",
    "    if string in word:\n",
    "        print(word)\n"
   ]
  },
  {
   "cell_type": "code",
   "execution_count": 121,
   "metadata": {},
   "outputs": [
    {
     "name": "stdout",
     "output_type": "stream",
     "text": [
      "(257.4681091308594, 230.11361694335938, 291.9684143066406, 236.35540771484375, 'TOMADOR', 7, 0, 0)\n"
     ]
    }
   ],
   "source": [
    "string = \"TOMADOR\"\n",
    "for word in words:\n",
    "    if string in word:\n",
    "        print(word)\n"
   ]
  },
  {
   "cell_type": "code",
   "execution_count": 122,
   "metadata": {},
   "outputs": [
    {
     "name": "stdout",
     "output_type": "stream",
     "text": [
      "(44.39105224609375, 126.21454620361328, 78.40419006347656, 134.61695861816406, 'CPF/CNPJ:', 3, 0, 0)\n",
      "(44.39105224609375, 242.35116577148438, 78.40419006347656, 253.15426635742188, 'CPF/CNPJ:', 8, 0, 0)\n"
     ]
    }
   ],
   "source": [
    "string = \"CPF/CNPJ:\"\n",
    "for word in words:\n",
    "    if string in word:\n",
    "        print(word)\n"
   ]
  },
  {
   "cell_type": "code",
   "execution_count": 78,
   "metadata": {},
   "outputs": [
    {
     "name": "stdout",
     "output_type": "stream",
     "text": [
      "(244.99061584472656, 334.25262451171875, 299.1429748535156, 341.69476318359375, 'DISCRIMINAÇÃO', 11, 0, 0)\n"
     ]
    }
   ],
   "source": [
    "string = \"DISCRIMINAÇÃO\"\n",
    "for word in words:\n",
    "    if string in word:\n",
    "        print(word)"
   ]
  },
  {
   "cell_type": "code",
   "execution_count": 82,
   "metadata": {},
   "outputs": [
    {
     "name": "stdout",
     "output_type": "stream",
     "text": [
      "(241.87123107910156, 516.3759155273438, 280.2154846191406, 527.6591186523438, 'TOTAL', 13, 0, 1)\n"
     ]
    }
   ],
   "source": [
    "string = \"TOTAL\"\n",
    "for word in words:\n",
    "    if string in word:\n",
    "        print(word)"
   ]
  },
  {
   "cell_type": "code",
   "execution_count": 83,
   "metadata": {},
   "outputs": [
    {
     "name": "stdout",
     "output_type": "stream",
     "text": [
      "(44.39105224609375, 533.8923950195312, 62.5457878112793, 543.2550659179688, 'CNAE', 14, 0, 0)\n"
     ]
    }
   ],
   "source": [
    "string = \"CNAE\"\n",
    "for word in words:\n",
    "    if string in word:\n",
    "        print(word)"
   ]
  },
  {
   "cell_type": "code",
   "execution_count": 85,
   "metadata": {},
   "outputs": [
    {
     "name": "stdout",
     "output_type": "stream",
     "text": [
      "(69.10607147216797, 541.5708618164062, 82.44136810302734, 550.9335327148438, 'Lista', 14, 1, 2)\n"
     ]
    }
   ],
   "source": [
    "string = \"Lista\"\n",
    "for word in words:\n",
    "    if string in word:\n",
    "        print(word)"
   ]
  },
  {
   "cell_type": "code",
   "execution_count": 86,
   "metadata": {},
   "outputs": [
    {
     "name": "stdout",
     "output_type": "stream",
     "text": [
      "(278.82379150390625, 658.9071655273438, 344.431396484375, 663.9486083984375, 'COMPLEMENTARES', 17, 0, 1)\n"
     ]
    }
   ],
   "source": [
    "string = \"COMPLEMENTARES\"\n",
    "for word in words:\n",
    "    if string in word:\n",
    "        print(word)"
   ]
  },
  {
   "cell_type": "code",
   "execution_count": 87,
   "metadata": {},
   "outputs": [
    {
     "name": "stdout",
     "output_type": "stream",
     "text": [
      "(326.3341979980469, 692.5004272460938, 357.2782897949219, 699.9425659179688, 'CRITICAS', 19, 0, 3)\n"
     ]
    }
   ],
   "source": [
    "string = \"CRITICAS\"\n",
    "for word in words:\n",
    "    if string in word:\n",
    "        print(word)"
   ]
  },
  {
   "cell_type": "code",
   "execution_count": 89,
   "metadata": {},
   "outputs": [
    {
     "name": "stdout",
     "output_type": "stream",
     "text": [
      "(46.790565490722656, 737.611328125, 86.32979583740234, 744.333251953125, 'Observação:', 21, 0, 0)\n"
     ]
    }
   ],
   "source": [
    "string = \"Observação:\"\n",
    "for word in words:\n",
    "    if string in word:\n",
    "        print(word)"
   ]
  },
  {
   "cell_type": "code",
   "execution_count": 115,
   "metadata": {},
   "outputs": [
    {
     "name": "stdout",
     "output_type": "stream",
     "text": [
      "(46.790565490722656, 737.611328125, 86.32979583740234, 744.333251953125, 'Observação:', 21, 0, 0)\n"
     ]
    }
   ],
   "source": [
    "string = \"Observação:\"\n",
    "for word in words:\n",
    "    if string in word:\n",
    "        print(word)"
   ]
  },
  {
   "cell_type": "code",
   "execution_count": 116,
   "metadata": {},
   "outputs": [
    {
     "name": "stdout",
     "output_type": "stream",
     "text": [
      "(219.07583618164062, 764.9657592773438, 244.4723663330078, 771.4476318359375, 'Sistema', 22, 0, 0)\n"
     ]
    }
   ],
   "source": [
    "string = \"Sistema\"\n",
    "for word in words:\n",
    "    if string in word:\n",
    "        print(word)"
   ]
  },
  {
   "cell_type": "code",
   "execution_count": null,
   "metadata": {},
   "outputs": [],
   "source": []
  },
  {
   "cell_type": "code",
   "execution_count": null,
   "metadata": {},
   "outputs": [],
   "source": []
  },
  {
   "cell_type": "code",
   "execution_count": null,
   "metadata": {},
   "outputs": [],
   "source": []
  },
  {
   "cell_type": "code",
   "execution_count": 67,
   "metadata": {},
   "outputs": [],
   "source": [
    "for word in page.get_text(\"words\", sort=False):\n",
    "        print(word)"
   ]
  },
  {
   "cell_type": "markdown",
   "metadata": {},
   "source": [
    "Not very impressive either way: the original text (last 4 lines) was detected ok, but text in the pictures looks quite garbled ... no surprise!\n",
    "\n",
    "> Please note, that the OCR process scans the page from top-left to bottom-right - which therefore also is the sequence of the extraction.\n",
    "\n",
    "This is what we get when looking at details of each text span:"
   ]
  },
  {
   "cell_type": "code",
   "execution_count": 62,
   "metadata": {},
   "outputs": [
    {
     "name": "stdout",
     "output_type": "stream",
     "text": [
      "GlyphLessFont IRect(501, 37, 526, 43) Número\n",
      "GlyphLessFont IRect(525, 37, 535, 43)  da\n",
      "GlyphLessFont IRect(534, 37, 553, 43)  Nota:\n",
      "GlyphLessFont IRect(63, 45, 79, 55) COLERAO\n",
      "GlyphLessFont IRect(78, 45, 100, 55)  INICIAL\n",
      "GlyphLessFont IRect(524, 45, 553, 55) 2023142\n",
      "GlyphLessFont IRect(47, 47, 67, 62) ii\n",
      "GlyphLessFont IRect(86, 47, 87, 62) ma\n",
      "GlyphLessFont IRect(125, 47, 211, 62) PREFEITURA\n",
      "GlyphLessFont IRect(210, 47, 288, 62)  MUNICIPAL\n",
      "GlyphLessFont IRect(287, 47, 310, 62)  DE\n",
      "GlyphLessFont IRect(309, 47, 343, 62)  SAO\n",
      "GlyphLessFont IRect(342, 47, 395, 62)  PEDRO\n",
      "GlyphLessFont IRect(394, 47, 419, 62)  DA\n",
      "GlyphLessFont IRect(418, 47, 472, 62)  ALDEIA\n",
      "GlyphLessFont IRect(511, 47, 552, 62) Competência:\n",
      "GlyphLessFont IRect(47, 57, 55, 77) w\n",
      "GlyphLessFont IRect(54, 57, 60, 77)  |\n",
      "GlyphLessFont IRect(62, 57, 117, 77) Pao\n",
      "GlyphLessFont IRect(227, 57, 276, 77) SECRETARIA\n",
      "GlyphLessFont IRect(275, 57, 318, 77)  MUNICIPAL\n",
      "GlyphLessFont IRect(317, 57, 332, 77)  DA\n",
      "GlyphLessFont IRect(331, 57, 369, 77)  FAZENDA\n",
      "GlyphLessFont IRect(514, 57, 553, 77) Julho/2023\n",
      "GlyphLessFont IRect(47, 68, 57, 84) VOU\n",
      "GlyphLessFont IRect(75, 68, 76, 84) UU\n",
      "GlyphLessFont IRect(88, 68, 90, 84) UU\n",
      "GlyphLessFont IRect(207, 68, 228, 84) NOTA\n",
      "GlyphLessFont IRect(227, 68, 257, 84)  FISCAL\n",
      "GlyphLessFont IRect(256, 68, 361, 84)  DE SERVIÇOS ELETRÔNICA\n",
      "GlyphLessFont IRect(360, 68, 366, 84)  -\n",
      "GlyphLessFont IRect(365, 68, 389, 84)  NFS-e\n",
      "GlyphLessFont IRect(482, 68, 521, 84) HIOTIZODS\n",
      "GlyphLessFont IRect(520, 68, 553, 84)  143.00\n",
      "GlyphLessFont IRect(48, 80, 89, 90) QUALIDADE\n",
      "GlyphLessFont IRect(72, 77, 77, 92) DE\n",
      "GlyphLessFont IRect(76, 77, 88, 92)  VIDA\n",
      "GlyphLessFont IRect(87, 77, 101, 92)  PARA\n",
      "GlyphLessFont IRect(100, 77, 115, 92)  TODOS\n",
      "GlyphLessFont IRect(495, 77, 516, 92) Código\n",
      "GlyphLessFont IRect(515, 77, 552, 92)  Verificação:\n",
      "GlyphLessFont IRect(510, 92, 553, 99) 48D30FBCA\n",
      "GlyphLessFont IRect(254, 113, 296, 120) PRESTADOR\n",
      "GlyphLessFont IRect(295, 113, 307, 120)  DE\n",
      "GlyphLessFont IRect(306, 113, 343, 120)  SERVIÇOS\n",
      "GlyphLessFont IRect(44, 126, 79, 135) CPF/CNPJ:\n",
      "GlyphLessFont IRect(191, 126, 218, 135) Inscrição\n",
      "GlyphLessFont IRect(217, 126, 250, 135)  Municipal:\n",
      "GlyphLessFont IRect(48, 135, 115, 142) 12.852.627/0001-50\n",
      "GlyphLessFont IRect(192, 135, 218, 142) 710407\n",
      "GlyphLessFont IRect(44, 144, 71, 153) Telefone:\n",
      "GlyphLessFont IRect(191, 144, 218, 153) Inscrição\n",
      "GlyphLessFont IRect(217, 144, 247, 153)  Estadual:\n",
      "GlyphLessFont IRect(48, 152, 94, 162) 2226274424..\n",
      "GlyphLessFont IRect(192, 152, 230, 162) 79.562.319\n",
      "GlyphLessFont IRect(44, 161, 84, 167) Nome/Razão\n",
      "GlyphLessFont IRect(83, 161, 106, 167)  Social:\n",
      "GlyphLessFont IRect(46, 170, 53, 176) D.\n",
      "GlyphLessFont IRect(52, 170, 92, 176)  VITORIANO\n",
      "GlyphLessFont IRect(91, 170, 124, 176)  PEREIRA\n",
      "GlyphLessFont IRect(44, 177, 62, 183) Nome\n",
      "GlyphLessFont IRect(61, 177, 72, 183)  de\n",
      "GlyphLessFont IRect(71, 177, 101, 183)  Fantasia:\n",
      "GlyphLessFont IRect(44, 185, 53, 189) dk\n",
      "GlyphLessFont IRect(44, 194, 75, 201) Endereço:\n",
      "GlyphLessFont IRect(46, 200, 59, 210) EST\n",
      "GlyphLessFont IRect(58, 200, 75, 210)  PAU\n",
      "GlyphLessFont IRect(74, 200, 101, 210)  FERRO\n",
      "GlyphLessFont IRect(100, 200, 113, 210)  ,SN\n",
      "GlyphLessFont IRect(112, 200, 124, 210)  LT\n",
      "GlyphLessFont IRect(123, 200, 133, 210)  55\n",
      "GlyphLessFont IRect(141, 200, 168, 210) A,CAMPO\n",
      "GlyphLessFont IRect(167, 200, 204, 210)  REDONDO\n",
      "GlyphLessFont IRect(203, 200, 207, 210) -\n",
      "GlyphLessFont IRect(206, 200, 223, 210)  São\n",
      "GlyphLessFont IRect(222, 200, 244, 210)  Pedro\n",
      "GlyphLessFont IRect(243, 200, 254, 210)  da\n",
      "GlyphLessFont IRect(253, 200, 286, 210)  Aldeia-RJ\n",
      "GlyphLessFont IRect(44, 208, 65, 215) E-mail:\n",
      "GlyphLessFont IRect(46, 216, 129, 223) D.VITORIANOQOLIVE.COM\n",
      "GlyphLessFont IRect(257, 230, 292, 237) TOMADOR\n",
      "GlyphLessFont IRect(291, 230, 304, 237)  DE\n",
      "GlyphLessFont IRect(303, 230, 340, 237)  SERVIÇOS\n",
      "GlyphLessFont IRect(44, 242, 79, 254) CPF/CNPJ:\n",
      "GlyphLessFont IRect(197, 242, 209, 254) RG:\n",
      "GlyphLessFont IRect(48, 251, 115, 259) 04.968.448/0001-54\n",
      "GlyphLessFont IRect(124, 251, 126, 259) |\n",
      "GlyphLessFont IRect(207, 251, 209, 259) '\n",
      "GlyphLessFont IRect(44, 259, 108, 266) INSC:MUNICIPAL:\n",
      "GlyphLessFont IRect(44, 267, 71, 276) Telefone:\n",
      "GlyphLessFont IRect(197, 267, 224, 276) Inscrição\n",
      "GlyphLessFont IRect(223, 267, 254, 276)  Estadual:\n",
      "GlyphLessFont IRect(44, 284, 84, 290) Nome/Razão\n",
      "GlyphLessFont IRect(83, 284, 106, 290)  Social:\n",
      "GlyphLessFont IRect(46, 291, 81, 297) RECICLAR\n",
      "GlyphLessFont IRect(80, 291, 86, 297)  -\n",
      "GlyphLessFont IRect(85, 291, 132, 297)  RECICLAGEM\n",
      "GlyphLessFont IRect(131, 291, 174, 297)  ARARUAMA\n",
      "GlyphLessFont IRect(173, 291, 193, 297)  LTDA\n",
      "GlyphLessFont IRect(44, 299, 75, 306) Endereço:\n",
      "GlyphLessFont IRect(48, 306, 92, 313) CAJAZEIROS\n",
      "GlyphLessFont IRect(91, 306, 101, 313)  Nº\n",
      "GlyphLessFont IRect(100, 306, 107, 313)  0\n",
      "GlyphLessFont IRect(106, 306, 117, 313)  LT\n",
      "GlyphLessFont IRect(116, 306, 122, 313)  8\n",
      "GlyphLessFont IRect(121, 306, 134, 313)  QD\n",
      "GlyphLessFont IRect(133, 306, 141, 313)  B\n",
      "GlyphLessFont IRect(140, 306, 171, 313)  BAIRRO:\n",
      "GlyphLessFont IRect(170, 306, 202, 313)  PARQUE\n",
      "GlyphLessFont IRect(201, 306, 227, 313)  HOTEL\n",
      "GlyphLessFont IRect(226, 306, 256, 313)  CIDADE:\n",
      "GlyphLessFont IRect(255, 306, 298, 313)  ARARUAMA\n",
      "GlyphLessFont IRect(297, 306, 302, 313)  -\n",
      "GlyphLessFont IRect(301, 306, 312, 313)  RJ\n",
      "GlyphLessFont IRect(311, 306, 330, 313)  CEP:\n",
      "GlyphLessFont IRect(329, 306, 362, 313)  28981382\n",
      "GlyphLessFont IRect(44, 314, 65, 320) E-mail:\n",
      "GlyphLessFont IRect(46, 321, 59, 327) Não\n",
      "GlyphLessFont IRect(58, 321, 94, 327)  Informado\n",
      "GlyphLessFont IRect(244, 334, 300, 342) DISCRIMINAÇÃO\n",
      "GlyphLessFont IRect(299, 334, 316, 342)  DOS\n",
      "GlyphLessFont IRect(315, 334, 353, 342)  SERVIÇOS\n",
      "GlyphLessFont IRect(44, 347, 75, 356) SERVIÇO\n",
      "GlyphLessFont IRect(74, 347, 86, 356)  DE\n",
      "GlyphLessFont IRect(85, 347, 111, 356)  SOLDA\n",
      "GlyphLessFont IRect(110, 347, 122, 356)  NO\n",
      "GlyphLessFont IRect(121, 347, 149, 356)  PISTÃO\n",
      "GlyphLessFont IRect(148, 347, 193, 356)  HIDRAULICO\n",
      "GlyphLessFont IRect(192, 347, 196, 356)  .\n",
      "GlyphLessFont IRect(195, 347, 208, 356)  OS\n",
      "GlyphLessFont IRect(207, 347, 229, 356)  12497\n",
      "GlyphLessFont IRect(197, 516, 239, 528) VALOR\n",
      "GlyphLessFont IRect(238, 516, 281, 528)  TOTAL\n",
      "GlyphLessFont IRect(280, 516, 301, 528)  DA\n",
      "GlyphLessFont IRect(300, 516, 340, 528)  NOTA:\n",
      "GlyphLessFont IRect(339, 516, 360, 528)  R$\n",
      "GlyphLessFont IRect(359, 516, 400, 528)  250,00\n",
      "GlyphLessFont IRect(44, 533, 63, 544) CNAE\n",
      "GlyphLessFont IRect(62, 533, 67, 544)  -\n",
      "GlyphLessFont IRect(66, 533, 98, 544)  2539-0/01\n",
      "GlyphLessFont IRect(97, 533, 104, 544)  -\n",
      "GlyphLessFont IRect(103, 533, 140, 544)  SERVIÇOS\n",
      "GlyphLessFont IRect(139, 533, 152, 544)  DE\n",
      "GlyphLessFont IRect(151, 533, 191, 544)  USINAGEM,\n",
      "GlyphLessFont IRect(190, 533, 231, 544)  TORNEARIA\n",
      "GlyphLessFont IRect(230, 533, 239, 544)  E\n",
      "GlyphLessFont IRect(238, 533, 264, 544)  SOLDA\n",
      "GlyphLessFont IRect(44, 541, 57, 551) Item\n",
      "GlyphLessFont IRect(56, 541, 67, 551)  da\n",
      "GlyphLessFont IRect(66, 541, 83, 551)  Lista\n",
      "GlyphLessFont IRect(82, 541, 92, 551)  de\n",
      "GlyphLessFont IRect(91, 541, 120, 551)  Serviços\n",
      "GlyphLessFont IRect(119, 541, 125, 551)  -\n",
      "GlyphLessFont IRect(124, 541, 143, 551)  14.05\n",
      "GlyphLessFont IRect(142, 541, 148, 551)  -\n",
      "GlyphLessFont IRect(147, 541, 358, 551)  RESTAURAÇÃO, RECONDICIONAMENTO, ACONDICIONAMENTO,\n",
      "GlyphLessFont IRect(357, 541, 391, 551)  PINTURA,\n",
      "GlyphLessFont IRect(390, 541, 453, 551)  BENEFICIAMENTO,\n",
      "GlyphLessFont IRect(452, 541, 490, 551)  LAVAGEM,\n",
      "GlyphLessFont IRect(489, 541, 528, 551)  SECAGEM,\n",
      "GlyphLessFont IRect(44, 550, 88, 557) TINGIMENTO,\n",
      "GlyphLessFont IRect(87, 550, 151, 557)  GALVANOPLASTIA,\n",
      "GlyphLessFont IRect(150, 550, 199, 557)  ANODIZAÇÃO,\n",
      "GlyphLessFont IRect(198, 550, 227, 557)  CORTE,\n",
      "GlyphLessFont IRect(226, 550, 264, 557)  RECORTE,\n",
      "GlyphLessFont IRect(263, 550, 307, 557)  POLIMENTO,\n",
      "GlyphLessFont IRect(306, 550, 362, 557)  PLASTIFICAÇÃO\n",
      "GlyphLessFont IRect(361, 550, 369, 557)  E\n",
      "GlyphLessFont IRect(368, 550, 421, 557)  CONGENERES,\n",
      "GlyphLessFont IRect(420, 550, 432, 557)  DE\n",
      "GlyphLessFont IRect(431, 550, 465, 557)  OBJETOS\n",
      "GlyphLessFont IRect(464, 550, 473, 557)  Q\n",
      "GlyphLessFont IRect(105, 570, 128, 577) VALOR\n",
      "GlyphLessFont IRect(127, 570, 166, 577)  SERVIÇOS:\n",
      "GlyphLessFont IRect(176, 570, 200, 577) VALOR\n",
      "GlyphLessFont IRect(202, 576, 205, 578) |\n",
      "GlyphLessFont IRect(233, 568, 253, 584) DESC.\n",
      "GlyphLessFont IRect(252, 568, 283, 584)  INCOND:\n",
      "GlyphLessFont IRect(282, 568, 303, 584)  BASE\n",
      "GlyphLessFont IRect(302, 568, 314, 584)  DE\n",
      "GlyphLessFont IRect(340, 568, 376, 584) ALÍQUOTA:\n",
      "GlyphLessFont IRect(392, 568, 415, 584) VALOR\n",
      "GlyphLessFont IRect(414, 568, 429, 584)  ISS:\n",
      "GlyphLessFont IRect(448, 568, 471, 584) VALOR\n",
      "GlyphLessFont IRect(470, 568, 483, 584)  ISS\n",
      "GlyphLessFont IRect(504, 568, 524, 584) DESC.\n",
      "GlyphLessFont IRect(523, 568, 548, 584)  COND:\n",
      "GlyphLessFont IRect(105, 568, 114, 584) R$\n",
      "GlyphLessFont IRect(115, 576, 136, 593) 250,00\n",
      "GlyphLessFont IRect(177, 576, 212, 593) DEDUÇÃO:\n",
      "GlyphLessFont IRect(233, 576, 242, 593) R$\n",
      "GlyphLessFont IRect(241, 576, 256, 593)  0,00\n",
      "GlyphLessFont IRect(284, 576, 318, 593) CALCULO:\n",
      "GlyphLessFont IRect(340, 576, 350, 593) 2%\n",
      "GlyphLessFont IRect(392, 576, 401, 593) R$\n",
      "GlyphLessFont IRect(400, 576, 416, 593)  5,00\n",
      "GlyphLessFont IRect(448, 576, 475, 593) RETIDO:\n",
      "GlyphLessFont IRect(504, 576, 513, 593) R$\n",
      "GlyphLessFont IRect(512, 576, 527, 593)  0,00\n",
      "GlyphLessFont IRect(45, 576, 63, 593) [=]3\n",
      "GlyphLessFont IRect(67, 580, 69, 594) ek\n",
      "GlyphLessFont IRect(68, 580, 83, 594)  =\n",
      "GlyphLessFont IRect(82, 580, 98, 594)  [=]\n",
      "GlyphLessFont IRect(177, 580, 186, 594) R$\n",
      "GlyphLessFont IRect(185, 580, 201, 594)  0,00\n",
      "GlyphLessFont IRect(285, 580, 293, 594) R$\n",
      "GlyphLessFont IRect(292, 580, 316, 594)  250,00\n",
      "GlyphLessFont IRect(448, 580, 457, 594) R$\n",
      "GlyphLessFont IRect(456, 580, 472, 594)  0,00\n",
      "GlyphLessFont IRect(50, 597, 59, 623) E\n",
      "GlyphLessFont IRect(61, 597, 82, 623) a\n",
      "GlyphLessFont IRect(81, 597, 94, 623)  a\n",
      "GlyphLessFont IRect(55, 611, 59, 618) a\n",
      "GlyphLessFont IRect(79, 611, 94, 618) gd\n",
      "GlyphLessFont IRect(75, 610, 83, 633) pa\n",
      "GlyphLessFont IRect(451, 610, 454, 633) '\n",
      "GlyphLessFont IRect(532, 610, 534, 633) .\n",
      "GlyphLessFont IRect(46, 610, 74, 633) ts\n",
      "GlyphLessFont IRect(79, 619, 83, 629) A\n",
      "GlyphLessFont IRect(84, 619, 94, 629) 0\n",
      "GlyphLessFont IRect(105, 619, 127, 629) VALOR\n",
      "GlyphLessFont IRect(126, 619, 142, 629)  PIS:\n",
      "GlyphLessFont IRect(176, 619, 199, 629) VALOR\n",
      "GlyphLessFont IRect(198, 619, 228, 629)  COFINS:\n",
      "GlyphLessFont IRect(227, 619, 255, 629)  VALOR\n",
      "GlyphLessFont IRect(254, 619, 265, 629)  IR:\n",
      "GlyphLessFont IRect(284, 619, 307, 629) VALOR\n",
      "GlyphLessFont IRect(306, 619, 326, 629)  INSS:\n",
      "GlyphLessFont IRect(340, 619, 363, 629) VALOR\n",
      "GlyphLessFont IRect(362, 619, 383, 629)  CSLL:\n",
      "GlyphLessFont IRect(392, 619, 420, 629) OUTRAS\n",
      "GlyphLessFont IRect(419, 619, 466, 629)  RETENÇÕES:\n",
      "GlyphLessFont IRect(503, 619, 526, 629) VALOR\n",
      "GlyphLessFont IRect(525, 619, 558, 629)  LÍQUIDO:\n",
      "GlyphLessFont IRect(61, 626, 63, 635) a\n",
      "GlyphLessFont IRect(67, 626, 70, 635) adia\n",
      "GlyphLessFont IRect(76, 626, 85, 635) dia\n",
      "GlyphLessFont IRect(105, 626, 114, 635) R$\n",
      "GlyphLessFont IRect(113, 626, 129, 635)  0,00\n",
      "GlyphLessFont IRect(177, 626, 186, 635) R$\n",
      "GlyphLessFont IRect(185, 626, 201, 635)  0,00\n",
      "GlyphLessFont IRect(233, 626, 242, 635) R$\n",
      "GlyphLessFont IRect(241, 626, 256, 635)  0,00\n",
      "GlyphLessFont IRect(285, 626, 293, 635) R$\n",
      "GlyphLessFont IRect(292, 626, 308, 635)  0,00\n",
      "GlyphLessFont IRect(340, 626, 349, 635) R$\n",
      "GlyphLessFont IRect(348, 626, 364, 635)  0,00\n",
      "GlyphLessFont IRect(392, 626, 401, 635) R$\n",
      "GlyphLessFont IRect(400, 626, 416, 635)  0,00\n",
      "GlyphLessFont IRect(504, 626, 513, 635) R$\n",
      "GlyphLessFont IRect(512, 626, 535, 635)  250,00\n",
      "GlyphLessFont IRect(252, 658, 277, 664) DADOS\n",
      "GlyphLessFont IRect(276, 658, 345, 664)  COMPLEMENTARES\n",
      "GlyphLessFont IRect(44, 671, 59, 681) NÃO\n",
      "GlyphLessFont IRect(58, 671, 105, 681)  AUTORIZADO\n",
      "GlyphLessFont IRect(104, 671, 150, 681)  PAGAMENTO\n",
      "GlyphLessFont IRect(149, 671, 163, 681)  VIA\n",
      "GlyphLessFont IRect(162, 671, 199, 681)  DEPOSITO\n",
      "GlyphLessFont IRect(198, 671, 204, 681)  -\n",
      "GlyphLessFont IRect(203, 671, 236, 681)  TED/DOC\n",
      "GlyphLessFont IRect(235, 671, 277, 681)  ENCARGOS\n",
      "GlyphLessFont IRect(276, 671, 325, 681)  FINANCEIROS\n",
      "GlyphLessFont IRect(324, 671, 373, 681)  CALCULADOS\n",
      "GlyphLessFont IRect(372, 671, 390, 681)  POR\n",
      "GlyphLessFont IRect(389, 671, 404, 681)  DIA\n",
      "GlyphLessFont IRect(403, 671, 415, 681)  DE\n",
      "GlyphLessFont IRect(414, 671, 444, 681)  ATRASO\n",
      "GlyphLessFont IRect(443, 671, 455, 681)  AO\n",
      "GlyphLessFont IRect(454, 671, 492, 681)  PAGADOR:\n",
      "GlyphLessFont IRect(491, 671, 513, 681)  APOS\n",
      "GlyphLessFont IRect(512, 671, 523, 681)  10\n",
      "GlyphLessFont IRect(522, 671, 541, 681)  DIAS\n",
      "GlyphLessFont IRect(540, 671, 553, 681)  DO\n",
      "GlyphLessFont IRect(44, 680, 89, 686) VENCIMENTO\n",
      "GlyphLessFont IRect(88, 680, 126, 686)  SUJEITO\n",
      "GlyphLessFont IRect(121, 678, 125, 688) A\n",
      "GlyphLessFont IRect(124, 678, 162, 688)  INCLUSÃO\n",
      "GlyphLessFont IRect(161, 678, 191, 688)  SERASA\n",
      "GlyphLessFont IRect(190, 678, 203, 688)  OU\n",
      "GlyphLessFont IRect(202, 678, 241, 688)  PROTESTO\n",
      "GlyphLessFont IRect(240, 678, 258, 688)  POR\n",
      "GlyphLessFont IRect(257, 678, 319, 688)  NÃO PAGAMENTO\n",
      "GlyphLessFont IRect(318, 678, 352, 688)  SOLICITE\n",
      "GlyphLessFont IRect(351, 678, 366, 688)  A 2º\n",
      "GlyphLessFont IRect(365, 678, 379, 688)  VIA\n",
      "GlyphLessFont IRect(378, 678, 390, 688)  DO\n",
      "GlyphLessFont IRect(389, 678, 421, 688)  BOLETO:\n",
      "GlyphLessFont IRect(420, 678, 486, 688)  d.vitorianoQlive.com\n",
      "GlyphLessFont IRect(239, 692, 268, 700) OUTRAS\n",
      "GlyphLessFont IRect(267, 692, 320, 700)  INFORMAÇÕES\n",
      "GlyphLessFont IRect(319, 692, 325, 700)  /\n",
      "GlyphLessFont IRect(324, 692, 358, 700)  CRITICAS\n",
      "GlyphLessFont IRect(57, 705, 106, 714) EXIGIBILIDADE\n",
      "GlyphLessFont IRect(105, 705, 119, 714)  ISS\n",
      "GlyphLessFont IRect(141, 705, 168, 714) REGIME\n",
      "GlyphLessFont IRect(167, 705, 213, 714)  TRIBUTAÇÃO\n",
      "GlyphLessFont IRect(235, 705, 265, 714) SIMPLES\n",
      "GlyphLessFont IRect(264, 705, 301, 714)  NACIONAL\n",
      "GlyphLessFont IRect(327, 705, 347, 714) ISSQN\n",
      "GlyphLessFont IRect(346, 705, 375, 714)  RETIDO\n",
      "GlyphLessFont IRect(396, 705, 420, 714) LOCAL.\n",
      "GlyphLessFont IRect(419, 705, 463, 714)  PRESTAÇÃO\n",
      "GlyphLessFont IRect(480, 705, 503, 714) LOCAL\n",
      "GlyphLessFont IRect(502, 705, 544, 714)  INCIDÊNCIA\n",
      "GlyphLessFont IRect(75, 713, 100, 723) Exigivel\n",
      "GlyphLessFont IRect(132, 713, 186, 723) Microempresário\n",
      "GlyphLessFont IRect(185, 713, 192, 723)  e\n",
      "GlyphLessFont IRect(191, 713, 222, 723)  Empresa\n",
      "GlyphLessFont IRect(252, 713, 265, 723) Sim\n",
      "GlyphLessFont IRect(264, 713, 280, 723)  (2%\n",
      "GlyphLessFont IRect(279, 713, 285, 723)  )\n",
      "GlyphLessFont IRect(344, 713, 357, 723) Não\n",
      "GlyphLessFont IRect(414, 713, 444, 723) SERVIÇO\n",
      "GlyphLessFont IRect(472, 713, 485, 723) São\n",
      "GlyphLessFont IRect(484, 713, 506, 723)  Pedro\n",
      "GlyphLessFont IRect(505, 713, 515, 723)  da\n",
      "GlyphLessFont IRect(514, 713, 537, 723)  Aldeia\n",
      "GlyphLessFont IRect(536, 713, 542, 723)  -\n",
      "GlyphLessFont IRect(541, 713, 552, 723)  RJ\n",
      "GlyphLessFont IRect(133, 722, 141, 729) de\n",
      "GlyphLessFont IRect(140, 722, 189, 729)  PequenoPorte\n",
      "GlyphLessFont IRect(188, 722, 203, 729)  (ME\n",
      "GlyphLessFont IRect(202, 722, 221, 729)  EPP)\n",
      "GlyphLessFont IRect(389, 722, 402, 729) São\n",
      "GlyphLessFont IRect(401, 722, 433, 729)  Pedro da\n",
      "GlyphLessFont IRect(432, 722, 455, 729)  Aldeia\n",
      "GlyphLessFont IRect(454, 722, 459, 729)  -\n",
      "GlyphLessFont IRect(458, 722, 469, 729)  RJ\n",
      "GlyphLessFont IRect(46, 737, 87, 745) Observação:\n",
      "GlyphLessFont IRect(86, 737, 106, 745)  Valor\n",
      "GlyphLessFont IRect(105, 737, 147, 745)  Aproximado\n",
      "GlyphLessFont IRect(146, 737, 161, 745)  dos\n",
      "GlyphLessFont IRect(160, 737, 190, 745)  Tributos\n",
      "GlyphLessFont IRect(189, 737, 219, 745)  Federais\n",
      "GlyphLessFont IRect(218, 737, 230, 745)  R$\n",
      "GlyphLessFont IRect(229, 737, 249, 745)  33,62\n",
      "GlyphLessFont IRect(248, 737, 288, 745)  (Alíq 13,45),\n",
      "GlyphLessFont IRect(287, 737, 317, 745)  Tributos\n",
      "GlyphLessFont IRect(316, 737, 351, 745)  Estaduais\n",
      "GlyphLessFont IRect(350, 737, 361, 745)  R$\n",
      "GlyphLessFont IRect(360, 737, 376, 745)  0,00\n",
      "GlyphLessFont IRect(375, 737, 393, 745)  (Alíq\n",
      "GlyphLessFont IRect(392, 737, 408, 745)  0,00\n",
      "GlyphLessFont IRect(407, 737, 428, 745)  IBPT)\n",
      "GlyphLessFont IRect(427, 737, 466, 745)  e Municipal\n",
      "GlyphLessFont IRect(465, 737, 476, 745)  de\n",
      "GlyphLessFont IRect(475, 737, 487, 745)  R$\n",
      "GlyphLessFont IRect(486, 737, 505, 745)  11,83\n",
      "GlyphLessFont IRect(504, 737, 522, 745)  (Alíq\n",
      "GlyphLessFont IRect(521, 737, 540, 745)  IBPT\n",
      "GlyphLessFont IRect(46, 745, 60, 752) 4,73\n",
      "GlyphLessFont IRect(59, 745, 79, 752)  IBPT)\n",
      "GlyphLessFont IRect(219, 764, 245, 772) Sistema\n",
      "GlyphLessFont IRect(244, 764, 290, 772)  desenvolvido\n",
      "GlyphLessFont IRect(289, 764, 305, 772)  pela\n",
      "GlyphLessFont IRect(304, 764, 352, 772)  Modernização\n",
      "GlyphLessFont IRect(351, 764, 378, 772)  Pública\n"
     ]
    }
   ],
   "source": [
    "for block in page.get_text(\"dict\", textpage=full_tp)[\"blocks\"]:\n",
    "    for line in block[\"lines\"]:\n",
    "        for span in line[\"spans\"]:\n",
    "            bbox = fitz.Rect(span[\"bbox\"]).irect  # just to make it short in the display\n",
    "            print( span[\"font\"], bbox, span[\"text\"])"
   ]
  },
  {
   "cell_type": "markdown",
   "metadata": {},
   "source": [
    "## Partial OCR\n",
    "Let's see what a **_partial OCR_** can do for us.\n",
    "\n",
    "A partial OCR `TextPage` internally stores text in the following sequence:\n",
    "1. Normal text\n",
    "2. OCR text from images in the same sequence as the page displays those images\n",
    "\n",
    "So we better use the `sort` parameter of text extraction."
   ]
  },
  {
   "cell_type": "code",
   "execution_count": 63,
   "metadata": {},
   "outputs": [],
   "source": [
    "partial_tp = page.get_textpage_ocr(flags=1, full=False, language='por')"
   ]
  },
  {
   "cell_type": "code",
   "execution_count": null,
   "metadata": {},
   "outputs": [],
   "source": [
    "extractDICT()"
   ]
  },
  {
   "cell_type": "code",
   "execution_count": 64,
   "metadata": {},
   "outputs": [
    {
     "data": {
      "text/plain": [
       "<fitz.fitz.TextPage; proxy of <Swig Object of type 'TextPage *' at 0x7efcfc6aa0d0> >"
      ]
     },
     "execution_count": 64,
     "metadata": {},
     "output_type": "execute_result"
    }
   ],
   "source": [
    "partial_tp"
   ]
  },
  {
   "cell_type": "code",
   "execution_count": 65,
   "metadata": {},
   "outputs": [
    {
     "name": "stdout",
     "output_type": "stream",
     "text": [
      "Em\n",
      "gusta\n",
      "\n"
     ]
    }
   ],
   "source": [
    "print(page.get_text(textpage=partial_tp, sort=False))"
   ]
  },
  {
   "cell_type": "code",
   "execution_count": 45,
   "metadata": {},
   "outputs": [
    {
     "name": "stdout",
     "output_type": "stream",
     "text": [
      "Em\n",
      "gusta\n",
      "\n"
     ]
    }
   ],
   "source": [
    "partial_tp = page.get_textpage_ocr(flags=0, full=False, language='por')\n",
    "\n",
    "# look at the result\n",
    "print(page.get_text(textpage=partial_tp, sort=True))  # sort by vertical, then horizontal"
   ]
  },
  {
   "cell_type": "markdown",
   "metadata": {},
   "source": [
    "This is very much better. Looking again at span details:"
   ]
  },
  {
   "cell_type": "code",
   "execution_count": 66,
   "metadata": {},
   "outputs": [
    {
     "name": "stdout",
     "output_type": "stream",
     "text": [
      "GlyphLessFont IRect(482, 141, 552, 185) Em\n",
      "GlyphLessFont IRect(46, 581, 96, 602) gusta\n"
     ]
    }
   ],
   "source": [
    "for block in page.get_text(\"dict\", textpage=partial_tp, sort=True)[\"blocks\"]:\n",
    "    for line in block[\"lines\"]:\n",
    "        for span in line[\"spans\"]:\n",
    "            bbox = fitz.Rect(span[\"bbox\"]).irect  # just to make it short\n",
    "            print( span[\"font\"], bbox, span[\"text\"])"
   ]
  },
  {
   "cell_type": "markdown",
   "metadata": {},
   "source": [
    "As mentioned, normal text is **_not OCRed_** in this case, so keeps its own font, fontsize, position information, etc. Whereas OCRed text appears with Tesseract's `GlyphLessFont`.\n",
    "\n",
    "> During its internal processing, MuPDF treats every word returned by Tesseract as a separate text span."
   ]
  },
  {
   "attachments": {},
   "cell_type": "markdown",
   "metadata": {},
   "source": [
    "## Performance\n",
    "We mentioned in the beginning, that the OCR work is done during `TextPage` creation. Already without OCR, textpage creation is the most time consuming part of text processing.\n",
    "\n",
    "Creating OCR textpages may easily take 100 to several thousand times longer. It therefore by all means should happen only once per document page.\n",
    "\n",
    "The new `textpage` parameter in all text processing methods allows referring to an existing textpage and will suppress creating another one.\n",
    "\n",
    "Here are some performance comparisons for our example page:"
   ]
  },
  {
   "cell_type": "code",
   "execution_count": 9,
   "metadata": {},
   "outputs": [
    {
     "name": "stdout",
     "output_type": "stream",
     "text": [
      "454 µs ± 10.7 µs per loop (mean ± std. dev. of 7 runs, 1,000 loops each)\n"
     ]
    }
   ],
   "source": [
    "# normal text extraction - no OCR\n",
    "%timeit page.get_textpage(flags=0)  # suppress image extraction"
   ]
  },
  {
   "cell_type": "code",
   "execution_count": 11,
   "metadata": {},
   "outputs": [
    {
     "name": "stdout",
     "output_type": "stream",
     "text": [
      "1.02 s ± 16.3 ms per loop (mean ± std. dev. of 7 runs, 1 loop each)\n"
     ]
    }
   ],
   "source": [
    "# full page OCR\n",
    "%timeit page.get_textpage_ocr(flags=0, full=True, dpi=300, language='por', tessdata=\"C:\\\\Program Files\\\\Tesseract-OCR\\\\tessdata\")"
   ]
  },
  {
   "cell_type": "code",
   "execution_count": 12,
   "metadata": {},
   "outputs": [
    {
     "name": "stdout",
     "output_type": "stream",
     "text": [
      "20.8 ms ± 1.02 ms per loop (mean ± std. dev. of 7 runs, 10 loops each)\n"
     ]
    }
   ],
   "source": [
    "# partial OCR\n",
    "%timeit page.get_textpage_ocr(flags=0, full=False, language='por', tessdata=\"C:\\\\Program Files\\\\Tesseract-OCR\\\\tessdata\")"
   ]
  },
  {
   "cell_type": "markdown",
   "metadata": {},
   "source": [
    "The above numbers illustrate that OCRing a page is time consuming! Creating an OCR `TextPage` may be several thousand times slower.\n",
    "\n",
    "Once you **_have_** the textpage however, **_processing_** its text is as fast as it ever was:"
   ]
  },
  {
   "cell_type": "code",
   "execution_count": 13,
   "metadata": {},
   "outputs": [
    {
     "name": "stdout",
     "output_type": "stream",
     "text": [
      "30.7 µs ± 1.3 µs per loop (mean ± std. dev. of 7 runs, 10,000 loops each)\n"
     ]
    }
   ],
   "source": [
    "# normal textpage\n",
    "normal_tp = page.get_textpage(flags=0)\n",
    "%timeit page.get_text(textpage=normal_tp)"
   ]
  },
  {
   "cell_type": "code",
   "execution_count": 54,
   "metadata": {},
   "outputs": [
    {
     "name": "stdout",
     "output_type": "stream",
     "text": [
      "45.4 µs ± 626 ns per loop (mean ± std. dev. of 7 runs, 10,000 loops each)\n"
     ]
    }
   ],
   "source": [
    "# full page OCR\n",
    "%timeit page.get_text(textpage=full_tp)"
   ]
  },
  {
   "cell_type": "code",
   "execution_count": 53,
   "metadata": {},
   "outputs": [
    {
     "name": "stdout",
     "output_type": "stream",
     "text": [
      "3.39 µs ± 59.4 ns per loop (mean ± std. dev. of 7 runs, 100,000 loops each)\n"
     ]
    }
   ],
   "source": [
    "# partial page OCR\n",
    "%timeit page.get_text(textpage=partial_tp)"
   ]
  },
  {
   "cell_type": "code",
   "execution_count": null,
   "metadata": {},
   "outputs": [],
   "source": []
  },
  {
   "cell_type": "code",
   "execution_count": 2,
   "metadata": {},
   "outputs": [],
   "source": [
    "from operator import itemgetter\n",
    "from itertools import groupby\n",
    "import fitz\n"
   ]
  },
  {
   "cell_type": "code",
   "execution_count": 3,
   "metadata": {},
   "outputs": [],
   "source": [
    "\n",
    "\n",
    "# ==============================================================================\n",
    "# Function ParseTab - parse a document table into a Python list of lists\n",
    "# ==============================================================================\n",
    "def ParseTab(page, bbox, columns=None):\n",
    "    \"\"\"Returns the parsed table of a page in a PDF / (open) XPS / EPUB document.\n",
    "    Parameters:\n",
    "    page: fitz.Page object\n",
    "    bbox: containing rectangle, list of numbers [xmin, ymin, xmax, ymax]\n",
    "    columns: optional list of column coordinates. If None, columns are generated\n",
    "    Returns the parsed table as a list of lists of strings.\n",
    "    The number of rows is determined automatically\n",
    "    from parsing the specified rectangle.\n",
    "    \"\"\"\n",
    "    tab_rect = fitz.Rect(bbox).irect\n",
    "    xmin, ymin, xmax, ymax = tuple(tab_rect)\n",
    "\n",
    "    if tab_rect.is_empty or tab_rect.is_infinite:\n",
    "        print(\"Warning: incorrect rectangle coordinates!\")\n",
    "        return []\n",
    "\n",
    "    if type(columns) is not list or columns == []:\n",
    "        coltab = [tab_rect.x0, tab_rect.x1]\n",
    "    else:\n",
    "        coltab = sorted(columns)\n",
    "\n",
    "    if xmin < min(coltab):\n",
    "        coltab.insert(0, xmin)\n",
    "    if xmax > coltab[-1]:\n",
    "        coltab.append(xmax)\n",
    "\n",
    "    words = page.get_text(\"words\")\n",
    "\n",
    "    if words == []:\n",
    "        print(\"Warning: page contains no text\")\n",
    "        return []\n",
    "\n",
    "    alltxt = []\n",
    "\n",
    "    # get words contained in table rectangle and distribute them into columns\n",
    "    for w in words:\n",
    "        ir = fitz.Rect(w[:4]).irect  # word rectangle\n",
    "        if ir in tab_rect:\n",
    "            cnr = 0  # column index\n",
    "            for i in range(1, len(coltab)):  # loop over column coordinates\n",
    "                if ir.x0 < coltab[i]:  # word start left of column border\n",
    "                    cnr = i - 1\n",
    "                    break\n",
    "            alltxt.append([ir.x0, ir.y0, ir.x1, cnr, w[4]])\n",
    "\n",
    "    if alltxt == []:\n",
    "        print(\"Warning: no text found in rectangle!\")\n",
    "        return []\n",
    "\n",
    "    alltxt.sort(key=itemgetter(1))  # sort words vertically\n",
    "\n",
    "    # create the table / matrix\n",
    "    spantab = []  # the output matrix\n",
    "\n",
    "    for y, zeile in groupby(alltxt, itemgetter(1)):\n",
    "        schema = [\"\"] * (len(coltab) - 1)\n",
    "        for c, words in groupby(zeile, itemgetter(3)):\n",
    "            entry = \" \".join([w[4] for w in words])\n",
    "            schema[c] = entry\n",
    "        spantab.append(schema)\n",
    "\n",
    "    return spantab"
   ]
  },
  {
   "cell_type": "code",
   "execution_count": 4,
   "metadata": {},
   "outputs": [],
   "source": [
    "import fitz"
   ]
  },
  {
   "cell_type": "code",
   "execution_count": null,
   "metadata": {},
   "outputs": [],
   "source": [
    "\n",
    "\n",
    "\n",
    "\n",
    "table = ParseTab(doc, 20, [0, 0, 500, 700])"
   ]
  },
  {
   "cell_type": "code",
   "execution_count": 5,
   "metadata": {},
   "outputs": [],
   "source": [
    "doc = fitz.Document(r\".\\PyMuPDF_examples\\272519EC-959B-4460-BBE6-D80D272B9ACD.PDF\")"
   ]
  },
  {
   "cell_type": "code",
   "execution_count": 12,
   "metadata": {},
   "outputs": [
    {
     "ename": "AttributeError",
     "evalue": "'Document' object has no attribute 'get_text'",
     "output_type": "error",
     "traceback": [
      "\u001b[1;31m---------------------------------------------------------------------------\u001b[0m",
      "\u001b[1;31mAttributeError\u001b[0m                            Traceback (most recent call last)",
      "Cell \u001b[1;32mIn[12], line 1\u001b[0m\n\u001b[1;32m----> 1\u001b[0m table \u001b[39m=\u001b[39m ParseTab(doc, [\u001b[39m0\u001b[39;49m, \u001b[39m0\u001b[39;49m, \u001b[39m5\u001b[39;49m, \u001b[39m600\u001b[39;49m])\n",
      "Cell \u001b[1;32mIn[3], line 31\u001b[0m, in \u001b[0;36mParseTab\u001b[1;34m(page, bbox, columns)\u001b[0m\n\u001b[0;32m     28\u001b[0m \u001b[39mif\u001b[39;00m xmax \u001b[39m>\u001b[39m coltab[\u001b[39m-\u001b[39m\u001b[39m1\u001b[39m]:\n\u001b[0;32m     29\u001b[0m     coltab\u001b[39m.\u001b[39mappend(xmax)\n\u001b[1;32m---> 31\u001b[0m words \u001b[39m=\u001b[39m page\u001b[39m.\u001b[39;49mget_text(\u001b[39m\"\u001b[39m\u001b[39mwords\u001b[39m\u001b[39m\"\u001b[39m)\n\u001b[0;32m     33\u001b[0m \u001b[39mif\u001b[39;00m words \u001b[39m==\u001b[39m []:\n\u001b[0;32m     34\u001b[0m     \u001b[39mprint\u001b[39m(\u001b[39m\"\u001b[39m\u001b[39mWarning: page contains no text\u001b[39m\u001b[39m\"\u001b[39m)\n",
      "\u001b[1;31mAttributeError\u001b[0m: 'Document' object has no attribute 'get_text'"
     ]
    }
   ],
   "source": [
    "table = ParseTab(doc, [0, 0, 5, 600])"
   ]
  }
 ],
 "metadata": {
  "interpreter": {
   "hash": "dacf40ba69c4e52f13991c9802a7e3e4c13661a31627ca571217c8b5d093ad33"
  },
  "kernelspec": {
   "display_name": "Python 3.9.6 64-bit",
   "name": "python3"
  },
  "language_info": {
   "codemirror_mode": {
    "name": "ipython",
    "version": 3
   },
   "file_extension": ".py",
   "mimetype": "text/x-python",
   "name": "python",
   "nbconvert_exporter": "python",
   "pygments_lexer": "ipython3",
   "version": "3.10.12"
  },
  "orig_nbformat": 4
 },
 "nbformat": 4,
 "nbformat_minor": 2
}
