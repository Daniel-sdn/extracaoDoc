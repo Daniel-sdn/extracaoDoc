{
 "cells": [
  {
   "cell_type": "markdown",
   "metadata": {},
   "source": [
    "# Extracting text from images with OCR Tesseract"
   ]
  },
  {
   "cell_type": "markdown",
   "metadata": {},
   "source": [
    "## OCR com Tesseract"
   ]
  },
  {
   "cell_type": "code",
   "execution_count": 1,
   "metadata": {},
   "outputs": [],
   "source": [
    "import os\n",
    "import re\n",
    "from unidecode import unidecode\n",
    "from unicodedata import normalize\n",
    "from fuzzywuzzy import fuzz\n",
    "import locale\n",
    "import time, copy"
   ]
  },
  {
   "cell_type": "code",
   "execution_count": 2,
   "metadata": {},
   "outputs": [],
   "source": [
    "from pdf2image import convert_from_path"
   ]
  },
  {
   "cell_type": "code",
   "execution_count": 89,
   "metadata": {},
   "outputs": [],
   "source": [
    "def encontrar_valores3(texto, marcador1, marcador2):\n",
    "    # Certificando-se de que todos os parâmetros são strings\n",
    "    if isinstance(texto, list):\n",
    "        texto = '\\n'.join(texto)\n",
    "    if not isinstance(marcador1, str):\n",
    "        marcador1 = str(marcador1)\n",
    "    if not isinstance(marcador2, str):\n",
    "        marcador2 = str(marcador2)\n",
    "\n",
    "    # Encontrando o texto entre os dois marcadores\n",
    "    resultado = re.search(f'{re.escape(marcador1)}(.*?){re.escape(marcador2)}', texto, re.DOTALL)\n",
    "    if resultado:\n",
    "        segmento = resultado.group(1)\n",
    "        \n",
    "        # Encontrando todos os valores no formato R$ 9,99 e as alíquotas como 3%\n",
    "        valores = re.findall(r'R\\$ [\\d\\.]*\\d+,\\d{2}|(?:\\d+,\\d{1,2}|\\d+)%', segmento)\n",
    "        posicoes = [m.start() for m in re.finditer(r'R\\$ [\\d\\.]*\\d+,\\d{2}|(?:\\d+,\\d{1,2}|\\d+)%', segmento)]\n",
    "\n",
    "        # Criando uma lista de tuplas (valor, posição)\n",
    "        valores_com_posicoes = list(zip(valores, posicoes))\n",
    "        \n",
    "        return valores_com_posicoes\n",
    "    else:\n",
    "        return None"
   ]
  },
  {
   "cell_type": "markdown",
   "metadata": {},
   "source": [
    "### Pre-processamento"
   ]
  },
  {
   "cell_type": "code",
   "execution_count": 373,
   "metadata": {},
   "outputs": [],
   "source": [
    "# XXX Funcao que converte PDF para imagem de tamanho grande (4134, 5846) - torna-a cinza e a salva\n",
    "def convert_resize_gray(original_file_name, file_path, image_resized_path):\n",
    "\n",
    "    name_image = conv_filename_no_ext(original_file_name)\n",
    "    image_resized_name = os.path.join(f'{image_resized_path}/{str(name_image)}.jpg')\n",
    "    pages = convert_from_path(file_path, 500, poppler_path=poppler_path)\n",
    "    # 4. Verifica se ha mais que uma pagina\n",
    "    if len(pages) > 1:\n",
    "        raise ValueError(\"Erro, documento com mais de uma página\")\n",
    "    else:\n",
    "        # 5. Iterar pelas páginas e redimensionar\n",
    "        resized_pages = []\n",
    "        for page in pages:\n",
    "            resized_page = page.resize((4134, 5846))\n",
    "            resized_pages.append(resized_page)\n",
    "            \n",
    "    imagem_gray = resized_pages[0].convert('L')\n",
    "    imagem_gray.save(image_resized_name, 'JPEG')\n",
    "\n",
    "    return  imagem_gray, image_resized_name"
   ]
  },
  {
   "cell_type": "code",
   "execution_count": 374,
   "metadata": {},
   "outputs": [],
   "source": [
    "image_resized_path = \"pipeline_extracao_documentos/6_geral_administacao/temp_docs/images/processadas\""
   ]
  },
  {
   "cell_type": "code",
   "execution_count": 377,
   "metadata": {},
   "outputs": [],
   "source": [
    "file_path = \"pipeline_extracao_documentos/0_arquivos_teste_pipeline/pdf_pesquisavel/Mesquita/acfrogblgyewspqaweud3qjkpdqn5kp2dfiynq7d6wjcrymgxkby0xaq7m2xyrrh8asjkxsfk1z9f4bsqat1di5gppkc3ahrhnhavaawbjuamkpiluuxpydd2ovrxzk.pdf\"\n",
    "original_file_name = \"acfrogblgyewspqaweud3qjkpdqn5kp2dfiynq7d6wjcrymgxkby0xaq7m2xyrrh8asjkxsfk1z9f4bsqat1di5gppkc3ahrhnhavaawbjuamkpiluuxpydd2ovrxzk.pdf\""
   ]
  },
  {
   "cell_type": "code",
   "execution_count": 378,
   "metadata": {},
   "outputs": [
    {
     "ename": "NameError",
     "evalue": "name 'conv_filename_no_ext' is not defined",
     "output_type": "error",
     "traceback": [
      "\u001b[0;31m---------------------------------------------------------------------------\u001b[0m",
      "\u001b[0;31mNameError\u001b[0m                                 Traceback (most recent call last)",
      "\u001b[1;32m/home/dani-boy/extractNF/5_Extracting_OCR.ipynb Cell 10\u001b[0m line \u001b[0;36m1\n\u001b[0;32m----> <a href='vscode-notebook-cell://wsl%2Bubuntu-22.04/home/dani-boy/extractNF/5_Extracting_OCR.ipynb#Y431sdnNjb2RlLXJlbW90ZQ%3D%3D?line=0'>1</a>\u001b[0m imagem_gray, image_resized_name \u001b[39m=\u001b[39m convert_resize_gray(original_file_name, file_path, image_resized_path)\n",
      "\u001b[1;32m/home/dani-boy/extractNF/5_Extracting_OCR.ipynb Cell 10\u001b[0m line \u001b[0;36m4\n\u001b[1;32m      <a href='vscode-notebook-cell://wsl%2Bubuntu-22.04/home/dani-boy/extractNF/5_Extracting_OCR.ipynb#Y431sdnNjb2RlLXJlbW90ZQ%3D%3D?line=1'>2</a>\u001b[0m \u001b[39mdef\u001b[39;00m \u001b[39mconvert_resize_gray\u001b[39m(original_file_name, file_path, image_resized_path):\n\u001b[0;32m----> <a href='vscode-notebook-cell://wsl%2Bubuntu-22.04/home/dani-boy/extractNF/5_Extracting_OCR.ipynb#Y431sdnNjb2RlLXJlbW90ZQ%3D%3D?line=3'>4</a>\u001b[0m     name_image \u001b[39m=\u001b[39m conv_filename_no_ext(original_file_name)\n\u001b[1;32m      <a href='vscode-notebook-cell://wsl%2Bubuntu-22.04/home/dani-boy/extractNF/5_Extracting_OCR.ipynb#Y431sdnNjb2RlLXJlbW90ZQ%3D%3D?line=4'>5</a>\u001b[0m     image_resized_name \u001b[39m=\u001b[39m os\u001b[39m.\u001b[39mpath\u001b[39m.\u001b[39mjoin(\u001b[39mf\u001b[39m\u001b[39m'\u001b[39m\u001b[39m{\u001b[39;00mimage_resized_path\u001b[39m}\u001b[39;00m\u001b[39m/\u001b[39m\u001b[39m{\u001b[39;00m\u001b[39mstr\u001b[39m(name_image)\u001b[39m}\u001b[39;00m\u001b[39m.jpg\u001b[39m\u001b[39m'\u001b[39m)\n\u001b[1;32m      <a href='vscode-notebook-cell://wsl%2Bubuntu-22.04/home/dani-boy/extractNF/5_Extracting_OCR.ipynb#Y431sdnNjb2RlLXJlbW90ZQ%3D%3D?line=5'>6</a>\u001b[0m     pages \u001b[39m=\u001b[39m convert_from_path(file_path, \u001b[39m500\u001b[39m, poppler_path\u001b[39m=\u001b[39mpoppler_path)\n",
      "\u001b[0;31mNameError\u001b[0m: name 'conv_filename_no_ext' is not defined"
     ]
    }
   ],
   "source": [
    "imagem_gray, image_resized_name = convert_resize_gray(original_file_name, file_path, image_resized_path)"
   ]
  },
  {
   "cell_type": "code",
   "execution_count": 3,
   "metadata": {},
   "outputs": [],
   "source": [
    "import cv2\n",
    "from PIL import Image\n",
    "import numpy as np"
   ]
  },
  {
   "cell_type": "code",
   "execution_count": 301,
   "metadata": {},
   "outputs": [],
   "source": [
    "from PIL import Image\n",
    "imagem = Image.open(\"pipeline_extracao_documentos/6_geral_administacao/temp_docs/images/processadas/nf_11_igreja_evangelica_batista_eterna_vida.jpg\")"
   ]
  },
  {
   "cell_type": "code",
   "execution_count": null,
   "metadata": {},
   "outputs": [],
   "source": [
    "imagem_gray = imagem.convert('L')\n",
    "imagem_gray"
   ]
  },
  {
   "cell_type": "code",
   "execution_count": 354,
   "metadata": {},
   "outputs": [],
   "source": [
    "imagem_gray.save('imagem_gray.jpg')"
   ]
  },
  {
   "cell_type": "code",
   "execution_count": 275,
   "metadata": {},
   "outputs": [],
   "source": [
    "from PIL import Image\n",
    "\n",
    "import pytesseract\n",
    "\n",
    "# If you don't have tesseract executable in your PATH, include the following:\n",
    "#pytesseract.pytesseract.tesseract_cmd = r'C:\\Program Files\\Tesseract-OCR\\tesseract'\n",
    "# Example tesseract_cmd = r'C:\\Program Files (x86)\\Tesseract-OCR\\tesseract'\n",
    "\n",
    "# 12. poppler path\n",
    "poppler_path = \"/home/dani-boy/miniconda3/envs/tables-detr/bin\"\n",
    "\n",
    "# 6. Path para gestao de imagens resized\n",
    "image_resized_path = \"pipeline_extracao_documentos/6_geral_administacao/temp_docs/images/processadas\"\n",
    "\n",
    "\n",
    "tessdata_dir = '--dpi 600 --oem 3 --psm 4'"
   ]
  },
  {
   "cell_type": "code",
   "execution_count": null,
   "metadata": {},
   "outputs": [],
   "source": [
    "tessdata_dir = '--tessdata-dir \"/home/dani-boy/miniconda3/envs/tables-detr/share/tessdata/\" --user-patterns \"novo_modelo/modelos/user-patterns2.txt\" --dpi 600 --oem 3 --psm 6'"
   ]
  },
  {
   "cell_type": "code",
   "execution_count": null,
   "metadata": {},
   "outputs": [],
   "source": []
  },
  {
   "cell_type": "code",
   "execution_count": null,
   "metadata": {},
   "outputs": [],
   "source": [
    "section = \"10. OBSERVACOES\"\n",
    "tipo = \"field_box\"\n",
    "father_value = \"5_frame_inf_criticas\"\n",
    "marcador_ini = \"Observação:\""
   ]
  },
  {
   "cell_type": "code",
   "execution_count": null,
   "metadata": {},
   "outputs": [],
   "source": [
    "texto_valores = linhas\n",
    "\n",
    "# Exemplo de uso\n",
    "marcador1 = 'VALOR SERVIÇOS:'  # SAO PEDRO DA ALDEIA\n",
    "marcador2 = 'LOCAL INCIDÊNCIA'\n",
    "lista_val = encontrar_valores2(texto_valores, marcador1, marcador2)\n",
    "lista_val\n",
    "\n",
    "print(f'\\nlista_val: {lista_val}  -->  {len(lista_val)}\\n')"
   ]
  },
  {
   "cell_type": "code",
   "execution_count": 371,
   "metadata": {},
   "outputs": [],
   "source": [
    "def encontrar_texto(texto, marcador_inicial, marcador_final=None):\n",
    "    if marcador_final:\n",
    "        # Procura pelo texto entre os dois marcadores\n",
    "        resultado = re.search(f'{re.escape(marcador_inicial)}(.*?){re.escape(marcador_final)}', texto, re.DOTALL)\n",
    "        if resultado:\n",
    "            return resultado.group(1).strip()\n",
    "    else:\n",
    "        # Procura pelo texto do marcador inicial até o final\n",
    "        resultado = re.search(f'{re.escape(marcador_inicial)}(.*)', texto, re.DOTALL)\n",
    "        if resultado:\n",
    "            return resultado.group(1).strip()\n",
    "\n",
    "    # Retorna None se não encontrar nada\n",
    "    return None"
   ]
  },
  {
   "cell_type": "code",
   "execution_count": 310,
   "metadata": {},
   "outputs": [],
   "source": [
    "def encontrar_valores2(texto, marcador1, marcador2):\n",
    "    # Certificando-se de que todos os parâmetros são strings\n",
    "    if isinstance(texto, list):\n",
    "        texto = '\\n'.join(texto)\n",
    "    if not isinstance(marcador1, str):\n",
    "        marcador1 = str(marcador1)\n",
    "    if not isinstance(marcador2, str):\n",
    "        marcador2 = str(marcador2)\n",
    "\n",
    "    # Encontrando o texto entre os dois marcadores\n",
    "    resultado = re.search(f'{re.escape(marcador1)}(.*?){re.escape(marcador2)}', texto, re.DOTALL)\n",
    "    if resultado:\n",
    "        segmento = resultado.group(1)\n",
    "        \n",
    "        # Encontrando todos os valores no formato R$ 9,99\n",
    "        valores = re.findall(r'R\\$ \\d+,\\d{2}', segmento)\n",
    "        \n",
    "        # Encontrando as posições dos valores na string original\n",
    "        posicoes = [m.start() for m in re.finditer(r'R\\$ \\d+,\\d{2}', segmento)]\n",
    "        \n",
    "        # Criando uma lista de tuplas (valor, posição)\n",
    "        valores_com_posicoes = list(zip(valores, posicoes))\n",
    "        \n",
    "        return valores_com_posicoes\n",
    "    else:\n",
    "        return None"
   ]
  },
  {
   "cell_type": "code",
   "execution_count": null,
   "metadata": {},
   "outputs": [],
   "source": [
    "# uncomment the following line(s) to ensure that all packages are available:\n",
    "#!python -m pip install matplotlib\n",
    "#!python -m pip install -U pymupdf\n",
    "\n",
    "%matplotlib inline\n",
    "import fitz  # import PyMuPDF\n",
    "\n",
    "def show_image(pix):\n",
    "    \"\"\"Display a pixmap using matplotlib and numpy.\"\"\"\n",
    "    import matplotlib.pyplot as plt  # needed for displaying intermediate images\n",
    "    import numpy as np  # needed for displaying intermediate images\n",
    "    img = np.ndarray((pix.h, pix.w, 3), dtype=np.uint8, buffer=pix.samples_mv)  # raw image to numpy array\n",
    "    plt.figure(dpi=150)\n",
    "    image = plt.imshow(img)  # let matplotlib show the image"
   ]
  },
  {
   "cell_type": "code",
   "execution_count": null,
   "metadata": {},
   "outputs": [],
   "source": [
    "# XXX Funcao ajustada para convertere e resize\n",
    "def convertResize(doc2convert, document_path, image_resized_path):\n",
    "    \n",
    "    \n",
    "    name_image = conv_filename_no_ext(doc2convert)\n",
    "    \n",
    "    image_resized_name = os.path.join(f'{image_resized_path}/{str(name_image)}.jpg')\n",
    "    #print(f'image_resized_name: {image_resized_name}\\n')\n",
    "    # 3. Conversao para imagem\n",
    "    pages = convert_from_path(document_path, 500, poppler_path=poppler_path)\n",
    "    \n",
    "    # 4. Verifica se ha mais que uma pagina\n",
    "    if len(pages) > 1:\n",
    "        raise ValueError(\"Erro, documento com mais de uma página\")\n",
    "    else:\n",
    "        # 5. Iterar pelas páginas e redimensionar\n",
    "        resized_pages = []\n",
    "        for page in pages:\n",
    "            resized_page = page.resize((2067, 2923))\n",
    "            resized_pages.append(resized_page)\n",
    "            \n",
    "        resized_pages[0].save(image_resized_name, 'JPEG')\n",
    "        \n",
    "        image_2work = resized_pages[0]\n",
    "        \n",
    "    return image_2work, image_resized_name\n",
    "\n",
    "# XXX Usando na criacao da imagem \n",
    "def conv_filename_no_ext(title):\n",
    "    \n",
    "    # Divida o título em nome e extensão (mas ignore a extensão)\n",
    "    name = title.rsplit('.', 1)[0] if '.' in title else title\n",
    "\n",
    "    # Remova acentos e caracteres especiais do nome\n",
    "    name = normalize('NFKD', name).encode('ASCII', 'ignore').decode('ASCII')\n",
    "    \n",
    "    # Substitua espaços e hífens por sublinhados\n",
    "    filename = name.replace(' ', '_').replace('-', '_')\n",
    "\n",
    "    # Remova quaisquer outros caracteres não alfanuméricos, exceto sublinhados\n",
    "    filename = re.sub(r'[^\\w_]', '', filename)\n",
    "\n",
    "    # Converter para minúsculas\n",
    "    filename = filename.lower()\n",
    "\n",
    "    return filename \n"
   ]
  },
  {
   "cell_type": "code",
   "execution_count": null,
   "metadata": {},
   "outputs": [],
   "source": [
    "image_2work, image_path = convertResize(doc2convert, file_path, image_resized_path)"
   ]
  },
  {
   "cell_type": "code",
   "execution_count": null,
   "metadata": {},
   "outputs": [],
   "source": [
    "#tessdata_dir = '--dpi 600 --oem 1 --psm 6'\n",
    "\n",
    "image = Image.open(\"4414_cabecalho_3.png\")\n",
    "imagem_gray = image.convert('L')\n",
    "imagem_gray\n",
    "\n"
   ]
  },
  {
   "cell_type": "code",
   "execution_count": 362,
   "metadata": {},
   "outputs": [],
   "source": [
    "texto = (pytesseract.image_to_string(imagem_gray, lang='por'))"
   ]
  },
  {
   "cell_type": "code",
   "execution_count": 364,
   "metadata": {},
   "outputs": [
    {
     "data": {
      "text/plain": [
       "'Número da Nota:\\n4414\\n\\nData e Hora de Emissão:\\n26/07/2023 - 17:18\\n\\nCódigo de Verificação:\\nF8A952271\\n\\n'"
      ]
     },
     "execution_count": 364,
     "metadata": {},
     "output_type": "execute_result"
    }
   ],
   "source": [
    "texto"
   ]
  },
  {
   "cell_type": "code",
   "execution_count": 365,
   "metadata": {},
   "outputs": [],
   "source": [
    "linhas = [linha for linha in texto.split('\\n') if linha.strip()]"
   ]
  },
  {
   "cell_type": "code",
   "execution_count": 366,
   "metadata": {},
   "outputs": [
    {
     "data": {
      "text/plain": [
       "['Número da Nota:',\n",
       " '4414',\n",
       " 'Data e Hora de Emissão:',\n",
       " '26/07/2023 - 17:18',\n",
       " 'Código de Verificação:',\n",
       " 'F8A952271']"
      ]
     },
     "execution_count": 366,
     "metadata": {},
     "output_type": "execute_result"
    }
   ],
   "source": [
    "linhas"
   ]
  },
  {
   "cell_type": "code",
   "execution_count": 340,
   "metadata": {},
   "outputs": [],
   "source": [
    "texto = '\\n'.join(linhas)"
   ]
  },
  {
   "cell_type": "code",
   "execution_count": 341,
   "metadata": {},
   "outputs": [
    {
     "data": {
      "text/plain": [
       "'VALOR SERVIÇOS: VALOR DESC. INCOND: BASE DE ALÍQUOTA: VALOR ISS: VALOR ISS DESC. COND:\\nR$ 252.836,00 DEDUÇÃO: R$6,00 CÁLCULO: 2,01% R$ 5.082,00 RETIDO: R$ 508,00\\nR$ 20,00 R$ 252.836,00 R$ 0,00\\nVALOR PIS: VALOR COFINS: VALOR IR: VALOR INSS: VALOR CSLL: OUTRAS RETENÇÕES: VALOR LÍQUIDO:\\nR$3,00 R$36,00 R$ 0,01 R$ 836,00 R$ 0,00 R$66,00 R$ 252.836,00'"
      ]
     },
     "execution_count": 341,
     "metadata": {},
     "output_type": "execute_result"
    }
   ],
   "source": [
    "texto"
   ]
  },
  {
   "cell_type": "code",
   "execution_count": 352,
   "metadata": {},
   "outputs": [
    {
     "data": {
      "text/plain": [
       "['R$ 252.836,00',\n",
       " 'R$ 6,00',\n",
       " '2,01%',\n",
       " 'R$ 5.082,00',\n",
       " 'R$ 508,00',\n",
       " 'R$ 20,00',\n",
       " 'R$ 252.836,00',\n",
       " 'R$ 0,00',\n",
       " 'R$ 3,00',\n",
       " 'R$ 36,00',\n",
       " 'R$ 0,01',\n",
       " 'R$ 836,00',\n",
       " 'R$ 0,00',\n",
       " 'R$ 66,00',\n",
       " 'R$ 252.836,00']"
      ]
     },
     "execution_count": 352,
     "metadata": {},
     "output_type": "execute_result"
    }
   ],
   "source": [
    "valores = re.findall(r'R\\$ *([\\d\\.]+,\\d{1,2})|([\\d\\.]+,\\d{1,2})%', texto)\n",
    "valores_formatados = [f'R$ {x[0]}' if x[0] else f'{x[1]}%' for x in valores]\n",
    "valores_formatados"
   ]
  },
  {
   "cell_type": "code",
   "execution_count": 346,
   "metadata": {},
   "outputs": [],
   "source": [
    "posicoes = [m.start() for m in re.finditer(r'R\\$ *([\\d\\.]+,\\d{1,2})|([\\d\\.]+,\\d{1,2})%', texto)]\n",
    "valores_formatados = [f'R$ {x[0]}' if x[0] else f'{x[1]}%' for x in valores]"
   ]
  },
  {
   "cell_type": "code",
   "execution_count": 345,
   "metadata": {},
   "outputs": [
    {
     "data": {
      "text/plain": [
       "[('252.836,00', ''),\n",
       " ('6,00', ''),\n",
       " ('', '2,01'),\n",
       " ('5.082,00', ''),\n",
       " ('508,00', ''),\n",
       " ('20,00', ''),\n",
       " ('252.836,00', ''),\n",
       " ('0,00', ''),\n",
       " ('3,00', ''),\n",
       " ('36,00', ''),\n",
       " ('0,01', ''),\n",
       " ('836,00', ''),\n",
       " ('0,00', ''),\n",
       " ('66,00', ''),\n",
       " ('252.836,00', '')]"
      ]
     },
     "execution_count": 345,
     "metadata": {},
     "output_type": "execute_result"
    }
   ],
   "source": [
    "valores"
   ]
  },
  {
   "cell_type": "code",
   "execution_count": 348,
   "metadata": {},
   "outputs": [],
   "source": [
    "valores_formatados = [f'R$ {x[0]}' if x[0] else f'{x[1]}%' for x in valores]"
   ]
  },
  {
   "cell_type": "code",
   "execution_count": 349,
   "metadata": {},
   "outputs": [
    {
     "data": {
      "text/plain": [
       "['R$ 252.836,00',\n",
       " 'R$ 6,00',\n",
       " '2,01%',\n",
       " 'R$ 5.082,00',\n",
       " 'R$ 508,00',\n",
       " 'R$ 20,00',\n",
       " 'R$ 252.836,00',\n",
       " 'R$ 0,00',\n",
       " 'R$ 3,00',\n",
       " 'R$ 36,00',\n",
       " 'R$ 0,01',\n",
       " 'R$ 836,00',\n",
       " 'R$ 0,00',\n",
       " 'R$ 66,00',\n",
       " 'R$ 252.836,00']"
      ]
     },
     "execution_count": 349,
     "metadata": {},
     "output_type": "execute_result"
    }
   ],
   "source": [
    "valores_formatados"
   ]
  },
  {
   "cell_type": "code",
   "execution_count": 347,
   "metadata": {},
   "outputs": [
    {
     "data": {
      "text/plain": [
       "[87, 110, 126, 132, 152, 162, 171, 185, 285, 292, 300, 308, 318, 326, 334]"
      ]
     },
     "execution_count": 347,
     "metadata": {},
     "output_type": "execute_result"
    }
   ],
   "source": [
    "posicoes"
   ]
  },
  {
   "cell_type": "code",
   "execution_count": null,
   "metadata": {},
   "outputs": [],
   "source": [
    "valores = re.findall(r'R\\$ \\d+,\\d{2}|(?:\\d+,\\d{1,2}|\\d+)%', segmento)"
   ]
  },
  {
   "cell_type": "code",
   "execution_count": 307,
   "metadata": {},
   "outputs": [],
   "source": [
    "def encontrar_valores3(texto, marcador1, marcador2):\n",
    "    # Certificando-se de que todos os parâmetros são strings\n",
    "    if isinstance(texto, list):\n",
    "        texto = '\\n'.join(texto)\n",
    "    if not isinstance(marcador1, str):\n",
    "        marcador1 = str(marcador1)\n",
    "    if not isinstance(marcador2, str):\n",
    "        marcador2 = str(marcador2)\n",
    "\n",
    "    # Encontrando o texto entre os dois marcadores\n",
    "    resultado = re.search(f'{re.escape(marcador1)}(.*?){re.escape(marcador2)}', texto, re.DOTALL)\n",
    "    if resultado:\n",
    "        segmento = resultado.group(1)\n",
    "        \n",
    "        # Encontrando todos os valores no formato R$ 9,99 e as alíquotas como 3%\n",
    "        valores = re.findall(r'R\\$ \\d+,\\d{2}|(?:\\d+,\\d{1,2}|\\d+)%', segmento)\n",
    "        \n",
    "        # Encontrando as posições dos valores na string original\n",
    "        posicoes = [m.start() for m in re.finditer(r'R\\$ \\d+,\\d{2}|(?:\\d+,\\d{1,2}|\\d+)%', segmento)]\n",
    "        \n",
    "        # Criando uma lista de tuplas (valor, posição)\n",
    "        valores_com_posicoes = list(zip(valores, posicoes))\n",
    "        \n",
    "        return valores_com_posicoes\n",
    "    else:\n",
    "        return None\n"
   ]
  },
  {
   "cell_type": "code",
   "execution_count": 313,
   "metadata": {},
   "outputs": [],
   "source": [
    "# 2. XXX FunÇao para pesquisar entre marcadores do texto\n",
    "def extrair_texto_entre_marcadores(texto, marcador_inicio, marcador_fim):\n",
    "    try:\n",
    "        # Encontra os índices dos marcadores de início e fim\n",
    "        indice_inicio = next(i for i, s in enumerate(texto) if marcador_inicio in s)\n",
    "        indice_fim = next(i for i, s in enumerate(texto) if marcador_fim in s)\n",
    "\n",
    "        # Se o marcador de início e fim estão na mesma linha\n",
    "        if indice_inicio == indice_fim:\n",
    "            inicio = texto[indice_inicio].find(marcador_inicio) + len(marcador_inicio)\n",
    "            fim = texto[indice_fim].find(marcador_fim)\n",
    "            return texto[indice_inicio][inicio:fim].strip()\n",
    "        else:\n",
    "            # Extrai e retorna o texto entre os marcadores\n",
    "            return \" \".join(texto[indice_inicio:indice_fim])\n",
    "    except StopIteration:\n",
    "        # Retorna None se algum dos marcadores não for encontrado\n",
    "        return None"
   ]
  },
  {
   "cell_type": "code",
   "execution_count": 367,
   "metadata": {},
   "outputs": [
    {
     "data": {
      "text/plain": [
       "'Número da Nota:\\n4414\\n\\nData e Hora de Emissão:\\n26/07/2023 - 17:18\\n\\nCódigo de Verificação:\\nF8A952271\\n\\n'"
      ]
     },
     "execution_count": 367,
     "metadata": {},
     "output_type": "execute_result"
    }
   ],
   "source": [
    "texto"
   ]
  },
  {
   "cell_type": "code",
   "execution_count": 315,
   "metadata": {},
   "outputs": [
    {
     "data": {
      "text/plain": [
       "['Número da Nota:',\n",
       " 'PREFEITURA MUNICIPAL DE MAGE E',\n",
       " 'SECRETARIA MUNICIPAL DA FAZENDA Julho/2023',\n",
       " 'NOTA FISCAL DE SERVIÇOS ELETRÔNICA - NFS-e ata e Hora da Emissão:',\n",
       " '28/07/2023 13:16:00',\n",
       " 'Código Verificação:',\n",
       " '3CFDF62AA',\n",
       " 'PRESTADOR DE SERVIÇOS',\n",
       " 'CPF/CNPJ: Inscrição Municipal: le:',\n",
       " '38.947.654/0001-08 1004403 =',\n",
       " 'Telefone: Inscrição Estadual:',\n",
       " 'Nome/Razão Social:',\n",
       " 'JR DE ARAUJO JIMENEZ',\n",
       " 'Nome de Fantasia:',\n",
       " 'Endereço:',\n",
       " 'RUA BRASIL ,116 ,PIABETA - Magé-RJ',\n",
       " 'E-mail:',\n",
       " 'RAFAJIM3SOGMAIL.COM',\n",
       " 'TOMADOR DE SERVIÇOS',\n",
       " 'CPF/CNPJ: ,',\n",
       " '02.329.932/0001-08 | RG:',\n",
       " 'INSC:MUNICIPAL:',\n",
       " 'Telefone: Inscrição Estadual:',\n",
       " 'Nome/Razão Social:',\n",
       " 'IGREJA EVANGELICA BATISTA ETERNA VIDA',\n",
       " 'Endereço: ; .',\n",
       " 'DOIS Nº 05 BAIRRO: MAURIMÁRCIA (VILA INHOMIRIM) CIDADE: MAGE - RJ CEP: 25930630',\n",
       " 'E-mail:',\n",
       " 'NÃO INFORMADO',\n",
       " 'DISCRIMINAÇÃO DOS SERVIÇOS',\n",
       " 'Prestação de serviço de elaboração de projeto e desdobro de um lote conforme regras da P.M.M',\n",
       " 'VALOR TOTAL DA NOTA: R$ 1.000,00',\n",
       " 'CNAE - 7111100 - SERVIÇOS DE ARQUITETURA',\n",
       " 'Item da Lista de Serviços - 7.01 - ENGENHARIA, AGRONOMIA, AGRIMENSURA, ARQUITETURA, GEOLOGIA, URBANISMO, PAISAGISMO E CONGÊNERES.',\n",
       " 'VALOR SERVIÇOS: VALOR | DESC. INCOND: BASE DE ALÍQUOTA: VALOR ISS: VALOR ISS DESC. COND:',\n",
       " 'R$ 1.000,00 DEDUÇÃO: R$ 0,00 CALCULO: 247% R$ 21,70 RETIDO: R$ 0,00',\n",
       " 'R$ 0,00 R$ 1.000,00 R$ 0,00',\n",
       " 'VALOR PIS: VALOR COFINS: VALOR IR: VALOR INSS: VALOR CSLL: OUTRAS RETENÇÕES: VALOR LÍQUIDO:',\n",
       " 'R$ 0,00 R$ 0,00 R$ 0,00 R$ 0,00 R$ 0,00 R$ 0,00 R$ 1.000,00',\n",
       " 'DADOS COMPLEMENTARES',\n",
       " 'OUTRAS INFORMAÇÕES / CRITICAS',\n",
       " 'EXIGIBILIDADE ISS REGIME TRIBUTAÇÃO SIMPLES NACIONAL ISSQN RETIDO LOCAL. PRESTAÇÃO LOCAL INCIDÊNCIA',\n",
       " 'Exigivel Microempresa municipal Sim (2,17% ) Não SERVIÇO Magé - RJ',\n",
       " 'Magé - RJ',\n",
       " 'Observação:',\n",
       " '- Prestador Optante do Simples Nacional (Alíquota: 2,17 %)',\n",
       " 'Valor Aproximado dos Tributos Federais R$ 134,5 (Alíq 13,45), Tributos Estaduais R$ 0,00 (Alíg 0,00 IBPT) e Municipal de R$ 48,4 (Alíq IBPT 4,84 IBPT)']"
      ]
     },
     "execution_count": 315,
     "metadata": {},
     "output_type": "execute_result"
    }
   ],
   "source": [
    "texto = (pytesseract.image_to_string(imagem_gray, lang='por'))\n",
    "linhas = [linha for linha in texto.split('\\n') if linha.strip()]\n",
    "linhas"
   ]
  },
  {
   "cell_type": "code",
   "execution_count": 368,
   "metadata": {},
   "outputs": [],
   "source": [
    "def encontrar_texto(texto, marcador_inicial, marcador_final=None):\n",
    "    if marcador_final:\n",
    "        # Procura pelo texto entre os dois marcadores\n",
    "        resultado = re.search(f'{re.escape(marcador_inicial)}(.*?){re.escape(marcador_final)}', texto, re.DOTALL)\n",
    "        if resultado:\n",
    "            return resultado.group(1).strip()\n",
    "    else:\n",
    "        # Procura pelo texto do marcador inicial até o final\n",
    "        resultado = re.search(f'{re.escape(marcador_inicial)}(.*)', texto, re.DOTALL)\n",
    "        if resultado:\n",
    "            return resultado.group(1).strip()\n",
    "\n",
    "    # Retorna None se não encontrar nada\n",
    "    return None\n",
    "\n",
    "\n"
   ]
  },
  {
   "cell_type": "code",
   "execution_count": 369,
   "metadata": {},
   "outputs": [],
   "source": [
    "# Testando a função\n",
    "texto = '''DADOS COMPLEMENTARES\n",
    "OUTRAS INFORMAÇÕES / CRITICAS\n",
    "EXIGIBILIDADE ISS REGIME TRIBUTAÇÃO SIMPLES NACIONAL ISSQN RETIDO LOCAL. PRESTAÇÃO LOCAL INCIDÊNCIA\n",
    "Exigivel Microempresa municipal Sim (2,17% ) Não SERVIÇO Magé - RJ\n",
    "Magé - RJ\n",
    "Observação:\n",
    "- Prestador Optante do Simples Nacional (Alíquota: 2,17 %)\n",
    "Valor Aproximado dos Tributos Federais R$ 134,5 (Alíq 13,45), Tributos Estaduais R$ 0,00 (Alíg 0,00 IBPT) e Municipal de R$ 48,4 (Alíq IBPT 4,84 IBPT)'''\n",
    "\n"
   ]
  },
  {
   "cell_type": "code",
   "execution_count": 370,
   "metadata": {},
   "outputs": [
    {
     "name": "stdout",
     "output_type": "stream",
     "text": [
      "- Prestador Optante do Simples Nacional (Alíquota: 2,17 %)\n",
      "Valor Aproximado dos Tributos Federais R$ 134,5 (Alíq 13,45), Tributos Estaduais R$ 0,00 (Alíg 0,00 IBPT) e Municipal de R$ 48,4 (Alíq IBPT 4,84 IBPT)\n"
     ]
    }
   ],
   "source": [
    "resultado = encontrar_texto(texto, \"Observação:\")\n",
    "print(resultado)"
   ]
  },
  {
   "cell_type": "code",
   "execution_count": 326,
   "metadata": {},
   "outputs": [
    {
     "name": "stdout",
     "output_type": "stream",
     "text": [
      "\n",
      "lista_val: DADOS COMPLEMENTARES OUTRAS INFORMAÇÕES / CRITICAS EXIGIBILIDADE ISS REGIME TRIBUTAÇÃO SIMPLES NACIONAL ISSQN RETIDO LOCAL. PRESTAÇÃO LOCAL INCIDÊNCIA Exigivel Microempresa municipal Sim (2,17% ) Não SERVIÇO Magé - RJ Magé - RJ  -->  227\n",
      "\n"
     ]
    }
   ],
   "source": [
    "texto_valores = linhas\n",
    "# Exemplo de uso\n",
    "marcador_inicio = 'DADOS COMPLEMENTARES'  # SAO PEDRO DA ALDEIA\n",
    "marcador_fim = 'Observação:'\n",
    "resultado = extrair_texto_entre_marcadores(texto_valores, marcador_inicio, marcador_fim)\n",
    "resultado\n",
    "\n",
    "print(f'\\nlista_val: {lista_val}  -->  {len(lista_val)}\\n')"
   ]
  },
  {
   "cell_type": "code",
   "execution_count": 322,
   "metadata": {},
   "outputs": [],
   "source": [
    "resultado = resultado.replace(marcador_inicio, \"\").strip()"
   ]
  },
  {
   "cell_type": "code",
   "execution_count": 329,
   "metadata": {},
   "outputs": [
    {
     "data": {
      "text/plain": [
       "'DADOS COMPLEMENTARES OUTRAS INFORMAÇÕES / CRITICAS EXIGIBILIDADE ISS REGIME TRIBUTAÇÃO SIMPLES NACIONAL ISSQN RETIDO LOCAL. PRESTAÇÃO LOCAL INCIDÊNCIA Exigivel Microempresa municipal Sim (2,17% ) Não SERVIÇO Magé - RJ Magé - RJ'"
      ]
     },
     "execution_count": 329,
     "metadata": {},
     "output_type": "execute_result"
    }
   ],
   "source": [
    "resultado"
   ]
  },
  {
   "cell_type": "code",
   "execution_count": 324,
   "metadata": {},
   "outputs": [
    {
     "data": {
      "text/plain": [
       "str"
      ]
     },
     "execution_count": 324,
     "metadata": {},
     "output_type": "execute_result"
    }
   ],
   "source": [
    "lista_val"
   ]
  },
  {
   "cell_type": "code",
   "execution_count": 256,
   "metadata": {},
   "outputs": [],
   "source": [
    "linhas = [s.replace(\" \", \"\").strip() for s in linhas]"
   ]
  },
  {
   "cell_type": "code",
   "execution_count": 257,
   "metadata": {},
   "outputs": [
    {
     "data": {
      "text/plain": [
       "['CoOqMO]',\n",
       " 'VALORSERVIÇOS:VALOR|DESC.INCOND:BASEDEALÍQUOTA:VALORISS:VALORISSDESC.COND:',\n",
       " 'R$28.114,98DEDUÇÃO:R$0,00CALCULO:5%R$1.405,75RETIDO:R$0,00',\n",
       " 'R$0,00R$28.114,98R$0,00']"
      ]
     },
     "execution_count": 257,
     "metadata": {},
     "output_type": "execute_result"
    }
   ],
   "source": [
    "linhas"
   ]
  },
  {
   "cell_type": "code",
   "execution_count": null,
   "metadata": {},
   "outputs": [],
   "source": [
    "resultado = extrair_texto_entre_marcadores(texto_ref, marcador_inicio, marcador_fim)\n",
    "resultado = resultado.replace(marcador_inicio, \"\").strip()\n",
    "resultado_splited = resultado.split(':')\n",
    "resultado_splited = [s.replace(\" \", \"\").strip() for s in resultado_splited]\n",
    "resultado_splited = [x for x in resultado_splited if x.strip()]\n",
    "codido_verificacao = resultado_splited[0]"
   ]
  },
  {
   "cell_type": "code",
   "execution_count": 248,
   "metadata": {},
   "outputs": [
    {
     "name": "stdout",
     "output_type": "stream",
     "text": [
      "\n",
      "lista_val: None \n",
      "\n"
     ]
    }
   ],
   "source": [
    "texto_valores = linhas\n",
    "# Exemplo de uso\n",
    "marcador1 = 'VALOR SERVIÇOS'  # SAO PEDRO DA ALDEIA\n",
    "marcador2 = 'PRESTAÇÃO LOCAL INCIDÊNCIA'\n",
    "lista_val = encontrar_valores3(texto_valores, marcador1, marcador2)\n",
    "print(f'\\nlista_val: {lista_val} \\n')"
   ]
  },
  {
   "cell_type": "code",
   "execution_count": 236,
   "metadata": {},
   "outputs": [
    {
     "name": "stdout",
     "output_type": "stream",
     "text": [
      "\n",
      "lista_val: [(('280,00', ''), 75), (('0,00', ''), 94), (('8,40', ''), 114), (('0,00', ''), 130), (('0,00', ''), 142), (('280,00', ''), 150), (('0,00', ''), 160), (('0,00', ''), 260), (('0,00', ''), 268), (('0,00', ''), 276), (('0,00', ''), 284), (('0,00', ''), 292), (('0,00', ''), 300), (('280,00', ''), 308)]  -->  14\n",
      "\n"
     ]
    }
   ],
   "source": [
    "\n",
    "print(f'\\nlista_val: {lista_val}  -->  {len(lista_val)}\\n')"
   ]
  },
  {
   "cell_type": "code",
   "execution_count": 238,
   "metadata": {},
   "outputs": [
    {
     "name": "stdout",
     "output_type": "stream",
     "text": [
      "None\n"
     ]
    }
   ],
   "source": [
    "# Teste a função com seu texto e marcadores\n",
    "texto = linhas\n",
    "marcador1 = 'VALOR SERVIÇOS'\n",
    "marcador2 = 'DADOS COMPLEMENTARES'\n",
    "\n",
    "print(encontrar_valores(texto, marcador1, marcador2))"
   ]
  },
  {
   "cell_type": "code",
   "execution_count": 214,
   "metadata": {},
   "outputs": [
    {
     "name": "stdout",
     "output_type": "stream",
     "text": [
      "[('R$ 17.401,88', 75), ('R$ 0,00', 97), ('2,64%', 114), ('R$ 0,00', 120), ('R$ 0,00', 136), ('R$ 0,00', 144), ('R$ 17.401,88', 152), ('R$ 459,41', 165), ('R$ 0,00', 267), ('R$ 0,00', 275), ('R$ 0,00', 283), ('R$ 0,00', 291), ('R$ 0,00', 299), ('R$ 0,00', 307), ('R$ 16.942,47', 315)]\n"
     ]
    }
   ],
   "source": []
  },
  {
   "cell_type": "code",
   "execution_count": 196,
   "metadata": {},
   "outputs": [],
   "source": [
    "def encontrar_valores(texto, marcador1, marcador2):\n",
    "    if isinstance(texto, list):\n",
    "        texto = '\\n'.join(texto)\n",
    "    if not isinstance(marcador1, str):\n",
    "        marcador1 = str(marcador1)\n",
    "    if not isinstance(marcador2, str):\n",
    "        marcador2 = str(marcador2)\n",
    "    \n",
    "    resultado = re.search(f'{re.escape(marcador1)}(.*?){re.escape(marcador2)}', texto, re.DOTALL)\n",
    "    \n",
    "    if resultado:\n",
    "        segmento = resultado.group(1)\n",
    "        \n",
    "        matches = re.findall(r'R\\$ *([\\d\\.]*\\d*,\\d{1,2})|([\\d\\.]*\\d*,\\d{1,2})%', segmento)\n",
    "        posicoes = [m.start() for m in re.finditer(r'R\\$ *([\\d\\.]*\\d*,\\d{1,2})|([\\d\\.]*\\d*,\\d{1,2})%', segmento)]\n",
    "        \n",
    "        valores_formatados = [('R$ ' + x[0]) if x[0] else (x[1] + '%') for x in matches]\n",
    "        \n",
    "        valores_com_posicoes = list(zip(valores_formatados, posicoes))\n",
    "        \n",
    "        return valores_com_posicoes\n",
    "    else:\n",
    "        return None\n",
    "\n",
    "\n"
   ]
  },
  {
   "cell_type": "code",
   "execution_count": 199,
   "metadata": {},
   "outputs": [],
   "source": [
    "def obter_palavras_e_indices(texto):\n",
    "    if isinstance(texto, list):\n",
    "        texto = '\\n'.join(texto)\n",
    "\n",
    "    # Substituindo quebras de linha e múltiplos espaços por um único espaço\n",
    "    texto = re.sub(r'\\s+', ' ', texto)\n",
    "\n",
    "    # Dividindo o texto em palavras\n",
    "    palavras = texto.split(' ')\n",
    "\n",
    "    # Obtendo uma lista de tuplas contendo cada palavra e seu índice\n",
    "    palavras_com_indices = [(idx, palavra) for idx, palavra in enumerate(palavras) if palavra]\n",
    "\n",
    "    return palavras_com_indices"
   ]
  },
  {
   "cell_type": "code",
   "execution_count": null,
   "metadata": {},
   "outputs": [],
   "source": [
    "# Teste a função com seu texto\n",
    "texto = '''... (seu texto aqui) ...'''\n",
    "print(obter_palavras_e_indices(texto))"
   ]
  },
  {
   "cell_type": "code",
   "execution_count": 192,
   "metadata": {},
   "outputs": [],
   "source": [
    "\n",
    "def encontrar_valores3(texto, marcador1, marcador2):\n",
    "    # Certificando-se de que todos os parâmetros são strings\n",
    "    if isinstance(texto, list):\n",
    "        texto = '\\n'.join(texto)\n",
    "    if not isinstance(marcador1, str):\n",
    "        marcador1 = str(marcador1)\n",
    "    if not isinstance(marcador2, str):\n",
    "        marcador2 = str(marcador2)\n",
    "\n",
    "    # Encontrando o texto entre os dois marcadores\n",
    "    resultado = re.search(f'{re.escape(marcador1)}(.*?){re.escape(marcador2)}', texto, re.DOTALL)\n",
    "    if resultado:\n",
    "        segmento = resultado.group(1)\n",
    "        \n",
    "        \n",
    "        valores = re.findall(r'R\\$ *([\\d\\.]+,\\d{1,2})|([\\d\\.]+,\\d{1,2})%', segmento)\n",
    "        posicoes = [m.start() for m in re.finditer(r'R\\$ *([\\d\\.]+,\\d{1,2})|([\\d\\.]+,\\d{1,2})%', segmento)]\n",
    "\n",
    "        # Formatar os valores para incluir o símbolo 'R$' onde necessário\n",
    "        valores_formatados = [f'R$ {x[0]}' if x[0] else f'{x[1]}%' for x in valores]\n",
    "\n",
    "        # Criando uma lista de tuplas (valor, posição)\n",
    "        valores_com_posicoes = list(zip(valores_formatados, posicoes))\n",
    "\n",
    "\n",
    "\n",
    "\n",
    "\n",
    "        # # Encontrando todos os valores no formato R$ 9,99 e as alíquotas como 3%\n",
    "        # valores = re.findall(r'R\\$ [\\d\\.]*\\d+,\\d{2}|(?:\\d+,\\d{1,2}|\\d+)%', segmento)\n",
    "        # posicoes = [m.start() for m in re.finditer(r'R\\$ [\\d\\.]*\\d+,\\d{2}|(?:\\d+,\\d{1,2}|\\d+)%', segmento)]\n",
    "\n",
    "        # Criando uma lista de tuplas (valor, posição)\n",
    "        valores_com_posicoes = list(zip(valores, posicoes))\n",
    "        \n",
    "        return valores_com_posicoes\n",
    "    else:\n",
    "        return None\n"
   ]
  },
  {
   "cell_type": "code",
   "execution_count": 52,
   "metadata": {},
   "outputs": [],
   "source": [
    "text_splited = texto.split('\\n')"
   ]
  },
  {
   "cell_type": "code",
   "execution_count": null,
   "metadata": {},
   "outputs": [],
   "source": [
    "text_splited"
   ]
  },
  {
   "cell_type": "code",
   "execution_count": 61,
   "metadata": {},
   "outputs": [],
   "source": [
    "texto_ref = [x for x in text_splited if x.strip()]"
   ]
  },
  {
   "cell_type": "code",
   "execution_count": 112,
   "metadata": {},
   "outputs": [
    {
     "ename": "NameError",
     "evalue": "name 'convertResize' is not defined",
     "output_type": "error",
     "traceback": [
      "\u001b[0;31m---------------------------------------------------------------------------\u001b[0m",
      "\u001b[0;31mNameError\u001b[0m                                 Traceback (most recent call last)",
      "\u001b[1;32m/home/dani-boy/extractNF/5_Extracting_OCR.ipynb Cell 25\u001b[0m line \u001b[0;36m5\n\u001b[1;32m      <a href='vscode-notebook-cell://wsl%2Bubuntu-22.04/home/dani-boy/extractNF/5_Extracting_OCR.ipynb#Y330sdnNjb2RlLXJlbW90ZQ%3D%3D?line=1'>2</a>\u001b[0m file_path \u001b[39m=\u001b[39m \u001b[39m\"\u001b[39m\u001b[39mpipeline_extracao_documentos/2_documentos_para_extracao/21_aguardando_processamento/Batch_20/MAGE_PDF_31282023_2254/1001204/Nota Magno 150.pdf\u001b[39m\u001b[39m\"\u001b[39m\n\u001b[1;32m      <a href='vscode-notebook-cell://wsl%2Bubuntu-22.04/home/dani-boy/extractNF/5_Extracting_OCR.ipynb#Y330sdnNjb2RlLXJlbW90ZQ%3D%3D?line=2'>3</a>\u001b[0m doc2convert \u001b[39m=\u001b[39m \u001b[39m\"\u001b[39m\u001b[39mNota Magno 150.pdf\u001b[39m\u001b[39m\"\u001b[39m\n\u001b[0;32m----> <a href='vscode-notebook-cell://wsl%2Bubuntu-22.04/home/dani-boy/extractNF/5_Extracting_OCR.ipynb#Y330sdnNjb2RlLXJlbW90ZQ%3D%3D?line=4'>5</a>\u001b[0m image_2work, image_path \u001b[39m=\u001b[39m convertResize(doc2convert, file_path, image_resized_path)\n\u001b[1;32m      <a href='vscode-notebook-cell://wsl%2Bubuntu-22.04/home/dani-boy/extractNF/5_Extracting_OCR.ipynb#Y330sdnNjb2RlLXJlbW90ZQ%3D%3D?line=5'>6</a>\u001b[0m imagem_gray \u001b[39m=\u001b[39m image_2work\u001b[39m.\u001b[39mconvert(\u001b[39m'\u001b[39m\u001b[39mL\u001b[39m\u001b[39m'\u001b[39m)\n\u001b[1;32m      <a href='vscode-notebook-cell://wsl%2Bubuntu-22.04/home/dani-boy/extractNF/5_Extracting_OCR.ipynb#Y330sdnNjb2RlLXJlbW90ZQ%3D%3D?line=6'>7</a>\u001b[0m texto_doc \u001b[39m=\u001b[39m (pytesseract\u001b[39m.\u001b[39mimage_to_string(imagem_gray, lang\u001b[39m=\u001b[39m\u001b[39m'\u001b[39m\u001b[39mpor\u001b[39m\u001b[39m'\u001b[39m))\n",
      "\u001b[0;31mNameError\u001b[0m: name 'convertResize' is not defined"
     ]
    }
   ],
   "source": [
    "# Nota 5 - Mesquita\n",
    "file_path = \"pipeline_extracao_documentos/2_documentos_para_extracao/21_aguardando_processamento/Batch_20/MAGE_PDF_31282023_2254/1001204/Nota Magno 150.pdf\"\n",
    "doc2convert = \"Nota Magno 150.pdf\"\n",
    "\n",
    "image_2work, image_path = convertResize(doc2convert, file_path, image_resized_path)\n",
    "imagem_gray = image_2work.convert('L')\n",
    "texto_doc = (pytesseract.image_to_string(imagem_gray, lang='por'))\n",
    "text_splited = texto_doc.split('\\n')\n",
    "texto_refNota5 = [x for x in text_splited if x.strip()]\n",
    "texto_refNota5"
   ]
  },
  {
   "cell_type": "code",
   "execution_count": null,
   "metadata": {},
   "outputs": [],
   "source": [
    "texto_ref"
   ]
  },
  {
   "cell_type": "code",
   "execution_count": 44,
   "metadata": {},
   "outputs": [],
   "source": [
    "linhas_ordenadas = sorted(text_splited)"
   ]
  },
  {
   "cell_type": "code",
   "execution_count": 63,
   "metadata": {},
   "outputs": [],
   "source": [
    "linhas_ordenadas = sorted(texto_ref, key=len)\n"
   ]
  },
  {
   "cell_type": "code",
   "execution_count": null,
   "metadata": {},
   "outputs": [],
   "source": [
    "linhas_ordenadas"
   ]
  },
  {
   "cell_type": "code",
   "execution_count": 67,
   "metadata": {},
   "outputs": [],
   "source": []
  },
  {
   "cell_type": "code",
   "execution_count": null,
   "metadata": {},
   "outputs": [],
   "source": [
    "linhas"
   ]
  },
  {
   "cell_type": "code",
   "execution_count": 65,
   "metadata": {},
   "outputs": [],
   "source": [
    "from datetime import datetime\n",
    "\n",
    "def extrair_data(linha):\n",
    "    datas = re.findall(r'\\d{2}/\\d{2}/\\d{4}', linha)\n",
    "    if datas:\n",
    "        return datetime.strptime(datas[0], '%d/%m/%Y')\n",
    "    else:\n",
    "        return datetime.min"
   ]
  },
  {
   "cell_type": "code",
   "execution_count": 69,
   "metadata": {},
   "outputs": [],
   "source": [
    "linhas_ordenadas = sorted(linhas, key=extrair_data)"
   ]
  },
  {
   "cell_type": "code",
   "execution_count": null,
   "metadata": {},
   "outputs": [],
   "source": [
    "linhas_ordenadas"
   ]
  },
  {
   "cell_type": "code",
   "execution_count": 71,
   "metadata": {},
   "outputs": [],
   "source": [
    "linhas_ordenadas = sorted(linhas, key=extrair_numero)"
   ]
  },
  {
   "cell_type": "code",
   "execution_count": 72,
   "metadata": {},
   "outputs": [
    {
     "data": {
      "text/plain": [
       "['CPF/CNPJ:',\n",
       " 'Telefone:',\n",
       " 'Nome/Razão Social:',\n",
       " 'LOTERIA SURUI LTDA -ME',\n",
       " 'Nome de Fantasia:',\n",
       " 'Endereço:',\n",
       " 'E-mail:',\n",
       " 'CPF/CNPJ:',\n",
       " 'INSC:MUNICIPAL:',\n",
       " 'Telefone:',\n",
       " 'Nome/Razão Social:',\n",
       " 'CAIXA ECONÔMICA FEDERAL',\n",
       " 'Endereço:',\n",
       " 'E-mail:',\n",
       " 'retrispOcaixa.gov.br',\n",
       " 'VALOR SERVIÇOS:',\n",
       " 'VALOR PIS:',\n",
       " 'R$ 0,00',\n",
       " 'EXIGIBILIDADE ISS',\n",
       " 'Exigivel',\n",
       " 'Observação:',\n",
       " 'Nota Fiscal de Serviços Eletrônica (NFSe)',\n",
       " 'Número da Nota:',\n",
       " 'PREFEITURA MUNICIPAL DE MAGE ea E',\n",
       " 'NOTA FISCAL DE SERVIÇOS ELETRÔNICA - NFS-e',\n",
       " 'SECRETARIA MUNICIPAL DA FAZENDA',\n",
       " 'PRESTADOR DE SERVIÇOS',\n",
       " 'Inscrição Municipal:',\n",
       " 'Inscrição Estadual:',\n",
       " 'RG:',\n",
       " 'TOMADOR DE SERVIÇOS',\n",
       " 'Inscrição Estadual:',\n",
       " 'DISCRIMINAÇÃO DOS SERVIÇOS',\n",
       " 'ata e Hora da Emissão:',\n",
       " 'Código Verificação:',\n",
       " 'k',\n",
       " 'lira',\n",
       " 'VALOR',\n",
       " 'DEDUÇÃO:',\n",
       " 'R$ 0,00',\n",
       " 'VALOR COFINS: VALOR IR:',\n",
       " 'R$ 0,00',\n",
       " 'REGIME TRIBUTAÇÃO',\n",
       " 'Sociedade Limitada',\n",
       " 'CUPONS DE APOSTAS, SORTEIOS, PREMIOS, INCLUSIVE OS DECORRENTES DE TÍTULOS DE CAPITALIZAÇÃO E CONGEN',\n",
       " 'DESC. INCOND: BASE DE ALÍQUOTA:',\n",
       " 'R$ 0,00 CÁLCULO: 3%',\n",
       " 'VALOR INSS: VALOR CSLL:',\n",
       " 'R$ 0,00 R$ 0,00 R$ 0,00',\n",
       " 'DADOS COMPLEMENTARES',\n",
       " 'OUTRAS INFORMAÇÕES / CRITICAS',\n",
       " 'SIMPLES NACIONAL',\n",
       " 'ISSQN RETIDO',\n",
       " 'VALOR ISS: VALOR ISS DESC. COND:',\n",
       " 'R$ 0,00',\n",
       " 'OUTRAS RETENÇÕES:',\n",
       " 'R$ 0,00 R$ 3.441,64',\n",
       " 'LOCAL INCIDÊNCIA',\n",
       " 'Magé - RJ',\n",
       " 'LOCAL. PRESTAÇÃO',\n",
       " 'SERVIÇO',\n",
       " 'Magé - RJ',\n",
       " 'https://nfs-e.mage.rj.gov.br',\n",
       " 'VALOR LÍQUIDO:',\n",
       " '00.360.305/0183-13 |',\n",
       " '- Prestador Optante do Simples Nacional (Alíquota: 3 %)',\n",
       " 'Sim (3% ) Não',\n",
       " 'R$ 3.441,64',\n",
       " 'VALOR TOTAL DA NOTA: R$ 3.441,64',\n",
       " 'R$ 3.441,64',\n",
       " '5EAB75222',\n",
       " 'Comissão sobre jogos 07/2023.',\n",
       " '11',\n",
       " '17.096.574/0001-08',\n",
       " 'Item da Lista de Serviços - 19.01 - SERVIÇOS DE DISTRIBUIÇÃO E VENDA DE BILHETES E DEMAIS PRODUTOS DE LOTERIA, BINGOS, CARTÕES, PULES OU',\n",
       " '31/07/23, 13:33',\n",
       " '31/07/2023 13:31:00',\n",
       " '78.880.850',\n",
       " 'R$ 103,25 RETIDO: R$ 0,00',\n",
       " 'AV DOUTOR SIQUEIRA Nº 342 BAIRRO: CENTRO CIDADE: MAGÉ - RJ CEP: 25900094',\n",
       " 'RUA CAPITÃO JOSÉ DE PAULA ,394 LOJA 03 ,SURUI - Magé-RJ',\n",
       " 'Valor Aproximado dos Tributos Federais R$ 462,9 (Alíq 13,45), Tributos Estaduais R$ 0,00 (Alíq 0,00 IBPT) e Municipal de R$ 169,33 (Alíq IBPT 4,92 IBPT)',\n",
       " 'Julho/2023',\n",
       " '240746',\n",
       " 'CNAE - 8299706 - CASAS LOTÉRICAS']"
      ]
     },
     "execution_count": 72,
     "metadata": {},
     "output_type": "execute_result"
    }
   ],
   "source": [
    "linhas_ordenadas"
   ]
  },
  {
   "cell_type": "code",
   "execution_count": null,
   "metadata": {},
   "outputs": [],
   "source": [
    "texto_ref = [x for x in text_splited if x.strip()]"
   ]
  },
  {
   "cell_type": "code",
   "execution_count": null,
   "metadata": {},
   "outputs": [],
   "source": [
    "linhas_ordenadas"
   ]
  },
  {
   "cell_type": "code",
   "execution_count": 34,
   "metadata": {},
   "outputs": [
    {
     "name": "stdout",
     "output_type": "stream",
     "text": [
      "\n",
      "lista_val: [('R$ 3.441,64', 2), ('R$ 0,00', 30), ('R$ 0,00', 64), ('R$ 0,00', 248), ('R$ 169,33', 288), ('R$ 0,00', 591), ('3%', 608), ('R$ 3.441,64', 611), ('R$ 0,00', 647), ('R$ 0,00', 655), ('R$ 0,00', 663), ('3%', 746), ('R$ 103,25', 803), ('R$ 0,00', 821), ('R$ 0,00', 829), ('R$ 0,00', 857), ('R$ 3.441,64', 865)]  -->  17\n",
      "\n"
     ]
    }
   ],
   "source": [
    "texto_valores = texto\n",
    "\n",
    "# Exemplo de uso\n",
    "marcador1 = 'TOTAL DA NOTA'  # SAO PEDRO DA ALDEIA\n",
    "marcador2 = 'LOCAL INCIDÊNCIA'\n",
    "lista_val = encontrar_valores3(texto_valores, marcador1, marcador2)\n",
    "\n",
    "\n",
    "print(f'\\nlista_val: {lista_val}  -->  {len(lista_val)}\\n')"
   ]
  },
  {
   "cell_type": "code",
   "execution_count": null,
   "metadata": {},
   "outputs": [],
   "source": [
    "text_splited = texto.split('\\n')\n",
    "texto_ref = [x for x in text_splited if x.strip()]\n",
    "texto_ref"
   ]
  },
  {
   "cell_type": "code",
   "execution_count": null,
   "metadata": {},
   "outputs": [],
   "source": [
    "# Portuguese text image to string\n",
    "texto = (pytesseract.image_to_string(Image.open(image_path), lang='por'))"
   ]
  },
  {
   "cell_type": "code",
   "execution_count": null,
   "metadata": {},
   "outputs": [],
   "source": [
    "texto"
   ]
  },
  {
   "cell_type": "code",
   "execution_count": null,
   "metadata": {},
   "outputs": [],
   "source": [
    "text_splited = texto.split('\\n')\n",
    "texto_ref = [x for x in text_splited if x.strip()]\n",
    "texto_ref"
   ]
  },
  {
   "cell_type": "code",
   "execution_count": null,
   "metadata": {},
   "outputs": [],
   "source": [
    "text_splited = texto.split('\\n')\n",
    "texto_ref = [x for x in text_splited if x.strip()]\n",
    "texto_ref"
   ]
  },
  {
   "cell_type": "code",
   "execution_count": 50,
   "metadata": {},
   "outputs": [
    {
     "name": "stdout",
     "output_type": "stream",
     "text": [
      "4ADEE6A7B\n"
     ]
    }
   ],
   "source": [
    "# Codigo de verificaçao\n",
    "marcador_inicio = 'Código Verificação:'  # SAO PEDRO DA ALDEIA\n",
    "marcador_fim = 'PRESTADOR DE SERVIÇOS'\n",
    "\n",
    "resultado = extrair_texto_entre_marcadores(texto_ref, marcador_inicio, marcador_fim)\n",
    "resultado = resultado.replace(marcador_inicio, \"\").strip()\n",
    "resultado_splited = resultado.split(':')\n",
    "resultado_splited = [s.replace(\" \", \"\").strip() for s in resultado_splited]\n",
    "resultado_splited = [x for x in resultado_splited if x.strip()]\n",
    "codido_verificacao = resultado_splited[0]\n",
    "print(codido_verificacao)"
   ]
  },
  {
   "cell_type": "code",
   "execution_count": 52,
   "metadata": {},
   "outputs": [
    {
     "name": "stdout",
     "output_type": "stream",
     "text": [
      "4ADEE6A7B\n"
     ]
    }
   ],
   "source": [
    "# Codigo de verificaçao\n",
    "marcador_inicio = 'Código Verificação'\n",
    "marcador_fim = 'PRESTADOR DE SERVIÇOS'\n",
    "\n",
    "resultado = extrair_texto_entre_marcadores(texto_ref, marcador_inicio, marcador_fim)\n",
    "resultado = resultado.replace(marcador_inicio, \"\").strip()\n",
    "resultado_splited = resultado.split(':')\n",
    "resultado_splited = [s.replace(\" \", \"\").strip() for s in resultado_splited]\n",
    "resultado_splited = [x for x in resultado_splited if x.strip()]\n",
    "codido_verificacao = resultado_splited[0]\n",
    "print(codido_verificacao)"
   ]
  },
  {
   "cell_type": "code",
   "execution_count": 54,
   "metadata": {},
   "outputs": [
    {
     "name": "stdout",
     "output_type": "stream",
     "text": [
      "valor_total: R$ 252.836,00    valor_total_numerico: 252836.0\n"
     ]
    }
   ],
   "source": [
    "# 5. Valor total da nota\n",
    "marcador_inicio = 'VALOR TOTAL DA NOTA:'\n",
    "marcador_fim = 'CNAE -'\n",
    "\n",
    "resultado = extrair_texto_entre_marcadores(text_splited, marcador_inicio, marcador_fim)\n",
    "valor_total = resultado.replace(marcador_inicio, \"\").strip()\n",
    "valor_total_numerico = format_number(valor_total)\n",
    "print(f'valor_total: {valor_total}    valor_total_numerico: {valor_total_numerico}' )"
   ]
  },
  {
   "cell_type": "code",
   "execution_count": 55,
   "metadata": {},
   "outputs": [
    {
     "name": "stdout",
     "output_type": "stream",
     "text": [
      "4930202 - TRANSPORTE RODOVIÁRIO DE CARGA, EXCETO PRODUTOS PERIGOSOS E MUDANÇAS, INTERMUNICIPAL, INTERESTADUAL\n"
     ]
    }
   ],
   "source": [
    "# 5. CNAE\n",
    "marcador_inicio = 'CNAE - '\n",
    "marcador_fim = 'Item da Lista de Serviços -'\n",
    "\n",
    "resultado = extrair_texto_entre_marcadores(text_splited, marcador_inicio, marcador_fim)\n",
    "valor_cnae = resultado.replace(marcador_inicio, \"\").strip()\n",
    "print(valor_cnae)"
   ]
  },
  {
   "cell_type": "code",
   "execution_count": 164,
   "metadata": {},
   "outputs": [
    {
     "ename": "NameError",
     "evalue": "name 'extrair_texto_entre_marcadores' is not defined",
     "output_type": "error",
     "traceback": [
      "\u001b[0;31m---------------------------------------------------------------------------\u001b[0m",
      "\u001b[0;31mNameError\u001b[0m                                 Traceback (most recent call last)",
      "\u001b[1;32m/home/dani-boy/extractNF/5_Extracting_OCR.ipynb Cell 48\u001b[0m line \u001b[0;36m5\n\u001b[1;32m      <a href='vscode-notebook-cell://wsl%2Bubuntu-22.04/home/dani-boy/extractNF/5_Extracting_OCR.ipynb#Y124sdnNjb2RlLXJlbW90ZQ%3D%3D?line=1'>2</a>\u001b[0m marcador_inicio \u001b[39m=\u001b[39m \u001b[39m'\u001b[39m\u001b[39mItem da Lista de Serviços -\u001b[39m\u001b[39m'\u001b[39m\n\u001b[1;32m      <a href='vscode-notebook-cell://wsl%2Bubuntu-22.04/home/dani-boy/extractNF/5_Extracting_OCR.ipynb#Y124sdnNjb2RlLXJlbW90ZQ%3D%3D?line=2'>3</a>\u001b[0m marcador_fim \u001b[39m=\u001b[39m \u001b[39m'\u001b[39m\u001b[39mVALOR SERVIÇOS:\u001b[39m\u001b[39m'\u001b[39m\n\u001b[0;32m----> <a href='vscode-notebook-cell://wsl%2Bubuntu-22.04/home/dani-boy/extractNF/5_Extracting_OCR.ipynb#Y124sdnNjb2RlLXJlbW90ZQ%3D%3D?line=4'>5</a>\u001b[0m resultado \u001b[39m=\u001b[39m extrair_texto_entre_marcadores(lista, marcador_inicio, marcador_fim)\n\u001b[1;32m      <a href='vscode-notebook-cell://wsl%2Bubuntu-22.04/home/dani-boy/extractNF/5_Extracting_OCR.ipynb#Y124sdnNjb2RlLXJlbW90ZQ%3D%3D?line=5'>6</a>\u001b[0m valor_item_servico \u001b[39m=\u001b[39m resultado\u001b[39m.\u001b[39mreplace(marcador_inicio, \u001b[39m\"\u001b[39m\u001b[39m\"\u001b[39m)\u001b[39m.\u001b[39mstrip()\n\u001b[1;32m      <a href='vscode-notebook-cell://wsl%2Bubuntu-22.04/home/dani-boy/extractNF/5_Extracting_OCR.ipynb#Y124sdnNjb2RlLXJlbW90ZQ%3D%3D?line=6'>7</a>\u001b[0m \u001b[39mprint\u001b[39m(valor_item_servico)\n",
      "\u001b[0;31mNameError\u001b[0m: name 'extrair_texto_entre_marcadores' is not defined"
     ]
    }
   ],
   "source": [
    "# 6. Items da lista de serviços\n",
    "marcador_inicio = 'Item da Lista de Serviços -'\n",
    "marcador_fim = 'VALOR SERVIÇOS:'\n",
    "\n",
    "resultado = extrair_texto_entre_marcadores(lista, marcador_inicio, marcador_fim)\n",
    "valor_item_servico = resultado.replace(marcador_inicio, \"\").strip()\n",
    "print(valor_item_servico)"
   ]
  },
  {
   "cell_type": "code",
   "execution_count": 57,
   "metadata": {},
   "outputs": [
    {
     "data": {
      "text/plain": [
       "'Exigivel Sociedade Limitada Sim (2,01% ) Não SERVIÇO Magé - RJ Magé - RJ'"
      ]
     },
     "execution_count": 57,
     "metadata": {},
     "output_type": "execute_result"
    }
   ],
   "source": [
    "# Outras Informacoes criticas\n",
    "marcador_inicio = 'EXIGIBILIDADE ISS REGIME TRIBUTAÇÃO SIMPLES NACIONAL ISSQN RETIDO LOCAL. PRESTAÇÃO LOCAL INCIDÊNCIA'\n",
    "marcador_fim = 'Observação:'\n",
    "\n",
    "resultado = extrair_texto_entre_marcadores(text_splited, marcador_inicio, marcador_fim)\n",
    "resultado\n",
    "resultado = resultado.replace(marcador_inicio, \"\").strip()\n",
    "resultado"
   ]
  },
  {
   "cell_type": "code",
   "execution_count": 58,
   "metadata": {},
   "outputs": [],
   "source": [
    "# valores dos impostos\n",
    "marcador_inicio = 'VALOR ISS: VALOR ISS DESC. COND:'\n",
    "marcador_fim = 'DADOS COMPLEMENTARES'\n",
    "resultado = extrair_texto_entre_marcadores(text_splited, marcador_inicio, marcador_fim)"
   ]
  },
  {
   "cell_type": "code",
   "execution_count": 59,
   "metadata": {},
   "outputs": [
    {
     "data": {
      "text/plain": [
       "'VALOR SERVIÇOS: VALOR | DESC. INCOND: BASE DE ALÍQUOTA: VALOR ISS: VALOR ISS DESC. COND: R$ 252.836,00 DEDUÇÃO: R$ 0,00 CÁLCULO: 2,01% R$ 5.082,00 RETIDO: R$ 0,00  R$ 0,00 R$ 252.836,00 R$ 0,00 VALOR PIS: VALOR COFINS: VALOR IR: VALOR INSS: VALOR CSLL: OUTRAS RETENÇÕES: VALOR LÍQUIDO: R$ 0,00 R$ 0,00 R$ 0,00 R$ 0,00 R$ 0,00 R$ 0,00 R$ 252.836,00 '"
      ]
     },
     "execution_count": 59,
     "metadata": {},
     "output_type": "execute_result"
    }
   ],
   "source": [
    "resultado"
   ]
  },
  {
   "cell_type": "code",
   "execution_count": 60,
   "metadata": {},
   "outputs": [
    {
     "data": {
      "text/plain": [
       "'VALOR SERVIÇOS: VALOR | DESC. INCOND: BASE DE ALÍQUOTA: :  DESC. COND: R$ 252.836,00 DEDUÇÃO: R$ 0,00 CÁLCULO: 2,01% R$ 5.082,00 RETIDO: R$ 0,00  R$ 0,00 R$ 252.836,00 R$ 0,00'"
      ]
     },
     "execution_count": 60,
     "metadata": {},
     "output_type": "execute_result"
    }
   ],
   "source": [
    "# valores dos impostos\n",
    "marcador_inicio = 'VALOR ISS'\n",
    "marcador_fim = 'VALOR COFINS:'\n",
    "\n",
    "resultado = extrair_texto_entre_marcadores(text_splited, marcador_inicio, marcador_fim)\n",
    "resultado\n",
    "resultado = resultado.replace(marcador_inicio, \"\").strip()\n",
    "resultado"
   ]
  },
  {
   "cell_type": "code",
   "execution_count": null,
   "metadata": {},
   "outputs": [],
   "source": [
    "resultado"
   ]
  },
  {
   "cell_type": "code",
   "execution_count": null,
   "metadata": {},
   "outputs": [],
   "source": [
    "resultado"
   ]
  },
  {
   "cell_type": "code",
   "execution_count": 61,
   "metadata": {},
   "outputs": [
    {
     "data": {
      "text/plain": [
       "'Exigivel Sociedade Limitada Sim (2,01% ) Não SERVIÇO Magé - RJ Magé - RJ'"
      ]
     },
     "execution_count": 61,
     "metadata": {},
     "output_type": "execute_result"
    }
   ],
   "source": [
    "# Outras Informacoes criticas\n",
    "marcador_inicio = 'EXIGIBILIDADE ISS REGIME TRIBUTAÇÃO SIMPLES NACIONAL ISSQN RETIDO LOCAL. PRESTAÇÃO LOCAL INCIDÊNCIA'\n",
    "marcador_fim = 'Observação:'\n",
    "\n",
    "resultado = extrair_texto_entre_marcadores(text_splited, marcador_inicio, marcador_fim)\n",
    "s = resultado.replace(marcador_inicio, \"\").strip()\n",
    "s"
   ]
  },
  {
   "cell_type": "code",
   "execution_count": 38,
   "metadata": {},
   "outputs": [],
   "source": [
    "def split_string_with_exceptions(s, phrases):\n",
    "    safe_phrases = {phrase: phrase.replace(' ', '_') for phrase in phrases}\n",
    "\n",
    "    for phrase, safe_phrase in safe_phrases.items():\n",
    "        s = s.replace(phrase, safe_phrase)\n",
    "\n",
    "    words = s.split()\n",
    "\n",
    "    for safe_phrase, phrase in safe_phrases.items():\n",
    "        words = [word.replace(safe_phrase, phrase) for word in words]\n",
    "\n",
    "    return words\n",
    "\n",
    "def get_original_phrase(safe_word, safe_phrases_to_original):\n",
    "    return safe_phrases_to_original.get(safe_word, safe_word)\n",
    "\n",
    "def remove_word_from_list(word_list, word_to_remove):\n",
    "    return [word for word in word_list if word != word_to_remove]"
   ]
  },
  {
   "cell_type": "code",
   "execution_count": null,
   "metadata": {},
   "outputs": [],
   "source": [
    "s"
   ]
  },
  {
   "cell_type": "code",
   "execution_count": null,
   "metadata": {},
   "outputs": [],
   "source": [
    "# cadastro a lista de termos inseparaveis\n",
    "phrases = [\"Sociedade Limitada\", \"Magé - RJ\"]"
   ]
  },
  {
   "cell_type": "code",
   "execution_count": null,
   "metadata": {},
   "outputs": [],
   "source": [
    "# Processo o split\n",
    "result = split_string_with_exceptions(s, phrases)\n",
    "print(result)"
   ]
  },
  {
   "cell_type": "code",
   "execution_count": null,
   "metadata": {},
   "outputs": [],
   "source": [
    "result[]"
   ]
  },
  {
   "cell_type": "code",
   "execution_count": null,
   "metadata": {},
   "outputs": [],
   "source": [
    "safe_phrases_to_original = {\"Sociedade_Limitada\": \"Sociedade Limitada\", \"Magé_-_RJ\": \"RJ - Magé\"}"
   ]
  },
  {
   "cell_type": "code",
   "execution_count": null,
   "metadata": {},
   "outputs": [],
   "source": [
    "# Obter novamente a palavra da lista em seu formato original\n",
    "original_phrase = get_original_phrase(\"Magé_-_RJ\", safe_phrases_to_original)\n",
    "print(original_phrase)  # Deve imprimir: \"Sociedade Limitada\""
   ]
  },
  {
   "cell_type": "code",
   "execution_count": null,
   "metadata": {},
   "outputs": [],
   "source": [
    "# Usando a função\n",
    "word_list = [\"Sociedade Limitada\", \"Magé - RJ\"]"
   ]
  },
  {
   "cell_type": "code",
   "execution_count": null,
   "metadata": {},
   "outputs": [],
   "source": [
    "# Teste\n",
    "s = \"Sociedade Limitada é uma forma de constituição de empresas onde o capital social não se encontra diretamente ligado à pessoa dos sócios, permitindo que uma pessoa possa participar de várias empresas. A sede fica em RJ Magé.\""
   ]
  },
  {
   "cell_type": "code",
   "execution_count": null,
   "metadata": {},
   "outputs": [],
   "source": [
    "# Usando a função\n",
    "safe_phrases_to_original = {\"Sociedade_Limitada\": \"Sociedade Limitada\", \"RJ_Magé\": \"RJ Magé\"}"
   ]
  },
  {
   "cell_type": "code",
   "execution_count": null,
   "metadata": {},
   "outputs": [],
   "source": []
  },
  {
   "cell_type": "code",
   "execution_count": null,
   "metadata": {},
   "outputs": [],
   "source": [
    "word_to_remove = \"Sociedade_Limitada\""
   ]
  },
  {
   "cell_type": "code",
   "execution_count": null,
   "metadata": {},
   "outputs": [],
   "source": [
    "new_result = remove_word_from_list(result, word_to_remove)"
   ]
  },
  {
   "cell_type": "code",
   "execution_count": null,
   "metadata": {},
   "outputs": [],
   "source": [
    "print(new_word_list)  # Deve imprimir: [\"RJ_Magé\", \"outra_palavra\"]"
   ]
  },
  {
   "cell_type": "code",
   "execution_count": null,
   "metadata": {},
   "outputs": [],
   "source": [
    "extract_number(valor_total)"
   ]
  },
  {
   "cell_type": "code",
   "execution_count": null,
   "metadata": {},
   "outputs": [],
   "source": [
    "format_number(valor_total)"
   ]
  },
  {
   "cell_type": "code",
   "execution_count": 37,
   "metadata": {},
   "outputs": [],
   "source": [
    "def format_number(number_str):\n",
    "    # Check for percentage and handle it\n",
    "    if '%' in number_str:\n",
    "        number_str = number_str.replace('%', '')\n",
    "        return float(number_str)  # You can multiply by 100 here if needed\n",
    "\n",
    "    # Check if the string contains \"R$\" or a comma, indicating the original format\n",
    "    if 'R$' in number_str or ',' in number_str:\n",
    "        # Original format: Remove 'R$', replace dots with nothing, and replace commas with dots\n",
    "        number_str = number_str.replace('R$', '').replace('.', '').replace(',', '.')\n",
    "    else:\n",
    "        # New format: Extract only the numeric part using regex\n",
    "        number_str = re.findall(r'[\\d\\.]+', number_str)[-1]\n",
    "\n",
    "    return float(number_str)\n",
    "\n",
    "def extract_number(text):\n",
    "    match = re.search(r'\\b\\d+(\\.\\d+)?\\b', text)\n",
    "    if match:\n",
    "        return match.group(0)\n",
    "    else:\n",
    "        return None"
   ]
  },
  {
   "cell_type": "code",
   "execution_count": null,
   "metadata": {},
   "outputs": [],
   "source": [
    "resultado"
   ]
  },
  {
   "cell_type": "code",
   "execution_count": null,
   "metadata": {},
   "outputs": [],
   "source": [
    "resultado_splited = resultado.split(':')"
   ]
  },
  {
   "cell_type": "code",
   "execution_count": null,
   "metadata": {},
   "outputs": [],
   "source": [
    "resultado_splited = resultado.split(':')\n",
    "resultado_splited = [s.replace(\" \", \"\").strip() for s in resultado_splited]\n",
    "resultado_splited = [x for x in resultado_splited if x.strip()]\n",
    "codido_verificacao = resultado_splited[0]\n",
    "print(codido_verificacao)"
   ]
  },
  {
   "cell_type": "code",
   "execution_count": null,
   "metadata": {},
   "outputs": [],
   "source": [
    "codido_verificacao = resultado_splited[0]\n",
    "print(codido_verificacao)"
   ]
  },
  {
   "cell_type": "code",
   "execution_count": null,
   "metadata": {},
   "outputs": [],
   "source": [
    "print(codido_verificacao)"
   ]
  },
  {
   "cell_type": "code",
   "execution_count": null,
   "metadata": {},
   "outputs": [],
   "source": [
    "resultado_splited = [x for x in resultado_splited if x.strip()]"
   ]
  },
  {
   "cell_type": "code",
   "execution_count": null,
   "metadata": {},
   "outputs": [],
   "source": [
    "text_splited = texto.split(':')\n",
    "text_splited = [x for x in text_splited if x.strip()]\n",
    "text_splited = [s.replace(\";\", \"\").strip() for s in text_splited] #depende da situaçao"
   ]
  },
  {
   "cell_type": "code",
   "execution_count": null,
   "metadata": {},
   "outputs": [],
   "source": [
    "resultado_splited = [s.replace(\" \", \"\").strip() for s in resultado_splited] #depende da situaçao"
   ]
  },
  {
   "cell_type": "code",
   "execution_count": null,
   "metadata": {},
   "outputs": [],
   "source": [
    "resultado_splited = [x for x in resultado_splited if x.strip()]"
   ]
  },
  {
   "cell_type": "code",
   "execution_count": null,
   "metadata": {},
   "outputs": [],
   "source": [
    "    text_splited = texto.split('\\n')\n",
    "    text_splited = [x for x in text_splited if x.strip()]\n",
    "    text_splited = [s.replace(\";\", \"\").strip() for s in text_splited] #depende da situaçao\n",
    "    return text_splited"
   ]
  },
  {
   "cell_type": "code",
   "execution_count": null,
   "metadata": {},
   "outputs": [],
   "source": [
    "text_splited = [x for x in text_splited if x.strip()]"
   ]
  },
  {
   "cell_type": "code",
   "execution_count": null,
   "metadata": {},
   "outputs": [],
   "source": [
    "text_splited = [s.replace(\";\", \"\").strip() for s in text_splited] #depende da situaçao"
   ]
  },
  {
   "cell_type": "code",
   "execution_count": null,
   "metadata": {},
   "outputs": [],
   "source": [
    "# Portuguese text image to string\n",
    "print(pytesseract.image_to_string(Image.open(image_path), lang='por'))"
   ]
  },
  {
   "cell_type": "code",
   "execution_count": null,
   "metadata": {},
   "outputs": [],
   "source": [
    "# Get bounding box estimates\n",
    "print(pytesseract.image_to_boxes(Image.open(image_path)))"
   ]
  },
  {
   "cell_type": "code",
   "execution_count": null,
   "metadata": {},
   "outputs": [],
   "source": [
    "# Get verbose data including boxes, confidences, line and page numbers\n",
    "print(pytesseract.image_to_data(Image.open(image_path)))"
   ]
  },
  {
   "cell_type": "code",
   "execution_count": null,
   "metadata": {},
   "outputs": [],
   "source": [
    "# Get information about orientation and script detection\n",
    "print(pytesseract.image_to_osd(Image.open(image_path)))"
   ]
  },
  {
   "cell_type": "markdown",
   "metadata": {},
   "source": [
    "## Batch processs"
   ]
  },
  {
   "cell_type": "code",
   "execution_count": null,
   "metadata": {},
   "outputs": [],
   "source": [
    "# Batch processing with a single file containing the list of multiple image file paths\n",
    "print(pytesseract.image_to_string(image_path))\n",
    "\n",
    "# Timeout/terminate the tesseract job after a period of time\n",
    "try:\n",
    "    print(pytesseract.image_to_string(image_path, timeout=2)) # Timeout after 2 seconds\n",
    "    print(pytesseract.image_to_string(image_path, timeout=0.5)) # Timeout after half a second\n",
    "except RuntimeError as timeout_error:\n",
    "    # Tesseract processing is terminated\n",
    "    pass"
   ]
  },
  {
   "cell_type": "code",
   "execution_count": null,
   "metadata": {},
   "outputs": [],
   "source": [
    "# Get HOCR output\n",
    "#hocr = pytesseract.image_to_pdf_or_hocr(image_path, extension='hocr')\n",
    "\n",
    "# Get ALTO XML output\n",
    "xml = pytesseract.image_to_alto_xml(image_path)"
   ]
  },
  {
   "cell_type": "code",
   "execution_count": null,
   "metadata": {},
   "outputs": [],
   "source": [
    "xml"
   ]
  },
  {
   "cell_type": "code",
   "execution_count": null,
   "metadata": {},
   "outputs": [],
   "source": [
    "import numpy as np\n",
    "import cv2"
   ]
  },
  {
   "cell_type": "code",
   "execution_count": null,
   "metadata": {},
   "outputs": [],
   "source": [
    "img = image_path"
   ]
  },
  {
   "cell_type": "code",
   "execution_count": null,
   "metadata": {},
   "outputs": [],
   "source": [
    "norm_img = np.zeros((img.shape[0], img.shape[1]))"
   ]
  },
  {
   "cell_type": "code",
   "execution_count": null,
   "metadata": {},
   "outputs": [],
   "source": [
    "img = cv2.normalize(img, norm_img, 0, 255, cv2.NORM_MINMAX)"
   ]
  },
  {
   "cell_type": "code",
   "execution_count": null,
   "metadata": {},
   "outputs": [],
   "source": [
    "cv2.CALIB_CB_NORMALIZE_IMAGE = np.zeros((img.shape[0], img.shape[1]))"
   ]
  },
  {
   "cell_type": "code",
   "execution_count": null,
   "metadata": {},
   "outputs": [],
   "source": [
    "norm_img = np.zeros((img.shape[0], img.shape[1]))\n",
    "img = cv2.normalize(img, norm_img, 0, 255, cv2.NORM_MINMAX)\n",
    "img = cv2.threshold(img, 100, 255, cv2.THRESH_BINARY)[1]\n",
    "img = cv2.GaussianBlur(img, (1, 1), 0)"
   ]
  },
  {
   "cell_type": "code",
   "execution_count": null,
   "metadata": {},
   "outputs": [],
   "source": [
    "from pytesseract import Output\n",
    "import pytesseract\n",
    "import cv2"
   ]
  },
  {
   "cell_type": "code",
   "execution_count": null,
   "metadata": {},
   "outputs": [],
   "source": [
    "filename = image_path\n",
    "image = cv2.imread(filename)"
   ]
  },
  {
   "cell_type": "code",
   "execution_count": null,
   "metadata": {},
   "outputs": [],
   "source": [
    "results = pytesseract.image_to_data(image, \n",
    "output_type=Output.DICT)"
   ]
  },
  {
   "cell_type": "code",
   "execution_count": null,
   "metadata": {},
   "outputs": [],
   "source": [
    "print(results)"
   ]
  },
  {
   "cell_type": "code",
   "execution_count": null,
   "metadata": {},
   "outputs": [],
   "source": [
    "for i in range(0, len(results['text'])):\n",
    "   x = results['left'][i]\n",
    "   y = results['top'][i]\n",
    "\n",
    "   w = results['width'][i]\n",
    "   h = results['height'][i]\n",
    "\n",
    "   text = results['text'][i]\n",
    "   conf = int(results['conf'][i])\n",
    "\n",
    "   if conf > 70:\n",
    "        text = ''.join([c if ord(c) < 128 else '' for c in text]).strip()\n",
    "        cv2.rectangle(image, (x, y), (x + w, y + h), (0, 255, 0), 2)\n",
    "        cv2.putText(image, text, (x, y - 10), \n",
    "        cv2.FONT_HERSHEY_SIMPLEX, 0.5, (0, 0, 200), 2)\n",
    "        cv2.imshow(winname, mat)"
   ]
  },
  {
   "cell_type": "code",
   "execution_count": null,
   "metadata": {},
   "outputs": [],
   "source": [
    " text"
   ]
  },
  {
   "cell_type": "code",
   "execution_count": null,
   "metadata": {},
   "outputs": [],
   "source": [
    "cv2.imshow(winname, mat)"
   ]
  },
  {
   "cell_type": "code",
   "execution_count": null,
   "metadata": {},
   "outputs": [],
   "source": [
    "cv2.imshow('', frame)"
   ]
  },
  {
   "cell_type": "code",
   "execution_count": null,
   "metadata": {},
   "outputs": [],
   "source": [
    "cv2.imshow(image, mat)"
   ]
  },
  {
   "cell_type": "code",
   "execution_count": null,
   "metadata": {},
   "outputs": [],
   "source": [
    "import numpy as np\n",
    "import cv2\n",
    "\n",
    "image = np.full((300, 300, 3), 255).astype(np.uint8)\n",
    "\n",
    "cv2.putText(image, 'some picture', (20, 60),\n",
    "            cv2.FONT_HERSHEY_SIMPLEX, 1, [0, 0, 0])\n",
    "\n",
    "cv2.imshow('custom window name', image)\n",
    "cv2.waitKey(0)"
   ]
  },
  {
   "cell_type": "code",
   "execution_count": null,
   "metadata": {},
   "outputs": [],
   "source": [
    "import cv2 as cv \n",
    "\n",
    "path = R'cabecalho.png'\n",
    "\n",
    "img = cv.imread(path)\n",
    "\n",
    "cv.imshow(\"Dog\", img)\n",
    "\n",
    "cv.waitKey(0)"
   ]
  },
  {
   "cell_type": "code",
   "execution_count": null,
   "metadata": {},
   "outputs": [],
   "source": [
    "\"\"\"\n",
    "Demo script using Tesseract OCR.\n",
    "\n",
    "Extract text of a page and interpret unrecognized characters using Tesseract.\n",
    "MuPDF codes unrecognizable characters as 0xFFFD = 65533.\n",
    "Extraction option is \"dict\", which delivers contiguous text pieces within one\n",
    "line, that have the same font properties (color, fontsize, etc.). Together with\n",
    "the language parameter, this helps Tesseract finding the correct character.\n",
    "\n",
    "The basic approach is to only invoke OCR, if the span text contains\n",
    "chr(65533). Because Tesseract's response ignores leading spaces and appends\n",
    "line break characters, some adjustments are made.\n",
    "\n",
    "--------------\n",
    "This demo will OCR only text, that is known to be text. This means, it\n",
    "does not look at parts of a page containing images or text encoded as drawings.\n",
    "--------------\n",
    "\n",
    "Dependencies:\n",
    "Tesseract must be installed and invocable via Python's 'subprocess' module.\n",
    "You also must install all the Tesseract language support you need to detect.\n",
    "\"\"\"\n",
    "import fitz\n",
    "import subprocess\n",
    "import time\n",
    "\n",
    "# Tesseract invocation command (Windows version)\n",
    "# Assume: language English. Detect more languages by add e.g. '+deu' for German.\n",
    "# Assume: text represents one line (--psm 7)\n",
    "# Note: Language mix spec increases duration by >40% - only use when needed!\n",
    "tess = \"tesseract stdin stdout --psm 7 -l eng\"\n",
    "mat = fitz.Matrix(4, 4)  # high resolution matrix\n",
    "ocr_time = 0\n",
    "pix_time = 0\n",
    "\n",
    "\n",
    "def get_tessocr(page, bbox):\n",
    "    \"\"\"Return OCR-ed span text using Tesseract.\n",
    "\n",
    "    Args:\n",
    "        page: fitz.Page\n",
    "        bbox: fitz.Rect or its tuple\n",
    "    Returns:\n",
    "        The OCR-ed text of the bbox.\n",
    "    \"\"\"\n",
    "    global ocr_time, pix_time, tess, mat\n",
    "    # Step 1: Make a high-resolution image of the bbox.\n",
    "    t0 = time.perf_counter()\n",
    "    pix = page.get_pixmap(\n",
    "        colorspace=fitz.csGRAY,  # we need no color\n",
    "        matrix=mat,\n",
    "        clip=bbox,\n",
    "    )\n",
    "    image = pix.tobytes(\"png\")  # make a PNG image\n",
    "    t1 = time.perf_counter()\n",
    "    # Step 2: Invoke Tesseract to OCR the image. Text is stored in stdout.\n",
    "    rc = subprocess.run(\n",
    "        tess,  # the command\n",
    "        input=image,  # the pixmap image\n",
    "        stdout=subprocess.PIPE,  # find the text here\n",
    "        shell=True,\n",
    "    )\n",
    "\n",
    "    # because we told Tesseract to interpret the image as one line, we now need\n",
    "    # to strip off the line break characters from the tail.\n",
    "    text = rc.stdout.decode()  # convert to string\n",
    "    text = text[:-3]  # remove line end characters\n",
    "    t2 = time.perf_counter()\n",
    "    ocr_time += t2 - t1\n",
    "    pix_time += t1 - t0\n",
    "    return text\n",
    "\n",
    "\n"
   ]
  },
  {
   "cell_type": "code",
   "execution_count": null,
   "metadata": {},
   "outputs": [],
   "source": [
    "file = r\".\\data\\Hold_em_test\\Notas Magé\\NF 688 - ConsoR Zadar- Engetecnica (ENZA).pdf\""
   ]
  },
  {
   "cell_type": "code",
   "execution_count": null,
   "metadata": {},
   "outputs": [],
   "source": [
    "doc = fitz.open(file)"
   ]
  },
  {
   "cell_type": "code",
   "execution_count": null,
   "metadata": {},
   "outputs": [],
   "source": [
    "doc"
   ]
  },
  {
   "cell_type": "code",
   "execution_count": null,
   "metadata": {},
   "outputs": [],
   "source": [
    "ocr_count = 0\n",
    "for page in doc:\n",
    "    print(page)\n",
    "    get_tessocr(page, 10)"
   ]
  },
  {
   "cell_type": "code",
   "execution_count": null,
   "metadata": {},
   "outputs": [],
   "source": [
    "blocks"
   ]
  },
  {
   "cell_type": "code",
   "execution_count": null,
   "metadata": {},
   "outputs": [],
   "source": [
    "\n",
    "ocr_count = 0\n",
    "for page in doc:\n",
    "    blocks = page.get_text(\"dict\", flags=0)[\"blocks\"]\n",
    "    for b in blocks:\n",
    "        for l in b[\"lines\"]:\n",
    "            for s in l[\"spans\"]:\n",
    "                text = s[\"text\"]\n",
    "                if chr(65533) in text:  # invalid characters encountered!\n",
    "                    # invoke OCR\n",
    "                    ocr_count += 1\n",
    "                    print(\"before: '%s'\" % text)\n",
    "                    text1 = text.lstrip()\n",
    "                    sb = \" \" * (len(text) - len(text1))  # leading spaces\n",
    "                    text1 = text.rstrip()\n",
    "                    sa = \" \" * (len(text) - len(text1))  # trailing spaces\n",
    "                    new_text = sb + get_tessocr(page, s[\"bbox\"]) + sa\n",
    "                    print(\" after: '%s'\" % new_text)\n",
    "\n",
    "print(\"-------------------------\")\n",
    "print(\"OCR invocations: %i.\" % ocr_count)\n",
    "print(\n",
    "    \"Pixmap time: %g (avg %g) seconds.\"\n",
    "    % (round(pix_time, 5), round(pix_time / ocr_count, 5))\n",
    ")\n",
    "print(\n",
    "    \"OCR time: %g (avg %g) seconds.\"\n",
    "    % (round(ocr_time, 5), round(ocr_time / ocr_count, 5))\n",
    ")"
   ]
  }
 ],
 "metadata": {
  "kernelspec": {
   "display_name": "pdftool",
   "language": "python",
   "name": "python3"
  },
  "language_info": {
   "codemirror_mode": {
    "name": "ipython",
    "version": 3
   },
   "file_extension": ".py",
   "mimetype": "text/x-python",
   "name": "python",
   "nbconvert_exporter": "python",
   "pygments_lexer": "ipython3",
   "version": "3.10.12"
  },
  "orig_nbformat": 4
 },
 "nbformat": 4,
 "nbformat_minor": 2
}
