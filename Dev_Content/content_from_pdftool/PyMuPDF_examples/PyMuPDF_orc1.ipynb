{
 "cells": [
  {
   "cell_type": "markdown",
   "metadata": {},
   "source": [
    "<h1>PyMuPDF 1.23.0rc1 </h1> "
   ]
  },
  {
   "cell_type": "markdown",
   "metadata": {},
   "source": [
    "## <h2>PyMuPDF-Utilities/jupyter-notebooks</h2>"
   ]
  },
  {
   "cell_type": "code",
   "execution_count": 19,
   "metadata": {},
   "outputs": [],
   "source": [
    "%matplotlib inline\n",
    "import os\n",
    "import fitz  # import PyMuPDF\n",
    "import numpy as np\n",
    "import matplotlib.pyplot as plt\n",
    "import unidecode"
   ]
  },
  {
   "cell_type": "markdown",
   "metadata": {},
   "source": [
    "### 1. Demonstrate the Effect of the MuPDF Dehyphenation Flag\n",
    "\n",
    "\n",
    "\n",
    "\n",
    "We will demonstrate here the impact of MuPDF's TEXT_DEHYPHENATE flag on extracted text and computed text boundary boxes.\n",
    "\n",
    "First we import PyMuPDF and make a memory PDF with some hyphenated text."
   ]
  },
  {
   "cell_type": "code",
   "execution_count": null,
   "metadata": {},
   "outputs": [],
   "source": [
    "def show_image(item, title):\n",
    "    \"\"\"Display a pixmap.\n",
    "\n",
    "    Just to display Pixmap image of \"item\" - ignore the man behind the curtain.\n",
    "\n",
    "    Args:\n",
    "        item: a PyMuPDF object having a \"get_pixmap\" method.\n",
    "        title: a string to be used as image title\n",
    "\n",
    "    Generates an RGB Pixmap from item using a constant DPI and uses matplotlib\n",
    "    to show it inline of the notebook.\n",
    "    \"\"\"\n",
    "    DPI = 150  # use this resolution\n",
    "    %matplotlib inline\n",
    "\n",
    "    pix = item.get_pixmap(dpi=DPI)\n",
    "    img = np.ndarray([pix.h, pix.w, 3], dtype=np.uint8, buffer=pix.samples_mv)\n",
    "    plt.figure(dpi=DPI)  # set the figure's DPI\n",
    "    plt.title(title)  # set titel of image\n",
    "    _ = plt.imshow(img, extent=(0, pix.w * 72 / DPI, pix.h * 72 / DPI, 0))"
   ]
  },
  {
   "cell_type": "code",
   "execution_count": null,
   "metadata": {},
   "outputs": [],
   "source": [
    "text = (\n",
    "    \"This is a longer text with hyphena-\\n\"\n",
    "    \"ted words. It will be extracted using\\n\"\n",
    "    \"different flags.\\n\"\n",
    "    \"This will show, how bit settings influ-\\n\"\n",
    "    \"ence text bbox computations.\"\n",
    ")\n",
    "\n",
    "doc = fitz.open()  # new empty PDF\n",
    "page = doc.new_page(width=600,height=400)  # new small-sized page\n",
    "rect = page.rect + (72, 72, 0, 0)\n",
    "_ = page.insert_textbox(rect, text, fontsize=24)"
   ]
  },
  {
   "cell_type": "code",
   "execution_count": null,
   "metadata": {},
   "outputs": [],
   "source": [
    "#Em portugues\n",
    "\n",
    "text = (\n",
    "    \"Este é um texto mais longo com hífen-\\n\"\n",
    "    \"palavras codificadas. Será extraído usando\\n\"\n",
    "    \"'flags' diferentes.\\n\"\n",
    "    \"Isso mostrará como as configurações de bits influ-\\n\"\n",
    "    \"enciam os cálculos de bbox de texto.\"\n",
    ")    \n",
    "\n",
    "doc = fitz.open()  # new empty PDF\n",
    "page = doc.new_page(width=700,height=400)  # new small-sized page\n",
    "rect = page.rect + (72, 72, 0, 0)\n",
    "_ = page.insert_textbox(rect, text, fontsize=24)"
   ]
  },
  {
   "cell_type": "code",
   "execution_count": null,
   "metadata": {},
   "outputs": [],
   "source": [
    "\n",
    "show_image(page, \"Imagem da Página\")"
   ]
  },
  {
   "cell_type": "code",
   "execution_count": null,
   "metadata": {},
   "outputs": [],
   "source": [
    "# using no special flags\n",
    "print(page.get_text(\"text\", flags=0))"
   ]
  },
  {
   "cell_type": "markdown",
   "metadata": {},
   "source": [
    "Agora extraia usando a opção de hifenização.\n",
    "\n",
    "Observe que uma linha será unida à sua sucessora se terminar com um hífen"
   ]
  },
  {
   "cell_type": "code",
   "execution_count": null,
   "metadata": {},
   "outputs": [],
   "source": [
    "\n",
    "# using the dehyphenation flag\n",
    "print(page.get_text(\"text\", flags=fitz.TEXT_DEHYPHENATE))"
   ]
  },
  {
   "cell_type": "markdown",
   "metadata": {},
   "source": [
    "## PDF Journalling"
   ]
  },
  {
   "cell_type": "markdown",
   "metadata": {},
   "source": [
    "### 2. PDF Journalling Part 1: The Basics"
   ]
  },
  {
   "cell_type": "markdown",
   "metadata": {},
   "source": [
    "<h3>Introdução</h3>\n",
    "\n",
    "Os sistemas modernos de gerenciamento de banco de dados (DBMS) incluem recursos de **journalling** diário. Este recurso permite registrar alterações em bancos de dados em arquivos especiais, chamados de diários ou arquivos de log.\n",
    "\n",
    "Aplicativos de execução longa, atualizando vários bancos de dados logicamente interconectados, não podem ser reiniciados desde o início após falhas, como falhas de energia ou hardware. Isso não implicaria apenas na repetição do trabalho anterior, mas exigiria a restauração prévia de todos os bancos de dados envolvidos - muitas vezes trabalhos de longa execução por si mesmos.\n",
    "\n",
    "Um aplicativo projetado adequadamente reiniciado no modo de reinicialização de emergência lerá o arquivo de log, procurará o último ponto em que todos os bancos de dados envolvidos estiveram em um estado consistente (o chamado ponto de verificação), reverterá todas as atualizações registradas posteriormente e retomará seu trabalho a partir desse ponto apontar.\n",
    "\n",
    "O MuPDF oferece suporte a um recurso de registro no diário que disponibiliza os conceitos de DBMS acima para atualização de PDFs.\n",
    "\n",
    "Os aplicativos que atualizam os bancos de dados agora podem integrar as alterações do PDF em sua lógica de reinicialização do ponto de verificação.\n",
    "\n",
    "Mas, independentemente de qualquer banco de dados, também é possível colocar atualizações incrementais de um PDF sob o controle do diário de PDF. Juntamente com o arquivo de diário, é possível restabelecer versões anteriores do documento.\n",
    "\n",
    "Uma nota sobre a terminologia:\n",
    "\n",
    "    - As atualizações para bancos de dados (SQL) são agrupadas em **\"Logical Units of Work\" (LUWs)** \"Unidades lógicas de trabalho\" (LUWs). Existem configurações de banco de dados consistentes no início e no final de um LUW. Escrever um **checkpoint** ponto de verificação, portanto, sempre acontece após o final de um LUW - nunca no meio.\n",
    "\n",
    "    - No MuPDF, o termo **\"operation\"** \"operação\" desempenha o papel de um LUW.\n",
    "\n",
    "PDF Journalling é um recurso único e inigualável do PyMuPDF e do MuPDF. Ele permite manter um controle avançado sobre as atualizações de documentos PDF, desfazer alterações granulares e uma maneira independente de detectar alterações não autorizadas."
   ]
  },
  {
   "cell_type": "markdown",
   "metadata": {},
   "source": [
    "<h3>Part 1: The Basics</h3>\n",
    "\n",
    "Neste notebook você aprenderá conceitos básicos de diário de PDF usando PyMuPDF:\n",
    "\n",
    "Como ativar o registro no diário e definir operações\n",
    "\n",
    "Como fazer e navegar entre as alterações"
   ]
  },
  {
   "cell_type": "code",
   "execution_count": null,
   "metadata": {},
   "outputs": [],
   "source": [
    "\"\"\"\n",
    "Notebook preamble code:\n",
    "Install and import required packages, define image generation utility.\n",
    "\"\"\"\n",
    "# Make sure having installed required packages by uncommenting the following lines as required\n",
    "# !python -m pip install pymupdf\n",
    "# !python -m pip install matplotlib\n",
    "\n",
    "import fitz"
   ]
  },
  {
   "cell_type": "code",
   "execution_count": null,
   "metadata": {},
   "outputs": [],
   "source": [
    "\n",
    "if tuple(map(int, fitz.VersionBind.split(\".\"))) < (1, 19, 0):\n",
    "    raise ValueError(\"Need PyMuPDF v1.19.0 or higher\")\n",
    "\n",
    "def show_image(item, title):\n",
    "    \"\"\"Display a pixmap.\n",
    "\n",
    "    Just to display Pixmap image of \"item\" - ignore the man behind the curtain.\n",
    "\n",
    "    Args:\n",
    "        item: a PyMuPDF object having a \"get_pixmap\" method.\n",
    "        title: a string to be used as image title\n",
    "\n",
    "    Generates an RGB Pixmap from item using a constant DPI and uses matplotlib\n",
    "    to show it inline of the notebook.\n",
    "    \"\"\"\n",
    "    DPI = 150  # use this resolution\n",
    "    %matplotlib inline\n",
    "    import numpy as np\n",
    "    import matplotlib.pyplot as plt\n",
    "    pix = item.get_pixmap(dpi=DPI)\n",
    "    img = np.ndarray([pix.h, pix.w, 3], dtype=np.uint8, buffer=pix.samples_mv)\n",
    "    plt.figure(dpi=DPI)  # set the figure's DPI\n",
    "    plt.title(title)  # set titel of image\n",
    "    _ = plt.imshow(img, extent=(0, pix.w * 72 / DPI, pix.h * 72 / DPI, 0))"
   ]
  },
  {
   "cell_type": "markdown",
   "metadata": {},
   "source": [
    "\n",
    "The actual application code follows here.\n",
    "\n",
    "We create a new empty PDF and enable journalling for it."
   ]
  },
  {
   "cell_type": "code",
   "execution_count": null,
   "metadata": {},
   "outputs": [],
   "source": [
    "doc = fitz.open()  # work with an empty PDF\n",
    "doc.journal_enable()  # enable journalling"
   ]
  },
  {
   "cell_type": "markdown",
   "metadata": {},
   "source": [
    "After journalling is enabled for a PDF, all updates are being logged, and therefore must be executed within the scope of some operation (called LUW, Logical Unit of Work in DBMS).\n",
    "\n",
    "We first try an update without having an active operation - just to see what happens:"
   ]
  },
  {
   "cell_type": "code",
   "execution_count": null,
   "metadata": {},
   "outputs": [],
   "source": [
    "try:\n",
    "    page = doc.new_page()\n",
    "except Exception as e:\n",
    "    print(e)"
   ]
  },
  {
   "cell_type": "markdown",
   "metadata": {},
   "source": [
    "Operations are started and stopped via methods journal_start_op() and journal_stop_op(). Between these statements, any number of updates to the PDF may happen - this is entirely your decision. Undoing an operation will revert all updates within it, so you should plan the design of your operations with due diligence.\n",
    "\n",
    "In the following, we add a new page to the document and wrap it in an operation."
   ]
  },
  {
   "cell_type": "code",
   "execution_count": null,
   "metadata": {},
   "outputs": [],
   "source": [
    "doc.journal_start_op(\"add new page\")  # define start of an operation\n",
    "page = doc.new_page(width=200, height=150)\n",
    "doc.journal_stop_op()  # define stop of operation"
   ]
  },
  {
   "cell_type": "markdown",
   "metadata": {},
   "source": [
    "This time it worked: we have a page. Now insert some text lines - each within its own operation, so they can be individually undone.\n",
    "\n",
    ">The name of an operation is entirely documentary and is left to your discretion"
   ]
  },
  {
   "cell_type": "code",
   "execution_count": null,
   "metadata": {},
   "outputs": [],
   "source": [
    "for i in range(5):\n",
    "    doc.journal_start_op(f\"add line-{i}\")\n",
    "    # insert next line 20 points below previous one\n",
    "    page.insert_text((50, 40 + 20*i), f\"Esta é a linha {i}.\")\n",
    "    doc.journal_stop_op()"
   ]
  },
  {
   "cell_type": "markdown",
   "metadata": {},
   "source": [
    "<h3>Investigating and Navigating the Journal</h3>\n",
    "\n",
    "PyMuPDF will append all update activity to an internal log, called \"journal\" (or sometimes also \"history\").\n",
    "\n",
    "There are methods that let us investigate the journal content in various ways. It is possible to navigate up and down inside the journal.\n",
    "\n",
    "The first information we are interested in: What is our current operation number and what is the total number of operations?"
   ]
  },
  {
   "cell_type": "code",
   "execution_count": null,
   "metadata": {},
   "outputs": [],
   "source": [
    "pos, count = doc.journal_position()  # returns: (current position, operations count)\n",
    "print(f\"Posição do log {pos}, operation count {count}.\")"
   ]
  },
  {
   "cell_type": "markdown",
   "metadata": {},
   "source": [
    "Okay, so this tells us that the current operation was the sixth out of a total number of six. We are positioned at the end of the journal.\n",
    "\n",
    "How about a list of all operations?"
   ]
  },
  {
   "cell_type": "code",
   "execution_count": null,
   "metadata": {},
   "outputs": [],
   "source": [
    "for i in range(count):  # loop over total number of operations\n",
    "    print(f\"Operation {i}: {doc.journal_op_name(i)}\")  # show the operation name"
   ]
  },
  {
   "cell_type": "markdown",
   "metadata": {},
   "source": [
    "Given our current position: What can we do inside the journal from here on?\n",
    "\n",
    "The are always two options:\n",
    "\n",
    "- \"undo\" - this causes the updates of the current operation to be reverted (undone), and moves us one position backwards in the journal. Use method journal_undo().\n",
    "\n",
    "- \"redo\" - this will re-apply the updates of the operation that follows the current one, and makes it the current operation. Use method journal_redo().\n",
    "\n",
    "As we are currently positioned at the very last operation, there is no \"next\" operation. Therefore, we get the following result:"
   ]
  },
  {
   "cell_type": "code",
   "execution_count": null,
   "metadata": {},
   "outputs": [],
   "source": [
    "doc.journal_can_do()  # what can we do currently?"
   ]
  },
  {
   "cell_type": "markdown",
   "metadata": {},
   "source": [
    "Let us nevertheless try to redo something:"
   ]
  },
  {
   "cell_type": "code",
   "execution_count": null,
   "metadata": {},
   "outputs": [],
   "source": [
    "try:\n",
    "    doc.journal_redo()\n",
    "except Exception as e:\n",
    "    print(e)"
   ]
  },
  {
   "cell_type": "markdown",
   "metadata": {},
   "source": [
    "Only undo activities are possible, currently. Let us try one, but first we look at what is on the page:"
   ]
  },
  {
   "cell_type": "code",
   "execution_count": null,
   "metadata": {},
   "outputs": [],
   "source": [
    "# Display the page image\n",
    "show_image(page, \"Page Content\")"
   ]
  },
  {
   "cell_type": "markdown",
   "metadata": {},
   "source": [
    "Undo the current operation and display the journalling status as above."
   ]
  },
  {
   "cell_type": "code",
   "execution_count": null,
   "metadata": {},
   "outputs": [],
   "source": [
    "doc.journal_undo()  # undo an operation\n",
    "doc.journal_position()  # where are we in the journal?"
   ]
  },
  {
   "cell_type": "code",
   "execution_count": null,
   "metadata": {},
   "outputs": [],
   "source": [
    "doc.journal_can_do()  # what can we do now?"
   ]
  },
  {
   "cell_type": "markdown",
   "metadata": {},
   "source": [
    "So, again as expected:\n",
    "\n",
    "    1.  Our current position inside the journal is reduced by one - but there are still all six entries in it.\n",
    "\n",
    "    2. We can do both: undo and redo.\n",
    "    \n",
    "The really interesting thing: what happened to the page content?\n",
    "\n",
    "If all worked fine, we should see only 4 lines of text."
   ]
  },
  {
   "cell_type": "code",
   "execution_count": null,
   "metadata": {},
   "outputs": [],
   "source": [
    "# Display the page image\n",
    "show_image(page, \"Page Content after Undo\")"
   ]
  },
  {
   "cell_type": "markdown",
   "metadata": {},
   "source": [
    "Good! Last text insertion was reverted.\n",
    "\n",
    "Let us change our mind again and redo (re-apply) the undone operation. This will re-execute everything contained in the operation following the current one. In other words, our fifth text line should reappear."
   ]
  },
  {
   "cell_type": "code",
   "execution_count": null,
   "metadata": {},
   "outputs": [],
   "source": [
    "doc.journal_redo()  # redo reverted operation"
   ]
  },
  {
   "cell_type": "markdown",
   "metadata": {},
   "source": [
    "Confirm that we have five text lines again:"
   ]
  },
  {
   "cell_type": "code",
   "execution_count": null,
   "metadata": {},
   "outputs": [],
   "source": [
    "show_image(page, \"Page Content after Redo\")"
   ]
  },
  {
   "cell_type": "markdown",
   "metadata": {},
   "source": [
    "We have learned so far, that undoing and redoing uses the journal like a playbook to change the PDF. These actions do not change the journal itself.\n",
    "\n",
    "However if, after some undos, new operations are executed, all journal entries will be deleted that follow the current position, and the new operations recorded. Look at the following example.\n",
    "\n",
    "We undo the last three operations (i.e. delete the last three lines) and then draw a rectangle as a new operation."
   ]
  },
  {
   "cell_type": "code",
   "execution_count": null,
   "metadata": {},
   "outputs": [],
   "source": [
    "for i in range(3):  # revert last three operations\n",
    "    doc.journal_undo()\n",
    "pos, count = doc.journal_position()\n",
    "print(f\"journal position: {pos}\")\n",
    "print(f\"operations count: {count} (unchanged)\")"
   ]
  },
  {
   "cell_type": "code",
   "execution_count": null,
   "metadata": {},
   "outputs": [],
   "source": [
    "# draw rectangle\n",
    "doc.journal_start_op(\"draw rectangle\")\n",
    "page.draw_rect((50, 80, 120, 130), fill=fitz.pdfcolor[\"blue\"])\n",
    "doc.journal_stop_op()\n",
    "\n",
    "show_image(page, \"Page Image after Drawing an Object\")"
   ]
  },
  {
   "cell_type": "markdown",
   "metadata": {},
   "source": [
    "Also look what happened to the journal:"
   ]
  },
  {
   "cell_type": "code",
   "execution_count": null,
   "metadata": {},
   "outputs": [],
   "source": [
    "pos, count = doc.journal_position()\n",
    "print(f\"journal position: {pos}\")\n",
    "print(f\"operations count: {count}\")\n",
    "print(\"\\nList of operations:\")\n",
    "for i in range(count):\n",
    "    print(f\"Operation {i}: {doc.journal_op_name(i)}\")"
   ]
  },
  {
   "cell_type": "markdown",
   "metadata": {},
   "source": [
    "<h3>Wrapping up</h3>\n",
    "\n",
    "- The journal is kept inside a memory area maintained by MuPDF.\n",
    "- The journal remains available until the PDF is closed.\n",
    "- Once enabled, journalling of a PDF cannot be disabled again.\n",
    "- Journal data can be exported to a file (or file-like object).\n",
    "- \"Undo\" reverts the operation at the current position. If current position is the top of the journal, an exception is raised.\n",
    "- \"Redo\" re-executes the operation following the current position. If current position is at the end of the journal, an exception is raised.\n",
    "- Executing operations after an undo removes all journal entries following the current position.\n",
    "\n",
    "<h3>Conclusion</h3>\n",
    "\n",
    "In this notebook we have learned the basics about PDF journalling:\n",
    "\n",
    "- How to enable journalling for a PDF\n",
    "- How to extract journal information\n",
    "- How to navigate in the journal and undo or redo operations\n",
    "\n",
    "\n",
    "<h3>Outlook</h3>\n",
    "\n",
    "This notebook is the first of a series about PDF journalling. There is the following sequel:\n",
    "\n",
    "**Part 2:** The notebook will cover journalling updates to an existing PDF, synchronized saving of journal and PDF, and how to enable journalling for a PDF by using a journal file. Please find this notebook here."
   ]
  },
  {
   "cell_type": "markdown",
   "metadata": {},
   "source": [
    "### Demonstrating PDF Journalling - Part 2"
   ]
  },
  {
   "cell_type": "markdown",
   "metadata": {},
   "source": [
    "For an introduction to PDF journalling please see the basic notebook here.\n",
    "\n",
    "In this notebook we demonstrate how to save a journalled PDF together with the journal such that both can be opened again later, for instance to continue journalled updating, and undoing or redoing operations. You will learn how to:\n",
    "\n",
    "1. Log changes to an existing file and save the current state.\n",
    "2. Restart or continue a previously saved journalling session.\n",
    "3. Use the journalling feature to detect unauthorized changes."
   ]
  },
  {
   "cell_type": "markdown",
   "metadata": {},
   "source": [
    "<h3>How to save Journal and PDF for later restart</h3>\n",
    "\n",
    "We will open an existing PDF and add a new page with some text lines on it. This is much like what we have learned in the previous, introductory notebook."
   ]
  },
  {
   "cell_type": "code",
   "execution_count": null,
   "metadata": {},
   "outputs": [],
   "source": [
    "file = r\".\\PyMuPDF_examples\\1page.pdf\""
   ]
  },
  {
   "cell_type": "code",
   "execution_count": null,
   "metadata": {},
   "outputs": [],
   "source": [
    "import fitz\n",
    "from pprint import pprint\n",
    "\n",
    "if tuple(map(int, fitz.VersionBind.split(\".\"))) < (1, 19, 0):\n",
    "    raise ValueError(\"Need PyMuPDF v1.19.0 or higher\")\n",
    "\n",
    "doc = fitz.open(file)  # work with an existing PDF\n",
    "doc.journal_enable()  # enable journalling for it\n",
    "doc.journal_start_op(\"new page\")\n",
    "page = doc.new_page()\n",
    "doc.journal_stop_op()\n",
    "# insert 5 text lines, each within its own operation:\n",
    "for i in range(5):\n",
    "    doc.journal_start_op(\"insert-%i\" % i)\n",
    "    page.insert_text((100, 100 + 20*i), \"This is line %i.\" % i)\n",
    "    doc.journal_stop_op()"
   ]
  },
  {
   "cell_type": "markdown",
   "metadata": {},
   "source": [
    "We now take a snapshot of the current PDF and its journal. Motivations may e.g. be submitting it to some review, before any redactions are applied, or similar purposes."
   ]
  },
  {
   "cell_type": "code",
   "execution_count": null,
   "metadata": {},
   "outputs": [],
   "source": [
    "snapname = doc.name.replace(\".pdf\", \"-snap.pdf\")\n",
    "logname = doc.name.replace(\".pdf\", \"-snap.log\")\n",
    "\n",
    "doc.save_snapshot(snapname)\n",
    "doc.journal_save(logname)\n",
    "doc.close()"
   ]
  },
  {
   "cell_type": "markdown",
   "metadata": {},
   "source": [
    "<h3>How to Open a PDF Snapshot and the Associated Journal</h3>\n",
    "\n",
    "\n",
    "The resulting file, `1page-snap.pdf\", is a valid PDF in every aspect: it can be displayed or printed, text can be extracted, etc.\n",
    "\n",
    "When opening the snapshot PDF and loading the associated journal, any changes applied during journalling can be undone, or more changes can be applied. When finished, take another snapshot and save the journal file again, and so forth."
   ]
  },
  {
   "cell_type": "code",
   "execution_count": null,
   "metadata": {},
   "outputs": [],
   "source": [
    "doc = fitz.open(snapname)  # open last update state of the PDF\n",
    "doc.journal_load(logname)  # load the - matchin! - journal file"
   ]
  },
  {
   "cell_type": "markdown",
   "metadata": {},
   "source": [
    "When the journal file is loaded as above, the following actions take place:\n",
    "\n",
    "1. Read the content of the journal and confirm that the document matches it.\n",
    "2. If successful, journalling is automatically enabled, and current journal position is established.\n",
    "\n",
    "If the journal does not match the PDF, an exception is raised. This can be used to detect changes to a PDF - see below.\n",
    "\n",
    "We now make a few checks to see what we have got:"
   ]
  },
  {
   "cell_type": "code",
   "execution_count": null,
   "metadata": {},
   "outputs": [],
   "source": [
    "print(f\"Snapshot PDF '{snapname}' has the following update status:\")\n",
    "print()\n",
    "pos, count = doc.journal_position()\n",
    "print(f\"Journal position {pos}, operations count {count}.\")\n",
    "for i in range(count):\n",
    "    print(\"Operation %i: '%s'\" % (i, doc.journal_op_name(i)))\n",
    "\n",
    "actions = doc.journal_can_do()\n",
    "print()\n",
    "print(\"Possible actions:\")\n",
    "print(\"    undo: '%s'\" % actions[\"undo\"])\n",
    "print(\"    redo: '%s'\" % actions[\"redo\"])"
   ]
  },
  {
   "cell_type": "markdown",
   "metadata": {},
   "source": [
    "<h3>How to Use Journalling for Detecting Unauthorized Updates</h3>\n",
    "\n",
    "As a side benefit, the journalling feature can be used to confirm that a PDF still is the expected version, or to detect unauthorized changes.\n",
    "\n",
    "Follow this approach to store the current PDF state:"
   ]
  },
  {
   "cell_type": "code",
   "execution_count": null,
   "metadata": {},
   "outputs": [],
   "source": [
    "file_input = r\".\\PyMuPDF_examples\\input.pdf\""
   ]
  },
  {
   "cell_type": "code",
   "execution_count": null,
   "metadata": {},
   "outputs": [],
   "source": [
    "doc.name"
   ]
  },
  {
   "cell_type": "code",
   "execution_count": null,
   "metadata": {},
   "outputs": [],
   "source": [
    "# File name\n",
    "file_save = doc.name + \"-status.log\""
   ]
  },
  {
   "cell_type": "code",
   "execution_count": null,
   "metadata": {},
   "outputs": [],
   "source": [
    "file_save"
   ]
  },
  {
   "cell_type": "code",
   "execution_count": null,
   "metadata": {},
   "outputs": [],
   "source": [
    "\n",
    " \n",
    "# File location\n",
    "location = \".\\PyMuPDF_examples\"\n",
    " \n",
    "# Path\n",
    "path = os.path.join(location, file_save)\n",
    " \n",
    "# Remove the file\n",
    "# 'file.txt'\n",
    "#os.remove(path)"
   ]
  },
  {
   "cell_type": "code",
   "execution_count": null,
   "metadata": {},
   "outputs": [],
   "source": [
    "doc = fitz.open(file_input)\n",
    "doc.journal_enable()\n",
    "doc.journal_save(file_save)  # chhoose a suitable journal filename\n",
    "doc.close()"
   ]
  },
  {
   "cell_type": "markdown",
   "metadata": {},
   "source": [
    "Even if no updates are happening, the journal as a minimum will contain a so-called Fingerprint (hash value) that can be used to confirm the PDF's identity. This is independent from any password protection, the file name, or PDF-internal /ID field values. In our case, the journal will look like this:"
   ]
  },
  {
   "cell_type": "markdown",
   "metadata": {},
   "source": [
    "When processing the PDF in some downstream application, perform the following check:"
   ]
  },
  {
   "cell_type": "code",
   "execution_count": null,
   "metadata": {},
   "outputs": [],
   "source": [
    "doc = fitz.open(file_input)\n",
    "try:\n",
    "    doc.journal_load(doc.name + \"-status.log\")  # load previously saved journal\n",
    "    print(f\"Confirming: file '{doc.name}' is in expected state.\")\n",
    "    doc.close()  # to switch off journalling\n",
    "    doc = fitz.open(doc.name)\n",
    "except Exception as e:\n",
    "    print (f\"Unauthorized changes to file '{doc.name}' detected.\")\n",
    "    raise\n",
    "print(f\"Journalling enabled: {doc.journal_is_enabled()}.\")  # confirming: journalling disabled"
   ]
  },
  {
   "cell_type": "markdown",
   "metadata": {},
   "source": [
    "<h3>Conclusion</h3>\n",
    "\n",
    "In this notebook we have learned:\n",
    "\n",
    "How to log updates to an existing PDF and save the current state\n",
    "How to resume a previous journalling session and continue updating\n",
    "How to confirm the expected state of a PDF in downstream applications."
   ]
  },
  {
   "cell_type": "markdown",
   "metadata": {},
   "source": [
    "## Algebra for Geometry Objects in PyMuPDF"
   ]
  },
  {
   "cell_type": "code",
   "execution_count": null,
   "metadata": {},
   "outputs": [],
   "source": [
    "import fitz\n",
    "assert tuple(map(int, fitz.VersionBind.split(\".\"))) >= (1,19,6)"
   ]
  },
  {
   "cell_type": "markdown",
   "metadata": {},
   "source": [
    "<h3>Overview</h3>\n",
    "\n",
    "PyMuPDF supports the 2-dimensional geometry objects as defined in MuPDF, and in the PDF specifications. Geometry objects are <B> Point, IRect, Rect, Quad and Matrix </B>. They all represent more or less what their names suggest them to be: they pertain to objects in plane geometry, mostly according to the requirements and terminology of PDF specification.\n",
    "\n",
    "    - A Point is represented by a pair of floats: fitz.Point(x, y). In PyMuPDF they can be treated as 2-dimensional vectors, including component-wise addition and multiplication by numbers and matrices.\n",
    "\n",
    "    - Rect and IRect are specialized subsets of general rectangles: their edges always are parallel to the x- and the y-axis. While a Rect may be defined by float numbers, an IRect has integer coordinates. Further classifications include valid, empty or infinite, which imply certain behaviors and possibilities. Like points, rectangles can also be added to each other and can be multiplied by numbers and matrices. Because of their their special make-up, rectangles can be defined by just 2 points (or correspondingly 4 floats), that are diagonally opposite. By convention, (Py-) MuPDF uses the top-left and the bottom-right points (in this sequence) for this: fitz.Rect(x0, y0, x1, y1). Using a different sequence, or the other two points leads to invalid rectangles.\n",
    "\n",
    "    -  A Quad is a quadrilateral or tetragon. It is defined by its 4 corner points in the mandatory sequence upper-left (ul), upper-right (ur), lower-left (ll), lower-right (lr). Quads are much less frequently used than rectangles, but they do play an important role, e.g. for non-horizontal text.\n",
    "\n",
    "    - A Matrix represents a mapping (or \"transformation\") within objects of any of the above classes. Every geometry object above has method transform(): OBJ.transform(matrix) maps OBJ (one of Point, Rect, IRect, Quad) to a new object of the same type, which then replaces OBJ. Matrices also support component-wise addition and mutiplication with each other via matrix method concat(). A matrix is represented by 6 floats fitz.Matrix(a, b, c, d, e, f) arranged in a special structure of a row-major 3 x 3 matrix:\n",
    "\n",
    "        / a b 0 \\\n",
    "        | c d 0 |\n",
    "        \\ e f 1 /\n",
    "\n",
    "    - The above objects are implemented as Python sequences, which makes it possible to access and modify their components also via index.\n",
    "\n",
    "    - The better part of functions and methods however only needs the underlying sequence of geometry objects. PyMuPDF therefore defines the notions \"point-like\", \"rect-like\", \"quad-like\" and \"matrix-like\" to indicate that a numerical sequence (tuple, list, array, ndarray ...) with the right length is sufficient.\n",
    "\n"
   ]
  },
  {
   "cell_type": "markdown",
   "metadata": {},
   "source": [
    "<h3>Algebraic Operations</h3>\n",
    "\n",
    "PyMuPDF defines unary and binary operators that allow handling geometry objects comfortably and intuitively.\n",
    "\n",
    "<h3>Unary Operators</h3>\n",
    "\n",
    "PyMuPDF defines a number of unary operators, i.e. involving only one geometry object. The result always is either a bool, a float, or a new object of the same type as the operand.\n",
    "\n",
    "abs() - (float) the Euclidean norm for Point and Matrix, and the area of Rect and IRect rectangles. For a Quad the product of its width and height.\n",
    "norm() - (float) the Euclidean norm.\n",
    "bool() - (bool) is False exactly if all components are zero.\n",
    "hash() - implemented as hash(tuple(OBJ)).\n",
    "~m - (Matrix) the inverse of matrix m. If not invertible, the matrix with all zeroes is returned.\n",
    "+OBJ, -OBJ - copy of the original. Negated components if \"-\" is used.\n",
    "Binary Operators\n",
    "Binary operators involve two objects. The first operand determines the object type.\n",
    "\n",
    "Addition, Subtraction\n",
    "Use + and - to add / subtract objects of the same class. This works component-wise. The second operand must be like the first one - i.e. just a numerical sequence. The second operand may also be just a number, if all components should be modified with the same value. The result is always a new object. The following example equalities apply analogously also to Rect, IRect, Quad and Matrix objects:"
   ]
  },
  {
   "cell_type": "code",
   "execution_count": null,
   "metadata": {},
   "outputs": [],
   "source": [
    "import fitz\n",
    "(\n",
    " fitz.Point(1, 2) + fitz.Point(1, 1)\n",
    " == fitz.Point(1, 2) + (1, 1)\n",
    " == fitz.Point(1, 2) + 1\n",
    " == fitz.Point(2, 3)\n",
    ")"
   ]
  },
  {
   "cell_type": "markdown",
   "metadata": {},
   "source": [
    "Multiplication, Division\n",
    "\n",
    "Use * and / to multiply points, rectangles, quads or matrices with a number or a matrix-like. For division, the number or matrix-like must obviously be invertible. The result is a new object.\n",
    "\n",
    "Multiplication of matrices is not commutative - in the general case we have m * n ≠ n * m. There exist non-zero matrices which are not invertible.\n",
    "\n",
    "There is a neutral Matrix under multiplication - Identity - such that for every matrix m we have m * fitz.Identity == fitz.Identity * m == m."
   ]
  },
  {
   "cell_type": "code",
   "execution_count": null,
   "metadata": {},
   "outputs": [],
   "source": [
    "import fitz\n",
    "fitz.Point(2, 4) / 2 == fitz.Point(1, 2)\n",
    "(\n",
    "    fitz.Point(1, 2) * fitz.Matrix(1, 2, 3, 4, 5, 6) == \n",
    "    fitz.Point(1, 2) * (1, 2, 3, 4, 5, 6)\n",
    ")\n",
    "(\n",
    "    fitz.Point(1, 2) / fitz.Matrix(1, 2, 3, 4, 5, 6) ==\n",
    "    fitz.Point(1, 2) / (1, 2, 3, 4, 5, 6)\n",
    ")"
   ]
  },
  {
   "cell_type": "markdown",
   "metadata": {},
   "source": [
    "Other Binary Operators\n",
    "\n",
    "\n",
    "Checking whether geometry objects are equal is specialized to equality of their components.\n",
    "\n",
    "Checking whether objects are contained in a rectangle or quad is fully supported.\n",
    "\n",
    "Rectangles have special operators that allow building unions or intersections.\n",
    "\n",
    "Relevant binary operators also support in-place notation.\n",
    "\n",
    "Equality checks: geometry objects (and, resp., -likes) are regarded equal if bool(a - b) == False, where b may be a-like. This means that fitz.Point(2, 4) == (2, 4) returns True! But of course (2, 4) != fitz.Point(2, 4)!\n",
    "Containment checks: Classes Rect, IRect and Quad have method OBJ.contains(x), which checks whether x is contained in OBJ, returning True or False. Object x may be any of point-like, rect-like or quad-like. The Python syntax x in OBJ is likewise supported.\n",
    "&, |: Rectangles (only) support unions and intersections. The expression rect | x (\"union\") delivers the smallest rectangle containing rectangle rect and rect-like / point-like x. The expression rect & x (\"intersection\") is the largest rectangle contained in both, rectangle rect and rect-like x. The following snippet creates the smallest rectangle that covers all points in a list:"
   ]
  },
  {
   "cell_type": "code",
   "execution_count": null,
   "metadata": {},
   "outputs": [],
   "source": [
    "import fitz\n",
    "points = []  # a list of point-likes\n",
    "for i in range(5):\n",
    "    for j in range(3):\n",
    "        points.append((i, j))\n",
    "rect = fitz.EMPTY_RECT()  # start with the standard empty rectangle\n",
    "for point in points:\n",
    "    rect |= point  # in-place binary operators are supported!\n",
    "print(rect)"
   ]
  },
  {
   "cell_type": "markdown",
   "metadata": {},
   "source": [
    "As mentioned above, binary operators support in-place notation and allow elegant formulations like rect *= (1, 2, 3, 4, 5, 6).\n",
    "\n",
    "More examples:\n",
    "\n",
    "Middle point on the line connecting points p1 and p2: mp = (p1 + p2) / 2.\n",
    "Top-left quarter rectangle of a page: rect = page.rect / 2.\n",
    "Shift a rectangle to the right by 5 units: rect += (5, 0, 5, 0).\n",
    "Enlarge a rectangle in every direction: rect += (-5, -5, 5, 5).\n",
    "Compute page sub-rectangle, leaving a 1-inch border: rect = page.rect + (72, 72, -72, -72).\n",
    "Setting Brackets\n",
    "Objects of the same class are mathematical groups with respect to addition and thus allow arbitrary setting of brackets. I.e. the following is always true if a, b and c are all points, rectangles, quads or matrices:"
   ]
  },
  {
   "cell_type": "markdown",
   "metadata": {},
   "source": [
    "## Example: Detect and Repair Unrecognized Characters"
   ]
  },
  {
   "cell_type": "markdown",
   "metadata": {},
   "source": [
    "With the OCR capability introduced in its version 1.19.0, PyMuPDF is capable of recognizing characters that remain illegible with normal text extraction. The following script reads a document page via get_text(\"dict\"). If encountering unrecogized unicodes (which are returned as 0xFFFD), it OCRs the respective text span and uses that text instead. While a similar approach was always available with package easyocr or invocation of an installed Tesseract (via a subprocess), the new solution is not only cleaner and works with the included batteries, but also more than 10 times faster."
   ]
  },
  {
   "cell_type": "code",
   "execution_count": 2,
   "metadata": {},
   "outputs": [],
   "source": [
    "from PIL import Image\n",
    "\n",
    "import pytesseract\n",
    "\n",
    "# If you don't have tesseract executable in your PATH, include the following:\n",
    "pytesseract.pytesseract.tesseract_cmd = r'C:\\Program Files\\Tesseract-OCR\\tesseract'\n",
    "# Example tesseract_cmd = r'C:\\Program Files (x86)\\Tesseract-OCR\\tesseract'"
   ]
  },
  {
   "cell_type": "code",
   "execution_count": 3,
   "metadata": {},
   "outputs": [],
   "source": [
    "# If you don't have tesseract executable in your PATH, include the following:\n",
    "tessdata_dir_config = '--tessdata-dir \"C:\\\\Program Files\\\\Tesseract-OCR\\\\tessdata\"'"
   ]
  },
  {
   "cell_type": "code",
   "execution_count": 4,
   "metadata": {},
   "outputs": [],
   "source": [
    "\"\"\"\n",
    "Demo script using Mupdf OCR.\n",
    "\n",
    "Extract text of a page and interpret unrecognized characters using OCR.\n",
    "MuPDF codes unrecognizable characters as 0xFFFD = 65533.\n",
    "Extraction option is \"dict\", which delivers contiguous text pieces within one\n",
    "line, that have the same font properties (color, fontsize, etc.). Together with\n",
    "the language parameter, this helps Tesseract finding the correct character.\n",
    "\n",
    "The basic approach is to only invoke OCR, if the span text contains at least\n",
    "one chr(65533) character.\n",
    "\n",
    "--------------\n",
    "This demo will OCR only text, that is known to already be text. This means, it\n",
    "does not look at parts of a page containing images or text encoded as drawings.\n",
    "--------------\n",
    "\n",
    "Dependencies:\n",
    "PyMuPDF v1.19.0\n",
    "\"\"\"\n",
    "import fitz\n",
    "import time"
   ]
  },
  {
   "cell_type": "code",
   "execution_count": 5,
   "metadata": {},
   "outputs": [],
   "source": [
    "assert tuple(map(int, fitz.VersionBind.split(\".\"))) >= (1, 19, 0), \"Need PyMuPDF v1.19.*\"\n",
    "assert fitz.TESSDATA_PREFIX, \"Need Tesseract's tessdata for OCR function\"\n",
    "DPI = 400  # high resolution\n",
    "OCR_TIME = 0\n",
    "PIX_TIME = 0"
   ]
  },
  {
   "cell_type": "code",
   "execution_count": 37,
   "metadata": {},
   "outputs": [],
   "source": [
    "def get_tessocr(page, span):\n",
    "    \"\"\"Return OCR-ed span text using Tesseract.\n",
    "\n",
    "    Args:\n",
    "        page: fitz.Page\n",
    "        span: a span from get_text(\"dict\")\n",
    "    Returns:\n",
    "        The OCR-ed text of the bbox.\n",
    "    \"\"\"\n",
    "    global OCR_TIME, PIX_TIME, ZOOM\n",
    "    # Step 1: Make a high-resolution image of the span bbox.\n",
    "    t0 = time.perf_counter()\n",
    "    pix = page.get_pixmap(dpi=DPI, clip=span[\"bbox\"])\n",
    "    t1 = time.perf_counter()\n",
    "\n",
    "    # Step 2: OCR the bbox. Delivers a 1-page PDF in memory\n",
    "    ocrpdf = fitz.open(\"pdf\", pix.pdfocr_tobytes(language='por',tessdata=\"C:\\\\Program Files\\\\Tesseract-OCR\\\\tessdata\"))\n",
    "    ocrpage = ocrpdf[0]\n",
    "    new_text = ocrpage.get_text()  # extract OCR-ed text\n",
    "    t2 = time.perf_counter()\n",
    "    OCR_TIME += t2 - t1\n",
    "    PIX_TIME += t1 - t0\n",
    "\n",
    "    # Tesseract ignores leading spaces, hence some corrections\n",
    "    old_text = span[\"text\"]  # the original span text\n",
    "    # compute number of leading spaces\n",
    "    lblanks = len(old_text) - len(old_text.lstrip())\n",
    "\n",
    "    # prefix OCRed text with this many spaces\n",
    "    new_text = \" \" * lblanks + new_text\n",
    "\n",
    "    # walk through old text replacing illegible chars with the OCR result\n",
    "    return_string = \"%\"  # we will return this string\n",
    "    for i in range(len(old_text)):\n",
    "        if old_text[i] != chr(0xfffd):  # this char was no problem\n",
    "            return_string += old_text[i]\n",
    "        else:\n",
    "            return_string += new_text[i]  # else take recognized char\n",
    "    print(\"before OCR: '%s'\" % old_text)\n",
    "    print(\" after OCR: '%s'\" % return_string)\n",
    "    return return_string"
   ]
  },
  {
   "cell_type": "code",
   "execution_count": 28,
   "metadata": {},
   "outputs": [],
   "source": [
    "pdf_file = r\".\\PyMuPDF_examples\\Nota Fiscal Eletrônica 5.pdf\""
   ]
  },
  {
   "cell_type": "code",
   "execution_count": 29,
   "metadata": {},
   "outputs": [],
   "source": [
    "\n",
    "doc = fitz.open(pdf_file)"
   ]
  },
  {
   "cell_type": "code",
   "execution_count": 38,
   "metadata": {},
   "outputs": [
    {
     "name": "stdout",
     "output_type": "stream",
     "text": [
      "before OCR: 'PERIODO: 01/02/2023 A 28/02/2023 TOTAL DA MAO DE OBRA DOS ITENS: R$ 246.640,00 TOTAL DE MATERIAL DOS ITENS: R$ 369.960,00 TOTAL DOS ITENS:'\n",
      " after OCR: '%PERIODO: 01/02/2023 A 28/02/2023 TOTAL DA MAO DE OBRA DOS ITENS: R$ 246.640,00 TOTAL DE MATERIAL DOS ITENS: R$ 369.960,00 TOTAL DOS ITENS:'\n",
      "before OCR: 'VALOR TOTAL DA NOTA: R$ 616.600,00'\n",
      " after OCR: '%VALOR TOTAL DA NOTA: R$ 616.600,00'\n",
      "before OCR: 'R$ 616.600,00'\n",
      " after OCR: '%R$ 616.600,00'\n",
      "before OCR: 'R$ 0,00'\n",
      " after OCR: '%R$ 0,00'\n",
      "before OCR: 'R$ 0,00'\n",
      " after OCR: '%R$ 0,00'\n",
      "before OCR: 'R$ 616.600,00'\n",
      " after OCR: '%R$ 616.600,00'\n",
      "before OCR: 'R$ 30.830,00'\n",
      " after OCR: '%R$ 30.830,00'\n",
      "before OCR: 'R$ 0,00'\n",
      " after OCR: '%R$ 0,00'\n",
      "before OCR: 'R$ 0,00'\n",
      " after OCR: '%R$ 0,00'\n",
      "before OCR: 'R$ 0,00'\n",
      " after OCR: '%R$ 0,00'\n",
      "before OCR: 'R$ 0,00'\n",
      " after OCR: '%R$ 0,00'\n",
      "before OCR: 'R$ 0,00'\n",
      " after OCR: '%R$ 0,00'\n",
      "before OCR: 'R$ 0,00'\n",
      " after OCR: '%R$ 0,00'\n",
      "before OCR: 'R$ 0,00'\n",
      " after OCR: '%R$ 0,00'\n",
      "before OCR: 'R$ 0,00'\n",
      " after OCR: '%R$ 0,00'\n",
      "before OCR: 'R$ 616.600,00'\n",
      " after OCR: '%R$ 616.600,00'\n",
      "before OCR: 'Valor Aproximado dos Tributos Federais R$ 82932,7 (Alíq 13,45), Tributos Estaduais R$ 0,00 (Alíq 0,00 IBPT) e Municipal de R$ 30336,72 (Alíq IBPT 4,92 IBPT)'\n",
      " after OCR: '%Valor Aproximado dos Tributos Federais R$ 82932,7 (Alíq 13,45), Tributos Estaduais R$ 0,00 (Alíq 0,00 IBPT) e Municipal de R$ 30336,72 (Alíq IBPT 4,92 IBPT)'\n",
      "-------------------------\n",
      "OCR invocations: 17.\n",
      "Pixmap time: 0.27069 (avg 0.01592) seconds.\n",
      "OCR time: 4.0991 (avg 0.24112) seconds.\n"
     ]
    }
   ],
   "source": [
    "ocr_count = 0\n",
    "for page in doc:\n",
    "    blocks = page.get_text(\"dict\", flags=0)[\"blocks\"]\n",
    "    for b in blocks:\n",
    "        for l in b[\"lines\"]:\n",
    "            for s in l[\"spans\"]:\n",
    "                text = s[\"text\"]\n",
    "                if chr(0x0024) in text:  # invalid characters encountered!    0xfffd\n",
    "                    # invoke OCR\n",
    "                    ocr_count += 1\n",
    "                    new_text = get_tessocr(page, s)\n",
    "\n",
    "print(\"-------------------------\")\n",
    "print(\"OCR invocations: %i.\" % ocr_count)\n",
    "print(\n",
    "    \"Pixmap time: %g (avg %g) seconds.\"\n",
    "    % (round(PIX_TIME, 5), round(PIX_TIME / ocr_count, 5))\n",
    ")\n",
    "print(\n",
    "    \"OCR time: %g (avg %g) seconds.\"\n",
    "    % (round(OCR_TIME, 5), round(OCR_TIME / ocr_count, 5))\n",
    ")"
   ]
  },
  {
   "cell_type": "code",
   "execution_count": null,
   "metadata": {},
   "outputs": [],
   "source": []
  },
  {
   "cell_type": "code",
   "execution_count": null,
   "metadata": {},
   "outputs": [],
   "source": []
  },
  {
   "cell_type": "markdown",
   "metadata": {},
   "source": [
    "https://stackoverflow.com/questions/61835048/runtimeerror-failed-to-init-api-possibly-an-invalid-tessdata-path-c-users-hp"
   ]
  },
  {
   "cell_type": "markdown",
   "metadata": {},
   "source": [
    "You can also pass it in to PyTessBaseAPI as per the docs:"
   ]
  }
 ],
 "metadata": {
  "kernelspec": {
   "display_name": "pdftool",
   "language": "python",
   "name": "python3"
  },
  "language_info": {
   "codemirror_mode": {
    "name": "ipython",
    "version": 3
   },
   "file_extension": ".py",
   "mimetype": "text/x-python",
   "name": "python",
   "nbconvert_exporter": "python",
   "pygments_lexer": "ipython3",
   "version": "3.10.9"
  },
  "orig_nbformat": 4
 },
 "nbformat": 4,
 "nbformat_minor": 2
}
