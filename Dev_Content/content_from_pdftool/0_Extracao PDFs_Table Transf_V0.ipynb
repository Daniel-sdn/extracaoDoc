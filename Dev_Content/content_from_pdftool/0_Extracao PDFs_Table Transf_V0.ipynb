{
  "cells": [
    {
      "cell_type": "markdown",
      "metadata": {},
      "source": [
        "<h1>1 - Extracao PDFs - Table Transformer - V0</h1>"
      ]
    },
    {
      "cell_type": "markdown",
      "metadata": {},
      "source": [
        "## 1. Modules e Config"
      ]
    },
    {
      "cell_type": "code",
      "execution_count": 2,
      "metadata": {},
      "outputs": [],
      "source": [
        "import os\n",
        "import csv\n",
        "\n",
        "import json\n",
        "from io import StringIO\n",
        "from pathlib import Path\n",
        "from pathlib import WindowsPath\n",
        "from PIL import Image\n",
        "\n",
        "from pdf2image import convert_from_path\n",
        "\n",
        "import matplotlib.pyplot as plt\n",
        "\n",
        "import cv2\n",
        "from PIL import Image\n",
        "import pytesseract\n",
        "import torch\n",
        "\n",
        "from transformers import DetrImageProcessor\n",
        "from transformers import DetrFeatureExtractor\n",
        "from transformers import TableTransformerForObjectDetection\n",
        "\n",
        "model = TableTransformerForObjectDetection.from_pretrained(\"microsoft/table-transformer-structure-recognition\")"
      ]
    },
    {
      "cell_type": "code",
      "execution_count": 3,
      "metadata": {},
      "outputs": [],
      "source": [
        "import fitz  # Módulo PyMuPDF\n",
        "import re\n",
        "from unidecode import unidecode\n",
        "import PyPDF2\n",
        "\n",
        "\n",
        "from pdfminer.high_level import extract_pages\n",
        "from pdfminer.layout import LTTextContainer, LTChar"
      ]
    },
    {
      "cell_type": "code",
      "execution_count": 4,
      "metadata": {},
      "outputs": [],
      "source": [
        "#Diretório TESTE raiz para documentos PDF\n",
        "root_directory = '.\\\\novo_modelo\\data_pdf'\n",
        "\n",
        "root_dir_section_images = '.\\\\novo_modelo\\images\\processadas\\sections'\n",
        "\n",
        "target_directory = '.\\\\novo_modelo\\jsons'\n",
        "\n",
        "\n",
        "#root_dir_section_images = '.\\\\.novo_modelo\\images\\processadas'\n",
        "\n",
        "\n",
        "\n",
        "\n",
        "src_pdf_nao = '.\\\\novo_modelo\\data_pdf_nao_pesquisavel'  # Diretório raiz TESTE\n",
        "\n",
        "tgt_imagens = '.\\\\novo_modelo\\images'\n",
        "\n",
        "tgt_pdf_convertido  = '.\\\\novo_modelo\\data_pdf_convertido'\n",
        "\n",
        "path_modelo  = r\".\\novo_modelo\\modelos\\modelos.csv\"\n",
        "\n",
        "poppler_path = r'C:\\poppler-23.08.0\\Library\\bin'\n",
        "\n",
        "\n",
        "# Nome do arquivo CSV\n",
        "csv_filename = r\".\\novo_modelo\\modelos\\modelos.csv\"\n",
        "\n",
        "# path imagem to resize\n",
        "image_src = r\".\\novo_modelo\\images\\imagem_1.jpg\"\n",
        "\n",
        "# path image resized\n",
        "img_resi_path = r\".\\novo_modelo\\images\\processadas\\im1_resized.jpg\"\n",
        "\n",
        "#Usada para registar os numeros de paginas do PDF\n",
        "pdf_pages = r\".\\data\\data_image_test\\page_\"\n",
        "\n",
        "# If you don't have tesseract executable in your PATH, include the following:\n",
        "tessdata_dir_config = '--tessdata-dir \"C:\\\\Program Files\\\\Tesseract-OCR\\\\tessdata\" --oem 3 --psm 6'\n",
        "\n",
        "# If you don't have tesseract executable in your PATH, include the following:\n",
        "pytesseract.pytesseract.tesseract_cmd = r'C:\\Program Files\\Tesseract-OCR\\tesseract'\n",
        "# Example tesseract_cmd = r'C:\\Program Files (x86)\\Tesseract-OCR\\tesseract'"
      ]
    },
    {
      "cell_type": "markdown",
      "metadata": {},
      "source": [
        "### Arquivos para teste"
      ]
    },
    {
      "cell_type": "code",
      "execution_count": null,
      "metadata": {},
      "outputs": [],
      "source": [
        "file = r\".\\novo_modelo\\data_pdf\\272519EC-959B-4460-BBE6-D80D272B9ACD.PDF\""
      ]
    },
    {
      "cell_type": "code",
      "execution_count": null,
      "metadata": {},
      "outputs": [],
      "source": [
        "file = r\".\\novo_modelo\\data_pdf\\NF 689- PMMacae- 8ª Med CO-22-22 TB Contrato 045-22.pdf\""
      ]
    },
    {
      "cell_type": "markdown",
      "metadata": {},
      "source": [
        "## 2. Funcoes"
      ]
    },
    {
      "cell_type": "markdown",
      "metadata": {},
      "source": [
        "### 1. Funcoes de Processamento PDF e Imagem"
      ]
    },
    {
      "cell_type": "code",
      "execution_count": 5,
      "metadata": {},
      "outputs": [],
      "source": [
        "def converte2image(doc_path):\n",
        "    \n",
        "    poppler_path = r'C:\\poppler-23.08.0\\Library\\bin'\n",
        "    #pdf_document = fitz.open(doc_path)\n",
        "    #page_number = 0\n",
        "    pages = convert_from_path(doc_path, 500, poppler_path)\n",
        "    total_pages = len(pages)\n",
        "    image_counter = 1\n",
        "    for page in pages:\n",
        "        image_name = os.path.join(f'{tgt_imagens}\\\\imagem_{str(image_counter)}.jpg')\n",
        "        page.save(image_name, 'JPEG')\n",
        "        image_counter = image_counter + 1\n",
        "      \n",
        "        \n",
        "def resizeImage(image_path):\n",
        "    \n",
        "    image = Image.open(image_path).convert(\"RGB\")\n",
        "    newsize = (2067, 2923)\n",
        "    im1 = image.resize(newsize)\n",
        "    im1.save(r\".\\novo_modelo\\images\\processadas\\im1_resized.jpg\", 'JPEG')\n",
        "    print(im1.verify)   \n",
        "    \n",
        "   \n",
        "    \n",
        "# Leitura do arquivo CSV e criação do dicionário de recortes\n",
        "def create_cut_dictionary(csv_filename):\n",
        "    cut_dictionary = {}\n",
        "    with open(csv_filename, 'r') as csvfile:\n",
        "        csvreader = csv.DictReader(csvfile)\n",
        "        for row in csvreader:\n",
        "            model_name = row['modelo']\n",
        "            item = row['Item']\n",
        "            x0 = int(row['x0'])\n",
        "            y0 = int(row['y0'])\n",
        "            x1 = int(row['x1'])\n",
        "            y1 = int(row['y1'])\n",
        "            \n",
        "            cut_info = {'Item': item, 'x0': x0, 'y0': y0, 'x1': x1, 'y1': y1}\n",
        "            \n",
        "            if model_name not in cut_dictionary:\n",
        "                cut_dictionary[model_name] = []\n",
        "            \n",
        "            cut_dictionary[model_name].append(cut_info)\n",
        "    \n",
        "    return cut_dictionary\n",
        "\n",
        "\n",
        "\n",
        "def cropDocumento(img_resized, section, x0, y0, x1, y1):\n",
        "    im = Image.open(img_resized)\n",
        "    left = x0\n",
        "    top = y0\n",
        "    right = x1\n",
        "    bottom = y1\n",
        "    im_croped_img = im.crop((left, top, right, bottom))\n",
        "    img_file_path = os.path.join(f\"{tgt_imagens}\\processadas\\sections\\{section}.jpg\")\n",
        "    im_croped_img.save(img_file_path, 'JPEG')   \n",
        "\n",
        "\n",
        "\n",
        "# Efetuar o crop da imagem da NF segmentando por secoes\n",
        "def cropSections(nf_model, img_resi_path):\n",
        "    for model_name, cuts in cut_dict.items():\n",
        "        if model_name == nf_model:\n",
        "            print(f\"Modelo: {model_name}\")\n",
        "            for cut in cuts:\n",
        "                model_section = cut['Item']\n",
        "                x0 = cut['x0']\n",
        "                y0 = cut['y0']\n",
        "                x1 = cut['x1']\n",
        "                y1 = cut['y1']\n",
        "                cropDocumento(img_resi_path, model_section, x0, y0, x1, y1)\n",
        "\n",
        "\n",
        "\n",
        "# colors for visualization\n",
        "COLORS = [[0.000, 0.447, 0.741], [0.850, 0.325, 0.098], [0.929, 0.694, 0.125],\n",
        "          [0.494, 0.184, 0.556], [0.466, 0.674, 0.188], [0.301, 0.745, 0.933]]\n",
        "\n",
        "def plot_results(pil_img, scores, labels, boxes):\n",
        "    plt.figure(figsize=(26,20))\n",
        "    plt.imshow(pil_img)\n",
        "    ax = plt.gca()\n",
        "    colors = COLORS * 100\n",
        "    for score, label, (xmin, ymin, xmax, ymax),c  in zip(scores.tolist(), labels.tolist(), boxes.tolist(), colors):\n",
        "        ax.add_patch(plt.Rectangle((xmin, ymin), xmax - xmin, ymax - ymin,\n",
        "                                   fill=False, color=c, linewidth=3))\n",
        "        text = f'{model.config.id2label[label]}: {score:0.2f}'\n",
        "        ax.text(xmin, ymin, text, fontsize=10,\n",
        "                bbox=dict(facecolor='yellow', alpha=0.3))\n",
        "    plt.axis('off')\n",
        "    plt.show()\n",
        "    \n",
        "def processaTabela(file_path):\n",
        "  \n",
        "  image = Image.open(file_path).convert(\"RGB\")\n",
        "  width, height = image.size\n",
        "  image.resize((int(width*0.5), int(height*0.5)))\n",
        "\n",
        "  feature_extractor = DetrImageProcessor()\n",
        "  encoding = feature_extractor(image, return_tensors=\"pt\")\n",
        "  \n",
        "  with torch.no_grad():\n",
        "    outputs = model(**encoding)\n",
        "      \n",
        "  target_sizes = [image.size[::-1]]\n",
        "  results = feature_extractor.post_process_object_detection(outputs, threshold=0.6, target_sizes=target_sizes)[0]\n",
        "  \n",
        "  return results    \n",
        "\n",
        "\n",
        "# Classe para representar uma célula da tabela\n",
        "class CelulaTabela:\n",
        "    def __init__(self, coordenadas, label, texto):\n",
        "        self.coordenadas = coordenadas\n",
        "        self.label = label\n",
        "        self.texto = texto\n",
        "        \n",
        "# Função para recortar a imagem com base nas coordenadas do retângulo\n",
        "def recortar_imagem(img, coordenadas):\n",
        "    x_min, y_min, x_max, y_max = coordenadas\n",
        "    return img[int(y_min):int(y_max), int(x_min):int(x_max)]      \n",
        "\n",
        "\n",
        "def processaOcrTable(file_path, results):\n",
        "    dados_da_tabela = {}\n",
        "    # Carregue a imagem do PDF (ou outra fonte)\n",
        "    img_pdf = cv2.imread(file_path, cv2.IMREAD_COLOR) \n",
        "    \n",
        "    # Processo de OCR para cada célula e preenchimento do dicionário\n",
        "    for i in range(results['boxes'].shape[0]):\n",
        "        retangulo = results['boxes'][i].tolist()\n",
        "        img_celula = recortar_imagem(img_pdf, retangulo)\n",
        "        texto_celula = pytesseract.image_to_string(img_celula, config=tessdata_dir_config, lang='por')\n",
        "        \n",
        "        # Mapear o ID numérico do rótulo para o rótulo descritivo usando model.config.id2label\n",
        "        label_id = results['labels'][i].item() if isinstance(results['labels'][i], torch.Tensor) else results['labels'][i]\n",
        "        label_descritivo = model.config.id2label[label_id]\n",
        "        \n",
        "        # Adicionar as informações ao dicionário\n",
        "        chave_celula = f'celula_{i}'\n",
        "        \n",
        "        dados_da_tabela[chave_celula] = {\n",
        "            'coordenadas': retangulo,\n",
        "            'label': label_descritivo,\n",
        "            'texto': texto_celula\n",
        "        }\n",
        "    return dados_da_tabela \n",
        "\n",
        "\n",
        "cut_dict = create_cut_dictionary(csv_filename)\n",
        "          "
      ]
    },
    {
      "cell_type": "code",
      "execution_count": null,
      "metadata": {},
      "outputs": [],
      "source": [
        "cut_dict"
      ]
    },
    {
      "cell_type": "markdown",
      "metadata": {},
      "source": [
        "### 2. Funcoes de Pesquisa diretorio e arquivos"
      ]
    },
    {
      "cell_type": "code",
      "execution_count": 6,
      "metadata": {},
      "outputs": [],
      "source": [
        "def is_pdf_searchable(pdf_path):\n",
        "    try:\n",
        "        pdf_document = fitz.open(pdf_path)\n",
        "        is_searchable = all(page.get_text(\"text\") != \"\" for page in pdf_document)\n",
        "        pdf_document.close()\n",
        "        return is_searchable\n",
        "    except Exception as e:\n",
        "        print(f\"Erro ao verificar o PDF: {e}\")\n",
        "        return False"
      ]
    },
    {
      "cell_type": "markdown",
      "metadata": {},
      "source": [
        "## 3. Funcoes de Extracao de Texto"
      ]
    },
    {
      "cell_type": "markdown",
      "metadata": {},
      "source": [
        "### 0. Cabecalho"
      ]
    },
    {
      "cell_type": "code",
      "execution_count": 7,
      "metadata": {},
      "outputs": [],
      "source": [
        "# 1. CABECALHO - DADOS\n",
        "def extract_fields_dados(text):\n",
        "    nf_data_dados = {}\n",
        "    nf_data_dados['secao'] = \"1. CABECALHO - DADOS\"\n",
        "\n",
        "    # Extrair Número da Nota\n",
        "    numero_nota_match = re.search(r'Número da Nota:\\s+(\\d+)', text)\n",
        "    if numero_nota_match:\n",
        "        nr_nro_nf = numero_nota_match.group(1)\n",
        "        nf_data_dados['numero_nota_fiscal'] = numero_nota_match.group(1)\n",
        "    else:\n",
        "        nr_nro_nf = 0    \n",
        "\n",
        "    # Extrair Competência\n",
        "    competencia_match = re.search(r'Competência:\\s+(.+)', text)\n",
        "    if competencia_match:\n",
        "        nf_data_dados['competencia'] = competencia_match.group(1)\n",
        "\n",
        "    # Extrair Data e Hora de Emissão\n",
        "    data_emissao_match = re.search(r'ata e Hora da Emissão:\\s+(.+)', text)\n",
        "    if data_emissao_match:\n",
        "        nf_data_dados['dt_hr_emissao'] = data_emissao_match.group(1)\n",
        "        \n",
        "    # Extrair Data e Hora de Emissão\n",
        "    codigo_verificacao_match = re.search(r'Código Verificação:\\s+(.+)', text)\n",
        "    if codigo_verificacao_match:\n",
        "        nf_data_dados['codigo_verificacao'] = codigo_verificacao_match.group(1)    \n",
        "        \n",
        "    \n",
        "    return nf_data_dados, nr_nro_nf\n",
        "\n",
        "# 1. CABECALHO - DADOS\n",
        "def extract_fields_prefeitura(text):\n",
        "    nf_data_prefeitura = {}\n",
        "    nf_data_prefeitura['secao'] = \"1. CABECALHO - PREFEITURA\"\n",
        "    # Extrair Nome da Prefeitura\n",
        "    nome_prefeitura_match = re.search(r'PREFEITURA (.+)', text)\n",
        "    if nome_prefeitura_match:\n",
        "        nome_prefeitura = \"PREFEITURA \" + nome_prefeitura_match.group(1)\n",
        "        nf_data_prefeitura['nome_prefeitura'] = nome_prefeitura\n",
        "        \n",
        "    # Extrair Tipo de NF\n",
        "    tipo_nf_match = re.search(r'NOTA FISCAL (.+)', text)\n",
        "    if tipo_nf_match:\n",
        "        tipo_nf = \"NOTA FISCAL \" + tipo_nf_match.group(1)\n",
        "        nf_data_prefeitura['tipo_nota_fiscal'] = tipo_nf \n",
        "    \n",
        "    return  nf_data_prefeitura, nome_prefeitura  \n"
      ]
    },
    {
      "cell_type": "markdown",
      "metadata": {},
      "source": [
        "### 1. Prestador de Servico"
      ]
    },
    {
      "cell_type": "code",
      "execution_count": 157,
      "metadata": {},
      "outputs": [],
      "source": [
        "# 2. PRESTADOR DE SERVIÇO\n",
        "def extract_fields_prestador_cnpj(text): # Função para extrair campos e valores dentro de um retângulo\n",
        "    nf_data_prestador_cnpj = {}\n",
        "    \n",
        "    nf_data_prestador_cnpj['secao'] = \"2. PRESTADOR DE SERVIÇO - CNPJ\"\n",
        "    \n",
        "    \n",
        "    # Extrair CPF/CNPJ com máscara 1\n",
        "    if \"CPF/CNPJ:\" in text:\n",
        "        cpf_cnpj_formatado_match = re.search(r'(\\d{2}\\.\\d{3}\\.\\d{3}/\\d{4}-\\d{2})', text)\n",
        "        if cpf_cnpj_formatado_match:\n",
        "                        nf_data_prestador_cnpj['cpf_cnpj_com_mascara'] = cpf_cnpj_formatado_match.group(1)\n",
        "                        nf_data_prestador_cnpj['cpf_cnpj_sem_mascara'] = re.sub(r'\\D', '', cpf_cnpj_formatado_match.group(1))\n",
        "\n",
        "\n",
        "    # Extrair Telefone\n",
        "    telefone_str = None\n",
        "    \n",
        "    #telefone_match = re.search(r'Telefone:\\s+([0-9.\\s-])', text)\n",
        "    telefone_match = re.search(r'Telefone:\\s+([0-9.\\s-]+)', text)\n",
        "    if telefone_match: \n",
        "        telefone_str = telefone_match.group(1)\n",
        "        # Remover quebras de linha\n",
        "        telefone_str = telefone_str.replace('.', '')\n",
        "        telefone_str = telefone_str.replace('\\n', '')\n",
        "                \n",
        "        nf_data_prestador_cnpj['telefone'] = telefone_str\n",
        "    else:\n",
        "        nf_data_prestador_cnpj['telefone'] = None   \n",
        "    \n",
        "    \n",
        "    return nf_data_prestador_cnpj \n",
        "\n"
      ]
    },
    {
      "cell_type": "markdown",
      "metadata": {},
      "source": [
        "<mark> 1_frame_prestador_cnpj.jpg - Prestador de servico - CNPJ / Telefone </mark>"
      ]
    },
    {
      "cell_type": "code",
      "execution_count": 158,
      "metadata": {},
      "outputs": [],
      "source": [
        "for roots, directories, images in os.walk(root_dir_section_images):\n",
        "                for image in images:\n",
        "                    #print(f'\\n{roots}, {directories}, {images}')\n",
        "                    #print(image)\n",
        "                    image_path = os.path.join(roots, image)\n",
        "                    #print(image_path, image)\n",
        "                    frame = image\n",
        "                    \n",
        "                    \n",
        "                    if frame == \"1_frame_prestador_cnpj.jpg\": \n",
        "                        image_to_ocr = Image.open(image_path).convert('RGB')\n",
        "                        text = pytesseract.image_to_string(image_to_ocr, lang='por', config=tessdata_dir_config)\n",
        "                        nf_data_prestador_cnpj = extract_fields_prestador_cnpj(text)"
      ]
    },
    {
      "cell_type": "code",
      "execution_count": 159,
      "metadata": {},
      "outputs": [
        {
          "data": {
            "text/plain": [
              "{'secao': '2. PRESTADOR DE SERVIÇO - CNPJ',\n",
              " 'cpf_cnpj_com_mascara': '33.462.862/0001-95',\n",
              " 'cpf_cnpj_sem_mascara': '33462862000195',\n",
              " 'telefone': None}"
            ]
          },
          "execution_count": 159,
          "metadata": {},
          "output_type": "execute_result"
        }
      ],
      "source": [
        "nf_data_prestador_cnpj"
      ]
    },
    {
      "cell_type": "markdown",
      "metadata": {},
      "source": [
        "<mark> 1_frame_prestador_inscricao.jpg - INSCRICAO MUNICIPAL/ESTADUAL </mark>"
      ]
    },
    {
      "cell_type": "code",
      "execution_count": 160,
      "metadata": {},
      "outputs": [],
      "source": [
        "for roots, directories, images in os.walk(root_dir_section_images):\n",
        "                for image in images:\n",
        "                    #print(f'\\n{roots}, {directories}, {images}')\n",
        "                    #print(image)\n",
        "                    image_path = os.path.join(roots, image)\n",
        "                    #print(image_path, image)\n",
        "                    frame = image\n",
        "                    \n",
        "                    # Tomador de serviço\n",
        "                    \n",
        "                    \n",
        "                    if frame == \"1_frame_prestador_inscricao.jpg\": \n",
        "                        image_to_ocr = Image.open(image_path).convert('RGB')\n",
        "                        text = pytesseract.image_to_string(image_to_ocr, lang='por', config=tessdata_dir_config)\n",
        "                    "
      ]
    },
    {
      "cell_type": "code",
      "execution_count": 143,
      "metadata": {},
      "outputs": [
        {
          "data": {
            "text/plain": [
              "'PRESTADOR DE SERVIÇOS\\nInscrição Municipal:\\n4337\\nInscrição Estadual:\\n'"
            ]
          },
          "execution_count": 143,
          "metadata": {},
          "output_type": "execute_result"
        }
      ],
      "source": [
        "text"
      ]
    },
    {
      "cell_type": "code",
      "execution_count": 161,
      "metadata": {},
      "outputs": [
        {
          "name": "stdout",
          "output_type": "stream",
          "text": [
            "Inscrição Municipal: 4337\n",
            "Inscrição Estadual: None\n"
          ]
        }
      ],
      "source": [
        "# 1. Prrestador de Servico - INSCRICAO ESTADUAL/MUNICIPAL\n",
        "nf_data_prestador_incricao = {}\n",
        "    \n",
        "nf_data_prestador_incricao['secao'] = \"1. PRESTADOR DE SERVIÇO - INSCRICAO\"\n",
        "\n",
        "# Texto de exemplo corrigido\n",
        "texto = 'PRESTADOR DE SERVIÇOS\\nInscrição Municipal:\\n4337\\nInscrição Estadual:\\n'\n",
        "\n",
        "# Dividir o texto em linhas\n",
        "linhas = texto.split('\\n')\n",
        "\n",
        "# Inicializar variáveis para armazenar os valores\n",
        "inscricao_municipal = None\n",
        "inscricao_estadual = None\n",
        "\n",
        "\n",
        "# Iterar pelas linhas para identificar os campos e valores\n",
        "i = 0\n",
        "while i < len(linhas):\n",
        "    linha = linhas[i]\n",
        "    if \"Inscrição Municipal:\" in linha:\n",
        "        inscricao_municipal = linhas[i + 1].strip()\n",
        "        i += 2\n",
        "    elif \"Inscrição Estadual:\" in linha: \n",
        "        inscricao_estadual = linhas[i + 1].strip()   \n",
        "        i += 2\n",
        "    else:\n",
        "        i += 1\n",
        "        \n",
        "if inscricao_municipal == \"\":\n",
        "    inscricao_municipal = \"None\"        \n",
        "if inscricao_estadual == \"\":\n",
        "    inscricao_estadual = \"None\"\n",
        "\n",
        "# Imprimir os valores dos campos\n",
        "print(\"Inscrição Municipal:\", inscricao_municipal)\n",
        "print(\"Inscrição Estadual:\", inscricao_estadual)\n",
        "\n",
        "nf_data_prestador_incricao['inscricao_municipal'] = inscricao_municipal\n",
        "nf_data_prestador_incricao['inscricao_estadual'] = inscricao_estadual\n",
        "\n",
        "\n",
        "\n",
        "\n"
      ]
    },
    {
      "cell_type": "code",
      "execution_count": 147,
      "metadata": {},
      "outputs": [
        {
          "data": {
            "text/plain": [
              "{'secao': '1. PRESTADOR DE SERVIÇO - INSCRICAO',\n",
              " 'inscricao_municipal': '4337',\n",
              " 'inscricao_estadual': 'None'}"
            ]
          },
          "execution_count": 147,
          "metadata": {},
          "output_type": "execute_result"
        }
      ],
      "source": [
        "nf_data_prestador_incricao"
      ]
    },
    {
      "cell_type": "markdown",
      "metadata": {},
      "source": [
        "<mark> 1_frame_prestador_servico.jpg Prestador de servico - Razao social / Endereco / Nome Fantasia / email </mark>"
      ]
    },
    {
      "cell_type": "code",
      "execution_count": 162,
      "metadata": {},
      "outputs": [],
      "source": [
        "for roots, directories, images in os.walk(root_dir_section_images):\n",
        "                for image in images:\n",
        "                    #print(f'\\n{roots}, {directories}, {images}')\n",
        "                    #print(image)\n",
        "                    image_path = os.path.join(roots, image)\n",
        "                    #print(image_path, image)\n",
        "                    frame = image\n",
        "                    \n",
        "                    # Tomador de serviço\n",
        "                    nf_data_prestacao = {}\n",
        "                    nf_data_prestacao[\"secao\"] = \"1. NOVA ROTINA PRESTADOR\"\n",
        "                    if frame == \"1_frame_prestador_servico.jpg\": \n",
        "                        image_to_ocr = Image.open(image_path).convert('RGB')\n",
        "                        text = pytesseract.image_to_string(image_to_ocr, lang='por', config=tessdata_dir_config)\n",
        "                        #text = text.replace('\\n', '\\n\\n')\n",
        "                        #nf_data_tomador = extract_fields_tomador(text) \n",
        "                        # Dividir o texto em linhas\n",
        "                        linhas = text.split('\\n')"
      ]
    },
    {
      "cell_type": "code",
      "execution_count": 68,
      "metadata": {},
      "outputs": [
        {
          "data": {
            "text/plain": [
              "'Nome/Razão Social:\\n\\nSÃO MARCOS TERRAPLENAGEM E CONSTRUÇÃO LTDA.\\nNome de Fantasia:\\n\\nEndereço:\\n\\nRUA DAS MARGARIDAS ,578 ,SANTA DALILA - Magé-RJ\\nE-mail:\\n'"
            ]
          },
          "execution_count": 68,
          "metadata": {},
          "output_type": "execute_result"
        }
      ],
      "source": [
        "text"
      ]
    },
    {
      "cell_type": "code",
      "execution_count": 163,
      "metadata": {},
      "outputs": [
        {
          "name": "stdout",
          "output_type": "stream",
          "text": [
            "endereco: 2 RUA DAS MARGARIDAS ,578 ,SANTA DALILA - Magé-RJ\n",
            "Nome/Razão Social: SÃO MARCOS TERRAPLENAGEM E CONSTRUÇÃO LTDA.\n",
            "Nome de Fantasia: None\n",
            "Endereço: RUA DAS MARGARIDAS ,578 ,SANTA DALILA - Magé-RJ\n",
            "E-mail: None\n"
          ]
        }
      ],
      "source": [
        "# Prestador de servico - Razao social / Endereco / Nome Fantasia / email\n",
        "text = 'Nome/Razão Social:\\n\\nSÃO MARCOS TERRAPLENAGEM E CONSTRUÇÃO LTDA.\\nNome de Fantasia:\\n\\nEndereço:\\n\\nRUA DAS MARGARIDAS ,578 ,SANTA DALILA - Magé-RJ\\nE-mail:\\n'\n",
        "\n",
        "nf_data_prestador_servico = {}\n",
        "nf_data_prestador_servico['secao'] = \"2.PRESTADOR DE SERVIÇO - RAZAO\"\n",
        "tipo = None\n",
        "\n",
        "if \"\\n\\n\" in text:\n",
        "    linhas = text.split('\\n\\n')\n",
        "    tipo = 2\n",
        "    \n",
        "else:\n",
        "    linhas = text.split('\\n')    \n",
        "    tipo = 1\n",
        "   \n",
        "   \n",
        "#linhas = text.split('\\n')\n",
        "\n",
        "#linhas = text.split('\\n\\n')\n",
        "#print(linhas)\n",
        "\n",
        "\n",
        "# Inicializar variáveis para armazenar os valores\n",
        "nome_razao_social = None\n",
        "nome_fantasia = None\n",
        "endereco = None\n",
        "email = None\n",
        "\n",
        "# Iterar pelas linhas para identificar os campos e valores\n",
        "i = 0\n",
        "while i < len(linhas):\n",
        "    linha = linhas[i]\n",
        "    #print(\"linha:\", i, linha)\n",
        "    if \"Nome/Razão Social:\" in linha:\n",
        "        if tipo == 2:\n",
        "            texto1 = linhas[i + 1].strip()\n",
        "            texto2 = texto1.split('\\n')\n",
        "            nome_razao_social = texto2[i].strip()\n",
        "        else:\n",
        "            nome_razao_social = linhas[i + 1].strip()   \n",
        "        #print(\"texto_razao: \", texto_razao)\n",
        "        \n",
        "        #print()\n",
        "        #print(\"texto_razao2: \", texto_razao2)\n",
        "        #print()\n",
        "        #print(\"texto_razao3: \", texto_razao3)\n",
        "        #print(f'\\nRazao Social: {nome_razao_social}')\n",
        "        i += 2\n",
        "    elif \"Nome de Fantasia:\" in linha:\n",
        "        nome_fantasia = linhas[i + 1].strip()\n",
        "        i += 2\n",
        "    elif \"Endereço:\" in linha:\n",
        "        \n",
        "        if tipo == 2:\n",
        "            texto3 = linhas[i + 1].strip()\n",
        "            texto4 = texto3.split('\\n')\n",
        "            \n",
        "            endereco = texto4[0].strip()\n",
        "            print(\"endereco:\", i, endereco)\n",
        "            \n",
        "            \n",
        "        else:\n",
        "            endereco = linhas[i + 1].strip()      \n",
        "        i += 2\n",
        "    elif \"E-mail:\" in linha:\n",
        "        email = linhas[i + 1].strip()\n",
        "        i += 2\n",
        "    else:\n",
        "        i += 1\n",
        "\n",
        "\n",
        "# Imprimir os valores dos campos\n",
        "print(\"Nome/Razão Social:\", nome_razao_social)\n",
        "print(\"Nome de Fantasia:\", nome_fantasia)\n",
        "print(\"Endereço:\", endereco)\n",
        "print(\"E-mail:\", email)\n",
        "\n",
        "\n",
        "nf_data_prestador_servico['razao_social'] = nome_razao_social\n",
        "nf_data_prestador_servico['nome_fantasia'] = nome_fantasia\n",
        "nf_data_prestador_servico['endereco'] = endereco\n",
        "nf_data_prestador_servico['email'] = email"
      ]
    },
    {
      "cell_type": "code",
      "execution_count": 107,
      "metadata": {},
      "outputs": [
        {
          "data": {
            "text/plain": [
              "['Nome/Razão Social:',\n",
              " 'SÃO MARCOS TERRAPLENAGEM E CONSTRUÇÃO LTDA.\\nNome de Fantasia:',\n",
              " 'Endereço:',\n",
              " 'RUA DAS MARGARIDAS ,578 ,SANTA DALILA - Magé-RJ\\nE-mail:\\n']"
            ]
          },
          "execution_count": 107,
          "metadata": {},
          "output_type": "execute_result"
        }
      ],
      "source": [
        "linhas"
      ]
    },
    {
      "cell_type": "code",
      "execution_count": 164,
      "metadata": {},
      "outputs": [
        {
          "data": {
            "text/plain": [
              "{'secao': '2.PRESTADOR DE SERVIÇO - RAZAO',\n",
              " 'razao_social': 'SÃO MARCOS TERRAPLENAGEM E CONSTRUÇÃO LTDA.',\n",
              " 'nome_fantasia': None,\n",
              " 'endereco': 'RUA DAS MARGARIDAS ,578 ,SANTA DALILA - Magé-RJ',\n",
              " 'email': None}"
            ]
          },
          "execution_count": 164,
          "metadata": {},
          "output_type": "execute_result"
        }
      ],
      "source": [
        "nf_data_prestador_servico"
      ]
    },
    {
      "cell_type": "code",
      "execution_count": 111,
      "metadata": {},
      "outputs": [
        {
          "data": {
            "text/plain": [
              "['Nome/Razão Social:',\n",
              " 'SÃO MARCOS TERRAPLENAGEM E CONSTRUÇÃO LTDA.\\nNome de Fantasia:',\n",
              " 'Endereço:',\n",
              " 'RUA DAS MARGARIDAS ,578 ,SANTA DALILA - Magé-RJ\\nE-mail:\\n']"
            ]
          },
          "execution_count": 111,
          "metadata": {},
          "output_type": "execute_result"
        }
      ],
      "source": [
        "linhas2"
      ]
    },
    {
      "cell_type": "code",
      "execution_count": null,
      "metadata": {},
      "outputs": [],
      "source": [
        "                        print()\n",
        "                        print(\"AQUI\", text)\n",
        "                        \n",
        "                        #linhas = text.split('\\n')      \n",
        "                        # Inicializar variáveis para armazenar os valores\n",
        "                        inscricao_municipal = None\n",
        "                        inscricao_estadual = None\n",
        "                        \n",
        "                        # Iterar pelas linhas para identificar os campos e valores\n",
        "                        i = 0\n",
        "                        while i < len(linhas):\n",
        "                            linha = linhas[i]\n",
        "                            if \"Inscrição Municipal:\" in linha:\n",
        "                                inscricao_municipal = linhas[i + 1].strip()\n",
        "                                i += 2\n",
        "                            elif \"Inscrição Estadual:\" in linha: \n",
        "                                inscricao_estadual = linhas[i + 1].strip()   \n",
        "                                i += 2\n",
        "                            else:\n",
        "                                i += 1\n",
        "                        \n",
        "                    nf_data_prestacao['inscricao_municipal'] = inscricao_municipal\n",
        "                    nf_data_prestacao['inscricao_estadual'] = inscricao_estadual       \n",
        "                                         \n",
        "                     \n",
        "                    \n",
        "                    \n",
        "                    if frame == \"1_frame_prestador_servico.jpg\": \n",
        "                        image_to_ocr = Image.open(image_path).convert('RGB')\n",
        "                        text = pytesseract.image_to_string(image_to_ocr, lang='por', config=tessdata_dir_config)\n",
        "                        #text = text.replace('\\n', '\\n\\n')\n",
        "                        #nf_data_tomador = extract_fields_tomador(text) \n",
        "                        # Dividir o texto em linhas\n",
        "                        print()\n",
        "                        print(text)\n",
        "                        linhas = text.split('\\n')\n",
        "                        #print(linhas)\n",
        "\n",
        "                        # Inicializar variáveis para armazenar os valores\n",
        "                        nome_razao_social = None\n",
        "                        nome_fantasia = None\n",
        "                        endereco = None\n",
        "                        email = None\n",
        "\n",
        "                        # Iterar pelas linhas para identificar os campos e valores\n",
        "                        i = 0\n",
        "                        while i < len(linhas):\n",
        "                            linha = linhas[i]\n",
        "                            if \"Nome/Razão Social:\" in linha:\n",
        "                                nome_razao_social = linhas[i + 1].strip()\n",
        "                                print(f'\\nRazao Social: {nome_razao_social}\\n')\n",
        "                                i += 2\n",
        "                            elif \"Nome de Fantasia:\" in linha:\n",
        "                                nome_fantasia = linhas[i + 1].strip()\n",
        "                                i += 2\n",
        "                            elif \"Endereço:\" in linha:\n",
        "                                endereco = linhas[i + 1].strip()\n",
        "                                i += 2\n",
        "                            elif \"E-mail:\" in linha:\n",
        "                                email = linhas[i + 1].strip()\n",
        "                                i += 2\n",
        "                            else:\n",
        "                                i += 1\n",
        "\n",
        "\n",
        "                    nf_data_prestacao['razao_social'] = nome_razao_social\n",
        "                    nf_data_prestacao['nome_fantasia'] = nome_fantasia\n",
        "                    nf_data_prestacao['endereco'] = endereco\n",
        "                    nf_data_prestacao['email'] = email"
      ]
    },
    {
      "cell_type": "code",
      "execution_count": 49,
      "metadata": {},
      "outputs": [
        {
          "data": {
            "text/plain": [
              "{'secao': 'Nova secao Prestador',\n",
              " 'inscricao_municipal': '4337',\n",
              " 'inscricao_estadual': '',\n",
              " 'razao_social': '',\n",
              " 'nome_fantasia': '',\n",
              " 'endereco': '',\n",
              " 'email': ''}"
            ]
          },
          "execution_count": 49,
          "metadata": {},
          "output_type": "execute_result"
        }
      ],
      "source": [
        "nf_data_prestacao"
      ]
    },
    {
      "cell_type": "code",
      "execution_count": 141,
      "metadata": {},
      "outputs": [
        {
          "data": {
            "text/plain": [
              "{'secao': '2. PRESTADOR DE SERVIÇO',\n",
              " 'cpf_cnpj_com_mascara': '33.462.862/0001-95',\n",
              " 'cpf_cnpj_sem_mascara': '33462862000195',\n",
              " 'telefone': 'NONE',\n",
              " 'email': 'NONE'}"
            ]
          },
          "execution_count": 141,
          "metadata": {},
          "output_type": "execute_result"
        }
      ],
      "source": [
        "nf_data_prestador"
      ]
    },
    {
      "cell_type": "markdown",
      "metadata": {},
      "source": [
        "<h3> Restos - Prestador de servicos </h3>"
      ]
    },
    {
      "cell_type": "code",
      "execution_count": null,
      "metadata": {},
      "outputs": [],
      "source": [
        "\n",
        "# Extrair Inscrição Municipal\n",
        "    inscricao_municipal_match = re.search(r'Inscrição Municipal:\\s+(.+)', text)\n",
        "    if inscricao_municipal_match:\n",
        "        nf_data_prestador['inscricao_municipal'] = inscricao_municipal_match.group(1)\n",
        "        \n",
        "        \n",
        "        \n",
        "        \n",
        "               \n",
        "    # Extrair Inscrição Estadual\n",
        "    #if \"Inscrição Estadual:\" in text:\n",
        "    \n",
        "    # Extrair Inscrição Estadual\n",
        "    inscricao_estadual_match = re.search(r'Inscrição Estadual:\\s+(.+)', text)\n",
        "    if inscricao_estadual_match:\n",
        "        inscricao_estadual_str = inscricao_estadual_match.group(1)\n",
        "        if inscricao_estadual_str == 'Nome/Razão Social:':\n",
        "            nf_data_prestador['inscricao_estadual'] = \"NONE\"\n",
        "        else:    \n",
        "            nf_data_prestador['inscricao_estadual'] = inscricao_estadual_match.group(1)       \n",
        "        \n",
        "                \n",
        "    \n",
        "                \n",
        "    # Nome/Razão Social:\n",
        "    razao_social_match = re.search(r'Nome/Razão Social:\\s+(.+)', text)\n",
        "    if razao_social_match:\n",
        "        nf_data_prestador['razao_social'] = razao_social_match.group(1)  \n",
        "                \n",
        "    # Nome de Fantasia:\n",
        "    nome_fantasia_match = re.search(r'Nome de Fantasia:\\s+(.+)', text)\n",
        "    if nome_fantasia_match:\n",
        "        nf_data_prestador['nome_fantasia'] = nome_fantasia_match.group(1)                                    \n",
        "                \n",
        "            \n",
        "    # Endereço:\n",
        "    endereco_match = re.search(r'Endereço:\\s+(.+)', text)\n",
        "    if endereco_match:\n",
        "        nf_data_prestador['endereco'] = endereco_match.group(1) \n",
        "    \n",
        "    # E-mail:\n",
        "    email_match = re.search(r'E-mail:\\s+(.+)', text)\n",
        "    if email_match:\n",
        "        nf_data_prestador['email'] = email_match.group(1)  \n",
        "    else:\n",
        "        nf_data_prestador['email'] = \"NONE\"  # Valor padrão quando não há correspondência\n",
        "   \n",
        "        \n",
        "\n",
        "    return nf_data_prestador"
      ]
    },
    {
      "cell_type": "code",
      "execution_count": null,
      "metadata": {},
      "outputs": [],
      "source": []
    },
    {
      "cell_type": "markdown",
      "metadata": {},
      "source": [
        "###   2. Tomador de Serviço"
      ]
    },
    {
      "cell_type": "code",
      "execution_count": 13,
      "metadata": {},
      "outputs": [],
      "source": [
        "def extract_fields_tomador_cnpj(text):\n",
        "    nf_data_tomador_cnpj = {}\n",
        "    \n",
        "    \n",
        "    nf_data_tomador_cnpj['secao'] = \"3.TOMADOR DE SERVIÇO\"\n",
        "    \n",
        "    \n",
        "    # Extrair CPF/CNPJ com máscara 1\n",
        "    if \"CPF/CNPJ:\" in text:\n",
        "        cpf_cnpj_formatado_match = re.search(r'(\\d{2}\\.\\d{3}\\.\\d{3}/\\d{4}-\\d{2})', text)\n",
        "        if cpf_cnpj_formatado_match:\n",
        "                        nf_data_tomador_cnpj['cpf_cnpj_com_mascara'] = cpf_cnpj_formatado_match.group(1)\n",
        "                        nf_data_tomador_cnpj['cpf_cnpj_sem_mascara'] = re.sub(r'\\D', '', cpf_cnpj_formatado_match.group(1))\n",
        "\n",
        "    \n",
        "    # Extrair Telefone\n",
        "    telefone_match = re.search(r'Telefone:\\s+(.+)', text)\n",
        "    if telefone_match:\n",
        "        telefone_str = telefone_match.group(1)\n",
        "        if telefone_str == 'Inscrição Estadual:':\n",
        "            nf_data_tomador_cnpj['telefone'] = \"NONE\"  # Valor padrão quando não há correspondência\n",
        "        elif telefone_str == '':\n",
        "            nf_data_tomador_cnpj['telefone'] = \"NONE\"  # Valor padrão quando não há correspondência\n",
        "                    \n",
        "        else:    \n",
        "            nf_data_tomador_cnpj['telefone'] = telefone_match.group(1)\n",
        "            \n",
        "    \n",
        "    \n",
        "    # Extrair Inscrição Municipal\n",
        "    inscricao_municipal_match = re.search(r'Inscrição Municipal:\\s+(.+)', text)\n",
        "    if inscricao_municipal_match:\n",
        "        inscricao_municipal_str = inscricao_municipal_match.group(1)\n",
        "        if inscricao_municipal_str == \"Telefone:\": \n",
        "            nf_data_tomador_cnpj['inscricao_municipal'] = \"NONE\"\n",
        "        else:    \n",
        "            nf_data_tomador_cnpj['inscricao_municipal'] = inscricao_municipal_str\n",
        "    \n",
        "    insc_municipal_match = re.search(r'INSC:MUNICIPAL:\\s+(.+)', text)\n",
        "    if insc_municipal_match:\n",
        "        insc_municipal_str = insc_municipal_match.group(1)\n",
        "        if insc_municipal_str == \"Telefone:\":\n",
        "            nf_data_tomador_cnpj['inscricao_municipal'] = \"NONE\" \n",
        "        else:    \n",
        "            nf_data_tomador_cnpj['inscricao_municipal'] = insc_municipal_str\n",
        "    else:\n",
        "        nf_data_tomador_cnpj['inscricao_municipal'] = \"NONE\"\n",
        "                        \n",
        "            \n",
        "            \n",
        "    \n",
        "    return nf_data_tomador_cnpj\n",
        "\n",
        "def extract_fields_tomador_inscricao(text):\n",
        "    nf_data_tomador_inscricao = {}\n",
        "    \n",
        "    # Extrair RG    \n",
        "    rg_match = re.search(r'RG:\\s+(.+)', text)   \n",
        "    if rg_match:\n",
        "        rg_str = rg_match.group(1)\n",
        "        if rg_str == 'Inscrição Estadual:':\n",
        "            nf_data_tomador_inscricao['rg'] = \"NONE\"  # Valor padrão quando não há correspondência\n",
        "        else:    \n",
        "            nf_data_tomador_inscricao['rg'] = rg_match.group(1)  \n",
        " \n",
        "        \n",
        "                \n",
        "    # Extrair Inscrição Estadual\n",
        "    inscricao_estadual_match = re.search(r'Inscrição Estadual:\\s+(.+)', text)\n",
        "    if inscricao_estadual_match:\n",
        "        inscricao_estadual_str = inscricao_estadual_match.group(1)\n",
        "        if inscricao_estadual_str == '':\n",
        "            nf_data_tomador_inscricao['inscricao_estadual'] = \"NONE\"\n",
        "        else:    \n",
        "            nf_data_tomador_inscricao['inscricao_estadual'] = inscricao_estadual_match.group(1)   \n",
        "    else: \n",
        "        nf_data_tomador_inscricao['inscricao_estadual'] = \"NONE\"           \n",
        "\n",
        "    return nf_data_tomador_inscricao\n",
        "                                                     \n",
        "            "
      ]
    },
    {
      "cell_type": "code",
      "execution_count": 34,
      "metadata": {},
      "outputs": [
        {
          "name": "stdout",
          "output_type": "stream",
          "text": [
            "0_frame_cabecalho_nf.jpg\n",
            "0_frame_dados_nf.jpg\n",
            "0_frame_prefeitura_nf.jpg\n",
            "1_frame_prestador_cnpj.jpg\n",
            "1_frame_prestador_inscricao.jpg\n",
            "1_frame_prestador_servico.jpg\n",
            "2_frame_tomador_cnpj.jpg\n",
            "2_frame_tomador_inscricao.jpg\n",
            "2_frame_tomador_servico.jpg\n",
            "\n",
            "3_frame_descricao_servico.jpg\n",
            "4_frame_valor_total.jpg\n",
            "5_frame_cnae_itens.jpg\n",
            "6_frame_valores_impostos.jpg\n",
            "7_frame_dados_complementares.jpg\n",
            "8_frame_outras_informacoes.jpg\n",
            "9_frame_observacao.jpg\n"
          ]
        }
      ],
      "source": [
        "for roots, directories, images in os.walk(root_dir_section_images):\n",
        "                for image in images:\n",
        "                    #print(f'\\n{roots}, {directories}, {images}')\n",
        "                    print(image)\n",
        "                    image_path = os.path.join(roots, image)\n",
        "                    #print(image_path, image)\n",
        "                    frame = image\n",
        "                    \n",
        "                    \n",
        "                    nf_data_tomador = {}\n",
        "                    nf_data_tomador['secao'] = \"2. PRESTADOR DE SERVIÇO\"\n",
        "                    # Tomador de serviço\n",
        "                    if frame == \"2_frame_tomador_cnpj.jpg\": \n",
        "                        image_to_ocr = Image.open(image_path).convert('RGB')\n",
        "                        text = pytesseract.image_to_string(image_to_ocr, lang='por', config=tessdata_dir_config)\n",
        "                        nf_data_tomador_cnpj = extract_fields_tomador_cnpj(text)\n",
        "                        \n",
        "                    if frame == \"2_frame_tomador_inscricao.jpg\": \n",
        "                        image_to_ocr = Image.open(image_path).convert('RGB')\n",
        "                        text = pytesseract.image_to_string(image_to_ocr, lang='por', config=tessdata_dir_config)\n",
        "                        nf_data_tomador_inscricao = extract_fields_tomador_inscricao(text)       \n",
        "                    \n",
        "                    \n",
        "                    if frame == \"2_frame_tomador_servico.jpg\": \n",
        "                        image_to_ocr = Image.open(image_path).convert('RGB')\n",
        "                        text = pytesseract.image_to_string(image_to_ocr, lang='por', config=tessdata_dir_config)\n",
        "\n",
        "                        print()\n",
        "                        #print(text)\n",
        "                        \n",
        "                        # Dividir o texto em linhas\n",
        "                        linhas = text.split('\\n')\n",
        "                        #print(linhas)\n",
        "                        # Inicializar variáveis para armazenar os valores\n",
        "                        nome_razao_social = None\n",
        "                        endereco = None\n",
        "                        email = None\n",
        "\n",
        "                        # Iterar pelas linhas para identificar os campos e valores\n",
        "                        i = 0\n",
        "                        while i < len(linhas):\n",
        "                            linha = linhas[i]\n",
        "                            if \"Nome/Razão Social:\" in linha:\n",
        "                                nome_razao_social = linhas[i + 1].strip()\n",
        "                                \n",
        "                                i += 2\n",
        "                            elif \"Endereço:\" in linha:\n",
        "                                endereco = linhas[i + 1].strip()\n",
        "                                \n",
        "                                i += 2\n",
        "                            elif \"E-mail:\" in linha:\n",
        "                                email = linhas[i + 1].strip()\n",
        "                                \n",
        "                                i += 2\n",
        "                            else:\n",
        "                                i += 1\n",
        "\n",
        "                    #print(f'\\nRazao Social: {nome_razao_social}\\n')\n",
        "                    #print(f'\\nEndereco: {endereco}\\n')\n",
        "                    #print(f'\\nEmail: {email}\\n')\n",
        "                        \n",
        "                    nf_data_tomador['razao_social'] = nome_razao_social\n",
        "                    nf_data_tomador['endereco'] = endereco\n",
        "                    nf_data_tomador['email'] = email"
      ]
    },
    {
      "cell_type": "code",
      "execution_count": 35,
      "metadata": {},
      "outputs": [
        {
          "data": {
            "text/plain": [
              "{'secao': '2. PRESTADOR DE SERVIÇO',\n",
              " 'razao_social': 'MUNICÍPIO DE MACAE',\n",
              " 'endereco': 'PRESIDENTE FELICIANO SODRE Nº 534 PAÇO MUNICIPAL BAIRRO: CENTRO CIDADE: MACAE - RJ CEP: 27913080',\n",
              " 'email': 'NÃO INFORMADO'}"
            ]
          },
          "execution_count": 35,
          "metadata": {},
          "output_type": "execute_result"
        }
      ],
      "source": [
        "nf_data_tomador"
      ]
    },
    {
      "cell_type": "code",
      "execution_count": 89,
      "metadata": {},
      "outputs": [],
      "source": [
        "# Texto de exemplo corrigido\n",
        "texto = 'Nome/Razão Social:\\nMUNICÍPIO DE MACAE\\nEndereço: ê à\\nPRESIDENTE FELICIANO SODRE Nº 534 PAÇO MUNICIPAL BAIRRO: CENTRO CIDADE: MACAE - RJ CEP: 27913080\\nE-mail:\\nNÃO INFORMADO\\n'\n",
        "\n",
        "# Dividir o texto em linhas\n",
        "linhas = texto.split('\\n')\n",
        "\n",
        "# Inicializar variáveis para armazenar os valores\n",
        "nome_razao_social = None\n",
        "endereco = None\n",
        "email = None\n",
        "\n",
        "# Iterar pelas linhas para identificar os campos e valores\n",
        "i = 0\n",
        "while i < len(linhas):\n",
        "    linha = linhas[i]\n",
        "    if \"Nome/Razão Social:\" in linha:\n",
        "        nome_razao_social = linhas[i + 1].strip()\n",
        "        i += 2\n",
        "    elif \"Endereço:\" in linha:\n",
        "        endereco = linhas[i + 1].strip()\n",
        "        i += 2\n",
        "    elif \"E-mail:\" in linha:\n",
        "        email = linhas[i + 1].strip()\n",
        "        i += 2\n",
        "    else:\n",
        "        i += 1\n",
        "\n",
        "\n",
        "nf_data_tomador['razao_social'] = nome_razao_social\n",
        "nf_data_tomador['endereco'] = endereco\n",
        "nf_data_tomador['email'] = email\n"
      ]
    },
    {
      "cell_type": "code",
      "execution_count": 85,
      "metadata": {},
      "outputs": [
        {
          "name": "stdout",
          "output_type": "stream",
          "text": [
            "Nome/Razão Social: MUNICÍPIO DE MACAE\n",
            "Endereço: PRESIDENTE FELICIANO SODRE Nº 534 PAÇO MUNICIPAL BAIRRO: CENTRO CIDADE: MACAE - RJ CEP: 27913080\n",
            "E-mail: NÃO INFORMADO\n"
          ]
        }
      ],
      "source": [
        "# Texto de exemplo\n",
        "texto = \"Nome/Razão Social:\\nMUNICÍPIO DE MACAE\\nEndereço: ê à\\nPRESIDENTE FELICIANO SODRE Nº 534 PAÇO MUNICIPAL BAIRRO: CENTRO CIDADE: MACAE - RJ CEP: 27913080\\nE-mail:\\nNÃO INFORMADO\\n\"\n",
        "\n",
        "# Dividir o texto em linhas\n",
        "linhas = texto.split('\\n')\n",
        "\n",
        "# Inicializar variáveis para armazenar os valores\n",
        "nome_razao_social = None\n",
        "endereco = None\n",
        "email = None\n",
        "\n",
        "# Iterar pelas linhas para identificar os campos e valores\n",
        "i = 0\n",
        "while i < len(linhas):\n",
        "    linha = linhas[i]\n",
        "    if \"Nome/Razão Social:\" in linha:\n",
        "        nf_data_tomador['razao_social'] = linhas[i + 1].strip()\n",
        "        i += 2\n",
        "    elif \"Endereço:\" in linha:\n",
        "        nf_data_tomador['email'] = linhas[i + 1].strip()\n",
        "        i += 2\n",
        "    elif \"E-mail:\" in linha:\n",
        "        nf_data_tomador['email'] = linhas[i + 1].strip()\n",
        "        i += 2\n",
        "    else:\n",
        "        i += 1\n",
        "\n",
        "# Imprimir os valores dos campos\n",
        "print(\"Nome/Razão Social:\", nome_razao_social)\n",
        "print(\"Endereço:\", endereco)\n",
        "print(\"E-mail:\", email)\n",
        "\n",
        "\n",
        "\n",
        "\n",
        "\n",
        "\n"
      ]
    },
    {
      "cell_type": "code",
      "execution_count": 71,
      "metadata": {},
      "outputs": [
        {
          "data": {
            "text/plain": [
              "'Nome/Razão Social:\\nMUNICÍPIO DE MACAE\\nEndereço: ê à\\nPRESIDENTE FELICIANO SODRE Nº 534 PAÇO MUNICIPAL BAIRRO: CENTRO CIDADE: MACAE - RJ CEP: 27913080\\nE-mail:\\nNÃO INFORMADO\\n'"
            ]
          },
          "execution_count": 71,
          "metadata": {},
          "output_type": "execute_result"
        }
      ],
      "source": [
        "text"
      ]
    },
    {
      "cell_type": "code",
      "execution_count": 90,
      "metadata": {},
      "outputs": [
        {
          "data": {
            "text/plain": [
              "{'razao_social': 'MUNICÍPIO DE MACAE',\n",
              " 'endereco': 'PRESIDENTE FELICIANO SODRE Nº 534 PAÇO MUNICIPAL BAIRRO: CENTRO CIDADE: MACAE - RJ CEP: 27913080',\n",
              " 'email': 'NÃO INFORMADO'}"
            ]
          },
          "execution_count": 90,
          "metadata": {},
          "output_type": "execute_result"
        }
      ],
      "source": [
        "nf_data_tomador"
      ]
    },
    {
      "cell_type": "code",
      "execution_count": null,
      "metadata": {},
      "outputs": [],
      "source": []
    },
    {
      "cell_type": "code",
      "execution_count": null,
      "metadata": {},
      "outputs": [],
      "source": []
    },
    {
      "cell_type": "code",
      "execution_count": null,
      "metadata": {},
      "outputs": [],
      "source": []
    },
    {
      "cell_type": "code",
      "execution_count": 42,
      "metadata": {},
      "outputs": [
        {
          "data": {
            "text/plain": [
              "{'secao': '3.TOMADOR DE SERVIÇO',\n",
              " 'cpf_cnpj_com_mascara': '29.115.474/0001-60',\n",
              " 'cpf_cnpj_sem_mascara': '29115474000160',\n",
              " 'inscricao_municipal': 'NONE'}"
            ]
          },
          "execution_count": 42,
          "metadata": {},
          "output_type": "execute_result"
        }
      ],
      "source": [
        "\n",
        "nf_data_tomador_cnpj\n"
      ]
    },
    {
      "cell_type": "code",
      "execution_count": 51,
      "metadata": {},
      "outputs": [
        {
          "data": {
            "text/plain": [
              "{'rg': 'NONE', 'inscricao_estadual': 'NONE'}"
            ]
          },
          "execution_count": 51,
          "metadata": {},
          "output_type": "execute_result"
        }
      ],
      "source": [
        "nf_data_tomador_inscricao"
      ]
    },
    {
      "cell_type": "code",
      "execution_count": 56,
      "metadata": {},
      "outputs": [
        {
          "data": {
            "text/plain": [
              "{'razao_social': 'MUNICÍPIO DE MACAE Endereço: ê à PRESIDENTE FELICIANO SODRE Nº 534 PAÇO MUNICIPAL BAIRRO: CENTRO CIDADE: MACAE - RJ CEP: 27913080 E-mail: NÃO INFORMADO ',\n",
              " 'endereco': 'ê à PRESIDENTE FELICIANO SODRE Nº 534 PAÇO MUNICIPAL BAIRRO: CENTRO CIDADE: MACAE - RJ CEP: 27913080 E-mail: NÃO INFORMADO ',\n",
              " 'email': 'NÃO INFORMADO '}"
            ]
          },
          "execution_count": 56,
          "metadata": {},
          "output_type": "execute_result"
        }
      ],
      "source": []
    },
    {
      "cell_type": "markdown",
      "metadata": {},
      "source": [
        "### 3 - Descricao dos Servicos - 3_frame_descricao_servico.jpg"
      ]
    },
    {
      "cell_type": "code",
      "execution_count": 166,
      "metadata": {},
      "outputs": [],
      "source": [
        "for roots, directories, images in os.walk(root_dir_section_images):\n",
        "                for image in images:\n",
        "                    #print(f'\\n{roots}, {directories}, {images}')\n",
        "                    image_path = os.path.join(roots, image)\n",
        "                    #print(image_path, image)\n",
        "                    frame = image\n",
        "                    \n",
        "                    if frame == \"3_frame_descricao_servico.jpg\": \n",
        "                        image_to_ocr = Image.open(image_path).convert('RGB')\n",
        "                        text = pytesseract.image_to_string(image_to_ocr, lang='por', config=tessdata_dir_config)\n",
        "                        #nf_data_prestador = extract_fields_prestador(text)  "
      ]
    },
    {
      "cell_type": "code",
      "execution_count": 167,
      "metadata": {},
      "outputs": [
        {
          "data": {
            "text/plain": [
              "'DISCRIMINAÇÃO DOS SERVIÇOS\\nServiço de Recomposição do Pavimento Asfáltico (Tapa Buraco), na cidade de Macaé/RJ, abrangendo Perímetro Urbano, Região Serrana, conf Boletim de Medição 08 —\\nCO 022/2022 — Contrato 045/2022 - . Empenhos 501/2023 e 502/2023. M. Obra (10%)= R$ 104.468,45 Retenção p/ Prev. Social=R$ 11.491,53 Banco: ITAU Agência:\\n0726 C/Corrente: 35410-3\\n'"
            ]
          },
          "execution_count": 167,
          "metadata": {},
          "output_type": "execute_result"
        }
      ],
      "source": [
        "text"
      ]
    },
    {
      "cell_type": "code",
      "execution_count": 172,
      "metadata": {},
      "outputs": [],
      "source": [
        "nf_data_servico = {}\n",
        "nf_data_servico['secao'] = \"4. DESCRIMINACAO DOS SERVIÇOS\"\n",
        "\n",
        "text = text.replace('\\n', ' ')\n",
        "label = \"DISCRIMINAÇÃO DOS SERVIÇOS\"\n",
        "if text.startswith(label):\n",
        "    text = text[len(label):].strip()\n",
        "nf_data_servico['discriminacao_servicos'] = text"
      ]
    },
    {
      "cell_type": "code",
      "execution_count": 173,
      "metadata": {},
      "outputs": [
        {
          "data": {
            "text/plain": [
              "{'secao': '4. DESCRIMINACAO DOS SERVIÇOS',\n",
              " 'discriminacao_servicos': 'Serviço de Recomposição do Pavimento Asfáltico (Tapa Buraco), na cidade de Macaé/RJ, abrangendo Perímetro Urbano, Região Serrana, conf Boletim de Medição 08 — CO 022/2022 — Contrato 045/2022 - . Empenhos 501/2023 e 502/2023. M. Obra (10%)= R$ 104.468,45 Retenção p/ Prev. Social=R$ 11.491,53 Banco: ITAU Agência: 0726 C/Corrente: 35410-3'}"
            ]
          },
          "execution_count": 173,
          "metadata": {},
          "output_type": "execute_result"
        }
      ],
      "source": [
        "nf_data_servico"
      ]
    },
    {
      "cell_type": "markdown",
      "metadata": {},
      "source": [
        "### 5. Valor Total : 4_frame_valor_total.jpg"
      ]
    },
    {
      "cell_type": "code",
      "execution_count": 175,
      "metadata": {},
      "outputs": [],
      "source": [
        "for roots, directories, images in os.walk(root_dir_section_images):\n",
        "                for image in images:\n",
        "                    #print(f'\\n{roots}, {directories}, {images}')\n",
        "                    image_path = os.path.join(roots, image)\n",
        "                    #print(image_path, image)\n",
        "                    frame = image\n",
        "                    \n",
        "                    if frame == \"4_frame_valor_total.jpg\": \n",
        "                        image_to_ocr = Image.open(image_path).convert('RGB')\n",
        "                        text = pytesseract.image_to_string(image_to_ocr, lang='por', config=tessdata_dir_config)\n",
        "                        #nf_data_prestador = extract_fields_prestador(text)    "
      ]
    },
    {
      "cell_type": "code",
      "execution_count": 176,
      "metadata": {},
      "outputs": [
        {
          "data": {
            "text/plain": [
              "'VALOR TOTAL DA NOTA: R$ 1.044.684,55\\n'"
            ]
          },
          "execution_count": 176,
          "metadata": {},
          "output_type": "execute_result"
        }
      ],
      "source": [
        "text"
      ]
    },
    {
      "cell_type": "code",
      "execution_count": 177,
      "metadata": {},
      "outputs": [],
      "source": [
        "nf_data_valor_total = {}\n",
        "nf_data_valor_total['secao'] = \"5. VALOR TOTAL\"\n",
        "\n",
        "valor_total_match = re.search(r'R\\$ ([\\d,.]+)', text)\n",
        "if valor_total_match:\n",
        "    valor_total_sem_formatacao = valor_total_match.group(1).replace('.', '').replace(',', '.')\n",
        "    nf_data_valor_total['valor_total_nota'] = float(valor_total_sem_formatacao)\n",
        "                    "
      ]
    },
    {
      "cell_type": "code",
      "execution_count": 178,
      "metadata": {},
      "outputs": [
        {
          "data": {
            "text/plain": [
              "{'secao': '5. VALOR TOTAL', 'valor_total_nota': 1044684.55}"
            ]
          },
          "execution_count": 178,
          "metadata": {},
          "output_type": "execute_result"
        }
      ],
      "source": [
        "nf_data_valor_total"
      ]
    },
    {
      "cell_type": "markdown",
      "metadata": {},
      "source": [
        "### 6. CNAE e Item da Lista de Serviços : 5_frame_cnae_itens.jpg"
      ]
    },
    {
      "cell_type": "code",
      "execution_count": 230,
      "metadata": {},
      "outputs": [],
      "source": [
        "for roots, directories, images in os.walk(root_dir_section_images):\n",
        "                for image in images:\n",
        "                    #print(f'\\n{roots}, {directories}, {images}')\n",
        "                    image_path = os.path.join(roots, image)\n",
        "                    #print(image_path, image)\n",
        "                    frame = image\n",
        "                    \n",
        "                    if frame == \"5_frame_cnae_itens.jpg\": \n",
        "                        image_to_ocr = Image.open(image_path).convert('RGB')\n",
        "                        text = pytesseract.image_to_string(image_to_ocr, lang='por', config=tessdata_dir_config)\n",
        "                        #nf_data_prestador = extract_fields_prestador(text)   "
      ]
    },
    {
      "cell_type": "code",
      "execution_count": 232,
      "metadata": {},
      "outputs": [
        {
          "data": {
            "text/plain": [
              "'CNAE - 4313400 - OBRAS DE TERRAPLENAGEM . . º\\nItem da Lista de Serviços - 7.02 - EXECUÇÃO, POR ADMINISTRAÇÃO, EMPREITADA OU SUBEMPREITADA, DE OBRAS DE CONSTRUÇÃO CIVIL, HIDRÁULICA\\nOU ELETRICA E DE OUTRAS OBRAS SEMELHANTES, INCLUSIVE SONDAGEM, PERFURAÇÃO DE POÇOS, ESCAVAÇÃO, DRENAG\\n'"
            ]
          },
          "execution_count": 232,
          "metadata": {},
          "output_type": "execute_result"
        }
      ],
      "source": [
        "text"
      ]
    },
    {
      "cell_type": "code",
      "execution_count": 263,
      "metadata": {},
      "outputs": [],
      "source": [
        "# Extrair CNAE\n",
        "nf_data_CNAE = {}\n",
        "nf_data_CNAE['Secao'] = \"6. CNAE e Item da Lista de Serviços\"\n",
        "\n",
        "linhas = text.split('º\\n')\n",
        "\n",
        "texto_cnae = linhas[0].replace(' . .', '')\n",
        "cnae = re.sub(r'^CNAE - ', '', texto_cnae, count=1)\n",
        "\n",
        "\n",
        "# Item da Lista de Serviços \n",
        "texto_novo = linhas[1]\n",
        "texto_novo = texto_novo.replace('\\n', '')\n",
        "\n",
        "item_lista_servico = re.sub(r'^Item da Lista de Serviços - ', '', texto_novo, count=1)\n",
        "\n",
        "\n",
        "nf_data_CNAE['cnae'] = cnae\n",
        "nf_data_CNAE['item_lista_servicos'] = item_lista_servico"
      ]
    },
    {
      "cell_type": "code",
      "execution_count": 264,
      "metadata": {},
      "outputs": [
        {
          "data": {
            "text/plain": [
              "{'Secao': '6. CNAE e Item da Lista de Serviços',\n",
              " 'cnae': '4313400 - OBRAS DE TERRAPLENAGEM ',\n",
              " 'item_lista_servicos': '7.02 - EXECUÇÃO, POR ADMINISTRAÇÃO, EMPREITADA OU SUBEMPREITADA, DE OBRAS DE CONSTRUÇÃO CIVIL, HIDRÁULICAOU ELETRICA E DE OUTRAS OBRAS SEMELHANTES, INCLUSIVE SONDAGEM, PERFURAÇÃO DE POÇOS, ESCAVAÇÃO, DRENAG'}"
            ]
          },
          "execution_count": 264,
          "metadata": {},
          "output_type": "execute_result"
        }
      ],
      "source": [
        "nf_data_CNAE"
      ]
    },
    {
      "cell_type": "markdown",
      "metadata": {},
      "source": [
        "### 7. VALORES E IMPOSTOS - 6_frame_valores_impostos.jpg"
      ]
    },
    {
      "cell_type": "code",
      "execution_count": 269,
      "metadata": {},
      "outputs": [],
      "source": [
        "for roots, directories, images in os.walk(root_dir_section_images):\n",
        "                for image in images:\n",
        "                    #print(f'\\n{roots}, {directories}, {images}')\n",
        "                    #image_path = os.path.join(roots, image)\n",
        "                    #print(image_path, image)\n",
        "                    frame = image\n",
        "                    \n",
        "                    if frame == \"6_frame_valores_impostos.jpg\": \n",
        "                        image_path = os.path.join(roots, image)\n",
        "                        image_to_ocr = Image.open(image_path).convert('RGB')\n",
        "                        text = pytesseract.image_to_string(image_to_ocr, lang='por', config=tessdata_dir_config)\n",
        "                           "
      ]
    },
    {
      "cell_type": "code",
      "execution_count": 270,
      "metadata": {},
      "outputs": [
        {
          "data": {
            "text/plain": [
              "'.\\\\novo_modelo\\\\images\\\\processadas\\\\sections\\\\6_frame_valores_impostos.jpg'"
            ]
          },
          "execution_count": 270,
          "metadata": {},
          "output_type": "execute_result"
        }
      ],
      "source": [
        "image_path"
      ]
    },
    {
      "cell_type": "code",
      "execution_count": 271,
      "metadata": {},
      "outputs": [],
      "source": [
        "# 6. Processa analise de tabela\n",
        "results = processaTabela(image_path)"
      ]
    },
    {
      "cell_type": "code",
      "execution_count": 272,
      "metadata": {},
      "outputs": [
        {
          "data": {
            "text/plain": [
              "{'scores': tensor([0.9138, 0.9995, 0.9484, 0.9999, 0.9999, 0.9647, 0.9464, 0.9966, 0.9997,\n",
              "         0.9945, 1.0000, 0.9976, 0.9845, 0.6899, 0.9999, 1.0000]),\n",
              " 'labels': tensor([1, 1, 1, 1, 1, 1, 1, 2, 1, 1, 1, 2, 3, 5, 1, 0]),\n",
              " 'boxes': tensor([[ 957.2414,   32.0407, 1146.0557,  260.8776],\n",
              "         [1362.9058,   32.3093, 1543.9325,  260.6931],\n",
              "         [1057.7537,   31.7929, 1202.4001,  261.4547],\n",
              "         [1179.8302,   32.0705, 1345.9640,  260.8954],\n",
              "         [ 107.6143,   33.3832,  327.2024,  260.5362],\n",
              "         [ 856.6532,   32.1895,  988.6521,  261.0222],\n",
              "         [ 734.9709,   32.0658,  860.7309,  261.4148],\n",
              "         [ 107.5947,   34.0973, 1965.7593,  178.1298],\n",
              "         [1547.2361,   32.4755, 1720.6796,  260.0695],\n",
              "         [ 568.7286,   32.2826,  748.6390,  260.9297],\n",
              "         [1726.9221,   31.8129, 1970.1469,  260.8107],\n",
              "         [ 106.9005,  180.7886, 1968.2188,  259.9179],\n",
              "         [ 107.2357,   34.8329, 1964.8085,  181.5514],\n",
              "         [1296.5416,  196.6721, 1681.4750,  263.2401],\n",
              "         [ 329.8370,   32.7598,  576.5060,  260.4867],\n",
              "         [ 106.3363,   32.0933, 1968.6509,  260.8310]])}"
            ]
          },
          "execution_count": 272,
          "metadata": {},
          "output_type": "execute_result"
        }
      ],
      "source": [
        "results"
      ]
    },
    {
      "cell_type": "code",
      "execution_count": null,
      "metadata": {},
      "outputs": [],
      "source": [
        "processaTabela"
      ]
    },
    {
      "cell_type": "markdown",
      "metadata": {},
      "source": [
        "tessdata_dir_config_novo = '--tessdata-dir \"C:\\\\Program Files\\\\Tesseract-OCR\\\\tessdata\" --dpi 300 --oem 1 --psm 4'"
      ]
    },
    {
      "cell_type": "code",
      "execution_count": 366,
      "metadata": {},
      "outputs": [],
      "source": [
        "# If you don't have tesseract executable in your PATH, include the following:\n",
        "tessdata_dir_config_novo = '--tessdata-dir \"C:\\\\Program Files\\\\Tesseract-OCR\\\\tessdata\" --dpi 600 --oem 1 --psm 6'"
      ]
    },
    {
      "cell_type": "code",
      "execution_count": 367,
      "metadata": {},
      "outputs": [],
      "source": [
        "def processaOcrTable2(file_path, results):\n",
        "    dados_da_tabela = {}\n",
        "    # Carregue a imagem do PDF (ou outra fonte)\n",
        "    img_pdf = cv2.imread(file_path, cv2.IMREAD_COLOR) \n",
        "    \n",
        "    # Processo de OCR para cada célula e preenchimento do dicionário\n",
        "    for i in range(results['boxes'].shape[0]):\n",
        "        retangulo = results['boxes'][i].tolist()\n",
        "        img_celula = recortar_imagem(img_pdf, retangulo)\n",
        "        texto_celula = pytesseract.image_to_string(img_celula, config=tessdata_dir_config_novo, lang='por')\n",
        "        \n",
        "        # Mapear o ID numérico do rótulo para o rótulo descritivo usando model.config.id2label\n",
        "        label_id = results['labels'][i].item() if isinstance(results['labels'][i], torch.Tensor) else results['labels'][i]\n",
        "        label_descritivo = model.config.id2label[label_id]\n",
        "        \n",
        "        # Adicionar as informações ao dicionário\n",
        "        chave_celula = f'celula_{i}'\n",
        "        \n",
        "        dados_da_tabela[chave_celula] = {\n",
        "            'coordenadas': retangulo,\n",
        "            'label': label_descritivo,\n",
        "            'texto': texto_celula\n",
        "        }\n",
        "    return dados_da_tabela "
      ]
    },
    {
      "cell_type": "code",
      "execution_count": 368,
      "metadata": {},
      "outputs": [],
      "source": [
        "# 7. Processa OCR\n",
        "dados_da_tabela = processaOcrTable2(image_path, results)"
      ]
    },
    {
      "cell_type": "code",
      "execution_count": 369,
      "metadata": {},
      "outputs": [
        {
          "name": "stdout",
          "output_type": "stream",
          "text": [
            "\n",
            "celula_0: \n",
            "ID: BASE DE\n",
            "CALCULO:\n",
            "R$ 1.044.684,5\n",
            "VALOR INSS:\n",
            "R$ 11.491,53\n",
            "\n",
            "\n",
            "celula_1: \n",
            "VALOR ISS:\n",
            "\n",
            "R$ 0,00\n",
            "OUTRAS RETEN\n",
            "R$ 0,00\n",
            "\n",
            "\n",
            "celula_2: \n",
            "DE Al\n",
            "JLO: 2\n",
            "44.684,55\n",
            "\n",
            "? INSS: V\n",
            "491,53 R\n",
            "\n",
            "\n",
            "celula_3: \n",
            "ALÍQUOTA:\n",
            "2%\n",
            "\n",
            "VALOR CSLL:\n",
            "R$ 0,00\n",
            "\n",
            "\n",
            "celula_4: \n",
            "a\n",
            "njsiais\n",
            "\n",
            "\n",
            "celula_5: \n",
            "C. INCOND:\n",
            "+00\n",
            "\n",
            "RIR:\n",
            "\n",
            "00\n",
            "\n",
            "\n",
            "celula_6: \n",
            "DES:\n",
            "R$0\n",
            "FINS: VALC\n",
            "R$0.\n",
            "\n",
            "\n",
            "celula_8: \n",
            "VALOR ISS\n",
            "RETIDO:\n",
            "\n",
            "R$ 20.893,69\n",
            "ÇÕES:\n",
            "\n",
            "\n",
            "celula_9: \n",
            "= VALOR\n",
            "DEDUÇÃO:\n",
            "R$ 0,00\n",
            "VALOR COF\n",
            "R$ 0.00\n",
            "\n",
            "\n",
            "celula_10: \n",
            "DESC. COND:\n",
            "R$ 0,00\n",
            "\n",
            "VALOR LÍQUIDO:\n",
            "R$ 1.012.299,33\n",
            "\n",
            "\n",
            "celula_14: \n",
            "VALOR SERVIÇOS:\n",
            "| R$ 1.044.684,55\n",
            "]\n",
            "J\n",
            "«VALOR PIS:\n",
            "\" R$000\n",
            "\n"
          ]
        }
      ],
      "source": [
        "# 8. Captura dados (Regex)\n",
        "textos = []\n",
        "for i in dados_da_tabela:\n",
        "   if dados_da_tabela[i]['label'] == \"table column\":\n",
        "      texto = dados_da_tabela[i]['texto']\n",
        "      \n",
        "      print(f\"\\n{i}: \\n{dados_da_tabela[i]['texto']}\")"
      ]
    },
    {
      "cell_type": "code",
      "execution_count": null,
      "metadata": {},
      "outputs": [],
      "source": []
    },
    {
      "cell_type": "code",
      "execution_count": null,
      "metadata": {},
      "outputs": [],
      "source": []
    },
    {
      "cell_type": "code",
      "execution_count": 343,
      "metadata": {},
      "outputs": [
        {
          "name": "stderr",
          "output_type": "stream",
          "text": [
            "'tesseract' is not recognized as an internal or external command,\n",
            "operable program or batch file.\n"
          ]
        }
      ],
      "source": [
        "!tesseract -h"
      ]
    },
    {
      "cell_type": "code",
      "execution_count": null,
      "metadata": {},
      "outputs": [],
      "source": []
    },
    {
      "cell_type": "code",
      "execution_count": null,
      "metadata": {},
      "outputs": [],
      "source": []
    },
    {
      "cell_type": "code",
      "execution_count": null,
      "metadata": {},
      "outputs": [],
      "source": [
        "dados_da_tabela"
      ]
    },
    {
      "cell_type": "code",
      "execution_count": 280,
      "metadata": {},
      "outputs": [],
      "source": [
        "textos = []"
      ]
    },
    {
      "cell_type": "code",
      "execution_count": 281,
      "metadata": {},
      "outputs": [
        {
          "data": {
            "text/plain": [
              "list"
            ]
          },
          "execution_count": 281,
          "metadata": {},
          "output_type": "execute_result"
        }
      ],
      "source": [
        "textos.append(texto)"
      ]
    },
    {
      "cell_type": "code",
      "execution_count": 282,
      "metadata": {},
      "outputs": [],
      "source": [
        "# 8. Captura dados (Regex)\n",
        "textos = []\n",
        "for i in dados_da_tabela:\n",
        "   if dados_da_tabela[i]['label'] == \"table column\":\n",
        "      texto = dados_da_tabela[i]['texto']\n",
        "      textos.append(texto)\n",
        "      #print(f\"\\n{i}: \\n{dados_da_tabela[i]['texto']}\")"
      ]
    },
    {
      "cell_type": "code",
      "execution_count": 300,
      "metadata": {},
      "outputs": [
        {
          "data": {
            "text/plain": [
              "11"
            ]
          },
          "execution_count": 300,
          "metadata": {},
          "output_type": "execute_result"
        }
      ],
      "source": [
        "len(textos)"
      ]
    },
    {
      "cell_type": "code",
      "execution_count": 301,
      "metadata": {},
      "outputs": [
        {
          "data": {
            "text/plain": [
              "['ID: BASE DE\\nCALCULO:\\nR$ 1.044.684,5\\nVALOR INSS:\\nR$ 11.491,53\\n',\n",
              " 'VALOR ISS:\\n\\nR$ 0,00\\nOUTRAS RETEN\\nR$ 0,00\\n',\n",
              " 'DE Al\\nJLO: 2\\n44.684,55\\n\\n? INSS: V\\n491,53 R\\n',\n",
              " 'ALÍQUOTA:\\n2%\\n\\nVALOR CSLL:\\nR$ 0,00\\n',\n",
              " 'a\\nnjsiais\\n',\n",
              " 'C. INCOND:\\n+00\\n\\nRIR:\\n\\n00\\n',\n",
              " 'DES:\\nR$0\\nFINS: VALC\\nR$0.\\n',\n",
              " 'VALOR ISS\\nRETIDO:\\n\\nR$ 20.893,69\\nÇÕES:\\n',\n",
              " '= VALOR\\nDEDUÇÃO:\\nR$ 0,00\\nVALOR COF\\nR$ 0.00\\n',\n",
              " 'DESC. COND:\\nR$ 0,00\\n\\nVALOR LÍQUIDO:\\nR$ 1.012.299,33\\n',\n",
              " 'VALOR SERVIÇOS:\\n| R$ 1.044.684,55\\n]\\nJ\\n«VALOR PIS:\\n\" R$000\\n']"
            ]
          },
          "execution_count": 301,
          "metadata": {},
          "output_type": "execute_result"
        }
      ],
      "source": [
        "textos"
      ]
    },
    {
      "cell_type": "code",
      "execution_count": 302,
      "metadata": {},
      "outputs": [
        {
          "name": "stdout",
          "output_type": "stream",
          "text": [
            "VALOR SERVIÇOS: 1044684.55\n"
          ]
        }
      ],
      "source": [
        "import re\n",
        "\n",
        "# Lista com os valores extraídos\n",
        "valores_extraidos = [\n",
        "    'ID: BASE DE\\nCALCULO:\\nR$ 1.044.684,5\\nVALOR INSS:\\nR$ 11.491,53\\n',\n",
        "    'VALOR ISS:\\n\\nR$ 0,00\\nOUTRAS RETEN\\nR$ 0,00\\n',\n",
        "    'DE Al\\nJLO: 2\\n44.684,55\\n\\n? INSS: V\\n491,53 R\\n',\n",
        "    'ALÍQUOTA:\\n2%\\n\\nVALOR CSLL:\\nR$ 0,00\\n',\n",
        "    'a\\nnjsiais\\n',\n",
        "    'C. INCOND:\\n+00\\n\\nRIR:\\n\\n00\\n',\n",
        "    'DES:\\nR$0\\nFINS: VALC\\nR$0.\\n',\n",
        "    'VALOR ISS\\nRETIDO:\\n\\nR$ 20.893,69\\nÇÕES:\\n',\n",
        "    '= VALOR\\nDEDUÇÃO:\\nR$ 0,00\\nVALOR COF\\nR$ 0.00\\n',\n",
        "    'DESC. COND:\\nR$ 0,00\\n\\nVALOR LÍQUIDO:\\nR$ 1.012.299,33\\n',\n",
        "    'VALOR SERVIÇOS:\\n| R$ 1.044.684,55\\n]\\nJ\\n«VALOR PIS:\\n\" R$000\\n'\n",
        "]\n",
        "\n",
        "# Dicionário para associar chaves aos valores\n",
        "valores_associados = {}\n",
        "\n",
        "# Padrão de regex para valores monetários\n",
        "padrao_monetario = r'R\\$ ([\\d,.]+)'\n",
        "\n",
        "# Associar os valores extraídos às chaves\n",
        "chave_atual = None\n",
        "for texto in valores_extraidos:\n",
        "    valores_encontrados = re.findall(padrao_monetario, texto)\n",
        "    \n",
        "    # Associar valores à chave atual\n",
        "    for valor in valores_encontrados:\n",
        "        if \"VALOR SERVIÇOS\":\n",
        "            valor_formatado = valor.replace('.', '').replace(',', '.')\n",
        "            valores_associados[\"VALOR SERVIÇOS\"] = valor_formatado\n",
        "            chave_atual = None\n",
        "        else:\n",
        "            chave_atual = valor\n",
        "\n",
        "# Imprimir os valores associados\n",
        "for chave, valor in valores_associados.items():\n",
        "    print(f\"{chave}: {valor}\")\n",
        "\n"
      ]
    },
    {
      "cell_type": "code",
      "execution_count": 304,
      "metadata": {},
      "outputs": [],
      "source": [
        "import re\n",
        "\n",
        "# Lista com os valores extraídos\n",
        "valores_extraidos = [\n",
        "    'ID: BASE DE\\nCALCULO:\\nR$ 1.044.684,5\\nVALOR INSS:\\nR$ 11.491,53\\n',\n",
        "    'VALOR ISS:\\n\\nR$ 0,00\\nOUTRAS RETEN\\nR$ 0,00\\n',\n",
        "    'DE Al\\nJLO: 2\\n44.684,55\\n\\n? INSS: V\\n491,53 R\\n',\n",
        "    'ALÍQUOTA:\\n2%\\n\\nVALOR CSLL:\\nR$ 0,00\\n',\n",
        "    'a\\nnjsiais\\n',\n",
        "    'C. INCOND:\\n+00\\n\\nRIR:\\n\\n00\\n',\n",
        "    'DES:\\nR$0\\nFINS: VALC\\nR$0.\\n',\n",
        "    'VALOR ISS\\nRETIDO:\\n\\nR$ 20.893,69\\nÇÕES:\\n',\n",
        "    '= VALOR\\nDEDUÇÃO:\\nR$ 0,00\\nVALOR COF\\nR$ 0.00\\n',\n",
        "    'DESC. COND:\\nR$ 0,00\\n\\nVALOR LÍQUIDO:\\nR$ 1.012.299,33\\n',\n",
        "    'VALOR SERVIÇOS:\\n| R$ 1.044.684,55\\n]\\nJ\\n«VALOR PIS:\\n\" R$000\\n'\n",
        "]\n",
        "\n",
        "# Lista de chaves esperadas\n",
        "chaves_esperadas = [\n",
        "    'VALOR SERVIÇOS', 'VALOR DEDUÇÃO', 'DESC. INCOND', 'BASE DE CÁLCULO',\n",
        "    'ALÍQUOTA', 'VALOR ISS', 'VALOR ISS RETIDO', 'VALOR CSLL', 'VALOR PIS',\n",
        "    'VALOR COFINS', 'DESC. COND', 'VALOR LÍQUIDO'\n",
        "]\n",
        "\n",
        "# Dicionário para associar chaves aos valores\n",
        "valores_associados = {}\n",
        "\n",
        "# Padrão de regex para valores monetários\n",
        "padrao_monetario = r'R\\$ ([\\d,.]+)'\n",
        "\n",
        "# Associar os valores extraídos às chaves\n",
        "chave_atual = None\n",
        "for texto in valores_extraidos:\n",
        "    valores_encontrados = re.findall(padrao_monetario, texto)\n",
        "    \n",
        "    # Associar valores à chave atual\n",
        "    for valor in valores_encontrados:\n",
        "        if chave_atual:\n",
        "            valor_formatado = valor.replace('.', '').replace(',', '.')\n",
        "            # Procurar por substrings nas chaves esperadas\n",
        "            chave_encontrada = next((chave for chave in chaves_esperadas if chave in chave_atual), None)\n",
        "            if chave_encontrada:\n",
        "                valores_associados[chave_encontrada] = valor_formatado\n",
        "            chave_atual = None\n",
        "        else:\n",
        "            chave_atual = valor\n",
        "\n",
        "# Imprimir os valores associados\n",
        "for chave, valor in valores_associados.items():\n",
        "    print(f\"{chave}: {valor}\")\n"
      ]
    },
    {
      "cell_type": "code",
      "execution_count": 321,
      "metadata": {},
      "outputs": [],
      "source": [
        "import re\n",
        "\n",
        "# Lista com os valores extraídos\n",
        "valores_extraidos = [\n",
        "    'ID: BASE DE\\nCALCULO:\\nR$ 1.044.684,5\\nVALOR INSS:\\nR$ 11.491,53\\n',\n",
        "    'VALOR ISS:\\n\\nR$ 0,00\\nOUTRAS RETEN\\nR$ 0,00\\n',\n",
        "    'DE Al\\nJLO: 2\\n44.684,55\\n\\n? INSS: V\\n491,53 R\\n',\n",
        "    'ALÍQUOTA:\\n2%\\n\\nVALOR CSLL:\\nR$ 0,00\\n',\n",
        "    'a\\nnjsiais\\n',\n",
        "    'C. INCOND:\\n+00\\n\\nRIR:\\n\\n00\\n',\n",
        "    'DES:\\nR$0\\nFINS: VALC\\nR$0.\\n',\n",
        "    'VALOR ISS\\nRETIDO:\\n\\nR$ 20.893,69\\nÇÕES:\\n',\n",
        "    '= VALOR\\nDEDUÇÃO:\\nR$ 0,00\\nVALOR COF\\nR$ 0.00\\n',\n",
        "    'DESC. COND:\\nR$ 0,00\\n\\nVALOR LÍQUIDO:\\nR$ 1.012.299,33\\n',\n",
        "    'VALOR SERVIÇOS:\\n| R$ 1.044.684,55\\n]\\nJ\\n«VALOR PIS:\\n\" R$000\\n'\n",
        "]\n",
        "\n",
        "# Lista de chaves esperadas\n",
        "chaves_esperadas = [\n",
        "    'VALOR SERVIÇOS', 'VALOR DEDUÇÃO', 'DESC. INCOND', 'BASE DE CÁLCULO',\n",
        "    'ALÍQUOTA', 'VALOR ISS', 'VALOR ISS RETIDO', 'VALOR CSLL', 'VALOR PIS',\n",
        "    'VALOR COFINS', 'DESC. COND', 'VALOR LÍQUIDO'\n",
        "]\n",
        "\n",
        "# Dicionário para associar chaves aos valores\n",
        "valores_associados = {}\n",
        "\n",
        "# Padrão de regex para valores monetários\n",
        "padrao_monetario = r'R\\$ ([\\d,.]+)'\n",
        "\n",
        "# Associar os valores extraídos às chaves\n",
        "chave_atual = None\n",
        "for texto in valores_extraidos:\n",
        "    valores_encontrados = re.findall(padrao_monetario, texto)\n",
        "    \n",
        "    # Associar valores à chave atual\n",
        "    for valor in valores_encontrados:\n",
        "        if chave_atual:\n",
        "            valor_formatado = valor.replace('.', '').replace(',', '.')\n",
        "            # Procurar por substrings nas chaves esperadas\n",
        "            chave_encontrada = next((chave for chave in chaves_esperadas if chave in chave_atual), None)\n",
        "            if chave_encontrada:\n",
        "                valores_associados[chave_encontrada] = valor_formatado\n",
        "            chave_atual = None\n",
        "        else:\n",
        "            chave_atual = valor\n",
        "\n",
        "# Imprimir os valores associados\n",
        "for chave, valor in valores_associados.items():\n",
        "    print(f\"{chave}: {valor}\")\n"
      ]
    },
    {
      "cell_type": "code",
      "execution_count": null,
      "metadata": {},
      "outputs": [],
      "source": [
        "VALOR SERVIÇOS: \n",
        "\n",
        "\n",
        "VALOR\n",
        "DEDUÇÃO:\n",
        "\n",
        "\n",
        "DESC. INCOND:\n",
        "\n",
        "BASE DE\n",
        "CÁLCULO:\n",
        "\n",
        "\n",
        "ALÍQUOTA:\n",
        "\n",
        "\n",
        "VALOR ISS:\n",
        "\n",
        "\n",
        "VALOR ISS\n",
        "RETIDO:\n",
        "\n",
        "\n",
        "DESC. COND:\n",
        "\n",
        "\n",
        "VALOR PIS:\n",
        "\n",
        "\n",
        "VALOR COFINS:\n",
        "\n",
        "\n",
        "VALOR INSS:\n",
        "\n",
        "\n",
        "VALOR CSLL:\n",
        "\n",
        "\n",
        "OUTRAS RETENÇÕES:\n",
        "\n",
        "\n",
        "VALOR LÍQUIDO:\n"
      ]
    },
    {
      "cell_type": "code",
      "execution_count": 320,
      "metadata": {},
      "outputs": [],
      "source": [
        "import re\n",
        "\n",
        "\n",
        "valores_extraidos = [\n",
        "    'ID: BASE DE\\nCALCULO:\\nR$ 1.044.684,5\\nVALOR INSS:\\nR$ 11.491,53\\n',\n",
        "    'VALOR ISS:\\n\\nR$ 0,00\\nOUTRAS RETEN\\nR$ 0,00\\n',\n",
        "    'DE Al\\nJLO: 2\\n44.684,55\\n\\n? INSS: V\\n491,53 R\\n',\n",
        "    'ALÍQUOTA:\\n2%\\n\\nVALOR CSLL:\\nR$ 0,00\\n',\n",
        "    'a\\nnjsiais\\n',\n",
        "    'C. INCOND:\\n+00\\n\\nRIR:\\n\\n00\\n',\n",
        "    'DES:\\nR$0\\nFINS: VALC\\nR$0.\\n',\n",
        "    'VALOR ISS\\nRETIDO:\\n\\nR$ 20.893,69\\nÇÕES:\\n',\n",
        "    '= VALOR\\nDEDUÇÃO:\\nR$ 0,00\\nVALOR COF\\nR$ 0.00\\n',\n",
        "    'DESC. COND:\\nR$ 0,00\\n\\nVALOR LÍQUIDO:\\nR$ 1.012.299,33\\n',\n",
        "    'VALOR SERVIÇOS:\\n| R$ 1.044.684,55\\n]\\nJ\\n«VALOR PIS:\\n\" R$000\\n'\n",
        "]\n",
        "\n",
        "\n",
        "\n",
        "# Texto completo com os valores extraídos\n",
        "texto_completo = '\\n'.join(valores_extraidos)\n",
        "\n",
        "# Lista de chaves esperadas\n",
        "chaves_esperadas = [\n",
        "    'BASE DE\\nCALCULO:',  #BASE DE CÁLCULO:R$ 1.044.684,55\n",
        "    'VALOR INSS:', \n",
        "    'VALOR ISS:',\n",
        "    'OUTRAS RETEN',\n",
        "    'ALÍQUOTA:',\n",
        "    'VALOR CSLL:'\n",
        "]\n",
        "\n",
        "# Dicionário para associar chaves aos valores\n",
        "valores_associados = {}\n",
        "\n",
        "# Padrão de regex para valores monetários e percentuais\n",
        "padrao_monetario_percentual = r'([\\d.,]+)(%|\\s?R\\$)'\n",
        "\n",
        "# Encontrar e associar os valores\n",
        "chave_atual = None\n",
        "for linha in valores_extraidos:\n",
        "    linha = linha.replace('\\n', ' ')  # Remover quebras de linha\n",
        "    valores_encontrados = re.findall(padrao_monetario_percentual, linha)\n",
        "    \n",
        "    for valor, unidade in valores_encontrados:\n",
        "        if chave_atual:\n",
        "            chave_encontrada = next((chave for chave in chaves_esperadas if chave.lower() in chave_atual.lower()), None)\n",
        "            if chave_encontrada:\n",
        "                if unidade == '%':\n",
        "                    valor_formatado = f\"{valor}%\"\n",
        "                else:\n",
        "                    valor_formatado = valor.replace('.', '').replace(',', '.')\n",
        "                    valor_formatado = f\"R$ {valor_formatado}\"\n",
        "                valores_associados[chave_encontrada] = valor_formatado\n",
        "            chave_atual = None\n",
        "        else:\n",
        "            chave_atual = valor\n",
        "\n",
        "# Imprimir os valores associados\n",
        "for chave, valor in valores_associados.items():\n",
        "    print(f\"{chave}: {valor}\")"
      ]
    },
    {
      "cell_type": "code",
      "execution_count": 342,
      "metadata": {},
      "outputs": [
        {
          "name": "stdout",
          "output_type": "stream",
          "text": [
            "BASE DE\n",
            "CALCULO: 1044684.5\n",
            "VALOR INSS: 11491.53\n",
            "VALOR ISS: 0.00\n",
            "OUTRAS RETEN: 0.00\n",
            "ALÍQUOTA: 2.00\n",
            "VALOR CSLL: 0.00\n",
            "VALOR\n",
            "DEDUÇÃO: 0.00\n",
            "VALOR ISS\n",
            "RETIDO: 20893.69\n",
            "VALOR SERVIÇOS: 1044684.55\n"
          ]
        }
      ],
      "source": [
        "import re\n",
        "\n",
        "\n",
        "valores_extraidos = [\n",
        "    'ID: BASE DE\\nCALCULO:\\nR$ 1.044.684,5\\nVALOR INSS:\\nR$ 11.491,53\\n',\n",
        "    'VALOR ISS:\\n\\nR$ 0,00\\nOUTRAS RETEN\\nR$ 0,00\\n',\n",
        "    'DE Al\\nJLO: 2\\n44.684,55\\n\\n? INSS: V\\n491,53 R\\n',\n",
        "    'ALÍQUOTA:\\nR$ 2,00\\n\\nVALOR CSLL:\\nR$ 0,00\\n',\n",
        "    'a\\nnjsiais\\n',\n",
        "    'C. INCOND:\\n+00\\n\\nRIR:\\n\\n00\\n',\n",
        "    'DES:\\nR$0\\nFINS: VALC\\nR$0.\\n',\n",
        "    'VALOR ISS\\nRETIDO:\\n\\nR$ 20.893,69\\nÇÕES:\\n',\n",
        "    '= VALOR\\nDEDUÇÃO:\\nR$ 0,00\\nVALOR COF\\nR$ 0.00\\n',\n",
        "    'DESC. COND:\\nR$ 0,00\\n\\nVALOR LÍQUIDO:\\nR$ 1.012.299,33\\n',\n",
        "    'VALOR SERVIÇOS:\\n| R$ 1.044.684,55\\n]\\nJ\\n«VALOR PIS:\\n\" R$000\\n'\n",
        "]\n",
        "\n",
        "\n",
        "\n",
        "# Texto completo com os valores extraídos\n",
        "texto_completo = '\\n'.join(valores_extraidos)\n",
        "\n",
        "# Lista de chaves esperadas\n",
        "chaves_esperadas = [\n",
        "    'BASE DE\\nCALCULO',  #BASE DE CÁLCULO:R$ 1.044.684,55\n",
        "    'VALOR INSS', \n",
        "    'VALOR ISS',\n",
        "    'OUTRAS RETEN',\n",
        "    'ALÍQUOTA',\n",
        "    'VALOR CSLL',\n",
        "    'VALOR\\nDEDUÇÃO',\n",
        "    'VALOR ISS\\nRETIDO',\n",
        "    'VALOR SERVIÇOS',\n",
        "    'VALOR PIS'\n",
        "]\n",
        "\n",
        "# Dicionário para associar chaves aos valores\n",
        "valores_associados = {}\n",
        "\n",
        "# Padrão de regex para valores monetários\n",
        "padrao_monetario = r'R\\$ ([\\d,.]+)'\n",
        "\n",
        "padrao = r'([\\d.,]+)(%|\\s?R\\$)'\n",
        "\n",
        "# Encontrar e associar os valores\n",
        "for chave in chaves_esperadas:\n",
        "    valor_encontrado = re.search(f'{chave}.*?{padrao_monetario}', texto_completo, re.DOTALL)\n",
        "    if valor_encontrado:\n",
        "        valor_formatado = valor_encontrado.group(1).replace('.', '').replace(',', '.')\n",
        "        valores_associados[chave] = valor_formatado\n",
        "\n",
        "# Imprimir os valores associados\n",
        "for chave, valor in valores_associados.items():\n",
        "    print(f\"{chave}: {valor}\")\n"
      ]
    },
    {
      "cell_type": "code",
      "execution_count": null,
      "metadata": {},
      "outputs": [],
      "source": [
        "BASE DE\n",
        "CÁLCULO:\n",
        "R$ 1.044.684,55\n",
        "\n",
        "VALOR SERVIÇOS: \n",
        "R$ 1.044.684,55\n",
        "\n",
        "VALOR INSS:\n",
        "R$ 11.491,53\n",
        "\n",
        "VALOR ISS:\n",
        "R$ 0,00\n",
        "\n",
        "OUTRAS RETENÇÕES:\n",
        "R$ 0,00\n",
        "\n",
        "ALÍQUOTA:\n",
        "2%\n",
        "\n",
        "VALOR CSLL:\n",
        "R$ 0,00\n",
        "\n",
        "VALOR\n",
        "DEDUÇÃO:\n",
        "R$ 0,00\n",
        "\n",
        "\n",
        "VALOR ISS\n",
        "RETIDO:\n",
        "R$ 20.893,69"
      ]
    },
    {
      "cell_type": "code",
      "execution_count": null,
      "metadata": {},
      "outputs": [],
      "source": [
        "    'VALOR DEDUÇÃO', 'DESC. INCOND', 'BASE DE CÁLCULO',\n",
        "    'ALÍQUOTA', 'VALOR ISS', 'VALOR ISS RETIDO', 'VALOR CSLL', 'VALOR PIS',\n",
        "    'VALOR COFINS', 'DESC. COND', 'VALOR LÍQUIDO', 'DEDUÇÃO:"
      ]
    },
    {
      "cell_type": "code",
      "execution_count": null,
      "metadata": {},
      "outputs": [],
      "source": [
        "\n",
        "\n",
        "\n",
        "\n",
        "DESC. INCOND:\n",
        "R$ 0,00\n",
        "\n",
        "\n",
        "\n",
        "\n",
        "\n",
        "\n",
        "\n",
        "\n",
        "DESC. COND:\n",
        "R$ 0,00\n",
        "\n",
        "VALOR PIS:\n",
        "R$ 0,00\n",
        "\n",
        "VALOR COFINS:\n",
        "R$ 0,00\n",
        "\n",
        "\n",
        "\n",
        "\n",
        "\n",
        "\n",
        "\n",
        "VALOR LÍQUIDO:\n",
        "R$ 1.012.299,33"
      ]
    },
    {
      "cell_type": "code",
      "execution_count": null,
      "metadata": {},
      "outputs": [],
      "source": []
    },
    {
      "cell_type": "code",
      "execution_count": null,
      "metadata": {},
      "outputs": [],
      "source": []
    },
    {
      "cell_type": "code",
      "execution_count": null,
      "metadata": {},
      "outputs": [],
      "source": []
    },
    {
      "cell_type": "code",
      "execution_count": 310,
      "metadata": {},
      "outputs": [],
      "source": [
        "import re\n",
        "\n",
        "# Lista com os valores extraídos\n",
        "valores_extraidos = [\n",
        "    'ID: BASE DE\\nCALCULO:\\nR$ 1.044.684,5\\nVALOR INSS:\\nR$ 11.491,53\\n',\n",
        "    'VALOR ISS:\\n\\nR$ 0,00\\nOUTRAS RETEN\\nR$ 0,00\\n',\n",
        "    'DE Al\\nJLO: 2\\n44.684,55\\n\\n? INSS: V\\n491,53 R\\n',\n",
        "    'ALÍQUOTA:\\n2%\\n\\nVALOR CSLL:\\nR$ 0,00\\n',\n",
        "    'a\\nnjsiais\\n',\n",
        "    'C. INCOND:\\n+00\\n\\nRIR:\\n\\n00\\n',\n",
        "    'DES:\\nR$0\\nFINS: VALC\\nR$0.\\n',\n",
        "    'VALOR ISS\\nRETIDO:\\n\\nR$ 20.893,69\\nÇÕES:\\n',\n",
        "    '= VALOR\\nDEDUÇÃO:\\nR$ 0,00\\nVALOR COF\\nR$ 0.00\\n',\n",
        "    'DESC. COND:\\nR$ 0,00\\n\\nVALOR LÍQUIDO:\\nR$ 1.012.299,33\\n',\n",
        "    'VALOR SERVIÇOS:\\n| R$ 1.044.684,55\\n]\\nJ\\n«VALOR PIS:\\n\" R$000\\n'\n",
        "]\n",
        "\n",
        "# Lista de chaves esperadas\n",
        "chaves_esperadas = [\n",
        "    'VALOR SERVIÇOS:', 'VALOR DEDUÇÃO', 'DESC. INCOND', 'ID: BASE DE\\nCALCULO:',\n",
        "    'ALÍQUOTA', 'VALOR ISS', 'VALOR ISS RETIDO', 'VALOR CSLL', 'VALOR PIS',\n",
        "    'VALOR COFINS', 'DESC. COND', 'VALOR LÍQUIDO'\n",
        "]\n",
        "\n",
        "# Dicionário para associar chaves aos valores\n",
        "valores_associados = {}\n",
        "\n",
        "# Padrão de regex para valores monetários\n",
        "padrao_monetario = r'R\\$ ([\\d.,]+)'\n",
        "\n",
        "# Encontrar e associar os valores\n",
        "chave_atual = None\n",
        "for linha in valores_extraidos:\n",
        "    linha = linha.replace('\\n', ' ')  # Remover quebras de linha\n",
        "    valores_encontrados = re.findall(padrao_monetario, linha)\n",
        "    \n",
        "    for valor in valores_encontrados:\n",
        "        if chave_atual:\n",
        "            chave_encontrada = next((chave for chave in chaves_esperadas if chave in chave_atual), None)\n",
        "            if chave_encontrada:\n",
        "                valor_formatado = valor.replace('.', '').replace(',', '.')\n",
        "                valores_associados[chave_encontrada] = valor_formatado\n",
        "            chave_atual = None\n",
        "        else:\n",
        "            chave_atual = valor\n",
        "\n",
        "# Imprimir os valores associados\n",
        "for chave, valor in valores_associados.items():\n",
        "    print(f\"{chave}: {valor}\")\n"
      ]
    },
    {
      "cell_type": "code",
      "execution_count": 312,
      "metadata": {},
      "outputs": [],
      "source": [
        "import re\n",
        "\n",
        "# Lista com os valores extraídos\n",
        "valores_extraidos = [\n",
        "    'ID: BASE DE\\nCALCULO:\\nR$ 1.044.684,5\\nVALOR INSS:\\nR$ 11.491,53\\n',\n",
        "    'VALOR ISS:\\n\\nR$ 0,00\\nOUTRAS RETEN\\nR$ 0,00\\n',\n",
        "    'DE Al\\nJLO: 2\\n44.684,55\\n\\n? INSS: V\\n491,53 R\\n',\n",
        "    'ALÍQUOTA:\\n2%\\n\\nVALOR CSLL:\\nR$ 0,00\\n',\n",
        "    'a\\nnjsiais\\n',\n",
        "    'C. INCOND:\\n+00\\n\\nRIR:\\n\\n00\\n',\n",
        "    'DES:\\nR$0\\nFINS: VALC\\nR$0.\\n',\n",
        "    'VALOR ISS\\nRETIDO:\\n\\nR$ 20.893,69\\nÇÕES:\\n',\n",
        "    '= VALOR\\nDEDUÇÃO:\\nR$ 0,00\\nVALOR COF\\nR$ 0.00\\n',\n",
        "    'DESC. COND:\\nR$ 0,00\\n\\nVALOR LÍQUIDO:\\nR$ 1.012.299,33\\n',\n",
        "    'VALOR SERVIÇOS:\\n| R$ 1.044.684,55\\n]\\nJ\\n«VALOR PIS:\\n\" R$000\\n'\n",
        "]\n",
        "\n",
        "# Lista de chaves esperadas\n",
        "chaves_esperadas = [\n",
        "    'VALOR SERVIÇOS', 'VALOR DEDUÇÃO', 'DESC. INCOND', 'BASE DE CÁLCULO',\n",
        "    'ALÍQUOTA', 'VALOR ISS', 'VALOR ISS RETIDO', 'VALOR CSLL', 'VALOR PIS',\n",
        "    'VALOR COFINS', 'DESC. COND', 'VALOR LÍQUIDO'\n",
        "]\n",
        "\n",
        "# Dicionário para associar chaves aos valores\n",
        "valores_associados = {}\n",
        "\n",
        "# Padrão de regex para valores monetários\n",
        "padrao_monetario = r'R\\$ ([\\d.,]+)'\n",
        "\n",
        "# Encontrar e associar os valores\n",
        "chave_atual = None\n",
        "for linha in valores_extraidos:\n",
        "    linha = linha.replace('\\n', ' ')  # Remover quebras de linha\n",
        "    valores_encontrados = re.findall(padrao_monetario, linha)\n",
        "    \n",
        "    for valor in valores_encontrados:\n",
        "        valor_formatado = valor.replace('.', '').replace(',', '.')\n",
        "        if chave_atual:\n",
        "            # Tentar associar a chave atual às chaves esperadas\n",
        "            for chave_esperada in chaves_esperadas:\n",
        "                if chave_esperada.lower() in chave_atual.lower():\n",
        "                    valores_associados[chave_esperada] = valor_formatado\n",
        "                    break\n",
        "            chave_atual = None\n",
        "        else:\n",
        "            chave_atual = valor\n",
        "\n",
        "# Imprimir os valores associados\n",
        "for chave, valor in valores_associados.items():\n",
        "    print(f\"{chave}: {valor}\")\n",
        "\n"
      ]
    },
    {
      "cell_type": "code",
      "execution_count": 299,
      "metadata": {},
      "outputs": [],
      "source": [
        "linhas = []\n",
        "i = 0\n",
        "nro_lin = len(linhas)\n",
        "for i in range(nro_lin):\n",
        "    print(i)\n",
        "    #novo_texto = textos[i]\n",
        "    #print(i, novo_texto)\n",
        "    #novo_texto = texto.split('\\n')\n",
        "    #linhas.append(novo_texto)"
      ]
    },
    {
      "cell_type": "code",
      "execution_count": 289,
      "metadata": {},
      "outputs": [
        {
          "data": {
            "text/plain": [
              "11"
            ]
          },
          "execution_count": 289,
          "metadata": {},
          "output_type": "execute_result"
        }
      ],
      "source": [
        "len(linhas)"
      ]
    },
    {
      "cell_type": "code",
      "execution_count": 290,
      "metadata": {},
      "outputs": [
        {
          "data": {
            "text/plain": [
              "[['ID: BASE DE',\n",
              "  'CALCULO:',\n",
              "  'R$ 1.044.684,5',\n",
              "  'VALOR INSS:',\n",
              "  'R$ 11.491,53',\n",
              "  ''],\n",
              " ['VALOR ISS:', '', 'R$ 0,00', 'OUTRAS RETEN', 'R$ 0,00', ''],\n",
              " ['DE Al', 'JLO: 2', '44.684,55', '', '? INSS: V', '491,53 R', ''],\n",
              " ['ALÍQUOTA:', '2%', '', 'VALOR CSLL:', 'R$ 0,00', ''],\n",
              " ['a', 'njsiais', ''],\n",
              " ['C. INCOND:', '+00', '', 'RIR:', '', '00', ''],\n",
              " ['DES:', 'R$0', 'FINS: VALC', 'R$0.', ''],\n",
              " ['VALOR ISS', 'RETIDO:', '', 'R$ 20.893,69', 'ÇÕES:', ''],\n",
              " ['= VALOR', 'DEDUÇÃO:', 'R$ 0,00', 'VALOR COF', 'R$ 0.00', ''],\n",
              " ['DESC. COND:', 'R$ 0,00', '', 'VALOR LÍQUIDO:', 'R$ 1.012.299,33', ''],\n",
              " ['VALOR SERVIÇOS:',\n",
              "  '| R$ 1.044.684,55',\n",
              "  ']',\n",
              "  'J',\n",
              "  '«VALOR PIS:',\n",
              "  '\" R$000',\n",
              "  '']]"
            ]
          },
          "execution_count": 290,
          "metadata": {},
          "output_type": "execute_result"
        }
      ],
      "source": [
        "linhas"
      ]
    },
    {
      "cell_type": "code",
      "execution_count": 287,
      "metadata": {},
      "outputs": [
        {
          "ename": "AttributeError",
          "evalue": "'list' object has no attribute 'split'",
          "output_type": "error",
          "traceback": [
            "\u001b[1;31m---------------------------------------------------------------------------\u001b[0m",
            "\u001b[1;31mAttributeError\u001b[0m                            Traceback (most recent call last)",
            "Cell \u001b[1;32mIn[287], line 2\u001b[0m\n\u001b[0;32m      1\u001b[0m \u001b[39m# Dividir o texto em linhas\u001b[39;00m\n\u001b[1;32m----> 2\u001b[0m linhas \u001b[39m=\u001b[39m textos\u001b[39m.\u001b[39;49msplit(\u001b[39m'\u001b[39m\u001b[39m\\n\u001b[39;00m\u001b[39m'\u001b[39m)\n",
            "\u001b[1;31mAttributeError\u001b[0m: 'list' object has no attribute 'split'"
          ]
        }
      ],
      "source": [
        "# Dividir o texto em linhas\n",
        "linhas = textos.split('\\n')"
      ]
    },
    {
      "cell_type": "code",
      "execution_count": null,
      "metadata": {},
      "outputs": [],
      "source": [
        "\n",
        "\n",
        "# Inicializar variáveis para armazenar os valores\n",
        "nome_razao_social = None\n",
        "endereco = None\n",
        "email = None\n",
        "\n",
        "# Iterar pelas linhas para identificar os campos e valores\n",
        "i = 0\n",
        "while i < len(linhas):\n",
        "    linha = linhas[i]\n",
        "    if \"Nome/Razão Social:\" in linha:\n",
        "        nome_razao_social = linhas[i + 1].strip()\n",
        "        i += 2\n",
        "    elif \"Endereço:\" in linha:\n",
        "        endereco = linhas[i + 1].strip()\n",
        "        i += 2\n",
        "    elif \"E-mail:\" in linha:\n",
        "        email = linhas[i + 1].strip()\n",
        "        i += 2\n",
        "    else:\n",
        "        i += 1"
      ]
    },
    {
      "cell_type": "code",
      "execution_count": 284,
      "metadata": {},
      "outputs": [
        {
          "name": "stdout",
          "output_type": "stream",
          "text": [
            "ID: BASE DE\n",
            "CALCULO:\n",
            "R$ 1.044.684,5\n",
            "VALOR INSS:\n",
            "R$ 11.491,53\n",
            "\n",
            "VALOR ISS:\n",
            "\n",
            "R$ 0,00\n",
            "OUTRAS RETEN\n",
            "R$ 0,00\n",
            "\n",
            "DE Al\n",
            "JLO: 2\n",
            "44.684,55\n",
            "\n",
            "? INSS: V\n",
            "491,53 R\n",
            "\n",
            "ALÍQUOTA:\n",
            "2%\n",
            "\n",
            "VALOR CSLL:\n",
            "R$ 0,00\n",
            "\n",
            "a\n",
            "njsiais\n",
            "\n",
            "C. INCOND:\n",
            "+00\n",
            "\n",
            "RIR:\n",
            "\n",
            "00\n",
            "\n",
            "DES:\n",
            "R$0\n",
            "FINS: VALC\n",
            "R$0.\n",
            "\n",
            "VALOR ISS\n",
            "RETIDO:\n",
            "\n",
            "R$ 20.893,69\n",
            "ÇÕES:\n",
            "\n",
            "= VALOR\n",
            "DEDUÇÃO:\n",
            "R$ 0,00\n",
            "VALOR COF\n",
            "R$ 0.00\n",
            "\n",
            "DESC. COND:\n",
            "R$ 0,00\n",
            "\n",
            "VALOR LÍQUIDO:\n",
            "R$ 1.012.299,33\n",
            "\n",
            "VALOR SERVIÇOS:\n",
            "| R$ 1.044.684,55\n",
            "]\n",
            "J\n",
            "«VALOR PIS:\n",
            "\" R$000\n",
            "\n"
          ]
        }
      ],
      "source": [
        "for texto in textos:\n",
        "    print(texto)"
      ]
    },
    {
      "cell_type": "code",
      "execution_count": null,
      "metadata": {},
      "outputs": [],
      "source": [
        "results"
      ]
    },
    {
      "cell_type": "code",
      "execution_count": null,
      "metadata": {},
      "outputs": [],
      "source": []
    },
    {
      "cell_type": "code",
      "execution_count": null,
      "metadata": {},
      "outputs": [],
      "source": [
        "def processaTabela(file_path):\n",
        "  \n",
        "  image = Image.open(file_path).convert(\"RGB\")\n",
        "  width, height = image.size\n",
        "  image.resize((int(width*0.5), int(height*0.5)))\n",
        "\n",
        "  feature_extractor = DetrImageProcessor()\n",
        "  encoding = feature_extractor(image, return_tensors=\"pt\")\n",
        "  \n",
        "  with torch.no_grad():\n",
        "    outputs = model(**encoding)\n",
        "      \n",
        "  target_sizes = [image.size[::-1]]\n",
        "  results = feature_extractor.post_process_object_detection(outputs, threshold=0.6, target_sizes=target_sizes)[0]\n",
        "  \n",
        "  return results   \n",
        "\n",
        "\n",
        "\n",
        "def plot_results(pil_img, scores, labels, boxes):\n",
        "    plt.figure(figsize=(26,20))\n",
        "    plt.imshow(pil_img)\n",
        "    ax = plt.gca()\n",
        "    colors = COLORS * 100\n",
        "    for score, label, (xmin, ymin, xmax, ymax),c  in zip(scores.tolist(), labels.tolist(), boxes.tolist(), colors):\n",
        "        ax.add_patch(plt.Rectangle((xmin, ymin), xmax - xmin, ymax - ymin,\n",
        "                                   fill=False, color=c, linewidth=3))\n",
        "        text = f'{model.config.id2label[label]}: {score:0.2f}'\n",
        "        ax.text(xmin, ymin, text, fontsize=10,\n",
        "                bbox=dict(facecolor='yellow', alpha=0.3))\n",
        "    plt.axis('off')\n",
        "    plt.show()"
      ]
    },
    {
      "cell_type": "code",
      "execution_count": null,
      "metadata": {},
      "outputs": [],
      "source": []
    },
    {
      "cell_type": "code",
      "execution_count": null,
      "metadata": {},
      "outputs": [],
      "source": []
    },
    {
      "cell_type": "markdown",
      "metadata": {},
      "source": [
        "### Outros pedacos"
      ]
    },
    {
      "cell_type": "code",
      "execution_count": 234,
      "metadata": {},
      "outputs": [],
      "source": [
        "nf_data_CNAE = {}\n",
        "nf_data_CNAE['Secao'] = \"6. CNAE e Item da Lista de Serviços\"\n",
        "\n",
        "linhas = text.split('º\\n')\n",
        "\n",
        "\n",
        "# Extrair CNAE\n",
        "nf_data_CNAE_match = re.search(r'CNAE\\s+(.+)', text)\n",
        "if nf_data_CNAE_match:\n",
        "    # Remove a primeira ocorrência de \"CNAE:\"\n",
        "    nf_data_CNAE_str = re.sub(r'^CNAE - ', '', text, count=1)\n",
        "    # Remover quebras de linha\n",
        "    nf_data_CNAE_str = nf_data_CNAE_str.replace('\\n', ' ')\n",
        "    nf_data_CNAE['cnae'] = nf_data_CNAE_str\n",
        "    \n",
        "    \n",
        "# Extrair Item da Lista de Serviços\n",
        "nf_item_lista_servicos_match = re.search(r'Item da Lista de Serviços\\s+(.+)', text)\n",
        "if nf_item_lista_servicos_match:\n",
        "    nf_item_lista_servicos_str = re.sub(r'^Item da Lista de Serviços - ', '', text, count=1) \n",
        "    # Remover quebras de linha\n",
        "    #nf_item_lista_servicos_str = nf_item_lista_servicos_str.replace('\\n \\n', '')\n",
        "    nf_item_lista_servicos_str = nf_item_lista_servicos_str.replace('\\n', ' ')\n",
        "    nf_data_CNAE['item_lista_servicos'] = nf_item_lista_servicos_str   \n",
        "    \n",
        "    \n",
        "    "
      ]
    },
    {
      "cell_type": "code",
      "execution_count": 260,
      "metadata": {},
      "outputs": [
        {
          "data": {
            "text/plain": [
              "'CNAE - 4313400 - OBRAS DE TERRAPLENAGEM '"
            ]
          },
          "execution_count": 260,
          "metadata": {},
          "output_type": "execute_result"
        }
      ],
      "source": [
        "linhas[0].replace(' . .', '')"
      ]
    },
    {
      "cell_type": "code",
      "execution_count": 254,
      "metadata": {},
      "outputs": [],
      "source": [
        "texto_1 = linhas[1]"
      ]
    },
    {
      "cell_type": "code",
      "execution_count": 255,
      "metadata": {},
      "outputs": [
        {
          "data": {
            "text/plain": [
              "'Item da Lista de Serviços - 7.02 - EXECUÇÃO, POR ADMINISTRAÇÃO, EMPREITADA OU SUBEMPREITADA, DE OBRAS DE CONSTRUÇÃO CIVIL, HIDRÁULICA\\nOU ELETRICA E DE OUTRAS OBRAS SEMELHANTES, INCLUSIVE SONDAGEM, PERFURAÇÃO DE POÇOS, ESCAVAÇÃO, DRENAG\\n'"
            ]
          },
          "execution_count": 255,
          "metadata": {},
          "output_type": "execute_result"
        }
      ],
      "source": [
        "texto_1"
      ]
    },
    {
      "cell_type": "code",
      "execution_count": 256,
      "metadata": {},
      "outputs": [],
      "source": [
        "texto_novo = texto_novo.replace('\\n', '')"
      ]
    },
    {
      "cell_type": "code",
      "execution_count": 258,
      "metadata": {},
      "outputs": [],
      "source": [
        "item_lista_servico = re.sub(r'^Item da Lista de Serviços - ', '', texto_novo, count=1)"
      ]
    },
    {
      "cell_type": "code",
      "execution_count": 259,
      "metadata": {},
      "outputs": [
        {
          "data": {
            "text/plain": [
              "'7.02 - EXECUÇÃO, POR ADMINISTRAÇÃO, EMPREITADA OU SUBEMPREITADA, DE OBRAS DE CONSTRUÇÃO CIVIL, HIDRÁULICA OU ELETRICA E DE OUTRAS OBRAS SEMELHANTES, INCLUSIVE SONDAGEM, PERFURAÇÃO DE POÇOS, ESCAVAÇÃO, DRENAG '"
            ]
          },
          "execution_count": 259,
          "metadata": {},
          "output_type": "execute_result"
        }
      ],
      "source": [
        "item_lista_servico"
      ]
    },
    {
      "cell_type": "code",
      "execution_count": 225,
      "metadata": {},
      "outputs": [
        {
          "data": {
            "text/plain": [
              "{'Secao': '6. CNAE e Item da Lista de Serviços',\n",
              " 'cnae': '4313400 - OBRAS DE TERRAPLENAGEM . . º Item da Lista de Serviços - 7.02 - EXECUÇÃO, POR ADMINISTRAÇÃO, EMPREITADA OU SUBEMPREITADA, DE OBRAS DE CONSTRUÇÃO CIVIL, HIDRÁULICA OU ELETRICA E DE OUTRAS OBRAS SEMELHANTES, INCLUSIVE SONDAGEM, PERFURAÇÃO DE POÇOS, ESCAVAÇÃO, DRENAG ',\n",
              " 'item_lista_servicos': 'CNAE - 4313400 - OBRAS DE TERRAPLENAGEM . . º Item da Lista de Serviços - 7.02 - EXECUÇÃO, POR ADMINISTRAÇÃO, EMPREITADA OU SUBEMPREITADA, DE OBRAS DE CONSTRUÇÃO CIVIL, HIDRÁULICA OU ELETRICA E DE OUTRAS OBRAS SEMELHANTES, INCLUSIVE SONDAGEM, PERFURAÇÃO DE POÇOS, ESCAVAÇÃO, DRENAG '}"
            ]
          },
          "execution_count": 225,
          "metadata": {},
          "output_type": "execute_result"
        }
      ],
      "source": [
        "nf_data_CNAE"
      ]
    },
    {
      "cell_type": "code",
      "execution_count": 223,
      "metadata": {},
      "outputs": [
        {
          "name": "stdout",
          "output_type": "stream",
          "text": [
            "CNAE: 4313400 - OBRAS DE TERRAPLENAGEM\n",
            "texto1: Item da Lista de Serviços - 7.02 - EXECUÇÃO, POR ADMINISTRAÇÃO, EMPREITADA OU SUBEMPREITADA, DE OBRAS DE CONSTRUÇÃO CIVIL, HIDRÁULICA\n",
            "OU ELETRICA E DE OUTRAS OBRAS SEMELHANTES, INCLUSIVE SONDAGEM, PERFURAÇÃO DE POÇOS, ESCAVAÇÃO, DRENAG\n",
            "\n"
          ]
        }
      ],
      "source": [
        "nf_data_CNAE = {}\n",
        "nf_data_CNAE['Secao'] = \"6. CNAE e Item da Lista de Serviços\"\n",
        "\n",
        "\n",
        "linhas = text.split('º\\n')\n",
        "\n",
        "\"\"\"if \"\\n\\n\" in text:\n",
        "    linhas = text.split('\\n\\n')\n",
        "    tipo = 2\n",
        "    \n",
        "else:\n",
        "    linhas = text.split('\\n')    \n",
        "    tipo = 1\"\"\"\n",
        "\n",
        "\n",
        "\n",
        "# Inicializar variáveis para armazenar os valores\n",
        "cnae = None\n",
        "item_lista_servico = None\n",
        "\n",
        "texto1 = None\n",
        "texto2 = None\n",
        "\n",
        "# Iterar pelas linhas para identificar os campos e valores\n",
        "i = 0\n",
        "while i < len(linhas):\n",
        "    linha = linhas[i]\n",
        "    #print(\"linha:\", i, linha)\n",
        "    if \"CNAE\" in linha:\n",
        "        texto1 = linhas[i].strip().replace('º', '.').replace(' . .', '')\n",
        "        cnae = re.sub(r'^CNAE - ', '', texto1, count=1)\n",
        "        i += 1\n",
        "               \n",
        "        print(\"CNAE:\",cnae)\n",
        "        \n",
        "        #print()\n",
        "        #print(\"texto_razao2: \", texto_razao2)\n",
        "        #print()\n",
        "        #print(\"texto_razao3: \", texto_razao3)\n",
        "        #print(f'\\nRazao Social: {nome_razao_social}')\n",
        "        \n",
        "    elif \"Item da Lista de Serviços\" in linha:\n",
        "        \n",
        "        #print(\"Aqui\")\n",
        "        texto1 = linhas[i].strip()\n",
        "        #texto2 = linhas[i + 1].strip()\n",
        "        \n",
        "        print(\"texto1:\",texto1)\n",
        "        \n",
        "        print()\n",
        "        \n",
        "        #print(\"texto2:\",texto2)\n",
        "        \n",
        "        #)\n",
        "        \n",
        "        \n",
        "        \n",
        "        #texto2 = re.sub(r'^Item da Lista de Serviços - ', '', texto1, count=1)\n",
        "        \n",
        "        #item_lista_servico = texto2\n",
        "        \n",
        "        \n",
        "        i += 2  \n",
        "        #print(\"Aqui - item_lista_servico: \",item_lista_servico)\n",
        "        \n",
        "    else:\n",
        "        i += 1\n",
        "\n",
        "\n",
        "# Imprimir os valores dos campos\n",
        "#print(\"Nome/Razão Social:\", nome_razao_social)\n",
        "\n",
        "#print(\"item_lista_servico:\",item_lista_servico)\n",
        "\n",
        "#nf_data_prestador_servico['razao_social'] = nome_razao_social"
      ]
    },
    {
      "cell_type": "code",
      "execution_count": 221,
      "metadata": {},
      "outputs": [
        {
          "data": {
            "text/plain": [
              "['CNAE - 4313400 - OBRAS DE TERRAPLENAGEM . . º',\n",
              " 'Item da Lista de Serviços - 7.02 - EXECUÇÃO, POR ADMINISTRAÇÃO, EMPREITADA OU SUBEMPREITADA, DE OBRAS DE CONSTRUÇÃO CIVIL, HIDRÁULICA',\n",
              " 'OU ELETRICA E DE OUTRAS OBRAS SEMELHANTES, INCLUSIVE SONDAGEM, PERFURAÇÃO DE POÇOS, ESCAVAÇÃO, DRENAG',\n",
              " '']"
            ]
          },
          "execution_count": 221,
          "metadata": {},
          "output_type": "execute_result"
        }
      ],
      "source": [
        "linhas"
      ]
    },
    {
      "cell_type": "code",
      "execution_count": 181,
      "metadata": {},
      "outputs": [],
      "source": [
        "nf_data_CNAE = {}\n",
        "nf_data_CNAE['Secao'] = \"6. CNAE e Item da Lista de Serviços\"\n",
        "\n",
        "\n",
        "nf_data_CNAE_match = re.search(r'CNAE\\s+(.+)', text)\n",
        "if nf_data_CNAE_match:\n",
        "    # Remove a primeira ocorrência de \"CNAE:\"\n",
        "    nf_data_CNAE_str = re.sub(r'^CNAE - ', '', text, count=1)\n",
        "    # Remover quebras de linha\n",
        "    nf_data_CNAE_str = nf_data_CNAE_str.replace('\\n', ' ')\n",
        "    nf_data_CNAE['cnae'] = nf_data_CNAE_str\n",
        "\n",
        "\n",
        "nf_item_lista_servicos_match = re.search(r'Item da Lista de Serviços\\s+(.+)', text)\n",
        "if nf_item_lista_servicos_match:\n",
        "    nf_item_lista_servicos_str = re.sub(r'^Item da Lista de Serviços - ', '', text, count=1) \n",
        "    # Remover quebras de linha\n",
        "    #nf_item_lista_servicos_str = nf_item_lista_servicos_str.replace('\\n \\n', '')\n",
        "    nf_item_lista_servicos_str = nf_item_lista_servicos_str.replace('\\n', ' ')\n",
        "    nf_data_CNAE['item_lista_servicos'] = nf_item_lista_servicos_str\n",
        "\n",
        "\n"
      ]
    },
    {
      "cell_type": "code",
      "execution_count": 182,
      "metadata": {},
      "outputs": [
        {
          "data": {
            "text/plain": [
              "{'Secao': '6. CNAE e Item da Lista de Serviços',\n",
              " 'cnae': '4313400 - OBRAS DE TERRAPLENAGEM . . º Item da Lista de Serviços - 7.02 - EXECUÇÃO, POR ADMINISTRAÇÃO, EMPREITADA OU SUBEMPREITADA, DE OBRAS DE CONSTRUÇÃO CIVIL, HIDRÁULICA OU ELETRICA E DE OUTRAS OBRAS SEMELHANTES, INCLUSIVE SONDAGEM, PERFURAÇÃO DE POÇOS, ESCAVAÇÃO, DRENAG ',\n",
              " 'item_lista_servicos': 'CNAE - 4313400 - OBRAS DE TERRAPLENAGEM . . º Item da Lista de Serviços - 7.02 - EXECUÇÃO, POR ADMINISTRAÇÃO, EMPREITADA OU SUBEMPREITADA, DE OBRAS DE CONSTRUÇÃO CIVIL, HIDRÁULICA OU ELETRICA E DE OUTRAS OBRAS SEMELHANTES, INCLUSIVE SONDAGEM, PERFURAÇÃO DE POÇOS, ESCAVAÇÃO, DRENAG '}"
            ]
          },
          "execution_count": 182,
          "metadata": {},
          "output_type": "execute_result"
        }
      ],
      "source": [
        "nf_data_CNAE"
      ]
    },
    {
      "cell_type": "code",
      "execution_count": null,
      "metadata": {},
      "outputs": [],
      "source": []
    },
    {
      "cell_type": "code",
      "execution_count": null,
      "metadata": {},
      "outputs": [],
      "source": [
        "# Prestador de servico - Razao social / Endereco / Nome Fantasia / email\n",
        "text = 'Nome/Razão Social:\\n\\nSÃO MARCOS TERRAPLENAGEM E CONSTRUÇÃO LTDA.\\nNome de Fantasia:\\n\\nEndereço:\\n\\nRUA DAS MARGARIDAS ,578 ,SANTA DALILA - Magé-RJ\\nE-mail:\\n'\n",
        "\n",
        "nf_data_prestador_servico = {}\n",
        "nf_data_prestador_servico['secao'] = \"2.PRESTADOR DE SERVIÇO - RAZAO\"\n",
        "tipo = None\n",
        "\n",
        "if \"\\n\\n\" in text:\n",
        "    linhas = text.split('\\n\\n')\n",
        "    tipo = 2\n",
        "    \n",
        "else:\n",
        "    linhas = text.split('\\n')    \n",
        "    tipo = 1\n",
        "   \n",
        "   \n",
        "#linhas = text.split('\\n')\n",
        "\n",
        "#linhas = text.split('\\n\\n')\n",
        "#print(linhas)\n",
        "\n",
        "\n",
        "# Inicializar variáveis para armazenar os valores\n",
        "nome_razao_social = None\n",
        "nome_fantasia = None\n",
        "endereco = None\n",
        "email = None\n",
        "\n",
        "# Iterar pelas linhas para identificar os campos e valores\n",
        "i = 0\n",
        "while i < len(linhas):\n",
        "    linha = linhas[i]\n",
        "    #print(\"linha:\", i, linha)\n",
        "    if \"Nome/Razão Social:\" in linha:\n",
        "        if tipo == 2:\n",
        "            texto1 = linhas[i + 1].strip()\n",
        "            texto2 = texto1.split('\\n')\n",
        "            nome_razao_social = texto2[i].strip()\n",
        "        else:\n",
        "            nome_razao_social = linhas[i + 1].strip()   \n",
        "        #print(\"texto_razao: \", texto_razao)\n",
        "        \n",
        "        #print()\n",
        "        #print(\"texto_razao2: \", texto_razao2)\n",
        "        #print()\n",
        "        #print(\"texto_razao3: \", texto_razao3)\n",
        "        #print(f'\\nRazao Social: {nome_razao_social}')\n",
        "        i += 2\n",
        "    elif \"Nome de Fantasia:\" in linha:\n",
        "        nome_fantasia = linhas[i + 1].strip()\n",
        "        i += 2\n",
        "    elif \"Endereço:\" in linha:\n",
        "        \n",
        "        if tipo == 2:\n",
        "            texto3 = linhas[i + 1].strip()\n",
        "            texto4 = texto3.split('\\n')\n",
        "            \n",
        "            endereco = texto4[0].strip()\n",
        "            print(\"endereco:\", i, endereco)\n",
        "            \n",
        "            \n",
        "        else:\n",
        "            endereco = linhas[i + 1].strip()      \n",
        "        i += 2\n",
        "    elif \"E-mail:\" in linha:\n",
        "        email = linhas[i + 1].strip()\n",
        "        i += 2\n",
        "    else:\n",
        "        i += 1\n",
        "\n",
        "\n",
        "# Imprimir os valores dos campos\n",
        "print(\"Nome/Razão Social:\", nome_razao_social)\n",
        "print(\"Nome de Fantasia:\", nome_fantasia)\n",
        "print(\"Endereço:\", endereco)\n",
        "print(\"E-mail:\", email)\n",
        "\n",
        "\n",
        "nf_data_prestador_servico['razao_social'] = nome_razao_social\n",
        "nf_data_prestador_servico['nome_fantasia'] = nome_fantasia\n",
        "nf_data_prestador_servico['endereco'] = endereco\n",
        "nf_data_prestador_servico['email'] = email"
      ]
    },
    {
      "cell_type": "code",
      "execution_count": null,
      "metadata": {},
      "outputs": [],
      "source": []
    },
    {
      "cell_type": "markdown",
      "metadata": {},
      "source": [
        "## 3. Processo"
      ]
    },
    {
      "cell_type": "code",
      "execution_count": null,
      "metadata": {},
      "outputs": [],
      "source": [
        "#nf_model = \"MI_1\"\n",
        "\n",
        "nf_model = \"mage_1\"\n",
        "\n",
        "nf_data_servico = {}\n",
        "\n",
        "pdf_info = {}  # Dicionário para armazenar informações sobre PDFs\n",
        "\n",
        "for root, dirs, files in os.walk(root_directory):\n",
        "    for file in files:\n",
        "        file_path = os.path.join(root, file)\n",
        "\n",
        "        if file.lower().endswith('.pdf'):\n",
        "            #print(file_path)\n",
        "                \n",
        "            # 1. Conversao para imagem e resize\n",
        "            converte2image(file_path)\n",
        "                \n",
        "            # 2. Resize\n",
        "            resizeImage(image_src)\n",
        "                \n",
        "            # 3. Executar cortes\n",
        "            #file_path = img_resi_path\n",
        "            #image_to_crop = Image.open(img_resi_path).convert(\"RGB\")\n",
        "            #width, height = image_to_crop.size\n",
        "\n",
        "            cropSections(nf_model, img_resi_path)\n",
        "                \n",
        "            for roots, directories, images in os.walk(root_dir_section_images):\n",
        "                for image in images:\n",
        "                    #print(f'\\n{roots}, {directories}, {images}')\n",
        "                    print(image)\n",
        "                    image_path = os.path.join(roots, image)\n",
        "                    #print(image_path, image)\n",
        "                    frame = image\n",
        "                    if frame == \"0_frame_dados_nf.jpg\":\n",
        "                        nro_nota = 0\n",
        "                        image_to_ocr = Image.open(image_path).convert('RGB')\n",
        "                        text = pytesseract.image_to_string(image_to_ocr, lang='por', config=tessdata_dir_config)\n",
        "                        nf_data_dados, nro_nota = extract_fields_dados(text)\n",
        "\n",
        "                    if frame == \"0_frame_prefeitura_nf.jpg\":\n",
        "                        image_to_ocr = Image.open(image_path).convert('RGB')\n",
        "                        text = pytesseract.image_to_string(image_to_ocr, lang='por', config=tessdata_dir_config)\n",
        "                        nf_data_prefeitura, nome_prefeitura  = extract_fields_prefeitura(text)    \n",
        "                        \n",
        "                    if frame == \"1_frame_prestador_cnpj.jpg\": \n",
        "                        image_to_ocr = Image.open(image_path).convert('RGB')\n",
        "                        text = pytesseract.image_to_string(image_to_ocr, lang='por', config=tessdata_dir_config)\n",
        "                        nf_data_prestador = extract_fields_prestador(text)\n",
        "                        \n",
        "                               \n",
        "                    if frame == \"1_frame_prestador_inscricao.jpgg\": \n",
        "                        image_to_ocr = Image.open(image_path).convert('RGB')\n",
        "                        text = pytesseract.image_to_string(image_to_ocr, lang='por', config=tessdata_dir_config)\n",
        "                        nf_data_prestador = extract_fields_prestador(text)    \n",
        "                            \n",
        "                    if frame == \"1_frame_prestador_servico.jpg\": \n",
        "                        image_to_ocr = Image.open(image_path).convert('RGB')\n",
        "                        text = pytesseract.image_to_string(image_to_ocr, lang='por', config=tessdata_dir_config)\n",
        "                        nf_data_prestador = extract_fields_prestador(text)      \n",
        "                        \n",
        "                        \n",
        "                        \n",
        "                        \n",
        "                        \n",
        "                        \n",
        "                        \n",
        "                    if frame == \"2_frame_tomador_cnpj.jpg\": \n",
        "                        image_to_ocr = Image.open(image_path).convert('RGB')\n",
        "                        text = pytesseract.image_to_string(image_to_ocr, lang='por', config=tessdata_dir_config)\n",
        "                        nf_data_tomador_cnpj = extract_fields_tomador_cnpj(text)                                                       \n",
        "                    \n",
        "                    \n",
        "                    if frame == \"2_frame_tomador_inscricao.jpg\": \n",
        "                        image_to_ocr = Image.open(image_path).convert('RGB')\n",
        "                        text = pytesseract.image_to_string(image_to_ocr, lang='por', config=tessdata_dir_config)\n",
        "                        nf_data_tomador_inscricao = extract_fields_tomador_inscricao(text)                            \n",
        "                        \n",
        "                        \n",
        "                    if frame == \"2_frame_tomador_servico.jpg\": \n",
        "                        image_to_ocr = Image.open(image_path).convert('RGB')\n",
        "                        text = pytesseract.image_to_string(image_to_ocr, lang='por', config=tessdata_dir_config)\n",
        "                        nf_data_tomador = extract_fields_tomador(text)  \n",
        "                            \n",
        "                            \n",
        "                            \n",
        "                            # 6. Processa analise de tabela\n",
        "                            #results = processaTabela(image_path)\n",
        "                            \n",
        "                            # 7. Processa OCR\n",
        "                            #dados_da_tabela = processaOcrTable(image_path, results)\n",
        "                            \n",
        "                            #for i in dados_da_tabela:\n",
        "                                #if dados_da_tabela[i]['label'] == \"table column\":\n",
        "                                    #text = dados_da_tabela[i]['texto']\n",
        "                                    #print(f\"\\n{i}: \\n{dados_da_tabela[i]['texto']}\")\n",
        "                                    \n",
        "                    nr_nro_nf = nro_nota\n",
        "                        \n",
        "                    nome_arquivo_json = os.path.basename(root) + \".json\"\n",
        "                    nome_arquivo = file\n",
        "                                                \n",
        "                    pdf_info[nr_nro_nf] = {\n",
        "                        \"dados_NF_PDF\": {\n",
        "                            \"data_nf\": nf_data_dados,\n",
        "                            \"data_prefeitura\": nf_data_prefeitura,\n",
        "                            \"data_prestador\": nf_data_prestador,\n",
        "                            \"data_tomador_cnpj\": nf_data_tomador_cnpj,\n",
        "                            \"data_tomador_inscricao\": nf_data_tomador_inscricao,\n",
        "                            \"data_tomador\": nf_data_tomador,\n",
        "                            },\n",
        "                        \"diretorio\": os.path.basename(root),\n",
        "                        \"nome_arquivo\": nome_arquivo,    \n",
        "                    }            \n",
        "                        \n",
        "                        \n",
        "# Salvando as informações em um arquivo JSON\n",
        "json_file_path = os.path.join(target_directory, nome_arquivo_json)\n",
        "with open(json_file_path, \"w\", encoding='utf-8') as json_file:\n",
        "    json.dump(pdf_info, json_file, ensure_ascii=False, indent=4)                    \n",
        "        \n"
      ]
    },
    {
      "cell_type": "code",
      "execution_count": null,
      "metadata": {},
      "outputs": [],
      "source": [
        "print(text)"
      ]
    },
    {
      "cell_type": "code",
      "execution_count": null,
      "metadata": {},
      "outputs": [],
      "source": [
        "nome_prefeitura"
      ]
    },
    {
      "cell_type": "code",
      "execution_count": 14,
      "metadata": {},
      "outputs": [
        {
          "data": {
            "text/plain": [
              "{'secao': '1. CABECALHO - DADOS',\n",
              " 'numero_nota_fiscal': '689',\n",
              " 'competencia': 'Agosto/2023',\n",
              " 'dt_hr_emissao': '02/08/2023 16:29:00',\n",
              " 'codigo_verificacao': 'OCDD6FB51'}"
            ]
          },
          "execution_count": 14,
          "metadata": {},
          "output_type": "execute_result"
        }
      ],
      "source": [
        "nf_data_dados"
      ]
    },
    {
      "cell_type": "code",
      "execution_count": null,
      "metadata": {},
      "outputs": [],
      "source": [
        "nf_data_prefeitura"
      ]
    },
    {
      "cell_type": "code",
      "execution_count": null,
      "metadata": {},
      "outputs": [],
      "source": [
        "nf_data_prestador"
      ]
    },
    {
      "cell_type": "code",
      "execution_count": 16,
      "metadata": {},
      "outputs": [
        {
          "data": {
            "text/plain": [
              "{'razao_social': 'MUNICÍPIO DE MACAE',\n",
              " 'endereco': 'ê à',\n",
              " 'email': 'NÃO INFORMADO'}"
            ]
          },
          "execution_count": 16,
          "metadata": {},
          "output_type": "execute_result"
        }
      ],
      "source": [
        "nf_data_tomador"
      ]
    },
    {
      "cell_type": "code",
      "execution_count": 17,
      "metadata": {},
      "outputs": [
        {
          "data": {
            "text/plain": [
              "{'secao': '3.TOMADOR DE SERVIÇO',\n",
              " 'cpf_cnpj_com_mascara': '29.115.474/0001-60',\n",
              " 'cpf_cnpj_sem_mascara': '29115474000160'}"
            ]
          },
          "execution_count": 17,
          "metadata": {},
          "output_type": "execute_result"
        }
      ],
      "source": [
        "nf_data_tomador_cnpj"
      ]
    },
    {
      "cell_type": "code",
      "execution_count": 18,
      "metadata": {},
      "outputs": [
        {
          "data": {
            "text/plain": [
              "{'rg': 'Inscrição Estadual:'}"
            ]
          },
          "execution_count": 18,
          "metadata": {},
          "output_type": "execute_result"
        }
      ],
      "source": [
        "nf_data_tomador_inscricao"
      ]
    },
    {
      "cell_type": "code",
      "execution_count": null,
      "metadata": {},
      "outputs": [],
      "source": [
        "                nome_arquivo_json = os.path.basename(root) + \".json\"\n",
        "                nome_arquivo = file\n",
        "                        \n",
        "                pdf_info[nr_nro_nf] = {\n",
        "                    \"dados_NF_PDF\": {\n",
        "                        \"data_cabecalho\": nf_data_cabecalho,\n",
        "                            \n",
        "                    },\n",
        "                    \"diretorio\": os.path.basename(root),\n",
        "                    \"nome_arquivo\": nome_arquivo,    \n",
        "                }            \n",
        "                        \n",
        "                        \n",
        "# Salvando as informações em um arquivo JSON\n",
        "json_file_path = os.path.join(target_directory, nome_arquivo_json)\n",
        "with open(json_file_path, \"w\", encoding='utf-8') as json_file:\n",
        "    json.dump(pdf_info, json_file, ensure_ascii=False, indent=4)          "
      ]
    },
    {
      "cell_type": "code",
      "execution_count": null,
      "metadata": {},
      "outputs": [],
      "source": []
    },
    {
      "cell_type": "code",
      "execution_count": null,
      "metadata": {},
      "outputs": [],
      "source": []
    },
    {
      "cell_type": "code",
      "execution_count": null,
      "metadata": {},
      "outputs": [],
      "source": []
    },
    {
      "cell_type": "code",
      "execution_count": null,
      "metadata": {},
      "outputs": [],
      "source": []
    },
    {
      "cell_type": "code",
      "execution_count": null,
      "metadata": {},
      "outputs": [],
      "source": []
    },
    {
      "cell_type": "code",
      "execution_count": null,
      "metadata": {},
      "outputs": [],
      "source": []
    },
    {
      "cell_type": "code",
      "execution_count": null,
      "metadata": {},
      "outputs": [],
      "source": []
    },
    {
      "cell_type": "code",
      "execution_count": null,
      "metadata": {},
      "outputs": [],
      "source": [
        "# 1. Conversao para imagem e resize\n",
        "converte2image(file)"
      ]
    },
    {
      "cell_type": "code",
      "execution_count": null,
      "metadata": {},
      "outputs": [],
      "source": [
        "# 2. Resize\n",
        "resizeImage(image_src)"
      ]
    },
    {
      "cell_type": "code",
      "execution_count": null,
      "metadata": {},
      "outputs": [],
      "source": []
    },
    {
      "cell_type": "code",
      "execution_count": null,
      "metadata": {},
      "outputs": [],
      "source": [
        "# 4. Executar cortes\n",
        "file_path = img_resi_path\n",
        "image = Image.open(file_path).convert(\"RGB\")\n",
        "width, height = image.size\n",
        "\n",
        "cropSections(nf_model, img_resi_path)"
      ]
    },
    {
      "cell_type": "code",
      "execution_count": null,
      "metadata": {},
      "outputs": [],
      "source": [
        "# 5. Definir corte para mapeamento\n",
        "\n",
        "#file_path = r\".\\novo_modelo\\images\\processadas\\sections\\0_frame_cabecalho_nf.jpg\"\n",
        "\n",
        "file_path = r\".\\novo_modelo\\images\\processadas\\sections\\1_frame_prestador_servico.jpg\"\n",
        "\n",
        "#file_path = r\".\\novo_modelo\\images\\processadas\\sections\\2_frame_tomador_servico.jpg\"\n",
        "\n",
        "#file_path = r\".\\novo_modelo\\images\\processadas\\sections\\3_frame_descricao_servico.jpg\"\n",
        "\n",
        "#file_path = r\".\\novo_modelo\\images\\processadas\\sections\\4_frame_valor_total.jpg\"\n",
        "\n",
        "#file_path = r\".\\novo_modelo\\images\\processadas\\sections\\5_frame_cnae_itens.jpg\"\n",
        "\n",
        "#file_path = r\".\\novo_modelo\\images\\processadas\\sections\\6_frame_valores_impostos.jpg\"\n",
        "\n",
        "#file_path = r\".\\novo_modelo\\images\\processadas\\sections\\7_frame_dados_complementares.jpg\"\n",
        "\n",
        "#file_path = r\".\\novo_modelo\\images\\processadas\\sections\\9_frame_observacao.jpg\""
      ]
    },
    {
      "cell_type": "code",
      "execution_count": null,
      "metadata": {},
      "outputs": [],
      "source": [
        "# 6. Processa analise de tabela\n",
        "results = processaTabela(file_path)"
      ]
    },
    {
      "cell_type": "code",
      "execution_count": null,
      "metadata": {},
      "outputs": [],
      "source": [
        "# 7. Processa OCR\n",
        "dados_da_tabela = processaOcrTable(file_path, results)"
      ]
    },
    {
      "cell_type": "code",
      "execution_count": null,
      "metadata": {},
      "outputs": [],
      "source": [
        "# 8. Captura dados (Regex)\n",
        "\n",
        "for i in dados_da_tabela:\n",
        "   if dados_da_tabela[i]['label'] == \"table column\":\n",
        "      print(f\"\\n{i}: \\n{dados_da_tabela[i]['texto']}\")"
      ]
    },
    {
      "cell_type": "code",
      "execution_count": null,
      "metadata": {},
      "outputs": [],
      "source": []
    },
    {
      "cell_type": "code",
      "execution_count": null,
      "metadata": {},
      "outputs": [],
      "source": []
    },
    {
      "cell_type": "code",
      "execution_count": null,
      "metadata": {},
      "outputs": [],
      "source": []
    },
    {
      "cell_type": "code",
      "execution_count": null,
      "metadata": {},
      "outputs": [],
      "source": []
    },
    {
      "cell_type": "code",
      "execution_count": null,
      "metadata": {},
      "outputs": [],
      "source": [
        "# Salvando as informações em um arquivo JSON\n",
        "#json_file_path = os.path.join(target_directory, \"pdf_image_info.json\")\n",
        "with open(\"dados_da_tabela.json\", \"w\") as json_file:\n",
        "    json.dump(dados_da_tabela, json_file, indent=4)\n",
        "\n",
        "#print(f\"As informações foram salvas em {json_file_path}\")"
      ]
    },
    {
      "cell_type": "markdown",
      "metadata": {},
      "source": [
        "# Outros"
      ]
    },
    {
      "cell_type": "code",
      "execution_count": null,
      "metadata": {},
      "outputs": [],
      "source": [
        "\n",
        "x0 = 510\n",
        "y0 = 0\n",
        "x1 = 1540\n",
        "y1 = 380\n",
        "\n",
        "section = \"0_frame_prefeitura_nf\"\n",
        "defineDicionario(section, x0, y0, x1, y1)\n",
        "\n",
        "# Efetuar o crop da imagem da NF segmentando por secoes\n",
        "def defineDicionario(img_resized, section, x0, y0, x1, y1):\n",
        "    im = Image.open(img_resized)\n",
        "    left = x0\n",
        "    top = y0\n",
        "    right = x1\n",
        "    bottom = y1\n",
        "    im_croped_img = im.crop((left, top, right, bottom))\n",
        "    img_file_path = os.path.join(f\"{tgt_imagens}\\processadas\\sections\\{section}.jpg\")\n",
        "    im_croped_img.save(img_file_path, 'JPEG') \n",
        "     \n",
        "\n",
        "\n",
        "\n",
        "\n",
        "\n",
        "\n",
        "    for model_name, cuts in cut_dict.items():\n",
        "        if model_name == nf_model:\n",
        "            print(f\"Modelo: {model_name}\")\n",
        "            for cut in cuts:\n",
        "                model_section = cut['Item']\n",
        "                x0 = cut['x0']\n",
        "                y0 = cut['y0']\n",
        "                x1 = cut['x1']\n",
        "                y1 = cut['y1']\n",
        "                cropDocumento(img_resi_path, model_section, x0, y0, x1, y1)\n",
        "                \n",
        "def cropDocumento(img_resized, section, x0, y0, x1, y1):\n",
        "    im = Image.open(img_resized)\n",
        "    left = x0\n",
        "    top = y0\n",
        "    right = x1\n",
        "    bottom = y1\n",
        "    im_croped_img = im.crop((left, top, right, bottom))\n",
        "    #img_file_path = os.path.join(f\"{tgt_imagens}\\processadas\\sections\\{section}.jpg\")\n",
        "    #im_croped_img.save(img_file_path, 'JPEG')   \n",
        "    text = pytesseract.image_to_string(im_croped_img, lang='por', config=tessdata_dir_config)\n",
        "    nf_data_prefeitura, nome_prefeitura  = extract_fields_prefeitura(text)\n",
        "    if nome_prefeitura ==  PREFEITURA MUNICIPAL DE MAGE:\n",
        "         nf_model = \"mage_1\"\n",
        "    elif\n",
        "       nome_prefeitura ==  PREFEITURA MUNICIPAL DE MAGE:   "
      ]
    },
    {
      "cell_type": "code",
      "execution_count": null,
      "metadata": {},
      "outputs": [],
      "source": [
        "print(f\"\\n| scores: {results['scores']} | labels: {results['labels']} | boxes: {results['boxes']}\")"
      ]
    },
    {
      "cell_type": "code",
      "execution_count": null,
      "metadata": {},
      "outputs": [],
      "source": [
        "for model_name, cuts in cut_dict.items():\n",
        "    print(f\"Modelo: {model_name}\")\n",
        "    for cut in cuts:\n",
        "        print(f\"  Item: {cut['Item']}, x0: {cut['x0']}, y0: {cut['y0']}, x1: {cut['x1']}, y1: {cut['y1']}\")"
      ]
    },
    {
      "cell_type": "code",
      "execution_count": null,
      "metadata": {},
      "outputs": [],
      "source": [
        "plot_results(image, results['scores'], results['labels'], results['boxes'])\n",
        "\n",
        "model.config.id2label"
      ]
    },
    {
      "cell_type": "code",
      "execution_count": null,
      "metadata": {},
      "outputs": [],
      "source": [
        "for roots, directories, images in os.walk(root_dir_section_images):\n",
        "    for image in images:\n",
        "        image_path = os.path.join(roots, image)\n",
        "        print(image_path)"
      ]
    },
    {
      "cell_type": "code",
      "execution_count": null,
      "metadata": {},
      "outputs": [],
      "source": []
    },
    {
      "cell_type": "code",
      "execution_count": null,
      "metadata": {},
      "outputs": [],
      "source": []
    },
    {
      "cell_type": "code",
      "execution_count": null,
      "metadata": {},
      "outputs": [],
      "source": []
    },
    {
      "cell_type": "code",
      "execution_count": null,
      "metadata": {},
      "outputs": [],
      "source": [
        "print(dados_da_tabela['boxes'].shape)"
      ]
    },
    {
      "cell_type": "code",
      "execution_count": null,
      "metadata": {},
      "outputs": [],
      "source": [
        "print(dados_da_tabela['labels'])"
      ]
    },
    {
      "cell_type": "code",
      "execution_count": null,
      "metadata": {},
      "outputs": [],
      "source": [
        "print(dados_da_tabela['labels'])\n"
      ]
    },
    {
      "cell_type": "code",
      "execution_count": null,
      "metadata": {},
      "outputs": [],
      "source": [
        "print(dados_da_tabela['labels'][0])\n"
      ]
    },
    {
      "cell_type": "code",
      "execution_count": null,
      "metadata": {},
      "outputs": [],
      "source": [
        "dados_da_tabela.shape"
      ]
    },
    {
      "cell_type": "code",
      "execution_count": null,
      "metadata": {},
      "outputs": [],
      "source": [
        "print(dados_da_tabela['labels'].shape)"
      ]
    },
    {
      "cell_type": "code",
      "execution_count": null,
      "metadata": {},
      "outputs": [],
      "source": [
        "print(dados_da_tabela['pixel_values'][:, :])\n"
      ]
    },
    {
      "cell_type": "code",
      "execution_count": null,
      "metadata": {},
      "outputs": [],
      "source": [
        "# Função para recortar a imagem\n",
        "def recortar_imagem(img, coordenadas):\n",
        "    x_min, y_min, x_max, y_max = coordenadas\n",
        "    return img[y_min:y_max, x_min:x_max]\n",
        "\n",
        "# Exemplo de uso da função\n",
        "import numpy as np\n",
        "\n",
        "# Criar uma imagem de exemplo\n",
        "img_exemplo = np.zeros((800, 1000), dtype=np.uint8)  # Imagem preta de 1000x800 pixels\n",
        "\n",
        "# Definir coordenadas para recortar uma região retangular na imagem\n",
        "coordenadas_exemplo = [100, 200, 400, 500]\n",
        "\n",
        "# Recortar a região da imagem\n",
        "regiao_recortada = recortar_imagem(img_exemplo, coordenadas_exemplo)\n",
        "\n",
        "# Imprimir a forma da região recortada\n",
        "print(regiao_recortada.shape)\n"
      ]
    },
    {
      "cell_type": "code",
      "execution_count": null,
      "metadata": {},
      "outputs": [],
      "source": [
        "# Processo de OCR para cada célula e preenchimento do dicionário\n",
        "for i in range(dados_da_tabela['labels'].shape[0]):\n",
        "    retangulo = dados_da_tabela['pixel_values'][i].tolist()\n",
        "    img_celula = recortar_imagem(img_pdf, retangulo)\n",
        "    texto_celula = pytesseract.image_to_string(img_celula, config=tesseract_config, lang='por')\n",
        "    \n",
        "    # Mapear o ID numérico do rótulo para o rótulo descritivo usando model.config.id2label\n",
        "    label_id = dados_da_tabela['labels'][i].item() if isinstance(dados_da_tabela['labels'][i], torch.Tensor) else dados_da_tabela['labels'][i]\n",
        "    label_descritivo = model.config.id2label[label_id]\n",
        "    \n",
        "    # Adicionar as informações ao dicionário\n",
        "    chave_celula = f'celula_{i}'\n",
        "    dados_da_tabela[chave_celula] = {\n",
        "        'coordenadas': retangulo,\n",
        "        'label': label_descritivo,\n",
        "        'texto': texto_celula\n",
        "    }\n",
        "\n",
        "# Remover as chaves originais, pois foram substituídas pelas chaves com informações completas\n",
        "chaves_originais = ['pixel_values', 'labels']\n",
        "for chave_original in chaves_originais:\n",
        "    dados_da_tabela.pop(chave_original)\n",
        "\n",
        "# Agora o dicionário 'dados_da_tabela' contém informações completas de cada célula detectada\n",
        "print(dados_da_tabela)\n"
      ]
    },
    {
      "cell_type": "code",
      "execution_count": null,
      "metadata": {},
      "outputs": [],
      "source": [
        "print(dados_da_tabela)\n",
        "\n"
      ]
    },
    {
      "cell_type": "code",
      "execution_count": null,
      "metadata": {},
      "outputs": [],
      "source": [
        "dados_da_tabela.shape"
      ]
    },
    {
      "cell_type": "code",
      "execution_count": null,
      "metadata": {},
      "outputs": [],
      "source": [
        "labels_ids.shape"
      ]
    },
    {
      "cell_type": "code",
      "execution_count": null,
      "metadata": {},
      "outputs": [],
      "source": [
        "# Processo de OCR para cada célula e preenchimento do dicionário\n",
        "for i in range(dados_da_tabela.shape[0]):\n",
        "    retangulo = dados_da_tabela[i, :].tolist()  # Converter o tensor para uma lista de coordenadas\n",
        "    img_celula = recortar_imagem(file_path, retangulo)\n",
        "    texto_celula = pytesseract.image_to_string(img_celula, config=tesseract_config, lang='por')\n",
        "    \n",
        "    # Mapear o ID numérico do rótulo para o rótulo descritivo usando model.config.id2label\n",
        "    label_id = dados_da_tabela['labels'][i].item() if isinstance(dados_da_tabela['labels'][i], torch.Tensor) else dados_da_tabela['labels'][i]\n",
        "    label_descritivo = model.config.id2label[label_id]\n",
        "    \n",
        "    # Adicionar as informações ao dicionário\n",
        "    chave_celula = f'celula_{i}'\n",
        "    dados_da_tabela[chave_celula] = {\n",
        "        'coordenadas': retangulo,\n",
        "        'label': label_descritivo,\n",
        "        'texto': texto_celula\n",
        "    }\n",
        "\n",
        "# Remover as chaves originais, pois foram substituídas pelas chaves com informações completas\n",
        "chaves_originais = ['pixel_values', 'labels']\n",
        "for chave_original in chaves_originais:\n",
        "    dados_da_tabela.pop(chave_original)\n",
        "\n",
        "# Agora o dicionário 'dados_da_tabela' contém informações completas de cada célula detectada\n",
        "print(dados_da_tabela)\n"
      ]
    },
    {
      "cell_type": "code",
      "execution_count": null,
      "metadata": {},
      "outputs": [],
      "source": [
        "dados_da_tabela['labels']"
      ]
    },
    {
      "cell_type": "code",
      "execution_count": null,
      "metadata": {},
      "outputs": [],
      "source": [
        "# Processo de OCR para cada célula e preenchimento do dicionário\n",
        "for i in range(dados_da_tabela.shape[0]):\n",
        "    retangulo = dados_da_tabela[i, :]\n",
        "    img_celula = recortar_imagem(file_path, retangulo)\n",
        "    texto_celula = pytesseract.image_to_string(img_celula, config=tesseract_config, lang='por')\n",
        "    \n",
        "    # Mapear o ID numérico do rótulo para o rótulo descritivo usando model.config.id2label\n",
        "    label_id = dados_da_tabela['labels'][i].item() if isinstance(dados_da_tabela['labels'][i], torch.Tensor) else dados_da_tabela['labels'][i]\n",
        "    label_descritivo = model.config.id2label[label_id]\n",
        "    \n",
        "    # Adicionar as informações ao dicionário\n",
        "    chave_celula = f'celula_{i}'\n",
        "    dados_da_tabela[chave_celula] = {\n",
        "        'coordenadas': retangulo.tolist(),\n",
        "        'label': label_descritivo,\n",
        "        'texto': texto_celula\n",
        "    }\n",
        "\n",
        "# Remover as chaves originais, pois foram substituídas pelas chaves com informações completas\n",
        "chaves_originais = ['pixel_values', 'labels']\n",
        "for chave_original in chaves_originais:\n",
        "    dados_da_tabela.pop(chave_original)\n",
        "\n",
        "# Agora o dicionário 'dados_da_tabela' contém informações completas de cada célula detectada\n",
        "print(dados_da_tabela)\n"
      ]
    },
    {
      "cell_type": "code",
      "execution_count": null,
      "metadata": {},
      "outputs": [],
      "source": []
    },
    {
      "cell_type": "code",
      "execution_count": null,
      "metadata": {},
      "outputs": [],
      "source": []
    },
    {
      "cell_type": "code",
      "execution_count": null,
      "metadata": {},
      "outputs": [],
      "source": []
    },
    {
      "cell_type": "code",
      "execution_count": null,
      "metadata": {},
      "outputs": [],
      "source": []
    },
    {
      "cell_type": "code",
      "execution_count": null,
      "metadata": {},
      "outputs": [],
      "source": [
        "# Processo de OCR para cada célula e preenchimento do dicionário\n",
        "#tesseract_config = '--oem 1'  # Defina as configurações específicas do Tesseract aqui, se necessário\n",
        "for i in range(len(dados_da_tabela['pixel_values'])):\n",
        "    retangulo = dados_da_tabela['pixel_values'][i]\n",
        "    img_celula = recortar_imagem(file_path, retangulo)\n",
        "    texto_celula = pytesseract.image_to_string(img_celula, config=tesseract_config, lang='por')\n",
        "    \n",
        "    # Mapear o ID numérico do rótulo para o rótulo descritivo usando model.config.id2label\n",
        "    label_id = dados_da_tabela['labels'][i].item() if isinstance(dados_da_tabela['labels'][i], torch.Tensor) else dados_da_tabela['labels'][i]\n",
        "    label_descritivo = model.config.id2label[label_id]\n",
        "    \n",
        "    # Adicionar as informações ao dicionário\n",
        "    chave_celula = f'celula_{i}'\n",
        "    dados_da_tabela[chave_celula] = {\n",
        "        'coordenadas': retangulo.tolist(),\n",
        "        'label': label_descritivo,\n",
        "        'texto': texto_celula\n",
        "    }\n",
        "\n",
        "# Remover as chaves originais, pois foram substituídas pelas chaves com informações completas\n",
        "chaves_originais = ['pixel_values', 'pixel_mask', 'labels']\n",
        "for chave_original in chaves_originais:\n",
        "    dados_da_tabela.pop(chave_original)\n",
        "\n",
        "# Agora o dicionário 'dados_da_tabela' contém informações completas de cada célula detectada\n",
        "print(dados_da_tabela)\n"
      ]
    },
    {
      "cell_type": "code",
      "execution_count": null,
      "metadata": {},
      "outputs": [],
      "source": [
        "# Verificar o tipo de dados do tensor 'pixel_values'\n",
        "print(type(dados_da_tabela['pixel_values']))\n",
        "\n",
        "# Verificar a forma do tensor 'pixel_values'\n",
        "print(dados_da_tabela['pixel_values'].shape)\n",
        "\n",
        "# Verificar o tipo de dados do tensor 'labels'\n",
        "print(type(dados_da_tabela['labels']))\n",
        "\n",
        "# Verificar a forma do tensor 'labels'\n",
        "print(dados_da_tabela['labels'].shape)\n",
        "\n",
        "\n"
      ]
    },
    {
      "cell_type": "code",
      "execution_count": null,
      "metadata": {},
      "outputs": [],
      "source": [
        "# Verificar os elementos do tensor 'pixel_values'\n",
        "print(dados_da_tabela['pixel_values'])\n",
        "\n",
        "# Verificar os elementos do tensor 'labels'\n",
        "print(dados_da_tabela['labels'])\n"
      ]
    },
    {
      "cell_type": "code",
      "execution_count": null,
      "metadata": {},
      "outputs": [],
      "source": []
    },
    {
      "cell_type": "code",
      "execution_count": null,
      "metadata": {},
      "outputs": [],
      "source": []
    },
    {
      "cell_type": "code",
      "execution_count": null,
      "metadata": {},
      "outputs": [],
      "source": [
        "# Remover as chaves originais, pois foram substituídas pelas chaves com informações completas\n",
        "chaves_originais = list(range(len(dados_da_tabela)))\n",
        "for chave_original in chaves_originais:\n",
        "    dados_da_tabela.pop(chave_original)"
      ]
    },
    {
      "cell_type": "code",
      "execution_count": null,
      "metadata": {},
      "outputs": [],
      "source": [
        "celulas_detectadas = []\n",
        "for i in range(len(dados_da_tabela)):\n",
        "    retangulo = dados_da_tabela[i]\n",
        "    img_celula = recortar_imagem(file_path, retangulo)\n",
        "    texto_celula = pytesseract.image_to_string(img_celula, lang='por')\n",
        "    \n",
        "    # Mapear o ID numérico do rótulo para o rótulo descritivo usando model.config.id2label\n",
        "    label_id = labels_ids[i].item() if isinstance(labels_ids[i], torch.Tensor) else labels_ids[i]\n",
        "    label_descritivo = model.config.id2label[label_id]\n",
        "    \n",
        "    # Criar objeto CelulaTabela e adicioná-lo à lista de células_detectadas\n",
        "    celula = CelulaTabela(coordenadas=retangulo, label=label_descritivo, texto=texto_celula)\n",
        "    celulas_detectadas.append(celula)\n",
        "\n",
        "# Agora a lista celulas_detectadas contém objetos CelulaTabela com informações de cada célula detectada\n",
        "# Você pode acessar as informações de cada célula usando os atributos da classe\n",
        "for celula in celulas_detectadas:\n",
        "    print(\"Coordenadas:\", celula.coordenadas)\n",
        "    print(\"Label:\", celula.label)\n",
        "    print(\"Texto:\", celula.texto)\n",
        "    print(\"-\" * 30)"
      ]
    },
    {
      "cell_type": "code",
      "execution_count": null,
      "metadata": {},
      "outputs": [],
      "source": [
        "# Função para recortar a imagem com base nas coordenadas do retângulo\n",
        "def recortar_imagem(img, coordenadas):\n",
        "    x_min, y_min, x_max, y_max = coordenadas\n",
        "    return img[int(y_min):int(y_max), int(x_min):int(x_max)]\n",
        "\n",
        "# Processo de OCR para cada célula e preenchimento do dicionário\n",
        "for i, retangulo in enumerate(retangulos):\n",
        "    img_celula = recortar_imagem(img_pdf, retangulo)\n",
        "    texto_celula = pytesseract.image_to_string(img_celula, lang='por')\n",
        "    \n",
        "    # Mapear o ID numérico do rótulo para o rótulo descritivo usando model.config.id2label\n",
        "    label_id = labels_ids[i]\n",
        "    label_descritivo = model.config.id2label[label_id]\n",
        "    \n",
        "    # Adicionar as informações ao dicionário\n",
        "    chave_celula = f'celula_{i}'\n",
        "    dados_da_tabela[chave_celula] = {\n",
        "        'coordenadas': retangulo,\n",
        "        'label': label_descritivo,\n",
        "        'texto': texto_celula\n",
        "    }\n",
        "\n",
        "# Agora o dicionário 'dados_da_tabela' contém informações completas de cada célula detectada\n",
        "print(dados_da_tabela)\n"
      ]
    },
    {
      "cell_type": "code",
      "execution_count": null,
      "metadata": {},
      "outputs": [],
      "source": [
        "\n",
        "dados_da_tabela = {}\n",
        "for i, retangulo in enumerate(retangulos):\n",
        "    img_celula = recortar_imagem(img_pdf, retangulo)\n",
        "    texto_celula = pytesseract.image_to_string(img_celula, lang='por')\n",
        "    chave_celula = f'celula_{i}'  # Ou use outra forma de identificar a célula, se preferir\n",
        "    dados_da_tabela[chave_celula] = texto_celula\n",
        "\n",
        "# Agora 'dados_da_tabela' é um dicionário que mapeia cada célula ao seu conteúdo lido pelo OCR.\n",
        "print(dados_da_tabela)"
      ]
    },
    {
      "cell_type": "code",
      "execution_count": null,
      "metadata": {},
      "outputs": [],
      "source": [
        "retangulos"
      ]
    },
    {
      "cell_type": "code",
      "execution_count": null,
      "metadata": {},
      "outputs": [],
      "source": [
        "labels_ids"
      ]
    },
    {
      "cell_type": "code",
      "execution_count": null,
      "metadata": {},
      "outputs": [],
      "source": [
        "for dado in dados_da_tabela.items():\n",
        "    print(dado)"
      ]
    },
    {
      "cell_type": "code",
      "execution_count": null,
      "metadata": {},
      "outputs": [],
      "source": [
        "\n",
        "# Exemplo de resultados de OCR para cada célula\n",
        "texto_das_celulas = [\"Conteúdo da célula 1\", \"Conteúdo da célula 2\", \"...\"]\n",
        "\n",
        "# Criação do dicionário para armazenar os dados de cada detecção\n",
        "dados_da_tabela = []\n",
        "\n",
        "for i, label_id in enumerate(labels_ids):\n",
        "    # Obtém o rótulo descritivo com base no ID numérico usando model.config.id2label\n",
        "    rótulo_descritivo = model.config.id2label[label_id]\n",
        "\n",
        "    # Obtém o texto correspondente à célula detectada usando o OCR\n",
        "    texto_celula = texto_das_celulas[i]\n",
        "\n",
        "    # Armazena todas as informações relevantes sobre a detecção em um dicionário\n",
        "    detecao = {\n",
        "        'label': rótulo_descritivo,\n",
        "        'texto': texto_celula,\n",
        "        # Adicione aqui outras informações relevantes, como coordenadas do retângulo, confiança da detecção, etc.\n",
        "    }\n",
        "\n",
        "    # Adiciona o dicionário da detecção à lista geral de dados da tabela\n",
        "    dados_da_tabela.append(detecao)\n",
        "\n",
        "# Agora 'dados_da_tabela' é uma lista de dicionários, cada dicionário contendo informações sobre uma detecção.\n",
        "print(dados_da_tabela)\n"
      ]
    },
    {
      "cell_type": "markdown",
      "metadata": {},
      "source": [
        "### Using Thinker"
      ]
    },
    {
      "cell_type": "code",
      "execution_count": null,
      "metadata": {},
      "outputs": [],
      "source": []
    }
  ],
  "metadata": {
    "colab": {
      "provenance": []
    },
    "kernelspec": {
      "display_name": "Python 3",
      "name": "python3"
    },
    "language_info": {
      "codemirror_mode": {
        "name": "ipython",
        "version": 3
      },
      "file_extension": ".py",
      "mimetype": "text/x-python",
      "name": "python",
      "nbconvert_exporter": "python",
      "pygments_lexer": "ipython3",
      "version": "3.10.9"
    }
  },
  "nbformat": 4,
  "nbformat_minor": 0
}
