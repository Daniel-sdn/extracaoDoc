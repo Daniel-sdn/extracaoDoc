{
 "cells": [
  {
   "attachments": {},
   "cell_type": "markdown",
   "metadata": {},
   "source": [
    "## 1. Ents"
   ]
  },
  {
   "cell_type": "code",
   "execution_count": 1,
   "metadata": {},
   "outputs": [],
   "source": [
    "import json\n",
    "import spacy\n",
    "from spacy import displacy\n",
    "import pandas as pd\n",
    "from spacy.tokens import Span\n",
    "\n",
    "\n",
    "nlp = spacy.load(\"pt_core_news_sm\")"
   ]
  },
  {
   "cell_type": "code",
   "execution_count": 2,
   "metadata": {},
   "outputs": [],
   "source": [
    "ner = nlp.remove_pipe('ner')\n",
    "ruler = nlp.add_pipe(\"entity_ruler\")"
   ]
  },
  {
   "cell_type": "code",
   "execution_count": 3,
   "metadata": {},
   "outputs": [],
   "source": [
    "# Principais funcoes\n",
    "\n",
    "def show_ent_new(text, patterns):\n",
    "    #nlp = spacy.blank(\"pt\")\n",
    "    #ruler = nlp.add_pipe(\"entity_ruler\")\n",
    "    ruler.add_patterns(patterns)\n",
    "    doc = nlp(text)\n",
    "    \n",
    "    tokens = []\n",
    "    ents = []\n",
    "    \n",
    "    for ent in doc.ents:\n",
    "        span = doc.char_span(ent.start_char, ent.end_char, label=ent.label_)\n",
    "        ents.append(span)\n",
    "        \n",
    "    for token in doc:\n",
    "        start = token.idx\n",
    "        end = start + len(token)\n",
    "        tokens.append((token.text, start, end))\n",
    "        \n",
    "    return doc, tokens, ents\n",
    "\n",
    "\n",
    "def write_patterns_to_file(patterns, colors, filename):\n",
    "    data = {\"patterns\": patterns, \"colors\": colors}\n",
    "    with open(filename, \"w\") as f:\n",
    "        json.dump(data, f, ensure_ascii=False, indent=2)\n",
    "        \n",
    "def load_patterns_and_colors(filename):\n",
    "    with open(filename, \"r\", encoding=\"utf-8\") as f:\n",
    "        data = json.load(f)\n",
    "        patterns = data[\"patterns\"]\n",
    "        colors = data[\"colors\"]\n",
    "    return patterns, colors   \n",
    "\n",
    "\n",
    "\n",
    "\n",
    "# chunk.text, chunk.start, chunk.end, chunk.root.head.lemma_, chunk.root.dep_, chunk.doc\n",
    "def load_json(filename):\n",
    "    with open(filename, \"r\", encoding=\"utf-8\") as f:\n",
    "        data = json.load(f)\n",
    "    return data"
   ]
  },
  {
   "cell_type": "code",
   "execution_count": 4,
   "metadata": {},
   "outputs": [],
   "source": [
    "colors = {\n",
    "        \"CULTURA\": \"linear-gradient(90deg, #2ADB5E, #1FA346)\", \n",
    "        \"TOTAL\": \"linear-gradient(90deg, #09D6FF, #08A0D1)\",\n",
    "        \"ENTREGUE\": \"linear-gradient(90deg, #09D6FF, #08A0D1)\",\n",
    "        \"SALDO\": \"linear-gradient(90deg, #09D6FF, #08A0D1)\", \n",
    "        \"FAZENDA\": \"linear-gradient(90deg, #aa9cfc, #fc9ce7)\", \n",
    "        \"SAFRA\": \"linear-gradient(90deg, #FFC90E, #BA930A)\", \n",
    "        \"CONTRATO\": \"linear-gradient(90deg, #B5B5B5, #8A8A8A)\"}\n",
    "\n",
    "\n",
    "patternsOthers = [{\"label\": \"PERSON\", \"pattern\": \"Daniel\", \"id\": \"daniel\"},\n",
    "                  {\"label\": \"ORG\", \"pattern\": [{\"LOWER\": \"fast\"}, {\"LOWER\": \"innovation\"}], \"id\": \"fast-innovation\"}] \n",
    " \n",
    "\n",
    "patternsCult = [\n",
    "    {\n",
    "        \"label\":\"CULTURA\",\n",
    "        \"pattern\": [\n",
    "            {\"LOWER\": \"soja\", \"OP\":\"?\"},\n",
    "            {\"LOWER\": \"milho\", \"OP\":\"?\"},\n",
    "        ]    \n",
    "    }\n",
    "]  \n",
    "\n",
    "patternsQuant = [\n",
    "    {\n",
    "        \"label\":\"TOTAL\",\n",
    "        \"pattern\": [\n",
    "            {\"LOWER\": \"total\"},\n",
    "            {\"LOWER\": \"quantidade\", \"OP\":\"?\"},\n",
    "            \n",
    "        ]    \n",
    "    },\n",
    "    {\n",
    "        \"label\":\"ENTREGUE\",\n",
    "        \"pattern\": [\n",
    "            {\"LOWER\": \"quantidade\", \"OP\":\"?\"},\n",
    "            {\"LOWER\": \"entregue\",\"OP\":\"?\"},\n",
    "            {\"LOWER\": \"entregues\",\"OP\":\"?\"},\n",
    "            {\"LOWER\": \"entregado\",\"OP\":\"?\"},\n",
    "            {\"LOWER\": \"entreguei\",\"OP\":\"?\"},\n",
    "        ]    \n",
    "    },\n",
    "    {\n",
    "        \"label\":\"SALDO\",\n",
    "        \"pattern\": [\n",
    "            {\"LOWER\": \"saldo\"},\n",
    "            {\"LOWER\": \"quantidade\", \"OP\":\"?\"},\n",
    "            {\"LOWER\": \"total\", \"OP\":\"?\"},\n",
    "        ]    \n",
    "    }\n",
    "    \n",
    "]\n",
    "\n",
    "patternsSafra = [\n",
    "    {\n",
    "        \"label\":\"SAFRA\",\n",
    "        \"pattern\": [\n",
    "            {\"LOWER\": \"safra\", \"OP\":\"?\"},\n",
    "            {\"LOWER\": \"safras\", \"OP\":\"?\"},\n",
    "            {\"SHAPE\": \"dd/dd\"},\n",
    "        ]    \n",
    "    }\n",
    "]\n",
    "\n",
    "\n",
    "patternsFazenda = [\n",
    "    {\n",
    "        \"label\":\"FAZENDA\",\n",
    "        \"pattern\":[\n",
    "            {\"ORTH\": \"Santa\"}, {\"ORTH\": \"Rita\"},\n",
    "        ]\n",
    "        \n",
    "    }\n",
    "]\n",
    "\n",
    "\n",
    "patternsContrato = [\n",
    "    {\n",
    "        \"label\":\"CONTRATO\",\n",
    "        \"pattern\": [\n",
    "            {\"LOWER\": \"contrato\", \"OP\":\"*\"},\n",
    "            {\"SHAPE\": \"dddX\", \"OP\":\"*\"},\n",
    "            {\"LOWER\": \"contratos\", \"OP\":\"*\"},\n",
    "            \n",
    "        ]\n",
    "        \n",
    "    }\n",
    "    \n",
    "]\n",
    "\n",
    "patterns = patternsCult + patternsQuant + patternsFazenda + patternsSafra + patternsContrato + patternsOthers"
   ]
  },
  {
   "cell_type": "code",
   "execution_count": 5,
   "metadata": {},
   "outputs": [],
   "source": [
    "text = \"Quantos quilos de milho já foram entregues pela fazenda Santa Rita no contrato atual?\""
   ]
  },
  {
   "cell_type": "code",
   "execution_count": 6,
   "metadata": {},
   "outputs": [],
   "source": [
    "doc, tokens, ents = show_ent_new(text, patterns=patterns)\n",
    "\n",
    "## GARANTIR que a ordem dos Tokens esteja correta (ascendente)\n",
    "seq_tokens_id = []\n",
    "\n",
    "seq_tokens_valor = []\n",
    "\n",
    "\n",
    "## tokens_ids + Lista de todos os Tokens da frase\n",
    "for token in doc:\n",
    "    seq_tokens_id.append(token.i)"
   ]
  },
  {
   "cell_type": "code",
   "execution_count": 7,
   "metadata": {},
   "outputs": [
    {
     "data": {
      "text/html": [
       "<span class=\"tex2jax_ignore\"><div class=\"entities\" style=\"line-height: 2.5; direction: ltr\">Quantos quilos de \n",
       "<mark class=\"entity\" style=\"background: linear-gradient(90deg, #2ADB5E, #1FA346); padding: 0.45em 0.6em; margin: 0 0.25em; line-height: 1; border-radius: 0.35em;\">\n",
       "    milho\n",
       "    <span style=\"font-size: 0.8em; font-weight: bold; line-height: 1; border-radius: 0.35em; vertical-align: middle; margin-left: 0.5rem\">CULTURA</span>\n",
       "</mark>\n",
       " já foram \n",
       "<mark class=\"entity\" style=\"background: linear-gradient(90deg, #09D6FF, #08A0D1); padding: 0.45em 0.6em; margin: 0 0.25em; line-height: 1; border-radius: 0.35em;\">\n",
       "    entregues\n",
       "    <span style=\"font-size: 0.8em; font-weight: bold; line-height: 1; border-radius: 0.35em; vertical-align: middle; margin-left: 0.5rem\">ENTREGUE</span>\n",
       "</mark>\n",
       " pela fazenda \n",
       "<mark class=\"entity\" style=\"background: linear-gradient(90deg, #aa9cfc, #fc9ce7); padding: 0.45em 0.6em; margin: 0 0.25em; line-height: 1; border-radius: 0.35em;\">\n",
       "    Santa Rita\n",
       "    <span style=\"font-size: 0.8em; font-weight: bold; line-height: 1; border-radius: 0.35em; vertical-align: middle; margin-left: 0.5rem\">FAZENDA</span>\n",
       "</mark>\n",
       " no \n",
       "<mark class=\"entity\" style=\"background: linear-gradient(90deg, #B5B5B5, #8A8A8A); padding: 0.45em 0.6em; margin: 0 0.25em; line-height: 1; border-radius: 0.35em;\">\n",
       "    contrato\n",
       "    <span style=\"font-size: 0.8em; font-weight: bold; line-height: 1; border-radius: 0.35em; vertical-align: middle; margin-left: 0.5rem\">CONTRATO</span>\n",
       "</mark>\n",
       " atual?</div></span>"
      ],
      "text/plain": [
       "<IPython.core.display.HTML object>"
      ]
     },
     "metadata": {},
     "output_type": "display_data"
    }
   ],
   "source": [
    "displacy.render(doc, style=\"ent\", options={\"colors\": colors})"
   ]
  },
  {
   "cell_type": "code",
   "execution_count": 8,
   "metadata": {},
   "outputs": [
    {
     "name": "stdout",
     "output_type": "stream",
     "text": [
      " 3 |                milho |  CULTURA |  4 || 18 | 23\n",
      " 6 |            entregues | ENTREGUE |  7 || 33 | 42\n",
      " 9 |           Santa Rita |  FAZENDA | 11 || 56 | 66\n",
      "12 |             contrato | CONTRATO | 13 || 70 | 78\n"
     ]
    }
   ],
   "source": [
    "for ent in doc.ents:\n",
    "    print(f'{ent.start:>2} | {ent.text:>20} | {ent.label_:>8} | {ent.end:>2} || {ent.start_char:>2} | {ent.end_char:>2}')\n",
    "    seq_tokens_valor.append(ent.text)"
   ]
  },
  {
   "attachments": {},
   "cell_type": "markdown",
   "metadata": {},
   "source": [
    "## 2. Noun_chunks"
   ]
  },
  {
   "attachments": {},
   "cell_type": "markdown",
   "metadata": {},
   "source": [
    "2.1 - analises noun_chunks"
   ]
  },
  {
   "cell_type": "code",
   "execution_count": 9,
   "metadata": {},
   "outputs": [
    {
     "name": "stdout",
     "output_type": "stream",
     "text": [
      "1.chunk.text:  Quantos quilos |   0   2 |   0 14 \n",
      "1.chunk.text:           milho |   3   4 |  18 23 \n",
      "1.chunk.text:         fazenda |   8   9 |  48 55 \n",
      "1.chunk.text:      Santa Rita |   9  11 |  56 66 \n",
      "1.chunk.text:  contrato atual |  12  14 |  70 84 \n"
     ]
    }
   ],
   "source": [
    "# VISUALIAZACAO RESUMIDA _ ENTS\n",
    "\n",
    "for chunk in doc.noun_chunks:\n",
    "  chunk_text = chunk.text\n",
    "  chunk_root = chunk.root.text\n",
    "  chunk_root_dep = chunk.root.dep_\n",
    "  chunk_root_head = chunk.root.head.text\n",
    "  chunk_root_head_dep = chunk.root.head.dep_\n",
    "  chunk_root_head_lemma = chunk.root.head.lemma_\n",
    "  \n",
    "  chunk_ents = chunk.ents\n",
    "  chunk_root_ent_type = chunk.root.ent_type_\n",
    "  \n",
    "  print(f'1.chunk.text: {chunk_text:>15} |  {chunk.start:>2}  {chunk.end:>2} |  {chunk.start_char:>2} {chunk.end_char:>2} ')"
   ]
  },
  {
   "cell_type": "code",
   "execution_count": 16,
   "metadata": {},
   "outputs": [
    {
     "name": "stdout",
     "output_type": "stream",
     "text": [
      "1.chunk.text:  Quantos quilos | 2.ch.root:     quilos | 3.chunk.root.dep_: nsubj:pass | 4.chunk_root_ent_type              | 5.chunk_ents [] \n",
      "1.chunk.text:           milho | 2.ch.root:      milho | 3.chunk.root.dep_:       nmod | 4.chunk_root_ent_type      CULTURA | 5.chunk_ents [milho] \n",
      "1.chunk.text:         fazenda | 2.ch.root:    fazenda | 3.chunk.root.dep_:  obl:agent | 4.chunk_root_ent_type              | 5.chunk_ents [] \n",
      "1.chunk.text:      Santa Rita | 2.ch.root:      Santa | 3.chunk.root.dep_:      appos | 4.chunk_root_ent_type      FAZENDA | 5.chunk_ents [Santa Rita] \n",
      "1.chunk.text:  contrato atual | 2.ch.root:   contrato | 3.chunk.root.dep_:       nmod | 4.chunk_root_ent_type     CONTRATO | 5.chunk_ents [contrato] \n"
     ]
    }
   ],
   "source": [
    "# VISUALIAZACAO RESUMIDA _ ENTS\n",
    "\n",
    "for chunk in doc.noun_chunks:\n",
    "  chunk_text = chunk.text\n",
    "  chunk_root = chunk.root.text\n",
    "  chunk_root_dep = chunk.root.dep_\n",
    "  chunk_root_head = chunk.root.head.text\n",
    "  chunk_root_head_dep = chunk.root.head.dep_\n",
    "  chunk_root_head_lemma = chunk.root.head.lemma_\n",
    "  \n",
    "  chunk_ents = chunk.ents\n",
    "  chunk_root_ent_type = chunk.root.ent_type_\n",
    "  \n",
    "  print(f'1.chunk.text: {chunk_text:>15} | 2.ch.root: {chunk_root:>10} | 3.chunk.root.dep_: {chunk_root_dep:>10} | 4.chunk_root_ent_type {chunk_root_ent_type:>12} | 5.chunk_ents {chunk_ents} ')"
   ]
  },
  {
   "cell_type": "code",
   "execution_count": 17,
   "metadata": {},
   "outputs": [
    {
     "name": "stdout",
     "output_type": "stream",
     "text": [
      "1.chunk.text:  Quantos quilos | 2.ch.root:     quilos | 3.chunk.root.dep_:      nsubj:pass | 4.ch.root.head:    entregues | 5.ch.root.head.dep_:       ROOT |  6.chunk.root.head.lemma_:  entregar\n",
      "1.chunk.text:           milho | 2.ch.root:      milho | 3.chunk.root.dep_:            nmod | 4.ch.root.head:       quilos | 5.ch.root.head.dep_: nsubj:pass |  6.chunk.root.head.lemma_:     quilo\n",
      "1.chunk.text:         fazenda | 2.ch.root:    fazenda | 3.chunk.root.dep_:       obl:agent | 4.ch.root.head:    entregues | 5.ch.root.head.dep_:       ROOT |  6.chunk.root.head.lemma_:  entregar\n",
      "1.chunk.text:      Santa Rita | 2.ch.root:      Santa | 3.chunk.root.dep_:           appos | 4.ch.root.head:      fazenda | 5.ch.root.head.dep_:  obl:agent |  6.chunk.root.head.lemma_:   fazenda\n",
      "1.chunk.text:  contrato atual | 2.ch.root:   contrato | 3.chunk.root.dep_:            nmod | 4.ch.root.head:      fazenda | 5.ch.root.head.dep_:  obl:agent |  6.chunk.root.head.lemma_:   fazenda\n"
     ]
    }
   ],
   "source": [
    "# VISUALIAZACAO ESTRUTURA DEP, HEAD, ROOT, LEMMA\n",
    "chunks_valor = []\n",
    "\n",
    "\n",
    "for chunk in doc.noun_chunks:\n",
    "  chunk_text = chunk.text\n",
    "  chunks_valor.append(chunk_text)\n",
    "  chunk_root = chunk.root.text\n",
    "  chunk_root_dep = chunk.root.dep_\n",
    "  chunk_root_head = chunk.root.head.text\n",
    "  chunk_root_head_dep = chunk.root.head.dep_\n",
    "  chunk_root_head_lemma = chunk.root.head.lemma_\n",
    "  chunk_ents = chunk.ents\n",
    "  chunk_root_ent_type = chunk.root.ent_type_\n",
    "  \n",
    "  print(f'1.chunk.text: {chunk_text:>15} | 2.ch.root: {chunk_root:>10} | 3.chunk.root.dep_: {chunk_root_dep:>15} | 4.ch.root.head: {chunk_root_head:>12} | 5.ch.root.head.dep_: {chunk_root_head_dep:>10} |  6.chunk.root.head.lemma_: {chunk_root_head_lemma:>9}')"
   ]
  },
  {
   "attachments": {},
   "cell_type": "markdown",
   "metadata": {},
   "source": [
    "<h3><mark>Merging noun_chunks</mark></h3>"
   ]
  },
  {
   "cell_type": "code",
   "execution_count": 10,
   "metadata": {},
   "outputs": [],
   "source": [
    "filename = \"/home/wklinux/spaCy/query_utter.json\"  \n",
    "\n",
    "data = load_json(filename)"
   ]
  },
  {
   "cell_type": "code",
   "execution_count": 11,
   "metadata": {},
   "outputs": [],
   "source": [
    "text = \"Quantos quilos de milho já foram entregues pela fazenda Santa Rita no contrato atual?\""
   ]
  },
  {
   "cell_type": "code",
   "execution_count": 12,
   "metadata": {},
   "outputs": [],
   "source": [
    "doc2, tokens, ents = show_ent_new(text, patterns=patterns)\n",
    "\n",
    "## GARANTIR que a ordem dos Tokens esteja correta (ascendente)\n",
    "seq_tokens_id = []\n",
    "\n",
    "seq_tokens_valor = []\n",
    "\n",
    "\n",
    "## tokens_ids + Lista de todos os Tokens da frase\n",
    "for token in doc2:\n",
    "    seq_tokens_id.append(token.i)"
   ]
  },
  {
   "cell_type": "code",
   "execution_count": 13,
   "metadata": {},
   "outputs": [
    {
     "data": {
      "text/plain": [
       "Quantos quilos de milho já foram entregues pela fazenda Santa Rita no contrato atual?"
      ]
     },
     "execution_count": 13,
     "metadata": {},
     "output_type": "execute_result"
    }
   ],
   "source": [
    "doc2"
   ]
  },
  {
   "cell_type": "code",
   "execution_count": 14,
   "metadata": {},
   "outputs": [
    {
     "data": {
      "text/plain": [
       "<function spacy.pipeline.functions.merge_noun_chunks(doc: spacy.tokens.doc.Doc) -> spacy.tokens.doc.Doc>"
      ]
     },
     "execution_count": 14,
     "metadata": {},
     "output_type": "execute_result"
    }
   ],
   "source": [
    "nlp.add_pipe(\"merge_noun_chunks\")"
   ]
  },
  {
   "cell_type": "code",
   "execution_count": 15,
   "metadata": {},
   "outputs": [
    {
     "name": "stdout",
     "output_type": "stream",
     "text": [
      "1.chunk.text:  Quantos quilos | 2.ch.root:     quilos | 3.chunk.root.dep_:      nsubj:pass | 4.ch.root.head:    entregues | 5.ch.root.head.dep_:       ROOT |  6.chunk.root.head.lemma_:  entregar\n",
      "1.chunk.text:           milho | 2.ch.root:      milho | 3.chunk.root.dep_:            nmod | 4.ch.root.head:       quilos | 5.ch.root.head.dep_: nsubj:pass |  6.chunk.root.head.lemma_:     quilo\n",
      "1.chunk.text:         fazenda | 2.ch.root:    fazenda | 3.chunk.root.dep_:       obl:agent | 4.ch.root.head:    entregues | 5.ch.root.head.dep_:       ROOT |  6.chunk.root.head.lemma_:  entregar\n",
      "1.chunk.text:      Santa Rita | 2.ch.root:      Santa | 3.chunk.root.dep_:           appos | 4.ch.root.head:      fazenda | 5.ch.root.head.dep_:  obl:agent |  6.chunk.root.head.lemma_:   fazenda\n",
      "1.chunk.text:  contrato atual | 2.ch.root:   contrato | 3.chunk.root.dep_:            nmod | 4.ch.root.head:      fazenda | 5.ch.root.head.dep_:  obl:agent |  6.chunk.root.head.lemma_:   fazenda\n"
     ]
    }
   ],
   "source": [
    "# VISUALIAZACAO ESTRUTURA DEP, HEAD, ROOT, LEMMA\n",
    "chunks_valor = []\n",
    "\n",
    "\n",
    "for chunk in doc.noun_chunks:\n",
    "  chunk_text = chunk.text\n",
    "  chunks_valor.append(chunk_text)\n",
    "  chunk_root = chunk.root.text\n",
    "  chunk_root_dep = chunk.root.dep_\n",
    "  chunk_root_head = chunk.root.head.text\n",
    "  chunk_root_head_dep = chunk.root.head.dep_\n",
    "  chunk_root_head_lemma = chunk.root.head.lemma_\n",
    "  chunk_ents = chunk.ents\n",
    "  chunk_root_ent_type = chunk.root.ent_type_\n",
    "  \n",
    "  print(f'1.chunk.text: {chunk_text:>15} | 2.ch.root: {chunk_root:>10} | 3.chunk.root.dep_: {chunk_root_dep:>15} | 4.ch.root.head: {chunk_root_head:>12} | 5.ch.root.head.dep_: {chunk_root_head_dep:>10} |  6.chunk.root.head.lemma_: {chunk_root_head_lemma:>9}')"
   ]
  },
  {
   "cell_type": "code",
   "execution_count": 16,
   "metadata": {},
   "outputs": [
    {
     "name": "stdout",
     "output_type": "stream",
     "text": [
      "1.chunk.text:  Quantos quilos | 2.ch.root:     quilos | 3.chunk.root.dep_:      nsubj:pass | 4.ch.root.head:    entregues | 5.ch.root.head.dep_:       ROOT |  6.chunk.root.head.lemma_:  entregar\n",
      "1.chunk.text:           milho | 2.ch.root:      milho | 3.chunk.root.dep_:            nmod | 4.ch.root.head:       quilos | 5.ch.root.head.dep_: nsubj:pass |  6.chunk.root.head.lemma_:     quilo\n",
      "1.chunk.text:         fazenda | 2.ch.root:    fazenda | 3.chunk.root.dep_:       obl:agent | 4.ch.root.head:    entregues | 5.ch.root.head.dep_:       ROOT |  6.chunk.root.head.lemma_:  entregar\n",
      "1.chunk.text:      Santa Rita | 2.ch.root:      Santa | 3.chunk.root.dep_:           appos | 4.ch.root.head:      fazenda | 5.ch.root.head.dep_:  obl:agent |  6.chunk.root.head.lemma_:   fazenda\n",
      "1.chunk.text:  contrato atual | 2.ch.root:   contrato | 3.chunk.root.dep_:            nmod | 4.ch.root.head:      fazenda | 5.ch.root.head.dep_:  obl:agent |  6.chunk.root.head.lemma_:   fazenda\n"
     ]
    }
   ],
   "source": [
    "# VISUALIAZACAO ESTRUTURA DEP, HEAD, ROOT, LEMMA\n",
    "chunks_valor = []\n",
    "\n",
    "\n",
    "for chunk in doc.noun_chunks:\n",
    "  chunk_text = chunk.text\n",
    "  chunks_valor.append(chunk_text)\n",
    "  chunk_root = chunk.root.text\n",
    "  chunk_root_dep = chunk.root.dep_\n",
    "  chunk_root_head = chunk.root.head.text\n",
    "  chunk_root_head_dep = chunk.root.head.dep_\n",
    "  chunk_root_head_lemma = chunk.root.head.lemma_\n",
    "  chunk_ents = chunk.ents\n",
    "  chunk_root_ent_type = chunk.root.ent_type_\n",
    "  \n",
    "  print(f'1.chunk.text: {chunk_text:>15} | 2.ch.root: {chunk_root:>10} | 3.chunk.root.dep_: {chunk_root_dep:>15} | 4.ch.root.head: {chunk_root_head:>12} | 5.ch.root.head.dep_: {chunk_root_head_dep:>10} |  6.chunk.root.head.lemma_: {chunk_root_head_lemma:>9}')"
   ]
  },
  {
   "cell_type": "code",
   "execution_count": 17,
   "metadata": {},
   "outputs": [
    {
     "data": {
      "text/plain": [
       "[0, 1, 2, 3, 4, 5, 6, 7, 8, 9, 10, 11, 12, 13, 14]"
      ]
     },
     "execution_count": 17,
     "metadata": {},
     "output_type": "execute_result"
    }
   ],
   "source": [
    "seq_tokens_id"
   ]
  },
  {
   "cell_type": "code",
   "execution_count": 18,
   "metadata": {},
   "outputs": [
    {
     "data": {
      "text/html": [
       "<span class=\"tex2jax_ignore\"><div class=\"entities\" style=\"line-height: 2.5; direction: ltr\">Quantos quilos de \n",
       "<mark class=\"entity\" style=\"background: linear-gradient(90deg, #2ADB5E, #1FA346); padding: 0.45em 0.6em; margin: 0 0.25em; line-height: 1; border-radius: 0.35em;\">\n",
       "    milho\n",
       "    <span style=\"font-size: 0.8em; font-weight: bold; line-height: 1; border-radius: 0.35em; vertical-align: middle; margin-left: 0.5rem\">CULTURA</span>\n",
       "</mark>\n",
       " já foram \n",
       "<mark class=\"entity\" style=\"background: linear-gradient(90deg, #09D6FF, #08A0D1); padding: 0.45em 0.6em; margin: 0 0.25em; line-height: 1; border-radius: 0.35em;\">\n",
       "    entregues\n",
       "    <span style=\"font-size: 0.8em; font-weight: bold; line-height: 1; border-radius: 0.35em; vertical-align: middle; margin-left: 0.5rem\">ENTREGUE</span>\n",
       "</mark>\n",
       " pela fazenda \n",
       "<mark class=\"entity\" style=\"background: linear-gradient(90deg, #aa9cfc, #fc9ce7); padding: 0.45em 0.6em; margin: 0 0.25em; line-height: 1; border-radius: 0.35em;\">\n",
       "    Santa Rita\n",
       "    <span style=\"font-size: 0.8em; font-weight: bold; line-height: 1; border-radius: 0.35em; vertical-align: middle; margin-left: 0.5rem\">FAZENDA</span>\n",
       "</mark>\n",
       " no \n",
       "<mark class=\"entity\" style=\"background: linear-gradient(90deg, #B5B5B5, #8A8A8A); padding: 0.45em 0.6em; margin: 0 0.25em; line-height: 1; border-radius: 0.35em;\">\n",
       "    contrato\n",
       "    <span style=\"font-size: 0.8em; font-weight: bold; line-height: 1; border-radius: 0.35em; vertical-align: middle; margin-left: 0.5rem\">CONTRATO</span>\n",
       "</mark>\n",
       " atual?</div></span>"
      ],
      "text/plain": [
       "<IPython.core.display.HTML object>"
      ]
     },
     "metadata": {},
     "output_type": "display_data"
    }
   ],
   "source": [
    "displacy.render(doc2, style='ent',\n",
    "                jupyter=True, options={'distance': 120, \"colors\": colors})\n"
   ]
  },
  {
   "cell_type": "code",
   "execution_count": 46,
   "metadata": {},
   "outputs": [
    {
     "data": {
      "text/plain": [
       "[Quantos quilos, milho, fazenda, Santa Rita, contrato atual]"
      ]
     },
     "execution_count": 46,
     "metadata": {},
     "output_type": "execute_result"
    }
   ],
   "source": [
    "[chunk for chunk in doc.noun_chunks]"
   ]
  },
  {
   "cell_type": "code",
   "execution_count": 20,
   "metadata": {},
   "outputs": [
    {
     "data": {
      "text/plain": [
       "'Quantos quilos'"
      ]
     },
     "execution_count": 20,
     "metadata": {},
     "output_type": "execute_result"
    }
   ],
   "source": [
    "chunk_text = [chunk.text for chunk in doc.noun_chunks][0]\n",
    "chunk_text"
   ]
  },
  {
   "cell_type": "code",
   "execution_count": 21,
   "metadata": {},
   "outputs": [
    {
     "data": {
      "text/plain": [
       "'nsubj:pass'"
      ]
     },
     "execution_count": 21,
     "metadata": {},
     "output_type": "execute_result"
    }
   ],
   "source": [
    "chunk_root_dep = [chunk.root.dep_ for chunk in doc.noun_chunks][0]\n",
    "chunk_root_dep"
   ]
  },
  {
   "cell_type": "code",
   "execution_count": 33,
   "metadata": {},
   "outputs": [],
   "source": [
    "def relevant_chunk(doc, param, i):\n",
    "    for chunk in doc.noun_chunks:\n",
    "        chunk_root_head_lemma_ = (chunk.root.head.lemma_).lower()\n",
    "        if chunk_root_head_lemma_ in [\"gostaria\", \"qual\", \"entregar\"]:\n",
    "            if chunk.root.dep_ == param:\n",
    "                return chunk.text, i, chunk.doc"
   ]
  },
  {
   "cell_type": "code",
   "execution_count": 22,
   "metadata": {},
   "outputs": [
    {
     "data": {
      "text/plain": [
       "'entregar'"
      ]
     },
     "execution_count": 22,
     "metadata": {},
     "output_type": "execute_result"
    }
   ],
   "source": [
    "chunk_root_head_lemma = [chunk.root.head.lemma_ for chunk in doc.noun_chunks][0].lower()\n",
    "chunk_root_head_lemma"
   ]
  },
  {
   "cell_type": "code",
   "execution_count": 36,
   "metadata": {},
   "outputs": [
    {
     "name": "stdout",
     "output_type": "stream",
     "text": [
      "Claro, por favor, informe o número do contrato. NM_FAZENDA,ID_SAFRA QT_SALDO_CONTRATO NR_CONTRATO\n",
      "Quantos quilos de trigo foram entregues pela fazenda Passo Fundo?\n"
     ]
    }
   ],
   "source": [
    "i = 0\n",
    "for i in range(len(data)):\n",
    "    doc_query = nlp(data[i][\"user_utter\"])\n",
    "    result = relevant_chunk(doc=doc_query, param=chunk_root_dep, i=i)\n",
    "    if result:\n",
    "        bot_utter = nlp(data[i][\"bot_utter\"])\n",
    "        user_keys = nlp(data[i][\"user_keys\"])\n",
    "        user_desire = nlp(data[i][\"user_des\"])\n",
    "        missed_keys = nlp(data[i][\"miss_key\"])      \n",
    "        print(bot_utter, user_keys, user_desire, missed_keys)\n",
    "        print(data[i][\"user_utter\"])\n",
    "    "
   ]
  },
  {
   "cell_type": "code",
   "execution_count": 25,
   "metadata": {},
   "outputs": [
    {
     "data": {
      "text/html": [
       "<div>\n",
       "<style scoped>\n",
       "    .dataframe tbody tr th:only-of-type {\n",
       "        vertical-align: middle;\n",
       "    }\n",
       "\n",
       "    .dataframe tbody tr th {\n",
       "        vertical-align: top;\n",
       "    }\n",
       "\n",
       "    .dataframe thead th {\n",
       "        text-align: right;\n",
       "    }\n",
       "</style>\n",
       "<table border=\"1\" class=\"dataframe\">\n",
       "  <thead>\n",
       "    <tr style=\"text-align: right;\">\n",
       "      <th></th>\n",
       "      <th>id</th>\n",
       "      <th>T_texto</th>\n",
       "      <th>T_lemma_</th>\n",
       "      <th>T_pos_</th>\n",
       "      <th>T_tag_</th>\n",
       "      <th>T_dep_</th>\n",
       "      <th>T_head</th>\n",
       "      <th>T_is_sent_start</th>\n",
       "      <th>T_shape_</th>\n",
       "      <th>T_is_alpha</th>\n",
       "      <th>T_is_stop</th>\n",
       "    </tr>\n",
       "  </thead>\n",
       "  <tbody>\n",
       "    <tr>\n",
       "      <th>0</th>\n",
       "      <td>0</td>\n",
       "      <td>Quantos quilos</td>\n",
       "      <td>quanto quilo</td>\n",
       "      <td>NOUN</td>\n",
       "      <td>NOUN</td>\n",
       "      <td>nsubj:pass</td>\n",
       "      <td>entregues</td>\n",
       "      <td>True</td>\n",
       "      <td>Xxxxx xxxx</td>\n",
       "      <td>False</td>\n",
       "      <td>False</td>\n",
       "    </tr>\n",
       "    <tr>\n",
       "      <th>1</th>\n",
       "      <td>1</td>\n",
       "      <td>de</td>\n",
       "      <td>de</td>\n",
       "      <td>ADP</td>\n",
       "      <td>ADP</td>\n",
       "      <td>case</td>\n",
       "      <td>milho</td>\n",
       "      <td>False</td>\n",
       "      <td>xx</td>\n",
       "      <td>True</td>\n",
       "      <td>True</td>\n",
       "    </tr>\n",
       "    <tr>\n",
       "      <th>2</th>\n",
       "      <td>2</td>\n",
       "      <td>milho</td>\n",
       "      <td>milho</td>\n",
       "      <td>NOUN</td>\n",
       "      <td>NOUN</td>\n",
       "      <td>nmod</td>\n",
       "      <td>Quantos quilos</td>\n",
       "      <td>False</td>\n",
       "      <td>xxxx</td>\n",
       "      <td>True</td>\n",
       "      <td>False</td>\n",
       "    </tr>\n",
       "    <tr>\n",
       "      <th>3</th>\n",
       "      <td>3</td>\n",
       "      <td>já</td>\n",
       "      <td>já</td>\n",
       "      <td>ADV</td>\n",
       "      <td>ADV</td>\n",
       "      <td>advmod</td>\n",
       "      <td>entregues</td>\n",
       "      <td>False</td>\n",
       "      <td>xx</td>\n",
       "      <td>True</td>\n",
       "      <td>True</td>\n",
       "    </tr>\n",
       "    <tr>\n",
       "      <th>4</th>\n",
       "      <td>4</td>\n",
       "      <td>foram</td>\n",
       "      <td>ser</td>\n",
       "      <td>AUX</td>\n",
       "      <td>AUX</td>\n",
       "      <td>aux:pass</td>\n",
       "      <td>entregues</td>\n",
       "      <td>False</td>\n",
       "      <td>xxxx</td>\n",
       "      <td>True</td>\n",
       "      <td>True</td>\n",
       "    </tr>\n",
       "    <tr>\n",
       "      <th>5</th>\n",
       "      <td>5</td>\n",
       "      <td>entregues</td>\n",
       "      <td>entregar</td>\n",
       "      <td>VERB</td>\n",
       "      <td>VERB</td>\n",
       "      <td>ROOT</td>\n",
       "      <td>entregues</td>\n",
       "      <td>False</td>\n",
       "      <td>xxxx</td>\n",
       "      <td>True</td>\n",
       "      <td>False</td>\n",
       "    </tr>\n",
       "    <tr>\n",
       "      <th>6</th>\n",
       "      <td>6</td>\n",
       "      <td>pela</td>\n",
       "      <td>por o</td>\n",
       "      <td>ADP</td>\n",
       "      <td>ADP</td>\n",
       "      <td>case</td>\n",
       "      <td>fazenda</td>\n",
       "      <td>False</td>\n",
       "      <td>xxxx</td>\n",
       "      <td>True</td>\n",
       "      <td>True</td>\n",
       "    </tr>\n",
       "    <tr>\n",
       "      <th>7</th>\n",
       "      <td>7</td>\n",
       "      <td>fazenda</td>\n",
       "      <td>fazenda</td>\n",
       "      <td>NOUN</td>\n",
       "      <td>NOUN</td>\n",
       "      <td>obl:agent</td>\n",
       "      <td>entregues</td>\n",
       "      <td>False</td>\n",
       "      <td>xxxx</td>\n",
       "      <td>True</td>\n",
       "      <td>False</td>\n",
       "    </tr>\n",
       "    <tr>\n",
       "      <th>8</th>\n",
       "      <td>8</td>\n",
       "      <td>Santa Rita</td>\n",
       "      <td>Santa Rita</td>\n",
       "      <td>PROPN</td>\n",
       "      <td>PROPN</td>\n",
       "      <td>appos</td>\n",
       "      <td>fazenda</td>\n",
       "      <td>False</td>\n",
       "      <td>Xxxxx Xxxx</td>\n",
       "      <td>False</td>\n",
       "      <td>False</td>\n",
       "    </tr>\n",
       "    <tr>\n",
       "      <th>9</th>\n",
       "      <td>9</td>\n",
       "      <td>no</td>\n",
       "      <td>em o</td>\n",
       "      <td>ADP</td>\n",
       "      <td>ADP</td>\n",
       "      <td>case</td>\n",
       "      <td>contrato atual</td>\n",
       "      <td>False</td>\n",
       "      <td>xx</td>\n",
       "      <td>True</td>\n",
       "      <td>True</td>\n",
       "    </tr>\n",
       "    <tr>\n",
       "      <th>10</th>\n",
       "      <td>10</td>\n",
       "      <td>contrato atual</td>\n",
       "      <td>contrato atual</td>\n",
       "      <td>NOUN</td>\n",
       "      <td>NOUN</td>\n",
       "      <td>nmod</td>\n",
       "      <td>fazenda</td>\n",
       "      <td>False</td>\n",
       "      <td>xxxx xxxx</td>\n",
       "      <td>False</td>\n",
       "      <td>False</td>\n",
       "    </tr>\n",
       "    <tr>\n",
       "      <th>11</th>\n",
       "      <td>11</td>\n",
       "      <td>?</td>\n",
       "      <td>?</td>\n",
       "      <td>PUNCT</td>\n",
       "      <td>PUNCT</td>\n",
       "      <td>punct</td>\n",
       "      <td>entregues</td>\n",
       "      <td>False</td>\n",
       "      <td>?</td>\n",
       "      <td>False</td>\n",
       "      <td>False</td>\n",
       "    </tr>\n",
       "  </tbody>\n",
       "</table>\n",
       "</div>"
      ],
      "text/plain": [
       "    id         T_texto        T_lemma_ T_pos_ T_tag_      T_dep_   \n",
       "0    0  Quantos quilos    quanto quilo   NOUN   NOUN  nsubj:pass  \\\n",
       "1    1              de              de    ADP    ADP        case   \n",
       "2    2           milho           milho   NOUN   NOUN        nmod   \n",
       "3    3              já              já    ADV    ADV      advmod   \n",
       "4    4           foram             ser    AUX    AUX    aux:pass   \n",
       "5    5       entregues        entregar   VERB   VERB        ROOT   \n",
       "6    6            pela           por o    ADP    ADP        case   \n",
       "7    7         fazenda         fazenda   NOUN   NOUN   obl:agent   \n",
       "8    8      Santa Rita      Santa Rita  PROPN  PROPN       appos   \n",
       "9    9              no            em o    ADP    ADP        case   \n",
       "10  10  contrato atual  contrato atual   NOUN   NOUN        nmod   \n",
       "11  11               ?               ?  PUNCT  PUNCT       punct   \n",
       "\n",
       "            T_head T_is_sent_start    T_shape_ T_is_alpha T_is_stop  \n",
       "0        entregues            True  Xxxxx xxxx      False     False  \n",
       "1            milho           False          xx       True      True  \n",
       "2   Quantos quilos           False        xxxx       True     False  \n",
       "3        entregues           False          xx       True      True  \n",
       "4        entregues           False        xxxx       True      True  \n",
       "5        entregues           False        xxxx       True     False  \n",
       "6          fazenda           False        xxxx       True      True  \n",
       "7        entregues           False        xxxx       True     False  \n",
       "8          fazenda           False  Xxxxx Xxxx      False     False  \n",
       "9   contrato atual           False          xx       True      True  \n",
       "10         fazenda           False   xxxx xxxx      False     False  \n",
       "11       entregues           False           ?      False     False  "
      ]
     },
     "execution_count": 25,
     "metadata": {},
     "output_type": "execute_result"
    }
   ],
   "source": [
    "# POS Tagging\n",
    "pos_tagging = pd.DataFrame(data=[], \\\n",
    "  columns=[\"id\", \"T_texto\",\"T_lemma_\", \"T_pos_\", \"T_tag_\", \"T_dep_\", \"T_head\", \"T_is_sent_start\", \"T_shape_\", \"T_is_alpha\", \"T_is_stop\"])\n",
    "i = 0\n",
    "for token in doc2:\n",
    "    pos_tagging.loc[i,\"id\"] = token.i\n",
    "    pos_tagging.loc[i,\"T_texto\"] = token.text\n",
    "    pos_tagging.loc[i,\"T_lemma_\"] = token.lemma_\n",
    "    pos_tagging.loc[i,\"T_pos_\"] = token.pos_\n",
    "    pos_tagging.loc[i,\"T_tag_\"] = token.tag_\n",
    "    pos_tagging.loc[i,\"T_dep_\"] = token.dep_\n",
    "    pos_tagging.loc[i,\"T_head\"] = token.head\n",
    "    pos_tagging.loc[i,\"T_is_sent_start\"] = token.is_sent_start\n",
    "    pos_tagging.loc[i,\"T_shape_\"] = token.shape_\n",
    "    pos_tagging.loc[i,\"T_is_alpha\"] = token.is_alpha\n",
    "    pos_tagging.loc[i,\"T_is_stop\"] = token.is_stop\n",
    "\n",
    "    i = i+1\n",
    "\n",
    "pos_tagging"
   ]
  },
  {
   "cell_type": "code",
   "execution_count": 26,
   "metadata": {},
   "outputs": [
    {
     "data": {
      "text/html": [
       "<span class=\"tex2jax_ignore\"><svg xmlns=\"http://www.w3.org/2000/svg\" xmlns:xlink=\"http://www.w3.org/1999/xlink\" xml:lang=\"pt\" id=\"7918712954b547e88d56f84c41b00d42-0\" class=\"displacy\" width=\"1370\" height=\"317.0\" direction=\"ltr\" style=\"max-width: none; height: 317.0px; color: #000000; background: #ffffff; font-family: Arial; direction: ltr\">\n",
       "<text class=\"displacy-token\" fill=\"currentColor\" text-anchor=\"middle\" y=\"227.0\">\n",
       "    <tspan class=\"displacy-word\" fill=\"currentColor\" x=\"50\">Quantos quilos</tspan>\n",
       "    <tspan class=\"displacy-tag\" dy=\"2em\" fill=\"currentColor\" x=\"50\">NOUN</tspan>\n",
       "</text>\n",
       "\n",
       "<text class=\"displacy-token\" fill=\"currentColor\" text-anchor=\"middle\" y=\"227.0\">\n",
       "    <tspan class=\"displacy-word\" fill=\"currentColor\" x=\"170\">de</tspan>\n",
       "    <tspan class=\"displacy-tag\" dy=\"2em\" fill=\"currentColor\" x=\"170\">ADP</tspan>\n",
       "</text>\n",
       "\n",
       "<text class=\"displacy-token\" fill=\"currentColor\" text-anchor=\"middle\" y=\"227.0\">\n",
       "    <tspan class=\"displacy-word\" fill=\"currentColor\" x=\"290\">milho</tspan>\n",
       "    <tspan class=\"displacy-tag\" dy=\"2em\" fill=\"currentColor\" x=\"290\">NOUN</tspan>\n",
       "</text>\n",
       "\n",
       "<text class=\"displacy-token\" fill=\"currentColor\" text-anchor=\"middle\" y=\"227.0\">\n",
       "    <tspan class=\"displacy-word\" fill=\"currentColor\" x=\"410\">já</tspan>\n",
       "    <tspan class=\"displacy-tag\" dy=\"2em\" fill=\"currentColor\" x=\"410\">ADV</tspan>\n",
       "</text>\n",
       "\n",
       "<text class=\"displacy-token\" fill=\"currentColor\" text-anchor=\"middle\" y=\"227.0\">\n",
       "    <tspan class=\"displacy-word\" fill=\"currentColor\" x=\"530\">foram</tspan>\n",
       "    <tspan class=\"displacy-tag\" dy=\"2em\" fill=\"currentColor\" x=\"530\">AUX</tspan>\n",
       "</text>\n",
       "\n",
       "<text class=\"displacy-token\" fill=\"currentColor\" text-anchor=\"middle\" y=\"227.0\">\n",
       "    <tspan class=\"displacy-word\" fill=\"currentColor\" x=\"650\">entregues</tspan>\n",
       "    <tspan class=\"displacy-tag\" dy=\"2em\" fill=\"currentColor\" x=\"650\">VERB</tspan>\n",
       "</text>\n",
       "\n",
       "<text class=\"displacy-token\" fill=\"currentColor\" text-anchor=\"middle\" y=\"227.0\">\n",
       "    <tspan class=\"displacy-word\" fill=\"currentColor\" x=\"770\">pela</tspan>\n",
       "    <tspan class=\"displacy-tag\" dy=\"2em\" fill=\"currentColor\" x=\"770\">ADP</tspan>\n",
       "</text>\n",
       "\n",
       "<text class=\"displacy-token\" fill=\"currentColor\" text-anchor=\"middle\" y=\"227.0\">\n",
       "    <tspan class=\"displacy-word\" fill=\"currentColor\" x=\"890\">fazenda</tspan>\n",
       "    <tspan class=\"displacy-tag\" dy=\"2em\" fill=\"currentColor\" x=\"890\">NOUN</tspan>\n",
       "</text>\n",
       "\n",
       "<text class=\"displacy-token\" fill=\"currentColor\" text-anchor=\"middle\" y=\"227.0\">\n",
       "    <tspan class=\"displacy-word\" fill=\"currentColor\" x=\"1010\">Santa Rita</tspan>\n",
       "    <tspan class=\"displacy-tag\" dy=\"2em\" fill=\"currentColor\" x=\"1010\">PROPN</tspan>\n",
       "</text>\n",
       "\n",
       "<text class=\"displacy-token\" fill=\"currentColor\" text-anchor=\"middle\" y=\"227.0\">\n",
       "    <tspan class=\"displacy-word\" fill=\"currentColor\" x=\"1130\">no</tspan>\n",
       "    <tspan class=\"displacy-tag\" dy=\"2em\" fill=\"currentColor\" x=\"1130\">ADP</tspan>\n",
       "</text>\n",
       "\n",
       "<text class=\"displacy-token\" fill=\"currentColor\" text-anchor=\"middle\" y=\"227.0\">\n",
       "    <tspan class=\"displacy-word\" fill=\"currentColor\" x=\"1250\">contrato atual?</tspan>\n",
       "    <tspan class=\"displacy-tag\" dy=\"2em\" fill=\"currentColor\" x=\"1250\">NOUN</tspan>\n",
       "</text>\n",
       "\n",
       "<g class=\"displacy-arrow\">\n",
       "    <path class=\"displacy-arc\" id=\"arrow-7918712954b547e88d56f84c41b00d42-0-0\" stroke-width=\"2px\" d=\"M70,182.0 C70,2.0 650.0,2.0 650.0,182.0\" fill=\"none\" stroke=\"currentColor\"/>\n",
       "    <text dy=\"1.25em\" style=\"font-size: 0.8em; letter-spacing: 1px\">\n",
       "        <textPath xlink:href=\"#arrow-7918712954b547e88d56f84c41b00d42-0-0\" class=\"displacy-label\" startOffset=\"50%\" side=\"left\" fill=\"currentColor\" text-anchor=\"middle\">nsubj:pass</textPath>\n",
       "    </text>\n",
       "    <path class=\"displacy-arrowhead\" d=\"M70,184.0 L62,172.0 78,172.0\" fill=\"currentColor\"/>\n",
       "</g>\n",
       "\n",
       "<g class=\"displacy-arrow\">\n",
       "    <path class=\"displacy-arc\" id=\"arrow-7918712954b547e88d56f84c41b00d42-0-1\" stroke-width=\"2px\" d=\"M190,182.0 C190,122.0 280.0,122.0 280.0,182.0\" fill=\"none\" stroke=\"currentColor\"/>\n",
       "    <text dy=\"1.25em\" style=\"font-size: 0.8em; letter-spacing: 1px\">\n",
       "        <textPath xlink:href=\"#arrow-7918712954b547e88d56f84c41b00d42-0-1\" class=\"displacy-label\" startOffset=\"50%\" side=\"left\" fill=\"currentColor\" text-anchor=\"middle\">case</textPath>\n",
       "    </text>\n",
       "    <path class=\"displacy-arrowhead\" d=\"M190,184.0 L182,172.0 198,172.0\" fill=\"currentColor\"/>\n",
       "</g>\n",
       "\n",
       "<g class=\"displacy-arrow\">\n",
       "    <path class=\"displacy-arc\" id=\"arrow-7918712954b547e88d56f84c41b00d42-0-2\" stroke-width=\"2px\" d=\"M70,182.0 C70,62.0 285.0,62.0 285.0,182.0\" fill=\"none\" stroke=\"currentColor\"/>\n",
       "    <text dy=\"1.25em\" style=\"font-size: 0.8em; letter-spacing: 1px\">\n",
       "        <textPath xlink:href=\"#arrow-7918712954b547e88d56f84c41b00d42-0-2\" class=\"displacy-label\" startOffset=\"50%\" side=\"left\" fill=\"currentColor\" text-anchor=\"middle\">nmod</textPath>\n",
       "    </text>\n",
       "    <path class=\"displacy-arrowhead\" d=\"M285.0,184.0 L293.0,172.0 277.0,172.0\" fill=\"currentColor\"/>\n",
       "</g>\n",
       "\n",
       "<g class=\"displacy-arrow\">\n",
       "    <path class=\"displacy-arc\" id=\"arrow-7918712954b547e88d56f84c41b00d42-0-3\" stroke-width=\"2px\" d=\"M430,182.0 C430,62.0 645.0,62.0 645.0,182.0\" fill=\"none\" stroke=\"currentColor\"/>\n",
       "    <text dy=\"1.25em\" style=\"font-size: 0.8em; letter-spacing: 1px\">\n",
       "        <textPath xlink:href=\"#arrow-7918712954b547e88d56f84c41b00d42-0-3\" class=\"displacy-label\" startOffset=\"50%\" side=\"left\" fill=\"currentColor\" text-anchor=\"middle\">advmod</textPath>\n",
       "    </text>\n",
       "    <path class=\"displacy-arrowhead\" d=\"M430,184.0 L422,172.0 438,172.0\" fill=\"currentColor\"/>\n",
       "</g>\n",
       "\n",
       "<g class=\"displacy-arrow\">\n",
       "    <path class=\"displacy-arc\" id=\"arrow-7918712954b547e88d56f84c41b00d42-0-4\" stroke-width=\"2px\" d=\"M550,182.0 C550,122.0 640.0,122.0 640.0,182.0\" fill=\"none\" stroke=\"currentColor\"/>\n",
       "    <text dy=\"1.25em\" style=\"font-size: 0.8em; letter-spacing: 1px\">\n",
       "        <textPath xlink:href=\"#arrow-7918712954b547e88d56f84c41b00d42-0-4\" class=\"displacy-label\" startOffset=\"50%\" side=\"left\" fill=\"currentColor\" text-anchor=\"middle\">aux:pass</textPath>\n",
       "    </text>\n",
       "    <path class=\"displacy-arrowhead\" d=\"M550,184.0 L542,172.0 558,172.0\" fill=\"currentColor\"/>\n",
       "</g>\n",
       "\n",
       "<g class=\"displacy-arrow\">\n",
       "    <path class=\"displacy-arc\" id=\"arrow-7918712954b547e88d56f84c41b00d42-0-5\" stroke-width=\"2px\" d=\"M790,182.0 C790,122.0 880.0,122.0 880.0,182.0\" fill=\"none\" stroke=\"currentColor\"/>\n",
       "    <text dy=\"1.25em\" style=\"font-size: 0.8em; letter-spacing: 1px\">\n",
       "        <textPath xlink:href=\"#arrow-7918712954b547e88d56f84c41b00d42-0-5\" class=\"displacy-label\" startOffset=\"50%\" side=\"left\" fill=\"currentColor\" text-anchor=\"middle\">case</textPath>\n",
       "    </text>\n",
       "    <path class=\"displacy-arrowhead\" d=\"M790,184.0 L782,172.0 798,172.0\" fill=\"currentColor\"/>\n",
       "</g>\n",
       "\n",
       "<g class=\"displacy-arrow\">\n",
       "    <path class=\"displacy-arc\" id=\"arrow-7918712954b547e88d56f84c41b00d42-0-6\" stroke-width=\"2px\" d=\"M670,182.0 C670,62.0 885.0,62.0 885.0,182.0\" fill=\"none\" stroke=\"currentColor\"/>\n",
       "    <text dy=\"1.25em\" style=\"font-size: 0.8em; letter-spacing: 1px\">\n",
       "        <textPath xlink:href=\"#arrow-7918712954b547e88d56f84c41b00d42-0-6\" class=\"displacy-label\" startOffset=\"50%\" side=\"left\" fill=\"currentColor\" text-anchor=\"middle\">obl:agent</textPath>\n",
       "    </text>\n",
       "    <path class=\"displacy-arrowhead\" d=\"M885.0,184.0 L893.0,172.0 877.0,172.0\" fill=\"currentColor\"/>\n",
       "</g>\n",
       "\n",
       "<g class=\"displacy-arrow\">\n",
       "    <path class=\"displacy-arc\" id=\"arrow-7918712954b547e88d56f84c41b00d42-0-7\" stroke-width=\"2px\" d=\"M910,182.0 C910,122.0 1000.0,122.0 1000.0,182.0\" fill=\"none\" stroke=\"currentColor\"/>\n",
       "    <text dy=\"1.25em\" style=\"font-size: 0.8em; letter-spacing: 1px\">\n",
       "        <textPath xlink:href=\"#arrow-7918712954b547e88d56f84c41b00d42-0-7\" class=\"displacy-label\" startOffset=\"50%\" side=\"left\" fill=\"currentColor\" text-anchor=\"middle\">appos</textPath>\n",
       "    </text>\n",
       "    <path class=\"displacy-arrowhead\" d=\"M1000.0,184.0 L1008.0,172.0 992.0,172.0\" fill=\"currentColor\"/>\n",
       "</g>\n",
       "\n",
       "<g class=\"displacy-arrow\">\n",
       "    <path class=\"displacy-arc\" id=\"arrow-7918712954b547e88d56f84c41b00d42-0-8\" stroke-width=\"2px\" d=\"M1150,182.0 C1150,122.0 1240.0,122.0 1240.0,182.0\" fill=\"none\" stroke=\"currentColor\"/>\n",
       "    <text dy=\"1.25em\" style=\"font-size: 0.8em; letter-spacing: 1px\">\n",
       "        <textPath xlink:href=\"#arrow-7918712954b547e88d56f84c41b00d42-0-8\" class=\"displacy-label\" startOffset=\"50%\" side=\"left\" fill=\"currentColor\" text-anchor=\"middle\">case</textPath>\n",
       "    </text>\n",
       "    <path class=\"displacy-arrowhead\" d=\"M1150,184.0 L1142,172.0 1158,172.0\" fill=\"currentColor\"/>\n",
       "</g>\n",
       "\n",
       "<g class=\"displacy-arrow\">\n",
       "    <path class=\"displacy-arc\" id=\"arrow-7918712954b547e88d56f84c41b00d42-0-9\" stroke-width=\"2px\" d=\"M910,182.0 C910,62.0 1245.0,62.0 1245.0,182.0\" fill=\"none\" stroke=\"currentColor\"/>\n",
       "    <text dy=\"1.25em\" style=\"font-size: 0.8em; letter-spacing: 1px\">\n",
       "        <textPath xlink:href=\"#arrow-7918712954b547e88d56f84c41b00d42-0-9\" class=\"displacy-label\" startOffset=\"50%\" side=\"left\" fill=\"currentColor\" text-anchor=\"middle\">nmod</textPath>\n",
       "    </text>\n",
       "    <path class=\"displacy-arrowhead\" d=\"M1245.0,184.0 L1253.0,172.0 1237.0,172.0\" fill=\"currentColor\"/>\n",
       "</g>\n",
       "</svg></span>"
      ],
      "text/plain": [
       "<IPython.core.display.HTML object>"
      ]
     },
     "metadata": {},
     "output_type": "display_data"
    }
   ],
   "source": [
    "displacy.render(doc2, style='dep',\n",
    "                jupyter=True, options={'distance': 120})"
   ]
  },
  {
   "cell_type": "code",
   "execution_count": null,
   "metadata": {},
   "outputs": [],
   "source": []
  },
  {
   "attachments": {},
   "cell_type": "markdown",
   "metadata": {},
   "source": [
    "<h3><mark>Merge entities</mark></h3>"
   ]
  },
  {
   "cell_type": "code",
   "execution_count": null,
   "metadata": {},
   "outputs": [],
   "source": [
    "for ent in doc.ents:\n",
    "    print(f'{ent.start:>2} | {ent.text:>20} | {ent.label_:>8} | {ent.end:>2} || {ent.start_char:>2} | {ent.end_char:>2}')\n",
    "    seq_tokens_valor.append(ent.text)"
   ]
  },
  {
   "cell_type": "code",
   "execution_count": null,
   "metadata": {},
   "outputs": [],
   "source": [
    "nlp.add_pipe(\"merge_entities\")"
   ]
  },
  {
   "cell_type": "code",
   "execution_count": null,
   "metadata": {},
   "outputs": [],
   "source": [
    "doc3, tokens, ents = show_ent_new(text, patterns=patterns)\n",
    "\n",
    "## GARANTIR que a ordem dos Tokens esteja correta (ascendente)\n",
    "seq_tokens_id = []\n",
    "\n",
    "seq_tokens_valor = []\n",
    "\n",
    "\n",
    "## tokens_ids + Lista de todos os Tokens da frase\n",
    "for token in doc3:\n",
    "    seq_tokens_id.append(token.i)"
   ]
  },
  {
   "cell_type": "code",
   "execution_count": null,
   "metadata": {},
   "outputs": [],
   "source": [
    "for ent in doc3.ents:\n",
    "    print(f'{ent.start:>2} | {ent.text:>20} | {ent.label_:>8} | {ent.end:>2} || {ent.start_char:>2} | {ent.end_char:>2}')\n",
    "    seq_tokens_valor.append(ent.text)"
   ]
  },
  {
   "cell_type": "code",
   "execution_count": null,
   "metadata": {},
   "outputs": [],
   "source": [
    "[t.text for t in doc]"
   ]
  },
  {
   "cell_type": "code",
   "execution_count": null,
   "metadata": {},
   "outputs": [],
   "source": []
  },
  {
   "attachments": {},
   "cell_type": "markdown",
   "metadata": {},
   "source": [
    "### Analise de dep"
   ]
  },
  {
   "cell_type": "code",
   "execution_count": null,
   "metadata": {},
   "outputs": [],
   "source": [
    "print(chunks_valor)\n",
    "print(tokens)\n",
    "print(ents)"
   ]
  },
  {
   "cell_type": "code",
   "execution_count": null,
   "metadata": {},
   "outputs": [],
   "source": [
    "displacy.render(doc3, style='dep',\n",
    "                jupyter=True, options={'distance': 120})"
   ]
  },
  {
   "cell_type": "code",
   "execution_count": null,
   "metadata": {},
   "outputs": [],
   "source": [
    "# POS Tagging\n",
    "pos_tagging = pd.DataFrame(data=[], \\\n",
    "  columns=[\"id\", \"T_texto\",\"T_lemma_\", \"T_pos_\", \"T_tag_\", \"T_dep_\", \"T_head\", \"T_is_sent_start\", \"T_shape_\", \"T_is_alpha\", \"T_is_stop\"])\n",
    "i = 0\n",
    "for token in doc:\n",
    "    pos_tagging.loc[i,\"id\"] = token.i\n",
    "    pos_tagging.loc[i,\"T_texto\"] = token.text\n",
    "    pos_tagging.loc[i,\"T_lemma_\"] = token.lemma_\n",
    "    pos_tagging.loc[i,\"T_pos_\"] = token.pos_\n",
    "    pos_tagging.loc[i,\"T_tag_\"] = token.tag_\n",
    "    pos_tagging.loc[i,\"T_dep_\"] = token.dep_\n",
    "    pos_tagging.loc[i,\"T_head\"] = token.head\n",
    "    pos_tagging.loc[i,\"T_is_sent_start\"] = token.is_sent_start\n",
    "    pos_tagging.loc[i,\"T_shape_\"] = token.shape_\n",
    "    pos_tagging.loc[i,\"T_is_alpha\"] = token.is_alpha\n",
    "    pos_tagging.loc[i,\"T_is_stop\"] = token.is_stop\n",
    "\n",
    "    i = i+1\n",
    "\n",
    "pos_tagging"
   ]
  },
  {
   "cell_type": "code",
   "execution_count": null,
   "metadata": {},
   "outputs": [],
   "source": [
    "# Lemmatization for tokens \n",
    "lemmatization = pd.DataFrame(data=[], \\\n",
    "  columns=[\"id\", \"Texto\",\"Lemma\", \"Tag\", \"Tag_explainned\", \"token_POS\", \"POS_explainned\", \"dep\", \"T. Head\", \"dep explained\"])\n",
    "i = 0\n",
    "for token in doc:\n",
    "    lemmatization.loc[i,\"id\"] = token.i\n",
    "    lemmatization.loc[i,\"Texto\"] = token.text\n",
    "    lemmatization.loc[i,\"Lemma\"] = token.lemma_\n",
    "    lemmatization.loc[i,\"Tag\"] = token.tag_\n",
    "    lemmatization.loc[i,\"Tag_explainned\"] = spacy.explain(token.tag_)\n",
    "    lemmatization.loc[i,\"token_POS\"] = token.pos_\n",
    "    lemmatization.loc[i,\"POS_explainned\"] = spacy.explain(token.pos_)\n",
    "    lemmatization.loc[i,\"dep\"] = token.dep_\n",
    "    lemmatization.loc[i,\"T. Head\"] = token.head.text\n",
    "    lemmatization.loc[i,\"dep explained\"] = token.morph\n",
    "    \n",
    "    i = i+1\n",
    "\n",
    "lemmatization"
   ]
  },
  {
   "attachments": {},
   "cell_type": "markdown",
   "metadata": {},
   "source": [
    "### Tokens e funcoes"
   ]
  },
  {
   "cell_type": "code",
   "execution_count": null,
   "metadata": {},
   "outputs": [],
   "source": [
    "seq_tokens_id = [token.i for token in doc]\n",
    "seq_tokens_id"
   ]
  },
  {
   "cell_type": "code",
   "execution_count": null,
   "metadata": {},
   "outputs": [],
   "source": [
    "# Identificando os filhos\n",
    "\n",
    "seq_tokens_id = [token.i for token in doc]\n",
    "\n",
    "for idx in seq_tokens_id:\n",
    "    give_children = doc[idx].children\n",
    "    # print(doc[idx], doc[idx].pos_)\n",
    "    texto = [t.text for t in give_children]\n",
    "    print(f'token: {doc[idx].text:>10} | pos_: {doc[idx].pos_:>7} | chil: {texto}')"
   ]
  },
  {
   "cell_type": "code",
   "execution_count": null,
   "metadata": {},
   "outputs": [],
   "source": [
    "# Identificando Subtree\n",
    "\n",
    "seq_tokens_id = [token.i for token in doc]\n",
    "\n",
    "for idx in seq_tokens_id:\n",
    "    subtree = doc[idx].subtree\n",
    "    # print(doc[idx], doc[idx].pos_)\n",
    "    texto = [t.text for t in subtree]\n",
    "    print(f'token: {doc[idx].text:>10} | pos_: {doc[idx].pos_:>7} | chil: {texto}')"
   ]
  },
  {
   "cell_type": "code",
   "execution_count": null,
   "metadata": {},
   "outputs": [],
   "source": [
    "# n_rights: O número de filhos imediatos à direita da palavra na análise de dependência sintática.\n",
    "\n",
    "seq_tokens_id = [token.i for token in doc]\n",
    "\n",
    "for idx in seq_tokens_id:\n",
    "    n_rights = doc[idx].n_rights\n",
    "    #print(n_rights)\n",
    "    #texto = [t.i for t in n_rights]\n",
    "    print(f'token: {doc[idx].text:>10} | pos_: {doc[idx].pos_:>7} | n_rights: {n_rights}')"
   ]
  },
  {
   "cell_type": "code",
   "execution_count": null,
   "metadata": {},
   "outputs": [],
   "source": [
    "# Token.rights: Os filhos imediatos à direita da palavra na análise de dependência sintática.\n",
    "\n",
    "seq_tokens_id = [token.i for token in doc]\n",
    "\n",
    "for idx in seq_tokens_id:\n",
    "    rights = doc[idx].rights\n",
    "    #print(n_rights)\n",
    "    texto = [t.text for t in rights]\n",
    "    print(f'token: {doc[idx].text:>10} | pos_: {doc[idx].pos_:>7} | rights: {texto}')"
   ]
  },
  {
   "cell_type": "code",
   "execution_count": null,
   "metadata": {},
   "outputs": [],
   "source": [
    "# n_lefts: O número de filhos imediatos à esquerda da palavra na análise de dependência sintática.\n",
    "\n",
    "seq_tokens_id = [token.i for token in doc]\n",
    "\n",
    "for idx in seq_tokens_id:\n",
    "    n_lefts = doc[idx].n_lefts\n",
    "    #print(n_rights)\n",
    "    #texto = [t.i for t in n_rights]\n",
    "    print(f'token: {doc[idx].text:>10} | pos_: {doc[idx].pos_:>7} | n_rights: {n_lefts}')"
   ]
  },
  {
   "cell_type": "code",
   "execution_count": null,
   "metadata": {},
   "outputs": [],
   "source": [
    "# Token.lefts: Os filhos imediatos à esquerda da palavra na análise de dependência sintática.\n",
    "\n",
    "seq_tokens_id = [token.i for token in doc]\n",
    "\n",
    "for idx in seq_tokens_id:\n",
    "    lefts = doc[idx].lefts\n",
    "    #print(n_rights)\n",
    "    texto = [t.text for t in lefts]\n",
    "    print(f'token: {doc[idx].text:>10} | pos_: {doc[idx].pos_:>7} | lefts: {texto}')"
   ]
  },
  {
   "cell_type": "code",
   "execution_count": null,
   "metadata": {},
   "outputs": [],
   "source": [
    "# Token.ancestors: Uma sequência dos ancestrais sintáticos do token (pais, avós, etc).\n",
    "\n",
    "seq_tokens_id = [token.i for token in doc]\n",
    "\n",
    "for idx in seq_tokens_id:\n",
    "    ancestors = doc[idx].ancestors\n",
    "    #print(n_rights)\n",
    "    texto = [t.text for t in ancestors]\n",
    "    print(f'token: {doc[idx].text:>10} | pos_: {doc[idx].pos_:>7} | ancestors: {texto}')"
   ]
  },
  {
   "cell_type": "code",
   "execution_count": null,
   "metadata": {},
   "outputs": [],
   "source": [
    "seq_tokens_id = [token.i for token in doc]\n",
    "\n",
    "for idx in seq_tokens_id:\n",
    "    nbor = doc[idx].nbor()\n",
    "    #print(n_rights)\n",
    "    # texto = [t.text for t in ancestors]\n",
    "    print(f'token: {doc[idx].text:>10} | pos_: {doc[idx].pos_:>7} | nbor: {nbor.text}')"
   ]
  },
  {
   "cell_type": "code",
   "execution_count": null,
   "metadata": {},
   "outputs": [],
   "source": [
    "doc.user_data.values('my_id':'00102333')"
   ]
  },
  {
   "attachments": {},
   "cell_type": "markdown",
   "metadata": {},
   "source": [
    "<mark> Using morph </mark>"
   ]
  },
  {
   "cell_type": "code",
   "execution_count": null,
   "metadata": {},
   "outputs": [],
   "source": [
    "# Matches \"love cats\" or \"likes flowers\"\n",
    "pattern1 = [{\"LEMMA\": {\"IN\": [\"like\", \"love\"]}},\n",
    "            {\"POS\": \"NOUN\"}]\n",
    "\n",
    "# Matches tokens of length >= 10\n",
    "pattern2 = [{\"LENGTH\": {\">=\": 10}}]\n",
    "\n",
    "# Match based on morph attributes\n",
    "pattern3 = [{\"MORPH\": {\"IS_SUBSET\": [\"Number=Sing\", \"Gender=Neut\"]}}]\n",
    "# \"\", \"Number=Sing\" and \"Number=Sing|Gender=Neut\" will match as subsets\n",
    "# \"Number=Plur|Gender=Neut\" will not match\n",
    "# \"Number=Sing|Gender=Neut|Polite=Infm\" will not match because it's a superset"
   ]
  }
 ],
 "metadata": {
  "kernelspec": {
   "display_name": ".env",
   "language": "python",
   "name": "python3"
  },
  "language_info": {
   "codemirror_mode": {
    "name": "ipython",
    "version": 3
   },
   "file_extension": ".py",
   "mimetype": "text/x-python",
   "name": "python",
   "nbconvert_exporter": "python",
   "pygments_lexer": "ipython3",
   "version": "3.10.6"
  },
  "orig_nbformat": 4
 },
 "nbformat": 4,
 "nbformat_minor": 2
}
