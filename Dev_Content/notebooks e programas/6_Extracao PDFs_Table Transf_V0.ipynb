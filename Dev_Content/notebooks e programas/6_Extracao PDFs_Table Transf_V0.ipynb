{
  "cells": [
    {
      "cell_type": "markdown",
      "metadata": {},
      "source": [
        "<h1>1 - Extracao PDFs - Table Transformer - V0</h1>"
      ]
    },
    {
      "cell_type": "markdown",
      "metadata": {},
      "source": [
        "## 1. Modules e Config"
      ]
    },
    {
      "cell_type": "code",
      "execution_count": 1,
      "metadata": {},
      "outputs": [
        {
          "name": "stderr",
          "output_type": "stream",
          "text": [
            "Some weights of the model checkpoint at microsoft/table-transformer-structure-recognition were not used when initializing TableTransformerForObjectDetection: ['model.backbone.conv_encoder.model.layer3.0.downsample.1.num_batches_tracked', 'model.backbone.conv_encoder.model.layer2.0.downsample.1.num_batches_tracked', 'model.backbone.conv_encoder.model.layer4.0.downsample.1.num_batches_tracked']\n",
            "- This IS expected if you are initializing TableTransformerForObjectDetection from the checkpoint of a model trained on another task or with another architecture (e.g. initializing a BertForSequenceClassification model from a BertForPreTraining model).\n",
            "- This IS NOT expected if you are initializing TableTransformerForObjectDetection from the checkpoint of a model that you expect to be exactly identical (initializing a BertForSequenceClassification model from a BertForSequenceClassification model).\n"
          ]
        }
      ],
      "source": [
        "import os\n",
        "import csv\n",
        "\n",
        "import json\n",
        "from io import StringIO\n",
        "from pathlib import Path\n",
        "from PIL import Image\n",
        "\n",
        "from pdf2image import convert_from_path\n",
        "\n",
        "import matplotlib.pyplot as plt\n",
        "\n",
        "import cv2\n",
        "from PIL import Image\n",
        "import pytesseract\n",
        "import torch\n",
        "\n",
        "from transformers import DetrImageProcessor\n",
        "from transformers import DetrFeatureExtractor\n",
        "from transformers import TableTransformerForObjectDetection\n",
        "\n",
        "model = TableTransformerForObjectDetection.from_pretrained(\"microsoft/table-transformer-structure-recognition\")"
      ]
    },
    {
      "cell_type": "code",
      "execution_count": 2,
      "metadata": {},
      "outputs": [],
      "source": [
        "import fitz  # Módulo PyMuPDF\n",
        "import re\n",
        "from unidecode import unidecode\n",
        "import PyPDF2\n",
        "\n",
        "\n",
        "from pdfminer.high_level import extract_pages\n",
        "from pdfminer.layout import LTTextContainer, LTChar"
      ]
    },
    {
      "cell_type": "markdown",
      "metadata": {},
      "source": [
        "sao joao"
      ]
    },
    {
      "cell_type": "code",
      "execution_count": 3,
      "metadata": {},
      "outputs": [],
      "source": [
        "#Diretório TESTE raiz para documentos PDF\n",
        "root_directory = 'novo_modelo/data_pdf'\n",
        "\n",
        "root_dir_section_images = 'novo_modelo/images/processadas/sections'\n",
        "\n",
        "target_directory = 'novo_modelo/jsons'\n",
        "\n",
        "\n",
        "#root_dir_section_images = '.\\\\.novo_modelo\\images\\processadas'\n",
        "\n",
        "\n",
        "\n",
        "\n",
        "src_pdf_nao = 'novo_modelo/data_pdf_nao_pesquisavel'  # Diretório raiz TESTE\n",
        "\n",
        "tgt_imagens = 'novo_modelo/images'\n",
        "\n",
        "tgt_pdf_convertido  = 'novo_modelo/data_pdf_convertido'\n",
        "\n",
        "path_modelo  = \"novo_modelo/modelos/modelos.csv\"\n",
        "\n",
        "\n",
        "\n",
        "\n",
        "\n",
        "\n",
        "# Nome do arquivo CSV\n",
        "csv_filename = \"novo_modelo/modelos/modelos.csv\"\n",
        "\n",
        "# path imagem to resize\n",
        "image_src = \"novo_modelo/images/imagem_1.jpg\"\n",
        "\n",
        "# path image resized\n",
        "img_resi_path = \"novo_modelo/images/processadas/im1_resized.jpg\"\n",
        "\n",
        "#Usada para registar os numeros de paginas do PDF\n",
        "pdf_pages = \"data/data_image_test/page_\"\n",
        "\n",
        "# If you don't have tesseract executable in your PATH, include the following:\n",
        "tessdata_dir_config = '--tessdata-dir \"/home/dani-boy/miniconda3/envs/tables-detr/share/tessdata/\" --user-patterns \"novo_modelo/modelos/user-patterns2.txt\" --dpi 600 --oem 3 --psm 3'\n",
        "\n",
        "# If you don't have tesseract executable in your PATH, include the following:\n",
        "#pytesseract.pytesseract.tesseract_cmd = r'C:\\Program Files\\Tesseract-OCR\\tesseract'\n",
        "# Example tesseract_cmd = r'C:\\Program Files (x86)\\Tesseract-OCR\\tesseract'"
      ]
    },
    {
      "cell_type": "markdown",
      "metadata": {},
      "source": [
        "## 2. Funcoes"
      ]
    },
    {
      "cell_type": "markdown",
      "metadata": {},
      "source": [
        "### 1. Funcoes de Processamento PDF e Imagem "
      ]
    },
    {
      "cell_type": "code",
      "execution_count": 3,
      "metadata": {},
      "outputs": [],
      "source": [
        "def converte2image(doc_path):\n",
        "    \n",
        "    #poppler_path = r'C:\\poppler-23.08.0\\Library\\bin'\n",
        "    #pdf_document = fitz.open(doc_path)\n",
        "    #page_number = 0\n",
        "    pages = convert_from_path(doc_path, 500, poppler_path)\n",
        "    total_pages = len(pages)\n",
        "    image_counter = 1\n",
        "    for page in pages:\n",
        "        image_name = os.path.join(f'{tgt_imagens}/imagem_{str(image_counter)}.jpg')\n",
        "        page.save(image_name, 'JPEG')\n",
        "        image_counter = image_counter + 1\n",
        "      \n",
        "        \n",
        "def resizeImage(image_path):\n",
        "    \n",
        "    image = Image.open(image_path).convert(\"RGB\")\n",
        "    newsize = (2067, 2923)\n",
        "    im1 = image.resize(newsize)\n",
        "    im1.save(r\"./novo_modelo/images/processadas/im1_resized.jpg\", 'JPEG')\n",
        "    print(im1.verify)   \n",
        "    \n",
        "   \n",
        "    \n",
        "# Leitura do arquivo CSV e criação do dicionário de recortes\n",
        "def create_cut_dictionary(csv_filename):\n",
        "    cut_dictionary = {}\n",
        "    with open(csv_filename, 'r') as csvfile:\n",
        "        csvreader = csv.DictReader(csvfile)\n",
        "        for row in csvreader:\n",
        "            model_name = row['modelo']\n",
        "            item = row['Item']\n",
        "            x0 = int(row['x0'])\n",
        "            y0 = int(row['y0'])\n",
        "            x1 = int(row['x1'])\n",
        "            y1 = int(row['y1'])\n",
        "            \n",
        "            cut_info = {'Item': item, 'x0': x0, 'y0': y0, 'x1': x1, 'y1': y1}\n",
        "            \n",
        "            if model_name not in cut_dictionary:\n",
        "                cut_dictionary[model_name] = []\n",
        "            \n",
        "            cut_dictionary[model_name].append(cut_info)\n",
        "    \n",
        "    return cut_dictionary\n",
        "\n",
        "\n",
        "\n",
        "def cropDocumento(img_resized, section, x0, y0, x1, y1):\n",
        "    im = Image.open(img_resized)\n",
        "    left = x0\n",
        "    top = y0\n",
        "    right = x1\n",
        "    bottom = y1\n",
        "    im_croped_img = im.crop((left, top, right, bottom))\n",
        "    img_file_path = os.path.join(f\"{tgt_imagens}/processadas/sections/{section}.jpg\")\n",
        "    im_croped_img.save(img_file_path, 'JPEG')   \n",
        "\n",
        "\n",
        "\n",
        "# Efetuar o crop da imagem da NF segmentando por secoes\n",
        "def cropSections(nf_model, img_resi_path):\n",
        "    for model_name, cuts in cut_dict.items():\n",
        "        if model_name == nf_model:\n",
        "            print(f\"Modelo: {model_name}\")\n",
        "            for cut in cuts:\n",
        "                model_section = cut['Item']\n",
        "                x0 = cut['x0']\n",
        "                y0 = cut['y0']\n",
        "                x1 = cut['x1']\n",
        "                y1 = cut['y1']\n",
        "                cropDocumento(img_resi_path, model_section, x0, y0, x1, y1)\n",
        "\n",
        "\n",
        "\n",
        "# colors for visualization\n",
        "COLORS = [[0.000, 0.447, 0.741], [0.850, 0.325, 0.098], [0.929, 0.694, 0.125],\n",
        "          [0.494, 0.184, 0.556], [0.466, 0.674, 0.188], [0.301, 0.745, 0.933]]\n",
        "\n",
        "def plot_results(pil_img, scores, labels, boxes):\n",
        "    plt.figure(figsize=(26,20))\n",
        "    plt.imshow(pil_img)\n",
        "    ax = plt.gca()\n",
        "    colors = COLORS * 100\n",
        "    for score, label, (xmin, ymin, xmax, ymax),c  in zip(scores.tolist(), labels.tolist(), boxes.tolist(), colors):\n",
        "        ax.add_patch(plt.Rectangle((xmin, ymin), xmax - xmin, ymax - ymin,\n",
        "                                   fill=False, color=c, linewidth=3))\n",
        "        text = f'{model.config.id2label[label]}: {score:0.2f}'\n",
        "        ax.text(xmin, ymin, text, fontsize=10,\n",
        "                bbox=dict(facecolor='yellow', alpha=0.3))\n",
        "    plt.axis('off')\n",
        "    plt.show()\n",
        "    \n",
        "def processaTabela(file_path):\n",
        "  \n",
        "  image = Image.open(file_path).convert(\"RGB\")\n",
        "  width, height = image.size\n",
        "  image.resize((int(width*0.5), int(height*0.5)))\n",
        "\n",
        "  feature_extractor = DetrImageProcessor()\n",
        "  encoding = feature_extractor(image, return_tensors=\"pt\")\n",
        "  \n",
        "  with torch.no_grad():\n",
        "    outputs = model(**encoding)\n",
        "      \n",
        "  target_sizes = [image.size[::-1]]\n",
        "  results = feature_extractor.post_process_object_detection(outputs, threshold=0.6, target_sizes=target_sizes)[0]\n",
        "  \n",
        "  return results    \n",
        "\n",
        "\n",
        "# Classe para representar uma célula da tabela\n",
        "class CelulaTabela:\n",
        "    def __init__(self, coordenadas, label, texto):\n",
        "        self.coordenadas = coordenadas\n",
        "        self.label = label\n",
        "        self.texto = texto\n",
        "        \n",
        "# Função para recortar a imagem com base nas coordenadas do retângulo\n",
        "def recortar_imagem(img, coordenadas):\n",
        "    x_min, y_min, x_max, y_max = coordenadas\n",
        "    return img[int(y_min):int(y_max), int(x_min):int(x_max)]      \n",
        "\n",
        "\n",
        "def processaOcrTable(file_path, results):\n",
        "    dados_da_tabela = {}\n",
        "    # Carregue a imagem do PDF (ou outra fonte)\n",
        "    img_pdf = cv2.imread(file_path, cv2.IMREAD_COLOR) \n",
        "    \n",
        "    # Processo de OCR para cada célula e preenchimento do dicionário\n",
        "    for i in range(results['boxes'].shape[0]):\n",
        "        retangulo = results['boxes'][i].tolist()\n",
        "        img_celula = recortar_imagem(img_pdf, retangulo)\n",
        "        texto_celula = pytesseract.image_to_string(img_celula, config=tessdata_dir_config, lang='por')\n",
        "        \n",
        "        # Mapear o ID numérico do rótulo para o rótulo descritivo usando model.config.id2label\n",
        "        label_id = results['labels'][i].item() if isinstance(results['labels'][i], torch.Tensor) else results['labels'][i]\n",
        "        label_descritivo = model.config.id2label[label_id]\n",
        "        \n",
        "        # Adicionar as informações ao dicionário\n",
        "        chave_celula = f'celula_{i}'\n",
        "        \n",
        "        dados_da_tabela[chave_celula] = {\n",
        "            'coordenadas': retangulo,\n",
        "            'label': label_descritivo,\n",
        "            'texto': texto_celula\n",
        "        }\n",
        "    return dados_da_tabela \n",
        "\n",
        "\n",
        "cut_dict = create_cut_dictionary(csv_filename)\n",
        "          "
      ]
    },
    {
      "cell_type": "code",
      "execution_count": null,
      "metadata": {},
      "outputs": [],
      "source": [
        "cut_dict"
      ]
    },
    {
      "cell_type": "markdown",
      "metadata": {},
      "source": [
        "### 2. Funcoes de Pesquisa diretorio e arquivos"
      ]
    },
    {
      "cell_type": "code",
      "execution_count": 11,
      "metadata": {},
      "outputs": [],
      "source": [
        "def is_pdf_searchable(pdf_path):\n",
        "    try:\n",
        "        pdf_document = fitz.open(pdf_path)\n",
        "        is_searchable = all(page.get_text(\"text\") != \"\" for page in pdf_document)\n",
        "        pdf_document.close()\n",
        "        return is_searchable\n",
        "    except Exception as e:\n",
        "        print(f\"Erro ao verificar o PDF: {e}\")\n",
        "        return False"
      ]
    },
    {
      "cell_type": "markdown",
      "metadata": {},
      "source": [
        "## 3. Funcoes de Extracao de Texto"
      ]
    },
    {
      "cell_type": "markdown",
      "metadata": {},
      "source": [
        "### 0. Cabecalho"
      ]
    },
    {
      "cell_type": "code",
      "execution_count": 12,
      "metadata": {},
      "outputs": [],
      "source": [
        "# 1. CABECALHO - DADOS\n",
        "def extract_fields_dados(text):\n",
        "    nf_data_dados = {}\n",
        "    nf_data_dados['secao'] = \"1. CABECALHO - DADOS\"\n",
        "\n",
        "    # Extrair Número da Nota\n",
        "    numero_nota_match = re.search(r'Número da Nota:\\s+(\\d+)', text)\n",
        "    if numero_nota_match:\n",
        "        nr_nro_nf = numero_nota_match.group(1)\n",
        "        nf_data_dados['numero_nota_fiscal'] = numero_nota_match.group(1)\n",
        "    else:\n",
        "        nr_nro_nf = 0    \n",
        "\n",
        "    # Extrair Competência\n",
        "    competencia_match = re.search(r'Competência:\\s+(.+)', text)\n",
        "    if competencia_match:\n",
        "        nf_data_dados['competencia'] = competencia_match.group(1)\n",
        "\n",
        "    # Extrair Data e Hora de Emissão\n",
        "    data_emissao_match = re.search(r'ata e Hora da Emissão:\\s+(.+)', text)\n",
        "    if data_emissao_match:\n",
        "        nf_data_dados['dt_hr_emissao'] = data_emissao_match.group(1)\n",
        "        \n",
        "    # Extrair Data e Hora de Emissão\n",
        "    codigo_verificacao_match = re.search(r'Código Verificação:\\s+(.+)', text)\n",
        "    if codigo_verificacao_match:\n",
        "        nf_data_dados['codigo_verificacao'] = codigo_verificacao_match.group(1)    \n",
        "        \n",
        "    \n",
        "    return nf_data_dados, nr_nro_nf\n",
        "\n",
        "# 1. CABECALHO - DADOS\n",
        "def extract_fields_prefeitura(text):\n",
        "    nf_data_prefeitura = {}\n",
        "    nf_data_prefeitura['secao'] = \"1. CABECALHO - PREFEITURA\"\n",
        "    # Extrair Nome da Prefeitura\n",
        "    nome_prefeitura_match = re.search(r'PREFEITURA (.+)', text)\n",
        "    if nome_prefeitura_match:\n",
        "        nome_prefeitura = \"PREFEITURA \" + nome_prefeitura_match.group(1)\n",
        "        nf_data_prefeitura['nome_prefeitura'] = nome_prefeitura\n",
        "        \n",
        "    # Extrair Tipo de NF\n",
        "    tipo_nf_match = re.search(r'NOTA FISCAL (.+)', text)\n",
        "    if tipo_nf_match:\n",
        "        tipo_nf = \"NOTA FISCAL \" + tipo_nf_match.group(1)\n",
        "        nf_data_prefeitura['tipo_nota_fiscal'] = tipo_nf \n",
        "    \n",
        "    return  nf_data_prefeitura, nome_prefeitura  \n"
      ]
    },
    {
      "cell_type": "markdown",
      "metadata": {},
      "source": [
        "### 1. Prestador de Servico"
      ]
    },
    {
      "cell_type": "code",
      "execution_count": 13,
      "metadata": {},
      "outputs": [],
      "source": [
        "# 2. PRESTADOR DE SERVIÇO\n",
        "def extract_fields_prestador_cnpj(text): # Função para extrair campos e valores dentro de um retângulo\n",
        "    nf_data_prestador_cnpj = {}\n",
        "    \n",
        "    nf_data_prestador_cnpj['secao'] = \"2. PRESTADOR DE SERVIÇO - CNPJ\"\n",
        "    \n",
        "    \n",
        "    # Extrair CPF/CNPJ com máscara 1\n",
        "    if \"CPF/CNPJ:\" in text:\n",
        "        cpf_cnpj_formatado_match = re.search(r'(\\d{2}\\.\\d{3}\\.\\d{3}/\\d{4}-\\d{2})', text)\n",
        "        if cpf_cnpj_formatado_match:\n",
        "                        nf_data_prestador_cnpj['cpf_cnpj_com_mascara'] = cpf_cnpj_formatado_match.group(1)\n",
        "                        nf_data_prestador_cnpj['cpf_cnpj_sem_mascara'] = re.sub(r'\\D', '', cpf_cnpj_formatado_match.group(1))\n",
        "\n",
        "\n",
        "    # Extrair Telefone\n",
        "    telefone_str = None\n",
        "    \n",
        "    #telefone_match = re.search(r'Telefone:\\s+([0-9.\\s-])', text)\n",
        "    telefone_match = re.search(r'Telefone:\\s+([0-9.\\s-]+)', text)\n",
        "    if telefone_match: \n",
        "        telefone_str = telefone_match.group(1)\n",
        "        # Remover quebras de linha\n",
        "        telefone_str = telefone_str.replace('.', '')\n",
        "        telefone_str = telefone_str.replace('\\n', '')\n",
        "                \n",
        "        nf_data_prestador_cnpj['telefone'] = telefone_str\n",
        "    else:\n",
        "        nf_data_prestador_cnpj['telefone'] = None   \n",
        "    \n",
        "    \n",
        "    return nf_data_prestador_cnpj \n",
        "\n"
      ]
    },
    {
      "cell_type": "markdown",
      "metadata": {},
      "source": [
        "<mark> 1_frame_prestador_cnpj.jpg - Prestador de servico - CNPJ / Telefone </mark>"
      ]
    },
    {
      "cell_type": "code",
      "execution_count": 16,
      "metadata": {},
      "outputs": [],
      "source": [
        "for roots, directories, images in os.walk(root_dir_section_images):\n",
        "                for image in images:\n",
        "                    #print(f'\\n{roots}, {directories}, {images}')\n",
        "                    #print(image)\n",
        "                    image_path = os.path.join(roots, image)\n",
        "                    #print(image_path, image)\n",
        "                    frame = image\n",
        "                    \n",
        "                    \n",
        "                    if frame == \"1_frame_prestador_cnpj.jpg\": \n",
        "                        image_to_ocr = Image.open(image_path).convert('RGB')\n",
        "                        text = pytesseract.image_to_string(image_to_ocr, lang='por', config=tessdata_dir_config)\n",
        "                        nf_data_prestador_cnpj = extract_fields_prestador_cnpj(text)"
      ]
    },
    {
      "cell_type": "code",
      "execution_count": 17,
      "metadata": {},
      "outputs": [
        {
          "data": {
            "text/plain": [
              "{'secao': '2. PRESTADOR DE SERVIÇO - CNPJ',\n",
              " 'cpf_cnpj_com_mascara': '33.462.862/0001-95',\n",
              " 'cpf_cnpj_sem_mascara': '33462862000195',\n",
              " 'telefone': ''}"
            ]
          },
          "execution_count": 17,
          "metadata": {},
          "output_type": "execute_result"
        }
      ],
      "source": [
        "nf_data_prestador_cnpj"
      ]
    },
    {
      "cell_type": "markdown",
      "metadata": {},
      "source": [
        "<mark> 1_frame_prestador_inscricao.jpg - INSCRICAO MUNICIPAL/ESTADUAL </mark>"
      ]
    },
    {
      "cell_type": "code",
      "execution_count": 18,
      "metadata": {},
      "outputs": [],
      "source": [
        "for roots, directories, images in os.walk(root_dir_section_images):\n",
        "                for image in images:\n",
        "                    #print(f'\\n{roots}, {directories}, {images}')\n",
        "                    #print(image)\n",
        "                    image_path = os.path.join(roots, image)\n",
        "                    #print(image_path, image)\n",
        "                    frame = image\n",
        "                    \n",
        "                    # Tomador de serviço\n",
        "                    \n",
        "                    \n",
        "                    if frame == \"1_frame_prestador_inscricao.jpg\": \n",
        "                        image_to_ocr = Image.open(image_path).convert('RGB')\n",
        "                        text = pytesseract.image_to_string(image_to_ocr, lang='por', config=tessdata_dir_config)\n",
        "                    "
      ]
    },
    {
      "cell_type": "code",
      "execution_count": 19,
      "metadata": {},
      "outputs": [
        {
          "data": {
            "text/plain": [
              "'PRESTADOR DE SERVIÇOS\\n\\nInscrição Municipal:\\n4337\\n\\nInscrição Estadual:\\n'"
            ]
          },
          "execution_count": 19,
          "metadata": {},
          "output_type": "execute_result"
        }
      ],
      "source": [
        "text"
      ]
    },
    {
      "cell_type": "code",
      "execution_count": 20,
      "metadata": {},
      "outputs": [
        {
          "name": "stdout",
          "output_type": "stream",
          "text": [
            "Inscrição Municipal: 4337\n",
            "Inscrição Estadual: None\n"
          ]
        }
      ],
      "source": [
        "# 1. Prrestador de Servico - INSCRICAO ESTADUAL/MUNICIPAL\n",
        "nf_data_prestador_incricao = {}\n",
        "    \n",
        "nf_data_prestador_incricao['secao'] = \"1. PRESTADOR DE SERVIÇO - INSCRICAO\"\n",
        "\n",
        "# Texto de exemplo corrigido\n",
        "texto = 'PRESTADOR DE SERVIÇOS\\nInscrição Municipal:\\n4337\\nInscrição Estadual:\\n'\n",
        "\n",
        "# Dividir o texto em linhas\n",
        "linhas = texto.split('\\n')\n",
        "\n",
        "# Inicializar variáveis para armazenar os valores\n",
        "inscricao_municipal = None\n",
        "inscricao_estadual = None\n",
        "\n",
        "\n",
        "# Iterar pelas linhas para identificar os campos e valores\n",
        "i = 0\n",
        "while i < len(linhas):\n",
        "    linha = linhas[i]\n",
        "    if \"Inscrição Municipal:\" in linha:\n",
        "        inscricao_municipal = linhas[i + 1].strip()\n",
        "        i += 2\n",
        "    elif \"Inscrição Estadual:\" in linha: \n",
        "        inscricao_estadual = linhas[i + 1].strip()   \n",
        "        i += 2\n",
        "    else:\n",
        "        i += 1\n",
        "        \n",
        "if inscricao_municipal == \"\":\n",
        "    inscricao_municipal = \"None\"        \n",
        "if inscricao_estadual == \"\":\n",
        "    inscricao_estadual = \"None\"\n",
        "\n",
        "# Imprimir os valores dos campos\n",
        "print(\"Inscrição Municipal:\", inscricao_municipal)\n",
        "print(\"Inscrição Estadual:\", inscricao_estadual)\n",
        "\n",
        "nf_data_prestador_incricao['inscricao_municipal'] = inscricao_municipal\n",
        "nf_data_prestador_incricao['inscricao_estadual'] = inscricao_estadual\n",
        "\n",
        "\n",
        "\n",
        "\n"
      ]
    },
    {
      "cell_type": "code",
      "execution_count": null,
      "metadata": {},
      "outputs": [],
      "source": [
        "nf_data_prestador_incricao"
      ]
    },
    {
      "cell_type": "markdown",
      "metadata": {},
      "source": [
        "<mark> 1_frame_prestador_servico.jpg Prestador de servico - Razao social / Endereco / Nome Fantasia / email </mark>"
      ]
    },
    {
      "cell_type": "code",
      "execution_count": 21,
      "metadata": {},
      "outputs": [],
      "source": [
        "for roots, directories, images in os.walk(root_dir_section_images):\n",
        "                for image in images:\n",
        "                    #print(f'\\n{roots}, {directories}, {images}')\n",
        "                    #print(image)\n",
        "                    image_path = os.path.join(roots, image)\n",
        "                    #print(image_path, image)\n",
        "                    frame = image\n",
        "                    \n",
        "                    # Tomador de serviço\n",
        "                    nf_data_prestacao = {}\n",
        "                    nf_data_prestacao[\"secao\"] = \"1. NOVA ROTINA PRESTADOR\"\n",
        "                    if frame == \"1_frame_prestador_servico.jpg\": \n",
        "                        image_to_ocr = Image.open(image_path).convert('RGB')\n",
        "                        text = pytesseract.image_to_string(image_to_ocr, lang='por', config=tessdata_dir_config)\n",
        "                        #text = text.replace('\\n', '\\n\\n')\n",
        "                        #nf_data_tomador = extract_fields_tomador(text) \n",
        "                        # Dividir o texto em linhas\n",
        "                        linhas = text.split('\\n')"
      ]
    },
    {
      "cell_type": "code",
      "execution_count": 22,
      "metadata": {},
      "outputs": [
        {
          "data": {
            "text/plain": [
              "'Nome/Razão Social:\\n\\nSÃO MARCOS TERRAPLENAGEM E CONSTRUÇÃO LTDA.\\nNome de Fantasi\\n\\nEndereço:\\n\\nRUA DAS MARGARIDAS ,578 ,SANTA DALILA - Magé-RJ\\nE-mail:\\n'"
            ]
          },
          "execution_count": 22,
          "metadata": {},
          "output_type": "execute_result"
        }
      ],
      "source": [
        "text"
      ]
    },
    {
      "cell_type": "code",
      "execution_count": 23,
      "metadata": {},
      "outputs": [
        {
          "name": "stdout",
          "output_type": "stream",
          "text": [
            "endereco: 2 RUA DAS MARGARIDAS ,578 ,SANTA DALILA - Magé-RJ\n",
            "Nome/Razão Social: SÃO MARCOS TERRAPLENAGEM E CONSTRUÇÃO LTDA.\n",
            "Nome de Fantasia: None\n",
            "Endereço: RUA DAS MARGARIDAS ,578 ,SANTA DALILA - Magé-RJ\n",
            "E-mail: None\n"
          ]
        }
      ],
      "source": [
        "# Prestador de servico - Razao social / Endereco / Nome Fantasia / email\n",
        "text = 'Nome/Razão Social:\\n\\nSÃO MARCOS TERRAPLENAGEM E CONSTRUÇÃO LTDA.\\nNome de Fantasia:\\n\\nEndereço:\\n\\nRUA DAS MARGARIDAS ,578 ,SANTA DALILA - Magé-RJ\\nE-mail:\\n'\n",
        "\n",
        "nf_data_prestador_servico = {}\n",
        "nf_data_prestador_servico['secao'] = \"2.PRESTADOR DE SERVIÇO - RAZAO\"\n",
        "tipo = None\n",
        "\n",
        "if \"\\n\\n\" in text:\n",
        "    linhas = text.split('\\n\\n')\n",
        "    tipo = 2\n",
        "    \n",
        "else:\n",
        "    linhas = text.split('\\n')    \n",
        "    tipo = 1\n",
        "   \n",
        "   \n",
        "#linhas = text.split('\\n')\n",
        "\n",
        "#linhas = text.split('\\n\\n')\n",
        "#print(linhas)\n",
        "\n",
        "\n",
        "# Inicializar variáveis para armazenar os valores\n",
        "nome_razao_social = None\n",
        "nome_fantasia = None\n",
        "endereco = None\n",
        "email = None\n",
        "\n",
        "# Iterar pelas linhas para identificar os campos e valores\n",
        "i = 0\n",
        "while i < len(linhas):\n",
        "    linha = linhas[i]\n",
        "    #print(\"linha:\", i, linha)\n",
        "    if \"Nome/Razão Social:\" in linha:\n",
        "        if tipo == 2:\n",
        "            texto1 = linhas[i + 1].strip()\n",
        "            texto2 = texto1.split('\\n')\n",
        "            nome_razao_social = texto2[i].strip()\n",
        "        else:\n",
        "            nome_razao_social = linhas[i + 1].strip()   \n",
        "        #print(\"texto_razao: \", texto_razao)\n",
        "        \n",
        "        #print()\n",
        "        #print(\"texto_razao2: \", texto_razao2)\n",
        "        #print()\n",
        "        #print(\"texto_razao3: \", texto_razao3)\n",
        "        #print(f'\\nRazao Social: {nome_razao_social}')\n",
        "        i += 2\n",
        "    elif \"Nome de Fantasia:\" in linha:\n",
        "        nome_fantasia = linhas[i + 1].strip()\n",
        "        i += 2\n",
        "    elif \"Endereço:\" in linha:\n",
        "        \n",
        "        if tipo == 2:\n",
        "            texto3 = linhas[i + 1].strip()\n",
        "            texto4 = texto3.split('\\n')\n",
        "            \n",
        "            endereco = texto4[0].strip()\n",
        "            print(\"endereco:\", i, endereco)\n",
        "            \n",
        "            \n",
        "        else:\n",
        "            endereco = linhas[i + 1].strip()      \n",
        "        i += 2\n",
        "    elif \"E-mail:\" in linha:\n",
        "        email = linhas[i + 1].strip()\n",
        "        i += 2\n",
        "    else:\n",
        "        i += 1\n",
        "\n",
        "\n",
        "# Imprimir os valores dos campos\n",
        "print(\"Nome/Razão Social:\", nome_razao_social)\n",
        "print(\"Nome de Fantasia:\", nome_fantasia)\n",
        "print(\"Endereço:\", endereco)\n",
        "print(\"E-mail:\", email)\n",
        "\n",
        "\n",
        "nf_data_prestador_servico['razao_social'] = nome_razao_social\n",
        "nf_data_prestador_servico['nome_fantasia'] = nome_fantasia\n",
        "nf_data_prestador_servico['endereco'] = endereco\n",
        "nf_data_prestador_servico['email'] = email"
      ]
    },
    {
      "cell_type": "code",
      "execution_count": null,
      "metadata": {},
      "outputs": [],
      "source": [
        "linhas"
      ]
    },
    {
      "cell_type": "code",
      "execution_count": null,
      "metadata": {},
      "outputs": [],
      "source": [
        "nf_data_prestador_servico"
      ]
    },
    {
      "cell_type": "code",
      "execution_count": null,
      "metadata": {},
      "outputs": [],
      "source": [
        "linhas2"
      ]
    },
    {
      "cell_type": "code",
      "execution_count": null,
      "metadata": {},
      "outputs": [],
      "source": [
        "                        print()\n",
        "                        print(\"AQUI\", text)\n",
        "                        \n",
        "                        #linhas = text.split('\\n')      \n",
        "                        # Inicializar variáveis para armazenar os valores\n",
        "                        inscricao_municipal = None\n",
        "                        inscricao_estadual = None\n",
        "                        \n",
        "                        # Iterar pelas linhas para identificar os campos e valores\n",
        "                        i = 0\n",
        "                        while i < len(linhas):\n",
        "                            linha = linhas[i]\n",
        "                            if \"Inscrição Municipal:\" in linha:\n",
        "                                inscricao_municipal = linhas[i + 1].strip()\n",
        "                                i += 2\n",
        "                            elif \"Inscrição Estadual:\" in linha: \n",
        "                                inscricao_estadual = linhas[i + 1].strip()   \n",
        "                                i += 2\n",
        "                            else:\n",
        "                                i += 1\n",
        "                        \n",
        "                    nf_data_prestacao['inscricao_municipal'] = inscricao_municipal\n",
        "                    nf_data_prestacao['inscricao_estadual'] = inscricao_estadual       \n",
        "                                         \n",
        "                     \n",
        "                    \n",
        "                    \n",
        "                    if frame == \"1_frame_prestador_servico.jpg\": \n",
        "                        image_to_ocr = Image.open(image_path).convert('RGB')\n",
        "                        text = pytesseract.image_to_string(image_to_ocr, lang='por', config=tessdata_dir_config)\n",
        "                        #text = text.replace('\\n', '\\n\\n')\n",
        "                        #nf_data_tomador = extract_fields_tomador(text) \n",
        "                        # Dividir o texto em linhas\n",
        "                        print()\n",
        "                        print(text)\n",
        "                        linhas = text.split('\\n')\n",
        "                        #print(linhas)\n",
        "\n",
        "                        # Inicializar variáveis para armazenar os valores\n",
        "                        nome_razao_social = None\n",
        "                        nome_fantasia = None\n",
        "                        endereco = None\n",
        "                        email = None\n",
        "\n",
        "                        # Iterar pelas linhas para identificar os campos e valores\n",
        "                        i = 0\n",
        "                        while i < len(linhas):\n",
        "                            linha = linhas[i]\n",
        "                            if \"Nome/Razão Social:\" in linha:\n",
        "                                nome_razao_social = linhas[i + 1].strip()\n",
        "                                print(f'\\nRazao Social: {nome_razao_social}\\n')\n",
        "                                i += 2\n",
        "                            elif \"Nome de Fantasia:\" in linha:\n",
        "                                nome_fantasia = linhas[i + 1].strip()\n",
        "                                i += 2\n",
        "                            elif \"Endereço:\" in linha:\n",
        "                                endereco = linhas[i + 1].strip()\n",
        "                                i += 2\n",
        "                            elif \"E-mail:\" in linha:\n",
        "                                email = linhas[i + 1].strip()\n",
        "                                i += 2\n",
        "                            else:\n",
        "                                i += 1\n",
        "\n",
        "\n",
        "                    nf_data_prestacao['razao_social'] = nome_razao_social\n",
        "                    nf_data_prestacao['nome_fantasia'] = nome_fantasia\n",
        "                    nf_data_prestacao['endereco'] = endereco\n",
        "                    nf_data_prestacao['email'] = email"
      ]
    },
    {
      "cell_type": "code",
      "execution_count": null,
      "metadata": {},
      "outputs": [],
      "source": [
        "nf_data_prestacao"
      ]
    },
    {
      "cell_type": "code",
      "execution_count": null,
      "metadata": {},
      "outputs": [],
      "source": [
        "nf_data_prestador"
      ]
    },
    {
      "cell_type": "markdown",
      "metadata": {},
      "source": [
        "<h3> Restos - Prestador de servicos </h3>"
      ]
    },
    {
      "cell_type": "code",
      "execution_count": null,
      "metadata": {},
      "outputs": [],
      "source": [
        "\n",
        "# Extrair Inscrição Municipal\n",
        "    inscricao_municipal_match = re.search(r'Inscrição Municipal:\\s+(.+)', text)\n",
        "    if inscricao_municipal_match:\n",
        "        nf_data_prestador['inscricao_municipal'] = inscricao_municipal_match.group(1)\n",
        "        \n",
        "        \n",
        "        \n",
        "        \n",
        "               \n",
        "    # Extrair Inscrição Estadual\n",
        "    #if \"Inscrição Estadual:\" in text:\n",
        "    \n",
        "    # Extrair Inscrição Estadual\n",
        "    inscricao_estadual_match = re.search(r'Inscrição Estadual:\\s+(.+)', text)\n",
        "    if inscricao_estadual_match:\n",
        "        inscricao_estadual_str = inscricao_estadual_match.group(1)\n",
        "        if inscricao_estadual_str == 'Nome/Razão Social:':\n",
        "            nf_data_prestador['inscricao_estadual'] = \"NONE\"\n",
        "        else:    \n",
        "            nf_data_prestador['inscricao_estadual'] = inscricao_estadual_match.group(1)       \n",
        "        \n",
        "                \n",
        "    \n",
        "                \n",
        "    # Nome/Razão Social:\n",
        "    razao_social_match = re.search(r'Nome/Razão Social:\\s+(.+)', text)\n",
        "    if razao_social_match:\n",
        "        nf_data_prestador['razao_social'] = razao_social_match.group(1)  \n",
        "                \n",
        "    # Nome de Fantasia:\n",
        "    nome_fantasia_match = re.search(r'Nome de Fantasia:\\s+(.+)', text)\n",
        "    if nome_fantasia_match:\n",
        "        nf_data_prestador['nome_fantasia'] = nome_fantasia_match.group(1)                                    \n",
        "                \n",
        "            \n",
        "    # Endereço:\n",
        "    endereco_match = re.search(r'Endereço:\\s+(.+)', text)\n",
        "    if endereco_match:\n",
        "        nf_data_prestador['endereco'] = endereco_match.group(1) \n",
        "    \n",
        "    # E-mail:\n",
        "    email_match = re.search(r'E-mail:\\s+(.+)', text)\n",
        "    if email_match:\n",
        "        nf_data_prestador['email'] = email_match.group(1)  \n",
        "    else:\n",
        "        nf_data_prestador['email'] = \"NONE\"  # Valor padrão quando não há correspondência\n",
        "   \n",
        "        \n",
        "\n",
        "    return nf_data_prestador"
      ]
    },
    {
      "cell_type": "code",
      "execution_count": null,
      "metadata": {},
      "outputs": [],
      "source": []
    },
    {
      "cell_type": "markdown",
      "metadata": {},
      "source": [
        "###   2. Tomador de Serviço"
      ]
    },
    {
      "cell_type": "code",
      "execution_count": 24,
      "metadata": {},
      "outputs": [],
      "source": [
        "def extract_fields_tomador_cnpj(text):\n",
        "    nf_data_tomador_cnpj = {}\n",
        "    \n",
        "    \n",
        "    nf_data_tomador_cnpj['secao'] = \"3.TOMADOR DE SERVIÇO\"\n",
        "    \n",
        "    \n",
        "    # Extrair CPF/CNPJ com máscara 1\n",
        "    if \"CPF/CNPJ:\" in text:\n",
        "        cpf_cnpj_formatado_match = re.search(r'(\\d{2}\\.\\d{3}\\.\\d{3}/\\d{4}-\\d{2})', text)\n",
        "        if cpf_cnpj_formatado_match:\n",
        "                        nf_data_tomador_cnpj['cpf_cnpj_com_mascara'] = cpf_cnpj_formatado_match.group(1)\n",
        "                        nf_data_tomador_cnpj['cpf_cnpj_sem_mascara'] = re.sub(r'\\D', '', cpf_cnpj_formatado_match.group(1))\n",
        "\n",
        "    \n",
        "    # Extrair Telefone\n",
        "    telefone_match = re.search(r'Telefone:\\s+(.+)', text)\n",
        "    if telefone_match:\n",
        "        telefone_str = telefone_match.group(1)\n",
        "        if telefone_str == 'Inscrição Estadual:':\n",
        "            nf_data_tomador_cnpj['telefone'] = \"NONE\"  # Valor padrão quando não há correspondência\n",
        "        elif telefone_str == '':\n",
        "            nf_data_tomador_cnpj['telefone'] = \"NONE\"  # Valor padrão quando não há correspondência\n",
        "                    \n",
        "        else:    \n",
        "            nf_data_tomador_cnpj['telefone'] = telefone_match.group(1)\n",
        "            \n",
        "    \n",
        "    \n",
        "    # Extrair Inscrição Municipal\n",
        "    inscricao_municipal_match = re.search(r'Inscrição Municipal:\\s+(.+)', text)\n",
        "    if inscricao_municipal_match:\n",
        "        inscricao_municipal_str = inscricao_municipal_match.group(1)\n",
        "        if inscricao_municipal_str == \"Telefone:\": \n",
        "            nf_data_tomador_cnpj['inscricao_municipal'] = \"NONE\"\n",
        "        else:    \n",
        "            nf_data_tomador_cnpj['inscricao_municipal'] = inscricao_municipal_str\n",
        "    \n",
        "    insc_municipal_match = re.search(r'INSC:MUNICIPAL:\\s+(.+)', text)\n",
        "    if insc_municipal_match:\n",
        "        insc_municipal_str = insc_municipal_match.group(1)\n",
        "        if insc_municipal_str == \"Telefone:\":\n",
        "            nf_data_tomador_cnpj['inscricao_municipal'] = \"NONE\" \n",
        "        else:    \n",
        "            nf_data_tomador_cnpj['inscricao_municipal'] = insc_municipal_str\n",
        "    else:\n",
        "        nf_data_tomador_cnpj['inscricao_municipal'] = \"NONE\"\n",
        "                        \n",
        "            \n",
        "            \n",
        "    \n",
        "    return nf_data_tomador_cnpj\n",
        "\n",
        "def extract_fields_tomador_inscricao(text):\n",
        "    nf_data_tomador_inscricao = {}\n",
        "    \n",
        "    # Extrair RG    \n",
        "    rg_match = re.search(r'RG:\\s+(.+)', text)   \n",
        "    if rg_match:\n",
        "        rg_str = rg_match.group(1)\n",
        "        if rg_str == 'Inscrição Estadual:':\n",
        "            nf_data_tomador_inscricao['rg'] = \"NONE\"  # Valor padrão quando não há correspondência\n",
        "        else:    \n",
        "            nf_data_tomador_inscricao['rg'] = rg_match.group(1)  \n",
        " \n",
        "        \n",
        "                \n",
        "    # Extrair Inscrição Estadual\n",
        "    inscricao_estadual_match = re.search(r'Inscrição Estadual:\\s+(.+)', text)\n",
        "    if inscricao_estadual_match:\n",
        "        inscricao_estadual_str = inscricao_estadual_match.group(1)\n",
        "        if inscricao_estadual_str == '':\n",
        "            nf_data_tomador_inscricao['inscricao_estadual'] = \"NONE\"\n",
        "        else:    \n",
        "            nf_data_tomador_inscricao['inscricao_estadual'] = inscricao_estadual_match.group(1)   \n",
        "    else: \n",
        "        nf_data_tomador_inscricao['inscricao_estadual'] = \"NONE\"           \n",
        "\n",
        "    return nf_data_tomador_inscricao\n",
        "                                                     \n",
        "            "
      ]
    },
    {
      "cell_type": "code",
      "execution_count": null,
      "metadata": {},
      "outputs": [],
      "source": [
        "for roots, directories, images in os.walk(root_dir_section_images):\n",
        "                for image in images:\n",
        "                    #print(f'\\n{roots}, {directories}, {images}')\n",
        "                    #print(image)\n",
        "                    image_path = os.path.join(roots, image)\n",
        "                    #print(image_path, image)\n",
        "                    frame = image\n",
        "                    \n",
        "                    \n",
        "                    nf_data_tomador = {}\n",
        "                    nf_data_tomador['secao'] = \"2. PRESTADOR DE SERVIÇO\"\n",
        "                    # Tomador de serviço\n",
        "                    if frame == \"2_frame_tomador_cnpj.jpg\": \n",
        "                        image_to_ocr = Image.open(image_path).convert('RGB')\n",
        "                        text = pytesseract.image_to_string(image_to_ocr, lang='por', config=tessdata_dir_config)\n",
        "                        nf_data_tomador_cnpj = extract_fields_tomador_cnpj(text)\n",
        "                        \n",
        "                    if frame == \"2_frame_tomador_inscricao.jpg\": \n",
        "                        image_to_ocr = Image.open(image_path).convert('RGB')\n",
        "                        text = pytesseract.image_to_string(image_to_ocr, lang='por', config=tessdata_dir_config)\n",
        "                        nf_data_tomador_inscricao = extract_fields_tomador_inscricao(text)       \n",
        "                    \n",
        "                    \n",
        "                    if frame == \"2_frame_tomador_servico.jpg\": \n",
        "                        image_to_ocr = Image.open(image_path).convert('RGB')\n",
        "                        text = pytesseract.image_to_string(image_to_ocr, lang='por', config=tessdata_dir_config)\n",
        "\n",
        "                        print()\n",
        "                        #print(text)\n",
        "                        \n",
        "                        # Dividir o texto em linhas\n",
        "                        linhas = text.split('\\n')\n",
        "                        #print(linhas)\n",
        "                        # Inicializar variáveis para armazenar os valores\n",
        "                        nome_razao_social = None\n",
        "                        endereco = None\n",
        "                        email = None\n",
        "\n",
        "                        # Iterar pelas linhas para identificar os campos e valores\n",
        "                        i = 0\n",
        "                        while i < len(linhas):\n",
        "                            linha = linhas[i]\n",
        "                            if \"Nome/Razão Social:\" in linha:\n",
        "                                nome_razao_social = linhas[i + 1].strip()\n",
        "                                \n",
        "                                i += 2\n",
        "                            elif \"Endereço:\" in linha:\n",
        "                                endereco = linhas[i + 1].strip()\n",
        "                                \n",
        "                                i += 2\n",
        "                            elif \"E-mail:\" in linha:\n",
        "                                email = linhas[i + 1].strip()\n",
        "                                \n",
        "                                i += 2\n",
        "                            else:\n",
        "                                i += 1\n",
        "\n",
        "                    #print(f'\\nRazao Social: {nome_razao_social}\\n')\n",
        "                    #print(f'\\nEndereco: {endereco}\\n')\n",
        "                    #print(f'\\nEmail: {email}\\n')\n",
        "                        \n",
        "                    nf_data_tomador['razao_social'] = nome_razao_social\n",
        "                    nf_data_tomador['endereco'] = endereco\n",
        "                    nf_data_tomador['email'] = email"
      ]
    },
    {
      "cell_type": "code",
      "execution_count": 26,
      "metadata": {},
      "outputs": [
        {
          "data": {
            "text/plain": [
              "{'secao': '2. PRESTADOR DE SERVIÇO',\n",
              " 'razao_social': 'MUNICÍPIO DE MACAÉ',\n",
              " 'endereco': 'PRESIDENTE FEL É Nº 534 PAÇ: BAIRRO: CENTRO CIDADE: MACAÉ - RJ CEP: 27913080',\n",
              " 'email': ''}"
            ]
          },
          "execution_count": 26,
          "metadata": {},
          "output_type": "execute_result"
        }
      ],
      "source": [
        "nf_data_tomador"
      ]
    },
    {
      "cell_type": "code",
      "execution_count": 27,
      "metadata": {},
      "outputs": [],
      "source": [
        "# Texto de exemplo corrigido\n",
        "texto = 'Nome/Razão Social:\\nIKINHA INDUSTRIA TEXTIL LTDA\\nEndereço: o o . o\\nPROFESSOR STROELLER Nº 953 - ATE 953 - LADO ÍMPAR BAIRRO: QUARTEIRÃO BRASILEIRO CIDADE: PETRÓPOLIS - RJ CEP: 25680175\\nE-mail:\\nNÃO INFORMADO'\n",
        "\n",
        "# Dividir o texto em linhas\n",
        "linhas = texto.split('\\n')\n",
        "\n",
        "# Inicializar variáveis para armazenar os valores\n",
        "nome_razao_social = None\n",
        "endereco = None\n",
        "email = None\n",
        "\n",
        "# Iterar pelas linhas para identificar os campos e valores\n",
        "i = 0\n",
        "while i < len(linhas):\n",
        "    linha = linhas[i]\n",
        "    if \"Nome/Razão Social:\" in linha:\n",
        "        nome_razao_social = linhas[i + 1].strip()\n",
        "        i += 2\n",
        "    elif \"Endereço:\" in linha:\n",
        "        endereco = linhas[i + 1].strip()\n",
        "        i += 2\n",
        "    elif \"E-mail:\" in linha:\n",
        "        email = linhas[i + 1].strip()\n",
        "        i += 2\n",
        "    else:\n",
        "        i += 1\n",
        "\n",
        "\n",
        "nf_data_tomador['razao_social'] = nome_razao_social\n",
        "nf_data_tomador['endereco'] = endereco\n",
        "nf_data_tomador['email'] = email\n"
      ]
    },
    {
      "cell_type": "code",
      "execution_count": 28,
      "metadata": {},
      "outputs": [
        {
          "name": "stdout",
          "output_type": "stream",
          "text": [
            "Nome/Razão Social: None\n",
            "Endereço: None\n",
            "E-mail: None\n"
          ]
        }
      ],
      "source": [
        "# Texto de exemplo\n",
        "texto = \"Nome/Razão Social:\\nMUNICÍPIO DE MACAE\\nEndereço: ê à\\nPRESIDENTE FELICIANO SODRE Nº 534 PAÇO MUNICIPAL BAIRRO: CENTRO CIDADE: MACAE - RJ CEP: 27913080\\nE-mail:\\nNÃO INFORMADO\\n\"\n",
        "\n",
        "# Dividir o texto em linhas\n",
        "linhas = texto.split('\\n')\n",
        "\n",
        "# Inicializar variáveis para armazenar os valores\n",
        "nome_razao_social = None\n",
        "endereco = None\n",
        "email = None\n",
        "\n",
        "# Iterar pelas linhas para identificar os campos e valores\n",
        "i = 0\n",
        "while i < len(linhas):\n",
        "    linha = linhas[i]\n",
        "    if \"Nome/Razão Social:\" in linha:\n",
        "        nf_data_tomador['razao_social'] = linhas[i + 1].strip()\n",
        "        i += 2\n",
        "    elif \"Endereço:\" in linha:\n",
        "        nf_data_tomador['email'] = linhas[i + 1].strip()\n",
        "        i += 2\n",
        "    elif \"E-mail:\" in linha:\n",
        "        nf_data_tomador['email'] = linhas[i + 1].strip()\n",
        "        i += 2\n",
        "    else:\n",
        "        i += 1\n",
        "\n",
        "# Imprimir os valores dos campos\n",
        "print(\"Nome/Razão Social:\", nome_razao_social)\n",
        "print(\"Endereço:\", endereco)\n",
        "print(\"E-mail:\", email)\n",
        "\n",
        "\n",
        "\n",
        "\n",
        "\n",
        "\n"
      ]
    },
    {
      "cell_type": "code",
      "execution_count": 29,
      "metadata": {},
      "outputs": [
        {
          "data": {
            "text/plain": [
              "'CPF/CNPJ:\\n\\n29.115.474/0001-60 |\\nINSC:MUNICIPAL:\\nTelefone:\\n'"
            ]
          },
          "execution_count": 29,
          "metadata": {},
          "output_type": "execute_result"
        }
      ],
      "source": [
        "text"
      ]
    },
    {
      "cell_type": "code",
      "execution_count": 30,
      "metadata": {},
      "outputs": [
        {
          "data": {
            "text/plain": [
              "{'secao': '2. PRESTADOR DE SERVIÇO',\n",
              " 'razao_social': 'MUNICÍPIO DE MACAE',\n",
              " 'endereco': 'PRESIDENTE FELICIANO SODRE Nº 534 PAÇO MUNICIPAL BAIRRO: CENTRO CIDADE: MACAE - RJ CEP: 27913080',\n",
              " 'email': 'NÃO INFORMADO'}"
            ]
          },
          "execution_count": 30,
          "metadata": {},
          "output_type": "execute_result"
        }
      ],
      "source": [
        "nf_data_tomador"
      ]
    },
    {
      "cell_type": "code",
      "execution_count": null,
      "metadata": {},
      "outputs": [],
      "source": []
    },
    {
      "cell_type": "code",
      "execution_count": null,
      "metadata": {},
      "outputs": [],
      "source": []
    },
    {
      "cell_type": "code",
      "execution_count": null,
      "metadata": {},
      "outputs": [],
      "source": []
    },
    {
      "cell_type": "code",
      "execution_count": 31,
      "metadata": {},
      "outputs": [
        {
          "data": {
            "text/plain": [
              "{'secao': '3.TOMADOR DE SERVIÇO',\n",
              " 'cpf_cnpj_com_mascara': '29.115.474/0001-60',\n",
              " 'cpf_cnpj_sem_mascara': '29115474000160',\n",
              " 'inscricao_municipal': 'NONE'}"
            ]
          },
          "execution_count": 31,
          "metadata": {},
          "output_type": "execute_result"
        }
      ],
      "source": [
        "\n",
        "nf_data_tomador_cnpj\n"
      ]
    },
    {
      "cell_type": "code",
      "execution_count": null,
      "metadata": {},
      "outputs": [],
      "source": [
        "nf_data_tomador_inscricao"
      ]
    },
    {
      "cell_type": "code",
      "execution_count": null,
      "metadata": {},
      "outputs": [],
      "source": []
    },
    {
      "cell_type": "markdown",
      "metadata": {},
      "source": [
        "### 3 - Descricao dos Servicos - 3_frame_descricao_servico.jpg"
      ]
    },
    {
      "cell_type": "code",
      "execution_count": 32,
      "metadata": {},
      "outputs": [],
      "source": [
        "for roots, directories, images in os.walk(root_dir_section_images):\n",
        "                for image in images:\n",
        "                    #print(f'\\n{roots}, {directories}, {images}')\n",
        "                    image_path = os.path.join(roots, image)\n",
        "                    #print(image_path, image)\n",
        "                    frame = image\n",
        "                    \n",
        "                    if frame == \"3_frame_descricao_servico.jpg\": \n",
        "                        image_to_ocr = Image.open(image_path).convert('RGB')\n",
        "                        text = pytesseract.image_to_string(image_to_ocr, lang='por', config=tessdata_dir_config)\n",
        "                        #nf_data_prestador = extract_fields_prestador(text)  "
      ]
    },
    {
      "cell_type": "code",
      "execution_count": 33,
      "metadata": {},
      "outputs": [
        {
          "data": {
            "text/plain": [
              "'DISCRIMINAÇÃO DOS SERVIÇOS\\n\\nSer Tapa Buraco), na cidade de Macaé/RJ, abrangendo Perímetro Urb:\\nco EDRna Contraio dista - pm Bias e 502/2023. M. Obra (10%)= R$ 104.468,45 Retenção p/ EM Rae E 1 AM, il E ITAU Fenda\\n0726 C/Corrente: 35410\\n\\n'"
            ]
          },
          "execution_count": 33,
          "metadata": {},
          "output_type": "execute_result"
        }
      ],
      "source": [
        "text"
      ]
    },
    {
      "cell_type": "code",
      "execution_count": 34,
      "metadata": {},
      "outputs": [],
      "source": [
        "nf_data_servico = {}\n",
        "nf_data_servico['secao'] = \"4. DESCRIMINACAO DOS SERVIÇOS\"\n",
        "\n",
        "text = text.replace('\\n', ' ')\n",
        "label = \"DISCRIMINAÇÃO DOS SERVIÇOS\"\n",
        "if text.startswith(label):\n",
        "    text = text[len(label):].strip()\n",
        "nf_data_servico['discriminacao_servicos'] = text"
      ]
    },
    {
      "cell_type": "code",
      "execution_count": 35,
      "metadata": {},
      "outputs": [
        {
          "data": {
            "text/plain": [
              "{'secao': '4. DESCRIMINACAO DOS SERVIÇOS',\n",
              " 'discriminacao_servicos': 'Ser Tapa Buraco), na cidade de Macaé/RJ, abrangendo Perímetro Urb: co EDRna Contraio dista - pm Bias e 502/2023. M. Obra (10%)= R$ 104.468,45 Retenção p/ EM Rae E 1 AM, il E ITAU Fenda 0726 C/Corrente: 35410'}"
            ]
          },
          "execution_count": 35,
          "metadata": {},
          "output_type": "execute_result"
        }
      ],
      "source": [
        "nf_data_servico"
      ]
    },
    {
      "cell_type": "markdown",
      "metadata": {},
      "source": [
        "### 5. Valor Total : 4_frame_valor_total.jpg"
      ]
    },
    {
      "cell_type": "code",
      "execution_count": 36,
      "metadata": {},
      "outputs": [],
      "source": [
        "for roots, directories, images in os.walk(root_dir_section_images):\n",
        "                for image in images:\n",
        "                    #print(f'\\n{roots}, {directories}, {images}')\n",
        "                    image_path = os.path.join(roots, image)\n",
        "                    #print(image_path, image)\n",
        "                    frame = image\n",
        "                    \n",
        "                    if frame == \"4_frame_valor_total.jpg\": \n",
        "                        image_to_ocr = Image.open(image_path).convert('RGB')\n",
        "                        text = pytesseract.image_to_string(image_to_ocr, lang='por', config=tessdata_dir_config)\n",
        "                        #nf_data_prestador = extract_fields_prestador(text)    "
      ]
    },
    {
      "cell_type": "code",
      "execution_count": 37,
      "metadata": {},
      "outputs": [
        {
          "data": {
            "text/plain": [
              "'VALOR TOTAL DA NOTA: R$ 1.044.684,55\\n'"
            ]
          },
          "execution_count": 37,
          "metadata": {},
          "output_type": "execute_result"
        }
      ],
      "source": [
        "text"
      ]
    },
    {
      "cell_type": "code",
      "execution_count": 38,
      "metadata": {},
      "outputs": [],
      "source": [
        "nf_data_valor_total = {}\n",
        "nf_data_valor_total['secao'] = \"5. VALOR TOTAL\"\n",
        "\n",
        "valor_total_match = re.search(r'R\\$ ([\\d,.]+)', text)\n",
        "if valor_total_match:\n",
        "    valor_total_sem_formatacao = valor_total_match.group(1).replace('.', '').replace(',', '.')\n",
        "    nf_data_valor_total['valor_total_nota'] = float(valor_total_sem_formatacao)\n",
        "                    "
      ]
    },
    {
      "cell_type": "code",
      "execution_count": 39,
      "metadata": {},
      "outputs": [
        {
          "data": {
            "text/plain": [
              "{'secao': '5. VALOR TOTAL', 'valor_total_nota': 1044684.55}"
            ]
          },
          "execution_count": 39,
          "metadata": {},
          "output_type": "execute_result"
        }
      ],
      "source": [
        "nf_data_valor_total"
      ]
    },
    {
      "cell_type": "markdown",
      "metadata": {},
      "source": [
        "### 6. CNAE e Item da Lista de Serviços : 5_frame_cnae_itens.jpg"
      ]
    },
    {
      "cell_type": "code",
      "execution_count": 40,
      "metadata": {},
      "outputs": [],
      "source": [
        "for roots, directories, images in os.walk(root_dir_section_images):\n",
        "                for image in images:\n",
        "                    #print(f'\\n{roots}, {directories}, {images}')\n",
        "                    image_path = os.path.join(roots, image)\n",
        "                    #print(image_path, image)\n",
        "                    frame = image\n",
        "                    \n",
        "                    if frame == \"5_frame_cnae_itens.jpg\": \n",
        "                        image_to_ocr = Image.open(image_path).convert('RGB')\n",
        "                        text = pytesseract.image_to_string(image_to_ocr, lang='por', config=tessdata_dir_config)\n",
        "                        #nf_data_prestador = extract_fields_prestador(text)   "
      ]
    },
    {
      "cell_type": "code",
      "execution_count": 41,
      "metadata": {},
      "outputs": [
        {
          "data": {
            "text/plain": [
              "'CNAE - 4313400 - OBRAS DE o\\nItem dE Lista de Serviços - 7.02 - CUÇÃO, “POR ADMINISTRAÇÃO, EMPREITADA OU SUBEMPREITADA, DE OBRAS DE Rs CIVIL, HIDRÁULICA\\nOU ELÉTRICA E DE OUTRAS OBRAS SEMELHANTES, INCLUSIVE SONDAGEM, PERFURAÇÃO DE POÇOS, ESCAVAÇÃO, DRENAG\\n'"
            ]
          },
          "execution_count": 41,
          "metadata": {},
          "output_type": "execute_result"
        }
      ],
      "source": [
        "text"
      ]
    },
    {
      "cell_type": "code",
      "execution_count": 42,
      "metadata": {},
      "outputs": [
        {
          "ename": "IndexError",
          "evalue": "list index out of range",
          "output_type": "error",
          "traceback": [
            "\u001b[0;31m---------------------------------------------------------------------------\u001b[0m",
            "\u001b[0;31mIndexError\u001b[0m                                Traceback (most recent call last)",
            "Cell \u001b[0;32mIn[42], line 12\u001b[0m\n\u001b[1;32m      8\u001b[0m cnae \u001b[39m=\u001b[39m re\u001b[39m.\u001b[39msub(\u001b[39mr\u001b[39m\u001b[39m'\u001b[39m\u001b[39m^CNAE - \u001b[39m\u001b[39m'\u001b[39m, \u001b[39m'\u001b[39m\u001b[39m'\u001b[39m, texto_cnae, count\u001b[39m=\u001b[39m\u001b[39m1\u001b[39m)\n\u001b[1;32m     11\u001b[0m \u001b[39m# Item da Lista de Serviços \u001b[39;00m\n\u001b[0;32m---> 12\u001b[0m texto_novo \u001b[39m=\u001b[39m linhas[\u001b[39m1\u001b[39;49m]\n\u001b[1;32m     13\u001b[0m texto_novo \u001b[39m=\u001b[39m texto_novo\u001b[39m.\u001b[39mreplace(\u001b[39m'\u001b[39m\u001b[39m\\n\u001b[39;00m\u001b[39m'\u001b[39m, \u001b[39m'\u001b[39m\u001b[39m'\u001b[39m)\n\u001b[1;32m     15\u001b[0m item_lista_servico \u001b[39m=\u001b[39m re\u001b[39m.\u001b[39msub(\u001b[39mr\u001b[39m\u001b[39m'\u001b[39m\u001b[39m^Item da Lista de Serviços - \u001b[39m\u001b[39m'\u001b[39m, \u001b[39m'\u001b[39m\u001b[39m'\u001b[39m, texto_novo, count\u001b[39m=\u001b[39m\u001b[39m1\u001b[39m)\n",
            "\u001b[0;31mIndexError\u001b[0m: list index out of range"
          ]
        }
      ],
      "source": [
        "# Extrair CNAE\n",
        "nf_data_CNAE = {}\n",
        "nf_data_CNAE['Secao'] = \"6. CNAE e Item da Lista de Serviços\"\n",
        "\n",
        "linhas = text.split('º\\n')\n",
        "\n",
        "texto_cnae = linhas[0].replace(' . .', '')\n",
        "cnae = re.sub(r'^CNAE - ', '', texto_cnae, count=1)\n",
        "\n",
        "\n",
        "# Item da Lista de Serviços \n",
        "texto_novo = linhas[1]\n",
        "texto_novo = texto_novo.replace('\\n', '')\n",
        "\n",
        "item_lista_servico = re.sub(r'^Item da Lista de Serviços - ', '', texto_novo, count=1)\n",
        "\n",
        "\n",
        "nf_data_CNAE['cnae'] = cnae\n",
        "nf_data_CNAE['item_lista_servicos'] = item_lista_servico"
      ]
    },
    {
      "cell_type": "code",
      "execution_count": null,
      "metadata": {},
      "outputs": [],
      "source": [
        "nf_data_CNAE"
      ]
    },
    {
      "cell_type": "markdown",
      "metadata": {},
      "source": [
        "### 7. VALORES E IMPOSTOS - 6_frame_valores_impostos.jpg"
      ]
    },
    {
      "cell_type": "markdown",
      "metadata": {},
      "source": [
        "## IMPORTANTE: Teste Tesseract"
      ]
    },
    {
      "cell_type": "markdown",
      "metadata": {},
      "source": [
        "### Python Tesseract \n",
        "\n",
        "\n",
        "https://github.com/madmaze/pytesseract/tree/master"
      ]
    },
    {
      "cell_type": "code",
      "execution_count": null,
      "metadata": {},
      "outputs": [],
      "source": [
        "from PIL import Image\n",
        "\n",
        "import pytesseract"
      ]
    },
    {
      "cell_type": "code",
      "execution_count": 55,
      "metadata": {},
      "outputs": [],
      "source": [
        "image_path = \"novo_modelo/images/processadas/sections/im1_resized_item_6.jpg\""
      ]
    },
    {
      "cell_type": "code",
      "execution_count": 34,
      "metadata": {},
      "outputs": [],
      "source": [
        "image_path = \"novo_modelo/images/processadas/sections/6_frame_valores_impostos.jpg\""
      ]
    },
    {
      "cell_type": "code",
      "execution_count": 23,
      "metadata": {},
      "outputs": [],
      "source": [
        "image_path = \"novo_modelo/images/processadas/sections/Captura de tela 2023-08-22 145943.png\""
      ]
    },
    {
      "cell_type": "code",
      "execution_count": 31,
      "metadata": {},
      "outputs": [],
      "source": [
        "image_path = \"novo_modelo/images/processadas/sections/Captura de tela 2023-08-22 145853.png\""
      ]
    },
    {
      "cell_type": "code",
      "execution_count": 24,
      "metadata": {},
      "outputs": [
        {
          "name": "stdout",
          "output_type": "stream",
          "text": [
            "VALOR PIS: VALOR COFINS: VALOR IR: VALOR INSS: | VALORCSLL: OUTRAS RETENGOES: VALOR LiQUIDO:\n",
            "R$ 0,00 R$ 0,00 R$ 0,00 R$ 11.491,53 R$ 0,00 R$ 0,00 R$ 1.012.299,33\n",
            "\n"
          ]
        }
      ],
      "source": [
        "print(pytesseract.image_to_string(Image.open(image_path)))"
      ]
    },
    {
      "cell_type": "code",
      "execution_count": 35,
      "metadata": {},
      "outputs": [],
      "source": [
        "texto = pytesseract.image_to_string(Image.open(image_path))"
      ]
    },
    {
      "cell_type": "code",
      "execution_count": 36,
      "metadata": {},
      "outputs": [
        {
          "data": {
            "text/plain": [
              "'VALOR SERVICOS: VALOR DESC. INCOND: BASE DE ALIQUOTA: VALOR ISS: VALOR ISS DESC. COND:\\n\\nR$ 1.044.684,55 DEDUGAO: R$ 0,00 CALCULO: 2% R$ 0,00 RETIDO: R$ 0,00\\nR$ 0,00 R$ 1.044.684,55 R$ 20.893,69\\nVALOR PIS: VALOR COFINS: VALOR IR: VALOR INSS: VALOR CSLL: OUTRAS RETENCOES: VALOR LIQUIDO:\\n\\nR$ 0,00 R$ 0,00 R$ 0,00 R$ 11.491,53 R$ 0,00 R$ 0,00 R$ 1.012.299,33\\n'"
            ]
          },
          "execution_count": 36,
          "metadata": {},
          "output_type": "execute_result"
        }
      ],
      "source": [
        "texto"
      ]
    },
    {
      "cell_type": "code",
      "execution_count": null,
      "metadata": {},
      "outputs": [],
      "source": [
        "# In order to bypass the image conversions of pytesseract, just use relative or absolute image path\n",
        "# NOTE: In this case you should provide tesseract supported images or tesseract will return error\n",
        "print(pytesseract.image_to_string(image_path))"
      ]
    },
    {
      "cell_type": "code",
      "execution_count": null,
      "metadata": {},
      "outputs": [],
      "source": [
        "# List of available languages\n",
        "print(pytesseract.get_languages(config=''))"
      ]
    },
    {
      "cell_type": "code",
      "execution_count": null,
      "metadata": {},
      "outputs": [],
      "source": [
        "# Get bounding box estimates\n",
        "print(pytesseract.image_to_boxes(Image.open(image_path)))"
      ]
    },
    {
      "cell_type": "code",
      "execution_count": null,
      "metadata": {},
      "outputs": [],
      "source": [
        "# Get verbose data including boxes, confidences, line and page numbers\n",
        "print(pytesseract.image_to_data(Image.open(image_path)))"
      ]
    },
    {
      "cell_type": "code",
      "execution_count": null,
      "metadata": {},
      "outputs": [],
      "source": [
        "# Get bounding box estimates\n",
        "print(pytesseract.image_to_boxes(Image.open('test.png')))\n",
        "\n",
        "# Get verbose data including boxes, confidences, line and page numbers\n",
        "print(pytesseract.image_to_data(Image.open('test.png')))\n",
        "\n",
        "# Get information about orientation and script detection\n",
        "print(pytesseract.image_to_osd(Image.open('test.png')))\n",
        "\n",
        "# Get a searchable PDF\n",
        "pdf = pytesseract.image_to_pdf_or_hocr('test.png', extension='pdf')\n",
        "with open('test.pdf', 'w+b') as f:\n",
        "    f.write(pdf) # pdf type is bytes by default\n",
        "\n",
        "# Get HOCR output\n",
        "hocr = pytesseract.image_to_pdf_or_hocr('test.png', extension='hocr')\n",
        "\n",
        "# Get ALTO XML output\n",
        "xml = pytesseract.image_to_alto_xml('test.png')"
      ]
    },
    {
      "cell_type": "code",
      "execution_count": null,
      "metadata": {},
      "outputs": [],
      "source": [
        "# Get HOCR output\n",
        "hocr = pytesseract.image_to_pdf_or_hocr(image_path, extension='hocr')"
      ]
    },
    {
      "cell_type": "code",
      "execution_count": null,
      "metadata": {},
      "outputs": [],
      "source": [
        "with open('test_modelo.hocr', 'w+b') as f:\n",
        "    f.write(hocr) # pdf type is bytes by default"
      ]
    },
    {
      "cell_type": "code",
      "execution_count": null,
      "metadata": {},
      "outputs": [],
      "source": [
        "hocr"
      ]
    },
    {
      "cell_type": "code",
      "execution_count": null,
      "metadata": {},
      "outputs": [],
      "source": [
        "# Get ALTO XML output\n",
        "xml = pytesseract.image_to_alto_xml(image_path)"
      ]
    },
    {
      "cell_type": "code",
      "execution_count": null,
      "metadata": {},
      "outputs": [],
      "source": [
        "xml"
      ]
    },
    {
      "cell_type": "code",
      "execution_count": null,
      "metadata": {},
      "outputs": [],
      "source": [
        "with open('test.xml', 'w+b') as f:\n",
        "    f.write(xml) # pdf type is bytes by default"
      ]
    },
    {
      "cell_type": "code",
      "execution_count": null,
      "metadata": {},
      "outputs": [],
      "source": []
    },
    {
      "cell_type": "code",
      "execution_count": null,
      "metadata": {},
      "outputs": [],
      "source": [
        "import cv2\n",
        "\n",
        "img_cv = cv2.imread(image_path)\n",
        "\n",
        "# By default OpenCV stores images in BGR format and since pytesseract assumes RGB format,\n",
        "# we need to convert from BGR to RGB format/mode:\n",
        "img_rgb = cv2.cvtColor(img_cv, cv2.COLOR_BGR2RGB)\n",
        "print(pytesseract.image_to_string(img_rgb))\n",
        "\n"
      ]
    },
    {
      "cell_type": "code",
      "execution_count": null,
      "metadata": {},
      "outputs": [],
      "source": [
        "img_rgb = Image.frombytes('RGB', img_cv.shape[:2], img_cv, 'raw', 'BGR', 0, 0)\n",
        "print(pytesseract.image_to_string(img_rgb))"
      ]
    },
    {
      "cell_type": "code",
      "execution_count": null,
      "metadata": {},
      "outputs": [],
      "source": [
        "# Example of adding any additional options\n",
        "custom_oem_psm_config = r'--oem 3 --psm 6'\n",
        "pytesseract.image_to_string(image_path, config=custom_oem_psm_config)"
      ]
    },
    {
      "cell_type": "code",
      "execution_count": 37,
      "metadata": {},
      "outputs": [
        {
          "data": {
            "text/plain": [
              "'VALOR SERVICOS: VALOR DESC. INCOND: BASE DE ALIQUOTA: VALOR ISS: VALOR ISS DESC. COND:\\n\\nR$ 1.044.684,55 DEDUGAO: R$ 0,00 CALCULO: 2% R$ 0,00 RETIDO: R$ 0,00\\nR$ 0,00 R$ 1.044.684,55 R$ 20.893,69\\nVALOR PIS: VALOR COFINS: VALOR IR: VALOR INSS: VALOR CSLL: OUTRAS RETENCOES: VALOR LIQUIDO:\\n\\nR$ 0,00 R$ 0,00 R$ 0,00 R$ 11.491,53 R$ 0,00 R$ 0,00 R$ 1.012.299,33\\n'"
            ]
          },
          "execution_count": 37,
          "metadata": {},
          "output_type": "execute_result"
        }
      ],
      "source": [
        "\n",
        "\n",
        "# Example of using pre-defined tesseract config file with options\n",
        "cfg_filename = 'words'\n",
        "pytesseract.run_and_get_output(image_path, extension='txt', config=cfg_filename)"
      ]
    },
    {
      "cell_type": "code",
      "execution_count": 51,
      "metadata": {},
      "outputs": [],
      "source": [
        "# If you don't have tesseract executable in your PATH, include the following:\n",
        "tessdata_dir_config_novo = '--tessdata-dir \"/home/dani-boy/miniconda3/envs/tables-detr/share/tessdata/\" --user-patterns \"novo_modelo/modelos/user-patterns2.txt\" --dpi 600 --oem 3 --psm 3'"
      ]
    },
    {
      "cell_type": "code",
      "execution_count": 56,
      "metadata": {},
      "outputs": [],
      "source": [
        "textos = pytesseract.run_and_get_output(image_path, extension='txt', lang='por', config=tessdata_dir_config_novo)"
      ]
    },
    {
      "cell_type": "code",
      "execution_count": 82,
      "metadata": {},
      "outputs": [],
      "source": [
        "texto = textos"
      ]
    },
    {
      "cell_type": "code",
      "execution_count": 79,
      "metadata": {},
      "outputs": [
        {
          "data": {
            "text/plain": [
              "'VALOR SERVIÇOS:  VALO RE po BASE DE ALÍQUOTA: VALOR ISS: VALOR ISS DESC. COND:\\n\\nR$ 1.044.684,55 DEDUGÃO: R$0 CÁLCULO: 2% R$ 0,00 RETIDO: R$ 0,00\\nR$ 0,00 R$ 1.044.684,55 R$ 20.893,69\\nVALOR PIS: VALOR COFINS: VALOR IR: VALOR INSS: VALOR CSLL: OUTRAS RETENÇÕES: VALOR LÍQUIDO:\\n\\nR$ 0,00 R$ 0,00 R$ 0,00 R$11491,53  R$0,00 R$ 0,00 R$ 1.012.299,33\\n'"
            ]
          },
          "execution_count": 79,
          "metadata": {},
          "output_type": "execute_result"
        }
      ],
      "source": [
        "original_string"
      ]
    },
    {
      "cell_type": "code",
      "execution_count": 83,
      "metadata": {},
      "outputs": [
        {
          "name": "stdout",
          "output_type": "stream",
          "text": [
            "1044684.55, 0.00, 0.00, 0.00, 1044684.55, 20893.69, 0.00, 0.00, 0.00, 0.00, 1012299.33, 2\n"
          ]
        }
      ],
      "source": [
        "import re\n",
        "\n",
        "#texto = 'VALOR SERVIÇOS:  VALO RE po BASE DE ALÍQUOTA: VALOR ISS: VALOR ISS DESC. COND:\\n\\nR$ 1.044.684,55 DEDUGÃO: R$0 CÁLCULO: 2% R$ 0,00 RETIDO: R$ 0,00\\nR$ 0,00 R$ 1.044.684,55 R$ 20.893,69\\nVALOR PIS: VALOR COFINS: VALOR IR: VALOR INSS: VALOR CSLL: OUTRAS RETENÇÕES: VALOR LÍQUIDO:\\n\\nR$ 0,00 R$ 0,00 R$ 0,00 R$11491,53  R$0,00 R$ 0,00 R$ 1.012.299,33\\n'\n",
        "\n",
        "# Encontrar os valores monetários no texto\n",
        "valores_monetarios = re.findall(r'R\\$ ([\\d.,]+)', texto)\n",
        "\n",
        "# Encontrar os percentuais no texto\n",
        "percentuais = re.findall(r'(\\d+)%', texto)\n",
        "\n",
        "# Criar uma lista de valores formatados\n",
        "valores_formatados = []\n",
        "\n",
        "# Formatar os valores monetários\n",
        "for valor in valores_monetarios:\n",
        "    valor_formatado = valor.replace('.', '').replace(',', '.')\n",
        "    valores_formatados.append(valor_formatado)\n",
        "\n",
        "# Adicionar os percentuais formatados\n",
        "valores_formatados.extend(percentuais)\n",
        "\n",
        "# Transformar todos os valores em uma única string\n",
        "resultado = ', '.join(valores_formatados)\n",
        "\n",
        "print(resultado)\n",
        "\n",
        "\n",
        "\n",
        "\n",
        "\n",
        "\n"
      ]
    },
    {
      "cell_type": "code",
      "execution_count": 59,
      "metadata": {},
      "outputs": [
        {
          "name": "stdout",
          "output_type": "stream",
          "text": [
            "VALOR SERVIÇOS: R$ 1044684.55\n",
            "BASE DE: R$ 1044684.55\n",
            "ALÍQUOTA: R$ 1044684.55\n",
            "VALOR ISS: R$ 1044684.55\n",
            "DESC. COND: R$ 1044684.55\n",
            "DEDUGÃO: 2%\n",
            "CÁLCULO: 2%\n",
            "RETIDO: R$ 0.00\n",
            "VALOR PIS: R$ 0.00\n",
            "VALOR COFINS: R$ 0.00\n",
            "VALOR IR: R$ 0.00\n",
            "VALOR INSS: R$ 0.00\n",
            "VALOR CSLL: R$ 0.00\n",
            "OUTRAS RETENÇÕES: R$ 0.00\n",
            "VALOR LÍQUIDO: R$ 0.00\n"
          ]
        }
      ],
      "source": [
        "import re\n",
        "\n",
        "# String fornecida\n",
        "texto = 'VALOR SERVIÇOS:  VALO RE po BASE DE ALÍQUOTA: VALOR ISS: VALOR ISS DESC. COND:\\n\\nR$ 1.044.684,55 DEDUGÃO: R$0 CÁLCULO: 2% R$ 0,00 RETIDO: R$ 0,00\\nR$ 0,00 R$ 1.044.684,55 R$ 20.893,69\\nVALOR PIS: VALOR COFINS: VALOR IR: VALOR INSS: VALOR CSLL: OUTRAS RETENÇÕES: VALOR LÍQUIDO:\\n\\nR$ 0,00 R$ 0,00 R$ 0,00 R$11491,53  R$0,00 R$ 0,00 R$ 1.012.299,33\\n'\n",
        "\n",
        "# Lista de chaves esperadas\n",
        "chaves_esperadas = [\n",
        "    'VALOR SERVIÇOS', 'BASE DE', 'ALÍQUOTA', 'VALOR ISS', 'DESC. COND',\n",
        "    'DEDUGÃO', 'CÁLCULO', 'RETIDO', 'VALOR PIS', 'VALOR COFINS',\n",
        "    'VALOR IR', 'VALOR INSS', 'VALOR CSLL', 'OUTRAS RETENÇÕES', 'VALOR LÍQUIDO'\n",
        "]\n",
        "\n",
        "# Padrão de regex para valores monetários e percentuais\n",
        "padrao_monetario = r'R\\$ ([\\d,.]+)'\n",
        "padrao_percentual = r'([\\d.]+)%'\n",
        "\n",
        "# Função para extrair valores monetários e percentuais\n",
        "def extrair_valores(texto, chave):\n",
        "    padrao_chave = re.escape(chave)\n",
        "    padrao_completo = f'{padrao_chave}.*?({padrao_monetario}|{padrao_percentual})'\n",
        "    valor_encontrado = re.search(padrao_completo, texto, re.DOTALL)\n",
        "    if valor_encontrado:\n",
        "        valor_formatado = valor_encontrado.group(1).replace('.', '').replace(',', '.')\n",
        "        return valor_formatado\n",
        "    return 'Valor não encontrado'\n",
        "\n",
        "# Criar lista de valores\n",
        "valores = []\n",
        "for chave in chaves_esperadas:\n",
        "    valor = extrair_valores(texto, chave)\n",
        "    valores.append(valor)\n",
        "\n",
        "# Imprimir lista de valores\n",
        "for chave, valor in zip(chaves_esperadas, valores):\n",
        "    print(f\"{chave}: {valor}\")\n"
      ]
    },
    {
      "cell_type": "code",
      "execution_count": 58,
      "metadata": {},
      "outputs": [
        {
          "name": "stdout",
          "output_type": "stream",
          "text": [
            "VALOR SERVIÇOS:  VALO RE po BASE DE ALÍQUOTA: VALOR ISS: VALOR ISS DESC. COND:\n",
            "\n",
            "R$ 1.044.684,55 DEDUGÃO: R$0 CÁLCULO: 2% R$ 0,00 RETIDO: R$ 0,00\n",
            "R$ 0,00 R$ 1.044.684,55 R$ 20.893,69\n",
            "VALOR PIS: VALOR COFINS: VALOR IR: VALOR INSS: VALOR CSLL: OUTRAS RETENÇÕES: VALOR LÍQUIDO:\n",
            "\n",
            "R$ 0,00 R$ 0,00 R$ 0,00 R$11491,53  R$0,00 R$ 0,00 R$ 1.012.299,33\n",
            "\n"
          ]
        }
      ],
      "source": [
        "print(textos)"
      ]
    },
    {
      "cell_type": "code",
      "execution_count": null,
      "metadata": {},
      "outputs": [],
      "source": [
        "# Example of adding any additional options\n",
        "custom_oem_psm_config = r'--oem 3 --psm 6'\n",
        "pytesseract.image_to_string(image, config=custom_oem_psm_config)\n",
        "\n",
        "# Example of using pre-defined tesseract config file with options\n",
        "cfg_filename = 'words'\n",
        "pytesseract.run_and_get_output(image, extension='txt', config=cfg_filename)"
      ]
    },
    {
      "cell_type": "code",
      "execution_count": null,
      "metadata": {},
      "outputs": [],
      "source": []
    },
    {
      "cell_type": "code",
      "execution_count": null,
      "metadata": {},
      "outputs": [],
      "source": []
    },
    {
      "cell_type": "code",
      "execution_count": null,
      "metadata": {},
      "outputs": [],
      "source": []
    },
    {
      "cell_type": "markdown",
      "metadata": {},
      "source": [
        "### 1. Parametros"
      ]
    },
    {
      "cell_type": "code",
      "execution_count": 6,
      "metadata": {},
      "outputs": [],
      "source": [
        "dir_pattern = \"novo_modelo/modelos/user-patterns2.txt\""
      ]
    },
    {
      "cell_type": "code",
      "execution_count": 7,
      "metadata": {},
      "outputs": [],
      "source": [
        "# If you don't have tesseract executable in your PATH, include the following:\n",
        "tessdata_dir_config_novo = '--tessdata-dir \"/home/dani-boy/miniconda3/envs/tables-detr/share/tessdata/\" --user-patterns \"novo_modelo/modelos/user-patterns2.txt\" --dpi 600 --oem 1 --psm 6'"
      ]
    },
    {
      "cell_type": "code",
      "execution_count": null,
      "metadata": {},
      "outputs": [],
      "source": []
    },
    {
      "cell_type": "code",
      "execution_count": null,
      "metadata": {},
      "outputs": [],
      "source": [
        "texto_celula = pytesseract.image_to_string(image, config=tessdata_dir_config_novo, lang='por')"
      ]
    },
    {
      "cell_type": "code",
      "execution_count": null,
      "metadata": {},
      "outputs": [],
      "source": [
        "texto_celula"
      ]
    },
    {
      "cell_type": "code",
      "execution_count": null,
      "metadata": {},
      "outputs": [],
      "source": [
        "print(texto_celula)"
      ]
    },
    {
      "cell_type": "code",
      "execution_count": null,
      "metadata": {},
      "outputs": [],
      "source": [
        "image_path = \"novo_modelo/images/processadas/sections/Captura de tela 2023-08-22 145853.png\""
      ]
    },
    {
      "cell_type": "code",
      "execution_count": 8,
      "metadata": {},
      "outputs": [],
      "source": [
        "image_path = \"novo_modelo/images/processadas/sections/6_frame_valores_impostos.jpg\""
      ]
    },
    {
      "cell_type": "code",
      "execution_count": null,
      "metadata": {},
      "outputs": [],
      "source": [
        "image = Image.open(image_path).convert(\"RGB\")"
      ]
    },
    {
      "cell_type": "code",
      "execution_count": null,
      "metadata": {},
      "outputs": [],
      "source": [
        "width, height = image.size"
      ]
    },
    {
      "cell_type": "code",
      "execution_count": null,
      "metadata": {},
      "outputs": [],
      "source": [
        "image.verify"
      ]
    },
    {
      "cell_type": "code",
      "execution_count": null,
      "metadata": {},
      "outputs": [],
      "source": [
        "factor = 0.5\n",
        "image = image.resize((int(width*factor), int(height*factor)))"
      ]
    },
    {
      "cell_type": "code",
      "execution_count": null,
      "metadata": {},
      "outputs": [],
      "source": [
        "image"
      ]
    },
    {
      "cell_type": "markdown",
      "metadata": {},
      "source": [
        "### Table Transformer"
      ]
    },
    {
      "cell_type": "code",
      "execution_count": 9,
      "metadata": {},
      "outputs": [],
      "source": [
        "# Sera deprecated\n",
        "from transformers import DetrFeatureExtractor\n",
        "import torch\n",
        "\n",
        "\n"
      ]
    },
    {
      "cell_type": "code",
      "execution_count": null,
      "metadata": {},
      "outputs": [],
      "source": [
        "encoding = feature_extractor(image, return_tensors=\"pt\")\n",
        "encoding.keys()"
      ]
    },
    {
      "cell_type": "code",
      "execution_count": null,
      "metadata": {},
      "outputs": [],
      "source": [
        "with torch.no_grad():\n",
        "  outputs = model(**encoding)"
      ]
    },
    {
      "cell_type": "code",
      "execution_count": null,
      "metadata": {},
      "outputs": [],
      "source": [
        "# rescale bounding boxes\n",
        "width, height = image.size\n",
        "results = feature_extractor.post_process_object_detection(outputs, threshold=0.6, target_sizes=[(height, width)])[0]"
      ]
    },
    {
      "cell_type": "code",
      "execution_count": null,
      "metadata": {},
      "outputs": [],
      "source": [
        "plot_results(image, results['scores'], results['labels'], results['boxes'])"
      ]
    },
    {
      "cell_type": "code",
      "execution_count": null,
      "metadata": {},
      "outputs": [],
      "source": []
    },
    {
      "cell_type": "code",
      "execution_count": null,
      "metadata": {},
      "outputs": [],
      "source": []
    },
    {
      "cell_type": "code",
      "execution_count": null,
      "metadata": {},
      "outputs": [],
      "source": [
        "for roots, directories, images in os.walk(root_dir_section_images):\n",
        "                for image in images:\n",
        "                    #print(f'\\n{roots}, {directories}, {images}')\n",
        "                    #image_path = os.path.join(roots, image)\n",
        "                    #print(image_path, image)\n",
        "                    frame = image\n",
        "                    \n",
        "                    if frame == \"6_frame_valores_impostos.jpg\": \n",
        "                        image_path = os.path.join(roots, image)\n",
        "                        image_to_ocr = Image.open(image_path).convert('RGB')\n",
        "                        text = pytesseract.image_to_string(image_to_ocr, lang='por', config=tessdata_dir_config)\n",
        "                           "
      ]
    },
    {
      "cell_type": "markdown",
      "metadata": {},
      "source": [
        "tessdata_dir_config_novo = '--tessdata-dir \"C:\\\\Program Files\\\\Tesseract-OCR\\\\tessdata\" --dpi 300 --oem 1 --psm 4'"
      ]
    },
    {
      "cell_type": "code",
      "execution_count": 11,
      "metadata": {},
      "outputs": [],
      "source": [
        "def processaOcrTable2(file_path, results):\n",
        "    dados_da_tabela = {}\n",
        "    # Carregue a imagem do PDF (ou outra fonte)\n",
        "    img_pdf = cv2.imread(file_path, cv2.IMREAD_COLOR) \n",
        "    \n",
        "    # Processo de OCR para cada célula e preenchimento do dicionário\n",
        "    for i in range(results['boxes'].shape[0]):\n",
        "        retangulo = results['boxes'][i].tolist()\n",
        "        img_celula = recortar_imagem(img_pdf, retangulo)\n",
        "        texto_celula = pytesseract.image_to_string(img_celula, config=tessdata_dir_config_novo, lang='por')\n",
        "        \n",
        "        # Mapear o ID numérico do rótulo para o rótulo descritivo usando model.config.id2label\n",
        "        label_id = results['labels'][i].item() if isinstance(results['labels'][i], torch.Tensor) else results['labels'][i]\n",
        "        label_descritivo = model.config.id2label[label_id]\n",
        "        \n",
        "        # Adicionar as informações ao dicionário\n",
        "        chave_celula = f'celula_{i}'\n",
        "        \n",
        "        dados_da_tabela[chave_celula] = {\n",
        "            'coordenadas': retangulo,\n",
        "            'label': label_descritivo,\n",
        "            'texto': texto_celula\n",
        "        }\n",
        "    return dados_da_tabela \n",
        "\n",
        "def processaTabela2(file_path, factor, t_hold):\n",
        "  \n",
        "  image = Image.open(file_path).convert(\"RGB\")\n",
        "  width, height = image.size\n",
        "  image = image.resize((int(width*factor), int(height*factor)))\n",
        "\n",
        "  feature_extractor = DetrImageProcessor()\n",
        "  encoding = feature_extractor(image, return_tensors=\"pt\")\n",
        "  \n",
        "  with torch.no_grad():\n",
        "    outputs = model(**encoding)\n",
        "      \n",
        "  target_sizes = [image.size[::-1]]\n",
        "  results = feature_extractor.post_process_object_detection(outputs, threshold=t_hold, target_sizes=target_sizes)[0]\n",
        "  \n",
        "  return results   \n",
        "\n",
        "\n",
        "\n",
        "def plot_results(pil_img, scores, labels, boxes):\n",
        "    plt.figure(figsize=(26,20))\n",
        "    plt.imshow(pil_img)\n",
        "    ax = plt.gca()\n",
        "    colors = COLORS * 100\n",
        "    for score, label, (xmin, ymin, xmax, ymax),c  in zip(scores.tolist(), labels.tolist(), boxes.tolist(), colors):\n",
        "        ax.add_patch(plt.Rectangle((xmin, ymin), xmax - xmin, ymax - ymin,\n",
        "                                   fill=False, color=c, linewidth=3))\n",
        "        text = f'{model.config.id2label[label]}: {score:0.2f}'\n",
        "        ax.text(xmin, ymin, text, fontsize=10,\n",
        "                bbox=dict(facecolor='yellow', alpha=0.3))\n",
        "    plt.axis('off')\n",
        "    plt.show()"
      ]
    },
    {
      "cell_type": "code",
      "execution_count": null,
      "metadata": {},
      "outputs": [],
      "source": [
        "image_path = \"novo_modelo/images/processadas/sections/Captura de tela 2023-08-22 145853.png\""
      ]
    },
    {
      "cell_type": "code",
      "execution_count": 12,
      "metadata": {},
      "outputs": [
        {
          "data": {
            "text/plain": [
              "'novo_modelo/images/processadas/sections/6_frame_valores_impostos.jpg'"
            ]
          },
          "execution_count": 12,
          "metadata": {},
          "output_type": "execute_result"
        }
      ],
      "source": [
        "image_path"
      ]
    },
    {
      "cell_type": "code",
      "execution_count": 13,
      "metadata": {},
      "outputs": [],
      "source": [
        "factor = 0.5\n",
        "t_hold = 0.6\n",
        "\n",
        "results = processaTabela2(image_path, factor, t_hold)"
      ]
    },
    {
      "cell_type": "code",
      "execution_count": 14,
      "metadata": {},
      "outputs": [],
      "source": [
        "# 7. Processa OCR\n",
        "dados_da_tabela = processaOcrTable2(image_path, results)"
      ]
    },
    {
      "cell_type": "code",
      "execution_count": 17,
      "metadata": {},
      "outputs": [
        {
          "data": {
            "text/plain": [
              "{'celula_0': {'coordenadas': [482.7177734375,\n",
              "   16.424301147460938,\n",
              "   570.324462890625,\n",
              "   130.5030059814453],\n",
              "  'label': 'table column',\n",
              "  'texto': 'RVIÇOS\\n84,55\\n'},\n",
              " 'celula_1': {'coordenadas': [681.6405639648438,\n",
              "   16.693172454833984,\n",
              "   768.5257568359375,\n",
              "   130.37234497070312],\n",
              "  'label': 'table column',\n",
              "  'texto': 'ÇÃO:\\no\\n'},\n",
              " 'celula_2': {'coordenadas': [520.3229370117188,\n",
              "   16.28337287902832,\n",
              "   594.4053955078125,\n",
              "   130.77102661132812],\n",
              "  'label': 'table column',\n",
              "  'texto': 'ços:\\n5\\n'},\n",
              " 'celula_3': {'coordenadas': [591.4642333984375,\n",
              "   16.514738082885742,\n",
              "   672.9388427734375,\n",
              "   130.43788146972656],\n",
              "  'label': 'table column',\n",
              "  'texto': 'VALO\\nDEDL\\nR$0,\\n'},\n",
              " 'celula_4': {'coordenadas': [54.0112190246582,\n",
              "   17.287837982177734,\n",
              "   160.11297607421875,\n",
              "   130.41624450683594],\n",
              "  'label': 'table column',\n",
              "  'texto': 'g\\n'},\n",
              " 'celula_5': {'coordenadas': [407.39788818359375,\n",
              "   16.63365364074707,\n",
              "   483.12017822265625,\n",
              "   130.44577026367188],\n",
              "  'label': 'table column',\n",
              "  'texto': 'OR SE\\n1.044.6;\\n'},\n",
              " 'celula_6': {'coordenadas': [309.46588134765625,\n",
              "   16.367904663085938,\n",
              "   399.22930908203125,\n",
              "   130.56825256347656],\n",
              "  'label': 'table column',\n",
              "  'texto': 'VAI\\n| R$\\n-i\\n'},\n",
              " 'celula_7': {'coordenadas': [53.949832916259766,\n",
              "   17.535537719726562,\n",
              "   979.9813842773438,\n",
              "   86.01555633544922],\n",
              "  'label': 'table row',\n",
              "  'texto': 'VALOR SERVIÇOS: VALOR | DESC. INCOND\\num mm R$ 1.044.684,55 DEDUÇÃO: R$ 0,00\\n'},\n",
              " 'celula_8': {'coordenadas': [771.4404296875,\n",
              "   16.839487075805664,\n",
              "   860.1985473632812,\n",
              "   130.09141540527344],\n",
              "  'label': 'table column',\n",
              "  'texto': 'DES:\\nR$0\\n'},\n",
              " 'celula_9': {'coordenadas': [224.98915100097656,\n",
              "   16.627687454223633,\n",
              "   297.45843505859375,\n",
              "   130.40673828125],\n",
              "  'label': 'table column',\n",
              "  'texto': 'Pe\\n'},\n",
              " 'celula_10': {'coordenadas': [863.5875244140625,\n",
              "   16.484766006469727,\n",
              "   982.2618408203125,\n",
              "   130.43577575683594],\n",
              "  'label': 'table column',\n",
              "  'texto': '>. INCOND:\\n00\\n'},\n",
              " 'celula_11': {'coordenadas': [53.676517486572266,\n",
              "   88.78675079345703,\n",
              "   981.1267700195312,\n",
              "   129.64903259277344],\n",
              "  'label': 'table row',\n",
              "  'texto': 'E tada R$ 0,00\\na\\n'},\n",
              " 'celula_12': {'coordenadas': [53.852149963378906,\n",
              "   17.874027252197266,\n",
              "   979.6229858398438,\n",
              "   86.46062469482422],\n",
              "  'label': 'table column header',\n",
              "  'texto': 'VALOR SERVIÇOS: VALOR | DESC. INCOND\\num mm R$ 1.044.684,55 DEDUÇÃO: R$ 0,00\\n'},\n",
              " 'celula_13': {'coordenadas': [158.8717803955078,\n",
              "   16.9166259765625,\n",
              "   278.0185852050781,\n",
              "   130.2174835205078],\n",
              "  'label': 'table column',\n",
              "  'texto': 'Dies\\n'},\n",
              " 'celula_14': {'coordenadas': [53.19702911376953,\n",
              "   16.72996711730957,\n",
              "   981.7149047851562,\n",
              "   130.4430389404297],\n",
              "  'label': 'table',\n",
              "  'texto': 'VALOR SERVIÇOS: VALOR | DESC. INCOND\\nR$ 1.044.684,55 DEDUÇÃO: R$ 0,00\\n-—\\n'}}"
            ]
          },
          "execution_count": 17,
          "metadata": {},
          "output_type": "execute_result"
        }
      ],
      "source": [
        "dados_da_tabela"
      ]
    },
    {
      "cell_type": "code",
      "execution_count": 20,
      "metadata": {},
      "outputs": [],
      "source": [
        "# 8. Captura dados (Regex)\n",
        "textos = []\n",
        "for i in dados_da_tabela:\n",
        "    texto = dados_da_tabela[i]['texto']\n",
        "    textos.append(texto)"
      ]
    },
    {
      "cell_type": "code",
      "execution_count": 18,
      "metadata": {},
      "outputs": [],
      "source": [
        "# 8. Captura dados (Regex)\n",
        "textos = []\n",
        "for i in dados_da_tabela:\n",
        "   if dados_da_tabela[i]['label'] == \"table column\":\n",
        "      texto = dados_da_tabela[i]['texto']\n",
        "      textos.append(texto)"
      ]
    },
    {
      "cell_type": "code",
      "execution_count": 21,
      "metadata": {},
      "outputs": [
        {
          "data": {
            "text/plain": [
              "['RVIÇOS\\n84,55\\n',\n",
              " 'ÇÃO:\\no\\n',\n",
              " 'ços:\\n5\\n',\n",
              " 'VALO\\nDEDL\\nR$0,\\n',\n",
              " 'g\\n',\n",
              " 'OR SE\\n1.044.6;\\n',\n",
              " 'VAI\\n| R$\\n-i\\n',\n",
              " 'VALOR SERVIÇOS: VALOR | DESC. INCOND\\num mm R$ 1.044.684,55 DEDUÇÃO: R$ 0,00\\n',\n",
              " 'DES:\\nR$0\\n',\n",
              " 'Pe\\n',\n",
              " '>. INCOND:\\n00\\n',\n",
              " 'E tada R$ 0,00\\na\\n',\n",
              " 'VALOR SERVIÇOS: VALOR | DESC. INCOND\\num mm R$ 1.044.684,55 DEDUÇÃO: R$ 0,00\\n',\n",
              " 'Dies\\n',\n",
              " 'VALOR SERVIÇOS: VALOR | DESC. INCOND\\nR$ 1.044.684,55 DEDUÇÃO: R$ 0,00\\n-—\\n']"
            ]
          },
          "execution_count": 21,
          "metadata": {},
          "output_type": "execute_result"
        }
      ],
      "source": [
        "textos"
      ]
    },
    {
      "cell_type": "code",
      "execution_count": 22,
      "metadata": {},
      "outputs": [
        {
          "name": "stdout",
          "output_type": "stream",
          "text": [
            "['RVIÇOS\\n84,55\\n', 'ÇÃO:\\no\\n', 'ços:\\n5\\n', 'VALO\\nDEDL\\nR$0,\\n', 'g\\n', 'OR SE\\n1.044.6;\\n', 'VAI\\n| R$\\n-i\\n', 'VALOR SERVIÇOS: VALOR | DESC. INCOND\\num mm R$ 1.044.684,55 DEDUÇÃO: R$ 0,00\\n', 'DES:\\nR$0\\n', 'Pe\\n', '>. INCOND:\\n00\\n', 'E tada R$ 0,00\\na\\n', 'VALOR SERVIÇOS: VALOR | DESC. INCOND\\num mm R$ 1.044.684,55 DEDUÇÃO: R$ 0,00\\n', 'Dies\\n', 'VALOR SERVIÇOS: VALOR | DESC. INCOND\\nR$ 1.044.684,55 DEDUÇÃO: R$ 0,00\\n-—\\n']\n"
          ]
        }
      ],
      "source": [
        "print(textos)"
      ]
    },
    {
      "cell_type": "code",
      "execution_count": null,
      "metadata": {},
      "outputs": [],
      "source": [
        "# 8. Captura dados (Regex)\n",
        "textos = []\n",
        "for i in dados_da_tabela:\n",
        "   if dados_da_tabela[i]['label'] == \"table column\":\n",
        "      texto = dados_da_tabela[i]['texto']\n",
        "      textos.append(texto)\n",
        "      #print(f\"\\n{i}: \\n{dados_da_tabela[i]['texto']}\")"
      ]
    },
    {
      "cell_type": "code",
      "execution_count": null,
      "metadata": {},
      "outputs": [],
      "source": [
        "len(textos)"
      ]
    },
    {
      "cell_type": "code",
      "execution_count": null,
      "metadata": {},
      "outputs": [],
      "source": [
        "textos"
      ]
    },
    {
      "cell_type": "code",
      "execution_count": null,
      "metadata": {},
      "outputs": [],
      "source": [
        "import re\n",
        "\n",
        "# Lista com os valores extraídos\n",
        "valores_extraidos = [\n",
        "    'ID: BASE DE\\nCALCULO:\\nR$ 1.044.684,5\\nVALOR INSS:\\nR$ 11.491,53\\n',\n",
        "    'VALOR ISS:\\n\\nR$ 0,00\\nOUTRAS RETEN\\nR$ 0,00\\n',\n",
        "    'DE Al\\nJLO: 2\\n44.684,55\\n\\n? INSS: V\\n491,53 R\\n',\n",
        "    'ALÍQUOTA:\\n2%\\n\\nVALOR CSLL:\\nR$ 0,00\\n',\n",
        "    'a\\nnjsiais\\n',\n",
        "    'C. INCOND:\\n+00\\n\\nRIR:\\n\\n00\\n',\n",
        "    'DES:\\nR$0\\nFINS: VALC\\nR$0.\\n',\n",
        "    'VALOR ISS\\nRETIDO:\\n\\nR$ 20.893,69\\nÇÕES:\\n',\n",
        "    '= VALOR\\nDEDUÇÃO:\\nR$ 0,00\\nVALOR COF\\nR$ 0.00\\n',\n",
        "    'DESC. COND:\\nR$ 0,00\\n\\nVALOR LÍQUIDO:\\nR$ 1.012.299,33\\n',\n",
        "    'VALOR SERVIÇOS:\\n| R$ 1.044.684,55\\n]\\nJ\\n«VALOR PIS:\\n\" R$000\\n'\n",
        "]\n",
        "\n",
        "# Dicionário para associar chaves aos valores\n",
        "valores_associados = {}\n",
        "\n",
        "# Padrão de regex para valores monetários\n",
        "padrao_monetario = r'R\\$ ([\\d,.]+)'\n",
        "\n",
        "# Associar os valores extraídos às chaves\n",
        "chave_atual = None\n",
        "for texto in valores_extraidos:\n",
        "    valores_encontrados = re.findall(padrao_monetario, texto)\n",
        "    \n",
        "    # Associar valores à chave atual\n",
        "    for valor in valores_encontrados:\n",
        "        if \"VALOR SERVIÇOS\":\n",
        "            valor_formatado = valor.replace('.', '').replace(',', '.')\n",
        "            valores_associados[\"VALOR SERVIÇOS\"] = valor_formatado\n",
        "            chave_atual = None\n",
        "        else:\n",
        "            chave_atual = valor\n",
        "\n",
        "# Imprimir os valores associados\n",
        "for chave, valor in valores_associados.items():\n",
        "    print(f\"{chave}: {valor}\")\n",
        "\n"
      ]
    },
    {
      "cell_type": "code",
      "execution_count": null,
      "metadata": {},
      "outputs": [],
      "source": [
        "import re\n",
        "\n",
        "# Lista com os valores extraídos\n",
        "valores_extraidos = [\n",
        "    'ID: BASE DE\\nCALCULO:\\nR$ 1.044.684,5\\nVALOR INSS:\\nR$ 11.491,53\\n',\n",
        "    'VALOR ISS:\\n\\nR$ 0,00\\nOUTRAS RETEN\\nR$ 0,00\\n',\n",
        "    'DE Al\\nJLO: 2\\n44.684,55\\n\\n? INSS: V\\n491,53 R\\n',\n",
        "    'ALÍQUOTA:\\n2%\\n\\nVALOR CSLL:\\nR$ 0,00\\n',\n",
        "    'a\\nnjsiais\\n',\n",
        "    'C. INCOND:\\n+00\\n\\nRIR:\\n\\n00\\n',\n",
        "    'DES:\\nR$0\\nFINS: VALC\\nR$0.\\n',\n",
        "    'VALOR ISS\\nRETIDO:\\n\\nR$ 20.893,69\\nÇÕES:\\n',\n",
        "    '= VALOR\\nDEDUÇÃO:\\nR$ 0,00\\nVALOR COF\\nR$ 0.00\\n',\n",
        "    'DESC. COND:\\nR$ 0,00\\n\\nVALOR LÍQUIDO:\\nR$ 1.012.299,33\\n',\n",
        "    'VALOR SERVIÇOS:\\n| R$ 1.044.684,55\\n]\\nJ\\n«VALOR PIS:\\n\" R$000\\n'\n",
        "]\n",
        "\n",
        "# Lista de chaves esperadas\n",
        "chaves_esperadas = [\n",
        "    'VALOR SERVIÇOS', 'VALOR DEDUÇÃO', 'DESC. INCOND', 'BASE DE CÁLCULO',\n",
        "    'ALÍQUOTA', 'VALOR ISS', 'VALOR ISS RETIDO', 'VALOR CSLL', 'VALOR PIS',\n",
        "    'VALOR COFINS', 'DESC. COND', 'VALOR LÍQUIDO'\n",
        "]\n",
        "\n",
        "# Dicionário para associar chaves aos valores\n",
        "valores_associados = {}\n",
        "\n",
        "# Padrão de regex para valores monetários\n",
        "padrao_monetario = r'R\\$ ([\\d,.]+)'\n",
        "\n",
        "# Associar os valores extraídos às chaves\n",
        "chave_atual = None\n",
        "for texto in valores_extraidos:\n",
        "    valores_encontrados = re.findall(padrao_monetario, texto)\n",
        "    \n",
        "    # Associar valores à chave atual\n",
        "    for valor in valores_encontrados:\n",
        "        if chave_atual:\n",
        "            valor_formatado = valor.replace('.', '').replace(',', '.')\n",
        "            # Procurar por substrings nas chaves esperadas\n",
        "            chave_encontrada = next((chave for chave in chaves_esperadas if chave in chave_atual), None)\n",
        "            if chave_encontrada:\n",
        "                valores_associados[chave_encontrada] = valor_formatado\n",
        "            chave_atual = None\n",
        "        else:\n",
        "            chave_atual = valor\n",
        "\n",
        "# Imprimir os valores associados\n",
        "for chave, valor in valores_associados.items():\n",
        "    print(f\"{chave}: {valor}\")\n"
      ]
    },
    {
      "cell_type": "code",
      "execution_count": null,
      "metadata": {},
      "outputs": [],
      "source": [
        "import re\n",
        "\n",
        "# Lista com os valores extraídos\n",
        "valores_extraidos = [\n",
        "    'ID: BASE DE\\nCALCULO:\\nR$ 1.044.684,5\\nVALOR INSS:\\nR$ 11.491,53\\n',\n",
        "    'VALOR ISS:\\n\\nR$ 0,00\\nOUTRAS RETEN\\nR$ 0,00\\n',\n",
        "    'DE Al\\nJLO: 2\\n44.684,55\\n\\n? INSS: V\\n491,53 R\\n',\n",
        "    'ALÍQUOTA:\\n2%\\n\\nVALOR CSLL:\\nR$ 0,00\\n',\n",
        "    'a\\nnjsiais\\n',\n",
        "    'C. INCOND:\\n+00\\n\\nRIR:\\n\\n00\\n',\n",
        "    'DES:\\nR$0\\nFINS: VALC\\nR$0.\\n',\n",
        "    'VALOR ISS\\nRETIDO:\\n\\nR$ 20.893,69\\nÇÕES:\\n',\n",
        "    '= VALOR\\nDEDUÇÃO:\\nR$ 0,00\\nVALOR COF\\nR$ 0.00\\n',\n",
        "    'DESC. COND:\\nR$ 0,00\\n\\nVALOR LÍQUIDO:\\nR$ 1.012.299,33\\n',\n",
        "    'VALOR SERVIÇOS:\\n| R$ 1.044.684,55\\n]\\nJ\\n«VALOR PIS:\\n\" R$000\\n'\n",
        "]\n",
        "\n",
        "# Lista de chaves esperadas\n",
        "chaves_esperadas = [\n",
        "    'VALOR SERVIÇOS', 'VALOR DEDUÇÃO', 'DESC. INCOND', 'BASE DE CÁLCULO',\n",
        "    'ALÍQUOTA', 'VALOR ISS', 'VALOR ISS RETIDO', 'VALOR CSLL', 'VALOR PIS',\n",
        "    'VALOR COFINS', 'DESC. COND', 'VALOR LÍQUIDO'\n",
        "]\n",
        "\n",
        "# Dicionário para associar chaves aos valores\n",
        "valores_associados = {}\n",
        "\n",
        "# Padrão de regex para valores monetários\n",
        "padrao_monetario = r'R\\$ ([\\d,.]+)'\n",
        "\n",
        "# Associar os valores extraídos às chaves\n",
        "chave_atual = None\n",
        "for texto in valores_extraidos:\n",
        "    valores_encontrados = re.findall(padrao_monetario, texto)\n",
        "    \n",
        "    # Associar valores à chave atual\n",
        "    for valor in valores_encontrados:\n",
        "        if chave_atual:\n",
        "            valor_formatado = valor.replace('.', '').replace(',', '.')\n",
        "            # Procurar por substrings nas chaves esperadas\n",
        "            chave_encontrada = next((chave for chave in chaves_esperadas if chave in chave_atual), None)\n",
        "            if chave_encontrada:\n",
        "                valores_associados[chave_encontrada] = valor_formatado\n",
        "            chave_atual = None\n",
        "        else:\n",
        "            chave_atual = valor\n",
        "\n",
        "# Imprimir os valores associados\n",
        "for chave, valor in valores_associados.items():\n",
        "    print(f\"{chave}: {valor}\")\n"
      ]
    },
    {
      "cell_type": "code",
      "execution_count": null,
      "metadata": {},
      "outputs": [],
      "source": [
        "VALOR SERVIÇOS: \n",
        "\n",
        "\n",
        "VALOR\n",
        "DEDUÇÃO:\n",
        "\n",
        "\n",
        "DESC. INCOND:\n",
        "\n",
        "BASE DE\n",
        "CÁLCULO:\n",
        "\n",
        "\n",
        "ALÍQUOTA:\n",
        "\n",
        "\n",
        "VALOR ISS:\n",
        "\n",
        "\n",
        "VALOR ISS\n",
        "RETIDO:\n",
        "\n",
        "\n",
        "DESC. COND:\n",
        "\n",
        "\n",
        "VALOR PIS:\n",
        "\n",
        "\n",
        "VALOR COFINS:\n",
        "\n",
        "\n",
        "VALOR INSS:\n",
        "\n",
        "\n",
        "VALOR CSLL:\n",
        "\n",
        "\n",
        "OUTRAS RETENÇÕES:\n",
        "\n",
        "\n",
        "VALOR LÍQUIDO:\n"
      ]
    },
    {
      "cell_type": "code",
      "execution_count": null,
      "metadata": {},
      "outputs": [],
      "source": [
        "import re\n",
        "\n",
        "\n",
        "valores_extraidos = [\n",
        "    'ID: BASE DE\\nCALCULO:\\nR$ 1.044.684,5\\nVALOR INSS:\\nR$ 11.491,53\\n',\n",
        "    'VALOR ISS:\\n\\nR$ 0,00\\nOUTRAS RETEN\\nR$ 0,00\\n',\n",
        "    'DE Al\\nJLO: 2\\n44.684,55\\n\\n? INSS: V\\n491,53 R\\n',\n",
        "    'ALÍQUOTA:\\n2%\\n\\nVALOR CSLL:\\nR$ 0,00\\n',\n",
        "    'a\\nnjsiais\\n',\n",
        "    'C. INCOND:\\n+00\\n\\nRIR:\\n\\n00\\n',\n",
        "    'DES:\\nR$0\\nFINS: VALC\\nR$0.\\n',\n",
        "    'VALOR ISS\\nRETIDO:\\n\\nR$ 20.893,69\\nÇÕES:\\n',\n",
        "    '= VALOR\\nDEDUÇÃO:\\nR$ 0,00\\nVALOR COF\\nR$ 0.00\\n',\n",
        "    'DESC. COND:\\nR$ 0,00\\n\\nVALOR LÍQUIDO:\\nR$ 1.012.299,33\\n',\n",
        "    'VALOR SERVIÇOS:\\n| R$ 1.044.684,55\\n]\\nJ\\n«VALOR PIS:\\n\" R$000\\n'\n",
        "]\n",
        "\n",
        "\n",
        "\n",
        "# Texto completo com os valores extraídos\n",
        "texto_completo = '\\n'.join(valores_extraidos)\n",
        "\n",
        "# Lista de chaves esperadas\n",
        "chaves_esperadas = [\n",
        "    'BASE DE\\nCALCULO:',  #BASE DE CÁLCULO:R$ 1.044.684,55\n",
        "    'VALOR INSS:', \n",
        "    'VALOR ISS:',\n",
        "    'OUTRAS RETEN',\n",
        "    'ALÍQUOTA:',\n",
        "    'VALOR CSLL:'\n",
        "]\n",
        "\n",
        "# Dicionário para associar chaves aos valores\n",
        "valores_associados = {}\n",
        "\n",
        "# Padrão de regex para valores monetários e percentuais\n",
        "padrao_monetario_percentual = r'([\\d.,]+)(%|\\s?R\\$)'\n",
        "\n",
        "# Encontrar e associar os valores\n",
        "chave_atual = None\n",
        "for linha in valores_extraidos:\n",
        "    linha = linha.replace('\\n', ' ')  # Remover quebras de linha\n",
        "    valores_encontrados = re.findall(padrao_monetario_percentual, linha)\n",
        "    \n",
        "    for valor, unidade in valores_encontrados:\n",
        "        if chave_atual:\n",
        "            chave_encontrada = next((chave for chave in chaves_esperadas if chave.lower() in chave_atual.lower()), None)\n",
        "            if chave_encontrada:\n",
        "                if unidade == '%':\n",
        "                    valor_formatado = f\"{valor}%\"\n",
        "                else:\n",
        "                    valor_formatado = valor.replace('.', '').replace(',', '.')\n",
        "                    valor_formatado = f\"R$ {valor_formatado}\"\n",
        "                valores_associados[chave_encontrada] = valor_formatado\n",
        "            chave_atual = None\n",
        "        else:\n",
        "            chave_atual = valor\n",
        "\n",
        "# Imprimir os valores associados\n",
        "for chave, valor in valores_associados.items():\n",
        "    print(f\"{chave}: {valor}\")"
      ]
    },
    {
      "cell_type": "code",
      "execution_count": null,
      "metadata": {},
      "outputs": [],
      "source": [
        "import re\n",
        "\n",
        "\n",
        "valores_extraidos = [\n",
        "    'ID: BASE DE\\nCALCULO:\\nR$ 1.044.684,5\\nVALOR INSS:\\nR$ 11.491,53\\n',\n",
        "    'VALOR ISS:\\n\\nR$ 0,00\\nOUTRAS RETEN\\nR$ 0,00\\n',\n",
        "    'DE Al\\nJLO: 2\\n44.684,55\\n\\n? INSS: V\\n491,53 R\\n',\n",
        "    'ALÍQUOTA:\\nR$ 2,00\\n\\nVALOR CSLL:\\nR$ 0,00\\n',\n",
        "    'a\\nnjsiais\\n',\n",
        "    'C. INCOND:\\n+00\\n\\nRIR:\\n\\n00\\n',\n",
        "    'DES:\\nR$0\\nFINS: VALC\\nR$0.\\n',\n",
        "    'VALOR ISS\\nRETIDO:\\n\\nR$ 20.893,69\\nÇÕES:\\n',\n",
        "    '= VALOR\\nDEDUÇÃO:\\nR$ 0,00\\nVALOR COF\\nR$ 0.00\\n',\n",
        "    'DESC. COND:\\nR$ 0,00\\n\\nVALOR LÍQUIDO:\\nR$ 1.012.299,33\\n',\n",
        "    'VALOR SERVIÇOS:\\n| R$ 1.044.684,55\\n]\\nJ\\n«VALOR PIS:\\n\" R$000\\n'\n",
        "]\n",
        "\n",
        "\n",
        "\n",
        "# Texto completo com os valores extraídos\n",
        "texto_completo = '\\n'.join(valores_extraidos)\n",
        "\n",
        "# Lista de chaves esperadas\n",
        "chaves_esperadas = [\n",
        "    'BASE DE\\nCALCULO',  #BASE DE CÁLCULO:R$ 1.044.684,55\n",
        "    'VALOR INSS', \n",
        "    'VALOR ISS',\n",
        "    'OUTRAS RETEN',\n",
        "    'ALÍQUOTA',\n",
        "    'VALOR CSLL',\n",
        "    'VALOR\\nDEDUÇÃO',\n",
        "    'VALOR ISS\\nRETIDO',\n",
        "    'VALOR SERVIÇOS',\n",
        "    'VALOR PIS'\n",
        "]\n",
        "\n",
        "# Dicionário para associar chaves aos valores\n",
        "valores_associados = {}\n",
        "\n",
        "# Padrão de regex para valores monetários\n",
        "padrao_monetario = r'R\\$ ([\\d,.]+)'\n",
        "\n",
        "padrao = r'([\\d.,]+)(%|\\s?R\\$)'\n",
        "\n",
        "# Encontrar e associar os valores\n",
        "for chave in chaves_esperadas:\n",
        "    valor_encontrado = re.search(f'{chave}.*?{padrao_monetario}', texto_completo, re.DOTALL)\n",
        "    if valor_encontrado:\n",
        "        valor_formatado = valor_encontrado.group(1).replace('.', '').replace(',', '.')\n",
        "        valores_associados[chave] = valor_formatado\n",
        "\n",
        "# Imprimir os valores associados\n",
        "for chave, valor in valores_associados.items():\n",
        "    print(f\"{chave}: {valor}\")\n"
      ]
    },
    {
      "cell_type": "code",
      "execution_count": null,
      "metadata": {},
      "outputs": [],
      "source": [
        "BASE DE\n",
        "CÁLCULO:\n",
        "R$ 1.044.684,55\n",
        "\n",
        "VALOR SERVIÇOS: \n",
        "R$ 1.044.684,55\n",
        "\n",
        "VALOR INSS:\n",
        "R$ 11.491,53\n",
        "\n",
        "VALOR ISS:\n",
        "R$ 0,00\n",
        "\n",
        "OUTRAS RETENÇÕES:\n",
        "R$ 0,00\n",
        "\n",
        "ALÍQUOTA:\n",
        "2%\n",
        "\n",
        "VALOR CSLL:\n",
        "R$ 0,00\n",
        "\n",
        "VALOR\n",
        "DEDUÇÃO:\n",
        "R$ 0,00\n",
        "\n",
        "\n",
        "VALOR ISS\n",
        "RETIDO:\n",
        "R$ 20.893,69"
      ]
    },
    {
      "cell_type": "code",
      "execution_count": null,
      "metadata": {},
      "outputs": [],
      "source": [
        "    'VALOR DEDUÇÃO', 'DESC. INCOND', 'BASE DE CÁLCULO',\n",
        "    'ALÍQUOTA', 'VALOR ISS', 'VALOR ISS RETIDO', 'VALOR CSLL', 'VALOR PIS',\n",
        "    'VALOR COFINS', 'DESC. COND', 'VALOR LÍQUIDO', 'DEDUÇÃO:"
      ]
    },
    {
      "cell_type": "code",
      "execution_count": null,
      "metadata": {},
      "outputs": [],
      "source": [
        "\n",
        "\n",
        "\n",
        "\n",
        "DESC. INCOND:\n",
        "R$ 0,00\n",
        "\n",
        "\n",
        "\n",
        "\n",
        "\n",
        "\n",
        "\n",
        "\n",
        "DESC. COND:\n",
        "R$ 0,00\n",
        "\n",
        "VALOR PIS:\n",
        "R$ 0,00\n",
        "\n",
        "VALOR COFINS:\n",
        "R$ 0,00\n",
        "\n",
        "\n",
        "\n",
        "\n",
        "\n",
        "\n",
        "\n",
        "VALOR LÍQUIDO:\n",
        "R$ 1.012.299,33"
      ]
    },
    {
      "cell_type": "code",
      "execution_count": null,
      "metadata": {},
      "outputs": [],
      "source": []
    },
    {
      "cell_type": "code",
      "execution_count": null,
      "metadata": {},
      "outputs": [],
      "source": []
    },
    {
      "cell_type": "code",
      "execution_count": null,
      "metadata": {},
      "outputs": [],
      "source": []
    },
    {
      "cell_type": "code",
      "execution_count": null,
      "metadata": {},
      "outputs": [],
      "source": [
        "import re\n",
        "\n",
        "# Lista com os valores extraídos\n",
        "valores_extraidos = [\n",
        "    'ID: BASE DE\\nCALCULO:\\nR$ 1.044.684,5\\nVALOR INSS:\\nR$ 11.491,53\\n',\n",
        "    'VALOR ISS:\\n\\nR$ 0,00\\nOUTRAS RETEN\\nR$ 0,00\\n',\n",
        "    'DE Al\\nJLO: 2\\n44.684,55\\n\\n? INSS: V\\n491,53 R\\n',\n",
        "    'ALÍQUOTA:\\n2%\\n\\nVALOR CSLL:\\nR$ 0,00\\n',\n",
        "    'a\\nnjsiais\\n',\n",
        "    'C. INCOND:\\n+00\\n\\nRIR:\\n\\n00\\n',\n",
        "    'DES:\\nR$0\\nFINS: VALC\\nR$0.\\n',\n",
        "    'VALOR ISS\\nRETIDO:\\n\\nR$ 20.893,69\\nÇÕES:\\n',\n",
        "    '= VALOR\\nDEDUÇÃO:\\nR$ 0,00\\nVALOR COF\\nR$ 0.00\\n',\n",
        "    'DESC. COND:\\nR$ 0,00\\n\\nVALOR LÍQUIDO:\\nR$ 1.012.299,33\\n',\n",
        "    'VALOR SERVIÇOS:\\n| R$ 1.044.684,55\\n]\\nJ\\n«VALOR PIS:\\n\" R$000\\n'\n",
        "]\n",
        "\n",
        "# Lista de chaves esperadas\n",
        "chaves_esperadas = [\n",
        "    'VALOR SERVIÇOS:', 'VALOR DEDUÇÃO', 'DESC. INCOND', 'ID: BASE DE\\nCALCULO:',\n",
        "    'ALÍQUOTA', 'VALOR ISS', 'VALOR ISS RETIDO', 'VALOR CSLL', 'VALOR PIS',\n",
        "    'VALOR COFINS', 'DESC. COND', 'VALOR LÍQUIDO'\n",
        "]\n",
        "\n",
        "# Dicionário para associar chaves aos valores\n",
        "valores_associados = {}\n",
        "\n",
        "# Padrão de regex para valores monetários\n",
        "padrao_monetario = r'R\\$ ([\\d.,]+)'\n",
        "\n",
        "# Encontrar e associar os valores\n",
        "chave_atual = None\n",
        "for linha in valores_extraidos:\n",
        "    linha = linha.replace('\\n', ' ')  # Remover quebras de linha\n",
        "    valores_encontrados = re.findall(padrao_monetario, linha)\n",
        "    \n",
        "    for valor in valores_encontrados:\n",
        "        if chave_atual:\n",
        "            chave_encontrada = next((chave for chave in chaves_esperadas if chave in chave_atual), None)\n",
        "            if chave_encontrada:\n",
        "                valor_formatado = valor.replace('.', '').replace(',', '.')\n",
        "                valores_associados[chave_encontrada] = valor_formatado\n",
        "            chave_atual = None\n",
        "        else:\n",
        "            chave_atual = valor\n",
        "\n",
        "# Imprimir os valores associados\n",
        "for chave, valor in valores_associados.items():\n",
        "    print(f\"{chave}: {valor}\")\n"
      ]
    },
    {
      "cell_type": "code",
      "execution_count": null,
      "metadata": {},
      "outputs": [],
      "source": [
        "import re\n",
        "\n",
        "# Lista com os valores extraídos\n",
        "valores_extraidos = [\n",
        "    'ID: BASE DE\\nCALCULO:\\nR$ 1.044.684,5\\nVALOR INSS:\\nR$ 11.491,53\\n',\n",
        "    'VALOR ISS:\\n\\nR$ 0,00\\nOUTRAS RETEN\\nR$ 0,00\\n',\n",
        "    'DE Al\\nJLO: 2\\n44.684,55\\n\\n? INSS: V\\n491,53 R\\n',\n",
        "    'ALÍQUOTA:\\n2%\\n\\nVALOR CSLL:\\nR$ 0,00\\n',\n",
        "    'a\\nnjsiais\\n',\n",
        "    'C. INCOND:\\n+00\\n\\nRIR:\\n\\n00\\n',\n",
        "    'DES:\\nR$0\\nFINS: VALC\\nR$0.\\n',\n",
        "    'VALOR ISS\\nRETIDO:\\n\\nR$ 20.893,69\\nÇÕES:\\n',\n",
        "    '= VALOR\\nDEDUÇÃO:\\nR$ 0,00\\nVALOR COF\\nR$ 0.00\\n',\n",
        "    'DESC. COND:\\nR$ 0,00\\n\\nVALOR LÍQUIDO:\\nR$ 1.012.299,33\\n',\n",
        "    'VALOR SERVIÇOS:\\n| R$ 1.044.684,55\\n]\\nJ\\n«VALOR PIS:\\n\" R$000\\n'\n",
        "]\n",
        "\n",
        "# Lista de chaves esperadas\n",
        "chaves_esperadas = [\n",
        "    'VALOR SERVIÇOS', 'VALOR DEDUÇÃO', 'DESC. INCOND', 'BASE DE CÁLCULO',\n",
        "    'ALÍQUOTA', 'VALOR ISS', 'VALOR ISS RETIDO', 'VALOR CSLL', 'VALOR PIS',\n",
        "    'VALOR COFINS', 'DESC. COND', 'VALOR LÍQUIDO'\n",
        "]\n",
        "\n",
        "# Dicionário para associar chaves aos valores\n",
        "valores_associados = {}\n",
        "\n",
        "# Padrão de regex para valores monetários\n",
        "padrao_monetario = r'R\\$ ([\\d.,]+)'\n",
        "\n",
        "# Encontrar e associar os valores\n",
        "chave_atual = None\n",
        "for linha in valores_extraidos:\n",
        "    linha = linha.replace('\\n', ' ')  # Remover quebras de linha\n",
        "    valores_encontrados = re.findall(padrao_monetario, linha)\n",
        "    \n",
        "    for valor in valores_encontrados:\n",
        "        valor_formatado = valor.replace('.', '').replace(',', '.')\n",
        "        if chave_atual:\n",
        "            # Tentar associar a chave atual às chaves esperadas\n",
        "            for chave_esperada in chaves_esperadas:\n",
        "                if chave_esperada.lower() in chave_atual.lower():\n",
        "                    valores_associados[chave_esperada] = valor_formatado\n",
        "                    break\n",
        "            chave_atual = None\n",
        "        else:\n",
        "            chave_atual = valor\n",
        "\n",
        "# Imprimir os valores associados\n",
        "for chave, valor in valores_associados.items():\n",
        "    print(f\"{chave}: {valor}\")\n",
        "\n"
      ]
    },
    {
      "cell_type": "code",
      "execution_count": null,
      "metadata": {},
      "outputs": [],
      "source": [
        "linhas = []\n",
        "i = 0\n",
        "nro_lin = len(linhas)\n",
        "for i in range(nro_lin):\n",
        "    print(i)\n",
        "    #novo_texto = textos[i]\n",
        "    #print(i, novo_texto)\n",
        "    #novo_texto = texto.split('\\n')\n",
        "    #linhas.append(novo_texto)"
      ]
    },
    {
      "cell_type": "code",
      "execution_count": null,
      "metadata": {},
      "outputs": [],
      "source": [
        "len(linhas)"
      ]
    },
    {
      "cell_type": "code",
      "execution_count": null,
      "metadata": {},
      "outputs": [],
      "source": [
        "linhas"
      ]
    },
    {
      "cell_type": "code",
      "execution_count": null,
      "metadata": {},
      "outputs": [],
      "source": [
        "# Dividir o texto em linhas\n",
        "linhas = textos.split('\\n')"
      ]
    },
    {
      "cell_type": "code",
      "execution_count": null,
      "metadata": {},
      "outputs": [],
      "source": [
        "\n",
        "\n",
        "# Inicializar variáveis para armazenar os valores\n",
        "nome_razao_social = None\n",
        "endereco = None\n",
        "email = None\n",
        "\n",
        "# Iterar pelas linhas para identificar os campos e valores\n",
        "i = 0\n",
        "while i < len(linhas):\n",
        "    linha = linhas[i]\n",
        "    if \"Nome/Razão Social:\" in linha:\n",
        "        nome_razao_social = linhas[i + 1].strip()\n",
        "        i += 2\n",
        "    elif \"Endereço:\" in linha:\n",
        "        endereco = linhas[i + 1].strip()\n",
        "        i += 2\n",
        "    elif \"E-mail:\" in linha:\n",
        "        email = linhas[i + 1].strip()\n",
        "        i += 2\n",
        "    else:\n",
        "        i += 1"
      ]
    },
    {
      "cell_type": "code",
      "execution_count": null,
      "metadata": {},
      "outputs": [],
      "source": [
        "for texto in textos:\n",
        "    print(texto)"
      ]
    },
    {
      "cell_type": "code",
      "execution_count": null,
      "metadata": {},
      "outputs": [],
      "source": [
        "results"
      ]
    },
    {
      "cell_type": "code",
      "execution_count": null,
      "metadata": {},
      "outputs": [],
      "source": []
    },
    {
      "cell_type": "code",
      "execution_count": null,
      "metadata": {},
      "outputs": [],
      "source": []
    },
    {
      "cell_type": "code",
      "execution_count": null,
      "metadata": {},
      "outputs": [],
      "source": []
    },
    {
      "cell_type": "code",
      "execution_count": null,
      "metadata": {},
      "outputs": [],
      "source": []
    },
    {
      "cell_type": "markdown",
      "metadata": {},
      "source": [
        "### Outros pedacos"
      ]
    },
    {
      "cell_type": "code",
      "execution_count": null,
      "metadata": {},
      "outputs": [],
      "source": [
        "nf_data_CNAE = {}\n",
        "nf_data_CNAE['Secao'] = \"6. CNAE e Item da Lista de Serviços\"\n",
        "\n",
        "linhas = text.split('º\\n')\n",
        "\n",
        "\n",
        "# Extrair CNAE\n",
        "nf_data_CNAE_match = re.search(r'CNAE\\s+(.+)', text)\n",
        "if nf_data_CNAE_match:\n",
        "    # Remove a primeira ocorrência de \"CNAE:\"\n",
        "    nf_data_CNAE_str = re.sub(r'^CNAE - ', '', text, count=1)\n",
        "    # Remover quebras de linha\n",
        "    nf_data_CNAE_str = nf_data_CNAE_str.replace('\\n', ' ')\n",
        "    nf_data_CNAE['cnae'] = nf_data_CNAE_str\n",
        "    \n",
        "    \n",
        "# Extrair Item da Lista de Serviços\n",
        "nf_item_lista_servicos_match = re.search(r'Item da Lista de Serviços\\s+(.+)', text)\n",
        "if nf_item_lista_servicos_match:\n",
        "    nf_item_lista_servicos_str = re.sub(r'^Item da Lista de Serviços - ', '', text, count=1) \n",
        "    # Remover quebras de linha\n",
        "    #nf_item_lista_servicos_str = nf_item_lista_servicos_str.replace('\\n \\n', '')\n",
        "    nf_item_lista_servicos_str = nf_item_lista_servicos_str.replace('\\n', ' ')\n",
        "    nf_data_CNAE['item_lista_servicos'] = nf_item_lista_servicos_str   \n",
        "    \n",
        "    \n",
        "    "
      ]
    },
    {
      "cell_type": "code",
      "execution_count": null,
      "metadata": {},
      "outputs": [],
      "source": [
        "linhas[0].replace(' . .', '')"
      ]
    },
    {
      "cell_type": "code",
      "execution_count": null,
      "metadata": {},
      "outputs": [],
      "source": [
        "texto_1 = linhas[1]"
      ]
    },
    {
      "cell_type": "code",
      "execution_count": null,
      "metadata": {},
      "outputs": [],
      "source": [
        "texto_1"
      ]
    },
    {
      "cell_type": "code",
      "execution_count": null,
      "metadata": {},
      "outputs": [],
      "source": [
        "texto_novo = texto_novo.replace('\\n', '')"
      ]
    },
    {
      "cell_type": "code",
      "execution_count": null,
      "metadata": {},
      "outputs": [],
      "source": [
        "item_lista_servico = re.sub(r'^Item da Lista de Serviços - ', '', texto_novo, count=1)"
      ]
    },
    {
      "cell_type": "code",
      "execution_count": null,
      "metadata": {},
      "outputs": [],
      "source": [
        "item_lista_servico"
      ]
    },
    {
      "cell_type": "code",
      "execution_count": null,
      "metadata": {},
      "outputs": [],
      "source": [
        "nf_data_CNAE"
      ]
    },
    {
      "cell_type": "code",
      "execution_count": null,
      "metadata": {},
      "outputs": [],
      "source": [
        "nf_data_CNAE = {}\n",
        "nf_data_CNAE['Secao'] = \"6. CNAE e Item da Lista de Serviços\"\n",
        "\n",
        "\n",
        "linhas = text.split('º\\n')\n",
        "\n",
        "\"\"\"if \"\\n\\n\" in text:\n",
        "    linhas = text.split('\\n\\n')\n",
        "    tipo = 2\n",
        "    \n",
        "else:\n",
        "    linhas = text.split('\\n')    \n",
        "    tipo = 1\"\"\"\n",
        "\n",
        "\n",
        "\n",
        "# Inicializar variáveis para armazenar os valores\n",
        "cnae = None\n",
        "item_lista_servico = None\n",
        "\n",
        "texto1 = None\n",
        "texto2 = None\n",
        "\n",
        "# Iterar pelas linhas para identificar os campos e valores\n",
        "i = 0\n",
        "while i < len(linhas):\n",
        "    linha = linhas[i]\n",
        "    #print(\"linha:\", i, linha)\n",
        "    if \"CNAE\" in linha:\n",
        "        texto1 = linhas[i].strip().replace('º', '.').replace(' . .', '')\n",
        "        cnae = re.sub(r'^CNAE - ', '', texto1, count=1)\n",
        "        i += 1\n",
        "               \n",
        "        print(\"CNAE:\",cnae)\n",
        "        \n",
        "        #print()\n",
        "        #print(\"texto_razao2: \", texto_razao2)\n",
        "        #print()\n",
        "        #print(\"texto_razao3: \", texto_razao3)\n",
        "        #print(f'\\nRazao Social: {nome_razao_social}')\n",
        "        \n",
        "    elif \"Item da Lista de Serviços\" in linha:\n",
        "        \n",
        "        #print(\"Aqui\")\n",
        "        texto1 = linhas[i].strip()\n",
        "        #texto2 = linhas[i + 1].strip()\n",
        "        \n",
        "        print(\"texto1:\",texto1)\n",
        "        \n",
        "        print()\n",
        "        \n",
        "        #print(\"texto2:\",texto2)\n",
        "        \n",
        "        #)\n",
        "        \n",
        "        \n",
        "        \n",
        "        #texto2 = re.sub(r'^Item da Lista de Serviços - ', '', texto1, count=1)\n",
        "        \n",
        "        #item_lista_servico = texto2\n",
        "        \n",
        "        \n",
        "        i += 2  \n",
        "        #print(\"Aqui - item_lista_servico: \",item_lista_servico)\n",
        "        \n",
        "    else:\n",
        "        i += 1\n",
        "\n",
        "\n",
        "# Imprimir os valores dos campos\n",
        "#print(\"Nome/Razão Social:\", nome_razao_social)\n",
        "\n",
        "#print(\"item_lista_servico:\",item_lista_servico)\n",
        "\n",
        "#nf_data_prestador_servico['razao_social'] = nome_razao_social"
      ]
    },
    {
      "cell_type": "code",
      "execution_count": null,
      "metadata": {},
      "outputs": [],
      "source": [
        "linhas"
      ]
    },
    {
      "cell_type": "code",
      "execution_count": null,
      "metadata": {},
      "outputs": [],
      "source": [
        "nf_data_CNAE = {}\n",
        "nf_data_CNAE['Secao'] = \"6. CNAE e Item da Lista de Serviços\"\n",
        "\n",
        "\n",
        "nf_data_CNAE_match = re.search(r'CNAE\\s+(.+)', text)\n",
        "if nf_data_CNAE_match:\n",
        "    # Remove a primeira ocorrência de \"CNAE:\"\n",
        "    nf_data_CNAE_str = re.sub(r'^CNAE - ', '', text, count=1)\n",
        "    # Remover quebras de linha\n",
        "    nf_data_CNAE_str = nf_data_CNAE_str.replace('\\n', ' ')\n",
        "    nf_data_CNAE['cnae'] = nf_data_CNAE_str\n",
        "\n",
        "\n",
        "nf_item_lista_servicos_match = re.search(r'Item da Lista de Serviços\\s+(.+)', text)\n",
        "if nf_item_lista_servicos_match:\n",
        "    nf_item_lista_servicos_str = re.sub(r'^Item da Lista de Serviços - ', '', text, count=1) \n",
        "    # Remover quebras de linha\n",
        "    #nf_item_lista_servicos_str = nf_item_lista_servicos_str.replace('\\n \\n', '')\n",
        "    nf_item_lista_servicos_str = nf_item_lista_servicos_str.replace('\\n', ' ')\n",
        "    nf_data_CNAE['item_lista_servicos'] = nf_item_lista_servicos_str\n",
        "\n",
        "\n"
      ]
    },
    {
      "cell_type": "code",
      "execution_count": null,
      "metadata": {},
      "outputs": [],
      "source": [
        "nf_data_CNAE"
      ]
    },
    {
      "cell_type": "code",
      "execution_count": null,
      "metadata": {},
      "outputs": [],
      "source": []
    },
    {
      "cell_type": "code",
      "execution_count": null,
      "metadata": {},
      "outputs": [],
      "source": [
        "# Prestador de servico - Razao social / Endereco / Nome Fantasia / email\n",
        "text = 'Nome/Razão Social:\\n\\nSÃO MARCOS TERRAPLENAGEM E CONSTRUÇÃO LTDA.\\nNome de Fantasia:\\n\\nEndereço:\\n\\nRUA DAS MARGARIDAS ,578 ,SANTA DALILA - Magé-RJ\\nE-mail:\\n'\n",
        "\n",
        "nf_data_prestador_servico = {}\n",
        "nf_data_prestador_servico['secao'] = \"2.PRESTADOR DE SERVIÇO - RAZAO\"\n",
        "tipo = None\n",
        "\n",
        "if \"\\n\\n\" in text:\n",
        "    linhas = text.split('\\n\\n')\n",
        "    tipo = 2\n",
        "    \n",
        "else:\n",
        "    linhas = text.split('\\n')    \n",
        "    tipo = 1\n",
        "   \n",
        "   \n",
        "#linhas = text.split('\\n')\n",
        "\n",
        "#linhas = text.split('\\n\\n')\n",
        "#print(linhas)\n",
        "\n",
        "\n",
        "# Inicializar variáveis para armazenar os valores\n",
        "nome_razao_social = None\n",
        "nome_fantasia = None\n",
        "endereco = None\n",
        "email = None\n",
        "\n",
        "# Iterar pelas linhas para identificar os campos e valores\n",
        "i = 0\n",
        "while i < len(linhas):\n",
        "    linha = linhas[i]\n",
        "    #print(\"linha:\", i, linha)\n",
        "    if \"Nome/Razão Social:\" in linha:\n",
        "        if tipo == 2:\n",
        "            texto1 = linhas[i + 1].strip()\n",
        "            texto2 = texto1.split('\\n')\n",
        "            nome_razao_social = texto2[i].strip()\n",
        "        else:\n",
        "            nome_razao_social = linhas[i + 1].strip()   \n",
        "        #print(\"texto_razao: \", texto_razao)\n",
        "        \n",
        "        #print()\n",
        "        #print(\"texto_razao2: \", texto_razao2)\n",
        "        #print()\n",
        "        #print(\"texto_razao3: \", texto_razao3)\n",
        "        #print(f'\\nRazao Social: {nome_razao_social}')\n",
        "        i += 2\n",
        "    elif \"Nome de Fantasia:\" in linha:\n",
        "        nome_fantasia = linhas[i + 1].strip()\n",
        "        i += 2\n",
        "    elif \"Endereço:\" in linha:\n",
        "        \n",
        "        if tipo == 2:\n",
        "            texto3 = linhas[i + 1].strip()\n",
        "            texto4 = texto3.split('\\n')\n",
        "            \n",
        "            endereco = texto4[0].strip()\n",
        "            print(\"endereco:\", i, endereco)\n",
        "            \n",
        "            \n",
        "        else:\n",
        "            endereco = linhas[i + 1].strip()      \n",
        "        i += 2\n",
        "    elif \"E-mail:\" in linha:\n",
        "        email = linhas[i + 1].strip()\n",
        "        i += 2\n",
        "    else:\n",
        "        i += 1\n",
        "\n",
        "\n",
        "# Imprimir os valores dos campos\n",
        "print(\"Nome/Razão Social:\", nome_razao_social)\n",
        "print(\"Nome de Fantasia:\", nome_fantasia)\n",
        "print(\"Endereço:\", endereco)\n",
        "print(\"E-mail:\", email)\n",
        "\n",
        "\n",
        "nf_data_prestador_servico['razao_social'] = nome_razao_social\n",
        "nf_data_prestador_servico['nome_fantasia'] = nome_fantasia\n",
        "nf_data_prestador_servico['endereco'] = endereco\n",
        "nf_data_prestador_servico['email'] = email"
      ]
    },
    {
      "cell_type": "code",
      "execution_count": null,
      "metadata": {},
      "outputs": [],
      "source": []
    },
    {
      "cell_type": "markdown",
      "metadata": {},
      "source": [
        "## 3. Processo"
      ]
    },
    {
      "cell_type": "code",
      "execution_count": null,
      "metadata": {},
      "outputs": [],
      "source": [
        "#nf_model = \"MI_1\"\n",
        "\n",
        "nf_model = \"mage_1\"\n",
        "\n",
        "nf_data_servico = {}\n",
        "\n",
        "pdf_info = {}  # Dicionário para armazenar informações sobre PDFs\n",
        "\n",
        "for root, dirs, files in os.walk(root_directory):\n",
        "    for file in files:\n",
        "        file_path = os.path.join(root, file)\n",
        "\n",
        "        if file.lower().endswith('.pdf'):\n",
        "            #print(file_path)\n",
        "                \n",
        "            # 1. Conversao para imagem e resize\n",
        "            converte2image(file_path)\n",
        "                \n",
        "            # 2. Resize\n",
        "            resizeImage(image_src)\n",
        "                \n",
        "            # 3. Executar cortes\n",
        "            #file_path = img_resi_path\n",
        "            #image_to_crop = Image.open(img_resi_path).convert(\"RGB\")\n",
        "            #width, height = image_to_crop.size\n",
        "\n",
        "            cropSections(nf_model, img_resi_path)\n",
        "                \n",
        "            for roots, directories, images in os.walk(root_dir_section_images):\n",
        "                for image in images:\n",
        "                    #print(f'\\n{roots}, {directories}, {images}')\n",
        "                    print(image)\n",
        "                    image_path = os.path.join(roots, image)\n",
        "                    #print(image_path, image)\n",
        "                    frame = image\n",
        "                    if frame == \"0_frame_dados_nf.jpg\":\n",
        "                        nro_nota = 0\n",
        "                        image_to_ocr = Image.open(image_path).convert('RGB')\n",
        "                        text = pytesseract.image_to_string(image_to_ocr, lang='por', config=tessdata_dir_config)\n",
        "                        nf_data_dados, nro_nota = extract_fields_dados(text)\n",
        "\n",
        "                    if frame == \"0_frame_prefeitura_nf.jpg\":\n",
        "                        image_to_ocr = Image.open(image_path).convert('RGB')\n",
        "                        text = pytesseract.image_to_string(image_to_ocr, lang='por', config=tessdata_dir_config)\n",
        "                        nf_data_prefeitura, nome_prefeitura  = extract_fields_prefeitura(text)    \n",
        "                        \n",
        "                    if frame == \"1_frame_prestador_cnpj.jpg\": \n",
        "                        image_to_ocr = Image.open(image_path).convert('RGB')\n",
        "                        text = pytesseract.image_to_string(image_to_ocr, lang='por', config=tessdata_dir_config)\n",
        "                        nf_data_prestador = extract_fields_prestador(text)\n",
        "                        \n",
        "                               \n",
        "                    if frame == \"1_frame_prestador_inscricao.jpgg\": \n",
        "                        image_to_ocr = Image.open(image_path).convert('RGB')\n",
        "                        text = pytesseract.image_to_string(image_to_ocr, lang='por', config=tessdata_dir_config)\n",
        "                        nf_data_prestador = extract_fields_prestador(text)    \n",
        "                            \n",
        "                    if frame == \"1_frame_prestador_servico.jpg\": \n",
        "                        image_to_ocr = Image.open(image_path).convert('RGB')\n",
        "                        text = pytesseract.image_to_string(image_to_ocr, lang='por', config=tessdata_dir_config)\n",
        "                        nf_data_prestador = extract_fields_prestador(text)      \n",
        "                        \n",
        "                        \n",
        "                        \n",
        "                        \n",
        "                        \n",
        "                        \n",
        "                        \n",
        "                    if frame == \"2_frame_tomador_cnpj.jpg\": \n",
        "                        image_to_ocr = Image.open(image_path).convert('RGB')\n",
        "                        text = pytesseract.image_to_string(image_to_ocr, lang='por', config=tessdata_dir_config)\n",
        "                        nf_data_tomador_cnpj = extract_fields_tomador_cnpj(text)                                                       \n",
        "                    \n",
        "                    \n",
        "                    if frame == \"2_frame_tomador_inscricao.jpg\": \n",
        "                        image_to_ocr = Image.open(image_path).convert('RGB')\n",
        "                        text = pytesseract.image_to_string(image_to_ocr, lang='por', config=tessdata_dir_config)\n",
        "                        nf_data_tomador_inscricao = extract_fields_tomador_inscricao(text)                            \n",
        "                        \n",
        "                        \n",
        "                    if frame == \"2_frame_tomador_servico.jpg\": \n",
        "                        image_to_ocr = Image.open(image_path).convert('RGB')\n",
        "                        text = pytesseract.image_to_string(image_to_ocr, lang='por', config=tessdata_dir_config)\n",
        "                        nf_data_tomador = extract_fields_tomador(text)  \n",
        "                            \n",
        "                            \n",
        "                            \n",
        "                            # 6. Processa analise de tabela\n",
        "                            #results = processaTabela(image_path)\n",
        "                            \n",
        "                            # 7. Processa OCR\n",
        "                            #dados_da_tabela = processaOcrTable(image_path, results)\n",
        "                            \n",
        "                            #for i in dados_da_tabela:\n",
        "                                #if dados_da_tabela[i]['label'] == \"table column\":\n",
        "                                    #text = dados_da_tabela[i]['texto']\n",
        "                                    #print(f\"\\n{i}: \\n{dados_da_tabela[i]['texto']}\")\n",
        "                                    \n",
        "                    nr_nro_nf = nro_nota\n",
        "                        \n",
        "                    nome_arquivo_json = os.path.basename(root) + \".json\"\n",
        "                    nome_arquivo = file\n",
        "                                                \n",
        "                    pdf_info[nr_nro_nf] = {\n",
        "                        \"dados_NF_PDF\": {\n",
        "                            \"data_nf\": nf_data_dados,\n",
        "                            \"data_prefeitura\": nf_data_prefeitura,\n",
        "                            \"data_prestador\": nf_data_prestador,\n",
        "                            \"data_tomador_cnpj\": nf_data_tomador_cnpj,\n",
        "                            \"data_tomador_inscricao\": nf_data_tomador_inscricao,\n",
        "                            \"data_tomador\": nf_data_tomador,\n",
        "                            },\n",
        "                        \"diretorio\": os.path.basename(root),\n",
        "                        \"nome_arquivo\": nome_arquivo,    \n",
        "                    }            \n",
        "                        \n",
        "                        \n",
        "# Salvando as informações em um arquivo JSON\n",
        "json_file_path = os.path.join(target_directory, nome_arquivo_json)\n",
        "with open(json_file_path, \"w\", encoding='utf-8') as json_file:\n",
        "    json.dump(pdf_info, json_file, ensure_ascii=False, indent=4)                    \n",
        "        \n"
      ]
    },
    {
      "cell_type": "code",
      "execution_count": null,
      "metadata": {},
      "outputs": [],
      "source": [
        "print(text)"
      ]
    },
    {
      "cell_type": "code",
      "execution_count": null,
      "metadata": {},
      "outputs": [],
      "source": [
        "nome_prefeitura"
      ]
    },
    {
      "cell_type": "code",
      "execution_count": null,
      "metadata": {},
      "outputs": [],
      "source": [
        "nf_data_dados"
      ]
    },
    {
      "cell_type": "code",
      "execution_count": null,
      "metadata": {},
      "outputs": [],
      "source": [
        "nf_data_prefeitura"
      ]
    },
    {
      "cell_type": "code",
      "execution_count": null,
      "metadata": {},
      "outputs": [],
      "source": [
        "nf_data_prestador"
      ]
    },
    {
      "cell_type": "code",
      "execution_count": null,
      "metadata": {},
      "outputs": [],
      "source": [
        "nf_data_tomador"
      ]
    },
    {
      "cell_type": "code",
      "execution_count": null,
      "metadata": {},
      "outputs": [],
      "source": [
        "nf_data_tomador_cnpj"
      ]
    },
    {
      "cell_type": "code",
      "execution_count": null,
      "metadata": {},
      "outputs": [],
      "source": [
        "nf_data_tomador_inscricao"
      ]
    },
    {
      "cell_type": "code",
      "execution_count": null,
      "metadata": {},
      "outputs": [],
      "source": [
        "                nome_arquivo_json = os.path.basename(root) + \".json\"\n",
        "                nome_arquivo = file\n",
        "                        \n",
        "                pdf_info[nr_nro_nf] = {\n",
        "                    \"dados_NF_PDF\": {\n",
        "                        \"data_cabecalho\": nf_data_cabecalho,\n",
        "                            \n",
        "                    },\n",
        "                    \"diretorio\": os.path.basename(root),\n",
        "                    \"nome_arquivo\": nome_arquivo,    \n",
        "                }            \n",
        "                        \n",
        "                        \n",
        "# Salvando as informações em um arquivo JSON\n",
        "json_file_path = os.path.join(target_directory, nome_arquivo_json)\n",
        "with open(json_file_path, \"w\", encoding='utf-8') as json_file:\n",
        "    json.dump(pdf_info, json_file, ensure_ascii=False, indent=4)          "
      ]
    },
    {
      "cell_type": "code",
      "execution_count": null,
      "metadata": {},
      "outputs": [],
      "source": []
    },
    {
      "cell_type": "code",
      "execution_count": null,
      "metadata": {},
      "outputs": [],
      "source": []
    },
    {
      "cell_type": "code",
      "execution_count": null,
      "metadata": {},
      "outputs": [],
      "source": []
    },
    {
      "cell_type": "code",
      "execution_count": null,
      "metadata": {},
      "outputs": [],
      "source": []
    },
    {
      "cell_type": "code",
      "execution_count": null,
      "metadata": {},
      "outputs": [],
      "source": []
    },
    {
      "cell_type": "code",
      "execution_count": null,
      "metadata": {},
      "outputs": [],
      "source": []
    },
    {
      "cell_type": "code",
      "execution_count": null,
      "metadata": {},
      "outputs": [],
      "source": []
    },
    {
      "cell_type": "code",
      "execution_count": null,
      "metadata": {},
      "outputs": [],
      "source": [
        "# 1. Conversao para imagem e resize\n",
        "converte2image(file)"
      ]
    },
    {
      "cell_type": "code",
      "execution_count": null,
      "metadata": {},
      "outputs": [],
      "source": [
        "# 2. Resize\n",
        "resizeImage(image_src)"
      ]
    },
    {
      "cell_type": "code",
      "execution_count": null,
      "metadata": {},
      "outputs": [],
      "source": []
    },
    {
      "cell_type": "code",
      "execution_count": null,
      "metadata": {},
      "outputs": [],
      "source": [
        "# 4. Executar cortes\n",
        "file_path = img_resi_path\n",
        "image = Image.open(file_path).convert(\"RGB\")\n",
        "width, height = image.size\n",
        "\n",
        "cropSections(nf_model, img_resi_path)"
      ]
    },
    {
      "cell_type": "code",
      "execution_count": null,
      "metadata": {},
      "outputs": [],
      "source": [
        "# 5. Definir corte para mapeamento\n",
        "\n",
        "#file_path = r\".\\novo_modelo\\images\\processadas\\sections\\0_frame_cabecalho_nf.jpg\"\n",
        "\n",
        "file_path = r\".\\novo_modelo\\images\\processadas\\sections\\1_frame_prestador_servico.jpg\"\n",
        "\n",
        "#file_path = r\".\\novo_modelo\\images\\processadas\\sections\\2_frame_tomador_servico.jpg\"\n",
        "\n",
        "#file_path = r\".\\novo_modelo\\images\\processadas\\sections\\3_frame_descricao_servico.jpg\"\n",
        "\n",
        "#file_path = r\".\\novo_modelo\\images\\processadas\\sections\\4_frame_valor_total.jpg\"\n",
        "\n",
        "#file_path = r\".\\novo_modelo\\images\\processadas\\sections\\5_frame_cnae_itens.jpg\"\n",
        "\n",
        "#file_path = r\".\\novo_modelo\\images\\processadas\\sections\\6_frame_valores_impostos.jpg\"\n",
        "\n",
        "#file_path = r\".\\novo_modelo\\images\\processadas\\sections\\7_frame_dados_complementares.jpg\"\n",
        "\n",
        "#file_path = r\".\\novo_modelo\\images\\processadas\\sections\\9_frame_observacao.jpg\""
      ]
    },
    {
      "cell_type": "code",
      "execution_count": null,
      "metadata": {},
      "outputs": [],
      "source": [
        "# 6. Processa analise de tabela\n",
        "results = processaTabela(file_path)"
      ]
    },
    {
      "cell_type": "code",
      "execution_count": null,
      "metadata": {},
      "outputs": [],
      "source": [
        "# 7. Processa OCR\n",
        "dados_da_tabela = processaOcrTable(file_path, results)"
      ]
    },
    {
      "cell_type": "code",
      "execution_count": null,
      "metadata": {},
      "outputs": [],
      "source": [
        "# 8. Captura dados (Regex)\n",
        "\n",
        "for i in dados_da_tabela:\n",
        "   if dados_da_tabela[i]['label'] == \"table column\":\n",
        "      print(f\"\\n{i}: \\n{dados_da_tabela[i]['texto']}\")"
      ]
    },
    {
      "cell_type": "code",
      "execution_count": null,
      "metadata": {},
      "outputs": [],
      "source": []
    },
    {
      "cell_type": "code",
      "execution_count": null,
      "metadata": {},
      "outputs": [],
      "source": []
    },
    {
      "cell_type": "code",
      "execution_count": null,
      "metadata": {},
      "outputs": [],
      "source": []
    },
    {
      "cell_type": "code",
      "execution_count": null,
      "metadata": {},
      "outputs": [],
      "source": []
    },
    {
      "cell_type": "code",
      "execution_count": null,
      "metadata": {},
      "outputs": [],
      "source": [
        "# Salvando as informações em um arquivo JSON\n",
        "#json_file_path = os.path.join(target_directory, \"pdf_image_info.json\")\n",
        "with open(\"dados_da_tabela.json\", \"w\") as json_file:\n",
        "    json.dump(dados_da_tabela, json_file, indent=4)\n",
        "\n",
        "#print(f\"As informações foram salvas em {json_file_path}\")"
      ]
    },
    {
      "cell_type": "markdown",
      "metadata": {},
      "source": [
        "# Outros"
      ]
    },
    {
      "cell_type": "code",
      "execution_count": null,
      "metadata": {},
      "outputs": [],
      "source": [
        "\n",
        "x0 = 510\n",
        "y0 = 0\n",
        "x1 = 1540\n",
        "y1 = 380\n",
        "\n",
        "section = \"0_frame_prefeitura_nf\"\n",
        "defineDicionario(section, x0, y0, x1, y1)\n",
        "\n",
        "# Efetuar o crop da imagem da NF segmentando por secoes\n",
        "def defineDicionario(img_resized, section, x0, y0, x1, y1):\n",
        "    im = Image.open(img_resized)\n",
        "    left = x0\n",
        "    top = y0\n",
        "    right = x1\n",
        "    bottom = y1\n",
        "    im_croped_img = im.crop((left, top, right, bottom))\n",
        "    img_file_path = os.path.join(f\"{tgt_imagens}\\processadas\\sections\\{section}.jpg\")\n",
        "    im_croped_img.save(img_file_path, 'JPEG') \n",
        "     \n",
        "\n",
        "\n",
        "\n",
        "\n",
        "\n",
        "\n",
        "    for model_name, cuts in cut_dict.items():\n",
        "        if model_name == nf_model:\n",
        "            print(f\"Modelo: {model_name}\")\n",
        "            for cut in cuts:\n",
        "                model_section = cut['Item']\n",
        "                x0 = cut['x0']\n",
        "                y0 = cut['y0']\n",
        "                x1 = cut['x1']\n",
        "                y1 = cut['y1']\n",
        "                cropDocumento(img_resi_path, model_section, x0, y0, x1, y1)\n",
        "                \n",
        "def cropDocumento(img_resized, section, x0, y0, x1, y1):\n",
        "    im = Image.open(img_resized)\n",
        "    left = x0\n",
        "    top = y0\n",
        "    right = x1\n",
        "    bottom = y1\n",
        "    im_croped_img = im.crop((left, top, right, bottom))\n",
        "    #img_file_path = os.path.join(f\"{tgt_imagens}\\processadas\\sections\\{section}.jpg\")\n",
        "    #im_croped_img.save(img_file_path, 'JPEG')   \n",
        "    text = pytesseract.image_to_string(im_croped_img, lang='por', config=tessdata_dir_config)\n",
        "    nf_data_prefeitura, nome_prefeitura  = extract_fields_prefeitura(text)\n",
        "    if nome_prefeitura ==  PREFEITURA MUNICIPAL DE MAGE:\n",
        "         nf_model = \"mage_1\"\n",
        "    elif\n",
        "       nome_prefeitura ==  PREFEITURA MUNICIPAL DE MAGE:   "
      ]
    },
    {
      "cell_type": "code",
      "execution_count": null,
      "metadata": {},
      "outputs": [],
      "source": [
        "print(f\"\\n| scores: {results['scores']} | labels: {results['labels']} | boxes: {results['boxes']}\")"
      ]
    },
    {
      "cell_type": "code",
      "execution_count": null,
      "metadata": {},
      "outputs": [],
      "source": [
        "for model_name, cuts in cut_dict.items():\n",
        "    print(f\"Modelo: {model_name}\")\n",
        "    for cut in cuts:\n",
        "        print(f\"  Item: {cut['Item']}, x0: {cut['x0']}, y0: {cut['y0']}, x1: {cut['x1']}, y1: {cut['y1']}\")"
      ]
    },
    {
      "cell_type": "code",
      "execution_count": null,
      "metadata": {},
      "outputs": [],
      "source": [
        "plot_results(image, results['scores'], results['labels'], results['boxes'])\n",
        "\n",
        "model.config.id2label"
      ]
    },
    {
      "cell_type": "code",
      "execution_count": null,
      "metadata": {},
      "outputs": [],
      "source": [
        "for roots, directories, images in os.walk(root_dir_section_images):\n",
        "    for image in images:\n",
        "        image_path = os.path.join(roots, image)\n",
        "        print(image_path)"
      ]
    },
    {
      "cell_type": "code",
      "execution_count": null,
      "metadata": {},
      "outputs": [],
      "source": []
    },
    {
      "cell_type": "code",
      "execution_count": null,
      "metadata": {},
      "outputs": [],
      "source": []
    },
    {
      "cell_type": "code",
      "execution_count": null,
      "metadata": {},
      "outputs": [],
      "source": []
    },
    {
      "cell_type": "code",
      "execution_count": null,
      "metadata": {},
      "outputs": [],
      "source": [
        "print(dados_da_tabela['boxes'].shape)"
      ]
    },
    {
      "cell_type": "code",
      "execution_count": null,
      "metadata": {},
      "outputs": [],
      "source": [
        "print(dados_da_tabela['labels'])"
      ]
    },
    {
      "cell_type": "code",
      "execution_count": null,
      "metadata": {},
      "outputs": [],
      "source": [
        "print(dados_da_tabela['labels'])\n"
      ]
    },
    {
      "cell_type": "code",
      "execution_count": null,
      "metadata": {},
      "outputs": [],
      "source": [
        "print(dados_da_tabela['labels'][0])\n"
      ]
    },
    {
      "cell_type": "code",
      "execution_count": null,
      "metadata": {},
      "outputs": [],
      "source": [
        "dados_da_tabela.shape"
      ]
    },
    {
      "cell_type": "code",
      "execution_count": null,
      "metadata": {},
      "outputs": [],
      "source": [
        "print(dados_da_tabela['labels'].shape)"
      ]
    },
    {
      "cell_type": "code",
      "execution_count": null,
      "metadata": {},
      "outputs": [],
      "source": [
        "print(dados_da_tabela['pixel_values'][:, :])\n"
      ]
    },
    {
      "cell_type": "code",
      "execution_count": null,
      "metadata": {},
      "outputs": [],
      "source": [
        "# Função para recortar a imagem\n",
        "def recortar_imagem(img, coordenadas):\n",
        "    x_min, y_min, x_max, y_max = coordenadas\n",
        "    return img[y_min:y_max, x_min:x_max]\n",
        "\n",
        "# Exemplo de uso da função\n",
        "import numpy as np\n",
        "\n",
        "# Criar uma imagem de exemplo\n",
        "img_exemplo = np.zeros((800, 1000), dtype=np.uint8)  # Imagem preta de 1000x800 pixels\n",
        "\n",
        "# Definir coordenadas para recortar uma região retangular na imagem\n",
        "coordenadas_exemplo = [100, 200, 400, 500]\n",
        "\n",
        "# Recortar a região da imagem\n",
        "regiao_recortada = recortar_imagem(img_exemplo, coordenadas_exemplo)\n",
        "\n",
        "# Imprimir a forma da região recortada\n",
        "print(regiao_recortada.shape)\n"
      ]
    },
    {
      "cell_type": "code",
      "execution_count": null,
      "metadata": {},
      "outputs": [],
      "source": [
        "# Processo de OCR para cada célula e preenchimento do dicionário\n",
        "for i in range(dados_da_tabela['labels'].shape[0]):\n",
        "    retangulo = dados_da_tabela['pixel_values'][i].tolist()\n",
        "    img_celula = recortar_imagem(img_pdf, retangulo)\n",
        "    texto_celula = pytesseract.image_to_string(img_celula, config=tesseract_config, lang='por')\n",
        "    \n",
        "    # Mapear o ID numérico do rótulo para o rótulo descritivo usando model.config.id2label\n",
        "    label_id = dados_da_tabela['labels'][i].item() if isinstance(dados_da_tabela['labels'][i], torch.Tensor) else dados_da_tabela['labels'][i]\n",
        "    label_descritivo = model.config.id2label[label_id]\n",
        "    \n",
        "    # Adicionar as informações ao dicionário\n",
        "    chave_celula = f'celula_{i}'\n",
        "    dados_da_tabela[chave_celula] = {\n",
        "        'coordenadas': retangulo,\n",
        "        'label': label_descritivo,\n",
        "        'texto': texto_celula\n",
        "    }\n",
        "\n",
        "# Remover as chaves originais, pois foram substituídas pelas chaves com informações completas\n",
        "chaves_originais = ['pixel_values', 'labels']\n",
        "for chave_original in chaves_originais:\n",
        "    dados_da_tabela.pop(chave_original)\n",
        "\n",
        "# Agora o dicionário 'dados_da_tabela' contém informações completas de cada célula detectada\n",
        "print(dados_da_tabela)\n"
      ]
    },
    {
      "cell_type": "code",
      "execution_count": null,
      "metadata": {},
      "outputs": [],
      "source": [
        "print(dados_da_tabela)\n",
        "\n"
      ]
    },
    {
      "cell_type": "code",
      "execution_count": null,
      "metadata": {},
      "outputs": [],
      "source": [
        "dados_da_tabela.shape"
      ]
    },
    {
      "cell_type": "code",
      "execution_count": null,
      "metadata": {},
      "outputs": [],
      "source": [
        "labels_ids.shape"
      ]
    },
    {
      "cell_type": "code",
      "execution_count": null,
      "metadata": {},
      "outputs": [],
      "source": [
        "# Processo de OCR para cada célula e preenchimento do dicionário\n",
        "for i in range(dados_da_tabela.shape[0]):\n",
        "    retangulo = dados_da_tabela[i, :].tolist()  # Converter o tensor para uma lista de coordenadas\n",
        "    img_celula = recortar_imagem(file_path, retangulo)\n",
        "    texto_celula = pytesseract.image_to_string(img_celula, config=tesseract_config, lang='por')\n",
        "    \n",
        "    # Mapear o ID numérico do rótulo para o rótulo descritivo usando model.config.id2label\n",
        "    label_id = dados_da_tabela['labels'][i].item() if isinstance(dados_da_tabela['labels'][i], torch.Tensor) else dados_da_tabela['labels'][i]\n",
        "    label_descritivo = model.config.id2label[label_id]\n",
        "    \n",
        "    # Adicionar as informações ao dicionário\n",
        "    chave_celula = f'celula_{i}'\n",
        "    dados_da_tabela[chave_celula] = {\n",
        "        'coordenadas': retangulo,\n",
        "        'label': label_descritivo,\n",
        "        'texto': texto_celula\n",
        "    }\n",
        "\n",
        "# Remover as chaves originais, pois foram substituídas pelas chaves com informações completas\n",
        "chaves_originais = ['pixel_values', 'labels']\n",
        "for chave_original in chaves_originais:\n",
        "    dados_da_tabela.pop(chave_original)\n",
        "\n",
        "# Agora o dicionário 'dados_da_tabela' contém informações completas de cada célula detectada\n",
        "print(dados_da_tabela)\n"
      ]
    },
    {
      "cell_type": "code",
      "execution_count": null,
      "metadata": {},
      "outputs": [],
      "source": [
        "dados_da_tabela['labels']"
      ]
    },
    {
      "cell_type": "code",
      "execution_count": null,
      "metadata": {},
      "outputs": [],
      "source": [
        "# Processo de OCR para cada célula e preenchimento do dicionário\n",
        "for i in range(dados_da_tabela.shape[0]):\n",
        "    retangulo = dados_da_tabela[i, :]\n",
        "    img_celula = recortar_imagem(file_path, retangulo)\n",
        "    texto_celula = pytesseract.image_to_string(img_celula, config=tesseract_config, lang='por')\n",
        "    \n",
        "    # Mapear o ID numérico do rótulo para o rótulo descritivo usando model.config.id2label\n",
        "    label_id = dados_da_tabela['labels'][i].item() if isinstance(dados_da_tabela['labels'][i], torch.Tensor) else dados_da_tabela['labels'][i]\n",
        "    label_descritivo = model.config.id2label[label_id]\n",
        "    \n",
        "    # Adicionar as informações ao dicionário\n",
        "    chave_celula = f'celula_{i}'\n",
        "    dados_da_tabela[chave_celula] = {\n",
        "        'coordenadas': retangulo.tolist(),\n",
        "        'label': label_descritivo,\n",
        "        'texto': texto_celula\n",
        "    }\n",
        "\n",
        "# Remover as chaves originais, pois foram substituídas pelas chaves com informações completas\n",
        "chaves_originais = ['pixel_values', 'labels']\n",
        "for chave_original in chaves_originais:\n",
        "    dados_da_tabela.pop(chave_original)\n",
        "\n",
        "# Agora o dicionário 'dados_da_tabela' contém informações completas de cada célula detectada\n",
        "print(dados_da_tabela)\n"
      ]
    },
    {
      "cell_type": "code",
      "execution_count": null,
      "metadata": {},
      "outputs": [],
      "source": []
    },
    {
      "cell_type": "code",
      "execution_count": null,
      "metadata": {},
      "outputs": [],
      "source": []
    },
    {
      "cell_type": "code",
      "execution_count": null,
      "metadata": {},
      "outputs": [],
      "source": []
    },
    {
      "cell_type": "code",
      "execution_count": null,
      "metadata": {},
      "outputs": [],
      "source": []
    },
    {
      "cell_type": "code",
      "execution_count": null,
      "metadata": {},
      "outputs": [],
      "source": [
        "# Processo de OCR para cada célula e preenchimento do dicionário\n",
        "#tesseract_config = '--oem 1'  # Defina as configurações específicas do Tesseract aqui, se necessário\n",
        "for i in range(len(dados_da_tabela['pixel_values'])):\n",
        "    retangulo = dados_da_tabela['pixel_values'][i]\n",
        "    img_celula = recortar_imagem(file_path, retangulo)\n",
        "    texto_celula = pytesseract.image_to_string(img_celula, config=tesseract_config, lang='por')\n",
        "    \n",
        "    # Mapear o ID numérico do rótulo para o rótulo descritivo usando model.config.id2label\n",
        "    label_id = dados_da_tabela['labels'][i].item() if isinstance(dados_da_tabela['labels'][i], torch.Tensor) else dados_da_tabela['labels'][i]\n",
        "    label_descritivo = model.config.id2label[label_id]\n",
        "    \n",
        "    # Adicionar as informações ao dicionário\n",
        "    chave_celula = f'celula_{i}'\n",
        "    dados_da_tabela[chave_celula] = {\n",
        "        'coordenadas': retangulo.tolist(),\n",
        "        'label': label_descritivo,\n",
        "        'texto': texto_celula\n",
        "    }\n",
        "\n",
        "# Remover as chaves originais, pois foram substituídas pelas chaves com informações completas\n",
        "chaves_originais = ['pixel_values', 'pixel_mask', 'labels']\n",
        "for chave_original in chaves_originais:\n",
        "    dados_da_tabela.pop(chave_original)\n",
        "\n",
        "# Agora o dicionário 'dados_da_tabela' contém informações completas de cada célula detectada\n",
        "print(dados_da_tabela)\n"
      ]
    },
    {
      "cell_type": "code",
      "execution_count": null,
      "metadata": {},
      "outputs": [],
      "source": [
        "# Verificar o tipo de dados do tensor 'pixel_values'\n",
        "print(type(dados_da_tabela['pixel_values']))\n",
        "\n",
        "# Verificar a forma do tensor 'pixel_values'\n",
        "print(dados_da_tabela['pixel_values'].shape)\n",
        "\n",
        "# Verificar o tipo de dados do tensor 'labels'\n",
        "print(type(dados_da_tabela['labels']))\n",
        "\n",
        "# Verificar a forma do tensor 'labels'\n",
        "print(dados_da_tabela['labels'].shape)\n",
        "\n",
        "\n"
      ]
    },
    {
      "cell_type": "code",
      "execution_count": null,
      "metadata": {},
      "outputs": [],
      "source": [
        "# Verificar os elementos do tensor 'pixel_values'\n",
        "print(dados_da_tabela['pixel_values'])\n",
        "\n",
        "# Verificar os elementos do tensor 'labels'\n",
        "print(dados_da_tabela['labels'])\n"
      ]
    },
    {
      "cell_type": "code",
      "execution_count": null,
      "metadata": {},
      "outputs": [],
      "source": []
    },
    {
      "cell_type": "code",
      "execution_count": null,
      "metadata": {},
      "outputs": [],
      "source": []
    },
    {
      "cell_type": "code",
      "execution_count": null,
      "metadata": {},
      "outputs": [],
      "source": [
        "# Remover as chaves originais, pois foram substituídas pelas chaves com informações completas\n",
        "chaves_originais = list(range(len(dados_da_tabela)))\n",
        "for chave_original in chaves_originais:\n",
        "    dados_da_tabela.pop(chave_original)"
      ]
    },
    {
      "cell_type": "code",
      "execution_count": null,
      "metadata": {},
      "outputs": [],
      "source": [
        "celulas_detectadas = []\n",
        "for i in range(len(dados_da_tabela)):\n",
        "    retangulo = dados_da_tabela[i]\n",
        "    img_celula = recortar_imagem(file_path, retangulo)\n",
        "    texto_celula = pytesseract.image_to_string(img_celula, lang='por')\n",
        "    \n",
        "    # Mapear o ID numérico do rótulo para o rótulo descritivo usando model.config.id2label\n",
        "    label_id = labels_ids[i].item() if isinstance(labels_ids[i], torch.Tensor) else labels_ids[i]\n",
        "    label_descritivo = model.config.id2label[label_id]\n",
        "    \n",
        "    # Criar objeto CelulaTabela e adicioná-lo à lista de células_detectadas\n",
        "    celula = CelulaTabela(coordenadas=retangulo, label=label_descritivo, texto=texto_celula)\n",
        "    celulas_detectadas.append(celula)\n",
        "\n",
        "# Agora a lista celulas_detectadas contém objetos CelulaTabela com informações de cada célula detectada\n",
        "# Você pode acessar as informações de cada célula usando os atributos da classe\n",
        "for celula in celulas_detectadas:\n",
        "    print(\"Coordenadas:\", celula.coordenadas)\n",
        "    print(\"Label:\", celula.label)\n",
        "    print(\"Texto:\", celula.texto)\n",
        "    print(\"-\" * 30)"
      ]
    },
    {
      "cell_type": "code",
      "execution_count": null,
      "metadata": {},
      "outputs": [],
      "source": [
        "# Função para recortar a imagem com base nas coordenadas do retângulo\n",
        "def recortar_imagem(img, coordenadas):\n",
        "    x_min, y_min, x_max, y_max = coordenadas\n",
        "    return img[int(y_min):int(y_max), int(x_min):int(x_max)]\n",
        "\n",
        "# Processo de OCR para cada célula e preenchimento do dicionário\n",
        "for i, retangulo in enumerate(retangulos):\n",
        "    img_celula = recortar_imagem(img_pdf, retangulo)\n",
        "    texto_celula = pytesseract.image_to_string(img_celula, lang='por')\n",
        "    \n",
        "    # Mapear o ID numérico do rótulo para o rótulo descritivo usando model.config.id2label\n",
        "    label_id = labels_ids[i]\n",
        "    label_descritivo = model.config.id2label[label_id]\n",
        "    \n",
        "    # Adicionar as informações ao dicionário\n",
        "    chave_celula = f'celula_{i}'\n",
        "    dados_da_tabela[chave_celula] = {\n",
        "        'coordenadas': retangulo,\n",
        "        'label': label_descritivo,\n",
        "        'texto': texto_celula\n",
        "    }\n",
        "\n",
        "# Agora o dicionário 'dados_da_tabela' contém informações completas de cada célula detectada\n",
        "print(dados_da_tabela)\n"
      ]
    },
    {
      "cell_type": "code",
      "execution_count": null,
      "metadata": {},
      "outputs": [],
      "source": [
        "\n",
        "dados_da_tabela = {}\n",
        "for i, retangulo in enumerate(retangulos):\n",
        "    img_celula = recortar_imagem(img_pdf, retangulo)\n",
        "    texto_celula = pytesseract.image_to_string(img_celula, lang='por')\n",
        "    chave_celula = f'celula_{i}'  # Ou use outra forma de identificar a célula, se preferir\n",
        "    dados_da_tabela[chave_celula] = texto_celula\n",
        "\n",
        "# Agora 'dados_da_tabela' é um dicionário que mapeia cada célula ao seu conteúdo lido pelo OCR.\n",
        "print(dados_da_tabela)"
      ]
    },
    {
      "cell_type": "code",
      "execution_count": null,
      "metadata": {},
      "outputs": [],
      "source": [
        "retangulos"
      ]
    },
    {
      "cell_type": "code",
      "execution_count": null,
      "metadata": {},
      "outputs": [],
      "source": [
        "labels_ids"
      ]
    },
    {
      "cell_type": "code",
      "execution_count": null,
      "metadata": {},
      "outputs": [],
      "source": [
        "for dado in dados_da_tabela.items():\n",
        "    print(dado)"
      ]
    },
    {
      "cell_type": "code",
      "execution_count": null,
      "metadata": {},
      "outputs": [],
      "source": [
        "\n",
        "# Exemplo de resultados de OCR para cada célula\n",
        "texto_das_celulas = [\"Conteúdo da célula 1\", \"Conteúdo da célula 2\", \"...\"]\n",
        "\n",
        "# Criação do dicionário para armazenar os dados de cada detecção\n",
        "dados_da_tabela = []\n",
        "\n",
        "for i, label_id in enumerate(labels_ids):\n",
        "    # Obtém o rótulo descritivo com base no ID numérico usando model.config.id2label\n",
        "    rótulo_descritivo = model.config.id2label[label_id]\n",
        "\n",
        "    # Obtém o texto correspondente à célula detectada usando o OCR\n",
        "    texto_celula = texto_das_celulas[i]\n",
        "\n",
        "    # Armazena todas as informações relevantes sobre a detecção em um dicionário\n",
        "    detecao = {\n",
        "        'label': rótulo_descritivo,\n",
        "        'texto': texto_celula,\n",
        "        # Adicione aqui outras informações relevantes, como coordenadas do retângulo, confiança da detecção, etc.\n",
        "    }\n",
        "\n",
        "    # Adiciona o dicionário da detecção à lista geral de dados da tabela\n",
        "    dados_da_tabela.append(detecao)\n",
        "\n",
        "# Agora 'dados_da_tabela' é uma lista de dicionários, cada dicionário contendo informações sobre uma detecção.\n",
        "print(dados_da_tabela)\n"
      ]
    },
    {
      "cell_type": "markdown",
      "metadata": {},
      "source": [
        "### Using Thinker"
      ]
    },
    {
      "cell_type": "code",
      "execution_count": null,
      "metadata": {},
      "outputs": [],
      "source": []
    }
  ],
  "metadata": {
    "colab": {
      "provenance": []
    },
    "kernelspec": {
      "display_name": "Python 3",
      "name": "python3"
    },
    "language_info": {
      "codemirror_mode": {
        "name": "ipython",
        "version": 3
      },
      "file_extension": ".py",
      "mimetype": "text/x-python",
      "name": "python",
      "nbconvert_exporter": "python",
      "pygments_lexer": "ipython3",
      "version": "3.10.9"
    }
  },
  "nbformat": 4,
  "nbformat_minor": 0
}
