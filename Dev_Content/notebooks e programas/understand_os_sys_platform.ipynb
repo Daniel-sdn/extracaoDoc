{
 "cells": [
  {
   "cell_type": "code",
   "execution_count": 1,
   "metadata": {},
   "outputs": [],
   "source": [
    "import os\n",
    "import sys\n",
    "import platform"
   ]
  },
  {
   "cell_type": "code",
   "execution_count": 28,
   "metadata": {},
   "outputs": [],
   "source": [
    "import shutil\n",
    "from io import StringIO\n",
    "\n",
    "from pathlib import Path\n",
    "from unidecode import unidecode\n",
    "from unicodedata import normalize"
   ]
  },
  {
   "cell_type": "code",
   "execution_count": 83,
   "metadata": {},
   "outputs": [],
   "source": [
    "from pyunpack import Archive\n",
    "import py7zr"
   ]
  },
  {
   "cell_type": "code",
   "execution_count": null,
   "metadata": {},
   "outputs": [],
   "source": [
    "for root, dirs, files in os.walk(path_root):\n",
    "    #print(f'{root}  | {dirs} | {files} \\n')\n",
    "    \n",
    "    for nome in files:\n",
    "        file_path = os.path.join(root, nome)\n",
    "        \n",
    "        file_stat = os.stat(file_path)\n",
    "        \n",
    "        print(f'nome in files    {nome}    {(oct(file_stat.st_mode)[-3:])}\\n')\n",
    "        \n",
    "        \n",
    "        #os.chmod(os.path.join(root, nome), 0o755)\n",
    "    for nome in dirs:\n",
    "        file_path = os.path.join(root, nome)\n",
    "        file_stat = os.stat(file_path)\n",
    "        \n",
    "        print(f'\\n\\nnome in dirs    {nome}  {(oct(file_stat.st_mode)[-3:])}\\n')"
   ]
  },
  {
   "cell_type": "code",
   "execution_count": null,
   "metadata": {},
   "outputs": [],
   "source": []
  },
  {
   "cell_type": "code",
   "execution_count": null,
   "metadata": {},
   "outputs": [],
   "source": []
  },
  {
   "cell_type": "code",
   "execution_count": 84,
   "metadata": {},
   "outputs": [],
   "source": [
    "rar = 'pipeline_extracao_documentos/4_area_testes/SPA 15082023.rar'"
   ]
  },
  {
   "cell_type": "code",
   "execution_count": 88,
   "metadata": {},
   "outputs": [],
   "source": [
    "seven = r\"pipeline_extracao_documentos/4_area_testes/arquivosevenz.7z\""
   ]
  },
  {
   "cell_type": "code",
   "execution_count": 90,
   "metadata": {},
   "outputs": [],
   "source": [
    "with py7zr.SevenZipFile(seven, mode='r') as z:\n",
    "    z.extractall('pipeline_extracao_documentos/4_area_testes/teste/extracted')"
   ]
  },
  {
   "cell_type": "code",
   "execution_count": 92,
   "metadata": {},
   "outputs": [],
   "source": [
    "Archive(rar).extractall('pipeline_extracao_documentos/4_area_testes/teste/extracted/rar')"
   ]
  },
  {
   "cell_type": "code",
   "execution_count": null,
   "metadata": {},
   "outputs": [],
   "source": [
    "\n",
    "\n",
    "open('hello.txt').read()\n",
    "'hello\\n'"
   ]
  },
  {
   "cell_type": "markdown",
   "metadata": {},
   "source": [
    "### platform"
   ]
  },
  {
   "cell_type": "code",
   "execution_count": 2,
   "metadata": {},
   "outputs": [
    {
     "data": {
      "text/plain": [
       "'x86_64'"
      ]
     },
     "execution_count": 2,
     "metadata": {},
     "output_type": "execute_result"
    }
   ],
   "source": [
    "platform.machine() # 'x86_64'"
   ]
  },
  {
   "cell_type": "code",
   "execution_count": 4,
   "metadata": {},
   "outputs": [
    {
     "data": {
      "text/plain": [
       "'x86_64'"
      ]
     },
     "execution_count": 4,
     "metadata": {},
     "output_type": "execute_result"
    }
   ],
   "source": [
    "platform.processor() # 'x86_64'"
   ]
  },
  {
   "cell_type": "code",
   "execution_count": 5,
   "metadata": {},
   "outputs": [
    {
     "data": {
      "text/plain": [
       "'5.15.90.4-microsoft-standard-WSL2'"
      ]
     },
     "execution_count": 5,
     "metadata": {},
     "output_type": "execute_result"
    }
   ],
   "source": [
    "platform.release() # '5.15.90.4-microsoft-standard-WSL2'\n",
    "\n",
    "# Returns the system’s release, e.g. '2.2.0' or 'NT'. An empty string is returned if the value cannot be determined."
   ]
  },
  {
   "cell_type": "code",
   "execution_count": 3,
   "metadata": {},
   "outputs": [
    {
     "data": {
      "text/plain": [
       "'WORKSTATION-DAN'"
      ]
     },
     "execution_count": 3,
     "metadata": {},
     "output_type": "execute_result"
    }
   ],
   "source": [
    "platform.node() # 'WORKSTATION-DAN'\n",
    "\n",
    "#Returns the computer’s network name (may not be fully qualified!). An empty string is returned if the value cannot be determined"
   ]
  },
  {
   "cell_type": "code",
   "execution_count": 6,
   "metadata": {},
   "outputs": [
    {
     "data": {
      "text/plain": [
       "'Linux'"
      ]
     },
     "execution_count": 6,
     "metadata": {},
     "output_type": "execute_result"
    }
   ],
   "source": [
    "platform.system() # 'Linux'\n",
    "\n",
    "#Returns the system/OS name, such as 'Linux', 'Darwin', 'Java', 'Windows'. An empty string is returned if the value cannot be determined."
   ]
  },
  {
   "cell_type": "markdown",
   "metadata": {},
   "source": [
    "platform.uname()\n",
    "\n",
    "Fairly portable uname interface. Returns a namedtuple() containing six attributes: system, node, release, version, machine, and processor."
   ]
  },
  {
   "cell_type": "code",
   "execution_count": 7,
   "metadata": {},
   "outputs": [
    {
     "data": {
      "text/plain": [
       "uname_result(system='Linux', node='WORKSTATION-DAN', release='5.15.90.4-microsoft-standard-WSL2', version='#1 SMP Tue Jul 18 21:28:32 UTC 2023', machine='x86_64')"
      ]
     },
     "execution_count": 7,
     "metadata": {},
     "output_type": "execute_result"
    }
   ],
   "source": [
    "platform.uname() # uname_result(system='Linux', node='WORKSTATION-DAN', release='5.15.90.4-microsoft-standard-WSL2', version='#1 SMP Tue Jul 18 21:28:32 UTC 2023', machine='x86_64')"
   ]
  },
  {
   "cell_type": "markdown",
   "metadata": {},
   "source": [
    "<h3> Linux</h3>\n",
    "\n",
    "platform.freedesktop_os_release()\n",
    "\n",
    "    Get operating system identification from os-release file and return it as a dict. The os-release file is a freedesktop.org standard and is available in most Linux distributions. A noticeable exception is Android and Android-based distributions.\n",
    "\n",
    "    Raises OSError or subclass when neither /etc/os-release nor /usr/lib/os-release can be read.\n",
    "\n",
    "    On success, the function returns a dictionary where keys and values are strings. Values have their special characters like \" and $ unquoted. The fields NAME, ID, and PRETTY_NAME are always defined according to the standard. All other fields are optional. Vendors may include additional fields.\n",
    "\n",
    "    Note that fields like NAME, VERSION, and VARIANT are strings suitable for presentation to users. Programs should use fields like ID, ID_LIKE, VERSION_ID, or VARIANT_ID to identify Linux distributions."
   ]
  },
  {
   "cell_type": "code",
   "execution_count": 8,
   "metadata": {},
   "outputs": [
    {
     "data": {
      "text/plain": [
       "{'NAME': 'Ubuntu',\n",
       " 'ID': 'ubuntu',\n",
       " 'PRETTY_NAME': 'Ubuntu 22.04.3 LTS',\n",
       " 'VERSION_ID': '22.04',\n",
       " 'VERSION': '22.04.3 LTS (Jammy Jellyfish)',\n",
       " 'VERSION_CODENAME': 'jammy',\n",
       " 'ID_LIKE': 'debian',\n",
       " 'HOME_URL': 'https://www.ubuntu.com/',\n",
       " 'SUPPORT_URL': 'https://help.ubuntu.com/',\n",
       " 'BUG_REPORT_URL': 'https://bugs.launchpad.net/ubuntu/',\n",
       " 'PRIVACY_POLICY_URL': 'https://www.ubuntu.com/legal/terms-and-policies/privacy-policy',\n",
       " 'UBUNTU_CODENAME': 'jammy'}"
      ]
     },
     "execution_count": 8,
     "metadata": {},
     "output_type": "execute_result"
    }
   ],
   "source": [
    "platform.freedesktop_os_release()"
   ]
  },
  {
   "cell_type": "code",
   "execution_count": null,
   "metadata": {},
   "outputs": [],
   "source": [
    "{'NAME': 'Ubuntu',\n",
    " 'ID': 'ubuntu',\n",
    " 'PRETTY_NAME': 'Ubuntu 22.04.3 LTS',\n",
    " 'VERSION_ID': '22.04',\n",
    " 'VERSION': '22.04.3 LTS (Jammy Jellyfish)',\n",
    " 'VERSION_CODENAME': 'jammy',\n",
    " 'ID_LIKE': 'debian',\n",
    " 'HOME_URL': 'https://www.ubuntu.com/',\n",
    " 'SUPPORT_URL': 'https://help.ubuntu.com/',\n",
    " 'BUG_REPORT_URL': 'https://bugs.launchpad.net/ubuntu/',\n",
    " 'PRIVACY_POLICY_URL': 'https://www.ubuntu.com/legal/terms-and-policies/privacy-policy',\n",
    " 'UBUNTU_CODENAME': 'jammy'}"
   ]
  },
  {
   "cell_type": "code",
   "execution_count": 9,
   "metadata": {},
   "outputs": [],
   "source": [
    "def get_like_distro():\n",
    "    info = platform.freedesktop_os_release()\n",
    "    ids = [info[\"ID\"]]\n",
    "    if \"ID_LIKE\" in info:\n",
    "        # ids are space separated and ordered by precedence\n",
    "        ids.extend(info[\"ID_LIKE\"].split())\n",
    "    return ids"
   ]
  },
  {
   "cell_type": "code",
   "execution_count": 10,
   "metadata": {},
   "outputs": [
    {
     "data": {
      "text/plain": [
       "['ubuntu', 'debian']"
      ]
     },
     "execution_count": 10,
     "metadata": {},
     "output_type": "execute_result"
    }
   ],
   "source": [
    "get_like_distro() # ['ubuntu', 'debian']"
   ]
  },
  {
   "cell_type": "markdown",
   "metadata": {},
   "source": [
    "### os.Error"
   ]
  },
  {
   "cell_type": "code",
   "execution_count": 17,
   "metadata": {},
   "outputs": [],
   "source": [
    "import exceptiongroup"
   ]
  },
  {
   "cell_type": "code",
   "execution_count": 19,
   "metadata": {},
   "outputs": [],
   "source": [
    "from exceptiongroup import ExceptionGroup"
   ]
  },
  {
   "cell_type": "code",
   "execution_count": 20,
   "metadata": {},
   "outputs": [],
   "source": [
    "class Errors(ExceptionGroup):\n",
    "   def __new__(cls, errors, exit_code):\n",
    "      self = super().__new__(Errors, f\"exit code: {exit_code}\", errors)\n",
    "      self.exit_code = exit_code\n",
    "      return self\n",
    "\n",
    "   def derive(self, excs):\n",
    "      return Errors(excs, self.exit_code)"
   ]
  },
  {
   "cell_type": "code",
   "execution_count": 21,
   "metadata": {},
   "outputs": [],
   "source": [
    "from exceptiongroup import BaseExceptionGroup"
   ]
  },
  {
   "cell_type": "code",
   "execution_count": null,
   "metadata": {},
   "outputs": [],
   "source": [
    "from exceptiongroup import Bas"
   ]
  },
  {
   "cell_type": "code",
   "execution_count": 22,
   "metadata": {},
   "outputs": [],
   "source": [
    "class MyGroup(ExceptionGroup):\n",
    "    def derive(self, excs):\n",
    "        return MyGroup(self.message, excs)\n",
    "\n",
    "e = MyGroup(\"eg\", [ValueError(1), TypeError(2)])\n",
    "e.add_note(\"a note\")\n",
    "e.__context__ = Exception(\"context\")\n",
    "e.__cause__ = Exception(\"cause\")\n",
    "try:\n",
    "   raise e\n",
    "except Exception as e:\n",
    "   exc = e\n",
    "\n"
   ]
  },
  {
   "cell_type": "code",
   "execution_count": 24,
   "metadata": {},
   "outputs": [
    {
     "data": {
      "text/plain": [
       "3000"
      ]
     },
     "execution_count": 24,
     "metadata": {},
     "output_type": "execute_result"
    }
   ],
   "source": [
    "sys.getrecursionlimit()"
   ]
  },
  {
   "cell_type": "code",
   "execution_count": 93,
   "metadata": {},
   "outputs": [],
   "source": [
    "os.chdir(path='.')"
   ]
  },
  {
   "cell_type": "code",
   "execution_count": 26,
   "metadata": {},
   "outputs": [
    {
     "data": {
      "text/plain": [
       "'/home/dani-boy/extractNF'"
      ]
     },
     "execution_count": 26,
     "metadata": {},
     "output_type": "execute_result"
    }
   ],
   "source": [
    "os.getcwd() # '/home/dani-boy/extractNF'\n",
    "\n",
    "# mostra diretorio atual"
   ]
  },
  {
   "cell_type": "code",
   "execution_count": 30,
   "metadata": {},
   "outputs": [],
   "source": [
    "from pathlib import PurePath"
   ]
  },
  {
   "cell_type": "code",
   "execution_count": 41,
   "metadata": {},
   "outputs": [
    {
     "data": {
      "text/plain": [
       "'/home/dani-boy/miniconda3/envs/tables-detr'"
      ]
     },
     "execution_count": 41,
     "metadata": {},
     "output_type": "execute_result"
    }
   ],
   "source": [
    "os.getenv(\"CONDA_PREFIX\", default=None) #'/home/dani-boy/miniconda3/envs/tables-detr'\n",
    "\n",
    "#Return the value of the environment variable key as a string if it exists, or default if it doesn’t. key is a string. Note that since getenv() uses os.environ, the mapping of getenv() is similarly also captured on import, and the function may not reflect future environment changes."
   ]
  },
  {
   "cell_type": "code",
   "execution_count": 46,
   "metadata": {},
   "outputs": [],
   "source": [
    "import getpass\n",
    "from getpass import getuser"
   ]
  },
  {
   "cell_type": "code",
   "execution_count": 47,
   "metadata": {},
   "outputs": [
    {
     "data": {
      "text/plain": [
       "'dani-boy'"
      ]
     },
     "execution_count": 47,
     "metadata": {},
     "output_type": "execute_result"
    }
   ],
   "source": [
    "getpass.getuser() # 'dani-boy'\n",
    "\n",
    "#Return the “login name” of the user."
   ]
  },
  {
   "cell_type": "code",
   "execution_count": 39,
   "metadata": {},
   "outputs": [
    {
     "data": {
      "text/plain": [
       "PurePosixPath('setup.py')"
      ]
     },
     "execution_count": 39,
     "metadata": {},
     "output_type": "execute_result"
    }
   ],
   "source": [
    "PurePath('setup.py')"
   ]
  },
  {
   "cell_type": "code",
   "execution_count": 33,
   "metadata": {},
   "outputs": [
    {
     "data": {
      "text/plain": [
       "PurePosixPath('.')"
      ]
     },
     "execution_count": 33,
     "metadata": {},
     "output_type": "execute_result"
    }
   ],
   "source": [
    "PurePath() # PurePosixPath('.')"
   ]
  },
  {
   "cell_type": "code",
   "execution_count": 67,
   "metadata": {},
   "outputs": [],
   "source": [
    "pure = PurePath('processamento_01.xlsx') # PurePosixPath('processamento_01.xlsx')"
   ]
  },
  {
   "cell_type": "code",
   "execution_count": 32,
   "metadata": {},
   "outputs": [
    {
     "data": {
      "text/plain": [
       "PurePosixPath('pipeline_extracao_documentos/7_Avaliar_processamento/Batch_1/MAGE_PDF_17282023_1609/2953/7A17914B-27E8-423B-AE9E-7EFD67971272.PDF')"
      ]
     },
     "execution_count": 32,
     "metadata": {},
     "output_type": "execute_result"
    }
   ],
   "source": [
    "PurePath('pipeline_extracao_documentos/7_Avaliar_processamento/Batch_1/MAGE_PDF_17282023_1609/2953/7A17914B-27E8-423B-AE9E-7EFD67971272.PDF') "
   ]
  },
  {
   "cell_type": "code",
   "execution_count": 34,
   "metadata": {},
   "outputs": [],
   "source": [
    "from pathlib import PurePosixPath"
   ]
  },
  {
   "cell_type": "code",
   "execution_count": 35,
   "metadata": {},
   "outputs": [
    {
     "data": {
      "text/plain": [
       "PurePosixPath('.')"
      ]
     },
     "execution_count": 35,
     "metadata": {},
     "output_type": "execute_result"
    }
   ],
   "source": [
    "PurePosixPath() #PurePosixPath('.')"
   ]
  },
  {
   "cell_type": "code",
   "execution_count": 38,
   "metadata": {},
   "outputs": [
    {
     "data": {
      "text/plain": [
       "PurePosixPath('MAGE_PDF_17282023_1609/2953/7A17914B-27E8-423B-AE9E-7EFD67971272.PDF')"
      ]
     },
     "execution_count": 38,
     "metadata": {},
     "output_type": "execute_result"
    }
   ],
   "source": [
    "PurePath('MAGE_PDF_17282023_1609/2953/7A17914B-27E8-423B-AE9E-7EFD67971272.PDF')"
   ]
  },
  {
   "cell_type": "code",
   "execution_count": 37,
   "metadata": {},
   "outputs": [
    {
     "data": {
      "text/plain": [
       "PurePosixPath('MAGE_PDF_17282023_1609/2953/7A17914B-27E8-423B-AE9E-7EFD67971272.PDF')"
      ]
     },
     "execution_count": 37,
     "metadata": {},
     "output_type": "execute_result"
    }
   ],
   "source": [
    "PurePosixPath('MAGE_PDF_17282023_1609/2953/7A17914B-27E8-423B-AE9E-7EFD67971272.PDF') #PurePosixPath('.')"
   ]
  },
  {
   "cell_type": "code",
   "execution_count": 59,
   "metadata": {},
   "outputs": [],
   "source": [
    "doc = 'MAGE_PDF_17282023_1609/2953/7A17914B-27E8-423B-AE9E-7EFD67971272.PDF'"
   ]
  },
  {
   "cell_type": "code",
   "execution_count": null,
   "metadata": {},
   "outputs": [],
   "source": [
    "PurePath('MAGE_PDF_17282023_1609/2953/7A17914B-27E8-423B-AE9E-7EFD67971272.PDF')"
   ]
  },
  {
   "cell_type": "code",
   "execution_count": 77,
   "metadata": {},
   "outputs": [],
   "source": [
    "import py7zr"
   ]
  },
  {
   "cell_type": "code",
   "execution_count": 81,
   "metadata": {},
   "outputs": [],
   "source": [
    "zip = \"C:\\\\Users\\\\danie\\Desktop\\\\Arrumar_zips\\\\fwdrenotafiscal.zip\""
   ]
  },
  {
   "cell_type": "code",
   "execution_count": 79,
   "metadata": {},
   "outputs": [
    {
     "ename": "SyntaxError",
     "evalue": "(unicode error) 'unicodeescape' codec can't decode bytes in position 2-3: truncated \\UXXXXXXXX escape (1388608080.py, line 1)",
     "output_type": "error",
     "traceback": [
      "\u001b[0;36m  Cell \u001b[0;32mIn[79], line 1\u001b[0;36m\u001b[0m\n\u001b[0;31m    rsc = \"C:\\Users\\danie\\Desktop\\Arrumar_zips\\arquivosevenz\"\u001b[0m\n\u001b[0m                                                             ^\u001b[0m\n\u001b[0;31mSyntaxError\u001b[0m\u001b[0;31m:\u001b[0m (unicode error) 'unicodeescape' codec can't decode bytes in position 2-3: truncated \\UXXXXXXXX escape\n"
     ]
    }
   ],
   "source": [
    "rsc = \"C:\\Users\\danie\\Desktop\\Arrumar_zips\\arquivosevenz\""
   ]
  },
  {
   "cell_type": "code",
   "execution_count": 82,
   "metadata": {},
   "outputs": [
    {
     "ename": "FileNotFoundError",
     "evalue": "[Errno 2] No such file or directory: 'C:\\\\Users\\\\danie\\\\Desktop\\\\Arrumar_zips\\\\fwdrenotafiscal.zip'",
     "output_type": "error",
     "traceback": [
      "\u001b[0;31m---------------------------------------------------------------------------\u001b[0m",
      "\u001b[0;31mFileNotFoundError\u001b[0m                         Traceback (most recent call last)",
      "Cell \u001b[0;32mIn[82], line 2\u001b[0m\n\u001b[1;32m      1\u001b[0m \u001b[39mimport\u001b[39;00m \u001b[39mos\u001b[39;00m\n\u001b[0;32m----> 2\u001b[0m statinfo \u001b[39m=\u001b[39m os\u001b[39m.\u001b[39;49mstat(\u001b[39mzip\u001b[39;49m) \u001b[39m# (8,192 bytes)\u001b[39;00m\n",
      "\u001b[0;31mFileNotFoundError\u001b[0m: [Errno 2] No such file or directory: 'C:\\\\Users\\\\danie\\\\Desktop\\\\Arrumar_zips\\\\fwdrenotafiscal.zip'"
     ]
    }
   ],
   "source": [
    "import os\n",
    "statinfo = os.stat(zip) # (8,192 bytes)\n"
   ]
  },
  {
   "cell_type": "code",
   "execution_count": 65,
   "metadata": {},
   "outputs": [],
   "source": [
    "resource = os.path.realpath(doc)  # '/home/dani-boy/extractNF/MAGE_PDF_17282023_1609/2953/7A17914B-27E8-423B-AE9E-7EFD67971272.PDF'"
   ]
  },
  {
   "cell_type": "code",
   "execution_count": 68,
   "metadata": {},
   "outputs": [
    {
     "data": {
      "text/plain": [
       "os.stat_result(st_mode=33188, st_ino=1114360, st_dev=2080, st_nlink=1, st_uid=1000, st_gid=1000, st_size=6804, st_atime=1693183476, st_mtime=1693183472, st_ctime=1693183472)"
      ]
     },
     "execution_count": 68,
     "metadata": {},
     "output_type": "execute_result"
    }
   ],
   "source": [
    "os.stat(pure)"
   ]
  },
  {
   "cell_type": "code",
   "execution_count": 73,
   "metadata": {},
   "outputs": [
    {
     "data": {
      "text/plain": [
       "os.stat_result(st_mode=33188, st_ino=1114807, st_dev=2080, st_nlink=1, st_uid=1000, st_gid=1000, st_size=4232, st_atime=1693184670, st_mtime=1693184670, st_ctime=1693184670)"
      ]
     },
     "execution_count": 73,
     "metadata": {},
     "output_type": "execute_result"
    }
   ],
   "source": [
    "statinfo"
   ]
  },
  {
   "cell_type": "code",
   "execution_count": 56,
   "metadata": {},
   "outputs": [
    {
     "data": {
      "text/plain": [
       "2080"
      ]
     },
     "execution_count": 56,
     "metadata": {},
     "output_type": "execute_result"
    }
   ],
   "source": [
    "statinfo.st_dev #2080"
   ]
  },
  {
   "cell_type": "code",
   "execution_count": 55,
   "metadata": {},
   "outputs": [
    {
     "data": {
      "text/plain": [
       "4232"
      ]
     },
     "execution_count": 55,
     "metadata": {},
     "output_type": "execute_result"
    }
   ],
   "source": [
    "statinfo.st_size #4232"
   ]
  },
  {
   "cell_type": "code",
   "execution_count": 58,
   "metadata": {},
   "outputs": [
    {
     "name": "stdout",
     "output_type": "stream",
     "text": [
      "8596.25\n"
     ]
    }
   ],
   "source": [
    "print((statinfo.st_dev * statinfo.st_size)/1024)"
   ]
  },
  {
   "cell_type": "code",
   "execution_count": null,
   "metadata": {},
   "outputs": [
    {
     "data": {
      "text/plain": [
       "('main', 'Feb  2 2023 20:20:04')"
      ]
     },
     "metadata": {},
     "output_type": "display_data"
    }
   ],
   "source": [
    "platform.python_build() #('main', 'Feb  2 2023 20:20:04')\n",
    "\n",
    "#Returns a tuple (buildno, builddate) stating the Python build number and date as strings."
   ]
  },
  {
   "cell_type": "code",
   "execution_count": null,
   "metadata": {},
   "outputs": [
    {
     "data": {
      "text/plain": [
       "'Linux-5.15.90.4-microsoft-standard-WSL2-x86_64-with-glibc2.35'"
      ]
     },
     "metadata": {},
     "output_type": "display_data"
    }
   ],
   "source": [
    "platform.platform(aliased=0, terse=False) # 'Linux-5.15.90.4-microsoft-standard-WSL2-x86_64-with-glibc2.35'\n",
    "\n",
    "#Returns a single string identifying the underlying platform with as much useful information as possible."
   ]
  },
  {
   "cell_type": "code",
   "execution_count": null,
   "metadata": {},
   "outputs": [
    {
     "data": {
      "text/plain": [
       "'linux'"
      ]
     },
     "metadata": {},
     "output_type": "display_data"
    }
   ],
   "source": [
    "sys.platform #gives the name of the platform ('linux')"
   ]
  },
  {
   "cell_type": "code",
   "execution_count": null,
   "metadata": {},
   "outputs": [
    {
     "data": {
      "text/plain": [
       "'utf-8'"
      ]
     },
     "metadata": {},
     "output_type": "display_data"
    }
   ],
   "source": [
    "sys.getdefaultencoding() #da o atual encoding do sistema (neste caso: utf-8)"
   ]
  },
  {
   "cell_type": "code",
   "execution_count": null,
   "metadata": {},
   "outputs": [
    {
     "data": {
      "text/plain": [
       "sys.hash_info(width=64, modulus=2305843009213693951, inf=314159, nan=0, imag=1000003, algorithm='siphash24', hash_bits=64, seed_bits=128, cutoff=0)"
      ]
     },
     "metadata": {},
     "output_type": "display_data"
    }
   ],
   "source": [
    "sys.hash_info"
   ]
  },
  {
   "cell_type": "code",
   "execution_count": null,
   "metadata": {},
   "outputs": [
    {
     "data": {
      "text/plain": [
       "30757"
      ]
     },
     "metadata": {},
     "output_type": "display_data"
    }
   ],
   "source": [
    "os.getpid()"
   ]
  },
  {
   "cell_type": "code",
   "execution_count": null,
   "metadata": {},
   "outputs": [
    {
     "data": {
      "text/plain": [
       "1000"
      ]
     },
     "metadata": {},
     "output_type": "display_data"
    }
   ],
   "source": [
    "os.getuid()"
   ]
  },
  {
   "cell_type": "code",
   "execution_count": null,
   "metadata": {},
   "outputs": [
    {
     "data": {
      "text/plain": [
       "posix.uname_result(sysname='Linux', nodename='WORKSTATION-DAN', release='5.15.90.4-microsoft-standard-WSL2', version='#1 SMP Tue Jul 18 21:28:32 UTC 2023', machine='x86_64')"
      ]
     },
     "metadata": {},
     "output_type": "display_data"
    }
   ],
   "source": [
    "os.uname()"
   ]
  }
 ],
 "metadata": {
  "kernelspec": {
   "display_name": "tables-detr",
   "language": "python",
   "name": "python3"
  },
  "language_info": {
   "codemirror_mode": {
    "name": "ipython",
    "version": 3
   },
   "file_extension": ".py",
   "mimetype": "text/x-python",
   "name": "python",
   "nbconvert_exporter": "python",
   "pygments_lexer": "ipython3",
   "version": "3.10.9"
  },
  "orig_nbformat": 4
 },
 "nbformat": 4,
 "nbformat_minor": 2
}
