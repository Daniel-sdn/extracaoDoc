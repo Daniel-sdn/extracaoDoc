{
 "cells": [
  {
   "cell_type": "code",
   "execution_count": 11,
   "metadata": {
    "tags": [
     "parameters",
     "pizza"
    ]
   },
   "outputs": [],
   "source": [
    "from prefect import Flow, task\n",
    "from prefect_jupyter import notebook\n",
    "\n",
    "@flow\n",
    "def example_execute_notebook():\n",
    "    nb = notebook.execute_notebook(\n",
    "        \"test_notebook.ipynb\",\n",
    "        parameters={\"num\": 5}\n",
    "    )\n",
    "    body = notebook.export_notebook(nb)\n",
    "    output_path = \"executed_notebook.ipynb\"\n",
    "    with open(output_path, \"w\") as f:\n",
    "        f.write(body)\n",
    "    return output_path\n",
    "\n"
   ]
  },
  {
   "cell_type": "code",
   "execution_count": 13,
   "metadata": {
    "tags": [
     "parameters",
     "night"
    ]
   },
   "outputs": [],
   "source": [
    "num = 5\n",
    "\n",
    "time = 5"
   ]
  },
  {
   "cell_type": "code",
   "execution_count": 15,
   "metadata": {},
   "outputs": [
    {
     "data": {
      "text/html": [
       "<pre style=\"white-space:pre;overflow-x:auto;line-height:normal;font-family:Menlo,'DejaVu Sans Mono',consolas,'Courier New',monospace\">20:30:26.147 | <span style=\"color: #008080; text-decoration-color: #008080\">INFO</span>    | prefect.engine - Created flow run<span style=\"color: #800080; text-decoration-color: #800080\"> 'wild-rattlesnake'</span> for flow<span style=\"color: #800080; text-decoration-color: #800080; font-weight: bold\"> 'example-execute-notebook'</span>\n",
       "</pre>\n"
      ],
      "text/plain": [
       "20:30:26.147 | \u001b[36mINFO\u001b[0m    | prefect.engine - Created flow run\u001b[35m 'wild-rattlesnake'\u001b[0m for flow\u001b[1;35m 'example-execute-notebook'\u001b[0m\n"
      ]
     },
     "metadata": {},
     "output_type": "display_data"
    },
    {
     "data": {
      "text/html": [
       "<pre style=\"white-space:pre;overflow-x:auto;line-height:normal;font-family:Menlo,'DejaVu Sans Mono',consolas,'Courier New',monospace\">20:30:26.149 | <span style=\"color: #008080; text-decoration-color: #008080\">INFO</span>    | Flow run<span style=\"color: #800080; text-decoration-color: #800080\"> 'wild-rattlesnake'</span> - View at <span style=\"color: #0000ff; text-decoration-color: #0000ff\">https://app.prefect.cloud/account/e0bcc144-e127-437b-aa93-f7161326d568/workspace/99d86dd4-a937-4cc0-a60c-f04246ea5574/flow-runs/flow-run/5661c4ff-18bc-4335-8ed3-c15a9e3e936b</span>\n",
       "</pre>\n"
      ],
      "text/plain": [
       "20:30:26.149 | \u001b[36mINFO\u001b[0m    | Flow run\u001b[35m 'wild-rattlesnake'\u001b[0m - View at \u001b[94mhttps://app.prefect.cloud/account/e0bcc144-e127-437b-aa93-f7161326d568/workspace/99d86dd4-a937-4cc0-a60c-f04246ea5574/flow-runs/flow-run/5661c4ff-18bc-4335-8ed3-c15a9e3e936b\u001b[0m\n"
      ]
     },
     "metadata": {},
     "output_type": "display_data"
    },
    {
     "data": {
      "text/html": [
       "<pre style=\"white-space:pre;overflow-x:auto;line-height:normal;font-family:Menlo,'DejaVu Sans Mono',consolas,'Courier New',monospace\">20:30:26.833 | <span style=\"color: #008080; text-decoration-color: #008080\">INFO</span>    | Flow run<span style=\"color: #800080; text-decoration-color: #800080\"> 'wild-rattlesnake'</span> - Created task run 'execute_notebook-0' for task 'execute_notebook'\n",
       "</pre>\n"
      ],
      "text/plain": [
       "20:30:26.833 | \u001b[36mINFO\u001b[0m    | Flow run\u001b[35m 'wild-rattlesnake'\u001b[0m - Created task run 'execute_notebook-0' for task 'execute_notebook'\n"
      ]
     },
     "metadata": {},
     "output_type": "display_data"
    },
    {
     "data": {
      "text/html": [
       "<pre style=\"white-space:pre;overflow-x:auto;line-height:normal;font-family:Menlo,'DejaVu Sans Mono',consolas,'Courier New',monospace\">20:30:26.835 | <span style=\"color: #008080; text-decoration-color: #008080\">INFO</span>    | Flow run<span style=\"color: #800080; text-decoration-color: #800080\"> 'wild-rattlesnake'</span> - Executing 'execute_notebook-0' immediately...\n",
       "</pre>\n"
      ],
      "text/plain": [
       "20:30:26.835 | \u001b[36mINFO\u001b[0m    | Flow run\u001b[35m 'wild-rattlesnake'\u001b[0m - Executing 'execute_notebook-0' immediately...\n"
      ]
     },
     "metadata": {},
     "output_type": "display_data"
    },
    {
     "data": {
      "application/vnd.jupyter.widget-view+json": {
       "model_id": "54a020d1f8d247ffbafeeabe5d54510d",
       "version_major": 2,
       "version_minor": 0
      },
      "text/plain": [
       "Executing:   0%|          | 0/5 [00:00<?, ?cell/s]"
      ]
     },
     "metadata": {},
     "output_type": "display_data"
    },
    {
     "data": {
      "text/html": [
       "<pre style=\"white-space:pre;overflow-x:auto;line-height:normal;font-family:Menlo,'DejaVu Sans Mono',consolas,'Courier New',monospace\">20:30:30.047 | <span style=\"color: #d70000; text-decoration-color: #d70000\">ERROR</span>   | Task run 'execute_notebook-0' - Encountered exception during execution:\n",
       "Traceback (most recent call last):\n",
       "  File \"/home/dani-boy/prefect/src/prefect/engine.py\", line 1729, in orchestrate_task_run\n",
       "    result = await call.aresult()\n",
       "  File \"/home/dani-boy/prefect/src/prefect/_internal/concurrency/calls.py\", line 291, in aresult\n",
       "    return await asyncio.wrap_future(self.future)\n",
       "  File \"/home/dani-boy/prefect/src/prefect/_internal/concurrency/calls.py\", line 315, in _run_sync\n",
       "    result = self.fn(*self.args, **self.kwargs)\n",
       "  File \"/home/dani-boy/miniconda3/envs/tables-detr/lib/python3.10/site-packages/prefect_jupyter/notebook.py\", line 77, in execute_notebook\n",
       "    return pm.execute_notebook(\n",
       "  File \"/home/dani-boy/miniconda3/envs/tables-detr/lib/python3.10/site-packages/papermill/execute.py\", line 128, in execute_notebook\n",
       "    raise_for_execution_errors(nb, output_path)\n",
       "  File \"/home/dani-boy/miniconda3/envs/tables-detr/lib/python3.10/site-packages/papermill/execute.py\", line 232, in raise_for_execution_errors\n",
       "    raise error\n",
       "papermill.exceptions.PapermillExecutionError: \n",
       "---------------------------------------------------------------------------\n",
       "Exception encountered at \"In [2]\":\n",
       "---------------------------------------------------------------------------\n",
       "NameError                                 Traceback (most recent call last)\n",
       "Cell In[2], line 1\n",
       "----&gt; 1 @flow\n",
       "      2 def example_execute_notebook():\n",
       "      3     nb = notebook.execute_notebook(\n",
       "      4         \"test_notebook.ipynb\",\n",
       "      5         parameters={\"num\": 5}\n",
       "      6     )\n",
       "      7     body = notebook.export_notebook(nb)\n",
       "\n",
       "NameError: name 'flow' is not defined\n",
       "\n",
       "</pre>\n"
      ],
      "text/plain": [
       "20:30:30.047 | \u001b[38;5;160mERROR\u001b[0m   | Task run 'execute_notebook-0' - Encountered exception during execution:\n",
       "Traceback (most recent call last):\n",
       "  File \"/home/dani-boy/prefect/src/prefect/engine.py\", line 1729, in orchestrate_task_run\n",
       "    result = await call.aresult()\n",
       "  File \"/home/dani-boy/prefect/src/prefect/_internal/concurrency/calls.py\", line 291, in aresult\n",
       "    return await asyncio.wrap_future(self.future)\n",
       "  File \"/home/dani-boy/prefect/src/prefect/_internal/concurrency/calls.py\", line 315, in _run_sync\n",
       "    result = self.fn(*self.args, **self.kwargs)\n",
       "  File \"/home/dani-boy/miniconda3/envs/tables-detr/lib/python3.10/site-packages/prefect_jupyter/notebook.py\", line 77, in execute_notebook\n",
       "    return pm.execute_notebook(\n",
       "  File \"/home/dani-boy/miniconda3/envs/tables-detr/lib/python3.10/site-packages/papermill/execute.py\", line 128, in execute_notebook\n",
       "    raise_for_execution_errors(nb, output_path)\n",
       "  File \"/home/dani-boy/miniconda3/envs/tables-detr/lib/python3.10/site-packages/papermill/execute.py\", line 232, in raise_for_execution_errors\n",
       "    raise error\n",
       "papermill.exceptions.PapermillExecutionError: \n",
       "---------------------------------------------------------------------------\n",
       "Exception encountered at \"In [2]\":\n",
       "---------------------------------------------------------------------------\n",
       "NameError                                 Traceback (most recent call last)\n",
       "Cell In[2], line 1\n",
       "----> 1 @flow\n",
       "      2 def example_execute_notebook():\n",
       "      3     nb = notebook.execute_notebook(\n",
       "      4         \"test_notebook.ipynb\",\n",
       "      5         parameters={\"num\": 5}\n",
       "      6     )\n",
       "      7     body = notebook.export_notebook(nb)\n",
       "\n",
       "NameError: name 'flow' is not defined\n",
       "\n"
      ]
     },
     "metadata": {},
     "output_type": "display_data"
    },
    {
     "data": {
      "text/html": [
       "<pre style=\"white-space:pre;overflow-x:auto;line-height:normal;font-family:Menlo,'DejaVu Sans Mono',consolas,'Courier New',monospace\">20:30:30.269 | <span style=\"color: #d70000; text-decoration-color: #d70000\">ERROR</span>   | Task run 'execute_notebook-0' - Finished in state <span style=\"color: #d70000; text-decoration-color: #d70000\">Failed</span>('Task run encountered an exception PapermillExecutionError: \\n---------------------------------------------------------------------------\\nException encountered at \"In [2]\":\\n---------------------------------------------------------------------------\\nNameError                                 Traceback (most recent call last)\\nCell In[2], line 1\\n----&gt; 1 @flow\\n      2 def example_execute_notebook():\\n      3     nb = notebook.execute_notebook(\\n      4         \"test_notebook.ipynb\",\\n      5         parameters={\"num\": 5}\\n      6     )\\n      7     body = notebook.export_notebook(nb)\\n\\nNameError: name \\'flow\\' is not defined\\n')\n",
       "</pre>\n"
      ],
      "text/plain": [
       "20:30:30.269 | \u001b[38;5;160mERROR\u001b[0m   | Task run 'execute_notebook-0' - Finished in state \u001b[38;5;160mFailed\u001b[0m('Task run encountered an exception PapermillExecutionError: \\n---------------------------------------------------------------------------\\nException encountered at \"In [2]\":\\n---------------------------------------------------------------------------\\nNameError                                 Traceback (most recent call last)\\nCell In[2], line 1\\n----> 1 @flow\\n      2 def example_execute_notebook():\\n      3     nb = notebook.execute_notebook(\\n      4         \"test_notebook.ipynb\",\\n      5         parameters={\"num\": 5}\\n      6     )\\n      7     body = notebook.export_notebook(nb)\\n\\nNameError: name \\'flow\\' is not defined\\n')\n"
      ]
     },
     "metadata": {},
     "output_type": "display_data"
    },
    {
     "data": {
      "text/html": [
       "<pre style=\"white-space:pre;overflow-x:auto;line-height:normal;font-family:Menlo,'DejaVu Sans Mono',consolas,'Courier New',monospace\">20:30:30.282 | <span style=\"color: #d70000; text-decoration-color: #d70000\">ERROR</span>   | Flow run<span style=\"color: #800080; text-decoration-color: #800080\"> 'wild-rattlesnake'</span> - Encountered exception during execution:\n",
       "Traceback (most recent call last):\n",
       "  File \"/home/dani-boy/prefect/src/prefect/engine.py\", line 829, in orchestrate_flow_run\n",
       "    result = await flow_call.aresult()\n",
       "  File \"/home/dani-boy/prefect/src/prefect/_internal/concurrency/calls.py\", line 291, in aresult\n",
       "    return await asyncio.wrap_future(self.future)\n",
       "  File \"/home/dani-boy/prefect/src/prefect/_internal/concurrency/calls.py\", line 315, in _run_sync\n",
       "    result = self.fn(*self.args, **self.kwargs)\n",
       "  File \"/tmp/ipykernel_1219/4267583956.py\", line 3, in example_execute_notebook\n",
       "    nb = notebook.execute_notebook(\n",
       "  File \"/home/dani-boy/prefect/src/prefect/tasks.py\", line 550, in __call__\n",
       "    return enter_task_run_engine(\n",
       "  File \"/home/dani-boy/prefect/src/prefect/engine.py\", line 1144, in enter_task_run_engine\n",
       "    return from_sync.wait_for_call_in_loop_thread(begin_run)\n",
       "  File \"/home/dani-boy/prefect/src/prefect/_internal/concurrency/api.py\", line 243, in wait_for_call_in_loop_thread\n",
       "    return call.result()\n",
       "  File \"/home/dani-boy/prefect/src/prefect/_internal/concurrency/calls.py\", line 282, in result\n",
       "    return self.future.result(timeout=timeout)\n",
       "  File \"/home/dani-boy/prefect/src/prefect/_internal/concurrency/calls.py\", line 168, in result\n",
       "    return self.__get_result()\n",
       "  File \"/home/dani-boy/miniconda3/envs/tables-detr/lib/python3.10/concurrent/futures/_base.py\", line 403, in __get_result\n",
       "    raise self._exception\n",
       "  File \"/home/dani-boy/prefect/src/prefect/_internal/concurrency/calls.py\", line 345, in _run_async\n",
       "    result = await coro\n",
       "  File \"/home/dani-boy/prefect/src/prefect/engine.py\", line 1312, in get_task_call_return_value\n",
       "    return await future._result()\n",
       "  File \"/home/dani-boy/prefect/src/prefect/futures.py\", line 237, in _result\n",
       "    return await final_state.result(raise_on_failure=raise_on_failure, fetch=True)\n",
       "  File \"/home/dani-boy/prefect/src/prefect/states.py\", line 91, in _get_state_result\n",
       "    raise await get_state_exception(state)\n",
       "  File \"/home/dani-boy/prefect/src/prefect/engine.py\", line 1729, in orchestrate_task_run\n",
       "    result = await call.aresult()\n",
       "  File \"/home/dani-boy/prefect/src/prefect/_internal/concurrency/calls.py\", line 291, in aresult\n",
       "    return await asyncio.wrap_future(self.future)\n",
       "  File \"/home/dani-boy/prefect/src/prefect/_internal/concurrency/calls.py\", line 315, in _run_sync\n",
       "    result = self.fn(*self.args, **self.kwargs)\n",
       "  File \"/home/dani-boy/miniconda3/envs/tables-detr/lib/python3.10/site-packages/prefect_jupyter/notebook.py\", line 77, in execute_notebook\n",
       "    return pm.execute_notebook(\n",
       "  File \"/home/dani-boy/miniconda3/envs/tables-detr/lib/python3.10/site-packages/papermill/execute.py\", line 128, in execute_notebook\n",
       "    raise_for_execution_errors(nb, output_path)\n",
       "  File \"/home/dani-boy/miniconda3/envs/tables-detr/lib/python3.10/site-packages/papermill/execute.py\", line 232, in raise_for_execution_errors\n",
       "    raise error\n",
       "papermill.exceptions.PapermillExecutionError: \n",
       "---------------------------------------------------------------------------\n",
       "Exception encountered at \"In [2]\":\n",
       "---------------------------------------------------------------------------\n",
       "NameError                                 Traceback (most recent call last)\n",
       "Cell In[2], line 1\n",
       "----&gt; 1 @flow\n",
       "      2 def example_execute_notebook():\n",
       "      3     nb = notebook.execute_notebook(\n",
       "      4         \"test_notebook.ipynb\",\n",
       "      5         parameters={\"num\": 5}\n",
       "      6     )\n",
       "      7     body = notebook.export_notebook(nb)\n",
       "\n",
       "NameError: name 'flow' is not defined\n",
       "\n",
       "</pre>\n"
      ],
      "text/plain": [
       "20:30:30.282 | \u001b[38;5;160mERROR\u001b[0m   | Flow run\u001b[35m 'wild-rattlesnake'\u001b[0m - Encountered exception during execution:\n",
       "Traceback (most recent call last):\n",
       "  File \"/home/dani-boy/prefect/src/prefect/engine.py\", line 829, in orchestrate_flow_run\n",
       "    result = await flow_call.aresult()\n",
       "  File \"/home/dani-boy/prefect/src/prefect/_internal/concurrency/calls.py\", line 291, in aresult\n",
       "    return await asyncio.wrap_future(self.future)\n",
       "  File \"/home/dani-boy/prefect/src/prefect/_internal/concurrency/calls.py\", line 315, in _run_sync\n",
       "    result = self.fn(*self.args, **self.kwargs)\n",
       "  File \"/tmp/ipykernel_1219/4267583956.py\", line 3, in example_execute_notebook\n",
       "    nb = notebook.execute_notebook(\n",
       "  File \"/home/dani-boy/prefect/src/prefect/tasks.py\", line 550, in __call__\n",
       "    return enter_task_run_engine(\n",
       "  File \"/home/dani-boy/prefect/src/prefect/engine.py\", line 1144, in enter_task_run_engine\n",
       "    return from_sync.wait_for_call_in_loop_thread(begin_run)\n",
       "  File \"/home/dani-boy/prefect/src/prefect/_internal/concurrency/api.py\", line 243, in wait_for_call_in_loop_thread\n",
       "    return call.result()\n",
       "  File \"/home/dani-boy/prefect/src/prefect/_internal/concurrency/calls.py\", line 282, in result\n",
       "    return self.future.result(timeout=timeout)\n",
       "  File \"/home/dani-boy/prefect/src/prefect/_internal/concurrency/calls.py\", line 168, in result\n",
       "    return self.__get_result()\n",
       "  File \"/home/dani-boy/miniconda3/envs/tables-detr/lib/python3.10/concurrent/futures/_base.py\", line 403, in __get_result\n",
       "    raise self._exception\n",
       "  File \"/home/dani-boy/prefect/src/prefect/_internal/concurrency/calls.py\", line 345, in _run_async\n",
       "    result = await coro\n",
       "  File \"/home/dani-boy/prefect/src/prefect/engine.py\", line 1312, in get_task_call_return_value\n",
       "    return await future._result()\n",
       "  File \"/home/dani-boy/prefect/src/prefect/futures.py\", line 237, in _result\n",
       "    return await final_state.result(raise_on_failure=raise_on_failure, fetch=True)\n",
       "  File \"/home/dani-boy/prefect/src/prefect/states.py\", line 91, in _get_state_result\n",
       "    raise await get_state_exception(state)\n",
       "  File \"/home/dani-boy/prefect/src/prefect/engine.py\", line 1729, in orchestrate_task_run\n",
       "    result = await call.aresult()\n",
       "  File \"/home/dani-boy/prefect/src/prefect/_internal/concurrency/calls.py\", line 291, in aresult\n",
       "    return await asyncio.wrap_future(self.future)\n",
       "  File \"/home/dani-boy/prefect/src/prefect/_internal/concurrency/calls.py\", line 315, in _run_sync\n",
       "    result = self.fn(*self.args, **self.kwargs)\n",
       "  File \"/home/dani-boy/miniconda3/envs/tables-detr/lib/python3.10/site-packages/prefect_jupyter/notebook.py\", line 77, in execute_notebook\n",
       "    return pm.execute_notebook(\n",
       "  File \"/home/dani-boy/miniconda3/envs/tables-detr/lib/python3.10/site-packages/papermill/execute.py\", line 128, in execute_notebook\n",
       "    raise_for_execution_errors(nb, output_path)\n",
       "  File \"/home/dani-boy/miniconda3/envs/tables-detr/lib/python3.10/site-packages/papermill/execute.py\", line 232, in raise_for_execution_errors\n",
       "    raise error\n",
       "papermill.exceptions.PapermillExecutionError: \n",
       "---------------------------------------------------------------------------\n",
       "Exception encountered at \"In [2]\":\n",
       "---------------------------------------------------------------------------\n",
       "NameError                                 Traceback (most recent call last)\n",
       "Cell In[2], line 1\n",
       "----> 1 @flow\n",
       "      2 def example_execute_notebook():\n",
       "      3     nb = notebook.execute_notebook(\n",
       "      4         \"test_notebook.ipynb\",\n",
       "      5         parameters={\"num\": 5}\n",
       "      6     )\n",
       "      7     body = notebook.export_notebook(nb)\n",
       "\n",
       "NameError: name 'flow' is not defined\n",
       "\n"
      ]
     },
     "metadata": {},
     "output_type": "display_data"
    },
    {
     "data": {
      "text/html": [
       "<pre style=\"white-space:pre;overflow-x:auto;line-height:normal;font-family:Menlo,'DejaVu Sans Mono',consolas,'Courier New',monospace\">20:30:30.502 | <span style=\"color: #d70000; text-decoration-color: #d70000\">ERROR</span>   | Flow run<span style=\"color: #800080; text-decoration-color: #800080\"> 'wild-rattlesnake'</span> - Finished in state <span style=\"color: #d70000; text-decoration-color: #d70000\">Failed</span>('Flow run encountered an exception. PapermillExecutionError: \\n---------------------------------------------------------------------------\\nException encountered at \"In [2]\":\\n---------------------------------------------------------------------------\\nNameError                                 Traceback (most recent call last)\\nCell In[2], line 1\\n----&gt; 1 @flow\\n      2 def example_execute_notebook():\\n      3     nb = notebook.execute_notebook(\\n      4         \"test_notebook.ipynb\",\\n      5         parameters={\"num\": 5}\\n      6     )\\n      7     body = notebook.export_notebook(nb)\\n\\nNameError: name \\'flow\\' is not defined\\n')\n",
       "</pre>\n"
      ],
      "text/plain": [
       "20:30:30.502 | \u001b[38;5;160mERROR\u001b[0m   | Flow run\u001b[35m 'wild-rattlesnake'\u001b[0m - Finished in state \u001b[38;5;160mFailed\u001b[0m('Flow run encountered an exception. PapermillExecutionError: \\n---------------------------------------------------------------------------\\nException encountered at \"In [2]\":\\n---------------------------------------------------------------------------\\nNameError                                 Traceback (most recent call last)\\nCell In[2], line 1\\n----> 1 @flow\\n      2 def example_execute_notebook():\\n      3     nb = notebook.execute_notebook(\\n      4         \"test_notebook.ipynb\",\\n      5         parameters={\"num\": 5}\\n      6     )\\n      7     body = notebook.export_notebook(nb)\\n\\nNameError: name \\'flow\\' is not defined\\n')\n"
      ]
     },
     "metadata": {},
     "output_type": "display_data"
    },
    {
     "ename": "PapermillExecutionError",
     "evalue": "\n---------------------------------------------------------------------------\nException encountered at \"In [2]\":\n---------------------------------------------------------------------------\nNameError                                 Traceback (most recent call last)\nCell In[2], line 1\n----> 1 @flow\n      2 def example_execute_notebook():\n      3     nb = notebook.execute_notebook(\n      4         \"test_notebook.ipynb\",\n      5         parameters={\"num\": 5}\n      6     )\n      7     body = notebook.export_notebook(nb)\n\nNameError: name 'flow' is not defined\n",
     "output_type": "error",
     "traceback": [
      "\u001b[0;31m---------------------------------------------------------------------------\u001b[0m",
      "\u001b[0;31mPapermillExecutionError\u001b[0m                   Traceback (most recent call last)",
      "\u001b[1;32m/home/dani-boy/extractNF/test_notebook.ipynb Cell 4\u001b[0m line \u001b[0;36m1\n\u001b[0;32m----> <a href='vscode-notebook-cell://wsl%2Bubuntu-22.04/home/dani-boy/extractNF/test_notebook.ipynb#W1sdnNjb2RlLXJlbW90ZQ%3D%3D?line=0'>1</a>\u001b[0m example_execute_notebook()\n",
      "File \u001b[0;32m~/prefect/src/prefect/flows.py:748\u001b[0m, in \u001b[0;36mFlow.__call__\u001b[0;34m(self, return_state, wait_for, *args, **kwargs)\u001b[0m\n\u001b[1;32m    743\u001b[0m \u001b[39mif\u001b[39;00m task_viz_tracker:\n\u001b[1;32m    744\u001b[0m     \u001b[39m# this is a subflow, for now return a single task and do not go further\u001b[39;00m\n\u001b[1;32m    745\u001b[0m     \u001b[39m# we can add support for exploring subflows for tasks in the future.\u001b[39;00m\n\u001b[1;32m    746\u001b[0m     \u001b[39mreturn\u001b[39;00m track_viz_task(\u001b[39mself\u001b[39m\u001b[39m.\u001b[39misasync, \u001b[39mself\u001b[39m\u001b[39m.\u001b[39mname, parameters)\n\u001b[0;32m--> 748\u001b[0m \u001b[39mreturn\u001b[39;00m enter_flow_run_engine_from_flow_call(\n\u001b[1;32m    749\u001b[0m     \u001b[39mself\u001b[39;49m,\n\u001b[1;32m    750\u001b[0m     parameters,\n\u001b[1;32m    751\u001b[0m     wait_for\u001b[39m=\u001b[39;49mwait_for,\n\u001b[1;32m    752\u001b[0m     return_type\u001b[39m=\u001b[39;49mreturn_type,\n\u001b[1;32m    753\u001b[0m )\n",
      "File \u001b[0;32m~/prefect/src/prefect/engine.py:271\u001b[0m, in \u001b[0;36menter_flow_run_engine_from_flow_call\u001b[0;34m(flow, parameters, wait_for, return_type)\u001b[0m\n\u001b[1;32m    264\u001b[0m     retval \u001b[39m=\u001b[39m from_async\u001b[39m.\u001b[39mwait_for_call_in_loop_thread(\n\u001b[1;32m    265\u001b[0m         begin_run,\n\u001b[1;32m    266\u001b[0m         done_callbacks\u001b[39m=\u001b[39mdone_callbacks,\n\u001b[1;32m    267\u001b[0m         contexts\u001b[39m=\u001b[39mcontexts,\n\u001b[1;32m    268\u001b[0m     )\n\u001b[1;32m    270\u001b[0m \u001b[39melse\u001b[39;00m:\n\u001b[0;32m--> 271\u001b[0m     retval \u001b[39m=\u001b[39m from_sync\u001b[39m.\u001b[39;49mwait_for_call_in_loop_thread(\n\u001b[1;32m    272\u001b[0m         begin_run,\n\u001b[1;32m    273\u001b[0m         done_callbacks\u001b[39m=\u001b[39;49mdone_callbacks,\n\u001b[1;32m    274\u001b[0m         contexts\u001b[39m=\u001b[39;49mcontexts,\n\u001b[1;32m    275\u001b[0m     )\n\u001b[1;32m    277\u001b[0m \u001b[39mreturn\u001b[39;00m retval\n",
      "File \u001b[0;32m~/prefect/src/prefect/_internal/concurrency/api.py:243\u001b[0m, in \u001b[0;36mfrom_sync.wait_for_call_in_loop_thread\u001b[0;34m(_from_sync__call, timeout, done_callbacks, contexts)\u001b[0m\n\u001b[1;32m    241\u001b[0m     stack\u001b[39m.\u001b[39menter_context(context)\n\u001b[1;32m    242\u001b[0m waiter\u001b[39m.\u001b[39mwait()\n\u001b[0;32m--> 243\u001b[0m \u001b[39mreturn\u001b[39;00m call\u001b[39m.\u001b[39;49mresult()\n",
      "File \u001b[0;32m~/prefect/src/prefect/_internal/concurrency/calls.py:282\u001b[0m, in \u001b[0;36mCall.result\u001b[0;34m(self, timeout)\u001b[0m\n\u001b[1;32m    276\u001b[0m \u001b[39mdef\u001b[39;00m \u001b[39mresult\u001b[39m(\u001b[39mself\u001b[39m, timeout: Optional[\u001b[39mfloat\u001b[39m] \u001b[39m=\u001b[39m \u001b[39mNone\u001b[39;00m) \u001b[39m-\u001b[39m\u001b[39m>\u001b[39m T:\n\u001b[1;32m    277\u001b[0m \u001b[39m    \u001b[39m\u001b[39m\"\"\"\u001b[39;00m\n\u001b[1;32m    278\u001b[0m \u001b[39m    Wait for the result of the call.\u001b[39;00m\n\u001b[1;32m    279\u001b[0m \n\u001b[1;32m    280\u001b[0m \u001b[39m    Not safe for use from asynchronous contexts.\u001b[39;00m\n\u001b[1;32m    281\u001b[0m \u001b[39m    \"\"\"\u001b[39;00m\n\u001b[0;32m--> 282\u001b[0m     \u001b[39mreturn\u001b[39;00m \u001b[39mself\u001b[39;49m\u001b[39m.\u001b[39;49mfuture\u001b[39m.\u001b[39;49mresult(timeout\u001b[39m=\u001b[39;49mtimeout)\n",
      "File \u001b[0;32m~/prefect/src/prefect/_internal/concurrency/calls.py:168\u001b[0m, in \u001b[0;36mFuture.result\u001b[0;34m(self, timeout)\u001b[0m\n\u001b[1;32m    166\u001b[0m     \u001b[39mraise\u001b[39;00m CancelledError()\n\u001b[1;32m    167\u001b[0m \u001b[39melif\u001b[39;00m \u001b[39mself\u001b[39m\u001b[39m.\u001b[39m_state \u001b[39m==\u001b[39m FINISHED:\n\u001b[0;32m--> 168\u001b[0m     \u001b[39mreturn\u001b[39;00m \u001b[39mself\u001b[39;49m\u001b[39m.\u001b[39;49m__get_result()\n\u001b[1;32m    170\u001b[0m \u001b[39mself\u001b[39m\u001b[39m.\u001b[39m_condition\u001b[39m.\u001b[39mwait(timeout)\n\u001b[1;32m    172\u001b[0m \u001b[39mif\u001b[39;00m \u001b[39mself\u001b[39m\u001b[39m.\u001b[39m_state \u001b[39min\u001b[39;00m [CANCELLED, CANCELLED_AND_NOTIFIED]:\n\u001b[1;32m    173\u001b[0m     \u001b[39m# Raise Prefect cancelled error instead of\u001b[39;00m\n\u001b[1;32m    174\u001b[0m     \u001b[39m# `concurrent.futures._base.CancelledError`\u001b[39;00m\n",
      "File \u001b[0;32m~/miniconda3/envs/tables-detr/lib/python3.10/concurrent/futures/_base.py:403\u001b[0m, in \u001b[0;36mFuture.__get_result\u001b[0;34m(self)\u001b[0m\n\u001b[1;32m    401\u001b[0m \u001b[39mif\u001b[39;00m \u001b[39mself\u001b[39m\u001b[39m.\u001b[39m_exception:\n\u001b[1;32m    402\u001b[0m     \u001b[39mtry\u001b[39;00m:\n\u001b[0;32m--> 403\u001b[0m         \u001b[39mraise\u001b[39;00m \u001b[39mself\u001b[39m\u001b[39m.\u001b[39m_exception\n\u001b[1;32m    404\u001b[0m     \u001b[39mfinally\u001b[39;00m:\n\u001b[1;32m    405\u001b[0m         \u001b[39m# Break a reference cycle with the exception in self._exception\u001b[39;00m\n\u001b[1;32m    406\u001b[0m         \u001b[39mself\u001b[39m \u001b[39m=\u001b[39m \u001b[39mNone\u001b[39;00m\n",
      "File \u001b[0;32m~/prefect/src/prefect/_internal/concurrency/calls.py:345\u001b[0m, in \u001b[0;36mCall._run_async\u001b[0;34m(***failed resolving arguments***)\u001b[0m\n\u001b[1;32m    343\u001b[0m     \u001b[39mwith\u001b[39;00m set_current_call(\u001b[39mself\u001b[39m):\n\u001b[1;32m    344\u001b[0m         \u001b[39mwith\u001b[39;00m \u001b[39mself\u001b[39m\u001b[39m.\u001b[39mfuture\u001b[39m.\u001b[39menforce_async_deadline() \u001b[39mas\u001b[39;00m cancel_scope:\n\u001b[0;32m--> 345\u001b[0m             result \u001b[39m=\u001b[39m \u001b[39mawait\u001b[39;00m coro\n\u001b[1;32m    346\u001b[0m \u001b[39mexcept\u001b[39;00m CancelledError:\n\u001b[1;32m    347\u001b[0m     \u001b[39m# Report cancellation\u001b[39;00m\n\u001b[1;32m    348\u001b[0m     \u001b[39mif\u001b[39;00m cancel_scope\u001b[39m.\u001b[39mtimedout():\n",
      "File \u001b[0;32m~/prefect/src/prefect/client/utilities.py:51\u001b[0m, in \u001b[0;36minject_client.<locals>.with_injected_client\u001b[0;34m(*args, **kwargs)\u001b[0m\n\u001b[1;32m     49\u001b[0m \u001b[39masync\u001b[39;00m \u001b[39mwith\u001b[39;00m client_context \u001b[39mas\u001b[39;00m new_client:\n\u001b[1;32m     50\u001b[0m     kwargs\u001b[39m.\u001b[39msetdefault(\u001b[39m\"\u001b[39m\u001b[39mclient\u001b[39m\u001b[39m\"\u001b[39m, new_client \u001b[39mor\u001b[39;00m client)\n\u001b[0;32m---> 51\u001b[0m     \u001b[39mreturn\u001b[39;00m \u001b[39mawait\u001b[39;00m fn(\u001b[39m*\u001b[39margs, \u001b[39m*\u001b[39m\u001b[39m*\u001b[39mkwargs)\n",
      "File \u001b[0;32m~/prefect/src/prefect/engine.py:374\u001b[0m, in \u001b[0;36mcreate_then_begin_flow_run\u001b[0;34m(flow, parameters, wait_for, return_type, client, user_thread)\u001b[0m\n\u001b[1;32m    372\u001b[0m     \u001b[39mreturn\u001b[39;00m state\n\u001b[1;32m    373\u001b[0m \u001b[39melif\u001b[39;00m return_type \u001b[39m==\u001b[39m \u001b[39m\"\u001b[39m\u001b[39mresult\u001b[39m\u001b[39m\"\u001b[39m:\n\u001b[0;32m--> 374\u001b[0m     \u001b[39mreturn\u001b[39;00m \u001b[39mawait\u001b[39;00m state\u001b[39m.\u001b[39mresult(fetch\u001b[39m=\u001b[39m\u001b[39mTrue\u001b[39;00m)\n\u001b[1;32m    375\u001b[0m \u001b[39melse\u001b[39;00m:\n\u001b[1;32m    376\u001b[0m     \u001b[39mraise\u001b[39;00m \u001b[39mValueError\u001b[39;00m(\u001b[39mf\u001b[39m\u001b[39m\"\u001b[39m\u001b[39mInvalid return type for flow engine \u001b[39m\u001b[39m{\u001b[39;00mreturn_type\u001b[39m!r}\u001b[39;00m\u001b[39m.\u001b[39m\u001b[39m\"\u001b[39m)\n",
      "File \u001b[0;32m~/prefect/src/prefect/states.py:91\u001b[0m, in \u001b[0;36m_get_state_result\u001b[0;34m(state, raise_on_failure)\u001b[0m\n\u001b[1;32m     84\u001b[0m     \u001b[39mraise\u001b[39;00m UnfinishedRun(\n\u001b[1;32m     85\u001b[0m         \u001b[39mf\u001b[39m\u001b[39m\"\u001b[39m\u001b[39mRun is in \u001b[39m\u001b[39m{\u001b[39;00mstate\u001b[39m.\u001b[39mtype\u001b[39m.\u001b[39mname\u001b[39m}\u001b[39;00m\u001b[39m state, its result is not available.\u001b[39m\u001b[39m\"\u001b[39m\n\u001b[1;32m     86\u001b[0m     )\n\u001b[1;32m     88\u001b[0m \u001b[39mif\u001b[39;00m raise_on_failure \u001b[39mand\u001b[39;00m (\n\u001b[1;32m     89\u001b[0m     state\u001b[39m.\u001b[39mis_crashed() \u001b[39mor\u001b[39;00m state\u001b[39m.\u001b[39mis_failed() \u001b[39mor\u001b[39;00m state\u001b[39m.\u001b[39mis_cancelled()\n\u001b[1;32m     90\u001b[0m ):\n\u001b[0;32m---> 91\u001b[0m     \u001b[39mraise\u001b[39;00m \u001b[39mawait\u001b[39;00m get_state_exception(state)\n\u001b[1;32m     93\u001b[0m \u001b[39mif\u001b[39;00m \u001b[39misinstance\u001b[39m(state\u001b[39m.\u001b[39mdata, DataDocument):\n\u001b[1;32m     94\u001b[0m     result \u001b[39m=\u001b[39m result_from_state_with_data_document(\n\u001b[1;32m     95\u001b[0m         state, raise_on_failure\u001b[39m=\u001b[39mraise_on_failure\n\u001b[1;32m     96\u001b[0m     )\n",
      "File \u001b[0;32m~/prefect/src/prefect/engine.py:829\u001b[0m, in \u001b[0;36morchestrate_flow_run\u001b[0;34m(flow, flow_run, parameters, wait_for, interruptible, client, partial_flow_run_context, user_thread)\u001b[0m\n\u001b[1;32m    824\u001b[0m         \u001b[39melse\u001b[39;00m:\n\u001b[1;32m    825\u001b[0m             from_async\u001b[39m.\u001b[39mcall_soon_in_new_thread(\n\u001b[1;32m    826\u001b[0m                 flow_call, timeout\u001b[39m=\u001b[39mflow\u001b[39m.\u001b[39mtimeout_seconds\n\u001b[1;32m    827\u001b[0m             )\n\u001b[0;32m--> 829\u001b[0m         result \u001b[39m=\u001b[39m \u001b[39mawait\u001b[39;00m flow_call\u001b[39m.\u001b[39maresult()\n\u001b[1;32m    831\u001b[0m         waited_for_task_runs \u001b[39m=\u001b[39m \u001b[39mawait\u001b[39;00m wait_for_task_runs_and_report_crashes(\n\u001b[1;32m    832\u001b[0m             flow_run_context\u001b[39m.\u001b[39mtask_run_futures, client\u001b[39m=\u001b[39mclient\n\u001b[1;32m    833\u001b[0m         )\n\u001b[1;32m    834\u001b[0m \u001b[39mexcept\u001b[39;00m PausedRun \u001b[39mas\u001b[39;00m exc:\n\u001b[1;32m    835\u001b[0m     \u001b[39m# could get raised either via utility or by returning Paused from a task run\u001b[39;00m\n\u001b[1;32m    836\u001b[0m     \u001b[39m# if a task run pauses, we set its state as the flow's state\u001b[39;00m\n\u001b[1;32m    837\u001b[0m     \u001b[39m# to preserve reschedule and timeout behavior\u001b[39;00m\n",
      "File \u001b[0;32m~/prefect/src/prefect/_internal/concurrency/calls.py:291\u001b[0m, in \u001b[0;36mCall.aresult\u001b[0;34m(self)\u001b[0m\n\u001b[1;32m    285\u001b[0m \u001b[39m\u001b[39m\u001b[39m\"\"\"\u001b[39;00m\n\u001b[1;32m    286\u001b[0m \u001b[39mWait for the result of the call.\u001b[39;00m\n\u001b[1;32m    287\u001b[0m \n\u001b[1;32m    288\u001b[0m \u001b[39mFor use from asynchronous contexts.\u001b[39;00m\n\u001b[1;32m    289\u001b[0m \u001b[39m\"\"\"\u001b[39;00m\n\u001b[1;32m    290\u001b[0m \u001b[39mtry\u001b[39;00m:\n\u001b[0;32m--> 291\u001b[0m     \u001b[39mreturn\u001b[39;00m \u001b[39mawait\u001b[39;00m asyncio\u001b[39m.\u001b[39mwrap_future(\u001b[39mself\u001b[39m\u001b[39m.\u001b[39mfuture)\n\u001b[1;32m    292\u001b[0m \u001b[39mexcept\u001b[39;00m asyncio\u001b[39m.\u001b[39mCancelledError \u001b[39mas\u001b[39;00m exc:\n\u001b[1;32m    293\u001b[0m     \u001b[39mraise\u001b[39;00m CancelledError() \u001b[39mfrom\u001b[39;00m \u001b[39mexc\u001b[39;00m\n",
      "File \u001b[0;32m~/prefect/src/prefect/_internal/concurrency/calls.py:315\u001b[0m, in \u001b[0;36mCall._run_sync\u001b[0;34m(***failed resolving arguments***)\u001b[0m\n\u001b[1;32m    313\u001b[0m \u001b[39mwith\u001b[39;00m set_current_call(\u001b[39mself\u001b[39m):\n\u001b[1;32m    314\u001b[0m     \u001b[39mwith\u001b[39;00m \u001b[39mself\u001b[39m\u001b[39m.\u001b[39mfuture\u001b[39m.\u001b[39menforce_sync_deadline() \u001b[39mas\u001b[39;00m cancel_scope:\n\u001b[0;32m--> 315\u001b[0m         result \u001b[39m=\u001b[39m \u001b[39mself\u001b[39;49m\u001b[39m.\u001b[39;49mfn(\u001b[39m*\u001b[39;49m\u001b[39mself\u001b[39;49m\u001b[39m.\u001b[39;49margs, \u001b[39m*\u001b[39;49m\u001b[39m*\u001b[39;49m\u001b[39mself\u001b[39;49m\u001b[39m.\u001b[39;49mkwargs)\n\u001b[1;32m    317\u001b[0m \u001b[39m# Return the coroutine for async execution\u001b[39;00m\n\u001b[1;32m    318\u001b[0m \u001b[39mif\u001b[39;00m inspect\u001b[39m.\u001b[39misawaitable(result):\n",
      "\u001b[1;32m/home/dani-boy/extractNF/test_notebook.ipynb Cell 4\u001b[0m line \u001b[0;36m3\n\u001b[1;32m      <a href='vscode-notebook-cell://wsl%2Bubuntu-22.04/home/dani-boy/extractNF/test_notebook.ipynb#W1sdnNjb2RlLXJlbW90ZQ%3D%3D?line=0'>1</a>\u001b[0m \u001b[39m@flow\u001b[39m\n\u001b[1;32m      <a href='vscode-notebook-cell://wsl%2Bubuntu-22.04/home/dani-boy/extractNF/test_notebook.ipynb#W1sdnNjb2RlLXJlbW90ZQ%3D%3D?line=1'>2</a>\u001b[0m \u001b[39mdef\u001b[39;00m \u001b[39mexample_execute_notebook\u001b[39m():\n\u001b[0;32m----> <a href='vscode-notebook-cell://wsl%2Bubuntu-22.04/home/dani-boy/extractNF/test_notebook.ipynb#W1sdnNjb2RlLXJlbW90ZQ%3D%3D?line=2'>3</a>\u001b[0m     nb \u001b[39m=\u001b[39m notebook\u001b[39m.\u001b[39;49mexecute_notebook(\n\u001b[1;32m      <a href='vscode-notebook-cell://wsl%2Bubuntu-22.04/home/dani-boy/extractNF/test_notebook.ipynb#W1sdnNjb2RlLXJlbW90ZQ%3D%3D?line=3'>4</a>\u001b[0m         \u001b[39m\"\u001b[39;49m\u001b[39mtest_notebook.ipynb\u001b[39;49m\u001b[39m\"\u001b[39;49m,\n\u001b[1;32m      <a href='vscode-notebook-cell://wsl%2Bubuntu-22.04/home/dani-boy/extractNF/test_notebook.ipynb#W1sdnNjb2RlLXJlbW90ZQ%3D%3D?line=4'>5</a>\u001b[0m         parameters\u001b[39m=\u001b[39;49m{\u001b[39m\"\u001b[39;49m\u001b[39mnum\u001b[39;49m\u001b[39m\"\u001b[39;49m: \u001b[39m5\u001b[39;49m}\n\u001b[1;32m      <a href='vscode-notebook-cell://wsl%2Bubuntu-22.04/home/dani-boy/extractNF/test_notebook.ipynb#W1sdnNjb2RlLXJlbW90ZQ%3D%3D?line=5'>6</a>\u001b[0m     )\n\u001b[1;32m      <a href='vscode-notebook-cell://wsl%2Bubuntu-22.04/home/dani-boy/extractNF/test_notebook.ipynb#W1sdnNjb2RlLXJlbW90ZQ%3D%3D?line=6'>7</a>\u001b[0m     body \u001b[39m=\u001b[39m notebook\u001b[39m.\u001b[39mexport_notebook(nb)\n\u001b[1;32m      <a href='vscode-notebook-cell://wsl%2Bubuntu-22.04/home/dani-boy/extractNF/test_notebook.ipynb#W1sdnNjb2RlLXJlbW90ZQ%3D%3D?line=7'>8</a>\u001b[0m     output_path \u001b[39m=\u001b[39m \u001b[39m\"\u001b[39m\u001b[39mexecuted_notebook.ipynb\u001b[39m\u001b[39m\"\u001b[39m\n",
      "File \u001b[0;32m~/prefect/src/prefect/tasks.py:550\u001b[0m, in \u001b[0;36mTask.__call__\u001b[0;34m(self, return_state, wait_for, *args, **kwargs)\u001b[0m\n\u001b[1;32m    545\u001b[0m \u001b[39mif\u001b[39;00m task_run_tracker:\n\u001b[1;32m    546\u001b[0m     \u001b[39mreturn\u001b[39;00m track_viz_task(\n\u001b[1;32m    547\u001b[0m         \u001b[39mself\u001b[39m\u001b[39m.\u001b[39misasync, \u001b[39mself\u001b[39m\u001b[39m.\u001b[39mname, parameters, \u001b[39mself\u001b[39m\u001b[39m.\u001b[39mviz_return_value\n\u001b[1;32m    548\u001b[0m     )\n\u001b[0;32m--> 550\u001b[0m \u001b[39mreturn\u001b[39;00m enter_task_run_engine(\n\u001b[1;32m    551\u001b[0m     \u001b[39mself\u001b[39;49m,\n\u001b[1;32m    552\u001b[0m     parameters\u001b[39m=\u001b[39;49mparameters,\n\u001b[1;32m    553\u001b[0m     wait_for\u001b[39m=\u001b[39;49mwait_for,\n\u001b[1;32m    554\u001b[0m     task_runner\u001b[39m=\u001b[39;49mSequentialTaskRunner(),\n\u001b[1;32m    555\u001b[0m     return_type\u001b[39m=\u001b[39;49mreturn_type,\n\u001b[1;32m    556\u001b[0m     mapped\u001b[39m=\u001b[39;49m\u001b[39mFalse\u001b[39;49;00m,\n\u001b[1;32m    557\u001b[0m )\n",
      "File \u001b[0;32m~/prefect/src/prefect/engine.py:1144\u001b[0m, in \u001b[0;36menter_task_run_engine\u001b[0;34m(task, parameters, wait_for, return_type, task_runner, mapped)\u001b[0m\n\u001b[1;32m   1142\u001b[0m     \u001b[39mreturn\u001b[39;00m from_async\u001b[39m.\u001b[39mwait_for_call_in_loop_thread(begin_run)\n\u001b[1;32m   1143\u001b[0m \u001b[39melse\u001b[39;00m:\n\u001b[0;32m-> 1144\u001b[0m     \u001b[39mreturn\u001b[39;00m from_sync\u001b[39m.\u001b[39;49mwait_for_call_in_loop_thread(begin_run)\n",
      "File \u001b[0;32m~/prefect/src/prefect/_internal/concurrency/api.py:243\u001b[0m, in \u001b[0;36mfrom_sync.wait_for_call_in_loop_thread\u001b[0;34m(_from_sync__call, timeout, done_callbacks, contexts)\u001b[0m\n\u001b[1;32m    241\u001b[0m     stack\u001b[39m.\u001b[39menter_context(context)\n\u001b[1;32m    242\u001b[0m waiter\u001b[39m.\u001b[39mwait()\n\u001b[0;32m--> 243\u001b[0m \u001b[39mreturn\u001b[39;00m call\u001b[39m.\u001b[39;49mresult()\n",
      "File \u001b[0;32m~/prefect/src/prefect/_internal/concurrency/calls.py:282\u001b[0m, in \u001b[0;36mCall.result\u001b[0;34m(self, timeout)\u001b[0m\n\u001b[1;32m    276\u001b[0m \u001b[39mdef\u001b[39;00m \u001b[39mresult\u001b[39m(\u001b[39mself\u001b[39m, timeout: Optional[\u001b[39mfloat\u001b[39m] \u001b[39m=\u001b[39m \u001b[39mNone\u001b[39;00m) \u001b[39m-\u001b[39m\u001b[39m>\u001b[39m T:\n\u001b[1;32m    277\u001b[0m \u001b[39m    \u001b[39m\u001b[39m\"\"\"\u001b[39;00m\n\u001b[1;32m    278\u001b[0m \u001b[39m    Wait for the result of the call.\u001b[39;00m\n\u001b[1;32m    279\u001b[0m \n\u001b[1;32m    280\u001b[0m \u001b[39m    Not safe for use from asynchronous contexts.\u001b[39;00m\n\u001b[1;32m    281\u001b[0m \u001b[39m    \"\"\"\u001b[39;00m\n\u001b[0;32m--> 282\u001b[0m     \u001b[39mreturn\u001b[39;00m \u001b[39mself\u001b[39;49m\u001b[39m.\u001b[39;49mfuture\u001b[39m.\u001b[39;49mresult(timeout\u001b[39m=\u001b[39;49mtimeout)\n",
      "File \u001b[0;32m~/prefect/src/prefect/_internal/concurrency/calls.py:168\u001b[0m, in \u001b[0;36mFuture.result\u001b[0;34m(self, timeout)\u001b[0m\n\u001b[1;32m    166\u001b[0m     \u001b[39mraise\u001b[39;00m CancelledError()\n\u001b[1;32m    167\u001b[0m \u001b[39melif\u001b[39;00m \u001b[39mself\u001b[39m\u001b[39m.\u001b[39m_state \u001b[39m==\u001b[39m FINISHED:\n\u001b[0;32m--> 168\u001b[0m     \u001b[39mreturn\u001b[39;00m \u001b[39mself\u001b[39;49m\u001b[39m.\u001b[39;49m__get_result()\n\u001b[1;32m    170\u001b[0m \u001b[39mself\u001b[39m\u001b[39m.\u001b[39m_condition\u001b[39m.\u001b[39mwait(timeout)\n\u001b[1;32m    172\u001b[0m \u001b[39mif\u001b[39;00m \u001b[39mself\u001b[39m\u001b[39m.\u001b[39m_state \u001b[39min\u001b[39;00m [CANCELLED, CANCELLED_AND_NOTIFIED]:\n\u001b[1;32m    173\u001b[0m     \u001b[39m# Raise Prefect cancelled error instead of\u001b[39;00m\n\u001b[1;32m    174\u001b[0m     \u001b[39m# `concurrent.futures._base.CancelledError`\u001b[39;00m\n",
      "File \u001b[0;32m~/miniconda3/envs/tables-detr/lib/python3.10/concurrent/futures/_base.py:403\u001b[0m, in \u001b[0;36mFuture.__get_result\u001b[0;34m(self)\u001b[0m\n\u001b[1;32m    401\u001b[0m \u001b[39mif\u001b[39;00m \u001b[39mself\u001b[39m\u001b[39m.\u001b[39m_exception:\n\u001b[1;32m    402\u001b[0m     \u001b[39mtry\u001b[39;00m:\n\u001b[0;32m--> 403\u001b[0m         \u001b[39mraise\u001b[39;00m \u001b[39mself\u001b[39m\u001b[39m.\u001b[39m_exception\n\u001b[1;32m    404\u001b[0m     \u001b[39mfinally\u001b[39;00m:\n\u001b[1;32m    405\u001b[0m         \u001b[39m# Break a reference cycle with the exception in self._exception\u001b[39;00m\n\u001b[1;32m    406\u001b[0m         \u001b[39mself\u001b[39m \u001b[39m=\u001b[39m \u001b[39mNone\u001b[39;00m\n",
      "File \u001b[0;32m~/prefect/src/prefect/_internal/concurrency/calls.py:345\u001b[0m, in \u001b[0;36mCall._run_async\u001b[0;34m(***failed resolving arguments***)\u001b[0m\n\u001b[1;32m    343\u001b[0m     \u001b[39mwith\u001b[39;00m set_current_call(\u001b[39mself\u001b[39m):\n\u001b[1;32m    344\u001b[0m         \u001b[39mwith\u001b[39;00m \u001b[39mself\u001b[39m\u001b[39m.\u001b[39mfuture\u001b[39m.\u001b[39menforce_async_deadline() \u001b[39mas\u001b[39;00m cancel_scope:\n\u001b[0;32m--> 345\u001b[0m             result \u001b[39m=\u001b[39m \u001b[39mawait\u001b[39;00m coro\n\u001b[1;32m    346\u001b[0m \u001b[39mexcept\u001b[39;00m CancelledError:\n\u001b[1;32m    347\u001b[0m     \u001b[39m# Report cancellation\u001b[39;00m\n\u001b[1;32m    348\u001b[0m     \u001b[39mif\u001b[39;00m cancel_scope\u001b[39m.\u001b[39mtimedout():\n",
      "File \u001b[0;32m~/prefect/src/prefect/engine.py:1312\u001b[0m, in \u001b[0;36mget_task_call_return_value\u001b[0;34m(task, flow_run_context, parameters, wait_for, return_type, task_runner, extra_task_inputs)\u001b[0m\n\u001b[1;32m   1310\u001b[0m     \u001b[39mreturn\u001b[39;00m \u001b[39mawait\u001b[39;00m future\u001b[39m.\u001b[39m_wait()\n\u001b[1;32m   1311\u001b[0m \u001b[39melif\u001b[39;00m return_type \u001b[39m==\u001b[39m \u001b[39m\"\u001b[39m\u001b[39mresult\u001b[39m\u001b[39m\"\u001b[39m:\n\u001b[0;32m-> 1312\u001b[0m     \u001b[39mreturn\u001b[39;00m \u001b[39mawait\u001b[39;00m future\u001b[39m.\u001b[39m_result()\n\u001b[1;32m   1313\u001b[0m \u001b[39melse\u001b[39;00m:\n\u001b[1;32m   1314\u001b[0m     \u001b[39mraise\u001b[39;00m \u001b[39mValueError\u001b[39;00m(\u001b[39mf\u001b[39m\u001b[39m\"\u001b[39m\u001b[39mInvalid return type for task engine \u001b[39m\u001b[39m{\u001b[39;00mreturn_type\u001b[39m!r}\u001b[39;00m\u001b[39m.\u001b[39m\u001b[39m\"\u001b[39m)\n",
      "File \u001b[0;32m~/prefect/src/prefect/futures.py:237\u001b[0m, in \u001b[0;36mPrefectFuture._result\u001b[0;34m(self, timeout, raise_on_failure)\u001b[0m\n\u001b[1;32m    235\u001b[0m \u001b[39mif\u001b[39;00m \u001b[39mnot\u001b[39;00m final_state:\n\u001b[1;32m    236\u001b[0m     \u001b[39mraise\u001b[39;00m \u001b[39mTimeoutError\u001b[39;00m(\u001b[39m\"\u001b[39m\u001b[39mCall timed out before task finished.\u001b[39m\u001b[39m\"\u001b[39m)\n\u001b[0;32m--> 237\u001b[0m \u001b[39mreturn\u001b[39;00m \u001b[39mawait\u001b[39;00m final_state\u001b[39m.\u001b[39mresult(raise_on_failure\u001b[39m=\u001b[39mraise_on_failure, fetch\u001b[39m=\u001b[39m\u001b[39mTrue\u001b[39;00m)\n",
      "File \u001b[0;32m~/prefect/src/prefect/states.py:91\u001b[0m, in \u001b[0;36m_get_state_result\u001b[0;34m(state, raise_on_failure)\u001b[0m\n\u001b[1;32m     84\u001b[0m     \u001b[39mraise\u001b[39;00m UnfinishedRun(\n\u001b[1;32m     85\u001b[0m         \u001b[39mf\u001b[39m\u001b[39m\"\u001b[39m\u001b[39mRun is in \u001b[39m\u001b[39m{\u001b[39;00mstate\u001b[39m.\u001b[39mtype\u001b[39m.\u001b[39mname\u001b[39m}\u001b[39;00m\u001b[39m state, its result is not available.\u001b[39m\u001b[39m\"\u001b[39m\n\u001b[1;32m     86\u001b[0m     )\n\u001b[1;32m     88\u001b[0m \u001b[39mif\u001b[39;00m raise_on_failure \u001b[39mand\u001b[39;00m (\n\u001b[1;32m     89\u001b[0m     state\u001b[39m.\u001b[39mis_crashed() \u001b[39mor\u001b[39;00m state\u001b[39m.\u001b[39mis_failed() \u001b[39mor\u001b[39;00m state\u001b[39m.\u001b[39mis_cancelled()\n\u001b[1;32m     90\u001b[0m ):\n\u001b[0;32m---> 91\u001b[0m     \u001b[39mraise\u001b[39;00m \u001b[39mawait\u001b[39;00m get_state_exception(state)\n\u001b[1;32m     93\u001b[0m \u001b[39mif\u001b[39;00m \u001b[39misinstance\u001b[39m(state\u001b[39m.\u001b[39mdata, DataDocument):\n\u001b[1;32m     94\u001b[0m     result \u001b[39m=\u001b[39m result_from_state_with_data_document(\n\u001b[1;32m     95\u001b[0m         state, raise_on_failure\u001b[39m=\u001b[39mraise_on_failure\n\u001b[1;32m     96\u001b[0m     )\n",
      "File \u001b[0;32m~/prefect/src/prefect/engine.py:1729\u001b[0m, in \u001b[0;36morchestrate_task_run\u001b[0;34m(task, task_run, parameters, wait_for, result_factory, log_prints, interruptible, client)\u001b[0m\n\u001b[1;32m   1722\u001b[0m         logger\u001b[39m.\u001b[39mdebug(\n\u001b[1;32m   1723\u001b[0m             \u001b[39m\"\u001b[39m\u001b[39mBeginning execution...\u001b[39m\u001b[39m\"\u001b[39m, extra\u001b[39m=\u001b[39m{\u001b[39m\"\u001b[39m\u001b[39mstate_message\u001b[39m\u001b[39m\"\u001b[39m: \u001b[39mTrue\u001b[39;00m}\n\u001b[1;32m   1724\u001b[0m         )\n\u001b[1;32m   1726\u001b[0m     call \u001b[39m=\u001b[39m from_async\u001b[39m.\u001b[39mcall_soon_in_new_thread(\n\u001b[1;32m   1727\u001b[0m         create_call(task\u001b[39m.\u001b[39mfn, \u001b[39m*\u001b[39margs, \u001b[39m*\u001b[39m\u001b[39m*\u001b[39mkwargs), timeout\u001b[39m=\u001b[39mtask\u001b[39m.\u001b[39mtimeout_seconds\n\u001b[1;32m   1728\u001b[0m     )\n\u001b[0;32m-> 1729\u001b[0m     result \u001b[39m=\u001b[39m \u001b[39mawait\u001b[39;00m call\u001b[39m.\u001b[39maresult()\n\u001b[1;32m   1731\u001b[0m \u001b[39mexcept\u001b[39;00m (CancelledError, asyncio\u001b[39m.\u001b[39mCancelledError) \u001b[39mas\u001b[39;00m exc:\n\u001b[1;32m   1732\u001b[0m     \u001b[39mif\u001b[39;00m \u001b[39mnot\u001b[39;00m call\u001b[39m.\u001b[39mtimedout():\n\u001b[1;32m   1733\u001b[0m         \u001b[39m# If the task call was not cancelled by us; this is a crash\u001b[39;00m\n",
      "File \u001b[0;32m~/prefect/src/prefect/_internal/concurrency/calls.py:291\u001b[0m, in \u001b[0;36mCall.aresult\u001b[0;34m(self)\u001b[0m\n\u001b[1;32m    285\u001b[0m \u001b[39m\u001b[39m\u001b[39m\"\"\"\u001b[39;00m\n\u001b[1;32m    286\u001b[0m \u001b[39mWait for the result of the call.\u001b[39;00m\n\u001b[1;32m    287\u001b[0m \n\u001b[1;32m    288\u001b[0m \u001b[39mFor use from asynchronous contexts.\u001b[39;00m\n\u001b[1;32m    289\u001b[0m \u001b[39m\"\"\"\u001b[39;00m\n\u001b[1;32m    290\u001b[0m \u001b[39mtry\u001b[39;00m:\n\u001b[0;32m--> 291\u001b[0m     \u001b[39mreturn\u001b[39;00m \u001b[39mawait\u001b[39;00m asyncio\u001b[39m.\u001b[39mwrap_future(\u001b[39mself\u001b[39m\u001b[39m.\u001b[39mfuture)\n\u001b[1;32m    292\u001b[0m \u001b[39mexcept\u001b[39;00m asyncio\u001b[39m.\u001b[39mCancelledError \u001b[39mas\u001b[39;00m exc:\n\u001b[1;32m    293\u001b[0m     \u001b[39mraise\u001b[39;00m CancelledError() \u001b[39mfrom\u001b[39;00m \u001b[39mexc\u001b[39;00m\n",
      "File \u001b[0;32m~/prefect/src/prefect/_internal/concurrency/calls.py:315\u001b[0m, in \u001b[0;36mCall._run_sync\u001b[0;34m(***failed resolving arguments***)\u001b[0m\n\u001b[1;32m    313\u001b[0m \u001b[39mwith\u001b[39;00m set_current_call(\u001b[39mself\u001b[39m):\n\u001b[1;32m    314\u001b[0m     \u001b[39mwith\u001b[39;00m \u001b[39mself\u001b[39m\u001b[39m.\u001b[39mfuture\u001b[39m.\u001b[39menforce_sync_deadline() \u001b[39mas\u001b[39;00m cancel_scope:\n\u001b[0;32m--> 315\u001b[0m         result \u001b[39m=\u001b[39m \u001b[39mself\u001b[39;49m\u001b[39m.\u001b[39;49mfn(\u001b[39m*\u001b[39;49m\u001b[39mself\u001b[39;49m\u001b[39m.\u001b[39;49margs, \u001b[39m*\u001b[39;49m\u001b[39m*\u001b[39;49m\u001b[39mself\u001b[39;49m\u001b[39m.\u001b[39;49mkwargs)\n\u001b[1;32m    317\u001b[0m \u001b[39m# Return the coroutine for async execution\u001b[39;00m\n\u001b[1;32m    318\u001b[0m \u001b[39mif\u001b[39;00m inspect\u001b[39m.\u001b[39misawaitable(result):\n",
      "File \u001b[0;32m~/miniconda3/envs/tables-detr/lib/python3.10/site-packages/prefect_jupyter/notebook.py:77\u001b[0m, in \u001b[0;36mexecute_notebook\u001b[0;34m(path, parameters, log_output, kernel_name, **execute_kwargs)\u001b[0m\n\u001b[1;32m     31\u001b[0m \u001b[39m@task\u001b[39m\n\u001b[1;32m     32\u001b[0m \u001b[39mdef\u001b[39;00m \u001b[39mexecute_notebook\u001b[39m(\n\u001b[1;32m     33\u001b[0m     path: \u001b[39mstr\u001b[39m,\n\u001b[0;32m   (...)\u001b[0m\n\u001b[1;32m     37\u001b[0m     \u001b[39m*\u001b[39m\u001b[39m*\u001b[39mexecute_kwargs: Dict[\u001b[39mstr\u001b[39m, Any],\n\u001b[1;32m     38\u001b[0m ) \u001b[39m-\u001b[39m\u001b[39m>\u001b[39m \u001b[39mstr\u001b[39m:\n\u001b[1;32m     39\u001b[0m \u001b[39m    \u001b[39m\u001b[39m\"\"\"\u001b[39;00m\n\u001b[1;32m     40\u001b[0m \u001b[39m    Task for running Jupyter Notebooks.\u001b[39;00m\n\u001b[1;32m     41\u001b[0m \n\u001b[0;32m   (...)\u001b[0m\n\u001b[1;32m     75\u001b[0m \u001b[39m        ```\u001b[39;00m\n\u001b[1;32m     76\u001b[0m \u001b[39m    \"\"\"\u001b[39;00m\n\u001b[0;32m---> 77\u001b[0m     \u001b[39mreturn\u001b[39;00m pm\u001b[39m.\u001b[39;49mexecute_notebook(\n\u001b[1;32m     78\u001b[0m         path,\n\u001b[1;32m     79\u001b[0m         \u001b[39mNone\u001b[39;49;00m,\n\u001b[1;32m     80\u001b[0m         parameters\u001b[39m=\u001b[39;49mparameters,\n\u001b[1;32m     81\u001b[0m         kernel_name\u001b[39m=\u001b[39;49mkernel_name,\n\u001b[1;32m     82\u001b[0m         log_output\u001b[39m=\u001b[39;49mlog_output,\n\u001b[1;32m     83\u001b[0m         \u001b[39m*\u001b[39;49m\u001b[39m*\u001b[39;49mexecute_kwargs,\n\u001b[1;32m     84\u001b[0m     )\n",
      "File \u001b[0;32m~/miniconda3/envs/tables-detr/lib/python3.10/site-packages/papermill/execute.py:128\u001b[0m, in \u001b[0;36mexecute_notebook\u001b[0;34m(input_path, output_path, parameters, engine_name, request_save_on_cell_execute, prepare_only, kernel_name, language, progress_bar, log_output, stdout_file, stderr_file, start_timeout, report_mode, cwd, **engine_kwargs)\u001b[0m\n\u001b[1;32m    113\u001b[0m         nb \u001b[39m=\u001b[39m papermill_engines\u001b[39m.\u001b[39mexecute_notebook_with_engine(\n\u001b[1;32m    114\u001b[0m             engine_name,\n\u001b[1;32m    115\u001b[0m             nb,\n\u001b[0;32m   (...)\u001b[0m\n\u001b[1;32m    124\u001b[0m             \u001b[39m*\u001b[39m\u001b[39m*\u001b[39mengine_kwargs\n\u001b[1;32m    125\u001b[0m         )\n\u001b[1;32m    127\u001b[0m     \u001b[39m# Check for errors first (it saves on error before raising)\u001b[39;00m\n\u001b[0;32m--> 128\u001b[0m     raise_for_execution_errors(nb, output_path)\n\u001b[1;32m    130\u001b[0m \u001b[39m# Write final output in case the engine didn't write it on cell completion.\u001b[39;00m\n\u001b[1;32m    131\u001b[0m write_ipynb(nb, output_path)\n",
      "File \u001b[0;32m~/miniconda3/envs/tables-detr/lib/python3.10/site-packages/papermill/execute.py:232\u001b[0m, in \u001b[0;36mraise_for_execution_errors\u001b[0;34m(nb, output_path)\u001b[0m\n\u001b[1;32m    229\u001b[0m nb\u001b[39m.\u001b[39mcells\u001b[39m.\u001b[39minsert(\u001b[39m0\u001b[39m, error_msg_cell)\n\u001b[1;32m    231\u001b[0m write_ipynb(nb, output_path)\n\u001b[0;32m--> 232\u001b[0m \u001b[39mraise\u001b[39;00m error\n",
      "\u001b[0;31mPapermillExecutionError\u001b[0m: \n---------------------------------------------------------------------------\nException encountered at \"In [2]\":\n---------------------------------------------------------------------------\nNameError                                 Traceback (most recent call last)\nCell In[2], line 1\n----> 1 @flow\n      2 def example_execute_notebook():\n      3     nb = notebook.execute_notebook(\n      4         \"test_notebook.ipynb\",\n      5         parameters={\"num\": 5}\n      6     )\n      7     body = notebook.export_notebook(nb)\n\nNameError: name 'flow' is not defined\n"
     ]
    }
   ],
   "source": [
    "\n",
    "example_execute_notebook()"
   ]
  }
 ],
 "metadata": {
  "kernelspec": {
   "display_name": "tables-detr",
   "language": "python",
   "name": "python3"
  },
  "language_info": {
   "codemirror_mode": {
    "name": "ipython",
    "version": 3
   },
   "file_extension": ".py",
   "mimetype": "text/x-python",
   "name": "python",
   "nbconvert_exporter": "python",
   "pygments_lexer": "ipython3",
   "version": "3.10.12"
  },
  "orig_nbformat": 4
 },
 "nbformat": 4,
 "nbformat_minor": 2
}
