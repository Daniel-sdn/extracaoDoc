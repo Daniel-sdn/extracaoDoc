{
 "cells": [
  {
   "cell_type": "code",
   "execution_count": 2,
   "metadata": {},
   "outputs": [
    {
     "data": {
      "text/html": [
       "<pre style=\"white-space:pre;overflow-x:auto;line-height:normal;font-family:Menlo,'DejaVu Sans Mono',consolas,'Courier New',monospace\">19:36:43.250 | <span style=\"color: #008080; text-decoration-color: #008080\">INFO</span>    | prefect.engine - Created flow run<span style=\"color: #800080; text-decoration-color: #800080\"> 'cornflower-mastiff'</span> for flow<span style=\"color: #800080; text-decoration-color: #800080; font-weight: bold\"> 'example-execute-notebook'</span>\n",
       "</pre>\n"
      ],
      "text/plain": [
       "19:36:43.250 | \u001b[36mINFO\u001b[0m    | prefect.engine - Created flow run\u001b[35m 'cornflower-mastiff'\u001b[0m for flow\u001b[1;35m 'example-execute-notebook'\u001b[0m\n"
      ]
     },
     "metadata": {},
     "output_type": "display_data"
    },
    {
     "data": {
      "text/html": [
       "<pre style=\"white-space:pre;overflow-x:auto;line-height:normal;font-family:Menlo,'DejaVu Sans Mono',consolas,'Courier New',monospace\">19:36:43.254 | <span style=\"color: #008080; text-decoration-color: #008080\">INFO</span>    | Flow run<span style=\"color: #800080; text-decoration-color: #800080\"> 'cornflower-mastiff'</span> - View at <span style=\"color: #0000ff; text-decoration-color: #0000ff\">https://app.prefect.cloud/account/e0bcc144-e127-437b-aa93-f7161326d568/workspace/99d86dd4-a937-4cc0-a60c-f04246ea5574/flow-runs/flow-run/d6ef55e2-f01a-4a5d-b5de-06ba4df6f650</span>\n",
       "</pre>\n"
      ],
      "text/plain": [
       "19:36:43.254 | \u001b[36mINFO\u001b[0m    | Flow run\u001b[35m 'cornflower-mastiff'\u001b[0m - View at \u001b[94mhttps://app.prefect.cloud/account/e0bcc144-e127-437b-aa93-f7161326d568/workspace/99d86dd4-a937-4cc0-a60c-f04246ea5574/flow-runs/flow-run/d6ef55e2-f01a-4a5d-b5de-06ba4df6f650\u001b[0m\n"
      ]
     },
     "metadata": {},
     "output_type": "display_data"
    },
    {
     "data": {
      "text/html": [
       "<pre style=\"white-space:pre;overflow-x:auto;line-height:normal;font-family:Menlo,'DejaVu Sans Mono',consolas,'Courier New',monospace\">19:36:43.963 | <span style=\"color: #008080; text-decoration-color: #008080\">INFO</span>    | Flow run<span style=\"color: #800080; text-decoration-color: #800080\"> 'cornflower-mastiff'</span> - Created task run 'execute_notebook-0' for task 'execute_notebook'\n",
       "</pre>\n"
      ],
      "text/plain": [
       "19:36:43.963 | \u001b[36mINFO\u001b[0m    | Flow run\u001b[35m 'cornflower-mastiff'\u001b[0m - Created task run 'execute_notebook-0' for task 'execute_notebook'\n"
      ]
     },
     "metadata": {},
     "output_type": "display_data"
    },
    {
     "data": {
      "text/html": [
       "<pre style=\"white-space:pre;overflow-x:auto;line-height:normal;font-family:Menlo,'DejaVu Sans Mono',consolas,'Courier New',monospace\">19:36:43.966 | <span style=\"color: #008080; text-decoration-color: #008080\">INFO</span>    | Flow run<span style=\"color: #800080; text-decoration-color: #800080\"> 'cornflower-mastiff'</span> - Executing 'execute_notebook-0' immediately...\n",
       "</pre>\n"
      ],
      "text/plain": [
       "19:36:43.966 | \u001b[36mINFO\u001b[0m    | Flow run\u001b[35m 'cornflower-mastiff'\u001b[0m - Executing 'execute_notebook-0' immediately...\n"
      ]
     },
     "metadata": {},
     "output_type": "display_data"
    },
    {
     "data": {
      "text/html": [
       "<pre style=\"white-space:pre;overflow-x:auto;line-height:normal;font-family:Menlo,'DejaVu Sans Mono',consolas,'Courier New',monospace\">19:36:44.571 | <span style=\"color: #d70000; text-decoration-color: #d70000\">ERROR</span>   | Task run 'execute_notebook-0' - Encountered exception during execution:\n",
       "Traceback (most recent call last):\n",
       "  File \"/home/dani-boy/miniconda3/envs/tables-detr/lib/python3.10/site-packages/papermill/iorw.py\", line 212, in read\n",
       "    json.loads(path)\n",
       "  File \"/home/dani-boy/miniconda3/envs/tables-detr/lib/python3.10/json/__init__.py\", line 346, in loads\n",
       "    return _default_decoder.decode(s)\n",
       "  File \"/home/dani-boy/miniconda3/envs/tables-detr/lib/python3.10/json/decoder.py\", line 337, in decode\n",
       "    obj, end = self.raw_decode(s, idx=_w(s, 0).end())\n",
       "  File \"/home/dani-boy/miniconda3/envs/tables-detr/lib/python3.10/json/decoder.py\", line 355, in raw_decode\n",
       "    raise JSONDecodeError(\"Expecting value\", s, err.value) from None\n",
       "json.decoder.JSONDecodeError: Expecting value: line 1 column 1 (char 0)\n",
       "\n",
       "During handling of the above exception, another exception occurred:\n",
       "\n",
       "Traceback (most recent call last):\n",
       "  File \"/home/dani-boy/prefect/src/prefect/engine.py\", line 1729, in orchestrate_task_run\n",
       "    result = await call.aresult()\n",
       "  File \"/home/dani-boy/prefect/src/prefect/_internal/concurrency/calls.py\", line 291, in aresult\n",
       "    return await asyncio.wrap_future(self.future)\n",
       "  File \"/home/dani-boy/prefect/src/prefect/_internal/concurrency/calls.py\", line 315, in _run_sync\n",
       "    result = self.fn(*self.args, **self.kwargs)\n",
       "  File \"/home/dani-boy/miniconda3/envs/tables-detr/lib/python3.10/site-packages/prefect_jupyter/notebook.py\", line 77, in execute_notebook\n",
       "    return pm.execute_notebook(\n",
       "  File \"/home/dani-boy/miniconda3/envs/tables-detr/lib/python3.10/site-packages/papermill/execute.py\", line 89, in execute_notebook\n",
       "    nb = load_notebook_node(input_path)\n",
       "  File \"/home/dani-boy/miniconda3/envs/tables-detr/lib/python3.10/site-packages/papermill/iorw.py\", line 512, in load_notebook_node\n",
       "    nb = nbformat.reads(papermill_io.read(notebook_path), as_version=4)\n",
       "  File \"/home/dani-boy/miniconda3/envs/tables-detr/lib/python3.10/site-packages/papermill/iorw.py\", line 100, in read\n",
       "    notebook_metadata = self.get_handler(path, extensions).read(path)\n",
       "  File \"/home/dani-boy/miniconda3/envs/tables-detr/lib/python3.10/site-packages/papermill/iorw.py\", line 216, in read\n",
       "    raise e\n",
       "  File \"/home/dani-boy/miniconda3/envs/tables-detr/lib/python3.10/site-packages/papermill/iorw.py\", line 206, in read\n",
       "    with io.open(path, 'r', encoding=\"utf-8\") as f:\n",
       "FileNotFoundError: [Errno 2] No such file or directory: 'test_notebook.ipynb'\n",
       "</pre>\n"
      ],
      "text/plain": [
       "19:36:44.571 | \u001b[38;5;160mERROR\u001b[0m   | Task run 'execute_notebook-0' - Encountered exception during execution:\n",
       "Traceback (most recent call last):\n",
       "  File \"/home/dani-boy/miniconda3/envs/tables-detr/lib/python3.10/site-packages/papermill/iorw.py\", line 212, in read\n",
       "    json.loads(path)\n",
       "  File \"/home/dani-boy/miniconda3/envs/tables-detr/lib/python3.10/json/__init__.py\", line 346, in loads\n",
       "    return _default_decoder.decode(s)\n",
       "  File \"/home/dani-boy/miniconda3/envs/tables-detr/lib/python3.10/json/decoder.py\", line 337, in decode\n",
       "    obj, end = self.raw_decode(s, idx=_w(s, 0).end())\n",
       "  File \"/home/dani-boy/miniconda3/envs/tables-detr/lib/python3.10/json/decoder.py\", line 355, in raw_decode\n",
       "    raise JSONDecodeError(\"Expecting value\", s, err.value) from None\n",
       "json.decoder.JSONDecodeError: Expecting value: line 1 column 1 (char 0)\n",
       "\n",
       "During handling of the above exception, another exception occurred:\n",
       "\n",
       "Traceback (most recent call last):\n",
       "  File \"/home/dani-boy/prefect/src/prefect/engine.py\", line 1729, in orchestrate_task_run\n",
       "    result = await call.aresult()\n",
       "  File \"/home/dani-boy/prefect/src/prefect/_internal/concurrency/calls.py\", line 291, in aresult\n",
       "    return await asyncio.wrap_future(self.future)\n",
       "  File \"/home/dani-boy/prefect/src/prefect/_internal/concurrency/calls.py\", line 315, in _run_sync\n",
       "    result = self.fn(*self.args, **self.kwargs)\n",
       "  File \"/home/dani-boy/miniconda3/envs/tables-detr/lib/python3.10/site-packages/prefect_jupyter/notebook.py\", line 77, in execute_notebook\n",
       "    return pm.execute_notebook(\n",
       "  File \"/home/dani-boy/miniconda3/envs/tables-detr/lib/python3.10/site-packages/papermill/execute.py\", line 89, in execute_notebook\n",
       "    nb = load_notebook_node(input_path)\n",
       "  File \"/home/dani-boy/miniconda3/envs/tables-detr/lib/python3.10/site-packages/papermill/iorw.py\", line 512, in load_notebook_node\n",
       "    nb = nbformat.reads(papermill_io.read(notebook_path), as_version=4)\n",
       "  File \"/home/dani-boy/miniconda3/envs/tables-detr/lib/python3.10/site-packages/papermill/iorw.py\", line 100, in read\n",
       "    notebook_metadata = self.get_handler(path, extensions).read(path)\n",
       "  File \"/home/dani-boy/miniconda3/envs/tables-detr/lib/python3.10/site-packages/papermill/iorw.py\", line 216, in read\n",
       "    raise e\n",
       "  File \"/home/dani-boy/miniconda3/envs/tables-detr/lib/python3.10/site-packages/papermill/iorw.py\", line 206, in read\n",
       "    with io.open(path, 'r', encoding=\"utf-8\") as f:\n",
       "FileNotFoundError: [Errno 2] No such file or directory: 'test_notebook.ipynb'\n"
      ]
     },
     "metadata": {},
     "output_type": "display_data"
    },
    {
     "data": {
      "text/html": [
       "<pre style=\"white-space:pre;overflow-x:auto;line-height:normal;font-family:Menlo,'DejaVu Sans Mono',consolas,'Courier New',monospace\">19:36:44.782 | <span style=\"color: #d70000; text-decoration-color: #d70000\">ERROR</span>   | Task run 'execute_notebook-0' - Finished in state <span style=\"color: #d70000; text-decoration-color: #d70000\">Failed</span>(\"Task run encountered an exception FileNotFoundError: [Errno 2] No such file or directory: 'test_notebook.ipynb'\")\n",
       "</pre>\n"
      ],
      "text/plain": [
       "19:36:44.782 | \u001b[38;5;160mERROR\u001b[0m   | Task run 'execute_notebook-0' - Finished in state \u001b[38;5;160mFailed\u001b[0m(\"Task run encountered an exception FileNotFoundError: [Errno 2] No such file or directory: 'test_notebook.ipynb'\")\n"
      ]
     },
     "metadata": {},
     "output_type": "display_data"
    },
    {
     "data": {
      "text/html": [
       "<pre style=\"white-space:pre;overflow-x:auto;line-height:normal;font-family:Menlo,'DejaVu Sans Mono',consolas,'Courier New',monospace\">19:36:44.787 | <span style=\"color: #d70000; text-decoration-color: #d70000\">ERROR</span>   | Flow run<span style=\"color: #800080; text-decoration-color: #800080\"> 'cornflower-mastiff'</span> - Encountered exception during execution:\n",
       "Traceback (most recent call last):\n",
       "  File \"/home/dani-boy/miniconda3/envs/tables-detr/lib/python3.10/site-packages/papermill/iorw.py\", line 212, in read\n",
       "    json.loads(path)\n",
       "  File \"/home/dani-boy/miniconda3/envs/tables-detr/lib/python3.10/json/__init__.py\", line 346, in loads\n",
       "    return _default_decoder.decode(s)\n",
       "  File \"/home/dani-boy/miniconda3/envs/tables-detr/lib/python3.10/json/decoder.py\", line 337, in decode\n",
       "    obj, end = self.raw_decode(s, idx=_w(s, 0).end())\n",
       "  File \"/home/dani-boy/miniconda3/envs/tables-detr/lib/python3.10/json/decoder.py\", line 355, in raw_decode\n",
       "    raise JSONDecodeError(\"Expecting value\", s, err.value) from None\n",
       "json.decoder.JSONDecodeError: Expecting value: line 1 column 1 (char 0)\n",
       "\n",
       "During handling of the above exception, another exception occurred:\n",
       "\n",
       "Traceback (most recent call last):\n",
       "  File \"/home/dani-boy/prefect/src/prefect/engine.py\", line 829, in orchestrate_flow_run\n",
       "    result = await flow_call.aresult()\n",
       "  File \"/home/dani-boy/prefect/src/prefect/_internal/concurrency/calls.py\", line 291, in aresult\n",
       "    return await asyncio.wrap_future(self.future)\n",
       "  File \"/home/dani-boy/prefect/src/prefect/_internal/concurrency/calls.py\", line 315, in _run_sync\n",
       "    result = self.fn(*self.args, **self.kwargs)\n",
       "  File \"/tmp/ipykernel_19509/3328792033.py\", line 6, in example_execute_notebook\n",
       "    nb = notebook.execute_notebook(\n",
       "  File \"/home/dani-boy/prefect/src/prefect/tasks.py\", line 550, in __call__\n",
       "    return enter_task_run_engine(\n",
       "  File \"/home/dani-boy/prefect/src/prefect/engine.py\", line 1144, in enter_task_run_engine\n",
       "    return from_sync.wait_for_call_in_loop_thread(begin_run)\n",
       "  File \"/home/dani-boy/prefect/src/prefect/_internal/concurrency/api.py\", line 243, in wait_for_call_in_loop_thread\n",
       "    return call.result()\n",
       "  File \"/home/dani-boy/prefect/src/prefect/_internal/concurrency/calls.py\", line 282, in result\n",
       "    return self.future.result(timeout=timeout)\n",
       "  File \"/home/dani-boy/prefect/src/prefect/_internal/concurrency/calls.py\", line 168, in result\n",
       "    return self.__get_result()\n",
       "  File \"/home/dani-boy/miniconda3/envs/tables-detr/lib/python3.10/concurrent/futures/_base.py\", line 403, in __get_result\n",
       "    raise self._exception\n",
       "  File \"/home/dani-boy/prefect/src/prefect/_internal/concurrency/calls.py\", line 345, in _run_async\n",
       "    result = await coro\n",
       "  File \"/home/dani-boy/prefect/src/prefect/engine.py\", line 1312, in get_task_call_return_value\n",
       "    return await future._result()\n",
       "  File \"/home/dani-boy/prefect/src/prefect/futures.py\", line 237, in _result\n",
       "    return await final_state.result(raise_on_failure=raise_on_failure, fetch=True)\n",
       "  File \"/home/dani-boy/prefect/src/prefect/states.py\", line 91, in _get_state_result\n",
       "    raise await get_state_exception(state)\n",
       "  File \"/home/dani-boy/prefect/src/prefect/engine.py\", line 1729, in orchestrate_task_run\n",
       "    result = await call.aresult()\n",
       "  File \"/home/dani-boy/prefect/src/prefect/_internal/concurrency/calls.py\", line 291, in aresult\n",
       "    return await asyncio.wrap_future(self.future)\n",
       "  File \"/home/dani-boy/prefect/src/prefect/_internal/concurrency/calls.py\", line 315, in _run_sync\n",
       "    result = self.fn(*self.args, **self.kwargs)\n",
       "  File \"/home/dani-boy/miniconda3/envs/tables-detr/lib/python3.10/site-packages/prefect_jupyter/notebook.py\", line 77, in execute_notebook\n",
       "    return pm.execute_notebook(\n",
       "  File \"/home/dani-boy/miniconda3/envs/tables-detr/lib/python3.10/site-packages/papermill/execute.py\", line 89, in execute_notebook\n",
       "    nb = load_notebook_node(input_path)\n",
       "  File \"/home/dani-boy/miniconda3/envs/tables-detr/lib/python3.10/site-packages/papermill/iorw.py\", line 512, in load_notebook_node\n",
       "    nb = nbformat.reads(papermill_io.read(notebook_path), as_version=4)\n",
       "  File \"/home/dani-boy/miniconda3/envs/tables-detr/lib/python3.10/site-packages/papermill/iorw.py\", line 100, in read\n",
       "    notebook_metadata = self.get_handler(path, extensions).read(path)\n",
       "  File \"/home/dani-boy/miniconda3/envs/tables-detr/lib/python3.10/site-packages/papermill/iorw.py\", line 216, in read\n",
       "    raise e\n",
       "  File \"/home/dani-boy/miniconda3/envs/tables-detr/lib/python3.10/site-packages/papermill/iorw.py\", line 206, in read\n",
       "    with io.open(path, 'r', encoding=\"utf-8\") as f:\n",
       "FileNotFoundError: [Errno 2] No such file or directory: 'test_notebook.ipynb'\n",
       "</pre>\n"
      ],
      "text/plain": [
       "19:36:44.787 | \u001b[38;5;160mERROR\u001b[0m   | Flow run\u001b[35m 'cornflower-mastiff'\u001b[0m - Encountered exception during execution:\n",
       "Traceback (most recent call last):\n",
       "  File \"/home/dani-boy/miniconda3/envs/tables-detr/lib/python3.10/site-packages/papermill/iorw.py\", line 212, in read\n",
       "    json.loads(path)\n",
       "  File \"/home/dani-boy/miniconda3/envs/tables-detr/lib/python3.10/json/__init__.py\", line 346, in loads\n",
       "    return _default_decoder.decode(s)\n",
       "  File \"/home/dani-boy/miniconda3/envs/tables-detr/lib/python3.10/json/decoder.py\", line 337, in decode\n",
       "    obj, end = self.raw_decode(s, idx=_w(s, 0).end())\n",
       "  File \"/home/dani-boy/miniconda3/envs/tables-detr/lib/python3.10/json/decoder.py\", line 355, in raw_decode\n",
       "    raise JSONDecodeError(\"Expecting value\", s, err.value) from None\n",
       "json.decoder.JSONDecodeError: Expecting value: line 1 column 1 (char 0)\n",
       "\n",
       "During handling of the above exception, another exception occurred:\n",
       "\n",
       "Traceback (most recent call last):\n",
       "  File \"/home/dani-boy/prefect/src/prefect/engine.py\", line 829, in orchestrate_flow_run\n",
       "    result = await flow_call.aresult()\n",
       "  File \"/home/dani-boy/prefect/src/prefect/_internal/concurrency/calls.py\", line 291, in aresult\n",
       "    return await asyncio.wrap_future(self.future)\n",
       "  File \"/home/dani-boy/prefect/src/prefect/_internal/concurrency/calls.py\", line 315, in _run_sync\n",
       "    result = self.fn(*self.args, **self.kwargs)\n",
       "  File \"/tmp/ipykernel_19509/3328792033.py\", line 6, in example_execute_notebook\n",
       "    nb = notebook.execute_notebook(\n",
       "  File \"/home/dani-boy/prefect/src/prefect/tasks.py\", line 550, in __call__\n",
       "    return enter_task_run_engine(\n",
       "  File \"/home/dani-boy/prefect/src/prefect/engine.py\", line 1144, in enter_task_run_engine\n",
       "    return from_sync.wait_for_call_in_loop_thread(begin_run)\n",
       "  File \"/home/dani-boy/prefect/src/prefect/_internal/concurrency/api.py\", line 243, in wait_for_call_in_loop_thread\n",
       "    return call.result()\n",
       "  File \"/home/dani-boy/prefect/src/prefect/_internal/concurrency/calls.py\", line 282, in result\n",
       "    return self.future.result(timeout=timeout)\n",
       "  File \"/home/dani-boy/prefect/src/prefect/_internal/concurrency/calls.py\", line 168, in result\n",
       "    return self.__get_result()\n",
       "  File \"/home/dani-boy/miniconda3/envs/tables-detr/lib/python3.10/concurrent/futures/_base.py\", line 403, in __get_result\n",
       "    raise self._exception\n",
       "  File \"/home/dani-boy/prefect/src/prefect/_internal/concurrency/calls.py\", line 345, in _run_async\n",
       "    result = await coro\n",
       "  File \"/home/dani-boy/prefect/src/prefect/engine.py\", line 1312, in get_task_call_return_value\n",
       "    return await future._result()\n",
       "  File \"/home/dani-boy/prefect/src/prefect/futures.py\", line 237, in _result\n",
       "    return await final_state.result(raise_on_failure=raise_on_failure, fetch=True)\n",
       "  File \"/home/dani-boy/prefect/src/prefect/states.py\", line 91, in _get_state_result\n",
       "    raise await get_state_exception(state)\n",
       "  File \"/home/dani-boy/prefect/src/prefect/engine.py\", line 1729, in orchestrate_task_run\n",
       "    result = await call.aresult()\n",
       "  File \"/home/dani-boy/prefect/src/prefect/_internal/concurrency/calls.py\", line 291, in aresult\n",
       "    return await asyncio.wrap_future(self.future)\n",
       "  File \"/home/dani-boy/prefect/src/prefect/_internal/concurrency/calls.py\", line 315, in _run_sync\n",
       "    result = self.fn(*self.args, **self.kwargs)\n",
       "  File \"/home/dani-boy/miniconda3/envs/tables-detr/lib/python3.10/site-packages/prefect_jupyter/notebook.py\", line 77, in execute_notebook\n",
       "    return pm.execute_notebook(\n",
       "  File \"/home/dani-boy/miniconda3/envs/tables-detr/lib/python3.10/site-packages/papermill/execute.py\", line 89, in execute_notebook\n",
       "    nb = load_notebook_node(input_path)\n",
       "  File \"/home/dani-boy/miniconda3/envs/tables-detr/lib/python3.10/site-packages/papermill/iorw.py\", line 512, in load_notebook_node\n",
       "    nb = nbformat.reads(papermill_io.read(notebook_path), as_version=4)\n",
       "  File \"/home/dani-boy/miniconda3/envs/tables-detr/lib/python3.10/site-packages/papermill/iorw.py\", line 100, in read\n",
       "    notebook_metadata = self.get_handler(path, extensions).read(path)\n",
       "  File \"/home/dani-boy/miniconda3/envs/tables-detr/lib/python3.10/site-packages/papermill/iorw.py\", line 216, in read\n",
       "    raise e\n",
       "  File \"/home/dani-boy/miniconda3/envs/tables-detr/lib/python3.10/site-packages/papermill/iorw.py\", line 206, in read\n",
       "    with io.open(path, 'r', encoding=\"utf-8\") as f:\n",
       "FileNotFoundError: [Errno 2] No such file or directory: 'test_notebook.ipynb'\n"
      ]
     },
     "metadata": {},
     "output_type": "display_data"
    },
    {
     "data": {
      "text/html": [
       "<pre style=\"white-space:pre;overflow-x:auto;line-height:normal;font-family:Menlo,'DejaVu Sans Mono',consolas,'Courier New',monospace\">19:36:45.019 | <span style=\"color: #d70000; text-decoration-color: #d70000\">ERROR</span>   | Flow run<span style=\"color: #800080; text-decoration-color: #800080\"> 'cornflower-mastiff'</span> - Finished in state <span style=\"color: #d70000; text-decoration-color: #d70000\">Failed</span>(\"Flow run encountered an exception. FileNotFoundError: [Errno 2] No such file or directory: 'test_notebook.ipynb'\")\n",
       "</pre>\n"
      ],
      "text/plain": [
       "19:36:45.019 | \u001b[38;5;160mERROR\u001b[0m   | Flow run\u001b[35m 'cornflower-mastiff'\u001b[0m - Finished in state \u001b[38;5;160mFailed\u001b[0m(\"Flow run encountered an exception. FileNotFoundError: [Errno 2] No such file or directory: 'test_notebook.ipynb'\")\n"
      ]
     },
     "metadata": {},
     "output_type": "display_data"
    },
    {
     "ename": "FileNotFoundError",
     "evalue": "[Errno 2] No such file or directory: 'test_notebook.ipynb'",
     "output_type": "error",
     "traceback": [
      "\u001b[0;31m---------------------------------------------------------------------------\u001b[0m",
      "\u001b[0;31mJSONDecodeError\u001b[0m                           Traceback (most recent call last)",
      "File \u001b[0;32m~/miniconda3/envs/tables-detr/lib/python3.10/site-packages/papermill/iorw.py:212\u001b[0m, in \u001b[0;36mLocalHandler.read\u001b[0;34m(self, path)\u001b[0m\n\u001b[1;32m    209\u001b[0m \u001b[39mtry\u001b[39;00m:\n\u001b[1;32m    210\u001b[0m     \u001b[39m# Check if path could be a notebook passed in as a\u001b[39;00m\n\u001b[1;32m    211\u001b[0m     \u001b[39m# string\u001b[39;00m\n\u001b[0;32m--> 212\u001b[0m     json\u001b[39m.\u001b[39;49mloads(path)\n\u001b[1;32m    213\u001b[0m     \u001b[39mreturn\u001b[39;00m path\n",
      "File \u001b[0;32m~/miniconda3/envs/tables-detr/lib/python3.10/json/__init__.py:346\u001b[0m, in \u001b[0;36mloads\u001b[0;34m(s, cls, object_hook, parse_float, parse_int, parse_constant, object_pairs_hook, **kw)\u001b[0m\n\u001b[1;32m    343\u001b[0m \u001b[39mif\u001b[39;00m (\u001b[39mcls\u001b[39m \u001b[39mis\u001b[39;00m \u001b[39mNone\u001b[39;00m \u001b[39mand\u001b[39;00m object_hook \u001b[39mis\u001b[39;00m \u001b[39mNone\u001b[39;00m \u001b[39mand\u001b[39;00m\n\u001b[1;32m    344\u001b[0m         parse_int \u001b[39mis\u001b[39;00m \u001b[39mNone\u001b[39;00m \u001b[39mand\u001b[39;00m parse_float \u001b[39mis\u001b[39;00m \u001b[39mNone\u001b[39;00m \u001b[39mand\u001b[39;00m\n\u001b[1;32m    345\u001b[0m         parse_constant \u001b[39mis\u001b[39;00m \u001b[39mNone\u001b[39;00m \u001b[39mand\u001b[39;00m object_pairs_hook \u001b[39mis\u001b[39;00m \u001b[39mNone\u001b[39;00m \u001b[39mand\u001b[39;00m \u001b[39mnot\u001b[39;00m kw):\n\u001b[0;32m--> 346\u001b[0m     \u001b[39mreturn\u001b[39;00m _default_decoder\u001b[39m.\u001b[39;49mdecode(s)\n\u001b[1;32m    347\u001b[0m \u001b[39mif\u001b[39;00m \u001b[39mcls\u001b[39m \u001b[39mis\u001b[39;00m \u001b[39mNone\u001b[39;00m:\n",
      "File \u001b[0;32m~/miniconda3/envs/tables-detr/lib/python3.10/json/decoder.py:337\u001b[0m, in \u001b[0;36mJSONDecoder.decode\u001b[0;34m(self, s, _w)\u001b[0m\n\u001b[1;32m    333\u001b[0m \u001b[39m\u001b[39m\u001b[39m\"\"\"Return the Python representation of ``s`` (a ``str`` instance\u001b[39;00m\n\u001b[1;32m    334\u001b[0m \u001b[39mcontaining a JSON document).\u001b[39;00m\n\u001b[1;32m    335\u001b[0m \n\u001b[1;32m    336\u001b[0m \u001b[39m\"\"\"\u001b[39;00m\n\u001b[0;32m--> 337\u001b[0m obj, end \u001b[39m=\u001b[39m \u001b[39mself\u001b[39;49m\u001b[39m.\u001b[39;49mraw_decode(s, idx\u001b[39m=\u001b[39;49m_w(s, \u001b[39m0\u001b[39;49m)\u001b[39m.\u001b[39;49mend())\n\u001b[1;32m    338\u001b[0m end \u001b[39m=\u001b[39m _w(s, end)\u001b[39m.\u001b[39mend()\n",
      "File \u001b[0;32m~/miniconda3/envs/tables-detr/lib/python3.10/json/decoder.py:355\u001b[0m, in \u001b[0;36mJSONDecoder.raw_decode\u001b[0;34m(self, s, idx)\u001b[0m\n\u001b[1;32m    354\u001b[0m \u001b[39mexcept\u001b[39;00m \u001b[39mStopIteration\u001b[39;00m \u001b[39mas\u001b[39;00m err:\n\u001b[0;32m--> 355\u001b[0m     \u001b[39mraise\u001b[39;00m JSONDecodeError(\u001b[39m\"\u001b[39m\u001b[39mExpecting value\u001b[39m\u001b[39m\"\u001b[39m, s, err\u001b[39m.\u001b[39mvalue) \u001b[39mfrom\u001b[39;00m \u001b[39mNone\u001b[39;00m\n\u001b[1;32m    356\u001b[0m \u001b[39mreturn\u001b[39;00m obj, end\n",
      "\u001b[0;31mJSONDecodeError\u001b[0m: Expecting value: line 1 column 1 (char 0)",
      "\nDuring handling of the above exception, another exception occurred:\n",
      "\u001b[0;31mFileNotFoundError\u001b[0m                         Traceback (most recent call last)",
      "\u001b[1;32m/home/dani-boy/extractNF/prefect_poc.ipynb Cell 1\u001b[0m line \u001b[0;36m1\n\u001b[1;32m     <a href='vscode-notebook-cell://wsl%2Bubuntu-22.04/home/dani-boy/extractNF/prefect_poc.ipynb#W0sdnNjb2RlLXJlbW90ZQ%3D%3D?line=12'>13</a>\u001b[0m         f\u001b[39m.\u001b[39mwrite(body)\n\u001b[1;32m     <a href='vscode-notebook-cell://wsl%2Bubuntu-22.04/home/dani-boy/extractNF/prefect_poc.ipynb#W0sdnNjb2RlLXJlbW90ZQ%3D%3D?line=13'>14</a>\u001b[0m     \u001b[39mreturn\u001b[39;00m output_path\n\u001b[0;32m---> <a href='vscode-notebook-cell://wsl%2Bubuntu-22.04/home/dani-boy/extractNF/prefect_poc.ipynb#W0sdnNjb2RlLXJlbW90ZQ%3D%3D?line=15'>16</a>\u001b[0m example_execute_notebook()\n",
      "File \u001b[0;32m~/prefect/src/prefect/flows.py:748\u001b[0m, in \u001b[0;36mFlow.__call__\u001b[0;34m(self, return_state, wait_for, *args, **kwargs)\u001b[0m\n\u001b[1;32m    743\u001b[0m \u001b[39mif\u001b[39;00m task_viz_tracker:\n\u001b[1;32m    744\u001b[0m     \u001b[39m# this is a subflow, for now return a single task and do not go further\u001b[39;00m\n\u001b[1;32m    745\u001b[0m     \u001b[39m# we can add support for exploring subflows for tasks in the future.\u001b[39;00m\n\u001b[1;32m    746\u001b[0m     \u001b[39mreturn\u001b[39;00m track_viz_task(\u001b[39mself\u001b[39m\u001b[39m.\u001b[39misasync, \u001b[39mself\u001b[39m\u001b[39m.\u001b[39mname, parameters)\n\u001b[0;32m--> 748\u001b[0m \u001b[39mreturn\u001b[39;00m enter_flow_run_engine_from_flow_call(\n\u001b[1;32m    749\u001b[0m     \u001b[39mself\u001b[39;49m,\n\u001b[1;32m    750\u001b[0m     parameters,\n\u001b[1;32m    751\u001b[0m     wait_for\u001b[39m=\u001b[39;49mwait_for,\n\u001b[1;32m    752\u001b[0m     return_type\u001b[39m=\u001b[39;49mreturn_type,\n\u001b[1;32m    753\u001b[0m )\n",
      "File \u001b[0;32m~/prefect/src/prefect/engine.py:271\u001b[0m, in \u001b[0;36menter_flow_run_engine_from_flow_call\u001b[0;34m(flow, parameters, wait_for, return_type)\u001b[0m\n\u001b[1;32m    264\u001b[0m     retval \u001b[39m=\u001b[39m from_async\u001b[39m.\u001b[39mwait_for_call_in_loop_thread(\n\u001b[1;32m    265\u001b[0m         begin_run,\n\u001b[1;32m    266\u001b[0m         done_callbacks\u001b[39m=\u001b[39mdone_callbacks,\n\u001b[1;32m    267\u001b[0m         contexts\u001b[39m=\u001b[39mcontexts,\n\u001b[1;32m    268\u001b[0m     )\n\u001b[1;32m    270\u001b[0m \u001b[39melse\u001b[39;00m:\n\u001b[0;32m--> 271\u001b[0m     retval \u001b[39m=\u001b[39m from_sync\u001b[39m.\u001b[39;49mwait_for_call_in_loop_thread(\n\u001b[1;32m    272\u001b[0m         begin_run,\n\u001b[1;32m    273\u001b[0m         done_callbacks\u001b[39m=\u001b[39;49mdone_callbacks,\n\u001b[1;32m    274\u001b[0m         contexts\u001b[39m=\u001b[39;49mcontexts,\n\u001b[1;32m    275\u001b[0m     )\n\u001b[1;32m    277\u001b[0m \u001b[39mreturn\u001b[39;00m retval\n",
      "File \u001b[0;32m~/prefect/src/prefect/_internal/concurrency/api.py:243\u001b[0m, in \u001b[0;36mfrom_sync.wait_for_call_in_loop_thread\u001b[0;34m(_from_sync__call, timeout, done_callbacks, contexts)\u001b[0m\n\u001b[1;32m    241\u001b[0m     stack\u001b[39m.\u001b[39menter_context(context)\n\u001b[1;32m    242\u001b[0m waiter\u001b[39m.\u001b[39mwait()\n\u001b[0;32m--> 243\u001b[0m \u001b[39mreturn\u001b[39;00m call\u001b[39m.\u001b[39;49mresult()\n",
      "File \u001b[0;32m~/prefect/src/prefect/_internal/concurrency/calls.py:282\u001b[0m, in \u001b[0;36mCall.result\u001b[0;34m(self, timeout)\u001b[0m\n\u001b[1;32m    276\u001b[0m \u001b[39mdef\u001b[39;00m \u001b[39mresult\u001b[39m(\u001b[39mself\u001b[39m, timeout: Optional[\u001b[39mfloat\u001b[39m] \u001b[39m=\u001b[39m \u001b[39mNone\u001b[39;00m) \u001b[39m-\u001b[39m\u001b[39m>\u001b[39m T:\n\u001b[1;32m    277\u001b[0m \u001b[39m    \u001b[39m\u001b[39m\"\"\"\u001b[39;00m\n\u001b[1;32m    278\u001b[0m \u001b[39m    Wait for the result of the call.\u001b[39;00m\n\u001b[1;32m    279\u001b[0m \n\u001b[1;32m    280\u001b[0m \u001b[39m    Not safe for use from asynchronous contexts.\u001b[39;00m\n\u001b[1;32m    281\u001b[0m \u001b[39m    \"\"\"\u001b[39;00m\n\u001b[0;32m--> 282\u001b[0m     \u001b[39mreturn\u001b[39;00m \u001b[39mself\u001b[39;49m\u001b[39m.\u001b[39;49mfuture\u001b[39m.\u001b[39;49mresult(timeout\u001b[39m=\u001b[39;49mtimeout)\n",
      "File \u001b[0;32m~/prefect/src/prefect/_internal/concurrency/calls.py:168\u001b[0m, in \u001b[0;36mFuture.result\u001b[0;34m(self, timeout)\u001b[0m\n\u001b[1;32m    166\u001b[0m     \u001b[39mraise\u001b[39;00m CancelledError()\n\u001b[1;32m    167\u001b[0m \u001b[39melif\u001b[39;00m \u001b[39mself\u001b[39m\u001b[39m.\u001b[39m_state \u001b[39m==\u001b[39m FINISHED:\n\u001b[0;32m--> 168\u001b[0m     \u001b[39mreturn\u001b[39;00m \u001b[39mself\u001b[39;49m\u001b[39m.\u001b[39;49m__get_result()\n\u001b[1;32m    170\u001b[0m \u001b[39mself\u001b[39m\u001b[39m.\u001b[39m_condition\u001b[39m.\u001b[39mwait(timeout)\n\u001b[1;32m    172\u001b[0m \u001b[39mif\u001b[39;00m \u001b[39mself\u001b[39m\u001b[39m.\u001b[39m_state \u001b[39min\u001b[39;00m [CANCELLED, CANCELLED_AND_NOTIFIED]:\n\u001b[1;32m    173\u001b[0m     \u001b[39m# Raise Prefect cancelled error instead of\u001b[39;00m\n\u001b[1;32m    174\u001b[0m     \u001b[39m# `concurrent.futures._base.CancelledError`\u001b[39;00m\n",
      "File \u001b[0;32m~/miniconda3/envs/tables-detr/lib/python3.10/concurrent/futures/_base.py:403\u001b[0m, in \u001b[0;36mFuture.__get_result\u001b[0;34m(self)\u001b[0m\n\u001b[1;32m    401\u001b[0m \u001b[39mif\u001b[39;00m \u001b[39mself\u001b[39m\u001b[39m.\u001b[39m_exception:\n\u001b[1;32m    402\u001b[0m     \u001b[39mtry\u001b[39;00m:\n\u001b[0;32m--> 403\u001b[0m         \u001b[39mraise\u001b[39;00m \u001b[39mself\u001b[39m\u001b[39m.\u001b[39m_exception\n\u001b[1;32m    404\u001b[0m     \u001b[39mfinally\u001b[39;00m:\n\u001b[1;32m    405\u001b[0m         \u001b[39m# Break a reference cycle with the exception in self._exception\u001b[39;00m\n\u001b[1;32m    406\u001b[0m         \u001b[39mself\u001b[39m \u001b[39m=\u001b[39m \u001b[39mNone\u001b[39;00m\n",
      "File \u001b[0;32m~/prefect/src/prefect/_internal/concurrency/calls.py:345\u001b[0m, in \u001b[0;36mCall._run_async\u001b[0;34m(***failed resolving arguments***)\u001b[0m\n\u001b[1;32m    343\u001b[0m     \u001b[39mwith\u001b[39;00m set_current_call(\u001b[39mself\u001b[39m):\n\u001b[1;32m    344\u001b[0m         \u001b[39mwith\u001b[39;00m \u001b[39mself\u001b[39m\u001b[39m.\u001b[39mfuture\u001b[39m.\u001b[39menforce_async_deadline() \u001b[39mas\u001b[39;00m cancel_scope:\n\u001b[0;32m--> 345\u001b[0m             result \u001b[39m=\u001b[39m \u001b[39mawait\u001b[39;00m coro\n\u001b[1;32m    346\u001b[0m \u001b[39mexcept\u001b[39;00m CancelledError:\n\u001b[1;32m    347\u001b[0m     \u001b[39m# Report cancellation\u001b[39;00m\n\u001b[1;32m    348\u001b[0m     \u001b[39mif\u001b[39;00m cancel_scope\u001b[39m.\u001b[39mtimedout():\n",
      "File \u001b[0;32m~/prefect/src/prefect/client/utilities.py:51\u001b[0m, in \u001b[0;36minject_client.<locals>.with_injected_client\u001b[0;34m(*args, **kwargs)\u001b[0m\n\u001b[1;32m     49\u001b[0m \u001b[39masync\u001b[39;00m \u001b[39mwith\u001b[39;00m client_context \u001b[39mas\u001b[39;00m new_client:\n\u001b[1;32m     50\u001b[0m     kwargs\u001b[39m.\u001b[39msetdefault(\u001b[39m\"\u001b[39m\u001b[39mclient\u001b[39m\u001b[39m\"\u001b[39m, new_client \u001b[39mor\u001b[39;00m client)\n\u001b[0;32m---> 51\u001b[0m     \u001b[39mreturn\u001b[39;00m \u001b[39mawait\u001b[39;00m fn(\u001b[39m*\u001b[39margs, \u001b[39m*\u001b[39m\u001b[39m*\u001b[39mkwargs)\n",
      "File \u001b[0;32m~/prefect/src/prefect/engine.py:374\u001b[0m, in \u001b[0;36mcreate_then_begin_flow_run\u001b[0;34m(flow, parameters, wait_for, return_type, client, user_thread)\u001b[0m\n\u001b[1;32m    372\u001b[0m     \u001b[39mreturn\u001b[39;00m state\n\u001b[1;32m    373\u001b[0m \u001b[39melif\u001b[39;00m return_type \u001b[39m==\u001b[39m \u001b[39m\"\u001b[39m\u001b[39mresult\u001b[39m\u001b[39m\"\u001b[39m:\n\u001b[0;32m--> 374\u001b[0m     \u001b[39mreturn\u001b[39;00m \u001b[39mawait\u001b[39;00m state\u001b[39m.\u001b[39mresult(fetch\u001b[39m=\u001b[39m\u001b[39mTrue\u001b[39;00m)\n\u001b[1;32m    375\u001b[0m \u001b[39melse\u001b[39;00m:\n\u001b[1;32m    376\u001b[0m     \u001b[39mraise\u001b[39;00m \u001b[39mValueError\u001b[39;00m(\u001b[39mf\u001b[39m\u001b[39m\"\u001b[39m\u001b[39mInvalid return type for flow engine \u001b[39m\u001b[39m{\u001b[39;00mreturn_type\u001b[39m!r}\u001b[39;00m\u001b[39m.\u001b[39m\u001b[39m\"\u001b[39m)\n",
      "File \u001b[0;32m~/prefect/src/prefect/states.py:91\u001b[0m, in \u001b[0;36m_get_state_result\u001b[0;34m(state, raise_on_failure)\u001b[0m\n\u001b[1;32m     84\u001b[0m     \u001b[39mraise\u001b[39;00m UnfinishedRun(\n\u001b[1;32m     85\u001b[0m         \u001b[39mf\u001b[39m\u001b[39m\"\u001b[39m\u001b[39mRun is in \u001b[39m\u001b[39m{\u001b[39;00mstate\u001b[39m.\u001b[39mtype\u001b[39m.\u001b[39mname\u001b[39m}\u001b[39;00m\u001b[39m state, its result is not available.\u001b[39m\u001b[39m\"\u001b[39m\n\u001b[1;32m     86\u001b[0m     )\n\u001b[1;32m     88\u001b[0m \u001b[39mif\u001b[39;00m raise_on_failure \u001b[39mand\u001b[39;00m (\n\u001b[1;32m     89\u001b[0m     state\u001b[39m.\u001b[39mis_crashed() \u001b[39mor\u001b[39;00m state\u001b[39m.\u001b[39mis_failed() \u001b[39mor\u001b[39;00m state\u001b[39m.\u001b[39mis_cancelled()\n\u001b[1;32m     90\u001b[0m ):\n\u001b[0;32m---> 91\u001b[0m     \u001b[39mraise\u001b[39;00m \u001b[39mawait\u001b[39;00m get_state_exception(state)\n\u001b[1;32m     93\u001b[0m \u001b[39mif\u001b[39;00m \u001b[39misinstance\u001b[39m(state\u001b[39m.\u001b[39mdata, DataDocument):\n\u001b[1;32m     94\u001b[0m     result \u001b[39m=\u001b[39m result_from_state_with_data_document(\n\u001b[1;32m     95\u001b[0m         state, raise_on_failure\u001b[39m=\u001b[39mraise_on_failure\n\u001b[1;32m     96\u001b[0m     )\n",
      "File \u001b[0;32m~/prefect/src/prefect/engine.py:829\u001b[0m, in \u001b[0;36morchestrate_flow_run\u001b[0;34m(flow, flow_run, parameters, wait_for, interruptible, client, partial_flow_run_context, user_thread)\u001b[0m\n\u001b[1;32m    824\u001b[0m         \u001b[39melse\u001b[39;00m:\n\u001b[1;32m    825\u001b[0m             from_async\u001b[39m.\u001b[39mcall_soon_in_new_thread(\n\u001b[1;32m    826\u001b[0m                 flow_call, timeout\u001b[39m=\u001b[39mflow\u001b[39m.\u001b[39mtimeout_seconds\n\u001b[1;32m    827\u001b[0m             )\n\u001b[0;32m--> 829\u001b[0m         result \u001b[39m=\u001b[39m \u001b[39mawait\u001b[39;00m flow_call\u001b[39m.\u001b[39maresult()\n\u001b[1;32m    831\u001b[0m         waited_for_task_runs \u001b[39m=\u001b[39m \u001b[39mawait\u001b[39;00m wait_for_task_runs_and_report_crashes(\n\u001b[1;32m    832\u001b[0m             flow_run_context\u001b[39m.\u001b[39mtask_run_futures, client\u001b[39m=\u001b[39mclient\n\u001b[1;32m    833\u001b[0m         )\n\u001b[1;32m    834\u001b[0m \u001b[39mexcept\u001b[39;00m PausedRun \u001b[39mas\u001b[39;00m exc:\n\u001b[1;32m    835\u001b[0m     \u001b[39m# could get raised either via utility or by returning Paused from a task run\u001b[39;00m\n\u001b[1;32m    836\u001b[0m     \u001b[39m# if a task run pauses, we set its state as the flow's state\u001b[39;00m\n\u001b[1;32m    837\u001b[0m     \u001b[39m# to preserve reschedule and timeout behavior\u001b[39;00m\n",
      "File \u001b[0;32m~/prefect/src/prefect/_internal/concurrency/calls.py:291\u001b[0m, in \u001b[0;36mCall.aresult\u001b[0;34m(self)\u001b[0m\n\u001b[1;32m    285\u001b[0m \u001b[39m\u001b[39m\u001b[39m\"\"\"\u001b[39;00m\n\u001b[1;32m    286\u001b[0m \u001b[39mWait for the result of the call.\u001b[39;00m\n\u001b[1;32m    287\u001b[0m \n\u001b[1;32m    288\u001b[0m \u001b[39mFor use from asynchronous contexts.\u001b[39;00m\n\u001b[1;32m    289\u001b[0m \u001b[39m\"\"\"\u001b[39;00m\n\u001b[1;32m    290\u001b[0m \u001b[39mtry\u001b[39;00m:\n\u001b[0;32m--> 291\u001b[0m     \u001b[39mreturn\u001b[39;00m \u001b[39mawait\u001b[39;00m asyncio\u001b[39m.\u001b[39mwrap_future(\u001b[39mself\u001b[39m\u001b[39m.\u001b[39mfuture)\n\u001b[1;32m    292\u001b[0m \u001b[39mexcept\u001b[39;00m asyncio\u001b[39m.\u001b[39mCancelledError \u001b[39mas\u001b[39;00m exc:\n\u001b[1;32m    293\u001b[0m     \u001b[39mraise\u001b[39;00m CancelledError() \u001b[39mfrom\u001b[39;00m \u001b[39mexc\u001b[39;00m\n",
      "File \u001b[0;32m~/prefect/src/prefect/_internal/concurrency/calls.py:315\u001b[0m, in \u001b[0;36mCall._run_sync\u001b[0;34m(***failed resolving arguments***)\u001b[0m\n\u001b[1;32m    313\u001b[0m \u001b[39mwith\u001b[39;00m set_current_call(\u001b[39mself\u001b[39m):\n\u001b[1;32m    314\u001b[0m     \u001b[39mwith\u001b[39;00m \u001b[39mself\u001b[39m\u001b[39m.\u001b[39mfuture\u001b[39m.\u001b[39menforce_sync_deadline() \u001b[39mas\u001b[39;00m cancel_scope:\n\u001b[0;32m--> 315\u001b[0m         result \u001b[39m=\u001b[39m \u001b[39mself\u001b[39;49m\u001b[39m.\u001b[39;49mfn(\u001b[39m*\u001b[39;49m\u001b[39mself\u001b[39;49m\u001b[39m.\u001b[39;49margs, \u001b[39m*\u001b[39;49m\u001b[39m*\u001b[39;49m\u001b[39mself\u001b[39;49m\u001b[39m.\u001b[39;49mkwargs)\n\u001b[1;32m    317\u001b[0m \u001b[39m# Return the coroutine for async execution\u001b[39;00m\n\u001b[1;32m    318\u001b[0m \u001b[39mif\u001b[39;00m inspect\u001b[39m.\u001b[39misawaitable(result):\n",
      "\u001b[1;32m/home/dani-boy/extractNF/prefect_poc.ipynb Cell 1\u001b[0m line \u001b[0;36m6\n\u001b[1;32m      <a href='vscode-notebook-cell://wsl%2Bubuntu-22.04/home/dani-boy/extractNF/prefect_poc.ipynb#W0sdnNjb2RlLXJlbW90ZQ%3D%3D?line=3'>4</a>\u001b[0m \u001b[39m@flow\u001b[39m\n\u001b[1;32m      <a href='vscode-notebook-cell://wsl%2Bubuntu-22.04/home/dani-boy/extractNF/prefect_poc.ipynb#W0sdnNjb2RlLXJlbW90ZQ%3D%3D?line=4'>5</a>\u001b[0m \u001b[39mdef\u001b[39;00m \u001b[39mexample_execute_notebook\u001b[39m():\n\u001b[0;32m----> <a href='vscode-notebook-cell://wsl%2Bubuntu-22.04/home/dani-boy/extractNF/prefect_poc.ipynb#W0sdnNjb2RlLXJlbW90ZQ%3D%3D?line=5'>6</a>\u001b[0m     nb \u001b[39m=\u001b[39m notebook\u001b[39m.\u001b[39;49mexecute_notebook(\n\u001b[1;32m      <a href='vscode-notebook-cell://wsl%2Bubuntu-22.04/home/dani-boy/extractNF/prefect_poc.ipynb#W0sdnNjb2RlLXJlbW90ZQ%3D%3D?line=6'>7</a>\u001b[0m         \u001b[39m\"\u001b[39;49m\u001b[39mtest_notebook.ipynb\u001b[39;49m\u001b[39m\"\u001b[39;49m,\n\u001b[1;32m      <a href='vscode-notebook-cell://wsl%2Bubuntu-22.04/home/dani-boy/extractNF/prefect_poc.ipynb#W0sdnNjb2RlLXJlbW90ZQ%3D%3D?line=7'>8</a>\u001b[0m         parameters\u001b[39m=\u001b[39;49m{\u001b[39m\"\u001b[39;49m\u001b[39mnum\u001b[39;49m\u001b[39m\"\u001b[39;49m: \u001b[39m5\u001b[39;49m}\n\u001b[1;32m      <a href='vscode-notebook-cell://wsl%2Bubuntu-22.04/home/dani-boy/extractNF/prefect_poc.ipynb#W0sdnNjb2RlLXJlbW90ZQ%3D%3D?line=8'>9</a>\u001b[0m     )\n\u001b[1;32m     <a href='vscode-notebook-cell://wsl%2Bubuntu-22.04/home/dani-boy/extractNF/prefect_poc.ipynb#W0sdnNjb2RlLXJlbW90ZQ%3D%3D?line=9'>10</a>\u001b[0m     body \u001b[39m=\u001b[39m notebook\u001b[39m.\u001b[39mexport_notebook(nb)\n\u001b[1;32m     <a href='vscode-notebook-cell://wsl%2Bubuntu-22.04/home/dani-boy/extractNF/prefect_poc.ipynb#W0sdnNjb2RlLXJlbW90ZQ%3D%3D?line=10'>11</a>\u001b[0m     output_path \u001b[39m=\u001b[39m \u001b[39m\"\u001b[39m\u001b[39mexecuted_notebook.ipynb\u001b[39m\u001b[39m\"\u001b[39m\n",
      "File \u001b[0;32m~/prefect/src/prefect/tasks.py:550\u001b[0m, in \u001b[0;36mTask.__call__\u001b[0;34m(self, return_state, wait_for, *args, **kwargs)\u001b[0m\n\u001b[1;32m    545\u001b[0m \u001b[39mif\u001b[39;00m task_run_tracker:\n\u001b[1;32m    546\u001b[0m     \u001b[39mreturn\u001b[39;00m track_viz_task(\n\u001b[1;32m    547\u001b[0m         \u001b[39mself\u001b[39m\u001b[39m.\u001b[39misasync, \u001b[39mself\u001b[39m\u001b[39m.\u001b[39mname, parameters, \u001b[39mself\u001b[39m\u001b[39m.\u001b[39mviz_return_value\n\u001b[1;32m    548\u001b[0m     )\n\u001b[0;32m--> 550\u001b[0m \u001b[39mreturn\u001b[39;00m enter_task_run_engine(\n\u001b[1;32m    551\u001b[0m     \u001b[39mself\u001b[39;49m,\n\u001b[1;32m    552\u001b[0m     parameters\u001b[39m=\u001b[39;49mparameters,\n\u001b[1;32m    553\u001b[0m     wait_for\u001b[39m=\u001b[39;49mwait_for,\n\u001b[1;32m    554\u001b[0m     task_runner\u001b[39m=\u001b[39;49mSequentialTaskRunner(),\n\u001b[1;32m    555\u001b[0m     return_type\u001b[39m=\u001b[39;49mreturn_type,\n\u001b[1;32m    556\u001b[0m     mapped\u001b[39m=\u001b[39;49m\u001b[39mFalse\u001b[39;49;00m,\n\u001b[1;32m    557\u001b[0m )\n",
      "File \u001b[0;32m~/prefect/src/prefect/engine.py:1144\u001b[0m, in \u001b[0;36menter_task_run_engine\u001b[0;34m(task, parameters, wait_for, return_type, task_runner, mapped)\u001b[0m\n\u001b[1;32m   1142\u001b[0m     \u001b[39mreturn\u001b[39;00m from_async\u001b[39m.\u001b[39mwait_for_call_in_loop_thread(begin_run)\n\u001b[1;32m   1143\u001b[0m \u001b[39melse\u001b[39;00m:\n\u001b[0;32m-> 1144\u001b[0m     \u001b[39mreturn\u001b[39;00m from_sync\u001b[39m.\u001b[39;49mwait_for_call_in_loop_thread(begin_run)\n",
      "File \u001b[0;32m~/prefect/src/prefect/_internal/concurrency/api.py:243\u001b[0m, in \u001b[0;36mfrom_sync.wait_for_call_in_loop_thread\u001b[0;34m(_from_sync__call, timeout, done_callbacks, contexts)\u001b[0m\n\u001b[1;32m    241\u001b[0m     stack\u001b[39m.\u001b[39menter_context(context)\n\u001b[1;32m    242\u001b[0m waiter\u001b[39m.\u001b[39mwait()\n\u001b[0;32m--> 243\u001b[0m \u001b[39mreturn\u001b[39;00m call\u001b[39m.\u001b[39;49mresult()\n",
      "File \u001b[0;32m~/prefect/src/prefect/_internal/concurrency/calls.py:282\u001b[0m, in \u001b[0;36mCall.result\u001b[0;34m(self, timeout)\u001b[0m\n\u001b[1;32m    276\u001b[0m \u001b[39mdef\u001b[39;00m \u001b[39mresult\u001b[39m(\u001b[39mself\u001b[39m, timeout: Optional[\u001b[39mfloat\u001b[39m] \u001b[39m=\u001b[39m \u001b[39mNone\u001b[39;00m) \u001b[39m-\u001b[39m\u001b[39m>\u001b[39m T:\n\u001b[1;32m    277\u001b[0m \u001b[39m    \u001b[39m\u001b[39m\"\"\"\u001b[39;00m\n\u001b[1;32m    278\u001b[0m \u001b[39m    Wait for the result of the call.\u001b[39;00m\n\u001b[1;32m    279\u001b[0m \n\u001b[1;32m    280\u001b[0m \u001b[39m    Not safe for use from asynchronous contexts.\u001b[39;00m\n\u001b[1;32m    281\u001b[0m \u001b[39m    \"\"\"\u001b[39;00m\n\u001b[0;32m--> 282\u001b[0m     \u001b[39mreturn\u001b[39;00m \u001b[39mself\u001b[39;49m\u001b[39m.\u001b[39;49mfuture\u001b[39m.\u001b[39;49mresult(timeout\u001b[39m=\u001b[39;49mtimeout)\n",
      "File \u001b[0;32m~/prefect/src/prefect/_internal/concurrency/calls.py:168\u001b[0m, in \u001b[0;36mFuture.result\u001b[0;34m(self, timeout)\u001b[0m\n\u001b[1;32m    166\u001b[0m     \u001b[39mraise\u001b[39;00m CancelledError()\n\u001b[1;32m    167\u001b[0m \u001b[39melif\u001b[39;00m \u001b[39mself\u001b[39m\u001b[39m.\u001b[39m_state \u001b[39m==\u001b[39m FINISHED:\n\u001b[0;32m--> 168\u001b[0m     \u001b[39mreturn\u001b[39;00m \u001b[39mself\u001b[39;49m\u001b[39m.\u001b[39;49m__get_result()\n\u001b[1;32m    170\u001b[0m \u001b[39mself\u001b[39m\u001b[39m.\u001b[39m_condition\u001b[39m.\u001b[39mwait(timeout)\n\u001b[1;32m    172\u001b[0m \u001b[39mif\u001b[39;00m \u001b[39mself\u001b[39m\u001b[39m.\u001b[39m_state \u001b[39min\u001b[39;00m [CANCELLED, CANCELLED_AND_NOTIFIED]:\n\u001b[1;32m    173\u001b[0m     \u001b[39m# Raise Prefect cancelled error instead of\u001b[39;00m\n\u001b[1;32m    174\u001b[0m     \u001b[39m# `concurrent.futures._base.CancelledError`\u001b[39;00m\n",
      "File \u001b[0;32m~/miniconda3/envs/tables-detr/lib/python3.10/concurrent/futures/_base.py:403\u001b[0m, in \u001b[0;36mFuture.__get_result\u001b[0;34m(self)\u001b[0m\n\u001b[1;32m    401\u001b[0m \u001b[39mif\u001b[39;00m \u001b[39mself\u001b[39m\u001b[39m.\u001b[39m_exception:\n\u001b[1;32m    402\u001b[0m     \u001b[39mtry\u001b[39;00m:\n\u001b[0;32m--> 403\u001b[0m         \u001b[39mraise\u001b[39;00m \u001b[39mself\u001b[39m\u001b[39m.\u001b[39m_exception\n\u001b[1;32m    404\u001b[0m     \u001b[39mfinally\u001b[39;00m:\n\u001b[1;32m    405\u001b[0m         \u001b[39m# Break a reference cycle with the exception in self._exception\u001b[39;00m\n\u001b[1;32m    406\u001b[0m         \u001b[39mself\u001b[39m \u001b[39m=\u001b[39m \u001b[39mNone\u001b[39;00m\n",
      "File \u001b[0;32m~/prefect/src/prefect/_internal/concurrency/calls.py:345\u001b[0m, in \u001b[0;36mCall._run_async\u001b[0;34m(***failed resolving arguments***)\u001b[0m\n\u001b[1;32m    343\u001b[0m     \u001b[39mwith\u001b[39;00m set_current_call(\u001b[39mself\u001b[39m):\n\u001b[1;32m    344\u001b[0m         \u001b[39mwith\u001b[39;00m \u001b[39mself\u001b[39m\u001b[39m.\u001b[39mfuture\u001b[39m.\u001b[39menforce_async_deadline() \u001b[39mas\u001b[39;00m cancel_scope:\n\u001b[0;32m--> 345\u001b[0m             result \u001b[39m=\u001b[39m \u001b[39mawait\u001b[39;00m coro\n\u001b[1;32m    346\u001b[0m \u001b[39mexcept\u001b[39;00m CancelledError:\n\u001b[1;32m    347\u001b[0m     \u001b[39m# Report cancellation\u001b[39;00m\n\u001b[1;32m    348\u001b[0m     \u001b[39mif\u001b[39;00m cancel_scope\u001b[39m.\u001b[39mtimedout():\n",
      "File \u001b[0;32m~/prefect/src/prefect/engine.py:1312\u001b[0m, in \u001b[0;36mget_task_call_return_value\u001b[0;34m(task, flow_run_context, parameters, wait_for, return_type, task_runner, extra_task_inputs)\u001b[0m\n\u001b[1;32m   1310\u001b[0m     \u001b[39mreturn\u001b[39;00m \u001b[39mawait\u001b[39;00m future\u001b[39m.\u001b[39m_wait()\n\u001b[1;32m   1311\u001b[0m \u001b[39melif\u001b[39;00m return_type \u001b[39m==\u001b[39m \u001b[39m\"\u001b[39m\u001b[39mresult\u001b[39m\u001b[39m\"\u001b[39m:\n\u001b[0;32m-> 1312\u001b[0m     \u001b[39mreturn\u001b[39;00m \u001b[39mawait\u001b[39;00m future\u001b[39m.\u001b[39m_result()\n\u001b[1;32m   1313\u001b[0m \u001b[39melse\u001b[39;00m:\n\u001b[1;32m   1314\u001b[0m     \u001b[39mraise\u001b[39;00m \u001b[39mValueError\u001b[39;00m(\u001b[39mf\u001b[39m\u001b[39m\"\u001b[39m\u001b[39mInvalid return type for task engine \u001b[39m\u001b[39m{\u001b[39;00mreturn_type\u001b[39m!r}\u001b[39;00m\u001b[39m.\u001b[39m\u001b[39m\"\u001b[39m)\n",
      "File \u001b[0;32m~/prefect/src/prefect/futures.py:237\u001b[0m, in \u001b[0;36mPrefectFuture._result\u001b[0;34m(self, timeout, raise_on_failure)\u001b[0m\n\u001b[1;32m    235\u001b[0m \u001b[39mif\u001b[39;00m \u001b[39mnot\u001b[39;00m final_state:\n\u001b[1;32m    236\u001b[0m     \u001b[39mraise\u001b[39;00m \u001b[39mTimeoutError\u001b[39;00m(\u001b[39m\"\u001b[39m\u001b[39mCall timed out before task finished.\u001b[39m\u001b[39m\"\u001b[39m)\n\u001b[0;32m--> 237\u001b[0m \u001b[39mreturn\u001b[39;00m \u001b[39mawait\u001b[39;00m final_state\u001b[39m.\u001b[39mresult(raise_on_failure\u001b[39m=\u001b[39mraise_on_failure, fetch\u001b[39m=\u001b[39m\u001b[39mTrue\u001b[39;00m)\n",
      "File \u001b[0;32m~/prefect/src/prefect/states.py:91\u001b[0m, in \u001b[0;36m_get_state_result\u001b[0;34m(state, raise_on_failure)\u001b[0m\n\u001b[1;32m     84\u001b[0m     \u001b[39mraise\u001b[39;00m UnfinishedRun(\n\u001b[1;32m     85\u001b[0m         \u001b[39mf\u001b[39m\u001b[39m\"\u001b[39m\u001b[39mRun is in \u001b[39m\u001b[39m{\u001b[39;00mstate\u001b[39m.\u001b[39mtype\u001b[39m.\u001b[39mname\u001b[39m}\u001b[39;00m\u001b[39m state, its result is not available.\u001b[39m\u001b[39m\"\u001b[39m\n\u001b[1;32m     86\u001b[0m     )\n\u001b[1;32m     88\u001b[0m \u001b[39mif\u001b[39;00m raise_on_failure \u001b[39mand\u001b[39;00m (\n\u001b[1;32m     89\u001b[0m     state\u001b[39m.\u001b[39mis_crashed() \u001b[39mor\u001b[39;00m state\u001b[39m.\u001b[39mis_failed() \u001b[39mor\u001b[39;00m state\u001b[39m.\u001b[39mis_cancelled()\n\u001b[1;32m     90\u001b[0m ):\n\u001b[0;32m---> 91\u001b[0m     \u001b[39mraise\u001b[39;00m \u001b[39mawait\u001b[39;00m get_state_exception(state)\n\u001b[1;32m     93\u001b[0m \u001b[39mif\u001b[39;00m \u001b[39misinstance\u001b[39m(state\u001b[39m.\u001b[39mdata, DataDocument):\n\u001b[1;32m     94\u001b[0m     result \u001b[39m=\u001b[39m result_from_state_with_data_document(\n\u001b[1;32m     95\u001b[0m         state, raise_on_failure\u001b[39m=\u001b[39mraise_on_failure\n\u001b[1;32m     96\u001b[0m     )\n",
      "File \u001b[0;32m~/prefect/src/prefect/engine.py:1729\u001b[0m, in \u001b[0;36morchestrate_task_run\u001b[0;34m(task, task_run, parameters, wait_for, result_factory, log_prints, interruptible, client)\u001b[0m\n\u001b[1;32m   1722\u001b[0m         logger\u001b[39m.\u001b[39mdebug(\n\u001b[1;32m   1723\u001b[0m             \u001b[39m\"\u001b[39m\u001b[39mBeginning execution...\u001b[39m\u001b[39m\"\u001b[39m, extra\u001b[39m=\u001b[39m{\u001b[39m\"\u001b[39m\u001b[39mstate_message\u001b[39m\u001b[39m\"\u001b[39m: \u001b[39mTrue\u001b[39;00m}\n\u001b[1;32m   1724\u001b[0m         )\n\u001b[1;32m   1726\u001b[0m     call \u001b[39m=\u001b[39m from_async\u001b[39m.\u001b[39mcall_soon_in_new_thread(\n\u001b[1;32m   1727\u001b[0m         create_call(task\u001b[39m.\u001b[39mfn, \u001b[39m*\u001b[39margs, \u001b[39m*\u001b[39m\u001b[39m*\u001b[39mkwargs), timeout\u001b[39m=\u001b[39mtask\u001b[39m.\u001b[39mtimeout_seconds\n\u001b[1;32m   1728\u001b[0m     )\n\u001b[0;32m-> 1729\u001b[0m     result \u001b[39m=\u001b[39m \u001b[39mawait\u001b[39;00m call\u001b[39m.\u001b[39maresult()\n\u001b[1;32m   1731\u001b[0m \u001b[39mexcept\u001b[39;00m (CancelledError, asyncio\u001b[39m.\u001b[39mCancelledError) \u001b[39mas\u001b[39;00m exc:\n\u001b[1;32m   1732\u001b[0m     \u001b[39mif\u001b[39;00m \u001b[39mnot\u001b[39;00m call\u001b[39m.\u001b[39mtimedout():\n\u001b[1;32m   1733\u001b[0m         \u001b[39m# If the task call was not cancelled by us; this is a crash\u001b[39;00m\n",
      "File \u001b[0;32m~/prefect/src/prefect/_internal/concurrency/calls.py:291\u001b[0m, in \u001b[0;36mCall.aresult\u001b[0;34m(self)\u001b[0m\n\u001b[1;32m    285\u001b[0m \u001b[39m\u001b[39m\u001b[39m\"\"\"\u001b[39;00m\n\u001b[1;32m    286\u001b[0m \u001b[39mWait for the result of the call.\u001b[39;00m\n\u001b[1;32m    287\u001b[0m \n\u001b[1;32m    288\u001b[0m \u001b[39mFor use from asynchronous contexts.\u001b[39;00m\n\u001b[1;32m    289\u001b[0m \u001b[39m\"\"\"\u001b[39;00m\n\u001b[1;32m    290\u001b[0m \u001b[39mtry\u001b[39;00m:\n\u001b[0;32m--> 291\u001b[0m     \u001b[39mreturn\u001b[39;00m \u001b[39mawait\u001b[39;00m asyncio\u001b[39m.\u001b[39mwrap_future(\u001b[39mself\u001b[39m\u001b[39m.\u001b[39mfuture)\n\u001b[1;32m    292\u001b[0m \u001b[39mexcept\u001b[39;00m asyncio\u001b[39m.\u001b[39mCancelledError \u001b[39mas\u001b[39;00m exc:\n\u001b[1;32m    293\u001b[0m     \u001b[39mraise\u001b[39;00m CancelledError() \u001b[39mfrom\u001b[39;00m \u001b[39mexc\u001b[39;00m\n",
      "File \u001b[0;32m~/prefect/src/prefect/_internal/concurrency/calls.py:315\u001b[0m, in \u001b[0;36mCall._run_sync\u001b[0;34m(***failed resolving arguments***)\u001b[0m\n\u001b[1;32m    313\u001b[0m \u001b[39mwith\u001b[39;00m set_current_call(\u001b[39mself\u001b[39m):\n\u001b[1;32m    314\u001b[0m     \u001b[39mwith\u001b[39;00m \u001b[39mself\u001b[39m\u001b[39m.\u001b[39mfuture\u001b[39m.\u001b[39menforce_sync_deadline() \u001b[39mas\u001b[39;00m cancel_scope:\n\u001b[0;32m--> 315\u001b[0m         result \u001b[39m=\u001b[39m \u001b[39mself\u001b[39;49m\u001b[39m.\u001b[39;49mfn(\u001b[39m*\u001b[39;49m\u001b[39mself\u001b[39;49m\u001b[39m.\u001b[39;49margs, \u001b[39m*\u001b[39;49m\u001b[39m*\u001b[39;49m\u001b[39mself\u001b[39;49m\u001b[39m.\u001b[39;49mkwargs)\n\u001b[1;32m    317\u001b[0m \u001b[39m# Return the coroutine for async execution\u001b[39;00m\n\u001b[1;32m    318\u001b[0m \u001b[39mif\u001b[39;00m inspect\u001b[39m.\u001b[39misawaitable(result):\n",
      "File \u001b[0;32m~/miniconda3/envs/tables-detr/lib/python3.10/site-packages/prefect_jupyter/notebook.py:77\u001b[0m, in \u001b[0;36mexecute_notebook\u001b[0;34m(path, parameters, log_output, kernel_name, **execute_kwargs)\u001b[0m\n\u001b[1;32m     31\u001b[0m \u001b[39m@task\u001b[39m\n\u001b[1;32m     32\u001b[0m \u001b[39mdef\u001b[39;00m \u001b[39mexecute_notebook\u001b[39m(\n\u001b[1;32m     33\u001b[0m     path: \u001b[39mstr\u001b[39m,\n\u001b[0;32m   (...)\u001b[0m\n\u001b[1;32m     37\u001b[0m     \u001b[39m*\u001b[39m\u001b[39m*\u001b[39mexecute_kwargs: Dict[\u001b[39mstr\u001b[39m, Any],\n\u001b[1;32m     38\u001b[0m ) \u001b[39m-\u001b[39m\u001b[39m>\u001b[39m \u001b[39mstr\u001b[39m:\n\u001b[1;32m     39\u001b[0m \u001b[39m    \u001b[39m\u001b[39m\"\"\"\u001b[39;00m\n\u001b[1;32m     40\u001b[0m \u001b[39m    Task for running Jupyter Notebooks.\u001b[39;00m\n\u001b[1;32m     41\u001b[0m \n\u001b[0;32m   (...)\u001b[0m\n\u001b[1;32m     75\u001b[0m \u001b[39m        ```\u001b[39;00m\n\u001b[1;32m     76\u001b[0m \u001b[39m    \"\"\"\u001b[39;00m\n\u001b[0;32m---> 77\u001b[0m     \u001b[39mreturn\u001b[39;00m pm\u001b[39m.\u001b[39;49mexecute_notebook(\n\u001b[1;32m     78\u001b[0m         path,\n\u001b[1;32m     79\u001b[0m         \u001b[39mNone\u001b[39;49;00m,\n\u001b[1;32m     80\u001b[0m         parameters\u001b[39m=\u001b[39;49mparameters,\n\u001b[1;32m     81\u001b[0m         kernel_name\u001b[39m=\u001b[39;49mkernel_name,\n\u001b[1;32m     82\u001b[0m         log_output\u001b[39m=\u001b[39;49mlog_output,\n\u001b[1;32m     83\u001b[0m         \u001b[39m*\u001b[39;49m\u001b[39m*\u001b[39;49mexecute_kwargs,\n\u001b[1;32m     84\u001b[0m     )\n",
      "File \u001b[0;32m~/miniconda3/envs/tables-detr/lib/python3.10/site-packages/papermill/execute.py:89\u001b[0m, in \u001b[0;36mexecute_notebook\u001b[0;34m(input_path, output_path, parameters, engine_name, request_save_on_cell_execute, prepare_only, kernel_name, language, progress_bar, log_output, stdout_file, stderr_file, start_timeout, report_mode, cwd, **engine_kwargs)\u001b[0m\n\u001b[1;32m     86\u001b[0m \u001b[39mif\u001b[39;00m cwd \u001b[39mis\u001b[39;00m \u001b[39mnot\u001b[39;00m \u001b[39mNone\u001b[39;00m:\n\u001b[1;32m     87\u001b[0m     logger\u001b[39m.\u001b[39minfo(\u001b[39m\"\u001b[39m\u001b[39mWorking directory: \u001b[39m\u001b[39m{}\u001b[39;00m\u001b[39m\"\u001b[39m\u001b[39m.\u001b[39mformat(get_pretty_path(cwd)))\n\u001b[0;32m---> 89\u001b[0m nb \u001b[39m=\u001b[39m load_notebook_node(input_path)\n\u001b[1;32m     91\u001b[0m \u001b[39m# Parameterize the Notebook.\u001b[39;00m\n\u001b[1;32m     92\u001b[0m \u001b[39mif\u001b[39;00m parameters:\n",
      "File \u001b[0;32m~/miniconda3/envs/tables-detr/lib/python3.10/site-packages/papermill/iorw.py:512\u001b[0m, in \u001b[0;36mload_notebook_node\u001b[0;34m(notebook_path)\u001b[0m\n\u001b[1;32m    502\u001b[0m \u001b[39mdef\u001b[39;00m \u001b[39mload_notebook_node\u001b[39m(notebook_path):\n\u001b[1;32m    503\u001b[0m \u001b[39m    \u001b[39m\u001b[39m\"\"\"Returns a notebook object with papermill metadata loaded from the specified path.\u001b[39;00m\n\u001b[1;32m    504\u001b[0m \n\u001b[1;32m    505\u001b[0m \u001b[39m    Args:\u001b[39;00m\n\u001b[0;32m   (...)\u001b[0m\n\u001b[1;32m    510\u001b[0m \n\u001b[1;32m    511\u001b[0m \u001b[39m    \"\"\"\u001b[39;00m\n\u001b[0;32m--> 512\u001b[0m     nb \u001b[39m=\u001b[39m nbformat\u001b[39m.\u001b[39mreads(papermill_io\u001b[39m.\u001b[39;49mread(notebook_path), as_version\u001b[39m=\u001b[39m\u001b[39m4\u001b[39m)\n\u001b[1;32m    513\u001b[0m     nb_upgraded \u001b[39m=\u001b[39m nbformat\u001b[39m.\u001b[39mv4\u001b[39m.\u001b[39mupgrade(nb)\n\u001b[1;32m    514\u001b[0m     \u001b[39mif\u001b[39;00m nb_upgraded \u001b[39mis\u001b[39;00m \u001b[39mnot\u001b[39;00m \u001b[39mNone\u001b[39;00m:\n",
      "File \u001b[0;32m~/miniconda3/envs/tables-detr/lib/python3.10/site-packages/papermill/iorw.py:100\u001b[0m, in \u001b[0;36mPapermillIO.read\u001b[0;34m(self, path, extensions)\u001b[0m\n\u001b[1;32m     98\u001b[0m \u001b[39mdef\u001b[39;00m \u001b[39mread\u001b[39m(\u001b[39mself\u001b[39m, path, extensions\u001b[39m=\u001b[39m[\u001b[39m'\u001b[39m\u001b[39m.ipynb\u001b[39m\u001b[39m'\u001b[39m, \u001b[39m'\u001b[39m\u001b[39m.json\u001b[39m\u001b[39m'\u001b[39m]):\n\u001b[1;32m     99\u001b[0m     \u001b[39m# Handle https://github.com/nteract/papermill/issues/317\u001b[39;00m\n\u001b[0;32m--> 100\u001b[0m     notebook_metadata \u001b[39m=\u001b[39m \u001b[39mself\u001b[39;49m\u001b[39m.\u001b[39;49mget_handler(path, extensions)\u001b[39m.\u001b[39;49mread(path)\n\u001b[1;32m    101\u001b[0m     \u001b[39mif\u001b[39;00m \u001b[39misinstance\u001b[39m(notebook_metadata, (\u001b[39mbytes\u001b[39m, \u001b[39mbytearray\u001b[39m)):\n\u001b[1;32m    102\u001b[0m         \u001b[39mreturn\u001b[39;00m notebook_metadata\u001b[39m.\u001b[39mdecode(\u001b[39m'\u001b[39m\u001b[39mutf-8\u001b[39m\u001b[39m'\u001b[39m)\n",
      "File \u001b[0;32m~/miniconda3/envs/tables-detr/lib/python3.10/site-packages/papermill/iorw.py:216\u001b[0m, in \u001b[0;36mLocalHandler.read\u001b[0;34m(self, path)\u001b[0m\n\u001b[1;32m    213\u001b[0m     \u001b[39mreturn\u001b[39;00m path\n\u001b[1;32m    214\u001b[0m \u001b[39mexcept\u001b[39;00m \u001b[39mValueError\u001b[39;00m:\n\u001b[1;32m    215\u001b[0m     \u001b[39m# Propagate the IOError\u001b[39;00m\n\u001b[0;32m--> 216\u001b[0m     \u001b[39mraise\u001b[39;00m e\n",
      "File \u001b[0;32m~/miniconda3/envs/tables-detr/lib/python3.10/site-packages/papermill/iorw.py:206\u001b[0m, in \u001b[0;36mLocalHandler.read\u001b[0;34m(self, path)\u001b[0m\n\u001b[1;32m    204\u001b[0m \u001b[39mtry\u001b[39;00m:\n\u001b[1;32m    205\u001b[0m     \u001b[39mwith\u001b[39;00m chdir(\u001b[39mself\u001b[39m\u001b[39m.\u001b[39m_cwd):\n\u001b[0;32m--> 206\u001b[0m         \u001b[39mwith\u001b[39;00m io\u001b[39m.\u001b[39;49mopen(path, \u001b[39m'\u001b[39;49m\u001b[39mr\u001b[39;49m\u001b[39m'\u001b[39;49m, encoding\u001b[39m=\u001b[39;49m\u001b[39m\"\u001b[39;49m\u001b[39mutf-8\u001b[39;49m\u001b[39m\"\u001b[39;49m) \u001b[39mas\u001b[39;00m f:\n\u001b[1;32m    207\u001b[0m             \u001b[39mreturn\u001b[39;00m f\u001b[39m.\u001b[39mread()\n\u001b[1;32m    208\u001b[0m \u001b[39mexcept\u001b[39;00m \u001b[39mIOError\u001b[39;00m \u001b[39mas\u001b[39;00m e:\n",
      "\u001b[0;31mFileNotFoundError\u001b[0m: [Errno 2] No such file or directory: 'test_notebook.ipynb'"
     ]
    }
   ],
   "source": [
    "from prefect import flow\n",
    "from prefect_jupyter import notebook\n",
    "\n",
    "@flow\n",
    "def example_execute_notebook():\n",
    "    nb = notebook.execute_notebook(\n",
    "        \"test_notebook.ipynb\",\n",
    "        parameters={\"num\": 5}\n",
    "    )\n",
    "    body = notebook.export_notebook(nb)\n",
    "    output_path = \"executed_notebook.ipynb\"\n",
    "    with open(output_path, \"w\") as f:\n",
    "        f.write(body)\n",
    "    return output_path\n",
    "\n",
    "example_execute_notebook()"
   ]
  }
 ],
 "metadata": {
  "kernelspec": {
   "display_name": "tables-detr",
   "language": "python",
   "name": "python3"
  },
  "language_info": {
   "codemirror_mode": {
    "name": "ipython",
    "version": 3
   },
   "file_extension": ".py",
   "mimetype": "text/x-python",
   "name": "python",
   "nbconvert_exporter": "python",
   "pygments_lexer": "ipython3",
   "version": "3.10.12"
  },
  "orig_nbformat": 4
 },
 "nbformat": 4,
 "nbformat_minor": 2
}
