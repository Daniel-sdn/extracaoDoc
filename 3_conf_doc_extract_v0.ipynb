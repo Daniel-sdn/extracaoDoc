{
 "cells": [
  {
   "cell_type": "markdown",
   "metadata": {},
   "source": [
    "# <mark> <b> > 3. </b> Conferencia e ajustes do Pipeline </mark>"
   ]
  },
  {
   "cell_type": "markdown",
   "metadata": {},
   "source": [
    "<b> 3_conf_doc_extract_v0.ipynb </b> |  Notebook com as funçoes para Analise e conferencia do pipeline"
   ]
  },
  {
   "cell_type": "markdown",
   "metadata": {},
   "source": [
    "### Modules & config"
   ]
  },
  {
   "cell_type": "code",
   "execution_count": null,
   "metadata": {},
   "outputs": [],
   "source": [
    "import os\n",
    "import sys\n",
    "import shutil\n",
    "import platform\n",
    "from io import StringIO\n",
    "from pathlib import Path\n",
    "from urllib import response\n",
    "\n",
    "from outlook_msg import Message\n",
    "import extract_msg\n",
    "import zipfile\n",
    "from pyunpack import Archive\n",
    "import py7zr\n",
    "\n",
    "import re\n",
    "from unidecode import unidecode\n",
    "from unicodedata import normalize\n",
    "from fuzzywuzzy import fuzz\n",
    "from fuzzywuzzy import process\n",
    "import PyPDF2\n",
    "\n",
    "import csv\n",
    "import json\n",
    "import pandas as pd\n",
    "\n",
    "import uuid\n",
    "import hashlib\n",
    "\n",
    "import locale\n",
    "import time, copy\n",
    "from pytz import timezone\n",
    "from datetime import datetime, timezone, timedelta\n",
    "\n",
    "import cv2\n",
    "import fitz  # Módulo PyMuPDF\n",
    "from PIL import Image\n",
    "from PIL import ImageFont\n",
    "from PIL import Image, ImageDraw\n",
    "from pdfminer.high_level import extract_pages\n",
    "from pdfminer.layout import LTTextContainer, LTChar\n",
    "import matplotlib.pyplot as plt\n",
    "from pdf2image import convert_from_path\n",
    "\n",
    "import pytesseract\n",
    "\n",
    "import numpy as np\n",
    "from PIL import Image\n",
    "import matplotlib.pyplot as plt\n",
    "from matplotlib.patches import Rectangle\n",
    "\n",
    "import logging\n",
    "\n",
    "# Modulos da solucao\n",
    "# import modules.extrai_pdf_pesquisavel as Extc\n",
    "import modules.cronometro as cron\n",
    "import modules.nova_extracao_pdf_pesquisavel as novaextra \n"
   ]
  },
  {
   "cell_type": "code",
   "execution_count": 2,
   "metadata": {},
   "outputs": [],
   "source": [
    "#### Config - E-mail\n",
    "# 1. Caminho do arquivo uma mensagem especifica\n",
    "msg_dir_path = 'pipeline_extracao_documentos/1_emails_documentos_recebidos/11_emails'\n",
    "\n",
    "# 2. Path para arquivos atachados compactados\n",
    "msg_attachment_zip = 'pipeline_extracao_documentos/1_emails_documentos_recebidos/13_attachments'\n",
    "\n",
    "\n",
    "#### Config - messages\n",
    "# 3. Caminho do arquivo uma mensagem especifica\n",
    "msg_outros_path = 'pipeline_extracao_documentos/1_emails_documentos_recebidos/12_messages'\n",
    "\n",
    "# 4. Path para arquivos recebidos manualmente\n",
    "arquivos_recebidos_path = 'pipeline_extracao_documentos/1_emails_documentos_recebidos/14_documentos_recebidos'\n",
    "\n",
    "\n",
    "####Config Processamento Pipeline\n",
    "\n",
    "# 5. Path para documentos para extracao\n",
    "documentos_extracao_path = \"pipeline_extracao_documentos/2_documentos_para_extracao/21_aguardando_processamento\"\n",
    "\n",
    "# 6. Path para gestao de imagens resized\n",
    "image_resized_path = \"pipeline_extracao_documentos/6_geral_administacao/temp_docs/images/processadas\"\n",
    "\n",
    "\n",
    "\n",
    "# 7. path para arquivos json\n",
    "json_path = \"pipeline_extracao_documentos/5_documentos_processados/jsons\"\n",
    "\n",
    "# 7. Path para DFs e CSVs exportados\n",
    "export_path = \"pipeline_extracao_documentos/6_geral_administacao/exports\"\n",
    "\n",
    "# 8. Path para lixeira\n",
    "root_garbage_path = \"pipeline_extracao_documentos/0_lixeira\"\n",
    "\n",
    "\n",
    "#### paths de objetos para criacao/gestao (dicionarios/datasets)\n",
    "cnae_dict_path = \"pipeline_extracao_documentos/6_geral_administacao/datasets/CNAE_X_ITEM_SERVICO_PREFEITURAS.xlsx\"\n",
    "\n",
    "\n",
    "# 12. poppler path\n",
    "poppler_path = \"/home/dani-boy/miniconda3/envs/tables-detr/bin\"\n",
    "\n",
    "# 13. path para config Tesseract\n",
    "#tessdata_dir_config = '--tessdata-dir \"/home/dani-boy/miniconda3/envs/tables-detr/share/tessdata/\" --user-patterns \"novo_modelo/modelos/user-patterns2.txt\" --dpi 600 --oem 3 --psm 6'\n",
    "\n",
    "#Modelo atual\n",
    "#tessdata_dir_config = '--tessdata-dir \"/home/dani-boy/miniconda3/envs/tables-detr/share/tessdata/\" --user-patterns \"novo_modelo/modelos/user-patterns2.txt\" --dpi 600 --oem 3 --psm 6'\n",
    "\n",
    "# definindo localizadcao para pt_BR\n",
    "locale.setlocale(locale.LC_TIME, \"pt_BR.utf8\")\n",
    "\n",
    "logging.basicConfig(\n",
    "    filename='processamentos/log_ocorrencias.log',\n",
    "    level=logging.INFO, \n",
    "    format='%(asctime)s - %(levelname)s - %(message)s', \n",
    "    datefmt='%d/%m/%Y %H:%M:%S'\n",
    ")\n",
    "\n",
    "logging.info(\"kernel reiniciado\")"
   ]
  },
  {
   "cell_type": "markdown",
   "metadata": {},
   "source": [
    "### <mark> <b>2.3.1</b> Conferencia do Processamento </mark> "
   ]
  },
  {
   "cell_type": "code",
   "execution_count": null,
   "metadata": {},
   "outputs": [],
   "source": [
    "# Ajuste a largura máxima das colunas para um valor específico (por exemplo, 100 caracteres)\n",
    "pd.set_option('display.max_colwidth', 200)\n",
    "\n",
    "\n",
    "# Criando o subset para analise\n",
    "df_conf = df[['seq', 'original_file_name', 'file_path']]\n",
    "df_conf"
   ]
  },
  {
   "cell_type": "code",
   "execution_count": null,
   "metadata": {},
   "outputs": [],
   "source": [
    "df['action_item'] = pd.Categorical(df['action_item'], categories=ordem_action_item, ordered=True)"
   ]
  },
  {
   "cell_type": "code",
   "execution_count": null,
   "metadata": {},
   "outputs": [],
   "source": [
    "# Ajuste a largura da coluna 'sua_coluna' para 50 caracteres\n",
    "df_conf['file_path'].astype(str).str.ljust(100), inplace=True)"
   ]
  },
  {
   "cell_type": "code",
   "execution_count": null,
   "metadata": {},
   "outputs": [],
   "source": [
    "# Parte3 - Dados Tomador - OK\n",
    "df_conf3 = df[['t_cpf_cnpj_com_mascara', 't_cpf_cnpj_sem_mascara','t_telefone', 't_inscricao_municipal', 't_razao_social','t_endereco','t_email', 'discriminacao_servicos', 'pdf_pesquisavel']] #\n",
    "df_conf3"
   ]
  },
  {
   "cell_type": "code",
   "execution_count": null,
   "metadata": {},
   "outputs": [],
   "source": [
    "# Parte 4- Outros itens\n",
    "df_conf4 = df[['seq', 'original_file_name', 'pdf_pesquisavel', 'discriminacao_servicos', 'valor_total_nota', 'cnae', 'item_lista_servicos']] #\n",
    "df_conf4"
   ]
  },
  {
   "cell_type": "code",
   "execution_count": null,
   "metadata": {},
   "outputs": [],
   "source": [
    "'prefeitura', 'pdf_pesquisavel', 'image_np'"
   ]
  },
  {
   "cell_type": "code",
   "execution_count": null,
   "metadata": {},
   "outputs": [],
   "source": [
    "df.to_excel('teste2.xlsx')\n",
    "# IMPORTANTE, saber o tipo da coluna\n",
    "print(df['status_documento'].dtype)"
   ]
  },
  {
   "cell_type": "code",
   "execution_count": null,
   "metadata": {},
   "outputs": [],
   "source": [
    "df_root_pipe.head(50)"
   ]
  },
  {
   "cell_type": "code",
   "execution_count": null,
   "metadata": {},
   "outputs": [],
   "source": [
    "df.set_index('document_unique_id', inplace=True)"
   ]
  },
  {
   "cell_type": "code",
   "execution_count": null,
   "metadata": {},
   "outputs": [],
   "source": [
    "# 1. XXX Volto novamente o indice do DF\n",
    "df_conferencia.set_index('document_unique_id', inplace=True)"
   ]
  },
  {
   "cell_type": "code",
   "execution_count": null,
   "metadata": {},
   "outputs": [],
   "source": [
    "# 10. XXX Salvo em Excel (pode ser feito durante fases)\n",
    "df_conferencia.to_excel(\"processamento_mage_1.xlsx\", index=True)"
   ]
  },
  {
   "cell_type": "code",
   "execution_count": null,
   "metadata": {},
   "outputs": [],
   "source": [
    "# 0. XXX SE deseja importar o DF df_analise_pipe\n",
    "\n",
    "df_conf_path = \"processamento_mage_1.xlsx\"\n",
    "\n",
    "\n",
    "#Le a planilha e cria df_documento_recebido\n",
    "df_conferencia = pd.read_excel(df_conf_path)"
   ]
  },
  {
   "cell_type": "code",
   "execution_count": null,
   "metadata": {},
   "outputs": [],
   "source": [
    "df_processamento = pd.concat([df_conf, df_conf2, df_conf3, df_conf4,], ignore_index=False)"
   ]
  },
  {
   "cell_type": "code",
   "execution_count": null,
   "metadata": {},
   "outputs": [],
   "source": [
    "# XXX Criando uma nova coluna no DF\n",
    "df_conferencia.insert(loc=50, column='original_file_name', value=df_conferencia['file_path'].apply(lambda x: os.path.basename(x)))"
   ]
  },
  {
   "cell_type": "code",
   "execution_count": null,
   "metadata": {},
   "outputs": [],
   "source": [
    "# XXX Criando uma nova coluna no DF\n",
    "df_conferencia.insert(loc=50, column='original_file_name', value=df_conferencia['file_path'].apply(lambda x: os.path.basename(x)))\n",
    "\n",
    "df['coluna_cnae'] = df['coluna_cnae'].apply(lambda x: x.strip() if isinstance(x, str) else x)"
   ]
  },
  {
   "cell_type": "code",
   "execution_count": null,
   "metadata": {},
   "outputs": [],
   "source": [
    "# 10. XXX Salvo em Excel (pode ser feito durante fases)\n",
    "df_root_pipe.to_excel(\"df_analise_pipe_b21.xlsx\", index=True)"
   ]
  },
  {
   "cell_type": "code",
   "execution_count": null,
   "metadata": {},
   "outputs": [],
   "source": [
    "# Ajuste a largura máxima das colunas para um valor específico (por exemplo, 100 caracteres)\n",
    "pd.set_option('display.max_colwidth', 100)"
   ]
  },
  {
   "cell_type": "code",
   "execution_count": null,
   "metadata": {},
   "outputs": [],
   "source": [
    "# Ajuste a largura da coluna 'sua_coluna' para 50 caracteres\n",
    "df_conf['cabecalho'] = df_conf['cabecalho'].astype(str).str.ljust(100)"
   ]
  },
  {
   "cell_type": "markdown",
   "metadata": {},
   "source": [
    "### <mark> <b>2.3.2</b> ExportaÇao do Json </mark>"
   ]
  },
  {
   "cell_type": "code",
   "execution_count": null,
   "metadata": {},
   "outputs": [],
   "source": [
    "df_conf_avalida_batch_21['numero_nota_fiscal'] = df_conf_avalida_batch_21['numero_nota_fiscal'].astype(int)"
   ]
  },
  {
   "cell_type": "code",
   "execution_count": 55,
   "metadata": {},
   "outputs": [],
   "source": [
    "# 1 XXX. Leio a planilha de conferencia avalidada\n",
    "conf_export_path = \"processamentos/df_conf_export_batch_22_avaliada_V0.xlsx\"\n",
    "\n",
    "\n",
    "#Le a planilha e cria do DF\n",
    "df_conf_validada = pd.read_excel(conf_export_path)"
   ]
  },
  {
   "cell_type": "code",
   "execution_count": 56,
   "metadata": {},
   "outputs": [],
   "source": [
    "# 2. XXX Volto novamente o indice do DF\n",
    "df_conf_validada.set_index('document_unique_id', inplace=True)"
   ]
  },
  {
   "cell_type": "code",
   "execution_count": null,
   "metadata": {},
   "outputs": [],
   "source": [
    "df_conf_validada.columns"
   ]
  },
  {
   "cell_type": "code",
   "execution_count": null,
   "metadata": {},
   "outputs": [],
   "source": [
    "df_conferencia_colunas = df_conf_validada[['batch', 'parent_file', 'municipio', 'numero_nota_fiscal', 'codigo_verificacao', 'competencia', 'dt_hr_emissao', 'prefeitura', 'p_cpf_cnpj_com_mascara', 'p_cpf_cnpj_sem_mascara','p_telefone', 'p_inscricao_estadual', 'p_inscricao_municipal', 'p_razao_social', 'p_nome_fantasia','p_endereco','p_email', 't_cpf_cnpj_com_mascara', 't_cpf_cnpj_sem_mascara','t_telefone', 't_inscricao_municipal', 't_razao_social','t_endereco','t_email', 'discriminacao_servicos', 'valor_total_nota', 'cnae', 'item_lista_servicos','valor_servicos', 'valor_deducao', 'desc_incond', 'base_calculo', 'aliquota', 'valor_iss', 'valor_iss_retido', 'desc_cond', 'valor_pis', 'valor_cofins', 'valor_ir', 'valor_inss', 'valor_csll', 'outras_retencoes', 'valor_liquido', 'exigibilidade_iss', 'regime_tributacao', 'simples_nacional', 'issqn_retido', 'local_pretacao_servico', 'local_incidencia', 'dados_complementares', 'observacao','de_para_pm', 'batch', 'model','directory','file_path']]\n",
    "df_conferencia_colunas"
   ]
  },
  {
   "cell_type": "code",
   "execution_count": 70,
   "metadata": {},
   "outputs": [],
   "source": [
    "batch_name = 'batch_22'\n",
    "de_para_pm = 'PM_SAO'\n",
    "arquivo_zip = \"SAO PEDRO DA ALDEIA_PDF_25292023_1443.zip\"\n",
    "nome_formado_json = batch_name +\".json\"\n",
    "municipio = 'SAO PEDRO DA ALDEIA'\n",
    "data_processamento = cron.timenow_pt_BR()"
   ]
  },
  {
   "cell_type": "code",
   "execution_count": 71,
   "metadata": {},
   "outputs": [],
   "source": [
    "titulo = (f'Processamento {batch_name} - {de_para_pm} - data:{data_processamento}')"
   ]
  },
  {
   "cell_type": "code",
   "execution_count": 72,
   "metadata": {},
   "outputs": [
    {
     "name": "stdout",
     "output_type": "stream",
     "text": [
      "As informações foram salvas em pipeline_extracao_documentos/5_documentos_processados/jsons/batch_22.json\n"
     ]
    }
   ],
   "source": [
    "# Lista para armazenar os dicionários\n",
    "dados_json = {}\n",
    "\n",
    "# Iterar sobre cada linha no DataFrame\n",
    "for index, row in df_conf_validada.iterrows():\n",
    "    # dados_df e o dicionario para armazenar os dados da nota fiscal atual\n",
    "    #diretorio = str(row['directory'])\n",
    "    dados_nf = {\n",
    "            \"dados_NF_PDF\": {\n",
    "                                \"data_cabecalho\": {\n",
    "                                    \"secao\": \"1 - CABECALHO\",\n",
    "                                    \"nome_prefeitura\": row['prefeitura'],\n",
    "                                    \"numero_nota_fiscal\": row['numero_nota_fiscal'],\n",
    "                                    \"competencia\": row['competencia'],\n",
    "                                    \"dt_hr_emissoa\": row['dt_hr_emissao'],\n",
    "                                    \"codigo_verificacao\": row['codigo_verificacao']\n",
    "                                },\n",
    "                                \"data_prestador\": {\n",
    "                                    \"secao\": \"2. PRESTADOR DE SERVIÇO\",\n",
    "                                    \"cpf_cnpj_com_mascara\": row['p_cpf_cnpj_com_mascara'],\n",
    "                                    \"cpf_cnpj_sem_mascara\": row['p_cpf_cnpj_sem_mascara'],\n",
    "                                    \"inscricao_municipal\": row['p_inscricao_municipal'],\n",
    "                                    \"inscricao_estadual\": row['p_inscricao_estadual'],\n",
    "                                    \"telefone\": row['p_telefone'],\n",
    "                                    \"razao_social\": row['p_razao_social'],\n",
    "                                    \"nome_fantasia\": row['p_nome_fantasia'],\n",
    "                                    \"endereco\": row['p_endereco'],\n",
    "                                    \"email\": row['p_email']\n",
    "                                },\n",
    "                                \"data_tomador\": {\n",
    "                                    \"secao\": \"3. TOMADOR DE SERVIÇO\",\n",
    "                                    \"cpf_cnpj_com_mascara\": row['t_cpf_cnpj_com_mascara'],\n",
    "                                    \"cpf_cnpj_sem_mascara\": row['t_cpf_cnpj_sem_mascara'],\n",
    "                                    \"rg\": row['t_rg'],\n",
    "                                    \"inscricao_municipal\": row['t_inscricao_municipal'],\n",
    "                                    \"inscricao_estadual\": row['t_inscricao_estadual'],\n",
    "                                    \"telefone\": row['t_telefone'],\n",
    "                                    \"razao_social\": row['t_razao_social'],\n",
    "                                    \"endereco\": row['t_endereco'],\n",
    "                                    \"email\": row['t_email']\n",
    "                                },\n",
    "                                \"data_servico\": {\n",
    "                                    \"secao\": \"4. DESCRIMINACAO DOS SERVIÇOS\",\n",
    "                                    \"discriminacao_servicos\": row['discriminacao_servicos']\n",
    "                                },\n",
    "                                \"data_valor_total\": {\n",
    "                                    \"secao\": \"5. VALOR TOTAL\",\n",
    "                                    \"valor_total_nota\": row['valor_total_nota']\n",
    "                                },\n",
    "                                \"data_CNAE\": {\n",
    "                                    \"secao\": \"6. CNAE e Item da Lista de Serviços\",\n",
    "                                    \"cnae\": row['cnae'],\n",
    "                                    \"item_lista_servicos\": row['item_lista_servicos']\n",
    "                                },\n",
    "                                \"data_valores\": {\n",
    "                                    \"secao\": \"7. VALORES E IMPOSTOS\",\n",
    "                                    \"valor_servicos\": row['valor_servicos'],\n",
    "                                    \"valor_deducao\": row['valor_deducao'],\n",
    "                                    \"desc_incond\" : row['desc_incond'],\n",
    "                                    \"base_calculo\": row['base_calculo'],\n",
    "                                    \"aliquota\": row['aliquota'],\n",
    "                                    \"valor_iss\": row['valor_iss'],\n",
    "                                    \"valor_iss_retido\": row['valor_iss_retido'],\n",
    "                                    \"desc_cond\": row['desc_cond'],\n",
    "                                    \"valor_pis\": row['valor_pis'],\n",
    "                                    \"valor_cofins\": row['valor_cofins'],\n",
    "                                    \"valor_ir\": row['valor_ir'],\n",
    "                                    \"valor_inss\": row['valor_inss'],\n",
    "                                    \"valor_csll\": row['valor_csll'],\n",
    "                                    \"outras_retencoes\": row['outras_retencoes'],\n",
    "                                    \"valor_liquido\": row['valor_liquido']\n",
    "                                },\n",
    "                                \"data_dados_complementares\": {\n",
    "                                    \"secao\": \"8. DADOS COMPLEMENTARES\",\n",
    "                                    \"dados_complementares\": row['dados_complementares']\n",
    "                                },\n",
    "                                \"data_outras_informacoes\": {\n",
    "                                    \"secao\": \"9. OUTRAS INFORMAÇOES / CRITICAS\",\n",
    "                                    \"exigibilidade_iss\": row['exigibilidade_iss'],\n",
    "                                    \"regime_tributacao\": row['regime_tributacao'],\n",
    "                                    \"simples_nacional\": row['simples_nacional'],\n",
    "                                    \"issqn_retido\": row['issqn_retido'],\n",
    "                                    \"local_prestacao_servico\": row['local_pretacao_servico'],\n",
    "                                    \"local_incidencia\": row['local_incidencia']\n",
    "                                },\n",
    "                                \"data_observacao\": {\n",
    "                                    \"secao\": \"10. OBSERVACOES\",\n",
    "                                    \"observacao\": row['observacao']\n",
    "                                },\n",
    "                            },\n",
    "                            \"batch\": row['batch'],    \n",
    "                            \"diretorio\": str(row['directory']),\n",
    "                            \"nome_arquivo\": row['original_file_name'],\n",
    "                            \"pdf_pesquisavel\": row['pdf_pesquisavel'],\n",
    "                            \"modelo\": row['model'],   \n",
    "                            \"document_unique_id\": index,\n",
    "                            \"parent_file\": row['parent_file'],\n",
    "                    }        \n",
    "            \n",
    "    \n",
    "    numero_nota_fiscal = str(row['numero_nota_fiscal'])\n",
    "    dados_json['titulo'] = titulo\n",
    "    dados_json['batch'] = batch_name\n",
    "    dados_json['municipio'] = municipio\n",
    "    # dados_json['data_processamento'] = cron.timenow_pt_BR()\n",
    "    dados_json[numero_nota_fiscal] = dados_nf\n",
    "\n",
    "# Salvando em formato JSON\n",
    "json_file_path = os.path.join(json_path, nome_formado_json)\n",
    "with open(json_file_path, 'w', encoding='utf-8') as f:\n",
    "    json.dump(dados_json, f, ensure_ascii=False, indent=4)\n",
    "    \n",
    "print(f\"As informações foram salvas em {json_file_path}\")  \n",
    "\n",
    "\n",
    "    "
   ]
  },
  {
   "cell_type": "markdown",
   "metadata": {},
   "source": [
    "### <mark> <b>2.3.3. 1</b> Desenho do Template Mathplotlib </mark>"
   ]
  },
  {
   "cell_type": "code",
   "execution_count": null,
   "metadata": {},
   "outputs": [],
   "source": [
    "import numpy as np\n",
    "from PIL import Image\n",
    "import matplotlib.pyplot as plt\n",
    "from matplotlib.patches import Rectangle\n"
   ]
  },
  {
   "cell_type": "code",
   "execution_count": null,
   "metadata": {},
   "outputs": [],
   "source": [
    "# Para testes, NAO JOGAR FORA\n",
    "\n",
    "file_path = \"pipeline_extracao_documentos/2_documentos_para_extracao/21_aguardando_processamento/Batch_21/SAO PEDRO DA ALDEIA_PDF_31282023_2257/11756286/NF CRJ PRIMEIRA QUINZENA DE JULHO DE 2023.pdf\"\n",
    "original_file_name = os.path.basename(file_path)\n",
    "\n",
    "model = \"SPA\"\n",
    "pdf_pesquisavel_map = False\n",
    "mapping_method = \"frame_&_sframe_field\" # significa que as coordenadas estao em frames e os valores dos campos nos sframe_fields\n",
    "context_mapping = \"data_cabecalho\""
   ]
  },
  {
   "cell_type": "code",
   "execution_count": null,
   "metadata": {},
   "outputs": [],
   "source": [
    "file_path = \"pipeline_extracao_documentos/6_geral_administacao/temp_docs/images/processadas/ampla.jpg\""
   ]
  },
  {
   "cell_type": "code",
   "execution_count": null,
   "metadata": {},
   "outputs": [],
   "source": [
    "image = Image.open(file_path).convert(\"RGB\")\n",
    "# Converta a imagem para um array NumPy\n",
    "image_np = np.array(image)"
   ]
  },
  {
   "cell_type": "code",
   "execution_count": null,
   "metadata": {},
   "outputs": [],
   "source": [
    "    # Determine as colunas de coordenadas a serem usadas\n",
    "    x0_col, y0_col, x1_col, y1_col = ('x0_p', 'y0_p', 'x1_p', 'y1_p') if is_searchable else ('x0', 'y0', 'x1', 'y1')"
   ]
  },
  {
   "cell_type": "code",
   "execution_count": null,
   "metadata": {},
   "outputs": [],
   "source": [
    "color_mapping = {\n",
    "    \"red\": (1, 0, 0),\n",
    "    \"purple\": (0.5, 0, 0.5),\n",
    "    \"orange\": (1, 0.647, 0),\n",
    "    \"green\": (0, 0.5, 0.196),\n",
    "    \"blue\": (0, 0, 1),\n",
    "    \"yellow\": (1, 1, 0),\n",
    "}\n",
    "\n",
    "\n",
    "def draw_boxes(image_np, df, modelo, draw_types=None):\n",
    "    plt.figure(figsize=(25, 25))\n",
    "    plt.imshow(image_np)\n",
    "    plt.axis('off')\n",
    "    \n",
    "    # Filtrar baseado no modelo e nos tipos de \"boxes\" a serem desenhados\n",
    "    filtered_df = df[df['model'] == modelo]\n",
    "    if draw_types:\n",
    "        filtered_df = filtered_df[filtered_df['type'].isin(draw_types)]\n",
    "    \n",
    "    for index, row in filtered_df.iterrows():\n",
    "        x0, y0, x1, y1 = row['x0'], row['y0'], row['x1'], row['y1']\n",
    "        \n",
    "        color = color_mapping.get(row['color'], 'black')\n",
    "        \n",
    "        # Adicionando o retângulo\n",
    "        plt.gca().add_patch(Rectangle((x0, y0), x1-x0, y1-y0, linewidth=1, edgecolor=color, facecolor='none'))\n",
    "        \n",
    "        # Adicionando o rótulo, se existir\n",
    "        label = str(row['label']) if pd.notnull(row['label']) else None\n",
    "        if label:\n",
    "            plt.text(x0 + 10, y0 - 15, label, color=color, fontsize=10)\n",
    "            plt.text(x0 + 20, y0 + 55,(x0, y0, x1, y1), color='black', fontsize=7)\n",
    "\n",
    "    \n",
    "    plt.show()\n"
   ]
  },
  {
   "cell_type": "code",
   "execution_count": null,
   "metadata": {},
   "outputs": [],
   "source": [
    "nf_model_path = \"pipeline_extracao_documentos/6_geral_administacao/modelos/frames_nf_v11.xlsx\"\n",
    "\n",
    "\n",
    "#Le a planilha e cria do DF\n",
    "frames_nf_v4_df = pd.read_excel(nf_model_path)"
   ]
  },
  {
   "cell_type": "code",
   "execution_count": null,
   "metadata": {},
   "outputs": [],
   "source": [
    "draw_boxes(image_np, frames_nf_v4_df, 'SPA', draw_types=['boundaries', 'field_box'])"
   ]
  },
  {
   "cell_type": "code",
   "execution_count": null,
   "metadata": {},
   "outputs": [],
   "source": [
    "draw_boxes(image_np, frames_nf_v4_df, 'SPA', draw_types=['boundaries', 'frame', 'field_box'])"
   ]
  },
  {
   "cell_type": "code",
   "execution_count": null,
   "metadata": {},
   "outputs": [],
   "source": [
    "# Modelo de apresentaçao da imagem\n",
    "x0 = 0\n",
    "y0 = 0\n",
    "plt.figure(figsize=(25, 25))\n",
    "plt.imshow(imagem_gray_np)\n",
    "plt.axis('off')  # Desativa os eixos para uma visualização mais limpa\n",
    "plt.text(x0 + 1, y0 + 10,original_file_name, color='black', fontsize=20)\n",
    "#plt.text(original_file_name, color='black', fontsize=7)\n",
    "plt.show()"
   ]
  },
  {
   "cell_type": "code",
   "execution_count": null,
   "metadata": {},
   "outputs": [],
   "source": [
    "if mapping_method == \"frame_&_sframe_field\":\n",
    "    tipo_4_coordinates = \"frame\"\n",
    "    tipo_4_filter = \"sframe_field\"\n",
    "coordinates = get_coordinates_filter_by_context(pdf_pesquisavel_map, model, context_mapping, tipo_4_coordinates)\n",
    "x0, y0, x1, y1 = coordinates[0]"
   ]
  },
  {
   "cell_type": "code",
   "execution_count": null,
   "metadata": {},
   "outputs": [],
   "source": [
    "def filtrar_df(df, **kwargs):\n",
    "    query = \" & \".join(f\"{key} == @kwargs['{key}']\" for key in kwargs)\n",
    "    result = df.query(query)\n",
    "    return result\n",
    "\n",
    "# 11. Pesquiso Unique_ID por file\n",
    "def get_document_id_by_file(batch, file):\n",
    "    \n",
    "    result = filtrar_df(df_id_relations, Batch=batch, File=file)\n",
    "    document_unique_id = result['Unique_ID'].values[0]\n",
    "    \n",
    "    return document_unique_id"
   ]
  },
  {
   "cell_type": "code",
   "execution_count": null,
   "metadata": {},
   "outputs": [],
   "source": [
    "df_conf0.columns"
   ]
  },
  {
   "cell_type": "code",
   "execution_count": null,
   "metadata": {},
   "outputs": [],
   "source": [
    "df_conf0"
   ]
  },
  {
   "cell_type": "code",
   "execution_count": null,
   "metadata": {},
   "outputs": [],
   "source": [
    "original_file_name = \"Doria Marinho 0297 Raquel.pdf\""
   ]
  },
  {
   "cell_type": "code",
   "execution_count": null,
   "metadata": {},
   "outputs": [],
   "source": [
    "result = filtrar_df(df_conf0, original_file_name=original_file_name)"
   ]
  },
  {
   "cell_type": "code",
   "execution_count": null,
   "metadata": {},
   "outputs": [],
   "source": [
    "result"
   ]
  },
  {
   "cell_type": "code",
   "execution_count": null,
   "metadata": {},
   "outputs": [],
   "source": [
    "# Modelo de apresentaçao da imagem\n",
    "x0 = 0\n",
    "y0 = 0\n",
    "plt.figure(figsize=(25, 25))\n",
    "plt.imshow(result['image_np'].values[0])\n",
    "plt.axis('off')  # Desativa os eixos para uma visualização mais limpa\n",
    "plt.text(x0 + 1, y0 + 10,original_file_name, color='black', fontsize=20)\n",
    "#plt.text(original_file_name, color='black', fontsize=7)\n",
    "plt.show()"
   ]
  },
  {
   "cell_type": "code",
   "execution_count": null,
   "metadata": {},
   "outputs": [],
   "source": [
    "\n",
    "image_np = result['image_np'].values[0]"
   ]
  },
  {
   "cell_type": "code",
   "execution_count": null,
   "metadata": {},
   "outputs": [],
   "source": [
    "image_np"
   ]
  },
  {
   "cell_type": "code",
   "execution_count": null,
   "metadata": {},
   "outputs": [],
   "source": [
    "x0 = int(x0)\n",
    "y0 = int(y0)\n",
    "x1 = int(x1)    \n",
    "y1 = int(y1)"
   ]
  },
  {
   "cell_type": "code",
   "execution_count": null,
   "metadata": {},
   "outputs": [],
   "source": [
    "cropped_image_np = imagem_gray_np[y0:y1, x0:x1]"
   ]
  },
  {
   "cell_type": "code",
   "execution_count": null,
   "metadata": {},
   "outputs": [],
   "source": [
    "# Modelo de apresentaçao da imagem\n",
    "x0 = 0\n",
    "y0 = 0\n",
    "plt.figure(figsize=(5, 5))\n",
    "plt.imshow(cropped_image_np)\n",
    "plt.axis('off')  # Desativa os eixos para uma visualização mais limpa\n",
    "#plt.text(x0 + 1, y0 + 10,original_file_name, color='black', fontsize=20)\n",
    "#plt.text(original_file_name, color='black', fontsize=7)\n",
    "plt.show()"
   ]
  },
  {
   "cell_type": "code",
   "execution_count": null,
   "metadata": {},
   "outputs": [],
   "source": [
    "cropped_image_np"
   ]
  },
  {
   "cell_type": "code",
   "execution_count": null,
   "metadata": {},
   "outputs": [],
   "source": [
    "boxes = frames_nf_v4_df[frames_nf_v4_df['type'] == 'field_box']"
   ]
  },
  {
   "cell_type": "code",
   "execution_count": null,
   "metadata": {},
   "outputs": [],
   "source": [
    "boxes_info = {}\n",
    "i = 1\n",
    "for idx, row in boxes.iterrows():\n",
    "    x0 = int(row['x0'])\n",
    "    y0 = int(row['y0'])\n",
    "    x1 = int(row['x1'])\n",
    "    y1 = int(row['y1'])\n",
    "    cropped_image_np = imagem_gray_np[y0:y1, x0:x1]\n",
    "    \n",
    "    boxes_info[f'box_{i}'] = {\n",
    "        'coordinates': (x0, y0, x1, y1),\n",
    "        'image': cropped_image_np,\n",
    "        # ... qualquer outra informação que você deseja armazenar\n",
    "    }\n",
    "    i += 1\n"
   ]
  },
  {
   "cell_type": "code",
   "execution_count": null,
   "metadata": {},
   "outputs": [],
   "source": [
    "boxes_info['box_1']['coordinates']"
   ]
  },
  {
   "cell_type": "code",
   "execution_count": null,
   "metadata": {},
   "outputs": [],
   "source": [
    "boxes_info['box_1']['image']"
   ]
  },
  {
   "cell_type": "code",
   "execution_count": null,
   "metadata": {},
   "outputs": [],
   "source": [
    "for box in boxes_info:\n",
    "    x0, y0, x1, y1 = boxes_info[box]['coordinates']\n",
    "    image = boxes_info[box]['image']\n",
    "    # plt.figure(figsize=(25, 25))\n",
    "    plt.imshow(image)\n",
    "    plt.axis('off')  # Desativa os eixos para uma visualização mais limpa\n",
    "    plt.show()"
   ]
  },
  {
   "cell_type": "code",
   "execution_count": null,
   "metadata": {},
   "outputs": [],
   "source": [
    "i = 8\n",
    "\n",
    "x0 = 0\n",
    "y0 = 0\n",
    "plt.figure(figsize=(10, 10))\n",
    "plt.imshow(boxes_info[f'box_{i}']['image'])\n",
    "plt.text(x0 , y0,boxes_info[f'box_{i}']['coordinates'], color='green', fontsize=7)\n",
    "plt.axis('off')  # Desativa os eixos para uma visualização mais limpa\n",
    "plt.show()\n"
   ]
  },
  {
   "cell_type": "code",
   "execution_count": null,
   "metadata": {},
   "outputs": [],
   "source": [
    "# Inicialize um dicionário vazio para armazenar as informações dos \"boxes\"\n",
    "boxes_info = {}\n",
    "\n",
    "# Suponha que você está em um loop onde está processando vários \"boxes\"\n",
    "for i, box in enumerate(boxes):\n",
    "    # Obtenha as coordenadas do \"box\"\n",
    "    x0, y0, x1, y1 = coordinates[0] \n",
    "    # Corte a área do \"box\" da imagem original\n",
    "    cropped_image = imagem_gray_np[y0:y1, x0:x1]\n",
    "    \n",
    "    # Armazene as informações do \"box\" no dicionário\n",
    "    boxes_info[f'box_{i}'] = {\n",
    "        'coordinates': (x0, y0, x1, y1),\n",
    "        'image': cropped_image,\n",
    "        # ... qualquer outra informação que você deseja armazenar\n",
    "    }\n",
    "\n",
    "# Agora, `boxes_info` contém informações detalhadas sobre cada \"box\"\n"
   ]
  },
  {
   "cell_type": "code",
   "execution_count": null,
   "metadata": {},
   "outputs": [],
   "source": [
    "import cv2\n",
    "import numpy as np\n",
    "\n",
    "# Variáveis para armazenar as coordenadas do retângulo\n",
    "startX, startY, endX, endY = -1, -1, -1, -1\n",
    "drawing = False\n",
    "\n",
    "def draw_rectangle(event, x, y, flags, param):\n",
    "    global startX, startY, endX, endY, drawing\n",
    "\n",
    "    # Se o botão esquerdo do mouse for pressionado, comece a desenhar o retângulo\n",
    "    if event == cv2.EVENT_LBUTTONDOWN:\n",
    "        drawing = True\n",
    "        startX, startY = x, y\n",
    "\n",
    "    # Se o botão esquerdo do mouse for solto, finalize o retângulo\n",
    "    elif event == cv2.EVENT_LBUTTONUP:\n",
    "        drawing = False\n",
    "        endX, endY = x, y\n",
    "        cv2.rectangle(img, (startX, startY), (endX, endY), (0, 255, 0), 2)\n",
    "\n",
    "# Carregue sua imagem como um array NumPy\n",
    "img = np.copy(image_np) # Substitua 'image_np' pelo seu array NumPy da imagem\n",
    "\n",
    "# Crie uma janela e atribua a função de callback\n",
    "cv2.namedWindow(\"Image\")\n",
    "cv2.setMouseCallback(\"Image\", draw_rectangle)\n",
    "\n",
    "while True:\n",
    "    # Exibe a imagem\n",
    "    cv2.imshow(\"Image\", img)\n",
    "    \n",
    "    # Se a tecla 'q' for pressionada, saia do loop\n",
    "    if cv2.waitKey(1) & 0xFF == ord('q'):\n",
    "        break\n",
    "\n",
    "# Fecha todas as janelas OpenCV\n",
    "cv2.destroyAllWindows()\n"
   ]
  },
  {
   "cell_type": "markdown",
   "metadata": {},
   "source": [
    "<h3><mark> <b>2.3.3.0</b> Ajustando medidas</mark></h3>"
   ]
  },
  {
   "cell_type": "markdown",
   "metadata": {},
   "source": [
    "<mark> IMPORTANTE: </mark> processo de ajustar coordenadas no frames_nf_v4_df e depois salvalas "
   ]
  },
  {
   "cell_type": "code",
   "execution_count": null,
   "metadata": {},
   "outputs": [],
   "source": [
    "file_path = \"pipeline_extracao_documentos/0_arquivos_teste_pipeline/pdf_pesquisavel/Mage/NF 6235.pdf\""
   ]
  },
  {
   "cell_type": "code",
   "execution_count": null,
   "metadata": {},
   "outputs": [],
   "source": [
    "file_path = \"pipeline_extracao_documentos/2_documentos_para_extracao/21_aguardando_processamento/Batch_20/fwdnotasfaltantesnosistemadeemissoim20734_106187/Doria Marinho 0301 Ultrascan.pdf\"\n",
    "original_file_name = os.path.basename(file_path)\n",
    "\n",
    "section = \"9. OUTRAS INFORMAÇOES / CRITICAS\"\n",
    "tipo = \"field_box\"\n",
    "father_value = \"5_frame_inf_criticas\"\n",
    "model_map = \"MAGE\"\n",
    "de_para_pm = \"PM_MAGE\""
   ]
  },
  {
   "cell_type": "code",
   "execution_count": null,
   "metadata": {},
   "outputs": [],
   "source": [
    "### Foi copiada - somente para referencia\n",
    "def convert_resize_gray(original_file_name, file_path, image_resized_path):\n",
    "\n",
    "    name_image = conv_filename_no_ext(original_file_name)\n",
    "    image_resized_name = os.path.join(f'{image_resized_path}/{str(name_image)}.jpg')\n",
    "    pages = convert_from_path(file_path, 500, poppler_path=poppler_path)\n",
    "    # 4. Verifica se ha mais que uma pagina\n",
    "    if len(pages) > 1:\n",
    "        raise ValueError(\"Erro, documento com mais de uma página\")\n",
    "    else:\n",
    "        # 5. Iterar pelas páginas e redimensionar\n",
    "        resized_pages = []\n",
    "        for page in pages:\n",
    "            resized_page = page.resize((4134, 5846))\n",
    "            resized_pages.append(resized_page)\n",
    "            \n",
    "    imagem_gray = resized_pages[0].convert('L')\n",
    "    imagem_gray.save(image_resized_name, 'JPEG')\n",
    "\n",
    "    return  imagem_gray, image_resized_name"
   ]
  },
  {
   "cell_type": "code",
   "execution_count": null,
   "metadata": {},
   "outputs": [],
   "source": [
    "# Nota de mage que nao bateu as coordenadas\n",
    "file_path = \"pipeline_extracao_documentos/0_arquivos_teste_pipeline/pdf_pesquisavel/Mage_fora_padrao/1128 desmonte em 01-08-23.pdf\""
   ]
  },
  {
   "cell_type": "code",
   "execution_count": null,
   "metadata": {},
   "outputs": [],
   "source": [
    "# Processo para acertar as coordenadas de frames_nf_v4_df\n",
    "\n",
    "novo_x0 = 700\n",
    "novo_y0 = 3895\n",
    "novo_x1 = 3900\n",
    "novo_y1 = 4500\n",
    "\n",
    "frames_nf_v4_df.at[indice_original, 'x0'] = novo_x0\n",
    "frames_nf_v4_df.at[indice_original, 'y0'] = novo_y0\n",
    "frames_nf_v4_df.at[indice_original, 'x1'] = novo_x1\n",
    "frames_nf_v4_df.at[indice_original, 'y1'] = novo_y1"
   ]
  },
  {
   "cell_type": "code",
   "execution_count": null,
   "metadata": {},
   "outputs": [],
   "source": [
    "# Para pesquisar as colunas que quero\n",
    "frames_nf_v4_df[['model', 'section_json', 'label', 'reference', 'x0', 'y0', 'x1', 'y1']].head(49)"
   ]
  },
  {
   "cell_type": "code",
   "execution_count": null,
   "metadata": {},
   "outputs": [],
   "source": [
    "frames_nf_v4_df"
   ]
  },
  {
   "cell_type": "code",
   "execution_count": null,
   "metadata": {},
   "outputs": [],
   "source": [
    "# Path para leitura do arquivo excel do DF frames_nf_v4_df_path  (ATUALIZAR DOCUMENTO)\n",
    "frames_nf_v4_df_path = \"pipeline_extracao_documentos/6_geral_administacao/modelos/frames_nf_v10.xlsx\"\n",
    "\n",
    "#Le a planilha e cria do DF\n",
    "frames_nf_v4_df = pd.read_excel(frames_nf_v4_df_path)"
   ]
  },
  {
   "cell_type": "code",
   "execution_count": null,
   "metadata": {},
   "outputs": [],
   "source": [
    "# Path para leitura do arquivo excel do DF frames_nf_v4_df_path  (ATUALIZAR DOCUMENTO)\n",
    "frames_nf_v4_df_path = \"pipeline_extracao_documentos/6_geral_administacao/modelos/frames_nf_v10.xlsx\"\n",
    "\n",
    "\n",
    "# Salvando o DF para excel\n",
    "frames_nf_v4_df.to_excel(frames_nf_v4_df_path, index=False)"
   ]
  },
  {
   "cell_type": "code",
   "execution_count": null,
   "metadata": {},
   "outputs": [],
   "source": [
    "# Path para salvar o arquivo excel do DF frames_nf_v4_df_path  (ATUALIZAR DOCUMENTO)\n",
    "frames_nf_v4_df_path = \"pipeline_extracao_documentos/6_geral_administacao/modelos/frames_nf_v10.xlsx\"\n",
    "\n",
    "# Salvando o DF para excel\n",
    "frames_nf_v4_df.to_excel(frames_nf_v4_df_path, index=False)"
   ]
  },
  {
   "cell_type": "code",
   "execution_count": null,
   "metadata": {},
   "outputs": [],
   "source": [
    "# Listando 59 linhas do dataframe\n",
    "frames_nf_v4_df.head(49)"
   ]
  },
  {
   "cell_type": "code",
   "execution_count": null,
   "metadata": {},
   "outputs": [],
   "source": [
    "# Encontrar o índice da linha no DataFrame original\n",
    "indice_original = row_frame.index[0]\n",
    "\n",
    "# Atualizando o valor diretamente no DataFrame original\n",
    "novo_valor_x0 = ...  # Substitua com o novo valor\n",
    "frames_nf_v4_df.at[indice_original, 'x0'] = novo_valor_x0\n",
    "\n",
    "# Verificando se o valor foi atualizado no DataFrame original\n",
    "print(frames_nf_v4_df.at[indice_original, 'x0'])\n"
   ]
  },
  {
   "cell_type": "code",
   "execution_count": null,
   "metadata": {},
   "outputs": [],
   "source": [
    "image_path = \"imagem_gray.jpg\""
   ]
  },
  {
   "cell_type": "code",
   "execution_count": null,
   "metadata": {},
   "outputs": [],
   "source": [
    "document_info = frames_nf_v4_df[frames_nf_v4_df['type'] == 'document'].iloc[0]\n",
    "boundaries_info = frames_nf_v4_df[frames_nf_v4_df['type'] == 'boundaries']\n",
    "sections_info = frames_nf_v4_df[frames_nf_v4_df['type'] == 'section']\n",
    "frames_info = frames_nf_v4_df[frames_nf_v4_df['type'] == 'frame']\n",
    "sframe_fields_info = frames_nf_v4_df[frames_nf_v4_df['type'] == 'sframe_field']\n",
    "field_boxes_info = frames_nf_v4_df[frames_nf_v4_df['type'] == 'field_box']"
   ]
  },
  {
   "cell_type": "code",
   "execution_count": null,
   "metadata": {},
   "outputs": [],
   "source": [
    "frames_nf_v4_df[frames_nf_v4_df['type'] == 'document'].iloc[0]\n",
    "frames_nf_v4_df[frames_nf_v4_df['type'] == 'boundaries']\n",
    "frames_nf_v4_df[frames_nf_v4_df['type'] == 'section']\n",
    "frames_nf_v4_df[frames_nf_v4_df['type'] == 'frame']\n",
    "frames_nf_v4_df[frames_nf_v4_df['type'] == 'field_box']"
   ]
  },
  {
   "cell_type": "code",
   "execution_count": null,
   "metadata": {},
   "outputs": [],
   "source": [
    "field_boxes_info "
   ]
  },
  {
   "cell_type": "code",
   "execution_count": null,
   "metadata": {},
   "outputs": [],
   "source": [
    "frames_info"
   ]
  },
  {
   "cell_type": "code",
   "execution_count": null,
   "metadata": {},
   "outputs": [],
   "source": [
    "model = \"MAGE\"\n",
    "modelo = \"MAGE\""
   ]
  },
  {
   "cell_type": "code",
   "execution_count": null,
   "metadata": {},
   "outputs": [],
   "source": [
    "from PIL import Image\n",
    "image = Image.open(\"imagem_gray.jpg\")"
   ]
  },
  {
   "cell_type": "code",
   "execution_count": null,
   "metadata": {},
   "outputs": [],
   "source": [
    "document_unique_id = result['Unique_ID'].values[0]"
   ]
  },
  {
   "cell_type": "code",
   "execution_count": null,
   "metadata": {},
   "outputs": [],
   "source": [
    "df['coluna_cnae'] = df['coluna_cnae'].apply(lambda x: x.strip() if isinstance(x, str) else x)\n"
   ]
  }
 ],
 "metadata": {
  "kernelspec": {
   "display_name": "tables-detr",
   "language": "python",
   "name": "python3"
  },
  "language_info": {
   "codemirror_mode": {
    "name": "ipython",
    "version": 3
   },
   "file_extension": ".py",
   "mimetype": "text/x-python",
   "name": "python",
   "nbconvert_exporter": "python",
   "pygments_lexer": "ipython3",
   "version": "3.10.12"
  },
  "orig_nbformat": 4
 },
 "nbformat": 4,
 "nbformat_minor": 2
}
